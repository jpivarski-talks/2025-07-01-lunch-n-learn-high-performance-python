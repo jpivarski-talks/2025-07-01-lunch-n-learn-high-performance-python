{
 "cells": [
  {
   "cell_type": "code",
   "execution_count": 1,
   "id": "d98da386-65fb-4b26-b46c-0a3cbecec795",
   "metadata": {
    "editable": true,
    "slideshow": {
     "slide_type": "skip"
    },
    "tags": []
   },
   "outputs": [
    {
     "data": {
      "text/html": [
       "\n",
       "<style>\n",
       ".jp-MarkdownOutput {\n",
       "    font-size: 2.5em !important;\n",
       "}\n",
       ".jp-MarkdownOutput table {\n",
       "    font-size: 1em !important;\n",
       "}\n",
       ".jp-OutputArea-output pre {\n",
       "    font-size: 2em !important;\n",
       "}\n",
       ".cm-content {\n",
       "    font-size: 2em !important;\n",
       "}\n",
       ".page-id-xx, html {\n",
       "    scrollbar-width: none; /* FF */\n",
       "}\n",
       "::-webkit-scrollbar {\n",
       "    width: 0px; /* Chrome & Edge */\n",
       "}\n",
       ".jp-Notebook.jp-mod-commandMode .jp-Cell.jp-mod-selected {\n",
       "    background: none;\n",
       "}\n",
       "</style>\n"
      ],
      "text/plain": [
       "<IPython.core.display.HTML object>"
      ]
     },
     "metadata": {},
     "output_type": "display_data"
    }
   ],
   "source": [
    "%%html\n",
    "\n",
    "<style>\n",
    ".jp-MarkdownOutput {\n",
    "    font-size: 2.5em !important;\n",
    "}\n",
    ".jp-MarkdownOutput table {\n",
    "    font-size: 1em !important;\n",
    "}\n",
    ".jp-OutputArea-output pre {\n",
    "    font-size: 2em !important;\n",
    "}\n",
    ".cm-content {\n",
    "    font-size: 2em !important;\n",
    "}\n",
    ".page-id-xx, html {\n",
    "    scrollbar-width: none; /* FF */\n",
    "}\n",
    "::-webkit-scrollbar {\n",
    "    width: 0px; /* Chrome & Edge */\n",
    "}\n",
    ".jp-Notebook.jp-mod-commandMode .jp-Cell.jp-mod-selected {\n",
    "    background: none;\n",
    "}\n",
    "</style>"
   ]
  },
  {
   "cell_type": "markdown",
   "id": "40a22c12-386b-4c8d-898d-aa31bfc5b876",
   "metadata": {
    "editable": true,
    "slideshow": {
     "slide_type": "slide"
    },
    "tags": []
   },
   "source": [
    "<img src=\"img/title.svg\" style=\"width: 90%; border: 1px solid black; margin: 3em auto;\">"
   ]
  },
  {
   "cell_type": "markdown",
   "id": "9229fcbe-35c9-4841-b01e-25822a850397",
   "metadata": {
    "editable": true,
    "slideshow": {
     "slide_type": "slide"
    },
    "tags": []
   },
   "source": [
    "## Outline"
   ]
  },
  {
   "cell_type": "markdown",
   "id": "d00d9e12-3040-46a2-83b4-d64ddc939225",
   "metadata": {
    "editable": true,
    "slideshow": {
     "slide_type": ""
    },
    "tags": []
   },
   "source": [
    "* Who wants high performance and why?\n",
    "* Understanding why Python is slow\n",
    "* Python escape hatches:\n",
    "  * NumPy\n",
    "  * Awkward Array\n",
    "  * JIT-compilation\n",
    "* Special topics:\n",
    "  * JIT-compilation for GPUs\n",
    "  * The Python garbage collector\n",
    "  * The Python GIL (Global Interpreter Lock)\n",
    "  * Memory-mapping\n",
    "* No conclusions: we'll stop when we run out of time"
   ]
  },
  {
   "cell_type": "markdown",
   "id": "0d61832b-0b8a-4d80-a02e-eb0c7c739432",
   "metadata": {
    "editable": true,
    "slideshow": {
     "slide_type": "slide"
    },
    "tags": []
   },
   "source": [
    "## Who wants high performace and why?"
   ]
  },
  {
   "cell_type": "markdown",
   "id": "43ca3542-dd44-4f81-91f0-794f241fa5e2",
   "metadata": {
    "editable": true,
    "slideshow": {
     "slide_type": "fragment"
    },
    "tags": []
   },
   "source": [
    "* \"I'm shepherding a computation that runs for months and 5% faster means 5% less electricity, operating costs, and $CO_2$.\""
   ]
  },
  {
   "cell_type": "markdown",
   "id": "1775fd3a-f33c-468b-8ac4-b42ae39746a5",
   "metadata": {
    "editable": true,
    "slideshow": {
     "slide_type": "fragment"
    },
    "tags": []
   },
   "source": [
    "* \"I'm building an interactive app, and if each user-initiated action completes in less than human reaction time (100 ms), the app will feel snappy.\""
   ]
  },
  {
   "cell_type": "markdown",
   "id": "346962ab-1ad4-44fc-b819-ce3e97153417",
   "metadata": {
    "editable": true,
    "slideshow": {
     "slide_type": "fragment"
    },
    "tags": []
   },
   "source": [
    "* \"I'm analyzing a large dataset, and if the computation completes over a lunch break instead of overnight, I'll be able to run it more often to do more in-depth investigations.\""
   ]
  },
  {
   "cell_type": "markdown",
   "id": "e38365e0-3e6d-485c-a523-79016b111d3c",
   "metadata": {
    "editable": true,
    "slideshow": {
     "slide_type": "fragment"
    },
    "tags": []
   },
   "source": [
    "* \"I'm trying to do &lt;anything at all&gt;, and I can't because I run out of RAM, open file handles, TTYs, ...\""
   ]
  },
  {
   "cell_type": "markdown",
   "id": "3894ab7a-5d9d-4c07-9181-3fdf09e40287",
   "metadata": {
    "editable": true,
    "slideshow": {
     "slide_type": "slide"
    },
    "tags": []
   },
   "source": [
    "This is me:\n",
    "\n",
    "* \"I'm analyzing a large dataset, and if the computation completes over a lunch break instead of overnight, I'll be able to run it more often to do more in-depth investigations.\"\n",
    "* \"I'm trying to do &lt;anything at all&gt;, and I can't because I run out of RAM, open file handles, TTYs, ...\""
   ]
  },
  {
   "cell_type": "markdown",
   "id": "398d4bf1-aec5-46ad-b722-33861f868ffb",
   "metadata": {
    "editable": true,
    "slideshow": {
     "slide_type": ""
    },
    "tags": []
   },
   "source": [
    "<br><br><br>"
   ]
  },
  {
   "cell_type": "markdown",
   "id": "de0a43d1-2f91-4c8e-abdc-bbd5b646bed6",
   "metadata": {
    "editable": true,
    "slideshow": {
     "slide_type": "fragment"
    },
    "tags": []
   },
   "source": [
    "Therefore, I usually only care about **speed** when it's an order of magnitude gain and **memory** when necessary."
   ]
  },
  {
   "cell_type": "markdown",
   "id": "835ed487-51fe-47a8-a37b-6d03967f60f0",
   "metadata": {
    "editable": true,
    "slideshow": {
     "slide_type": "slide"
    },
    "tags": []
   },
   "source": [
    "<img src=\"img/clock-rate-timeline-1.svg\" style=\"width: 90%; margin: 3em auto;\">"
   ]
  },
  {
   "cell_type": "markdown",
   "id": "c36bf7f6-7601-4240-94f5-294c43ed83ea",
   "metadata": {
    "editable": true,
    "slideshow": {
     "slide_type": "slide"
    },
    "tags": []
   },
   "source": [
    "<img src=\"img/clock-rate-timeline-2.svg\" style=\"width: 90%; margin: 3em auto;\">"
   ]
  },
  {
   "cell_type": "markdown",
   "id": "b12ded3d-b31b-4b31-a084-33ed7e6157db",
   "metadata": {
    "editable": true,
    "slideshow": {
     "slide_type": "slide"
    },
    "tags": []
   },
   "source": [
    "<img src=\"img/clock-rate-timeline-3.svg\" style=\"width: 90%; margin: 3em auto;\">"
   ]
  },
  {
   "cell_type": "markdown",
   "id": "946def58-effe-43ab-a161-7ba618d5e6d2",
   "metadata": {
    "editable": true,
    "slideshow": {
     "slide_type": "slide"
    },
    "tags": []
   },
   "source": [
    "<img src=\"img/clock-rate-timeline-4.svg\" style=\"width: 90%; margin: 3em auto;\">"
   ]
  },
  {
   "cell_type": "markdown",
   "id": "e0b81491-7a02-4206-a7a2-dc107e4e9001",
   "metadata": {
    "editable": true,
    "slideshow": {
     "slide_type": "slide"
    },
    "tags": []
   },
   "source": [
    "There are now only three ways to speed up code:"
   ]
  },
  {
   "cell_type": "markdown",
   "id": "5e1b2209-3f80-46ee-817e-36a0957e0696",
   "metadata": {
    "editable": true,
    "slideshow": {
     "slide_type": "fragment"
    },
    "tags": []
   },
   "source": [
    "1. parallel processing"
   ]
  },
  {
   "cell_type": "markdown",
   "id": "e444100b-7429-41c9-bb4f-dfaa11999772",
   "metadata": {
    "editable": true,
    "slideshow": {
     "slide_type": "fragment"
    },
    "tags": []
   },
   "source": [
    "2. fixing bloopers: what you thought it was doing is not what it's doing, or there's a faster method you just didn't know about"
   ]
  },
  {
   "cell_type": "markdown",
   "id": "0653cd80-a7d8-4962-81cd-fed622282f6e",
   "metadata": {
    "editable": true,
    "slideshow": {
     "slide_type": "fragment"
    },
    "tags": []
   },
   "source": [
    "3. turning off dynamic features that you don't need"
   ]
  },
  {
   "cell_type": "markdown",
   "id": "28adf047-564c-4d84-80c2-6dad7551cffc",
   "metadata": {
    "editable": true,
    "slideshow": {
     "slide_type": "slide"
    },
    "tags": []
   },
   "source": [
    "<img src=\"img/dynamic-features.svg\" style=\"width: 60%; margin: 3em auto;\">"
   ]
  },
  {
   "cell_type": "markdown",
   "id": "500983a8-b2b1-4c40-88e0-488d2713bf00",
   "metadata": {
    "editable": true,
    "slideshow": {
     "slide_type": "slide"
    },
    "tags": []
   },
   "source": [
    "\"Dynamic feature\":\n",
    "\n",
    "* decisions are made in the loop that scales with dataset size\n",
    "\n",
    "<br>\n",
    "\n",
    "\"that you don't need\":\n",
    "\n",
    "* information is known before starting that loop; it doesn't need to be re-derived"
   ]
  },
  {
   "cell_type": "markdown",
   "id": "368d713a-afa0-45ac-a244-146c4f0a7301",
   "metadata": {
    "editable": true,
    "slideshow": {
     "slide_type": "slide"
    },
    "tags": []
   },
   "source": [
    "Dynamic features are often built into the language"
   ]
  },
  {
   "cell_type": "markdown",
   "id": "12008bdb-5312-4e2d-b12c-4b0fd573593e",
   "metadata": {
    "editable": true,
    "slideshow": {
     "slide_type": ""
    },
    "tags": []
   },
   "source": [
    "| | dynamic allocation | reference count | garbage collector | runtime evaluation | virtual machine | type reflection | parallel scheduling |\n",
    "|:--|:--:|:--:|:--:|:--:|:--:|:--:|:--:|\n",
    "| Fortran77 | | | | | | | |\n",
    "| C | ✓ | | | | | | |\n",
    "| C++ | ✓ | `shared_ptr<T>` | | | | vtable | stdlib |\n",
    "| Rust | ✓ | `Rc<T>` | | | | vtable | ✓ |\n",
    "| Swift | ✓ | ✓ | | | | vtable | ✓ |\n",
    "| Julia | ✓ | | ✓ | ✓ | | ✓ | stdlib |\n",
    "| Go | ✓ | | ✓ | | | vtable | ✓ |\n",
    "| JVM | ✓ | | ✓ | | ✓ | ✓ | stdlib |\n",
    "| Lua | ✓ | | ✓ | ✓ | ✓ | ✓ | |\n",
    "| Python | ✓ | ✓ | ✓ | ✓ | ✓ | ✓ | stdlib |"
   ]
  },
  {
   "cell_type": "markdown",
   "id": "de90d9d4-b93a-41f8-8522-65cc3ee27d0b",
   "metadata": {
    "editable": true,
    "slideshow": {
     "slide_type": "slide"
    },
    "tags": []
   },
   "source": [
    "<img src=\"img/benchmark-games-2023.svg\" style=\"width: 80%; margin: 3em auto;\">"
   ]
  },
  {
   "cell_type": "markdown",
   "id": "fc1f62cd-2b9b-4a42-a33f-0d54572f840a",
   "metadata": {
    "editable": true,
    "slideshow": {
     "slide_type": "slide"
    },
    "tags": []
   },
   "source": [
    "## Understanding why Python is slow"
   ]
  },
  {
   "cell_type": "markdown",
   "id": "4195ce28-c158-4e7c-8247-43e76b239f00",
   "metadata": {
    "editable": true,
    "slideshow": {
     "slide_type": "slide"
    },
    "tags": []
   },
   "source": [
    "How do dynamic features slow down a calculation?"
   ]
  },
  {
   "cell_type": "markdown",
   "id": "2f7fa048-3bc3-4518-8615-ace89bd92fe4",
   "metadata": {
    "editable": true,
    "slideshow": {
     "slide_type": ""
    },
    "tags": []
   },
   "source": [
    "<br>"
   ]
  },
  {
   "cell_type": "code",
   "execution_count": 2,
   "id": "9aba30b6-5f5a-4f56-ad3b-a09f8c28696a",
   "metadata": {
    "editable": true,
    "slideshow": {
     "slide_type": ""
    },
    "tags": []
   },
   "outputs": [],
   "source": [
    "import numpy as np"
   ]
  },
  {
   "cell_type": "markdown",
   "id": "28895ed0-ba6c-488d-92c2-78f36f78e3b1",
   "metadata": {
    "editable": true,
    "slideshow": {
     "slide_type": ""
    },
    "tags": []
   },
   "source": [
    "<br>"
   ]
  },
  {
   "cell_type": "code",
   "execution_count": 3,
   "id": "e3fd5eca-62e3-4f92-978d-83b69d548f9f",
   "metadata": {
    "editable": true,
    "slideshow": {
     "slide_type": ""
    },
    "tags": []
   },
   "outputs": [
    {
     "data": {
      "text/plain": [
       "array([ 13,   0,  10, ..., -18,   0,  22], shape=(1000000,), dtype=int32)"
      ]
     },
     "execution_count": 3,
     "metadata": {},
     "output_type": "execute_result"
    }
   ],
   "source": [
    "million_integers = np.random.normal(0, 10, 1_000_000).astype(np.int32)\n",
    "million_integers"
   ]
  },
  {
   "cell_type": "markdown",
   "id": "a273ef1b-2a89-4a29-8597-c54e5a19c820",
   "metadata": {
    "editable": true,
    "slideshow": {
     "slide_type": ""
    },
    "tags": []
   },
   "source": [
    "<br>"
   ]
  },
  {
   "cell_type": "code",
   "execution_count": 4,
   "id": "d098f70f-36a5-48b7-8cc0-e504559f012d",
   "metadata": {
    "editable": true,
    "slideshow": {
     "slide_type": ""
    },
    "tags": []
   },
   "outputs": [],
   "source": [
    "def addthem_python(data):\n",
    "    out = 0\n",
    "    for x in data:\n",
    "        out += x\n",
    "    return out"
   ]
  },
  {
   "cell_type": "code",
   "execution_count": 5,
   "id": "b5e3ed8d-d81c-42f9-b108-b6baa6c4feb2",
   "metadata": {
    "editable": true,
    "slideshow": {
     "slide_type": "slide"
    },
    "tags": []
   },
   "outputs": [
    {
     "name": "stdout",
     "output_type": "stream",
     "text": [
      "Writing addthem.c\n"
     ]
    }
   ],
   "source": [
    "%%writefile addthem.c\n",
    "\n",
    "int run(int* data) {\n",
    "    int out = 0;\n",
    "    for (int i = 0;  i < 1000000;  i++) {\n",
    "        out += data[i];\n",
    "    }\n",
    "    return out;\n",
    "}"
   ]
  },
  {
   "cell_type": "markdown",
   "id": "5d3f21f2-b73a-49e8-84cd-0f2f143c8f1f",
   "metadata": {
    "editable": true,
    "slideshow": {
     "slide_type": ""
    },
    "tags": []
   },
   "source": [
    "<br>"
   ]
  },
  {
   "cell_type": "code",
   "execution_count": 6,
   "id": "c8568ba2-59cc-402f-bc04-18ff24236db4",
   "metadata": {
    "editable": true,
    "slideshow": {
     "slide_type": ""
    },
    "tags": []
   },
   "outputs": [],
   "source": [
    "!cc -O0 -shared addthem.c -o libaddthem_attempt1.so"
   ]
  },
  {
   "cell_type": "markdown",
   "id": "23da4086-dfc3-4d00-b7be-5813c4775b3f",
   "metadata": {
    "editable": true,
    "slideshow": {
     "slide_type": ""
    },
    "tags": []
   },
   "source": [
    "<br>"
   ]
  },
  {
   "cell_type": "code",
   "execution_count": 7,
   "id": "8b39f7e7-359d-4719-b7b6-3c59336b03bc",
   "metadata": {
    "editable": true,
    "slideshow": {
     "slide_type": ""
    },
    "tags": []
   },
   "outputs": [],
   "source": [
    "import ctypes"
   ]
  },
  {
   "cell_type": "markdown",
   "id": "aa7c3ca0-72fb-4ec9-8523-90bcbc39d06b",
   "metadata": {
    "editable": true,
    "slideshow": {
     "slide_type": ""
    },
    "tags": []
   },
   "source": [
    "<br>"
   ]
  },
  {
   "cell_type": "code",
   "execution_count": 8,
   "id": "1825cf78-5da2-46a4-ad17-27b2323d3fe2",
   "metadata": {
    "editable": true,
    "slideshow": {
     "slide_type": ""
    },
    "tags": []
   },
   "outputs": [],
   "source": [
    "libaddthem = ctypes.cdll.LoadLibrary(\"./libaddthem_attempt1.so\")\n",
    "pointer_to_ints = ctypes.POINTER(ctypes.c_int)\n",
    "libaddthem.run.argtypes = (pointer_to_ints,)\n",
    "libaddthem.run.restype = ctypes.c_int"
   ]
  },
  {
   "cell_type": "code",
   "execution_count": 9,
   "id": "ef82e14a-9276-4167-8c86-b5402f3b26ce",
   "metadata": {
    "editable": true,
    "slideshow": {
     "slide_type": "slide"
    },
    "tags": []
   },
   "outputs": [
    {
     "data": {
      "text/plain": [
       "np.int32(4328)"
      ]
     },
     "execution_count": 9,
     "metadata": {},
     "output_type": "execute_result"
    }
   ],
   "source": [
    "addthem_python(million_integers)"
   ]
  },
  {
   "cell_type": "markdown",
   "id": "31f9d84f-5041-4b5a-b5cd-393de2bf00b9",
   "metadata": {
    "editable": true,
    "slideshow": {
     "slide_type": ""
    },
    "tags": []
   },
   "source": [
    "<br>"
   ]
  },
  {
   "cell_type": "code",
   "execution_count": 10,
   "id": "c4fb8103-808e-4964-bd06-7bf6214e66a2",
   "metadata": {
    "editable": true,
    "slideshow": {
     "slide_type": ""
    },
    "tags": []
   },
   "outputs": [
    {
     "data": {
      "text/plain": [
       "4328"
      ]
     },
     "execution_count": 10,
     "metadata": {},
     "output_type": "execute_result"
    }
   ],
   "source": [
    "libaddthem.run(million_integers.ctypes.data_as(pointer_to_ints))"
   ]
  },
  {
   "cell_type": "markdown",
   "id": "8f11705d-1ca8-4368-832a-f03567f5daab",
   "metadata": {
    "editable": true,
    "slideshow": {
     "slide_type": ""
    },
    "tags": []
   },
   "source": [
    "<br>"
   ]
  },
  {
   "cell_type": "code",
   "execution_count": 11,
   "id": "0cb59ded-5ba1-4729-84c2-52983b7f6206",
   "metadata": {
    "editable": true,
    "slideshow": {
     "slide_type": ""
    },
    "tags": []
   },
   "outputs": [
    {
     "name": "stdout",
     "output_type": "stream",
     "text": [
      "52.2 ms ± 810 μs per loop (mean ± std. dev. of 7 runs, 10 loops each)\n"
     ]
    }
   ],
   "source": [
    "%%timeit\n",
    "\n",
    "addthem_python(million_integers)"
   ]
  },
  {
   "cell_type": "markdown",
   "id": "cfd84448-82f6-4798-ad59-6c804d16d721",
   "metadata": {
    "editable": true,
    "slideshow": {
     "slide_type": ""
    },
    "tags": []
   },
   "source": [
    "<br>"
   ]
  },
  {
   "cell_type": "code",
   "execution_count": 12,
   "id": "67e3dee7-2f5e-405b-ba17-a6125dd296f0",
   "metadata": {
    "editable": true,
    "slideshow": {
     "slide_type": ""
    },
    "tags": []
   },
   "outputs": [
    {
     "name": "stdout",
     "output_type": "stream",
     "text": [
      "853 μs ± 7.89 μs per loop (mean ± std. dev. of 7 runs, 1,000 loops each)\n"
     ]
    }
   ],
   "source": [
    "%%timeit\n",
    "\n",
    "libaddthem.run(million_integers.ctypes.data_as(pointer_to_ints))"
   ]
  },
  {
   "cell_type": "markdown",
   "id": "a621622e-f1a3-4abc-b7cc-c5b47bdae7a8",
   "metadata": {
    "editable": true,
    "slideshow": {
     "slide_type": "slide"
    },
    "tags": []
   },
   "source": [
    "To see what's slowing Python down, let's look at a toy language with similar dynamic features"
   ]
  },
  {
   "cell_type": "markdown",
   "id": "f7af73f9-6dfe-4446-bcda-2c81e42856fc",
   "metadata": {
    "editable": true,
    "slideshow": {
     "slide_type": ""
    },
    "tags": []
   },
   "source": [
    "<br>"
   ]
  },
  {
   "cell_type": "code",
   "execution_count": 13,
   "id": "b014baa4-b726-4800-96f2-3805f43d46de",
   "metadata": {
    "editable": true,
    "slideshow": {
     "slide_type": ""
    },
    "tags": []
   },
   "outputs": [],
   "source": [
    "!c++ -std=c++11 -O3 baby-python.cpp -o baby-python"
   ]
  },
  {
   "cell_type": "markdown",
   "id": "0040c336-f84b-4fbb-8a40-8af907c8c935",
   "metadata": {
    "editable": true,
    "slideshow": {
     "slide_type": ""
    },
    "tags": []
   },
   "source": [
    "<br>"
   ]
  },
  {
   "cell_type": "code",
   "execution_count": 14,
   "id": "a57e79e6-936b-42fa-b3eb-63d9e08311dc",
   "metadata": {
    "editable": true,
    "slideshow": {
     "slide_type": ""
    },
    "tags": []
   },
   "outputs": [
    {
     "name": "stdout",
     "output_type": "stream",
     "text": [
      "                     num = -123        add(x, x)   get(lst, i)   map(f, lst)\n",
      "               oo    lst = [1, 2, 3]   mul(x, x)   len(lst)      reduce(f, lst)\n",
      ". . . __/\\_/\\_/`'    f = def(x) single-expr   f = def(x, y) { ... ; last-expr }\n",
      "\n",
      ">> 123\n",
      "(1.816e-06 seconds)\n",
      ">> 8\n",
      "(3.352e-06 seconds)\n",
      ">> <user-defined function>\n",
      "(1.467e-06 seconds)\n",
      ">> [1, 4, 9, 16, 25]\n",
      "(7.543e-06 seconds)\n",
      ">> \n"
     ]
    }
   ],
   "source": [
    "%%bash\n",
    "\n",
    "./baby-python <<EOF\n",
    "123\n",
    "add(3, 5)\n",
    "square_them = def(x) mul(x, x)\n",
    "map(square_them, [1, 2, 3, 4, 5])\n",
    "EOF"
   ]
  },
  {
   "cell_type": "code",
   "execution_count": 15,
   "id": "ecd8f015-31bd-4c9e-9ae4-6b1a1d40f94d",
   "metadata": {
    "editable": true,
    "slideshow": {
     "slide_type": "slide"
    },
    "tags": []
   },
   "outputs": [],
   "source": [
    "million_integers.tofile(\"million_integers.int32\")"
   ]
  },
  {
   "cell_type": "markdown",
   "id": "a467c828-15ee-4dfb-b49e-a90b49bdcf7b",
   "metadata": {
    "editable": true,
    "slideshow": {
     "slide_type": ""
    },
    "tags": []
   },
   "source": [
    "<br>"
   ]
  },
  {
   "cell_type": "code",
   "execution_count": 16,
   "id": "68f6ca28-85af-4635-9041-6c02bc674c69",
   "metadata": {
    "editable": true,
    "slideshow": {
     "slide_type": ""
    },
    "tags": []
   },
   "outputs": [
    {
     "name": "stdout",
     "output_type": "stream",
     "text": [
      "                     num = -123        add(x, x)   get(lst, i)   map(f, lst)\n",
      "               oo    lst = [1, 2, 3]   mul(x, x)   len(lst)      reduce(f, lst)\n",
      ". . . __/\\_/\\_/`'    f = def(x) single-expr   f = def(x, y) { ... ; last-expr }\n",
      "\n",
      ">> 4328\n",
      "(0.0898215 seconds)\n",
      ">> 4328\n",
      "(0.0905186 seconds)\n",
      ">> 4328\n",
      "(0.0892013 seconds)\n",
      ">> \n"
     ]
    }
   ],
   "source": [
    "%%bash\n",
    "\n",
    "./baby-python data=million_integers.int32 <<EOF\n",
    "reduce(add, data)\n",
    "reduce(add, data)\n",
    "reduce(add, data)\n",
    "EOF"
   ]
  },
  {
   "cell_type": "markdown",
   "id": "0f2d26fc-0a41-418e-ab87-88c6a69f0953",
   "metadata": {
    "editable": true,
    "slideshow": {
     "slide_type": "slide"
    },
    "tags": []
   },
   "source": [
    "What baby-python is doing:\n",
    "\n",
    "* variables are in an `unordered_map<string, shared_ptr<Object>>`\n",
    "* `Object` is an abstract class; C++ has to maintain a vtable to keep track of which type each concrete instance is (runtime polymorphism)\n",
    "* instructions are represented by a data structure that must be traversed (abstract syntax tree, or AST)\n",
    "* parsing and data-loading happen before the loop over data and are not slowing it down"
   ]
  },
  {
   "cell_type": "markdown",
   "id": "9a3e1ce3-8d74-4cb0-a6a1-f475711ce5a4",
   "metadata": {
    "editable": true,
    "slideshow": {
     "slide_type": ""
    },
    "tags": []
   },
   "source": [
    "<br>"
   ]
  },
  {
   "cell_type": "code",
   "execution_count": 17,
   "id": "e23d54a3-5d7a-4162-8cbc-bc2ac0d70b62",
   "metadata": {
    "editable": true,
    "slideshow": {
     "slide_type": ""
    },
    "tags": []
   },
   "outputs": [],
   "source": [
    "from pygments import highlight\n",
    "from pygments.lexers import CppLexer\n",
    "from pygments.formatters import HtmlFormatter\n",
    "from IPython.display import display, HTML"
   ]
  },
  {
   "cell_type": "markdown",
   "id": "bf9c8614-ea5a-42ca-bc5f-9f08a29e73ab",
   "metadata": {
    "editable": true,
    "slideshow": {
     "slide_type": ""
    },
    "tags": []
   },
   "source": [
    "<br>"
   ]
  },
  {
   "cell_type": "code",
   "execution_count": 18,
   "id": "96a8a363-ea06-40b2-a600-2b0e888f97d3",
   "metadata": {
    "editable": true,
    "slideshow": {
     "slide_type": ""
    },
    "tags": []
   },
   "outputs": [
    {
     "data": {
      "text/html": [
       "<div class=\"highlight\"><pre><span></span><span class=\"c1\">// Compile with:</span>\n",
       "<span class=\"c1\">//</span>\n",
       "<span class=\"c1\">//     c++ -std=c++11 -O3 baby-python.cpp -o baby-python</span>\n",
       "\n",
       "<span class=\"c1\">//// includes //////////////////////////////////////////////////////////////</span>\n",
       "\n",
       "<span class=\"cp\">#include</span><span class=\"w\"> </span><span class=\"cpf\">&lt;fstream&gt;</span>\n",
       "<span class=\"cp\">#include</span><span class=\"w\"> </span><span class=\"cpf\">&lt;regex&gt;</span>\n",
       "<span class=\"cp\">#include</span><span class=\"w\"> </span><span class=\"cpf\">&lt;vector&gt;</span>\n",
       "<span class=\"cp\">#include</span><span class=\"w\"> </span><span class=\"cpf\">&lt;string&gt;</span>\n",
       "<span class=\"cp\">#include</span><span class=\"w\"> </span><span class=\"cpf\">&lt;memory&gt;</span>\n",
       "<span class=\"cp\">#include</span><span class=\"w\"> </span><span class=\"cpf\">&lt;unordered_map&gt;</span>\n",
       "<span class=\"cp\">#include</span><span class=\"w\"> </span><span class=\"cpf\">&lt;chrono&gt;</span>\n",
       "<span class=\"cp\">#include</span><span class=\"w\"> </span><span class=\"cpf\">&lt;iostream&gt;</span>\n",
       "\n",
       "<span class=\"c1\">//// types /////////////////////////////////////////////////////////////////</span>\n",
       "\n",
       "\n",
       "<span class=\"k\">const</span><span class=\"w\"> </span><span class=\"kt\">int</span><span class=\"w\"> </span><span class=\"n\">MAX_REPR</span><span class=\"w\"> </span><span class=\"o\">=</span><span class=\"w\"> </span><span class=\"mi\">80</span><span class=\"p\">;</span>\n",
       "<span class=\"k\">const</span><span class=\"w\"> </span><span class=\"kt\">int</span><span class=\"w\"> </span><span class=\"n\">MAX_RECURSION</span><span class=\"w\"> </span><span class=\"o\">=</span><span class=\"w\"> </span><span class=\"mi\">20</span><span class=\"p\">;</span>\n",
       "\n",
       "<span class=\"k\">class</span><span class=\"w\"> </span><span class=\"nc\">Object</span><span class=\"p\">;</span>\n",
       "<span class=\"k\">class</span><span class=\"w\"> </span><span class=\"nc\">ASTNode</span><span class=\"p\">;</span>\n",
       "<span class=\"k\">class</span><span class=\"w\"> </span><span class=\"nc\">ASTDefineFun</span><span class=\"p\">;</span>\n",
       "\n",
       "\n",
       "<span class=\"c1\">//// Scope: which variables exist right now?</span>\n",
       "\n",
       "<span class=\"k\">class</span><span class=\"w\"> </span><span class=\"nc\">Scope</span><span class=\"w\"> </span><span class=\"p\">{</span>\n",
       "<span class=\"k\">public</span><span class=\"o\">:</span>\n",
       "<span class=\"w\">  </span><span class=\"n\">Scope</span><span class=\"p\">(</span><span class=\"n\">std</span><span class=\"o\">::</span><span class=\"n\">shared_ptr</span><span class=\"o\">&lt;</span><span class=\"n\">Scope</span><span class=\"o\">&gt;</span><span class=\"w\"> </span><span class=\"n\">parent</span><span class=\"p\">)</span><span class=\"o\">:</span><span class=\"w\"> </span><span class=\"n\">parent_</span><span class=\"p\">(</span><span class=\"n\">parent</span><span class=\"p\">),</span><span class=\"w\"> </span><span class=\"n\">objects_</span><span class=\"p\">()</span><span class=\"w\"> </span><span class=\"p\">{</span><span class=\"w\"> </span><span class=\"p\">}</span>\n",
       "\n",
       "<span class=\"w\">  </span><span class=\"kt\">void</span><span class=\"w\"> </span><span class=\"n\">assign</span><span class=\"p\">(</span>\n",
       "<span class=\"w\">    </span><span class=\"k\">const</span><span class=\"w\"> </span><span class=\"n\">std</span><span class=\"o\">::</span><span class=\"n\">string</span><span class=\"o\">&amp;</span><span class=\"w\"> </span><span class=\"n\">name</span><span class=\"p\">,</span>\n",
       "<span class=\"w\">    </span><span class=\"n\">std</span><span class=\"o\">::</span><span class=\"n\">shared_ptr</span><span class=\"o\">&lt;</span><span class=\"n\">Object</span><span class=\"o\">&gt;</span><span class=\"w\"> </span><span class=\"n\">object</span><span class=\"p\">,</span>\n",
       "<span class=\"w\">    </span><span class=\"n\">std</span><span class=\"o\">::</span><span class=\"n\">vector</span><span class=\"o\">&lt;</span><span class=\"n\">std</span><span class=\"o\">::</span><span class=\"n\">shared_ptr</span><span class=\"o\">&lt;</span><span class=\"n\">ASTNode</span><span class=\"o\">&gt;&gt;&amp;</span><span class=\"w\"> </span><span class=\"n\">stack</span>\n",
       "<span class=\"w\">  </span><span class=\"p\">);</span>\n",
       "<span class=\"w\">  </span><span class=\"n\">std</span><span class=\"o\">::</span><span class=\"n\">shared_ptr</span><span class=\"o\">&lt;</span><span class=\"n\">Object</span><span class=\"o\">&gt;</span><span class=\"w\"> </span><span class=\"n\">del</span><span class=\"p\">(</span>\n",
       "<span class=\"w\">    </span><span class=\"k\">const</span><span class=\"w\"> </span><span class=\"n\">std</span><span class=\"o\">::</span><span class=\"n\">string</span><span class=\"o\">&amp;</span><span class=\"w\"> </span><span class=\"n\">name</span><span class=\"p\">,</span>\n",
       "<span class=\"w\">    </span><span class=\"n\">std</span><span class=\"o\">::</span><span class=\"n\">vector</span><span class=\"o\">&lt;</span><span class=\"n\">std</span><span class=\"o\">::</span><span class=\"n\">shared_ptr</span><span class=\"o\">&lt;</span><span class=\"n\">ASTNode</span><span class=\"o\">&gt;&gt;&amp;</span><span class=\"w\"> </span><span class=\"n\">stack</span>\n",
       "<span class=\"w\">  </span><span class=\"p\">);</span>\n",
       "<span class=\"w\">  </span><span class=\"n\">std</span><span class=\"o\">::</span><span class=\"n\">shared_ptr</span><span class=\"o\">&lt;</span><span class=\"n\">Object</span><span class=\"o\">&gt;</span><span class=\"w\"> </span><span class=\"n\">get</span><span class=\"p\">(</span>\n",
       "<span class=\"w\">    </span><span class=\"k\">const</span><span class=\"w\"> </span><span class=\"n\">std</span><span class=\"o\">::</span><span class=\"n\">string</span><span class=\"o\">&amp;</span><span class=\"w\"> </span><span class=\"n\">name</span><span class=\"p\">,</span>\n",
       "<span class=\"w\">    </span><span class=\"n\">std</span><span class=\"o\">::</span><span class=\"n\">vector</span><span class=\"o\">&lt;</span><span class=\"n\">std</span><span class=\"o\">::</span><span class=\"n\">shared_ptr</span><span class=\"o\">&lt;</span><span class=\"n\">ASTNode</span><span class=\"o\">&gt;&gt;&amp;</span><span class=\"w\"> </span><span class=\"n\">stack</span>\n",
       "<span class=\"w\">  </span><span class=\"p\">);</span>\n",
       "\n",
       "<span class=\"k\">private</span><span class=\"o\">:</span>\n",
       "<span class=\"w\">  </span><span class=\"n\">std</span><span class=\"o\">::</span><span class=\"n\">shared_ptr</span><span class=\"o\">&lt;</span><span class=\"n\">Scope</span><span class=\"o\">&gt;</span><span class=\"w\"> </span><span class=\"n\">parent_</span><span class=\"p\">;</span>\n",
       "<span class=\"w\">  </span><span class=\"n\">std</span><span class=\"o\">::</span><span class=\"n\">unordered_map</span><span class=\"o\">&lt;</span><span class=\"n\">std</span><span class=\"o\">::</span><span class=\"n\">string</span><span class=\"p\">,</span><span class=\"w\"> </span><span class=\"n\">std</span><span class=\"o\">::</span><span class=\"n\">shared_ptr</span><span class=\"o\">&lt;</span><span class=\"n\">Object</span><span class=\"o\">&gt;&gt;</span><span class=\"w\"> </span><span class=\"n\">objects_</span><span class=\"p\">;</span>\n",
       "<span class=\"p\">};</span>\n",
       "\n",
       "\n",
       "<span class=\"c1\">//// Objects: data within the language</span>\n",
       "\n",
       "<span class=\"k\">class</span><span class=\"w\"> </span><span class=\"nc\">Object</span><span class=\"w\"> </span><span class=\"p\">{</span>\n",
       "<span class=\"k\">public</span><span class=\"o\">:</span>\n",
       "<span class=\"w\">  </span><span class=\"n\">Object</span><span class=\"p\">()</span><span class=\"w\"> </span><span class=\"p\">{</span><span class=\"w\"> </span><span class=\"p\">}</span>\n",
       "\n",
       "<span class=\"w\">  </span><span class=\"k\">virtual</span><span class=\"w\"> </span><span class=\"n\">std</span><span class=\"o\">::</span><span class=\"n\">string</span><span class=\"w\"> </span><span class=\"n\">repr</span><span class=\"p\">(</span><span class=\"kt\">int</span><span class=\"o\">&amp;</span><span class=\"w\"> </span><span class=\"n\">remaining</span><span class=\"p\">)</span><span class=\"w\"> </span><span class=\"k\">const</span><span class=\"w\"> </span><span class=\"o\">=</span><span class=\"w\"> </span><span class=\"mi\">0</span><span class=\"p\">;</span>\n",
       "\n",
       "<span class=\"k\">private</span><span class=\"o\">:</span>\n",
       "<span class=\"p\">};</span>\n",
       "\n",
       "\n",
       "<span class=\"k\">class</span><span class=\"w\"> </span><span class=\"nc\">ObjectInt</span><span class=\"o\">:</span><span class=\"w\"> </span><span class=\"k\">public</span><span class=\"w\"> </span><span class=\"n\">Object</span><span class=\"w\"> </span><span class=\"p\">{</span>\n",
       "<span class=\"k\">public</span><span class=\"o\">:</span>\n",
       "<span class=\"w\">  </span><span class=\"n\">ObjectInt</span><span class=\"p\">(</span><span class=\"kt\">int</span><span class=\"w\"> </span><span class=\"n\">value</span><span class=\"p\">)</span><span class=\"o\">:</span><span class=\"w\"> </span><span class=\"n\">value_</span><span class=\"p\">(</span><span class=\"n\">value</span><span class=\"p\">),</span><span class=\"w\"> </span><span class=\"n\">Object</span><span class=\"p\">()</span><span class=\"w\"> </span><span class=\"p\">{</span><span class=\"w\"> </span><span class=\"p\">}</span>\n",
       "\n",
       "<span class=\"w\">  </span><span class=\"kt\">int</span><span class=\"w\"> </span><span class=\"n\">value</span><span class=\"p\">()</span><span class=\"w\"> </span><span class=\"k\">const</span><span class=\"w\"> </span><span class=\"p\">{</span><span class=\"w\"> </span><span class=\"k\">return</span><span class=\"w\"> </span><span class=\"n\">value_</span><span class=\"p\">;</span><span class=\"w\"> </span><span class=\"p\">}</span>\n",
       "\n",
       "<span class=\"w\">  </span><span class=\"n\">std</span><span class=\"o\">::</span><span class=\"n\">string</span><span class=\"w\"> </span><span class=\"n\">repr</span><span class=\"p\">(</span><span class=\"kt\">int</span><span class=\"o\">&amp;</span><span class=\"w\"> </span><span class=\"n\">remaining</span><span class=\"p\">)</span><span class=\"w\"> </span><span class=\"k\">const</span><span class=\"w\"> </span><span class=\"k\">override</span><span class=\"p\">;</span>\n",
       "\n",
       "<span class=\"k\">private</span><span class=\"o\">:</span>\n",
       "<span class=\"w\">  </span><span class=\"kt\">int</span><span class=\"w\"> </span><span class=\"n\">value_</span><span class=\"p\">;</span>\n",
       "<span class=\"p\">};</span>\n",
       "\n",
       "\n",
       "<span class=\"k\">class</span><span class=\"w\"> </span><span class=\"nc\">ObjectList</span><span class=\"o\">:</span><span class=\"w\"> </span><span class=\"k\">public</span><span class=\"w\"> </span><span class=\"n\">Object</span><span class=\"w\"> </span><span class=\"p\">{</span>\n",
       "<span class=\"k\">public</span><span class=\"o\">:</span>\n",
       "<span class=\"w\">  </span><span class=\"n\">ObjectList</span><span class=\"p\">(</span><span class=\"k\">const</span><span class=\"w\"> </span><span class=\"n\">std</span><span class=\"o\">::</span><span class=\"n\">vector</span><span class=\"o\">&lt;</span><span class=\"n\">std</span><span class=\"o\">::</span><span class=\"n\">shared_ptr</span><span class=\"o\">&lt;</span><span class=\"n\">Object</span><span class=\"o\">&gt;&gt;&amp;</span><span class=\"w\"> </span><span class=\"n\">values</span><span class=\"p\">)</span><span class=\"o\">:</span><span class=\"w\"> </span><span class=\"n\">values_</span><span class=\"p\">(</span><span class=\"n\">values</span><span class=\"p\">),</span><span class=\"w\"> </span><span class=\"n\">Object</span><span class=\"p\">()</span><span class=\"w\"> </span><span class=\"p\">{</span><span class=\"w\"> </span><span class=\"p\">}</span>\n",
       "\n",
       "<span class=\"w\">  </span><span class=\"k\">const</span><span class=\"w\"> </span><span class=\"n\">std</span><span class=\"o\">::</span><span class=\"n\">vector</span><span class=\"o\">&lt;</span><span class=\"n\">std</span><span class=\"o\">::</span><span class=\"n\">shared_ptr</span><span class=\"o\">&lt;</span><span class=\"n\">Object</span><span class=\"o\">&gt;&gt;&amp;</span><span class=\"w\"> </span><span class=\"n\">values</span><span class=\"p\">()</span><span class=\"w\"> </span><span class=\"k\">const</span><span class=\"w\"> </span><span class=\"p\">{</span><span class=\"w\"> </span><span class=\"k\">return</span><span class=\"w\"> </span><span class=\"n\">values_</span><span class=\"p\">;</span><span class=\"w\"> </span><span class=\"p\">}</span>\n",
       "\n",
       "<span class=\"w\">  </span><span class=\"n\">std</span><span class=\"o\">::</span><span class=\"n\">string</span><span class=\"w\"> </span><span class=\"n\">repr</span><span class=\"p\">(</span><span class=\"kt\">int</span><span class=\"o\">&amp;</span><span class=\"w\"> </span><span class=\"n\">remaining</span><span class=\"p\">)</span><span class=\"w\"> </span><span class=\"k\">const</span><span class=\"w\"> </span><span class=\"k\">override</span><span class=\"p\">;</span>\n",
       "\n",
       "<span class=\"k\">private</span><span class=\"o\">:</span>\n",
       "<span class=\"w\">  </span><span class=\"k\">const</span><span class=\"w\"> </span><span class=\"n\">std</span><span class=\"o\">::</span><span class=\"n\">vector</span><span class=\"o\">&lt;</span><span class=\"n\">std</span><span class=\"o\">::</span><span class=\"n\">shared_ptr</span><span class=\"o\">&lt;</span><span class=\"n\">Object</span><span class=\"o\">&gt;&gt;</span><span class=\"w\"> </span><span class=\"n\">values_</span><span class=\"p\">;</span>\n",
       "<span class=\"p\">};</span>\n",
       "\n",
       "\n",
       "<span class=\"k\">class</span><span class=\"w\"> </span><span class=\"nc\">ObjectFunction</span><span class=\"o\">:</span><span class=\"w\"> </span><span class=\"k\">public</span><span class=\"w\"> </span><span class=\"n\">Object</span><span class=\"w\"> </span><span class=\"p\">{</span>\n",
       "<span class=\"k\">public</span><span class=\"o\">:</span>\n",
       "<span class=\"w\">  </span><span class=\"n\">ObjectFunction</span><span class=\"p\">()</span><span class=\"o\">:</span><span class=\"w\"> </span><span class=\"n\">Object</span><span class=\"p\">()</span><span class=\"w\"> </span><span class=\"p\">{</span><span class=\"w\"> </span><span class=\"p\">}</span>\n",
       "\n",
       "<span class=\"w\">  </span><span class=\"k\">virtual</span><span class=\"w\"> </span><span class=\"n\">std</span><span class=\"o\">::</span><span class=\"n\">shared_ptr</span><span class=\"o\">&lt;</span><span class=\"n\">Object</span><span class=\"o\">&gt;</span><span class=\"w\"> </span><span class=\"n\">run</span><span class=\"p\">(</span>\n",
       "<span class=\"w\">    </span><span class=\"n\">std</span><span class=\"o\">::</span><span class=\"n\">shared_ptr</span><span class=\"o\">&lt;</span><span class=\"n\">Scope</span><span class=\"o\">&gt;</span><span class=\"w\"> </span><span class=\"n\">scope</span><span class=\"p\">,</span>\n",
       "<span class=\"w\">    </span><span class=\"n\">std</span><span class=\"o\">::</span><span class=\"n\">vector</span><span class=\"o\">&lt;</span><span class=\"n\">std</span><span class=\"o\">::</span><span class=\"n\">shared_ptr</span><span class=\"o\">&lt;</span><span class=\"n\">ASTNode</span><span class=\"o\">&gt;&gt;&amp;</span><span class=\"w\"> </span><span class=\"n\">stack</span><span class=\"p\">,</span>\n",
       "<span class=\"w\">    </span><span class=\"n\">std</span><span class=\"o\">::</span><span class=\"n\">vector</span><span class=\"o\">&lt;</span><span class=\"n\">std</span><span class=\"o\">::</span><span class=\"n\">shared_ptr</span><span class=\"o\">&lt;</span><span class=\"n\">Object</span><span class=\"o\">&gt;&gt;</span><span class=\"w\"> </span><span class=\"n\">args</span>\n",
       "<span class=\"w\">  </span><span class=\"p\">)</span><span class=\"w\"> </span><span class=\"o\">=</span><span class=\"w\"> </span><span class=\"mi\">0</span><span class=\"p\">;</span>\n",
       "\n",
       "<span class=\"k\">private</span><span class=\"o\">:</span>\n",
       "<span class=\"p\">};</span>\n",
       "\n",
       "\n",
       "<span class=\"k\">class</span><span class=\"w\"> </span><span class=\"nc\">ObjectFunctionAdd</span><span class=\"o\">:</span><span class=\"w\"> </span><span class=\"k\">public</span><span class=\"w\"> </span><span class=\"n\">ObjectFunction</span><span class=\"w\"> </span><span class=\"p\">{</span>\n",
       "<span class=\"k\">public</span><span class=\"o\">:</span>\n",
       "<span class=\"w\">  </span><span class=\"n\">ObjectFunctionAdd</span><span class=\"p\">()</span><span class=\"o\">:</span><span class=\"w\"> </span><span class=\"n\">ObjectFunction</span><span class=\"p\">()</span><span class=\"w\"> </span><span class=\"p\">{</span><span class=\"w\"> </span><span class=\"p\">}</span>\n",
       "\n",
       "<span class=\"w\">  </span><span class=\"n\">std</span><span class=\"o\">::</span><span class=\"n\">string</span><span class=\"w\"> </span><span class=\"n\">repr</span><span class=\"p\">(</span><span class=\"kt\">int</span><span class=\"o\">&amp;</span><span class=\"w\"> </span><span class=\"n\">remaining</span><span class=\"p\">)</span><span class=\"w\"> </span><span class=\"k\">const</span><span class=\"w\"> </span><span class=\"k\">override</span><span class=\"p\">;</span>\n",
       "\n",
       "<span class=\"w\">  </span><span class=\"n\">std</span><span class=\"o\">::</span><span class=\"n\">shared_ptr</span><span class=\"o\">&lt;</span><span class=\"n\">Object</span><span class=\"o\">&gt;</span><span class=\"w\"> </span><span class=\"n\">run</span><span class=\"p\">(</span>\n",
       "<span class=\"w\">    </span><span class=\"n\">std</span><span class=\"o\">::</span><span class=\"n\">shared_ptr</span><span class=\"o\">&lt;</span><span class=\"n\">Scope</span><span class=\"o\">&gt;</span><span class=\"w\"> </span><span class=\"n\">scope</span><span class=\"p\">,</span>\n",
       "<span class=\"w\">    </span><span class=\"n\">std</span><span class=\"o\">::</span><span class=\"n\">vector</span><span class=\"o\">&lt;</span><span class=\"n\">std</span><span class=\"o\">::</span><span class=\"n\">shared_ptr</span><span class=\"o\">&lt;</span><span class=\"n\">ASTNode</span><span class=\"o\">&gt;&gt;&amp;</span><span class=\"w\"> </span><span class=\"n\">stack</span><span class=\"p\">,</span>\n",
       "<span class=\"w\">    </span><span class=\"n\">std</span><span class=\"o\">::</span><span class=\"n\">vector</span><span class=\"o\">&lt;</span><span class=\"n\">std</span><span class=\"o\">::</span><span class=\"n\">shared_ptr</span><span class=\"o\">&lt;</span><span class=\"n\">Object</span><span class=\"o\">&gt;&gt;</span><span class=\"w\"> </span><span class=\"n\">args</span>\n",
       "<span class=\"w\">  </span><span class=\"p\">)</span><span class=\"w\"> </span><span class=\"k\">override</span><span class=\"p\">;</span>\n",
       "\n",
       "<span class=\"k\">private</span><span class=\"o\">:</span>\n",
       "<span class=\"p\">};</span>\n",
       "\n",
       "\n",
       "<span class=\"k\">class</span><span class=\"w\"> </span><span class=\"nc\">ObjectFunctionMul</span><span class=\"o\">:</span><span class=\"w\"> </span><span class=\"k\">public</span><span class=\"w\"> </span><span class=\"n\">ObjectFunction</span><span class=\"w\"> </span><span class=\"p\">{</span>\n",
       "<span class=\"k\">public</span><span class=\"o\">:</span>\n",
       "<span class=\"w\">  </span><span class=\"n\">ObjectFunctionMul</span><span class=\"p\">()</span><span class=\"o\">:</span><span class=\"w\"> </span><span class=\"n\">ObjectFunction</span><span class=\"p\">()</span><span class=\"w\"> </span><span class=\"p\">{</span><span class=\"w\"> </span><span class=\"p\">}</span>\n",
       "\n",
       "<span class=\"w\">  </span><span class=\"n\">std</span><span class=\"o\">::</span><span class=\"n\">string</span><span class=\"w\"> </span><span class=\"n\">repr</span><span class=\"p\">(</span><span class=\"kt\">int</span><span class=\"o\">&amp;</span><span class=\"w\"> </span><span class=\"n\">remaining</span><span class=\"p\">)</span><span class=\"w\"> </span><span class=\"k\">const</span><span class=\"w\"> </span><span class=\"k\">override</span><span class=\"p\">;</span>\n",
       "\n",
       "<span class=\"w\">  </span><span class=\"n\">std</span><span class=\"o\">::</span><span class=\"n\">shared_ptr</span><span class=\"o\">&lt;</span><span class=\"n\">Object</span><span class=\"o\">&gt;</span><span class=\"w\"> </span><span class=\"n\">run</span><span class=\"p\">(</span>\n",
       "<span class=\"w\">    </span><span class=\"n\">std</span><span class=\"o\">::</span><span class=\"n\">shared_ptr</span><span class=\"o\">&lt;</span><span class=\"n\">Scope</span><span class=\"o\">&gt;</span><span class=\"w\"> </span><span class=\"n\">scope</span><span class=\"p\">,</span>\n",
       "<span class=\"w\">    </span><span class=\"n\">std</span><span class=\"o\">::</span><span class=\"n\">vector</span><span class=\"o\">&lt;</span><span class=\"n\">std</span><span class=\"o\">::</span><span class=\"n\">shared_ptr</span><span class=\"o\">&lt;</span><span class=\"n\">ASTNode</span><span class=\"o\">&gt;&gt;&amp;</span><span class=\"w\"> </span><span class=\"n\">stack</span><span class=\"p\">,</span>\n",
       "<span class=\"w\">    </span><span class=\"n\">std</span><span class=\"o\">::</span><span class=\"n\">vector</span><span class=\"o\">&lt;</span><span class=\"n\">std</span><span class=\"o\">::</span><span class=\"n\">shared_ptr</span><span class=\"o\">&lt;</span><span class=\"n\">Object</span><span class=\"o\">&gt;&gt;</span><span class=\"w\"> </span><span class=\"n\">args</span>\n",
       "<span class=\"w\">  </span><span class=\"p\">)</span><span class=\"w\"> </span><span class=\"k\">override</span><span class=\"p\">;</span>\n",
       "\n",
       "<span class=\"k\">private</span><span class=\"o\">:</span>\n",
       "<span class=\"p\">};</span>\n",
       "\n",
       "\n",
       "<span class=\"k\">class</span><span class=\"w\"> </span><span class=\"nc\">ObjectFunctionGet</span><span class=\"o\">:</span><span class=\"w\"> </span><span class=\"k\">public</span><span class=\"w\"> </span><span class=\"n\">ObjectFunction</span><span class=\"w\"> </span><span class=\"p\">{</span>\n",
       "<span class=\"k\">public</span><span class=\"o\">:</span>\n",
       "<span class=\"w\">  </span><span class=\"n\">ObjectFunctionGet</span><span class=\"p\">()</span><span class=\"o\">:</span><span class=\"w\"> </span><span class=\"n\">ObjectFunction</span><span class=\"p\">()</span><span class=\"w\"> </span><span class=\"p\">{</span><span class=\"w\"> </span><span class=\"p\">}</span>\n",
       "\n",
       "<span class=\"w\">  </span><span class=\"n\">std</span><span class=\"o\">::</span><span class=\"n\">string</span><span class=\"w\"> </span><span class=\"n\">repr</span><span class=\"p\">(</span><span class=\"kt\">int</span><span class=\"o\">&amp;</span><span class=\"w\"> </span><span class=\"n\">remaining</span><span class=\"p\">)</span><span class=\"w\"> </span><span class=\"k\">const</span><span class=\"w\"> </span><span class=\"k\">override</span><span class=\"p\">;</span>\n",
       "\n",
       "<span class=\"w\">  </span><span class=\"n\">std</span><span class=\"o\">::</span><span class=\"n\">shared_ptr</span><span class=\"o\">&lt;</span><span class=\"n\">Object</span><span class=\"o\">&gt;</span><span class=\"w\"> </span><span class=\"n\">run</span><span class=\"p\">(</span>\n",
       "<span class=\"w\">    </span><span class=\"n\">std</span><span class=\"o\">::</span><span class=\"n\">shared_ptr</span><span class=\"o\">&lt;</span><span class=\"n\">Scope</span><span class=\"o\">&gt;</span><span class=\"w\"> </span><span class=\"n\">scope</span><span class=\"p\">,</span>\n",
       "<span class=\"w\">    </span><span class=\"n\">std</span><span class=\"o\">::</span><span class=\"n\">vector</span><span class=\"o\">&lt;</span><span class=\"n\">std</span><span class=\"o\">::</span><span class=\"n\">shared_ptr</span><span class=\"o\">&lt;</span><span class=\"n\">ASTNode</span><span class=\"o\">&gt;&gt;&amp;</span><span class=\"w\"> </span><span class=\"n\">stack</span><span class=\"p\">,</span>\n",
       "<span class=\"w\">    </span><span class=\"n\">std</span><span class=\"o\">::</span><span class=\"n\">vector</span><span class=\"o\">&lt;</span><span class=\"n\">std</span><span class=\"o\">::</span><span class=\"n\">shared_ptr</span><span class=\"o\">&lt;</span><span class=\"n\">Object</span><span class=\"o\">&gt;&gt;</span><span class=\"w\"> </span><span class=\"n\">args</span>\n",
       "<span class=\"w\">  </span><span class=\"p\">)</span><span class=\"w\"> </span><span class=\"k\">override</span><span class=\"p\">;</span>\n",
       "\n",
       "<span class=\"k\">private</span><span class=\"o\">:</span>\n",
       "<span class=\"p\">};</span>\n",
       "\n",
       "\n",
       "<span class=\"k\">class</span><span class=\"w\"> </span><span class=\"nc\">ObjectFunctionLen</span><span class=\"o\">:</span><span class=\"w\"> </span><span class=\"k\">public</span><span class=\"w\"> </span><span class=\"n\">ObjectFunction</span><span class=\"w\"> </span><span class=\"p\">{</span>\n",
       "<span class=\"k\">public</span><span class=\"o\">:</span>\n",
       "<span class=\"w\">  </span><span class=\"n\">ObjectFunctionLen</span><span class=\"p\">()</span><span class=\"o\">:</span><span class=\"w\"> </span><span class=\"n\">ObjectFunction</span><span class=\"p\">()</span><span class=\"w\"> </span><span class=\"p\">{</span><span class=\"w\"> </span><span class=\"p\">}</span>\n",
       "\n",
       "<span class=\"w\">  </span><span class=\"n\">std</span><span class=\"o\">::</span><span class=\"n\">string</span><span class=\"w\"> </span><span class=\"n\">repr</span><span class=\"p\">(</span><span class=\"kt\">int</span><span class=\"o\">&amp;</span><span class=\"w\"> </span><span class=\"n\">remaining</span><span class=\"p\">)</span><span class=\"w\"> </span><span class=\"k\">const</span><span class=\"w\"> </span><span class=\"k\">override</span><span class=\"p\">;</span>\n",
       "\n",
       "<span class=\"w\">  </span><span class=\"n\">std</span><span class=\"o\">::</span><span class=\"n\">shared_ptr</span><span class=\"o\">&lt;</span><span class=\"n\">Object</span><span class=\"o\">&gt;</span><span class=\"w\"> </span><span class=\"n\">run</span><span class=\"p\">(</span>\n",
       "<span class=\"w\">    </span><span class=\"n\">std</span><span class=\"o\">::</span><span class=\"n\">shared_ptr</span><span class=\"o\">&lt;</span><span class=\"n\">Scope</span><span class=\"o\">&gt;</span><span class=\"w\"> </span><span class=\"n\">scope</span><span class=\"p\">,</span>\n",
       "<span class=\"w\">    </span><span class=\"n\">std</span><span class=\"o\">::</span><span class=\"n\">vector</span><span class=\"o\">&lt;</span><span class=\"n\">std</span><span class=\"o\">::</span><span class=\"n\">shared_ptr</span><span class=\"o\">&lt;</span><span class=\"n\">ASTNode</span><span class=\"o\">&gt;&gt;&amp;</span><span class=\"w\"> </span><span class=\"n\">stack</span><span class=\"p\">,</span>\n",
       "<span class=\"w\">    </span><span class=\"n\">std</span><span class=\"o\">::</span><span class=\"n\">vector</span><span class=\"o\">&lt;</span><span class=\"n\">std</span><span class=\"o\">::</span><span class=\"n\">shared_ptr</span><span class=\"o\">&lt;</span><span class=\"n\">Object</span><span class=\"o\">&gt;&gt;</span><span class=\"w\"> </span><span class=\"n\">args</span>\n",
       "<span class=\"w\">  </span><span class=\"p\">)</span><span class=\"w\"> </span><span class=\"k\">override</span><span class=\"p\">;</span>\n",
       "\n",
       "<span class=\"k\">private</span><span class=\"o\">:</span>\n",
       "<span class=\"p\">};</span>\n",
       "\n",
       "\n",
       "<span class=\"k\">class</span><span class=\"w\"> </span><span class=\"nc\">ObjectFunctionMap</span><span class=\"o\">:</span><span class=\"w\"> </span><span class=\"k\">public</span><span class=\"w\"> </span><span class=\"n\">ObjectFunction</span><span class=\"w\"> </span><span class=\"p\">{</span>\n",
       "<span class=\"k\">public</span><span class=\"o\">:</span>\n",
       "<span class=\"w\">  </span><span class=\"n\">ObjectFunctionMap</span><span class=\"p\">()</span><span class=\"o\">:</span><span class=\"w\"> </span><span class=\"n\">ObjectFunction</span><span class=\"p\">()</span><span class=\"w\"> </span><span class=\"p\">{</span><span class=\"w\"> </span><span class=\"p\">}</span>\n",
       "\n",
       "<span class=\"w\">  </span><span class=\"n\">std</span><span class=\"o\">::</span><span class=\"n\">string</span><span class=\"w\"> </span><span class=\"n\">repr</span><span class=\"p\">(</span><span class=\"kt\">int</span><span class=\"o\">&amp;</span><span class=\"w\"> </span><span class=\"n\">remaining</span><span class=\"p\">)</span><span class=\"w\"> </span><span class=\"k\">const</span><span class=\"w\"> </span><span class=\"k\">override</span><span class=\"p\">;</span>\n",
       "\n",
       "<span class=\"w\">  </span><span class=\"n\">std</span><span class=\"o\">::</span><span class=\"n\">shared_ptr</span><span class=\"o\">&lt;</span><span class=\"n\">Object</span><span class=\"o\">&gt;</span><span class=\"w\"> </span><span class=\"n\">run</span><span class=\"p\">(</span>\n",
       "<span class=\"w\">    </span><span class=\"n\">std</span><span class=\"o\">::</span><span class=\"n\">shared_ptr</span><span class=\"o\">&lt;</span><span class=\"n\">Scope</span><span class=\"o\">&gt;</span><span class=\"w\"> </span><span class=\"n\">scope</span><span class=\"p\">,</span>\n",
       "<span class=\"w\">    </span><span class=\"n\">std</span><span class=\"o\">::</span><span class=\"n\">vector</span><span class=\"o\">&lt;</span><span class=\"n\">std</span><span class=\"o\">::</span><span class=\"n\">shared_ptr</span><span class=\"o\">&lt;</span><span class=\"n\">ASTNode</span><span class=\"o\">&gt;&gt;&amp;</span><span class=\"w\"> </span><span class=\"n\">stack</span><span class=\"p\">,</span>\n",
       "<span class=\"w\">    </span><span class=\"n\">std</span><span class=\"o\">::</span><span class=\"n\">vector</span><span class=\"o\">&lt;</span><span class=\"n\">std</span><span class=\"o\">::</span><span class=\"n\">shared_ptr</span><span class=\"o\">&lt;</span><span class=\"n\">Object</span><span class=\"o\">&gt;&gt;</span><span class=\"w\"> </span><span class=\"n\">args</span>\n",
       "<span class=\"w\">  </span><span class=\"p\">)</span><span class=\"w\"> </span><span class=\"k\">override</span><span class=\"p\">;</span>\n",
       "\n",
       "<span class=\"k\">private</span><span class=\"o\">:</span>\n",
       "<span class=\"p\">};</span>\n",
       "\n",
       "\n",
       "<span class=\"k\">class</span><span class=\"w\"> </span><span class=\"nc\">ObjectFunctionReduce</span><span class=\"o\">:</span><span class=\"w\"> </span><span class=\"k\">public</span><span class=\"w\"> </span><span class=\"n\">ObjectFunction</span><span class=\"w\"> </span><span class=\"p\">{</span>\n",
       "<span class=\"k\">public</span><span class=\"o\">:</span>\n",
       "<span class=\"w\">  </span><span class=\"n\">ObjectFunctionReduce</span><span class=\"p\">()</span><span class=\"o\">:</span><span class=\"w\"> </span><span class=\"n\">ObjectFunction</span><span class=\"p\">()</span><span class=\"w\"> </span><span class=\"p\">{</span><span class=\"w\"> </span><span class=\"p\">}</span>\n",
       "\n",
       "<span class=\"w\">  </span><span class=\"n\">std</span><span class=\"o\">::</span><span class=\"n\">string</span><span class=\"w\"> </span><span class=\"n\">repr</span><span class=\"p\">(</span><span class=\"kt\">int</span><span class=\"o\">&amp;</span><span class=\"w\"> </span><span class=\"n\">remaining</span><span class=\"p\">)</span><span class=\"w\"> </span><span class=\"k\">const</span><span class=\"w\"> </span><span class=\"k\">override</span><span class=\"p\">;</span>\n",
       "\n",
       "<span class=\"w\">  </span><span class=\"n\">std</span><span class=\"o\">::</span><span class=\"n\">shared_ptr</span><span class=\"o\">&lt;</span><span class=\"n\">Object</span><span class=\"o\">&gt;</span><span class=\"w\"> </span><span class=\"n\">run</span><span class=\"p\">(</span>\n",
       "<span class=\"w\">    </span><span class=\"n\">std</span><span class=\"o\">::</span><span class=\"n\">shared_ptr</span><span class=\"o\">&lt;</span><span class=\"n\">Scope</span><span class=\"o\">&gt;</span><span class=\"w\"> </span><span class=\"n\">scope</span><span class=\"p\">,</span>\n",
       "<span class=\"w\">    </span><span class=\"n\">std</span><span class=\"o\">::</span><span class=\"n\">vector</span><span class=\"o\">&lt;</span><span class=\"n\">std</span><span class=\"o\">::</span><span class=\"n\">shared_ptr</span><span class=\"o\">&lt;</span><span class=\"n\">ASTNode</span><span class=\"o\">&gt;&gt;&amp;</span><span class=\"w\"> </span><span class=\"n\">stack</span><span class=\"p\">,</span>\n",
       "<span class=\"w\">    </span><span class=\"n\">std</span><span class=\"o\">::</span><span class=\"n\">vector</span><span class=\"o\">&lt;</span><span class=\"n\">std</span><span class=\"o\">::</span><span class=\"n\">shared_ptr</span><span class=\"o\">&lt;</span><span class=\"n\">Object</span><span class=\"o\">&gt;&gt;</span><span class=\"w\"> </span><span class=\"n\">args</span>\n",
       "<span class=\"w\">  </span><span class=\"p\">)</span><span class=\"w\"> </span><span class=\"k\">override</span><span class=\"p\">;</span>\n",
       "\n",
       "<span class=\"k\">private</span><span class=\"o\">:</span>\n",
       "<span class=\"p\">};</span>\n",
       "\n",
       "\n",
       "<span class=\"k\">class</span><span class=\"w\"> </span><span class=\"nc\">ObjectUserFunction</span><span class=\"o\">:</span><span class=\"w\"> </span><span class=\"k\">public</span><span class=\"w\"> </span><span class=\"n\">ObjectFunction</span><span class=\"w\"> </span><span class=\"p\">{</span>\n",
       "<span class=\"k\">public</span><span class=\"o\">:</span>\n",
       "<span class=\"w\">  </span><span class=\"n\">ObjectUserFunction</span><span class=\"p\">(</span><span class=\"n\">std</span><span class=\"o\">::</span><span class=\"n\">shared_ptr</span><span class=\"o\">&lt;</span><span class=\"n\">ASTDefineFun</span><span class=\"o\">&gt;</span><span class=\"w\"> </span><span class=\"n\">fun</span><span class=\"p\">)</span><span class=\"o\">:</span><span class=\"w\"> </span><span class=\"n\">fun_</span><span class=\"p\">(</span><span class=\"n\">fun</span><span class=\"p\">),</span><span class=\"w\"> </span><span class=\"n\">ObjectFunction</span><span class=\"p\">()</span><span class=\"w\"> </span><span class=\"p\">{</span><span class=\"w\"> </span><span class=\"p\">}</span>\n",
       "\n",
       "<span class=\"w\">  </span><span class=\"n\">std</span><span class=\"o\">::</span><span class=\"n\">string</span><span class=\"w\"> </span><span class=\"n\">repr</span><span class=\"p\">(</span><span class=\"kt\">int</span><span class=\"o\">&amp;</span><span class=\"w\"> </span><span class=\"n\">remaining</span><span class=\"p\">)</span><span class=\"w\"> </span><span class=\"k\">const</span><span class=\"w\"> </span><span class=\"k\">override</span><span class=\"p\">;</span>\n",
       "\n",
       "<span class=\"w\">  </span><span class=\"n\">std</span><span class=\"o\">::</span><span class=\"n\">shared_ptr</span><span class=\"o\">&lt;</span><span class=\"n\">Object</span><span class=\"o\">&gt;</span><span class=\"w\"> </span><span class=\"n\">run</span><span class=\"p\">(</span>\n",
       "<span class=\"w\">    </span><span class=\"n\">std</span><span class=\"o\">::</span><span class=\"n\">shared_ptr</span><span class=\"o\">&lt;</span><span class=\"n\">Scope</span><span class=\"o\">&gt;</span><span class=\"w\"> </span><span class=\"n\">scope</span><span class=\"p\">,</span>\n",
       "<span class=\"w\">    </span><span class=\"n\">std</span><span class=\"o\">::</span><span class=\"n\">vector</span><span class=\"o\">&lt;</span><span class=\"n\">std</span><span class=\"o\">::</span><span class=\"n\">shared_ptr</span><span class=\"o\">&lt;</span><span class=\"n\">ASTNode</span><span class=\"o\">&gt;&gt;&amp;</span><span class=\"w\"> </span><span class=\"n\">stack</span><span class=\"p\">,</span>\n",
       "<span class=\"w\">    </span><span class=\"n\">std</span><span class=\"o\">::</span><span class=\"n\">vector</span><span class=\"o\">&lt;</span><span class=\"n\">std</span><span class=\"o\">::</span><span class=\"n\">shared_ptr</span><span class=\"o\">&lt;</span><span class=\"n\">Object</span><span class=\"o\">&gt;&gt;</span><span class=\"w\"> </span><span class=\"n\">args</span>\n",
       "<span class=\"w\">  </span><span class=\"p\">)</span><span class=\"w\"> </span><span class=\"k\">override</span><span class=\"p\">;</span>\n",
       "\n",
       "<span class=\"k\">private</span><span class=\"o\">:</span>\n",
       "<span class=\"w\">  </span><span class=\"n\">std</span><span class=\"o\">::</span><span class=\"n\">shared_ptr</span><span class=\"o\">&lt;</span><span class=\"n\">ASTDefineFun</span><span class=\"o\">&gt;</span><span class=\"w\"> </span><span class=\"n\">fun_</span><span class=\"p\">;</span>\n",
       "<span class=\"p\">};</span>\n",
       "\n",
       "\n",
       "<span class=\"c1\">//// ASTNodes: sequence of instructions (as a tree) to run</span>\n",
       "\n",
       "\n",
       "<span class=\"k\">class</span><span class=\"w\"> </span><span class=\"nc\">ASTNode</span><span class=\"w\"> </span><span class=\"p\">{</span>\n",
       "<span class=\"k\">public</span><span class=\"o\">:</span>\n",
       "<span class=\"w\">  </span><span class=\"n\">ASTNode</span><span class=\"p\">(</span><span class=\"kt\">int</span><span class=\"w\"> </span><span class=\"n\">pos</span><span class=\"p\">,</span><span class=\"w\"> </span><span class=\"k\">const</span><span class=\"w\"> </span><span class=\"n\">std</span><span class=\"o\">::</span><span class=\"n\">string</span><span class=\"o\">&amp;</span><span class=\"w\"> </span><span class=\"n\">line</span><span class=\"p\">)</span><span class=\"o\">:</span><span class=\"w\"> </span><span class=\"n\">pos_</span><span class=\"p\">(</span><span class=\"n\">pos</span><span class=\"p\">),</span><span class=\"w\"> </span><span class=\"n\">line_</span><span class=\"p\">(</span><span class=\"n\">line</span><span class=\"p\">)</span><span class=\"w\"> </span><span class=\"p\">{</span><span class=\"w\"> </span><span class=\"p\">}</span>\n",
       "<span class=\"w\">  </span><span class=\"k\">virtual</span><span class=\"w\"> </span><span class=\"o\">~</span><span class=\"n\">ASTNode</span><span class=\"p\">()</span><span class=\"w\"> </span><span class=\"o\">=</span><span class=\"w\"> </span><span class=\"k\">default</span><span class=\"p\">;</span>\n",
       "\n",
       "<span class=\"w\">  </span><span class=\"kt\">int</span><span class=\"w\"> </span><span class=\"nf\">pos</span><span class=\"p\">()</span><span class=\"w\"> </span><span class=\"k\">const</span><span class=\"w\"> </span><span class=\"p\">{</span><span class=\"w\"> </span><span class=\"k\">return</span><span class=\"w\"> </span><span class=\"n\">pos_</span><span class=\"p\">;</span><span class=\"w\"> </span><span class=\"p\">}</span>\n",
       "<span class=\"w\">  </span><span class=\"k\">const</span><span class=\"w\"> </span><span class=\"n\">std</span><span class=\"o\">::</span><span class=\"n\">string</span><span class=\"o\">&amp;</span><span class=\"w\"> </span><span class=\"nf\">line</span><span class=\"p\">()</span><span class=\"w\"> </span><span class=\"k\">const</span><span class=\"w\"> </span><span class=\"p\">{</span><span class=\"w\"> </span><span class=\"k\">return</span><span class=\"w\"> </span><span class=\"n\">line_</span><span class=\"p\">;</span><span class=\"w\"> </span><span class=\"p\">}</span>\n",
       "\n",
       "<span class=\"w\">  </span><span class=\"k\">virtual</span><span class=\"w\"> </span><span class=\"n\">std</span><span class=\"o\">::</span><span class=\"n\">shared_ptr</span><span class=\"o\">&lt;</span><span class=\"n\">Object</span><span class=\"o\">&gt;</span><span class=\"w\"> </span><span class=\"n\">run</span><span class=\"p\">(</span>\n",
       "<span class=\"w\">    </span><span class=\"n\">std</span><span class=\"o\">::</span><span class=\"n\">shared_ptr</span><span class=\"o\">&lt;</span><span class=\"n\">Scope</span><span class=\"o\">&gt;</span><span class=\"w\"> </span><span class=\"n\">scope</span><span class=\"p\">,</span>\n",
       "<span class=\"w\">    </span><span class=\"n\">std</span><span class=\"o\">::</span><span class=\"n\">vector</span><span class=\"o\">&lt;</span><span class=\"n\">std</span><span class=\"o\">::</span><span class=\"n\">shared_ptr</span><span class=\"o\">&lt;</span><span class=\"n\">ASTNode</span><span class=\"o\">&gt;&gt;&amp;</span><span class=\"w\"> </span><span class=\"n\">stack</span>\n",
       "<span class=\"w\">  </span><span class=\"p\">)</span><span class=\"w\"> </span><span class=\"o\">=</span><span class=\"w\"> </span><span class=\"mi\">0</span><span class=\"p\">;</span>\n",
       "\n",
       "<span class=\"k\">private</span><span class=\"o\">:</span>\n",
       "<span class=\"w\">  </span><span class=\"kt\">int</span><span class=\"w\"> </span><span class=\"n\">pos_</span><span class=\"p\">;</span>\n",
       "<span class=\"w\">  </span><span class=\"k\">const</span><span class=\"w\"> </span><span class=\"n\">std</span><span class=\"o\">::</span><span class=\"n\">string</span><span class=\"w\"> </span><span class=\"n\">line_</span><span class=\"p\">;</span>\n",
       "<span class=\"p\">};</span>\n",
       "\n",
       "<span class=\"k\">class</span><span class=\"w\"> </span><span class=\"nc\">ASTLiteralInt</span><span class=\"o\">:</span><span class=\"w\"> </span><span class=\"k\">public</span><span class=\"w\"> </span><span class=\"n\">ASTNode</span><span class=\"w\"> </span><span class=\"p\">{</span>\n",
       "<span class=\"k\">public</span><span class=\"o\">:</span>\n",
       "<span class=\"w\">  </span><span class=\"n\">ASTLiteralInt</span><span class=\"p\">(</span><span class=\"kt\">int</span><span class=\"w\"> </span><span class=\"n\">pos</span><span class=\"p\">,</span><span class=\"w\"> </span><span class=\"k\">const</span><span class=\"w\"> </span><span class=\"n\">std</span><span class=\"o\">::</span><span class=\"n\">string</span><span class=\"o\">&amp;</span><span class=\"w\"> </span><span class=\"n\">line</span><span class=\"p\">,</span><span class=\"w\"> </span><span class=\"kt\">int</span><span class=\"w\"> </span><span class=\"n\">value</span><span class=\"p\">)</span>\n",
       "<span class=\"w\">    </span><span class=\"o\">:</span><span class=\"w\"> </span><span class=\"n\">value_</span><span class=\"p\">(</span><span class=\"n\">value</span><span class=\"p\">),</span><span class=\"w\"> </span><span class=\"n\">ASTNode</span><span class=\"p\">(</span><span class=\"n\">pos</span><span class=\"p\">,</span><span class=\"w\"> </span><span class=\"n\">line</span><span class=\"p\">)</span><span class=\"w\"> </span><span class=\"p\">{</span><span class=\"w\"> </span><span class=\"p\">}</span>\n",
       "\n",
       "<span class=\"w\">  </span><span class=\"kt\">int</span><span class=\"w\"> </span><span class=\"n\">value</span><span class=\"p\">()</span><span class=\"w\"> </span><span class=\"k\">const</span><span class=\"w\"> </span><span class=\"p\">{</span><span class=\"w\"> </span><span class=\"k\">return</span><span class=\"w\"> </span><span class=\"n\">value_</span><span class=\"p\">;</span><span class=\"w\"> </span><span class=\"p\">}</span>\n",
       "\n",
       "<span class=\"w\">  </span><span class=\"n\">std</span><span class=\"o\">::</span><span class=\"n\">shared_ptr</span><span class=\"o\">&lt;</span><span class=\"n\">Object</span><span class=\"o\">&gt;</span><span class=\"w\"> </span><span class=\"n\">run</span><span class=\"p\">(</span>\n",
       "<span class=\"w\">    </span><span class=\"n\">std</span><span class=\"o\">::</span><span class=\"n\">shared_ptr</span><span class=\"o\">&lt;</span><span class=\"n\">Scope</span><span class=\"o\">&gt;</span><span class=\"w\"> </span><span class=\"n\">scope</span><span class=\"p\">,</span>\n",
       "<span class=\"w\">    </span><span class=\"n\">std</span><span class=\"o\">::</span><span class=\"n\">vector</span><span class=\"o\">&lt;</span><span class=\"n\">std</span><span class=\"o\">::</span><span class=\"n\">shared_ptr</span><span class=\"o\">&lt;</span><span class=\"n\">ASTNode</span><span class=\"o\">&gt;&gt;&amp;</span><span class=\"w\"> </span><span class=\"n\">stack</span>\n",
       "<span class=\"w\">  </span><span class=\"p\">)</span><span class=\"w\"> </span><span class=\"k\">override</span><span class=\"p\">;</span>\n",
       "\n",
       "<span class=\"k\">private</span><span class=\"o\">:</span>\n",
       "<span class=\"w\">  </span><span class=\"kt\">int</span><span class=\"w\"> </span><span class=\"n\">value_</span><span class=\"p\">;</span>\n",
       "<span class=\"p\">};</span>\n",
       "\n",
       "\n",
       "<span class=\"k\">class</span><span class=\"w\"> </span><span class=\"nc\">ASTLiteralList</span><span class=\"o\">:</span><span class=\"w\"> </span><span class=\"k\">public</span><span class=\"w\"> </span><span class=\"n\">ASTNode</span><span class=\"w\"> </span><span class=\"p\">{</span>\n",
       "<span class=\"k\">public</span><span class=\"o\">:</span>\n",
       "<span class=\"w\">  </span><span class=\"n\">ASTLiteralList</span><span class=\"p\">(</span>\n",
       "<span class=\"w\">    </span><span class=\"kt\">int</span><span class=\"w\"> </span><span class=\"n\">pos</span><span class=\"p\">,</span>\n",
       "<span class=\"w\">    </span><span class=\"k\">const</span><span class=\"w\"> </span><span class=\"n\">std</span><span class=\"o\">::</span><span class=\"n\">string</span><span class=\"o\">&amp;</span><span class=\"w\"> </span><span class=\"n\">line</span><span class=\"p\">,</span>\n",
       "<span class=\"w\">    </span><span class=\"n\">std</span><span class=\"o\">::</span><span class=\"n\">vector</span><span class=\"o\">&lt;</span><span class=\"n\">std</span><span class=\"o\">::</span><span class=\"n\">shared_ptr</span><span class=\"o\">&lt;</span><span class=\"n\">ASTNode</span><span class=\"o\">&gt;&gt;&amp;</span><span class=\"w\"> </span><span class=\"n\">values</span>\n",
       "<span class=\"w\">  </span><span class=\"p\">)</span>\n",
       "<span class=\"w\">    </span><span class=\"o\">:</span><span class=\"w\"> </span><span class=\"n\">values_</span><span class=\"p\">(</span><span class=\"n\">values</span><span class=\"p\">)</span>\n",
       "<span class=\"w\">    </span><span class=\"p\">,</span><span class=\"w\"> </span><span class=\"n\">ASTNode</span><span class=\"p\">(</span><span class=\"n\">pos</span><span class=\"p\">,</span><span class=\"w\"> </span><span class=\"n\">line</span><span class=\"p\">)</span><span class=\"w\"> </span><span class=\"p\">{</span><span class=\"w\"> </span><span class=\"p\">}</span>\n",
       "\n",
       "<span class=\"w\">  </span><span class=\"n\">std</span><span class=\"o\">::</span><span class=\"n\">shared_ptr</span><span class=\"o\">&lt;</span><span class=\"n\">Object</span><span class=\"o\">&gt;</span><span class=\"w\"> </span><span class=\"n\">run</span><span class=\"p\">(</span>\n",
       "<span class=\"w\">    </span><span class=\"n\">std</span><span class=\"o\">::</span><span class=\"n\">shared_ptr</span><span class=\"o\">&lt;</span><span class=\"n\">Scope</span><span class=\"o\">&gt;</span><span class=\"w\"> </span><span class=\"n\">scope</span><span class=\"p\">,</span>\n",
       "<span class=\"w\">    </span><span class=\"n\">std</span><span class=\"o\">::</span><span class=\"n\">vector</span><span class=\"o\">&lt;</span><span class=\"n\">std</span><span class=\"o\">::</span><span class=\"n\">shared_ptr</span><span class=\"o\">&lt;</span><span class=\"n\">ASTNode</span><span class=\"o\">&gt;&gt;&amp;</span><span class=\"w\"> </span><span class=\"n\">stack</span>\n",
       "<span class=\"w\">  </span><span class=\"p\">)</span><span class=\"w\"> </span><span class=\"k\">override</span><span class=\"p\">;</span>\n",
       "\n",
       "<span class=\"k\">private</span><span class=\"o\">:</span>\n",
       "<span class=\"w\">  </span><span class=\"n\">std</span><span class=\"o\">::</span><span class=\"n\">vector</span><span class=\"o\">&lt;</span><span class=\"n\">std</span><span class=\"o\">::</span><span class=\"n\">shared_ptr</span><span class=\"o\">&lt;</span><span class=\"n\">ASTNode</span><span class=\"o\">&gt;&gt;</span><span class=\"w\"> </span><span class=\"n\">values_</span><span class=\"p\">;</span>\n",
       "<span class=\"p\">};</span>\n",
       "\n",
       "\n",
       "<span class=\"k\">class</span><span class=\"w\"> </span><span class=\"nc\">ASTDefineFun</span><span class=\"o\">:</span><span class=\"w\"> </span><span class=\"k\">public</span><span class=\"w\"> </span><span class=\"n\">ASTNode</span><span class=\"p\">,</span><span class=\"w\"> </span><span class=\"k\">public</span><span class=\"w\"> </span><span class=\"n\">std</span><span class=\"o\">::</span><span class=\"n\">enable_shared_from_this</span><span class=\"o\">&lt;</span><span class=\"n\">ASTDefineFun</span><span class=\"o\">&gt;</span><span class=\"w\"> </span><span class=\"p\">{</span>\n",
       "<span class=\"k\">public</span><span class=\"o\">:</span>\n",
       "<span class=\"w\">  </span><span class=\"n\">ASTDefineFun</span><span class=\"p\">(</span>\n",
       "<span class=\"w\">   </span><span class=\"kt\">int</span><span class=\"w\"> </span><span class=\"n\">pos</span><span class=\"p\">,</span>\n",
       "<span class=\"w\">   </span><span class=\"k\">const</span><span class=\"w\"> </span><span class=\"n\">std</span><span class=\"o\">::</span><span class=\"n\">string</span><span class=\"o\">&amp;</span><span class=\"w\"> </span><span class=\"n\">line</span><span class=\"p\">,</span>\n",
       "<span class=\"w\">   </span><span class=\"k\">const</span><span class=\"w\"> </span><span class=\"n\">std</span><span class=\"o\">::</span><span class=\"n\">vector</span><span class=\"o\">&lt;</span><span class=\"n\">std</span><span class=\"o\">::</span><span class=\"n\">string</span><span class=\"o\">&gt;&amp;</span><span class=\"w\"> </span><span class=\"n\">params</span><span class=\"p\">,</span>\n",
       "<span class=\"w\">   </span><span class=\"n\">std</span><span class=\"o\">::</span><span class=\"n\">vector</span><span class=\"o\">&lt;</span><span class=\"n\">std</span><span class=\"o\">::</span><span class=\"n\">shared_ptr</span><span class=\"o\">&lt;</span><span class=\"n\">ASTNode</span><span class=\"o\">&gt;&gt;&amp;</span><span class=\"w\"> </span><span class=\"n\">body</span>\n",
       "<span class=\"w\">  </span><span class=\"p\">)</span>\n",
       "<span class=\"w\">    </span><span class=\"o\">:</span><span class=\"w\"> </span><span class=\"n\">params_</span><span class=\"p\">(</span><span class=\"n\">params</span><span class=\"p\">)</span>\n",
       "<span class=\"w\">    </span><span class=\"p\">,</span><span class=\"w\"> </span><span class=\"n\">body_</span><span class=\"p\">(</span><span class=\"n\">body</span><span class=\"p\">)</span>\n",
       "<span class=\"w\">    </span><span class=\"p\">,</span><span class=\"w\"> </span><span class=\"n\">ASTNode</span><span class=\"p\">(</span><span class=\"n\">pos</span><span class=\"p\">,</span><span class=\"w\"> </span><span class=\"n\">line</span><span class=\"p\">)</span><span class=\"w\"> </span><span class=\"p\">{</span><span class=\"w\"> </span><span class=\"p\">}</span>\n",
       "\n",
       "<span class=\"w\">  </span><span class=\"k\">const</span><span class=\"w\"> </span><span class=\"n\">std</span><span class=\"o\">::</span><span class=\"n\">vector</span><span class=\"o\">&lt;</span><span class=\"n\">std</span><span class=\"o\">::</span><span class=\"n\">string</span><span class=\"o\">&gt;&amp;</span><span class=\"w\"> </span><span class=\"n\">params</span><span class=\"p\">()</span><span class=\"w\"> </span><span class=\"p\">{</span><span class=\"w\"> </span><span class=\"k\">return</span><span class=\"w\"> </span><span class=\"n\">params_</span><span class=\"p\">;</span><span class=\"w\"> </span><span class=\"p\">}</span>\n",
       "<span class=\"w\">  </span><span class=\"n\">std</span><span class=\"o\">::</span><span class=\"n\">vector</span><span class=\"o\">&lt;</span><span class=\"n\">std</span><span class=\"o\">::</span><span class=\"n\">shared_ptr</span><span class=\"o\">&lt;</span><span class=\"n\">ASTNode</span><span class=\"o\">&gt;&gt;&amp;</span><span class=\"w\"> </span><span class=\"n\">body</span><span class=\"p\">()</span><span class=\"w\"> </span><span class=\"p\">{</span><span class=\"w\"> </span><span class=\"k\">return</span><span class=\"w\"> </span><span class=\"n\">body_</span><span class=\"p\">;</span><span class=\"w\"> </span><span class=\"p\">}</span>\n",
       "\n",
       "<span class=\"w\">  </span><span class=\"n\">std</span><span class=\"o\">::</span><span class=\"n\">shared_ptr</span><span class=\"o\">&lt;</span><span class=\"n\">Object</span><span class=\"o\">&gt;</span><span class=\"w\"> </span><span class=\"n\">run</span><span class=\"p\">(</span>\n",
       "<span class=\"w\">    </span><span class=\"n\">std</span><span class=\"o\">::</span><span class=\"n\">shared_ptr</span><span class=\"o\">&lt;</span><span class=\"n\">Scope</span><span class=\"o\">&gt;</span><span class=\"w\"> </span><span class=\"n\">scope</span><span class=\"p\">,</span>\n",
       "<span class=\"w\">    </span><span class=\"n\">std</span><span class=\"o\">::</span><span class=\"n\">vector</span><span class=\"o\">&lt;</span><span class=\"n\">std</span><span class=\"o\">::</span><span class=\"n\">shared_ptr</span><span class=\"o\">&lt;</span><span class=\"n\">ASTNode</span><span class=\"o\">&gt;&gt;&amp;</span><span class=\"w\"> </span><span class=\"n\">stack</span>\n",
       "<span class=\"w\">  </span><span class=\"p\">)</span><span class=\"w\"> </span><span class=\"k\">override</span><span class=\"p\">;</span>\n",
       "\n",
       "<span class=\"k\">private</span><span class=\"o\">:</span>\n",
       "<span class=\"w\">  </span><span class=\"k\">const</span><span class=\"w\"> </span><span class=\"n\">std</span><span class=\"o\">::</span><span class=\"n\">vector</span><span class=\"o\">&lt;</span><span class=\"n\">std</span><span class=\"o\">::</span><span class=\"n\">string</span><span class=\"o\">&gt;</span><span class=\"w\"> </span><span class=\"n\">params_</span><span class=\"p\">;</span>\n",
       "<span class=\"w\">  </span><span class=\"n\">std</span><span class=\"o\">::</span><span class=\"n\">vector</span><span class=\"o\">&lt;</span><span class=\"n\">std</span><span class=\"o\">::</span><span class=\"n\">shared_ptr</span><span class=\"o\">&lt;</span><span class=\"n\">ASTNode</span><span class=\"o\">&gt;&gt;</span><span class=\"w\"> </span><span class=\"n\">body_</span><span class=\"p\">;</span>\n",
       "<span class=\"p\">};</span>\n",
       "\n",
       "\n",
       "<span class=\"k\">class</span><span class=\"w\"> </span><span class=\"nc\">ASTCallNamed</span><span class=\"o\">:</span><span class=\"w\"> </span><span class=\"k\">public</span><span class=\"w\"> </span><span class=\"n\">ASTNode</span><span class=\"p\">,</span><span class=\"w\"> </span><span class=\"k\">public</span><span class=\"w\"> </span><span class=\"n\">std</span><span class=\"o\">::</span><span class=\"n\">enable_shared_from_this</span><span class=\"o\">&lt;</span><span class=\"n\">ASTCallNamed</span><span class=\"o\">&gt;</span><span class=\"w\"> </span><span class=\"p\">{</span>\n",
       "<span class=\"k\">public</span><span class=\"o\">:</span>\n",
       "<span class=\"w\">  </span><span class=\"n\">ASTCallNamed</span><span class=\"p\">(</span>\n",
       "<span class=\"w\">    </span><span class=\"kt\">int</span><span class=\"w\"> </span><span class=\"n\">pos</span><span class=\"p\">,</span>\n",
       "<span class=\"w\">    </span><span class=\"k\">const</span><span class=\"w\"> </span><span class=\"n\">std</span><span class=\"o\">::</span><span class=\"n\">string</span><span class=\"o\">&amp;</span><span class=\"w\"> </span><span class=\"n\">line</span><span class=\"p\">,</span>\n",
       "<span class=\"w\">    </span><span class=\"k\">const</span><span class=\"w\"> </span><span class=\"n\">std</span><span class=\"o\">::</span><span class=\"n\">string</span><span class=\"o\">&amp;</span><span class=\"w\"> </span><span class=\"n\">name</span><span class=\"p\">,</span>\n",
       "<span class=\"w\">    </span><span class=\"n\">std</span><span class=\"o\">::</span><span class=\"n\">vector</span><span class=\"o\">&lt;</span><span class=\"n\">std</span><span class=\"o\">::</span><span class=\"n\">shared_ptr</span><span class=\"o\">&lt;</span><span class=\"n\">ASTNode</span><span class=\"o\">&gt;&gt;</span><span class=\"w\"> </span><span class=\"n\">args</span>\n",
       "<span class=\"w\">  </span><span class=\"p\">)</span>\n",
       "<span class=\"w\">    </span><span class=\"o\">:</span><span class=\"w\"> </span><span class=\"n\">name_</span><span class=\"p\">(</span><span class=\"n\">name</span><span class=\"p\">)</span>\n",
       "<span class=\"w\">    </span><span class=\"p\">,</span><span class=\"w\"> </span><span class=\"n\">args_</span><span class=\"p\">(</span><span class=\"n\">args</span><span class=\"p\">)</span>\n",
       "<span class=\"w\">    </span><span class=\"p\">,</span><span class=\"w\"> </span><span class=\"n\">ASTNode</span><span class=\"p\">(</span><span class=\"n\">pos</span><span class=\"p\">,</span><span class=\"w\"> </span><span class=\"n\">line</span><span class=\"p\">)</span><span class=\"w\"> </span><span class=\"p\">{</span><span class=\"w\"> </span><span class=\"p\">}</span>\n",
       "\n",
       "<span class=\"w\">  </span><span class=\"k\">const</span><span class=\"w\"> </span><span class=\"n\">std</span><span class=\"o\">::</span><span class=\"n\">string</span><span class=\"o\">&amp;</span><span class=\"w\"> </span><span class=\"n\">name</span><span class=\"p\">()</span><span class=\"w\"> </span><span class=\"k\">const</span><span class=\"w\"> </span><span class=\"p\">{</span><span class=\"w\"> </span><span class=\"k\">return</span><span class=\"w\"> </span><span class=\"n\">name_</span><span class=\"p\">;</span><span class=\"w\"> </span><span class=\"p\">}</span>\n",
       "\n",
       "<span class=\"w\">  </span><span class=\"n\">std</span><span class=\"o\">::</span><span class=\"n\">shared_ptr</span><span class=\"o\">&lt;</span><span class=\"n\">Object</span><span class=\"o\">&gt;</span><span class=\"w\"> </span><span class=\"n\">run</span><span class=\"p\">(</span>\n",
       "<span class=\"w\">    </span><span class=\"n\">std</span><span class=\"o\">::</span><span class=\"n\">shared_ptr</span><span class=\"o\">&lt;</span><span class=\"n\">Scope</span><span class=\"o\">&gt;</span><span class=\"w\"> </span><span class=\"n\">scope</span><span class=\"p\">,</span>\n",
       "<span class=\"w\">    </span><span class=\"n\">std</span><span class=\"o\">::</span><span class=\"n\">vector</span><span class=\"o\">&lt;</span><span class=\"n\">std</span><span class=\"o\">::</span><span class=\"n\">shared_ptr</span><span class=\"o\">&lt;</span><span class=\"n\">ASTNode</span><span class=\"o\">&gt;&gt;&amp;</span><span class=\"w\"> </span><span class=\"n\">stack</span>\n",
       "<span class=\"w\">  </span><span class=\"p\">)</span><span class=\"w\"> </span><span class=\"k\">override</span><span class=\"p\">;</span>\n",
       "\n",
       "<span class=\"k\">private</span><span class=\"o\">:</span>\n",
       "<span class=\"w\">  </span><span class=\"k\">const</span><span class=\"w\"> </span><span class=\"n\">std</span><span class=\"o\">::</span><span class=\"n\">string</span><span class=\"w\"> </span><span class=\"n\">name_</span><span class=\"p\">;</span>\n",
       "<span class=\"w\">  </span><span class=\"n\">std</span><span class=\"o\">::</span><span class=\"n\">vector</span><span class=\"o\">&lt;</span><span class=\"n\">std</span><span class=\"o\">::</span><span class=\"n\">shared_ptr</span><span class=\"o\">&lt;</span><span class=\"n\">ASTNode</span><span class=\"o\">&gt;&gt;</span><span class=\"w\"> </span><span class=\"n\">args_</span><span class=\"p\">;</span>\n",
       "<span class=\"p\">};</span>\n",
       "\n",
       "\n",
       "<span class=\"k\">class</span><span class=\"w\"> </span><span class=\"nc\">ASTAssignment</span><span class=\"o\">:</span><span class=\"w\"> </span><span class=\"k\">public</span><span class=\"w\"> </span><span class=\"n\">ASTNode</span><span class=\"w\"> </span><span class=\"p\">{</span>\n",
       "<span class=\"k\">public</span><span class=\"o\">:</span>\n",
       "<span class=\"w\">  </span><span class=\"n\">ASTAssignment</span><span class=\"p\">(</span>\n",
       "<span class=\"w\">    </span><span class=\"kt\">int</span><span class=\"w\"> </span><span class=\"n\">pos</span><span class=\"p\">,</span>\n",
       "<span class=\"w\">    </span><span class=\"k\">const</span><span class=\"w\"> </span><span class=\"n\">std</span><span class=\"o\">::</span><span class=\"n\">string</span><span class=\"o\">&amp;</span><span class=\"w\"> </span><span class=\"n\">line</span><span class=\"p\">,</span>\n",
       "<span class=\"w\">    </span><span class=\"k\">const</span><span class=\"w\"> </span><span class=\"n\">std</span><span class=\"o\">::</span><span class=\"n\">string</span><span class=\"o\">&amp;</span><span class=\"w\"> </span><span class=\"n\">name</span><span class=\"p\">,</span>\n",
       "<span class=\"w\">    </span><span class=\"n\">std</span><span class=\"o\">::</span><span class=\"n\">shared_ptr</span><span class=\"o\">&lt;</span><span class=\"n\">ASTNode</span><span class=\"o\">&gt;</span><span class=\"w\"> </span><span class=\"n\">value</span>\n",
       "<span class=\"w\">  </span><span class=\"p\">)</span>\n",
       "<span class=\"w\">    </span><span class=\"o\">:</span><span class=\"w\"> </span><span class=\"n\">name_</span><span class=\"p\">(</span><span class=\"n\">name</span><span class=\"p\">)</span>\n",
       "<span class=\"w\">    </span><span class=\"p\">,</span><span class=\"w\"> </span><span class=\"n\">value_</span><span class=\"p\">(</span><span class=\"n\">value</span><span class=\"p\">)</span>\n",
       "<span class=\"w\">    </span><span class=\"p\">,</span><span class=\"w\"> </span><span class=\"n\">ASTNode</span><span class=\"p\">(</span><span class=\"n\">pos</span><span class=\"p\">,</span><span class=\"w\"> </span><span class=\"n\">line</span><span class=\"p\">)</span><span class=\"w\"> </span><span class=\"p\">{</span><span class=\"w\"> </span><span class=\"p\">}</span>\n",
       "\n",
       "<span class=\"w\">  </span><span class=\"k\">const</span><span class=\"w\"> </span><span class=\"n\">std</span><span class=\"o\">::</span><span class=\"n\">string</span><span class=\"o\">&amp;</span><span class=\"w\"> </span><span class=\"n\">name</span><span class=\"p\">()</span><span class=\"w\"> </span><span class=\"k\">const</span><span class=\"w\"> </span><span class=\"p\">{</span><span class=\"w\"> </span><span class=\"k\">return</span><span class=\"w\"> </span><span class=\"n\">name_</span><span class=\"p\">;</span><span class=\"w\"> </span><span class=\"p\">}</span>\n",
       "\n",
       "<span class=\"w\">  </span><span class=\"n\">std</span><span class=\"o\">::</span><span class=\"n\">shared_ptr</span><span class=\"o\">&lt;</span><span class=\"n\">Object</span><span class=\"o\">&gt;</span><span class=\"w\"> </span><span class=\"n\">run</span><span class=\"p\">(</span>\n",
       "<span class=\"w\">    </span><span class=\"n\">std</span><span class=\"o\">::</span><span class=\"n\">shared_ptr</span><span class=\"o\">&lt;</span><span class=\"n\">Scope</span><span class=\"o\">&gt;</span><span class=\"w\"> </span><span class=\"n\">scope</span><span class=\"p\">,</span>\n",
       "<span class=\"w\">    </span><span class=\"n\">std</span><span class=\"o\">::</span><span class=\"n\">vector</span><span class=\"o\">&lt;</span><span class=\"n\">std</span><span class=\"o\">::</span><span class=\"n\">shared_ptr</span><span class=\"o\">&lt;</span><span class=\"n\">ASTNode</span><span class=\"o\">&gt;&gt;&amp;</span><span class=\"w\"> </span><span class=\"n\">stack</span>\n",
       "<span class=\"w\">  </span><span class=\"p\">)</span><span class=\"w\"> </span><span class=\"k\">override</span><span class=\"p\">;</span>\n",
       "\n",
       "<span class=\"k\">private</span><span class=\"o\">:</span>\n",
       "<span class=\"w\">  </span><span class=\"k\">const</span><span class=\"w\"> </span><span class=\"n\">std</span><span class=\"o\">::</span><span class=\"n\">string</span><span class=\"w\"> </span><span class=\"n\">name_</span><span class=\"p\">;</span>\n",
       "<span class=\"w\">  </span><span class=\"n\">std</span><span class=\"o\">::</span><span class=\"n\">shared_ptr</span><span class=\"o\">&lt;</span><span class=\"n\">ASTNode</span><span class=\"o\">&gt;</span><span class=\"w\"> </span><span class=\"n\">value_</span><span class=\"p\">;</span>\n",
       "<span class=\"p\">};</span>\n",
       "\n",
       "\n",
       "<span class=\"k\">class</span><span class=\"w\"> </span><span class=\"nc\">ASTDelete</span><span class=\"o\">:</span><span class=\"w\"> </span><span class=\"k\">public</span><span class=\"w\"> </span><span class=\"n\">ASTNode</span><span class=\"w\"> </span><span class=\"p\">{</span>\n",
       "<span class=\"k\">public</span><span class=\"o\">:</span>\n",
       "<span class=\"w\">  </span><span class=\"n\">ASTDelete</span><span class=\"p\">(</span><span class=\"kt\">int</span><span class=\"w\"> </span><span class=\"n\">pos</span><span class=\"p\">,</span><span class=\"w\"> </span><span class=\"k\">const</span><span class=\"w\"> </span><span class=\"n\">std</span><span class=\"o\">::</span><span class=\"n\">string</span><span class=\"o\">&amp;</span><span class=\"w\"> </span><span class=\"n\">line</span><span class=\"p\">,</span><span class=\"w\"> </span><span class=\"k\">const</span><span class=\"w\"> </span><span class=\"n\">std</span><span class=\"o\">::</span><span class=\"n\">string</span><span class=\"o\">&amp;</span><span class=\"w\"> </span><span class=\"n\">name</span><span class=\"p\">)</span>\n",
       "<span class=\"w\">    </span><span class=\"o\">:</span><span class=\"w\"> </span><span class=\"n\">name_</span><span class=\"p\">(</span><span class=\"n\">name</span><span class=\"p\">),</span><span class=\"w\"> </span><span class=\"n\">ASTNode</span><span class=\"p\">(</span><span class=\"n\">pos</span><span class=\"p\">,</span><span class=\"w\"> </span><span class=\"n\">line</span><span class=\"p\">)</span><span class=\"w\"> </span><span class=\"p\">{</span><span class=\"w\"> </span><span class=\"p\">}</span>\n",
       "\n",
       "<span class=\"w\">  </span><span class=\"k\">const</span><span class=\"w\"> </span><span class=\"n\">std</span><span class=\"o\">::</span><span class=\"n\">string</span><span class=\"o\">&amp;</span><span class=\"w\"> </span><span class=\"n\">name</span><span class=\"p\">()</span><span class=\"w\"> </span><span class=\"k\">const</span><span class=\"w\"> </span><span class=\"p\">{</span><span class=\"w\"> </span><span class=\"k\">return</span><span class=\"w\"> </span><span class=\"n\">name_</span><span class=\"p\">;</span><span class=\"w\"> </span><span class=\"p\">}</span>\n",
       "\n",
       "<span class=\"w\">  </span><span class=\"n\">std</span><span class=\"o\">::</span><span class=\"n\">shared_ptr</span><span class=\"o\">&lt;</span><span class=\"n\">Object</span><span class=\"o\">&gt;</span><span class=\"w\"> </span><span class=\"n\">run</span><span class=\"p\">(</span>\n",
       "<span class=\"w\">    </span><span class=\"n\">std</span><span class=\"o\">::</span><span class=\"n\">shared_ptr</span><span class=\"o\">&lt;</span><span class=\"n\">Scope</span><span class=\"o\">&gt;</span><span class=\"w\"> </span><span class=\"n\">scope</span><span class=\"p\">,</span>\n",
       "<span class=\"w\">    </span><span class=\"n\">std</span><span class=\"o\">::</span><span class=\"n\">vector</span><span class=\"o\">&lt;</span><span class=\"n\">std</span><span class=\"o\">::</span><span class=\"n\">shared_ptr</span><span class=\"o\">&lt;</span><span class=\"n\">ASTNode</span><span class=\"o\">&gt;&gt;&amp;</span><span class=\"w\"> </span><span class=\"n\">stack</span>\n",
       "<span class=\"w\">  </span><span class=\"p\">)</span><span class=\"w\"> </span><span class=\"k\">override</span><span class=\"p\">;</span>\n",
       "\n",
       "<span class=\"k\">private</span><span class=\"o\">:</span>\n",
       "<span class=\"w\">  </span><span class=\"k\">const</span><span class=\"w\"> </span><span class=\"n\">std</span><span class=\"o\">::</span><span class=\"n\">string</span><span class=\"w\"> </span><span class=\"n\">name_</span><span class=\"p\">;</span>\n",
       "<span class=\"p\">};</span>\n",
       "\n",
       "\n",
       "<span class=\"k\">class</span><span class=\"w\"> </span><span class=\"nc\">ASTIdentifier</span><span class=\"o\">:</span><span class=\"w\"> </span><span class=\"k\">public</span><span class=\"w\"> </span><span class=\"n\">ASTNode</span><span class=\"w\"> </span><span class=\"p\">{</span>\n",
       "<span class=\"k\">public</span><span class=\"o\">:</span>\n",
       "<span class=\"w\">  </span><span class=\"n\">ASTIdentifier</span><span class=\"p\">(</span><span class=\"kt\">int</span><span class=\"w\"> </span><span class=\"n\">pos</span><span class=\"p\">,</span><span class=\"w\"> </span><span class=\"k\">const</span><span class=\"w\"> </span><span class=\"n\">std</span><span class=\"o\">::</span><span class=\"n\">string</span><span class=\"o\">&amp;</span><span class=\"w\"> </span><span class=\"n\">line</span><span class=\"p\">,</span><span class=\"w\"> </span><span class=\"k\">const</span><span class=\"w\"> </span><span class=\"n\">std</span><span class=\"o\">::</span><span class=\"n\">string</span><span class=\"o\">&amp;</span><span class=\"w\"> </span><span class=\"n\">name</span><span class=\"p\">)</span>\n",
       "<span class=\"w\">    </span><span class=\"o\">:</span><span class=\"w\"> </span><span class=\"n\">name_</span><span class=\"p\">(</span><span class=\"n\">name</span><span class=\"p\">),</span><span class=\"w\"> </span><span class=\"n\">ASTNode</span><span class=\"p\">(</span><span class=\"n\">pos</span><span class=\"p\">,</span><span class=\"w\"> </span><span class=\"n\">line</span><span class=\"p\">)</span><span class=\"w\"> </span><span class=\"p\">{</span><span class=\"w\"> </span><span class=\"p\">}</span>\n",
       "\n",
       "<span class=\"w\">  </span><span class=\"k\">const</span><span class=\"w\"> </span><span class=\"n\">std</span><span class=\"o\">::</span><span class=\"n\">string</span><span class=\"o\">&amp;</span><span class=\"w\"> </span><span class=\"n\">name</span><span class=\"p\">()</span><span class=\"w\"> </span><span class=\"k\">const</span><span class=\"w\"> </span><span class=\"p\">{</span><span class=\"w\"> </span><span class=\"k\">return</span><span class=\"w\"> </span><span class=\"n\">name_</span><span class=\"p\">;</span><span class=\"w\"> </span><span class=\"p\">}</span>\n",
       "\n",
       "<span class=\"w\">  </span><span class=\"n\">std</span><span class=\"o\">::</span><span class=\"n\">shared_ptr</span><span class=\"o\">&lt;</span><span class=\"n\">Object</span><span class=\"o\">&gt;</span><span class=\"w\"> </span><span class=\"n\">run</span><span class=\"p\">(</span>\n",
       "<span class=\"w\">    </span><span class=\"n\">std</span><span class=\"o\">::</span><span class=\"n\">shared_ptr</span><span class=\"o\">&lt;</span><span class=\"n\">Scope</span><span class=\"o\">&gt;</span><span class=\"w\"> </span><span class=\"n\">scope</span><span class=\"p\">,</span>\n",
       "<span class=\"w\">    </span><span class=\"n\">std</span><span class=\"o\">::</span><span class=\"n\">vector</span><span class=\"o\">&lt;</span><span class=\"n\">std</span><span class=\"o\">::</span><span class=\"n\">shared_ptr</span><span class=\"o\">&lt;</span><span class=\"n\">ASTNode</span><span class=\"o\">&gt;&gt;&amp;</span><span class=\"w\"> </span><span class=\"n\">stack</span>\n",
       "<span class=\"w\">  </span><span class=\"p\">)</span><span class=\"w\"> </span><span class=\"k\">override</span><span class=\"p\">;</span>\n",
       "\n",
       "<span class=\"k\">private</span><span class=\"o\">:</span>\n",
       "<span class=\"w\">  </span><span class=\"k\">const</span><span class=\"w\"> </span><span class=\"n\">std</span><span class=\"o\">::</span><span class=\"n\">string</span><span class=\"w\"> </span><span class=\"n\">name_</span><span class=\"p\">;</span>\n",
       "<span class=\"p\">};</span>\n",
       "\n",
       "\n",
       "<span class=\"c1\">//// error handling (in parsing and while running code)</span>\n",
       "\n",
       "\n",
       "<span class=\"n\">std</span><span class=\"o\">::</span><span class=\"n\">string</span><span class=\"w\"> </span><span class=\"nf\">error_arrow</span><span class=\"p\">(</span><span class=\"kt\">int</span><span class=\"w\"> </span><span class=\"n\">position</span><span class=\"p\">);</span>\n",
       "<span class=\"n\">std</span><span class=\"o\">::</span><span class=\"n\">runtime_error</span><span class=\"w\"> </span><span class=\"nf\">error</span><span class=\"p\">(</span><span class=\"kt\">int</span><span class=\"w\"> </span><span class=\"n\">position</span><span class=\"p\">,</span><span class=\"w\"> </span><span class=\"k\">const</span><span class=\"w\"> </span><span class=\"n\">std</span><span class=\"o\">::</span><span class=\"n\">string</span><span class=\"o\">&amp;</span><span class=\"w\"> </span><span class=\"n\">message</span><span class=\"p\">);</span>\n",
       "<span class=\"n\">std</span><span class=\"o\">::</span><span class=\"n\">runtime_error</span><span class=\"w\"> </span><span class=\"nf\">error</span><span class=\"p\">(</span>\n",
       "<span class=\"w\">  </span><span class=\"n\">std</span><span class=\"o\">::</span><span class=\"n\">vector</span><span class=\"o\">&lt;</span><span class=\"n\">std</span><span class=\"o\">::</span><span class=\"n\">shared_ptr</span><span class=\"o\">&lt;</span><span class=\"n\">ASTNode</span><span class=\"o\">&gt;&gt;&amp;</span><span class=\"w\"> </span><span class=\"n\">stack</span><span class=\"p\">,</span>\n",
       "<span class=\"w\">  </span><span class=\"k\">const</span><span class=\"w\"> </span><span class=\"n\">std</span><span class=\"o\">::</span><span class=\"n\">string</span><span class=\"o\">&amp;</span><span class=\"w\"> </span><span class=\"n\">message</span>\n",
       "<span class=\"p\">);</span>\n",
       "\n",
       "\n",
       "<span class=\"c1\">//// parsing: turning the source code into ASTNodes</span>\n",
       "\n",
       "\n",
       "<span class=\"k\">typedef</span><span class=\"w\"> </span><span class=\"n\">std</span><span class=\"o\">::</span><span class=\"n\">pair</span><span class=\"o\">&lt;</span><span class=\"kt\">int</span><span class=\"p\">,</span><span class=\"w\"> </span><span class=\"k\">const</span><span class=\"w\"> </span><span class=\"n\">std</span><span class=\"o\">::</span><span class=\"n\">string</span><span class=\"o\">&gt;</span><span class=\"w\"> </span><span class=\"n\">PosToken</span><span class=\"p\">;</span>\n",
       "\n",
       "\n",
       "<span class=\"n\">std</span><span class=\"o\">::</span><span class=\"n\">vector</span><span class=\"o\">&lt;</span><span class=\"n\">PosToken</span><span class=\"o\">&gt;</span><span class=\"w\"> </span><span class=\"n\">tokenize</span><span class=\"p\">(</span><span class=\"k\">const</span><span class=\"w\"> </span><span class=\"n\">std</span><span class=\"o\">::</span><span class=\"n\">string</span><span class=\"o\">&amp;</span><span class=\"w\"> </span><span class=\"n\">line</span><span class=\"p\">);</span>\n",
       "\n",
       "<span class=\"n\">std</span><span class=\"o\">::</span><span class=\"n\">shared_ptr</span><span class=\"o\">&lt;</span><span class=\"n\">ASTNode</span><span class=\"o\">&gt;</span>\n",
       "<span class=\"w\">  </span><span class=\"n\">parse</span><span class=\"p\">(</span><span class=\"kt\">int</span><span class=\"o\">&amp;</span><span class=\"w\"> </span><span class=\"n\">i</span><span class=\"p\">,</span><span class=\"w\"> </span><span class=\"k\">const</span><span class=\"w\"> </span><span class=\"n\">std</span><span class=\"o\">::</span><span class=\"n\">vector</span><span class=\"o\">&lt;</span><span class=\"n\">PosToken</span><span class=\"o\">&gt;&amp;</span><span class=\"w\"> </span><span class=\"n\">tokens</span><span class=\"p\">,</span><span class=\"w\"> </span><span class=\"k\">const</span><span class=\"w\"> </span><span class=\"n\">std</span><span class=\"o\">::</span><span class=\"n\">string</span><span class=\"o\">&amp;</span><span class=\"w\"> </span><span class=\"n\">line</span><span class=\"p\">);</span>\n",
       "<span class=\"n\">std</span><span class=\"o\">::</span><span class=\"n\">shared_ptr</span><span class=\"o\">&lt;</span><span class=\"n\">ASTNode</span><span class=\"o\">&gt;</span>\n",
       "<span class=\"w\">  </span><span class=\"n\">parse_int</span><span class=\"p\">(</span><span class=\"kt\">int</span><span class=\"o\">&amp;</span><span class=\"w\"> </span><span class=\"n\">i</span><span class=\"p\">,</span><span class=\"w\"> </span><span class=\"k\">const</span><span class=\"w\"> </span><span class=\"n\">std</span><span class=\"o\">::</span><span class=\"n\">vector</span><span class=\"o\">&lt;</span><span class=\"n\">PosToken</span><span class=\"o\">&gt;&amp;</span><span class=\"w\"> </span><span class=\"n\">tokens</span><span class=\"p\">,</span><span class=\"w\"> </span><span class=\"k\">const</span><span class=\"w\"> </span><span class=\"n\">std</span><span class=\"o\">::</span><span class=\"n\">string</span><span class=\"o\">&amp;</span><span class=\"w\"> </span><span class=\"n\">line</span><span class=\"p\">);</span>\n",
       "<span class=\"n\">std</span><span class=\"o\">::</span><span class=\"n\">shared_ptr</span><span class=\"o\">&lt;</span><span class=\"n\">ASTNode</span><span class=\"o\">&gt;</span>\n",
       "<span class=\"w\">  </span><span class=\"n\">parse_list</span><span class=\"p\">(</span><span class=\"kt\">int</span><span class=\"o\">&amp;</span><span class=\"w\"> </span><span class=\"n\">i</span><span class=\"p\">,</span><span class=\"w\"> </span><span class=\"k\">const</span><span class=\"w\"> </span><span class=\"n\">std</span><span class=\"o\">::</span><span class=\"n\">vector</span><span class=\"o\">&lt;</span><span class=\"n\">PosToken</span><span class=\"o\">&gt;&amp;</span><span class=\"w\"> </span><span class=\"n\">tokens</span><span class=\"p\">,</span><span class=\"w\"> </span><span class=\"k\">const</span><span class=\"w\"> </span><span class=\"n\">std</span><span class=\"o\">::</span><span class=\"n\">string</span><span class=\"o\">&amp;</span><span class=\"w\"> </span><span class=\"n\">line</span><span class=\"p\">);</span>\n",
       "<span class=\"n\">std</span><span class=\"o\">::</span><span class=\"n\">shared_ptr</span><span class=\"o\">&lt;</span><span class=\"n\">ASTNode</span><span class=\"o\">&gt;</span>\n",
       "<span class=\"w\">  </span><span class=\"n\">parse_fun</span><span class=\"p\">(</span><span class=\"kt\">int</span><span class=\"o\">&amp;</span><span class=\"w\"> </span><span class=\"n\">i</span><span class=\"p\">,</span><span class=\"w\"> </span><span class=\"k\">const</span><span class=\"w\"> </span><span class=\"n\">std</span><span class=\"o\">::</span><span class=\"n\">vector</span><span class=\"o\">&lt;</span><span class=\"n\">PosToken</span><span class=\"o\">&gt;&amp;</span><span class=\"w\"> </span><span class=\"n\">tokens</span><span class=\"p\">,</span><span class=\"w\"> </span><span class=\"k\">const</span><span class=\"w\"> </span><span class=\"n\">std</span><span class=\"o\">::</span><span class=\"n\">string</span><span class=\"o\">&amp;</span><span class=\"w\"> </span><span class=\"n\">line</span><span class=\"p\">);</span>\n",
       "<span class=\"n\">std</span><span class=\"o\">::</span><span class=\"n\">shared_ptr</span><span class=\"o\">&lt;</span><span class=\"n\">ASTNode</span><span class=\"o\">&gt;</span>\n",
       "<span class=\"w\">  </span><span class=\"n\">parse_call</span><span class=\"p\">(</span><span class=\"kt\">int</span><span class=\"o\">&amp;</span><span class=\"w\"> </span><span class=\"n\">i</span><span class=\"p\">,</span><span class=\"w\"> </span><span class=\"k\">const</span><span class=\"w\"> </span><span class=\"n\">std</span><span class=\"o\">::</span><span class=\"n\">vector</span><span class=\"o\">&lt;</span><span class=\"n\">PosToken</span><span class=\"o\">&gt;&amp;</span><span class=\"w\"> </span><span class=\"n\">tokens</span><span class=\"p\">,</span><span class=\"w\"> </span><span class=\"k\">const</span><span class=\"w\"> </span><span class=\"n\">std</span><span class=\"o\">::</span><span class=\"n\">string</span><span class=\"o\">&amp;</span><span class=\"w\"> </span><span class=\"n\">line</span><span class=\"p\">);</span>\n",
       "<span class=\"n\">std</span><span class=\"o\">::</span><span class=\"n\">shared_ptr</span><span class=\"o\">&lt;</span><span class=\"n\">ASTNode</span><span class=\"o\">&gt;</span>\n",
       "<span class=\"w\">  </span><span class=\"n\">parse_assign</span><span class=\"p\">(</span><span class=\"kt\">int</span><span class=\"o\">&amp;</span><span class=\"w\"> </span><span class=\"n\">i</span><span class=\"p\">,</span><span class=\"w\"> </span><span class=\"k\">const</span><span class=\"w\"> </span><span class=\"n\">std</span><span class=\"o\">::</span><span class=\"n\">vector</span><span class=\"o\">&lt;</span><span class=\"n\">PosToken</span><span class=\"o\">&gt;&amp;</span><span class=\"w\"> </span><span class=\"n\">tokens</span><span class=\"p\">,</span><span class=\"w\"> </span><span class=\"k\">const</span><span class=\"w\"> </span><span class=\"n\">std</span><span class=\"o\">::</span><span class=\"n\">string</span><span class=\"o\">&amp;</span><span class=\"w\"> </span><span class=\"n\">line</span><span class=\"p\">);</span>\n",
       "<span class=\"n\">std</span><span class=\"o\">::</span><span class=\"n\">shared_ptr</span><span class=\"o\">&lt;</span><span class=\"n\">ASTNode</span><span class=\"o\">&gt;</span>\n",
       "<span class=\"w\">  </span><span class=\"n\">parse_delete</span><span class=\"p\">(</span><span class=\"kt\">int</span><span class=\"o\">&amp;</span><span class=\"w\"> </span><span class=\"n\">i</span><span class=\"p\">,</span><span class=\"w\"> </span><span class=\"k\">const</span><span class=\"w\"> </span><span class=\"n\">std</span><span class=\"o\">::</span><span class=\"n\">vector</span><span class=\"o\">&lt;</span><span class=\"n\">PosToken</span><span class=\"o\">&gt;&amp;</span><span class=\"w\"> </span><span class=\"n\">tokens</span><span class=\"p\">,</span><span class=\"w\"> </span><span class=\"k\">const</span><span class=\"w\"> </span><span class=\"n\">std</span><span class=\"o\">::</span><span class=\"n\">string</span><span class=\"o\">&amp;</span><span class=\"w\"> </span><span class=\"n\">line</span><span class=\"p\">);</span>\n",
       "<span class=\"n\">std</span><span class=\"o\">::</span><span class=\"n\">shared_ptr</span><span class=\"o\">&lt;</span><span class=\"n\">ASTNode</span><span class=\"o\">&gt;</span>\n",
       "<span class=\"w\">  </span><span class=\"n\">parse_id</span><span class=\"p\">(</span><span class=\"kt\">int</span><span class=\"o\">&amp;</span><span class=\"w\"> </span><span class=\"n\">i</span><span class=\"p\">,</span><span class=\"w\"> </span><span class=\"k\">const</span><span class=\"w\"> </span><span class=\"n\">std</span><span class=\"o\">::</span><span class=\"n\">vector</span><span class=\"o\">&lt;</span><span class=\"n\">PosToken</span><span class=\"o\">&gt;&amp;</span><span class=\"w\"> </span><span class=\"n\">tokens</span><span class=\"p\">,</span><span class=\"w\"> </span><span class=\"k\">const</span><span class=\"w\"> </span><span class=\"n\">std</span><span class=\"o\">::</span><span class=\"n\">string</span><span class=\"o\">&amp;</span><span class=\"w\"> </span><span class=\"n\">line</span><span class=\"p\">);</span>\n",
       "\n",
       "\n",
       "<span class=\"c1\">//// error handling ////////////////////////////////////////////////////////</span>\n",
       "\n",
       "\n",
       "<span class=\"n\">std</span><span class=\"o\">::</span><span class=\"n\">string</span><span class=\"w\"> </span><span class=\"nf\">error_arrow</span><span class=\"p\">(</span><span class=\"kt\">int</span><span class=\"w\"> </span><span class=\"n\">position</span><span class=\"p\">)</span><span class=\"w\"> </span><span class=\"p\">{</span>\n",
       "<span class=\"w\">  </span><span class=\"k\">return</span><span class=\"w\"> </span><span class=\"n\">std</span><span class=\"o\">::</span><span class=\"n\">string</span><span class=\"p\">(</span><span class=\"s\">&quot;---&quot;</span><span class=\"p\">)</span><span class=\"w\"> </span><span class=\"o\">+</span><span class=\"w\"> </span><span class=\"n\">std</span><span class=\"o\">::</span><span class=\"n\">string</span><span class=\"p\">(</span><span class=\"n\">position</span><span class=\"p\">,</span><span class=\"w\"> </span><span class=\"sc\">&#39;-&#39;</span><span class=\"p\">)</span><span class=\"w\"> </span><span class=\"o\">+</span><span class=\"w\"> </span><span class=\"n\">std</span><span class=\"o\">::</span><span class=\"n\">string</span><span class=\"p\">(</span><span class=\"s\">&quot;^</span><span class=\"se\">\\n</span><span class=\"s\">&quot;</span><span class=\"p\">);</span>\n",
       "<span class=\"p\">}</span>\n",
       "\n",
       "\n",
       "<span class=\"n\">std</span><span class=\"o\">::</span><span class=\"n\">runtime_error</span><span class=\"w\"> </span><span class=\"nf\">error</span><span class=\"p\">(</span><span class=\"kt\">int</span><span class=\"w\"> </span><span class=\"n\">position</span><span class=\"p\">,</span><span class=\"w\"> </span><span class=\"k\">const</span><span class=\"w\"> </span><span class=\"n\">std</span><span class=\"o\">::</span><span class=\"n\">string</span><span class=\"o\">&amp;</span><span class=\"w\"> </span><span class=\"n\">message</span><span class=\"p\">)</span><span class=\"w\"> </span><span class=\"p\">{</span>\n",
       "<span class=\"w\">  </span><span class=\"k\">return</span><span class=\"w\"> </span><span class=\"n\">std</span><span class=\"o\">::</span><span class=\"n\">runtime_error</span><span class=\"p\">(</span><span class=\"n\">error_arrow</span><span class=\"p\">(</span><span class=\"n\">position</span><span class=\"p\">)</span><span class=\"w\"> </span><span class=\"o\">+</span><span class=\"w\"> </span><span class=\"n\">message</span><span class=\"p\">);</span>\n",
       "<span class=\"p\">}</span>\n",
       "\n",
       "\n",
       "<span class=\"n\">std</span><span class=\"o\">::</span><span class=\"n\">runtime_error</span><span class=\"w\"> </span><span class=\"nf\">error</span><span class=\"p\">(</span>\n",
       "<span class=\"w\">  </span><span class=\"n\">std</span><span class=\"o\">::</span><span class=\"n\">vector</span><span class=\"o\">&lt;</span><span class=\"n\">std</span><span class=\"o\">::</span><span class=\"n\">shared_ptr</span><span class=\"o\">&lt;</span><span class=\"n\">ASTNode</span><span class=\"o\">&gt;&gt;&amp;</span><span class=\"w\"> </span><span class=\"n\">stack</span><span class=\"p\">,</span>\n",
       "<span class=\"w\">  </span><span class=\"k\">const</span><span class=\"w\"> </span><span class=\"n\">std</span><span class=\"o\">::</span><span class=\"n\">string</span><span class=\"o\">&amp;</span><span class=\"w\"> </span><span class=\"n\">message</span>\n",
       "<span class=\"p\">)</span><span class=\"w\"> </span><span class=\"p\">{</span>\n",
       "<span class=\"w\">  </span><span class=\"n\">std</span><span class=\"o\">::</span><span class=\"n\">string</span><span class=\"w\"> </span><span class=\"n\">stack_trace</span><span class=\"p\">;</span>\n",
       "<span class=\"w\">  </span><span class=\"k\">for</span><span class=\"w\"> </span><span class=\"p\">(</span><span class=\"kt\">int</span><span class=\"w\"> </span><span class=\"n\">i</span><span class=\"w\"> </span><span class=\"o\">=</span><span class=\"w\"> </span><span class=\"mi\">0</span><span class=\"p\">;</span><span class=\"w\">  </span><span class=\"n\">i</span><span class=\"w\"> </span><span class=\"o\">&lt;</span><span class=\"w\"> </span><span class=\"n\">stack</span><span class=\"p\">.</span><span class=\"n\">size</span><span class=\"p\">();</span><span class=\"w\">  </span><span class=\"n\">i</span><span class=\"o\">++</span><span class=\"w\"> </span><span class=\"p\">)</span><span class=\"w\"> </span><span class=\"p\">{</span>\n",
       "<span class=\"w\">    </span><span class=\"k\">if</span><span class=\"w\"> </span><span class=\"p\">(</span><span class=\"n\">i</span><span class=\"w\"> </span><span class=\"o\">!=</span><span class=\"w\"> </span><span class=\"mi\">0</span><span class=\"p\">)</span><span class=\"w\"> </span><span class=\"p\">{</span>\n",
       "<span class=\"w\">      </span><span class=\"n\">stack_trace</span><span class=\"w\"> </span><span class=\"o\">+=</span><span class=\"w\"> </span><span class=\"s\">&quot;   &quot;</span><span class=\"w\"> </span><span class=\"o\">+</span><span class=\"w\"> </span><span class=\"n\">stack</span><span class=\"p\">[</span><span class=\"n\">i</span><span class=\"p\">]</span><span class=\"o\">-&gt;</span><span class=\"n\">line</span><span class=\"p\">()</span><span class=\"w\"> </span><span class=\"o\">+</span><span class=\"w\"> </span><span class=\"s\">&quot;</span><span class=\"se\">\\n</span><span class=\"s\">&quot;</span><span class=\"p\">;</span>\n",
       "<span class=\"w\">    </span><span class=\"p\">}</span>\n",
       "<span class=\"w\">    </span><span class=\"n\">stack_trace</span><span class=\"w\"> </span><span class=\"o\">+=</span><span class=\"w\"> </span><span class=\"n\">error_arrow</span><span class=\"p\">(</span><span class=\"n\">stack</span><span class=\"p\">[</span><span class=\"n\">i</span><span class=\"p\">]</span><span class=\"o\">-&gt;</span><span class=\"n\">pos</span><span class=\"p\">());</span>\n",
       "<span class=\"w\">  </span><span class=\"p\">}</span>\n",
       "<span class=\"w\">  </span><span class=\"k\">return</span><span class=\"w\"> </span><span class=\"n\">std</span><span class=\"o\">::</span><span class=\"n\">runtime_error</span><span class=\"p\">(</span><span class=\"n\">stack_trace</span><span class=\"w\"> </span><span class=\"o\">+</span><span class=\"w\"> </span><span class=\"n\">message</span><span class=\"p\">);</span>\n",
       "<span class=\"p\">}</span>\n",
       "\n",
       "\n",
       "<span class=\"c1\">//// parsing ///////////////////////////////////////////////////////////////</span>\n",
       "\n",
       "\n",
       "<span class=\"n\">std</span><span class=\"o\">::</span><span class=\"n\">vector</span><span class=\"o\">&lt;</span><span class=\"n\">PosToken</span><span class=\"o\">&gt;</span><span class=\"w\"> </span><span class=\"n\">tokenize</span><span class=\"p\">(</span><span class=\"k\">const</span><span class=\"w\"> </span><span class=\"n\">std</span><span class=\"o\">::</span><span class=\"n\">string</span><span class=\"o\">&amp;</span><span class=\"w\"> </span><span class=\"n\">line</span><span class=\"p\">)</span><span class=\"w\"> </span><span class=\"p\">{</span>\n",
       "<span class=\"w\">  </span><span class=\"n\">std</span><span class=\"o\">::</span><span class=\"n\">regex</span><span class=\"w\"> </span><span class=\"n\">whitespaces</span><span class=\"p\">(</span><span class=\"s\">&quot;</span><span class=\"se\">\\\\</span><span class=\"s\">s*&quot;</span><span class=\"p\">);</span>\n",
       "<span class=\"w\">  </span><span class=\"n\">std</span><span class=\"o\">::</span><span class=\"n\">regex</span><span class=\"w\"> </span><span class=\"n\">token_regex</span><span class=\"p\">(</span><span class=\"s\">&quot;(-?[0-9]+|[A-Za-z_][A-Za-z_0-9]*|</span><span class=\"se\">\\\\</span><span class=\"s\">(|</span><span class=\"se\">\\\\</span><span class=\"s\">)|</span><span class=\"se\">\\\\</span><span class=\"s\">[|</span><span class=\"se\">\\\\</span><span class=\"s\">]|,|;|</span><span class=\"se\">\\\\</span><span class=\"s\">{|</span><span class=\"se\">\\\\</span><span class=\"s\">}|=)&quot;</span><span class=\"p\">);</span>\n",
       "<span class=\"w\">  </span><span class=\"k\">auto</span><span class=\"w\"> </span><span class=\"n\">tokens_begin</span><span class=\"w\"> </span><span class=\"o\">=</span><span class=\"w\"> </span><span class=\"n\">std</span><span class=\"o\">::</span><span class=\"n\">sregex_iterator</span><span class=\"p\">(</span><span class=\"n\">line</span><span class=\"p\">.</span><span class=\"n\">begin</span><span class=\"p\">(),</span><span class=\"w\"> </span><span class=\"n\">line</span><span class=\"p\">.</span><span class=\"n\">end</span><span class=\"p\">(),</span><span class=\"w\"> </span><span class=\"n\">token_regex</span><span class=\"p\">);</span>\n",
       "<span class=\"w\">  </span><span class=\"k\">auto</span><span class=\"w\"> </span><span class=\"n\">tokens_end</span><span class=\"w\"> </span><span class=\"o\">=</span><span class=\"w\"> </span><span class=\"n\">std</span><span class=\"o\">::</span><span class=\"n\">sregex_iterator</span><span class=\"p\">();</span>\n",
       "\n",
       "<span class=\"w\">  </span><span class=\"kt\">int</span><span class=\"w\"> </span><span class=\"n\">previous</span><span class=\"w\"> </span><span class=\"o\">=</span><span class=\"w\"> </span><span class=\"mi\">0</span><span class=\"p\">;</span>\n",
       "<span class=\"w\">  </span><span class=\"n\">std</span><span class=\"o\">::</span><span class=\"n\">vector</span><span class=\"o\">&lt;</span><span class=\"n\">PosToken</span><span class=\"o\">&gt;</span><span class=\"w\"> </span><span class=\"n\">out</span><span class=\"p\">;</span>\n",
       "\n",
       "<span class=\"w\">  </span><span class=\"k\">for</span><span class=\"w\"> </span><span class=\"p\">(</span><span class=\"k\">auto</span><span class=\"w\"> </span><span class=\"n\">token_iter</span><span class=\"w\"> </span><span class=\"o\">=</span><span class=\"w\"> </span><span class=\"n\">tokens_begin</span><span class=\"p\">;</span><span class=\"w\">  </span><span class=\"n\">token_iter</span><span class=\"w\"> </span><span class=\"o\">!=</span><span class=\"w\"> </span><span class=\"n\">tokens_end</span><span class=\"p\">;</span><span class=\"w\">  </span><span class=\"o\">++</span><span class=\"n\">token_iter</span><span class=\"p\">)</span><span class=\"w\"> </span><span class=\"p\">{</span>\n",
       "<span class=\"w\">    </span><span class=\"c1\">// text between tokens must be only whitespace</span>\n",
       "<span class=\"w\">    </span><span class=\"n\">std</span><span class=\"o\">::</span><span class=\"n\">string</span><span class=\"w\"> </span><span class=\"n\">between</span><span class=\"w\"> </span><span class=\"o\">=</span><span class=\"w\"> </span><span class=\"n\">line</span><span class=\"p\">.</span><span class=\"n\">substr</span><span class=\"p\">(</span><span class=\"n\">previous</span><span class=\"p\">,</span><span class=\"w\"> </span><span class=\"n\">token_iter</span><span class=\"o\">-&gt;</span><span class=\"n\">position</span><span class=\"p\">()</span><span class=\"w\"> </span><span class=\"o\">-</span><span class=\"w\"> </span><span class=\"n\">previous</span><span class=\"p\">);</span>\n",
       "<span class=\"w\">    </span><span class=\"k\">if</span><span class=\"w\"> </span><span class=\"p\">(</span><span class=\"o\">!</span><span class=\"n\">std</span><span class=\"o\">::</span><span class=\"n\">regex_match</span><span class=\"p\">(</span><span class=\"n\">between</span><span class=\"p\">,</span><span class=\"w\"> </span><span class=\"n\">whitespaces</span><span class=\"p\">))</span><span class=\"w\"> </span><span class=\"p\">{</span>\n",
       "<span class=\"w\">      </span><span class=\"k\">throw</span><span class=\"w\"> </span><span class=\"n\">error</span><span class=\"p\">(</span><span class=\"n\">previous</span><span class=\"p\">,</span><span class=\"w\"> </span><span class=\"s\">&quot;unexpected characters&quot;</span><span class=\"p\">);</span>\n",
       "<span class=\"w\">    </span><span class=\"p\">}</span>\n",
       "<span class=\"w\">    </span><span class=\"n\">previous</span><span class=\"w\"> </span><span class=\"o\">=</span><span class=\"w\"> </span><span class=\"n\">token_iter</span><span class=\"o\">-&gt;</span><span class=\"n\">position</span><span class=\"p\">()</span><span class=\"w\"> </span><span class=\"o\">+</span><span class=\"w\"> </span><span class=\"n\">token_iter</span><span class=\"o\">-&gt;</span><span class=\"n\">length</span><span class=\"p\">();</span>\n",
       "\n",
       "<span class=\"w\">    </span><span class=\"c1\">// collect tokens</span>\n",
       "<span class=\"w\">    </span><span class=\"n\">out</span><span class=\"p\">.</span><span class=\"n\">push_back</span><span class=\"p\">(</span><span class=\"n\">PosToken</span><span class=\"p\">(</span><span class=\"n\">token_iter</span><span class=\"o\">-&gt;</span><span class=\"n\">position</span><span class=\"p\">(),</span><span class=\"w\"> </span><span class=\"n\">token_iter</span><span class=\"o\">-&gt;</span><span class=\"n\">str</span><span class=\"p\">()));</span>\n",
       "<span class=\"w\">  </span><span class=\"p\">}</span>\n",
       "<span class=\"w\">  </span><span class=\"k\">return</span><span class=\"w\"> </span><span class=\"n\">out</span><span class=\"p\">;</span>\n",
       "<span class=\"p\">}</span>\n",
       "\n",
       "\n",
       "<span class=\"n\">std</span><span class=\"o\">::</span><span class=\"n\">shared_ptr</span><span class=\"o\">&lt;</span><span class=\"n\">ASTNode</span><span class=\"o\">&gt;</span>\n",
       "<span class=\"w\">  </span><span class=\"n\">parse</span><span class=\"p\">(</span><span class=\"kt\">int</span><span class=\"o\">&amp;</span><span class=\"w\"> </span><span class=\"n\">i</span><span class=\"p\">,</span><span class=\"w\"> </span><span class=\"k\">const</span><span class=\"w\"> </span><span class=\"n\">std</span><span class=\"o\">::</span><span class=\"n\">vector</span><span class=\"o\">&lt;</span><span class=\"n\">PosToken</span><span class=\"o\">&gt;&amp;</span><span class=\"w\"> </span><span class=\"n\">tokens</span><span class=\"p\">,</span><span class=\"w\"> </span><span class=\"k\">const</span><span class=\"w\"> </span><span class=\"n\">std</span><span class=\"o\">::</span><span class=\"n\">string</span><span class=\"o\">&amp;</span><span class=\"w\"> </span><span class=\"n\">line</span><span class=\"p\">)</span><span class=\"w\"> </span><span class=\"p\">{</span>\n",
       "<span class=\"w\">  </span><span class=\"k\">if</span><span class=\"w\"> </span><span class=\"p\">(</span><span class=\"n\">i</span><span class=\"w\"> </span><span class=\"o\">&gt;=</span><span class=\"w\"> </span><span class=\"n\">tokens</span><span class=\"p\">.</span><span class=\"n\">size</span><span class=\"p\">())</span><span class=\"w\"> </span><span class=\"p\">{</span>\n",
       "<span class=\"w\">    </span><span class=\"k\">throw</span><span class=\"w\"> </span><span class=\"n\">error</span><span class=\"p\">(</span><span class=\"mi\">0</span><span class=\"p\">,</span><span class=\"w\"> </span><span class=\"s\">&quot;line ends without complete expression&quot;</span><span class=\"p\">);</span>\n",
       "<span class=\"w\">  </span><span class=\"p\">}</span>\n",
       "\n",
       "<span class=\"w\">  </span><span class=\"n\">std</span><span class=\"o\">::</span><span class=\"n\">regex</span><span class=\"w\"> </span><span class=\"n\">is_number</span><span class=\"p\">(</span><span class=\"s\">&quot;-?[0-9]+&quot;</span><span class=\"p\">);</span>\n",
       "<span class=\"w\">  </span><span class=\"n\">std</span><span class=\"o\">::</span><span class=\"n\">regex</span><span class=\"w\"> </span><span class=\"n\">is_name</span><span class=\"p\">(</span><span class=\"s\">&quot;[A-Za-z_][A-Za-z_0-9]*&quot;</span><span class=\"p\">);</span>\n",
       "\n",
       "<span class=\"w\">  </span><span class=\"k\">if</span><span class=\"w\"> </span><span class=\"p\">(</span><span class=\"n\">tokens</span><span class=\"p\">[</span><span class=\"n\">i</span><span class=\"p\">].</span><span class=\"n\">second</span><span class=\"w\"> </span><span class=\"o\">==</span><span class=\"w\"> </span><span class=\"s\">&quot;[&quot;</span><span class=\"p\">)</span><span class=\"w\"> </span><span class=\"p\">{</span>\n",
       "<span class=\"w\">    </span><span class=\"k\">return</span><span class=\"w\"> </span><span class=\"n\">parse_list</span><span class=\"p\">(</span><span class=\"n\">i</span><span class=\"p\">,</span><span class=\"w\"> </span><span class=\"n\">tokens</span><span class=\"p\">,</span><span class=\"w\"> </span><span class=\"n\">line</span><span class=\"p\">);</span>\n",
       "<span class=\"w\">  </span><span class=\"p\">}</span>\n",
       "\n",
       "<span class=\"w\">  </span><span class=\"k\">else</span><span class=\"w\"> </span><span class=\"k\">if</span><span class=\"w\"> </span><span class=\"p\">(</span><span class=\"n\">tokens</span><span class=\"p\">[</span><span class=\"n\">i</span><span class=\"p\">].</span><span class=\"n\">second</span><span class=\"w\"> </span><span class=\"o\">==</span><span class=\"w\"> </span><span class=\"s\">&quot;def&quot;</span><span class=\"p\">)</span><span class=\"w\"> </span><span class=\"p\">{</span>\n",
       "<span class=\"w\">    </span><span class=\"k\">return</span><span class=\"w\"> </span><span class=\"n\">parse_fun</span><span class=\"p\">(</span><span class=\"n\">i</span><span class=\"p\">,</span><span class=\"w\"> </span><span class=\"n\">tokens</span><span class=\"p\">,</span><span class=\"w\"> </span><span class=\"n\">line</span><span class=\"p\">);</span>\n",
       "<span class=\"w\">  </span><span class=\"p\">}</span>\n",
       "\n",
       "<span class=\"w\">  </span><span class=\"k\">else</span><span class=\"w\"> </span><span class=\"k\">if</span><span class=\"w\"> </span><span class=\"p\">(</span><span class=\"n\">tokens</span><span class=\"p\">[</span><span class=\"n\">i</span><span class=\"p\">].</span><span class=\"n\">second</span><span class=\"w\"> </span><span class=\"o\">==</span><span class=\"w\"> </span><span class=\"s\">&quot;del&quot;</span><span class=\"p\">)</span><span class=\"w\"> </span><span class=\"p\">{</span>\n",
       "<span class=\"w\">    </span><span class=\"k\">return</span><span class=\"w\"> </span><span class=\"n\">parse_delete</span><span class=\"p\">(</span><span class=\"n\">i</span><span class=\"p\">,</span><span class=\"w\"> </span><span class=\"n\">tokens</span><span class=\"p\">,</span><span class=\"w\"> </span><span class=\"n\">line</span><span class=\"p\">);</span>\n",
       "<span class=\"w\">  </span><span class=\"p\">}</span>\n",
       "\n",
       "<span class=\"w\">  </span><span class=\"k\">else</span><span class=\"w\"> </span><span class=\"k\">if</span><span class=\"w\"> </span><span class=\"p\">(</span><span class=\"n\">std</span><span class=\"o\">::</span><span class=\"n\">regex_match</span><span class=\"p\">(</span><span class=\"n\">tokens</span><span class=\"p\">[</span><span class=\"n\">i</span><span class=\"p\">].</span><span class=\"n\">second</span><span class=\"p\">,</span><span class=\"w\"> </span><span class=\"n\">is_number</span><span class=\"p\">))</span><span class=\"w\"> </span><span class=\"p\">{</span>\n",
       "<span class=\"w\">    </span><span class=\"k\">return</span><span class=\"w\"> </span><span class=\"n\">parse_int</span><span class=\"p\">(</span><span class=\"n\">i</span><span class=\"p\">,</span><span class=\"w\"> </span><span class=\"n\">tokens</span><span class=\"p\">,</span><span class=\"w\"> </span><span class=\"n\">line</span><span class=\"p\">);</span>\n",
       "<span class=\"w\">  </span><span class=\"p\">}</span>\n",
       "\n",
       "<span class=\"w\">  </span><span class=\"k\">else</span><span class=\"w\"> </span><span class=\"k\">if</span><span class=\"w\"> </span><span class=\"p\">(</span><span class=\"n\">std</span><span class=\"o\">::</span><span class=\"n\">regex_match</span><span class=\"p\">(</span><span class=\"n\">tokens</span><span class=\"p\">[</span><span class=\"n\">i</span><span class=\"p\">].</span><span class=\"n\">second</span><span class=\"p\">,</span><span class=\"w\"> </span><span class=\"n\">is_name</span><span class=\"p\">))</span><span class=\"w\"> </span><span class=\"p\">{</span>\n",
       "<span class=\"w\">    </span><span class=\"k\">if</span><span class=\"w\"> </span><span class=\"p\">(</span><span class=\"n\">i</span><span class=\"w\"> </span><span class=\"o\">+</span><span class=\"w\"> </span><span class=\"mi\">1</span><span class=\"w\"> </span><span class=\"o\">&lt;</span><span class=\"w\"> </span><span class=\"n\">tokens</span><span class=\"p\">.</span><span class=\"n\">size</span><span class=\"p\">()</span><span class=\"w\">  </span><span class=\"o\">&amp;&amp;</span><span class=\"w\">  </span><span class=\"n\">tokens</span><span class=\"p\">[</span><span class=\"n\">i</span><span class=\"w\"> </span><span class=\"o\">+</span><span class=\"w\"> </span><span class=\"mi\">1</span><span class=\"p\">].</span><span class=\"n\">second</span><span class=\"w\"> </span><span class=\"o\">==</span><span class=\"w\"> </span><span class=\"s\">&quot;=&quot;</span><span class=\"p\">)</span><span class=\"w\"> </span><span class=\"p\">{</span>\n",
       "<span class=\"w\">      </span><span class=\"k\">return</span><span class=\"w\"> </span><span class=\"n\">parse_assign</span><span class=\"p\">(</span><span class=\"n\">i</span><span class=\"p\">,</span><span class=\"w\"> </span><span class=\"n\">tokens</span><span class=\"p\">,</span><span class=\"w\"> </span><span class=\"n\">line</span><span class=\"p\">);</span>\n",
       "<span class=\"w\">    </span><span class=\"p\">}</span>\n",
       "\n",
       "<span class=\"w\">    </span><span class=\"k\">else</span><span class=\"w\"> </span><span class=\"k\">if</span><span class=\"w\"> </span><span class=\"p\">(</span><span class=\"n\">i</span><span class=\"w\"> </span><span class=\"o\">+</span><span class=\"w\"> </span><span class=\"mi\">1</span><span class=\"w\"> </span><span class=\"o\">&lt;</span><span class=\"w\"> </span><span class=\"n\">tokens</span><span class=\"p\">.</span><span class=\"n\">size</span><span class=\"p\">()</span><span class=\"w\">  </span><span class=\"o\">&amp;&amp;</span><span class=\"w\">  </span><span class=\"n\">tokens</span><span class=\"p\">[</span><span class=\"n\">i</span><span class=\"w\"> </span><span class=\"o\">+</span><span class=\"w\"> </span><span class=\"mi\">1</span><span class=\"p\">].</span><span class=\"n\">second</span><span class=\"w\"> </span><span class=\"o\">==</span><span class=\"w\"> </span><span class=\"s\">&quot;(&quot;</span><span class=\"p\">)</span><span class=\"w\"> </span><span class=\"p\">{</span>\n",
       "<span class=\"w\">      </span><span class=\"k\">return</span><span class=\"w\"> </span><span class=\"n\">parse_call</span><span class=\"p\">(</span><span class=\"n\">i</span><span class=\"p\">,</span><span class=\"w\"> </span><span class=\"n\">tokens</span><span class=\"p\">,</span><span class=\"w\"> </span><span class=\"n\">line</span><span class=\"p\">);</span>\n",
       "<span class=\"w\">    </span><span class=\"p\">}</span>\n",
       "\n",
       "<span class=\"w\">    </span><span class=\"k\">else</span><span class=\"w\"> </span><span class=\"p\">{</span>\n",
       "<span class=\"w\">      </span><span class=\"k\">return</span><span class=\"w\"> </span><span class=\"n\">parse_id</span><span class=\"p\">(</span><span class=\"n\">i</span><span class=\"p\">,</span><span class=\"w\"> </span><span class=\"n\">tokens</span><span class=\"p\">,</span><span class=\"w\"> </span><span class=\"n\">line</span><span class=\"p\">);</span>\n",
       "<span class=\"w\">    </span><span class=\"p\">}</span>\n",
       "<span class=\"w\">  </span><span class=\"p\">}</span>\n",
       "\n",
       "<span class=\"w\">  </span><span class=\"k\">else</span><span class=\"w\"> </span><span class=\"p\">{</span>\n",
       "<span class=\"w\">    </span><span class=\"k\">throw</span><span class=\"w\"> </span><span class=\"n\">error</span><span class=\"p\">(</span><span class=\"n\">tokens</span><span class=\"p\">[</span><span class=\"n\">i</span><span class=\"p\">].</span><span class=\"n\">first</span><span class=\"p\">,</span><span class=\"w\"> </span><span class=\"s\">&quot;unrecognized syntax&quot;</span><span class=\"p\">);</span>\n",
       "<span class=\"w\">  </span><span class=\"p\">}</span>\n",
       "<span class=\"p\">}</span>\n",
       "\n",
       "\n",
       "<span class=\"n\">std</span><span class=\"o\">::</span><span class=\"n\">shared_ptr</span><span class=\"o\">&lt;</span><span class=\"n\">ASTNode</span><span class=\"o\">&gt;</span>\n",
       "<span class=\"w\">  </span><span class=\"n\">parse_int</span><span class=\"p\">(</span><span class=\"kt\">int</span><span class=\"o\">&amp;</span><span class=\"w\"> </span><span class=\"n\">i</span><span class=\"p\">,</span><span class=\"w\"> </span><span class=\"k\">const</span><span class=\"w\"> </span><span class=\"n\">std</span><span class=\"o\">::</span><span class=\"n\">vector</span><span class=\"o\">&lt;</span><span class=\"n\">PosToken</span><span class=\"o\">&gt;&amp;</span><span class=\"w\"> </span><span class=\"n\">tokens</span><span class=\"p\">,</span><span class=\"w\"> </span><span class=\"k\">const</span><span class=\"w\"> </span><span class=\"n\">std</span><span class=\"o\">::</span><span class=\"n\">string</span><span class=\"o\">&amp;</span><span class=\"w\"> </span><span class=\"n\">line</span><span class=\"p\">)</span><span class=\"w\"> </span><span class=\"p\">{</span>\n",
       "<span class=\"w\">  </span><span class=\"kt\">int</span><span class=\"w\"> </span><span class=\"n\">pos</span><span class=\"w\"> </span><span class=\"o\">=</span><span class=\"w\"> </span><span class=\"n\">tokens</span><span class=\"p\">[</span><span class=\"n\">i</span><span class=\"p\">].</span><span class=\"n\">first</span><span class=\"p\">;</span>\n",
       "<span class=\"w\">  </span><span class=\"kt\">int</span><span class=\"w\"> </span><span class=\"n\">value</span><span class=\"w\"> </span><span class=\"o\">=</span><span class=\"w\"> </span><span class=\"n\">std</span><span class=\"o\">::</span><span class=\"n\">stoi</span><span class=\"p\">(</span><span class=\"n\">tokens</span><span class=\"p\">[</span><span class=\"n\">i</span><span class=\"p\">].</span><span class=\"n\">second</span><span class=\"p\">);</span>\n",
       "\n",
       "<span class=\"w\">  </span><span class=\"n\">i</span><span class=\"o\">++</span><span class=\"p\">;</span><span class=\"w\">  </span><span class=\"c1\">// get past int</span>\n",
       "\n",
       "<span class=\"w\">  </span><span class=\"k\">return</span><span class=\"w\"> </span><span class=\"n\">std</span><span class=\"o\">::</span><span class=\"n\">make_shared</span><span class=\"o\">&lt;</span><span class=\"n\">ASTLiteralInt</span><span class=\"o\">&gt;</span><span class=\"p\">(</span><span class=\"n\">pos</span><span class=\"p\">,</span><span class=\"w\"> </span><span class=\"n\">line</span><span class=\"p\">,</span><span class=\"w\"> </span><span class=\"n\">value</span><span class=\"p\">);</span>\n",
       "<span class=\"p\">}</span>\n",
       "\n",
       "\n",
       "<span class=\"n\">std</span><span class=\"o\">::</span><span class=\"n\">shared_ptr</span><span class=\"o\">&lt;</span><span class=\"n\">ASTNode</span><span class=\"o\">&gt;</span>\n",
       "<span class=\"w\">  </span><span class=\"n\">parse_list</span><span class=\"p\">(</span><span class=\"kt\">int</span><span class=\"o\">&amp;</span><span class=\"w\"> </span><span class=\"n\">i</span><span class=\"p\">,</span><span class=\"w\"> </span><span class=\"k\">const</span><span class=\"w\"> </span><span class=\"n\">std</span><span class=\"o\">::</span><span class=\"n\">vector</span><span class=\"o\">&lt;</span><span class=\"n\">PosToken</span><span class=\"o\">&gt;&amp;</span><span class=\"w\"> </span><span class=\"n\">tokens</span><span class=\"p\">,</span><span class=\"w\"> </span><span class=\"k\">const</span><span class=\"w\"> </span><span class=\"n\">std</span><span class=\"o\">::</span><span class=\"n\">string</span><span class=\"o\">&amp;</span><span class=\"w\"> </span><span class=\"n\">line</span><span class=\"p\">)</span><span class=\"w\"> </span><span class=\"p\">{</span>\n",
       "<span class=\"w\">  </span><span class=\"kt\">int</span><span class=\"w\"> </span><span class=\"n\">pos</span><span class=\"w\"> </span><span class=\"o\">=</span><span class=\"w\"> </span><span class=\"n\">tokens</span><span class=\"p\">[</span><span class=\"n\">i</span><span class=\"p\">].</span><span class=\"n\">first</span><span class=\"p\">;</span>\n",
       "\n",
       "<span class=\"w\">  </span><span class=\"n\">i</span><span class=\"o\">++</span><span class=\"p\">;</span><span class=\"w\">   </span><span class=\"c1\">// get past &quot;[&quot;</span>\n",
       "\n",
       "<span class=\"w\">  </span><span class=\"n\">std</span><span class=\"o\">::</span><span class=\"n\">vector</span><span class=\"o\">&lt;</span><span class=\"n\">std</span><span class=\"o\">::</span><span class=\"n\">shared_ptr</span><span class=\"o\">&lt;</span><span class=\"n\">ASTNode</span><span class=\"o\">&gt;&gt;</span><span class=\"w\"> </span><span class=\"n\">values</span><span class=\"p\">;</span>\n",
       "\n",
       "<span class=\"w\">  </span><span class=\"kt\">bool</span><span class=\"w\"> </span><span class=\"n\">first</span><span class=\"w\"> </span><span class=\"o\">=</span><span class=\"w\"> </span><span class=\"nb\">true</span><span class=\"p\">;</span>\n",
       "<span class=\"w\">  </span><span class=\"k\">while</span><span class=\"w\"> </span><span class=\"p\">(</span><span class=\"n\">tokens</span><span class=\"p\">[</span><span class=\"n\">i</span><span class=\"p\">].</span><span class=\"n\">second</span><span class=\"w\"> </span><span class=\"o\">!=</span><span class=\"w\"> </span><span class=\"s\">&quot;]&quot;</span><span class=\"p\">)</span><span class=\"w\"> </span><span class=\"p\">{</span>\n",
       "<span class=\"w\">    </span><span class=\"k\">if</span><span class=\"w\"> </span><span class=\"p\">(</span><span class=\"o\">!</span><span class=\"n\">first</span><span class=\"p\">)</span><span class=\"w\"> </span><span class=\"p\">{</span>\n",
       "<span class=\"w\">      </span><span class=\"k\">if</span><span class=\"w\"> </span><span class=\"p\">(</span><span class=\"n\">tokens</span><span class=\"p\">[</span><span class=\"n\">i</span><span class=\"p\">].</span><span class=\"n\">second</span><span class=\"w\"> </span><span class=\"o\">!=</span><span class=\"w\"> </span><span class=\"s\">&quot;,&quot;</span><span class=\"p\">)</span><span class=\"w\"> </span><span class=\"p\">{</span>\n",
       "<span class=\"w\">        </span><span class=\"k\">throw</span><span class=\"w\"> </span><span class=\"n\">error</span><span class=\"p\">(</span><span class=\"n\">tokens</span><span class=\"p\">[</span><span class=\"n\">i</span><span class=\"p\">].</span><span class=\"n\">first</span><span class=\"p\">,</span><span class=\"w\"> </span><span class=\"s\">&quot;commas are required between list items&quot;</span><span class=\"p\">);</span>\n",
       "<span class=\"w\">      </span><span class=\"p\">}</span>\n",
       "<span class=\"w\">      </span><span class=\"n\">i</span><span class=\"o\">++</span><span class=\"p\">;</span><span class=\"w\">  </span><span class=\"c1\">// get past &quot;,&quot;</span>\n",
       "<span class=\"w\">    </span><span class=\"p\">}</span>\n",
       "<span class=\"w\">    </span><span class=\"n\">first</span><span class=\"w\"> </span><span class=\"o\">=</span><span class=\"w\"> </span><span class=\"nb\">false</span><span class=\"p\">;</span>\n",
       "\n",
       "<span class=\"w\">    </span><span class=\"n\">values</span><span class=\"p\">.</span><span class=\"n\">push_back</span><span class=\"p\">(</span><span class=\"n\">parse</span><span class=\"p\">(</span><span class=\"n\">i</span><span class=\"p\">,</span><span class=\"w\"> </span><span class=\"n\">tokens</span><span class=\"p\">,</span><span class=\"w\"> </span><span class=\"n\">line</span><span class=\"p\">));</span>\n",
       "<span class=\"w\">  </span><span class=\"p\">}</span>\n",
       "\n",
       "<span class=\"w\">  </span><span class=\"n\">i</span><span class=\"o\">++</span><span class=\"p\">;</span><span class=\"w\">   </span><span class=\"c1\">// get past &quot;]&quot;</span>\n",
       "\n",
       "<span class=\"w\">  </span><span class=\"k\">return</span><span class=\"w\"> </span><span class=\"n\">std</span><span class=\"o\">::</span><span class=\"n\">make_shared</span><span class=\"o\">&lt;</span><span class=\"n\">ASTLiteralList</span><span class=\"o\">&gt;</span><span class=\"p\">(</span><span class=\"n\">pos</span><span class=\"p\">,</span><span class=\"w\"> </span><span class=\"n\">line</span><span class=\"p\">,</span><span class=\"w\"> </span><span class=\"n\">values</span><span class=\"p\">);</span>\n",
       "<span class=\"p\">}</span>\n",
       "\n",
       "\n",
       "<span class=\"n\">std</span><span class=\"o\">::</span><span class=\"n\">shared_ptr</span><span class=\"o\">&lt;</span><span class=\"n\">ASTNode</span><span class=\"o\">&gt;</span>\n",
       "<span class=\"w\">  </span><span class=\"n\">parse_fun</span><span class=\"p\">(</span><span class=\"kt\">int</span><span class=\"o\">&amp;</span><span class=\"w\"> </span><span class=\"n\">i</span><span class=\"p\">,</span><span class=\"w\"> </span><span class=\"k\">const</span><span class=\"w\"> </span><span class=\"n\">std</span><span class=\"o\">::</span><span class=\"n\">vector</span><span class=\"o\">&lt;</span><span class=\"n\">PosToken</span><span class=\"o\">&gt;&amp;</span><span class=\"w\"> </span><span class=\"n\">tokens</span><span class=\"p\">,</span><span class=\"w\"> </span><span class=\"k\">const</span><span class=\"w\"> </span><span class=\"n\">std</span><span class=\"o\">::</span><span class=\"n\">string</span><span class=\"o\">&amp;</span><span class=\"w\"> </span><span class=\"n\">line</span><span class=\"p\">)</span><span class=\"w\"> </span><span class=\"p\">{</span>\n",
       "<span class=\"w\">  </span><span class=\"kt\">int</span><span class=\"w\"> </span><span class=\"n\">pos</span><span class=\"w\"> </span><span class=\"o\">=</span><span class=\"w\"> </span><span class=\"n\">tokens</span><span class=\"p\">[</span><span class=\"n\">i</span><span class=\"p\">].</span><span class=\"n\">first</span><span class=\"p\">;</span>\n",
       "\n",
       "<span class=\"w\">  </span><span class=\"n\">i</span><span class=\"o\">++</span><span class=\"p\">;</span><span class=\"w\">  </span><span class=\"c1\">// get past &quot;def&quot;</span>\n",
       "\n",
       "<span class=\"w\">  </span><span class=\"k\">if</span><span class=\"w\"> </span><span class=\"p\">(</span><span class=\"n\">tokens</span><span class=\"p\">[</span><span class=\"n\">i</span><span class=\"p\">].</span><span class=\"n\">second</span><span class=\"w\"> </span><span class=\"o\">!=</span><span class=\"w\"> </span><span class=\"s\">&quot;(&quot;</span><span class=\"p\">)</span><span class=\"w\"> </span><span class=\"p\">{</span>\n",
       "<span class=\"w\">    </span><span class=\"k\">throw</span><span class=\"w\"> </span><span class=\"n\">error</span><span class=\"p\">(</span><span class=\"n\">tokens</span><span class=\"p\">[</span><span class=\"n\">i</span><span class=\"p\">].</span><span class=\"n\">first</span><span class=\"p\">,</span><span class=\"w\"> </span><span class=\"s\">&quot;&#39;fun&#39; must be followed by a list of function parameters&quot;</span><span class=\"p\">);</span>\n",
       "<span class=\"w\">  </span><span class=\"p\">}</span>\n",
       "\n",
       "<span class=\"w\">  </span><span class=\"n\">i</span><span class=\"o\">++</span><span class=\"p\">;</span><span class=\"w\">  </span><span class=\"c1\">// get past &quot;(&quot;</span>\n",
       "\n",
       "<span class=\"w\">  </span><span class=\"n\">std</span><span class=\"o\">::</span><span class=\"n\">regex</span><span class=\"w\"> </span><span class=\"n\">is_name</span><span class=\"p\">(</span><span class=\"s\">&quot;[A-Za-z_][A-Za-z_0-9]*&quot;</span><span class=\"p\">);</span>\n",
       "<span class=\"w\">  </span><span class=\"n\">std</span><span class=\"o\">::</span><span class=\"n\">vector</span><span class=\"o\">&lt;</span><span class=\"n\">std</span><span class=\"o\">::</span><span class=\"n\">string</span><span class=\"o\">&gt;</span><span class=\"w\"> </span><span class=\"n\">params</span><span class=\"p\">;</span>\n",
       "\n",
       "<span class=\"w\">  </span><span class=\"kt\">bool</span><span class=\"w\"> </span><span class=\"n\">first</span><span class=\"w\"> </span><span class=\"o\">=</span><span class=\"w\"> </span><span class=\"nb\">true</span><span class=\"p\">;</span>\n",
       "<span class=\"w\">  </span><span class=\"k\">while</span><span class=\"w\"> </span><span class=\"p\">(</span><span class=\"n\">tokens</span><span class=\"p\">[</span><span class=\"n\">i</span><span class=\"p\">].</span><span class=\"n\">second</span><span class=\"w\"> </span><span class=\"o\">!=</span><span class=\"w\"> </span><span class=\"s\">&quot;)&quot;</span><span class=\"p\">)</span><span class=\"w\"> </span><span class=\"p\">{</span>\n",
       "<span class=\"w\">    </span><span class=\"k\">if</span><span class=\"w\"> </span><span class=\"p\">(</span><span class=\"o\">!</span><span class=\"n\">first</span><span class=\"p\">)</span><span class=\"w\"> </span><span class=\"p\">{</span>\n",
       "<span class=\"w\">      </span><span class=\"k\">if</span><span class=\"w\"> </span><span class=\"p\">(</span><span class=\"n\">tokens</span><span class=\"p\">[</span><span class=\"n\">i</span><span class=\"p\">].</span><span class=\"n\">second</span><span class=\"w\"> </span><span class=\"o\">!=</span><span class=\"w\"> </span><span class=\"s\">&quot;,&quot;</span><span class=\"p\">)</span><span class=\"w\"> </span><span class=\"p\">{</span>\n",
       "<span class=\"w\">        </span><span class=\"k\">throw</span><span class=\"w\"> </span><span class=\"n\">error</span><span class=\"p\">(</span><span class=\"n\">tokens</span><span class=\"p\">[</span><span class=\"n\">i</span><span class=\"p\">].</span><span class=\"n\">first</span><span class=\"p\">,</span><span class=\"w\"> </span><span class=\"s\">&quot;commas are required between function parameter names&quot;</span><span class=\"p\">);</span>\n",
       "<span class=\"w\">      </span><span class=\"p\">}</span>\n",
       "<span class=\"w\">      </span><span class=\"n\">i</span><span class=\"o\">++</span><span class=\"p\">;</span><span class=\"w\">  </span><span class=\"c1\">// get past &quot;,&quot;</span>\n",
       "<span class=\"w\">    </span><span class=\"p\">}</span>\n",
       "<span class=\"w\">    </span><span class=\"n\">first</span><span class=\"w\"> </span><span class=\"o\">=</span><span class=\"w\"> </span><span class=\"nb\">false</span><span class=\"p\">;</span>\n",
       "\n",
       "<span class=\"w\">    </span><span class=\"k\">if</span><span class=\"w\"> </span><span class=\"p\">(</span><span class=\"n\">std</span><span class=\"o\">::</span><span class=\"n\">regex_match</span><span class=\"p\">(</span><span class=\"n\">tokens</span><span class=\"p\">[</span><span class=\"n\">i</span><span class=\"p\">].</span><span class=\"n\">second</span><span class=\"p\">,</span><span class=\"w\"> </span><span class=\"n\">is_name</span><span class=\"p\">))</span><span class=\"w\"> </span><span class=\"p\">{</span>\n",
       "<span class=\"w\">      </span><span class=\"n\">params</span><span class=\"p\">.</span><span class=\"n\">push_back</span><span class=\"p\">(</span><span class=\"n\">tokens</span><span class=\"p\">[</span><span class=\"n\">i</span><span class=\"p\">].</span><span class=\"n\">second</span><span class=\"p\">);</span>\n",
       "<span class=\"w\">    </span><span class=\"p\">}</span>\n",
       "<span class=\"w\">    </span><span class=\"k\">else</span><span class=\"w\"> </span><span class=\"p\">{</span>\n",
       "<span class=\"w\">      </span><span class=\"k\">throw</span><span class=\"w\"> </span><span class=\"n\">error</span><span class=\"p\">(</span><span class=\"n\">tokens</span><span class=\"p\">[</span><span class=\"n\">i</span><span class=\"p\">].</span><span class=\"n\">first</span><span class=\"p\">,</span><span class=\"w\"> </span><span class=\"s\">&quot;function parameters must be identifiers&quot;</span><span class=\"p\">);</span>\n",
       "<span class=\"w\">    </span><span class=\"p\">}</span>\n",
       "<span class=\"w\">    </span><span class=\"n\">i</span><span class=\"o\">++</span><span class=\"p\">;</span><span class=\"w\">  </span><span class=\"c1\">// get past parameter name</span>\n",
       "<span class=\"w\">  </span><span class=\"p\">}</span>\n",
       "\n",
       "<span class=\"w\">  </span><span class=\"n\">i</span><span class=\"o\">++</span><span class=\"p\">;</span><span class=\"w\">  </span><span class=\"c1\">// get past &quot;)&quot;</span>\n",
       "\n",
       "<span class=\"w\">  </span><span class=\"n\">std</span><span class=\"o\">::</span><span class=\"n\">vector</span><span class=\"o\">&lt;</span><span class=\"n\">std</span><span class=\"o\">::</span><span class=\"n\">shared_ptr</span><span class=\"o\">&lt;</span><span class=\"n\">ASTNode</span><span class=\"o\">&gt;&gt;</span><span class=\"w\"> </span><span class=\"n\">body</span><span class=\"p\">;</span>\n",
       "\n",
       "<span class=\"w\">  </span><span class=\"k\">if</span><span class=\"w\"> </span><span class=\"p\">(</span><span class=\"n\">tokens</span><span class=\"p\">[</span><span class=\"n\">i</span><span class=\"p\">].</span><span class=\"n\">second</span><span class=\"w\"> </span><span class=\"o\">==</span><span class=\"w\"> </span><span class=\"s\">&quot;{&quot;</span><span class=\"p\">)</span><span class=\"w\"> </span><span class=\"p\">{</span>\n",
       "<span class=\"w\">    </span><span class=\"c1\">// curly brackets; accept statements separated by semicolons</span>\n",
       "\n",
       "<span class=\"w\">    </span><span class=\"n\">i</span><span class=\"o\">++</span><span class=\"p\">;</span><span class=\"w\">  </span><span class=\"c1\">// get past &quot;{&quot;</span>\n",
       "\n",
       "<span class=\"w\">    </span><span class=\"kt\">bool</span><span class=\"w\"> </span><span class=\"n\">first</span><span class=\"w\"> </span><span class=\"o\">=</span><span class=\"w\"> </span><span class=\"nb\">true</span><span class=\"p\">;</span>\n",
       "<span class=\"w\">    </span><span class=\"k\">while</span><span class=\"w\"> </span><span class=\"p\">(</span><span class=\"n\">tokens</span><span class=\"p\">[</span><span class=\"n\">i</span><span class=\"p\">].</span><span class=\"n\">second</span><span class=\"w\"> </span><span class=\"o\">!=</span><span class=\"w\"> </span><span class=\"s\">&quot;}&quot;</span><span class=\"p\">)</span><span class=\"w\"> </span><span class=\"p\">{</span>\n",
       "<span class=\"w\">      </span><span class=\"k\">if</span><span class=\"w\"> </span><span class=\"p\">(</span><span class=\"o\">!</span><span class=\"n\">first</span><span class=\"p\">)</span><span class=\"w\"> </span><span class=\"p\">{</span>\n",
       "<span class=\"w\">        </span><span class=\"k\">if</span><span class=\"w\"> </span><span class=\"p\">(</span><span class=\"n\">tokens</span><span class=\"p\">[</span><span class=\"n\">i</span><span class=\"p\">].</span><span class=\"n\">second</span><span class=\"w\"> </span><span class=\"o\">!=</span><span class=\"w\"> </span><span class=\"s\">&quot;;&quot;</span><span class=\"p\">)</span><span class=\"w\"> </span><span class=\"p\">{</span>\n",
       "<span class=\"w\">          </span><span class=\"k\">throw</span><span class=\"w\"> </span><span class=\"n\">error</span><span class=\"p\">(</span><span class=\"n\">tokens</span><span class=\"p\">[</span><span class=\"n\">i</span><span class=\"p\">].</span><span class=\"n\">first</span><span class=\"p\">,</span><span class=\"w\"> </span><span class=\"s\">&quot;semicolons are required between statements&quot;</span><span class=\"p\">);</span>\n",
       "<span class=\"w\">        </span><span class=\"p\">}</span>\n",
       "<span class=\"w\">        </span><span class=\"n\">i</span><span class=\"o\">++</span><span class=\"p\">;</span><span class=\"w\">  </span><span class=\"c1\">// get past &quot;;&quot;</span>\n",
       "<span class=\"w\">      </span><span class=\"p\">}</span>\n",
       "<span class=\"w\">      </span><span class=\"n\">first</span><span class=\"w\"> </span><span class=\"o\">=</span><span class=\"w\"> </span><span class=\"nb\">false</span><span class=\"p\">;</span>\n",
       "\n",
       "<span class=\"w\">      </span><span class=\"n\">body</span><span class=\"p\">.</span><span class=\"n\">push_back</span><span class=\"p\">(</span><span class=\"n\">parse</span><span class=\"p\">(</span><span class=\"n\">i</span><span class=\"p\">,</span><span class=\"w\"> </span><span class=\"n\">tokens</span><span class=\"p\">,</span><span class=\"w\"> </span><span class=\"n\">line</span><span class=\"p\">));</span>\n",
       "<span class=\"w\">    </span><span class=\"p\">}</span>\n",
       "\n",
       "<span class=\"w\">    </span><span class=\"n\">i</span><span class=\"o\">++</span><span class=\"p\">;</span><span class=\"w\">   </span><span class=\"c1\">// get past &quot;}&quot;</span>\n",
       "<span class=\"w\">  </span><span class=\"p\">}</span>\n",
       "<span class=\"w\">  </span><span class=\"k\">else</span><span class=\"w\"> </span><span class=\"p\">{</span>\n",
       "<span class=\"w\">    </span><span class=\"c1\">// no curly brackets; only one statement</span>\n",
       "<span class=\"w\">    </span><span class=\"n\">body</span><span class=\"p\">.</span><span class=\"n\">push_back</span><span class=\"p\">(</span><span class=\"n\">parse</span><span class=\"p\">(</span><span class=\"n\">i</span><span class=\"p\">,</span><span class=\"w\"> </span><span class=\"n\">tokens</span><span class=\"p\">,</span><span class=\"w\"> </span><span class=\"n\">line</span><span class=\"p\">));</span>\n",
       "<span class=\"w\">  </span><span class=\"p\">}</span>\n",
       "\n",
       "<span class=\"w\">  </span><span class=\"k\">return</span><span class=\"w\"> </span><span class=\"n\">std</span><span class=\"o\">::</span><span class=\"n\">make_shared</span><span class=\"o\">&lt;</span><span class=\"n\">ASTDefineFun</span><span class=\"o\">&gt;</span><span class=\"p\">(</span><span class=\"n\">pos</span><span class=\"p\">,</span><span class=\"w\"> </span><span class=\"n\">line</span><span class=\"p\">,</span><span class=\"w\"> </span><span class=\"n\">params</span><span class=\"p\">,</span><span class=\"w\"> </span><span class=\"n\">body</span><span class=\"p\">);</span>\n",
       "<span class=\"p\">}</span>\n",
       "\n",
       "\n",
       "<span class=\"n\">std</span><span class=\"o\">::</span><span class=\"n\">shared_ptr</span><span class=\"o\">&lt;</span><span class=\"n\">ASTNode</span><span class=\"o\">&gt;</span>\n",
       "<span class=\"w\">  </span><span class=\"n\">parse_call</span><span class=\"p\">(</span><span class=\"kt\">int</span><span class=\"o\">&amp;</span><span class=\"w\"> </span><span class=\"n\">i</span><span class=\"p\">,</span><span class=\"w\"> </span><span class=\"k\">const</span><span class=\"w\"> </span><span class=\"n\">std</span><span class=\"o\">::</span><span class=\"n\">vector</span><span class=\"o\">&lt;</span><span class=\"n\">PosToken</span><span class=\"o\">&gt;&amp;</span><span class=\"w\"> </span><span class=\"n\">tokens</span><span class=\"p\">,</span><span class=\"w\"> </span><span class=\"k\">const</span><span class=\"w\"> </span><span class=\"n\">std</span><span class=\"o\">::</span><span class=\"n\">string</span><span class=\"o\">&amp;</span><span class=\"w\"> </span><span class=\"n\">line</span><span class=\"p\">)</span><span class=\"w\"> </span><span class=\"p\">{</span>\n",
       "<span class=\"w\">  </span><span class=\"kt\">int</span><span class=\"w\"> </span><span class=\"n\">pos</span><span class=\"w\"> </span><span class=\"o\">=</span><span class=\"w\"> </span><span class=\"n\">tokens</span><span class=\"p\">[</span><span class=\"n\">i</span><span class=\"p\">].</span><span class=\"n\">first</span><span class=\"p\">;</span>\n",
       "<span class=\"w\">  </span><span class=\"k\">const</span><span class=\"w\"> </span><span class=\"n\">std</span><span class=\"o\">::</span><span class=\"n\">string</span><span class=\"w\"> </span><span class=\"n\">name</span><span class=\"w\"> </span><span class=\"o\">=</span><span class=\"w\"> </span><span class=\"n\">tokens</span><span class=\"p\">[</span><span class=\"n\">i</span><span class=\"p\">].</span><span class=\"n\">second</span><span class=\"p\">;</span>\n",
       "\n",
       "<span class=\"w\">  </span><span class=\"n\">i</span><span class=\"o\">++</span><span class=\"p\">;</span><span class=\"w\">  </span><span class=\"c1\">// get past name</span>\n",
       "<span class=\"w\">  </span><span class=\"n\">i</span><span class=\"o\">++</span><span class=\"p\">;</span><span class=\"w\">  </span><span class=\"c1\">// get past &quot;(&quot;</span>\n",
       "\n",
       "<span class=\"w\">  </span><span class=\"n\">std</span><span class=\"o\">::</span><span class=\"n\">vector</span><span class=\"o\">&lt;</span><span class=\"n\">std</span><span class=\"o\">::</span><span class=\"n\">shared_ptr</span><span class=\"o\">&lt;</span><span class=\"n\">ASTNode</span><span class=\"o\">&gt;&gt;</span><span class=\"w\"> </span><span class=\"n\">args</span><span class=\"p\">;</span>\n",
       "\n",
       "<span class=\"w\">  </span><span class=\"kt\">bool</span><span class=\"w\"> </span><span class=\"n\">first</span><span class=\"w\"> </span><span class=\"o\">=</span><span class=\"w\"> </span><span class=\"nb\">true</span><span class=\"p\">;</span>\n",
       "<span class=\"w\">  </span><span class=\"k\">while</span><span class=\"w\"> </span><span class=\"p\">(</span><span class=\"n\">tokens</span><span class=\"p\">[</span><span class=\"n\">i</span><span class=\"p\">].</span><span class=\"n\">second</span><span class=\"w\"> </span><span class=\"o\">!=</span><span class=\"w\"> </span><span class=\"s\">&quot;)&quot;</span><span class=\"p\">)</span><span class=\"w\"> </span><span class=\"p\">{</span>\n",
       "<span class=\"w\">    </span><span class=\"k\">if</span><span class=\"w\"> </span><span class=\"p\">(</span><span class=\"o\">!</span><span class=\"n\">first</span><span class=\"p\">)</span><span class=\"w\"> </span><span class=\"p\">{</span>\n",
       "<span class=\"w\">      </span><span class=\"k\">if</span><span class=\"w\"> </span><span class=\"p\">(</span><span class=\"n\">tokens</span><span class=\"p\">[</span><span class=\"n\">i</span><span class=\"p\">].</span><span class=\"n\">second</span><span class=\"w\"> </span><span class=\"o\">!=</span><span class=\"w\"> </span><span class=\"s\">&quot;,&quot;</span><span class=\"p\">)</span><span class=\"w\"> </span><span class=\"p\">{</span>\n",
       "<span class=\"w\">        </span><span class=\"k\">throw</span><span class=\"w\"> </span><span class=\"n\">error</span><span class=\"p\">(</span><span class=\"n\">tokens</span><span class=\"p\">[</span><span class=\"n\">i</span><span class=\"p\">].</span><span class=\"n\">first</span><span class=\"p\">,</span><span class=\"w\"> </span><span class=\"s\">&quot;commas are required between list items&quot;</span><span class=\"p\">);</span>\n",
       "<span class=\"w\">      </span><span class=\"p\">}</span>\n",
       "<span class=\"w\">      </span><span class=\"n\">i</span><span class=\"o\">++</span><span class=\"p\">;</span><span class=\"w\">  </span><span class=\"c1\">// get past &quot;,&quot;</span>\n",
       "<span class=\"w\">    </span><span class=\"p\">}</span>\n",
       "<span class=\"w\">    </span><span class=\"n\">first</span><span class=\"w\"> </span><span class=\"o\">=</span><span class=\"w\"> </span><span class=\"nb\">false</span><span class=\"p\">;</span>\n",
       "\n",
       "<span class=\"w\">    </span><span class=\"n\">args</span><span class=\"p\">.</span><span class=\"n\">push_back</span><span class=\"p\">(</span><span class=\"n\">parse</span><span class=\"p\">(</span><span class=\"n\">i</span><span class=\"p\">,</span><span class=\"w\"> </span><span class=\"n\">tokens</span><span class=\"p\">,</span><span class=\"w\"> </span><span class=\"n\">line</span><span class=\"p\">));</span>\n",
       "<span class=\"w\">  </span><span class=\"p\">}</span>\n",
       "\n",
       "<span class=\"w\">  </span><span class=\"n\">i</span><span class=\"o\">++</span><span class=\"p\">;</span><span class=\"w\">   </span><span class=\"c1\">// get past &quot;)&quot;</span>\n",
       "\n",
       "<span class=\"w\">  </span><span class=\"k\">return</span><span class=\"w\"> </span><span class=\"n\">std</span><span class=\"o\">::</span><span class=\"n\">make_shared</span><span class=\"o\">&lt;</span><span class=\"n\">ASTCallNamed</span><span class=\"o\">&gt;</span><span class=\"p\">(</span><span class=\"n\">pos</span><span class=\"p\">,</span><span class=\"w\"> </span><span class=\"n\">line</span><span class=\"p\">,</span><span class=\"w\"> </span><span class=\"n\">name</span><span class=\"p\">,</span><span class=\"w\"> </span><span class=\"n\">args</span><span class=\"p\">);</span>\n",
       "<span class=\"p\">}</span>\n",
       "\n",
       "\n",
       "<span class=\"n\">std</span><span class=\"o\">::</span><span class=\"n\">shared_ptr</span><span class=\"o\">&lt;</span><span class=\"n\">ASTNode</span><span class=\"o\">&gt;</span>\n",
       "<span class=\"w\">  </span><span class=\"n\">parse_assign</span><span class=\"p\">(</span><span class=\"kt\">int</span><span class=\"o\">&amp;</span><span class=\"w\"> </span><span class=\"n\">i</span><span class=\"p\">,</span><span class=\"w\"> </span><span class=\"k\">const</span><span class=\"w\"> </span><span class=\"n\">std</span><span class=\"o\">::</span><span class=\"n\">vector</span><span class=\"o\">&lt;</span><span class=\"n\">PosToken</span><span class=\"o\">&gt;&amp;</span><span class=\"w\"> </span><span class=\"n\">tokens</span><span class=\"p\">,</span><span class=\"w\"> </span><span class=\"k\">const</span><span class=\"w\"> </span><span class=\"n\">std</span><span class=\"o\">::</span><span class=\"n\">string</span><span class=\"o\">&amp;</span><span class=\"w\"> </span><span class=\"n\">line</span><span class=\"p\">)</span><span class=\"w\"> </span><span class=\"p\">{</span>\n",
       "<span class=\"w\">  </span><span class=\"kt\">int</span><span class=\"w\"> </span><span class=\"n\">pos</span><span class=\"w\"> </span><span class=\"o\">=</span><span class=\"w\"> </span><span class=\"n\">tokens</span><span class=\"p\">[</span><span class=\"n\">i</span><span class=\"p\">].</span><span class=\"n\">first</span><span class=\"p\">;</span>\n",
       "<span class=\"w\">  </span><span class=\"k\">const</span><span class=\"w\"> </span><span class=\"n\">std</span><span class=\"o\">::</span><span class=\"n\">string</span><span class=\"w\"> </span><span class=\"n\">name</span><span class=\"w\"> </span><span class=\"o\">=</span><span class=\"w\"> </span><span class=\"n\">tokens</span><span class=\"p\">[</span><span class=\"n\">i</span><span class=\"p\">].</span><span class=\"n\">second</span><span class=\"p\">;</span>\n",
       "\n",
       "<span class=\"w\">  </span><span class=\"n\">i</span><span class=\"o\">++</span><span class=\"p\">;</span><span class=\"w\">  </span><span class=\"c1\">// get past name</span>\n",
       "<span class=\"w\">  </span><span class=\"n\">i</span><span class=\"o\">++</span><span class=\"p\">;</span><span class=\"w\">  </span><span class=\"c1\">// get past &quot;=&quot;</span>\n",
       "\n",
       "<span class=\"w\">  </span><span class=\"n\">std</span><span class=\"o\">::</span><span class=\"n\">shared_ptr</span><span class=\"o\">&lt;</span><span class=\"n\">ASTNode</span><span class=\"o\">&gt;</span><span class=\"w\"> </span><span class=\"n\">value</span><span class=\"w\"> </span><span class=\"o\">=</span><span class=\"w\"> </span><span class=\"n\">parse</span><span class=\"p\">(</span><span class=\"n\">i</span><span class=\"p\">,</span><span class=\"w\"> </span><span class=\"n\">tokens</span><span class=\"p\">,</span><span class=\"w\"> </span><span class=\"n\">line</span><span class=\"p\">);</span>\n",
       "\n",
       "<span class=\"w\">  </span><span class=\"k\">return</span><span class=\"w\"> </span><span class=\"n\">std</span><span class=\"o\">::</span><span class=\"n\">make_shared</span><span class=\"o\">&lt;</span><span class=\"n\">ASTAssignment</span><span class=\"o\">&gt;</span><span class=\"p\">(</span><span class=\"n\">pos</span><span class=\"p\">,</span><span class=\"w\"> </span><span class=\"n\">line</span><span class=\"p\">,</span><span class=\"w\"> </span><span class=\"n\">name</span><span class=\"p\">,</span><span class=\"w\"> </span><span class=\"n\">value</span><span class=\"p\">);</span>\n",
       "<span class=\"p\">}</span>\n",
       "\n",
       "\n",
       "<span class=\"n\">std</span><span class=\"o\">::</span><span class=\"n\">shared_ptr</span><span class=\"o\">&lt;</span><span class=\"n\">ASTNode</span><span class=\"o\">&gt;</span>\n",
       "<span class=\"w\">  </span><span class=\"n\">parse_delete</span><span class=\"p\">(</span><span class=\"kt\">int</span><span class=\"o\">&amp;</span><span class=\"w\"> </span><span class=\"n\">i</span><span class=\"p\">,</span><span class=\"w\"> </span><span class=\"k\">const</span><span class=\"w\"> </span><span class=\"n\">std</span><span class=\"o\">::</span><span class=\"n\">vector</span><span class=\"o\">&lt;</span><span class=\"n\">PosToken</span><span class=\"o\">&gt;&amp;</span><span class=\"w\"> </span><span class=\"n\">tokens</span><span class=\"p\">,</span><span class=\"w\"> </span><span class=\"k\">const</span><span class=\"w\"> </span><span class=\"n\">std</span><span class=\"o\">::</span><span class=\"n\">string</span><span class=\"o\">&amp;</span><span class=\"w\"> </span><span class=\"n\">line</span><span class=\"p\">)</span><span class=\"w\"> </span><span class=\"p\">{</span>\n",
       "<span class=\"w\">  </span><span class=\"kt\">int</span><span class=\"w\"> </span><span class=\"n\">pos</span><span class=\"w\"> </span><span class=\"o\">=</span><span class=\"w\"> </span><span class=\"n\">tokens</span><span class=\"p\">[</span><span class=\"n\">i</span><span class=\"p\">].</span><span class=\"n\">first</span><span class=\"p\">;</span>\n",
       "\n",
       "<span class=\"w\">  </span><span class=\"n\">i</span><span class=\"o\">++</span><span class=\"p\">;</span><span class=\"w\">  </span><span class=\"c1\">// get past &quot;del&quot;</span>\n",
       "\n",
       "<span class=\"w\">  </span><span class=\"k\">if</span><span class=\"w\"> </span><span class=\"p\">(</span><span class=\"n\">i</span><span class=\"w\"> </span><span class=\"o\">&gt;=</span><span class=\"w\"> </span><span class=\"n\">tokens</span><span class=\"p\">.</span><span class=\"n\">size</span><span class=\"p\">()</span><span class=\"w\">  </span><span class=\"o\">||</span><span class=\"w\">  </span><span class=\"n\">tokens</span><span class=\"p\">[</span><span class=\"n\">i</span><span class=\"p\">].</span><span class=\"n\">second</span><span class=\"w\"> </span><span class=\"o\">!=</span><span class=\"w\"> </span><span class=\"s\">&quot;(&quot;</span><span class=\"p\">)</span><span class=\"w\"> </span><span class=\"p\">{</span>\n",
       "<span class=\"w\">    </span><span class=\"k\">throw</span><span class=\"w\"> </span><span class=\"n\">error</span><span class=\"p\">(</span><span class=\"n\">pos</span><span class=\"p\">,</span><span class=\"w\"> </span><span class=\"s\">&quot;&#39;del&#39; must be followed by a name in parentheses&quot;</span><span class=\"p\">);</span>\n",
       "<span class=\"w\">  </span><span class=\"p\">}</span>\n",
       "\n",
       "<span class=\"w\">  </span><span class=\"n\">i</span><span class=\"o\">++</span><span class=\"p\">;</span><span class=\"w\">  </span><span class=\"c1\">// get past &quot;(&quot;</span>\n",
       "\n",
       "<span class=\"w\">  </span><span class=\"n\">std</span><span class=\"o\">::</span><span class=\"n\">regex</span><span class=\"w\"> </span><span class=\"n\">is_name</span><span class=\"p\">(</span><span class=\"s\">&quot;[A-Za-z_][A-Za-z_0-9]*&quot;</span><span class=\"p\">);</span>\n",
       "\n",
       "<span class=\"w\">  </span><span class=\"n\">std</span><span class=\"o\">::</span><span class=\"n\">string</span><span class=\"w\"> </span><span class=\"n\">name</span><span class=\"p\">;</span>\n",
       "<span class=\"w\">  </span><span class=\"k\">if</span><span class=\"w\"> </span><span class=\"p\">(</span><span class=\"n\">i</span><span class=\"w\"> </span><span class=\"o\">&lt;</span><span class=\"w\"> </span><span class=\"n\">tokens</span><span class=\"p\">.</span><span class=\"n\">size</span><span class=\"p\">()</span><span class=\"w\">  </span><span class=\"o\">&amp;&amp;</span><span class=\"w\">  </span><span class=\"n\">std</span><span class=\"o\">::</span><span class=\"n\">regex_match</span><span class=\"p\">(</span><span class=\"n\">tokens</span><span class=\"p\">[</span><span class=\"n\">i</span><span class=\"p\">].</span><span class=\"n\">second</span><span class=\"p\">,</span><span class=\"w\"> </span><span class=\"n\">is_name</span><span class=\"p\">))</span><span class=\"w\"> </span><span class=\"p\">{</span>\n",
       "<span class=\"w\">    </span><span class=\"n\">name</span><span class=\"w\"> </span><span class=\"o\">=</span><span class=\"w\"> </span><span class=\"n\">tokens</span><span class=\"p\">[</span><span class=\"n\">i</span><span class=\"p\">].</span><span class=\"n\">second</span><span class=\"p\">;</span>\n",
       "<span class=\"w\">  </span><span class=\"p\">}</span>\n",
       "<span class=\"w\">  </span><span class=\"k\">else</span><span class=\"w\"> </span><span class=\"p\">{</span>\n",
       "<span class=\"w\">    </span><span class=\"k\">throw</span><span class=\"w\"> </span><span class=\"n\">error</span><span class=\"p\">(</span><span class=\"n\">pos</span><span class=\"p\">,</span><span class=\"w\"> </span><span class=\"s\">&quot;name of variable to delete must be provided&quot;</span><span class=\"p\">);</span>\n",
       "<span class=\"w\">  </span><span class=\"p\">}</span>\n",
       "\n",
       "<span class=\"w\">  </span><span class=\"n\">i</span><span class=\"o\">++</span><span class=\"p\">;</span><span class=\"w\">  </span><span class=\"c1\">// get past name</span>\n",
       "\n",
       "<span class=\"w\">  </span><span class=\"k\">if</span><span class=\"w\"> </span><span class=\"p\">(</span><span class=\"n\">i</span><span class=\"w\"> </span><span class=\"o\">&gt;=</span><span class=\"w\"> </span><span class=\"n\">tokens</span><span class=\"p\">.</span><span class=\"n\">size</span><span class=\"p\">()</span><span class=\"w\">  </span><span class=\"o\">||</span><span class=\"w\">  </span><span class=\"n\">tokens</span><span class=\"p\">[</span><span class=\"n\">i</span><span class=\"p\">].</span><span class=\"n\">second</span><span class=\"w\"> </span><span class=\"o\">!=</span><span class=\"w\"> </span><span class=\"s\">&quot;)&quot;</span><span class=\"p\">)</span><span class=\"w\"> </span><span class=\"p\">{</span>\n",
       "<span class=\"w\">    </span><span class=\"k\">throw</span><span class=\"w\"> </span><span class=\"n\">error</span><span class=\"p\">(</span><span class=\"n\">pos</span><span class=\"p\">,</span><span class=\"w\"> </span><span class=\"s\">&quot;parentheses must be closed after name of variable to delete&quot;</span><span class=\"p\">);</span>\n",
       "<span class=\"w\">  </span><span class=\"p\">}</span>\n",
       "\n",
       "<span class=\"w\">  </span><span class=\"n\">i</span><span class=\"o\">++</span><span class=\"p\">;</span><span class=\"w\">  </span><span class=\"c1\">// get past &quot;)&quot;</span>\n",
       "\n",
       "<span class=\"w\">  </span><span class=\"k\">return</span><span class=\"w\"> </span><span class=\"n\">std</span><span class=\"o\">::</span><span class=\"n\">make_shared</span><span class=\"o\">&lt;</span><span class=\"n\">ASTDelete</span><span class=\"o\">&gt;</span><span class=\"p\">(</span><span class=\"n\">pos</span><span class=\"p\">,</span><span class=\"w\"> </span><span class=\"n\">line</span><span class=\"p\">,</span><span class=\"w\"> </span><span class=\"n\">name</span><span class=\"p\">);</span>\n",
       "<span class=\"p\">}</span>\n",
       "\n",
       "\n",
       "<span class=\"n\">std</span><span class=\"o\">::</span><span class=\"n\">shared_ptr</span><span class=\"o\">&lt;</span><span class=\"n\">ASTNode</span><span class=\"o\">&gt;</span>\n",
       "<span class=\"w\">  </span><span class=\"n\">parse_id</span><span class=\"p\">(</span><span class=\"kt\">int</span><span class=\"o\">&amp;</span><span class=\"w\"> </span><span class=\"n\">i</span><span class=\"p\">,</span><span class=\"w\"> </span><span class=\"k\">const</span><span class=\"w\"> </span><span class=\"n\">std</span><span class=\"o\">::</span><span class=\"n\">vector</span><span class=\"o\">&lt;</span><span class=\"n\">PosToken</span><span class=\"o\">&gt;&amp;</span><span class=\"w\"> </span><span class=\"n\">tokens</span><span class=\"p\">,</span><span class=\"w\"> </span><span class=\"k\">const</span><span class=\"w\"> </span><span class=\"n\">std</span><span class=\"o\">::</span><span class=\"n\">string</span><span class=\"o\">&amp;</span><span class=\"w\"> </span><span class=\"n\">line</span><span class=\"p\">)</span><span class=\"w\"> </span><span class=\"p\">{</span>\n",
       "<span class=\"w\">  </span><span class=\"kt\">int</span><span class=\"w\"> </span><span class=\"n\">pos</span><span class=\"w\"> </span><span class=\"o\">=</span><span class=\"w\"> </span><span class=\"n\">tokens</span><span class=\"p\">[</span><span class=\"n\">i</span><span class=\"p\">].</span><span class=\"n\">first</span><span class=\"p\">;</span>\n",
       "<span class=\"w\">  </span><span class=\"k\">const</span><span class=\"w\"> </span><span class=\"n\">std</span><span class=\"o\">::</span><span class=\"n\">string</span><span class=\"w\"> </span><span class=\"n\">name</span><span class=\"w\"> </span><span class=\"o\">=</span><span class=\"w\"> </span><span class=\"n\">tokens</span><span class=\"p\">[</span><span class=\"n\">i</span><span class=\"p\">].</span><span class=\"n\">second</span><span class=\"p\">;</span>\n",
       "\n",
       "<span class=\"w\">  </span><span class=\"n\">i</span><span class=\"o\">++</span><span class=\"p\">;</span><span class=\"w\">  </span><span class=\"c1\">// get past name</span>\n",
       "\n",
       "<span class=\"w\">  </span><span class=\"k\">return</span><span class=\"w\"> </span><span class=\"n\">std</span><span class=\"o\">::</span><span class=\"n\">make_shared</span><span class=\"o\">&lt;</span><span class=\"n\">ASTIdentifier</span><span class=\"o\">&gt;</span><span class=\"p\">(</span><span class=\"n\">pos</span><span class=\"p\">,</span><span class=\"w\"> </span><span class=\"n\">line</span><span class=\"p\">,</span><span class=\"w\"> </span><span class=\"n\">name</span><span class=\"p\">);</span>\n",
       "<span class=\"p\">}</span>\n",
       "\n",
       "\n",
       "<span class=\"c1\">//// Scope /////////////////////////////////////////////////////////////////</span>\n",
       "\n",
       "\n",
       "<span class=\"kt\">void</span><span class=\"w\"> </span><span class=\"n\">Scope</span><span class=\"o\">::</span><span class=\"n\">assign</span><span class=\"p\">(</span>\n",
       "<span class=\"w\">  </span><span class=\"k\">const</span><span class=\"w\"> </span><span class=\"n\">std</span><span class=\"o\">::</span><span class=\"n\">string</span><span class=\"o\">&amp;</span><span class=\"w\"> </span><span class=\"n\">name</span><span class=\"p\">,</span>\n",
       "<span class=\"w\">  </span><span class=\"n\">std</span><span class=\"o\">::</span><span class=\"n\">shared_ptr</span><span class=\"o\">&lt;</span><span class=\"n\">Object</span><span class=\"o\">&gt;</span><span class=\"w\"> </span><span class=\"n\">object</span><span class=\"p\">,</span>\n",
       "<span class=\"w\">  </span><span class=\"n\">std</span><span class=\"o\">::</span><span class=\"n\">vector</span><span class=\"o\">&lt;</span><span class=\"n\">std</span><span class=\"o\">::</span><span class=\"n\">shared_ptr</span><span class=\"o\">&lt;</span><span class=\"n\">ASTNode</span><span class=\"o\">&gt;&gt;&amp;</span><span class=\"w\"> </span><span class=\"n\">stack</span>\n",
       "<span class=\"p\">)</span><span class=\"w\"> </span><span class=\"p\">{</span>\n",
       "<span class=\"w\">  </span><span class=\"n\">objects_</span><span class=\"p\">[</span><span class=\"n\">name</span><span class=\"p\">]</span><span class=\"w\"> </span><span class=\"o\">=</span><span class=\"w\"> </span><span class=\"n\">object</span><span class=\"p\">;</span>\n",
       "<span class=\"p\">}</span>\n",
       "\n",
       "\n",
       "<span class=\"n\">std</span><span class=\"o\">::</span><span class=\"n\">shared_ptr</span><span class=\"o\">&lt;</span><span class=\"n\">Object</span><span class=\"o\">&gt;</span><span class=\"w\"> </span><span class=\"n\">Scope</span><span class=\"o\">::</span><span class=\"n\">del</span><span class=\"p\">(</span>\n",
       "<span class=\"w\">  </span><span class=\"k\">const</span><span class=\"w\"> </span><span class=\"n\">std</span><span class=\"o\">::</span><span class=\"n\">string</span><span class=\"o\">&amp;</span><span class=\"w\"> </span><span class=\"n\">name</span><span class=\"p\">,</span>\n",
       "<span class=\"w\">  </span><span class=\"n\">std</span><span class=\"o\">::</span><span class=\"n\">vector</span><span class=\"o\">&lt;</span><span class=\"n\">std</span><span class=\"o\">::</span><span class=\"n\">shared_ptr</span><span class=\"o\">&lt;</span><span class=\"n\">ASTNode</span><span class=\"o\">&gt;&gt;&amp;</span><span class=\"w\"> </span><span class=\"n\">stack</span>\n",
       "<span class=\"p\">)</span><span class=\"w\"> </span><span class=\"p\">{</span>\n",
       "<span class=\"w\">  </span><span class=\"k\">if</span><span class=\"w\"> </span><span class=\"p\">(</span><span class=\"n\">objects_</span><span class=\"p\">.</span><span class=\"n\">count</span><span class=\"p\">(</span><span class=\"n\">name</span><span class=\"p\">))</span><span class=\"w\"> </span><span class=\"p\">{</span>\n",
       "<span class=\"w\">    </span><span class=\"n\">std</span><span class=\"o\">::</span><span class=\"n\">shared_ptr</span><span class=\"o\">&lt;</span><span class=\"n\">Object</span><span class=\"o\">&gt;</span><span class=\"w\"> </span><span class=\"n\">result</span><span class=\"w\"> </span><span class=\"o\">=</span><span class=\"w\"> </span><span class=\"n\">objects_</span><span class=\"p\">[</span><span class=\"n\">name</span><span class=\"p\">];</span>\n",
       "<span class=\"w\">    </span><span class=\"n\">objects_</span><span class=\"p\">.</span><span class=\"n\">erase</span><span class=\"p\">(</span><span class=\"n\">name</span><span class=\"p\">);</span>\n",
       "<span class=\"w\">    </span><span class=\"k\">return</span><span class=\"w\"> </span><span class=\"n\">result</span><span class=\"p\">;</span>\n",
       "<span class=\"w\">  </span><span class=\"p\">}</span>\n",
       "<span class=\"w\">  </span><span class=\"k\">else</span><span class=\"w\"> </span><span class=\"k\">if</span><span class=\"w\"> </span><span class=\"p\">(</span><span class=\"n\">parent_</span><span class=\"p\">)</span><span class=\"w\"> </span><span class=\"p\">{</span>\n",
       "<span class=\"w\">    </span><span class=\"k\">return</span><span class=\"w\"> </span><span class=\"n\">parent_</span><span class=\"o\">-&gt;</span><span class=\"n\">del</span><span class=\"p\">(</span><span class=\"n\">name</span><span class=\"p\">,</span><span class=\"w\"> </span><span class=\"n\">stack</span><span class=\"p\">);</span>\n",
       "<span class=\"w\">  </span><span class=\"p\">}</span>\n",
       "<span class=\"w\">  </span><span class=\"k\">else</span><span class=\"w\"> </span><span class=\"p\">{</span>\n",
       "<span class=\"w\">    </span><span class=\"k\">throw</span><span class=\"w\"> </span><span class=\"n\">error</span><span class=\"p\">(</span><span class=\"n\">stack</span><span class=\"p\">,</span><span class=\"w\"> </span><span class=\"s\">&quot;there is no variable named &#39;&quot;</span><span class=\"w\"> </span><span class=\"o\">+</span><span class=\"w\"> </span><span class=\"n\">name</span><span class=\"w\"> </span><span class=\"o\">+</span><span class=\"w\"> </span><span class=\"s\">&quot;&#39;&quot;</span><span class=\"p\">);</span>\n",
       "<span class=\"w\">  </span><span class=\"p\">}</span>\n",
       "<span class=\"p\">}</span>\n",
       "\n",
       "\n",
       "<span class=\"n\">std</span><span class=\"o\">::</span><span class=\"n\">shared_ptr</span><span class=\"o\">&lt;</span><span class=\"n\">Object</span><span class=\"o\">&gt;</span><span class=\"w\"> </span><span class=\"n\">Scope</span><span class=\"o\">::</span><span class=\"n\">get</span><span class=\"p\">(</span>\n",
       "<span class=\"w\">  </span><span class=\"k\">const</span><span class=\"w\"> </span><span class=\"n\">std</span><span class=\"o\">::</span><span class=\"n\">string</span><span class=\"o\">&amp;</span><span class=\"w\"> </span><span class=\"n\">name</span><span class=\"p\">,</span>\n",
       "<span class=\"w\">  </span><span class=\"n\">std</span><span class=\"o\">::</span><span class=\"n\">vector</span><span class=\"o\">&lt;</span><span class=\"n\">std</span><span class=\"o\">::</span><span class=\"n\">shared_ptr</span><span class=\"o\">&lt;</span><span class=\"n\">ASTNode</span><span class=\"o\">&gt;&gt;&amp;</span><span class=\"w\"> </span><span class=\"n\">stack</span>\n",
       "<span class=\"p\">)</span><span class=\"w\"> </span><span class=\"p\">{</span>\n",
       "<span class=\"w\">  </span><span class=\"k\">if</span><span class=\"w\"> </span><span class=\"p\">(</span><span class=\"n\">objects_</span><span class=\"p\">.</span><span class=\"n\">count</span><span class=\"p\">(</span><span class=\"n\">name</span><span class=\"p\">))</span><span class=\"w\"> </span><span class=\"p\">{</span>\n",
       "<span class=\"w\">    </span><span class=\"k\">return</span><span class=\"w\"> </span><span class=\"n\">objects_</span><span class=\"p\">[</span><span class=\"n\">name</span><span class=\"p\">];</span>\n",
       "<span class=\"w\">  </span><span class=\"p\">}</span>\n",
       "<span class=\"w\">  </span><span class=\"k\">else</span><span class=\"w\"> </span><span class=\"k\">if</span><span class=\"w\"> </span><span class=\"p\">(</span><span class=\"n\">parent_</span><span class=\"p\">)</span><span class=\"w\"> </span><span class=\"p\">{</span>\n",
       "<span class=\"w\">    </span><span class=\"k\">return</span><span class=\"w\"> </span><span class=\"n\">parent_</span><span class=\"o\">-&gt;</span><span class=\"n\">get</span><span class=\"p\">(</span><span class=\"n\">name</span><span class=\"p\">,</span><span class=\"w\"> </span><span class=\"n\">stack</span><span class=\"p\">);</span>\n",
       "<span class=\"w\">  </span><span class=\"p\">}</span>\n",
       "<span class=\"w\">  </span><span class=\"k\">else</span><span class=\"w\"> </span><span class=\"p\">{</span>\n",
       "<span class=\"w\">    </span><span class=\"k\">throw</span><span class=\"w\"> </span><span class=\"n\">error</span><span class=\"p\">(</span><span class=\"n\">stack</span><span class=\"p\">,</span><span class=\"w\"> </span><span class=\"s\">&quot;there is no variable named &#39;&quot;</span><span class=\"w\"> </span><span class=\"o\">+</span><span class=\"w\"> </span><span class=\"n\">name</span><span class=\"w\"> </span><span class=\"o\">+</span><span class=\"w\"> </span><span class=\"s\">&quot;&#39;&quot;</span><span class=\"p\">);</span>\n",
       "<span class=\"w\">  </span><span class=\"p\">}</span>\n",
       "<span class=\"p\">}</span>\n",
       "\n",
       "\n",
       "<span class=\"c1\">//// Objects ///////////////////////////////////////////////////////////////</span>\n",
       "\n",
       "\n",
       "<span class=\"n\">std</span><span class=\"o\">::</span><span class=\"n\">string</span><span class=\"w\"> </span><span class=\"n\">ObjectInt</span><span class=\"o\">::</span><span class=\"n\">repr</span><span class=\"p\">(</span><span class=\"kt\">int</span><span class=\"o\">&amp;</span><span class=\"w\"> </span><span class=\"n\">remaining</span><span class=\"p\">)</span><span class=\"w\"> </span><span class=\"k\">const</span><span class=\"w\"> </span><span class=\"p\">{</span>\n",
       "<span class=\"w\">  </span><span class=\"k\">if</span><span class=\"w\"> </span><span class=\"p\">(</span><span class=\"n\">remaining</span><span class=\"w\"> </span><span class=\"o\">&lt;</span><span class=\"w\"> </span><span class=\"mi\">0</span><span class=\"p\">)</span><span class=\"w\"> </span><span class=\"p\">{</span>\n",
       "<span class=\"w\">    </span><span class=\"k\">return</span><span class=\"w\"> </span><span class=\"s\">&quot;&quot;</span><span class=\"p\">;</span>\n",
       "<span class=\"w\">  </span><span class=\"p\">}</span>\n",
       "\n",
       "<span class=\"w\">  </span><span class=\"n\">std</span><span class=\"o\">::</span><span class=\"n\">string</span><span class=\"w\"> </span><span class=\"n\">out</span><span class=\"w\"> </span><span class=\"o\">=</span><span class=\"w\"> </span><span class=\"n\">std</span><span class=\"o\">::</span><span class=\"n\">to_string</span><span class=\"p\">(</span><span class=\"n\">value_</span><span class=\"p\">);</span>\n",
       "\n",
       "<span class=\"w\">  </span><span class=\"n\">remaining</span><span class=\"w\"> </span><span class=\"o\">-=</span><span class=\"w\"> </span><span class=\"n\">out</span><span class=\"p\">.</span><span class=\"n\">size</span><span class=\"p\">();</span>\n",
       "\n",
       "<span class=\"w\">  </span><span class=\"k\">return</span><span class=\"w\"> </span><span class=\"n\">out</span><span class=\"p\">;</span>\n",
       "<span class=\"p\">}</span>\n",
       "\n",
       "\n",
       "<span class=\"n\">std</span><span class=\"o\">::</span><span class=\"n\">string</span><span class=\"w\"> </span><span class=\"n\">ObjectList</span><span class=\"o\">::</span><span class=\"n\">repr</span><span class=\"p\">(</span><span class=\"kt\">int</span><span class=\"o\">&amp;</span><span class=\"w\"> </span><span class=\"n\">remaining</span><span class=\"p\">)</span><span class=\"w\"> </span><span class=\"k\">const</span><span class=\"w\"> </span><span class=\"p\">{</span>\n",
       "<span class=\"w\">  </span><span class=\"k\">if</span><span class=\"w\"> </span><span class=\"p\">(</span><span class=\"n\">remaining</span><span class=\"w\"> </span><span class=\"o\">&lt;</span><span class=\"w\"> </span><span class=\"mi\">0</span><span class=\"p\">)</span><span class=\"w\"> </span><span class=\"p\">{</span>\n",
       "<span class=\"w\">    </span><span class=\"k\">return</span><span class=\"w\"> </span><span class=\"s\">&quot;&quot;</span><span class=\"p\">;</span>\n",
       "<span class=\"w\">  </span><span class=\"p\">}</span>\n",
       "\n",
       "<span class=\"w\">  </span><span class=\"n\">remaining</span><span class=\"o\">--</span><span class=\"p\">;</span>\n",
       "\n",
       "<span class=\"w\">  </span><span class=\"n\">std</span><span class=\"o\">::</span><span class=\"n\">string</span><span class=\"w\"> </span><span class=\"n\">out</span><span class=\"w\"> </span><span class=\"o\">=</span><span class=\"w\"> </span><span class=\"s\">&quot;[&quot;</span><span class=\"p\">;</span>\n",
       "<span class=\"w\">  </span><span class=\"k\">for</span><span class=\"w\"> </span><span class=\"p\">(</span><span class=\"kt\">int</span><span class=\"w\"> </span><span class=\"n\">i</span><span class=\"w\"> </span><span class=\"o\">=</span><span class=\"w\"> </span><span class=\"mi\">0</span><span class=\"p\">;</span><span class=\"w\">  </span><span class=\"n\">i</span><span class=\"w\"> </span><span class=\"o\">&lt;</span><span class=\"w\"> </span><span class=\"n\">values_</span><span class=\"p\">.</span><span class=\"n\">size</span><span class=\"p\">();</span><span class=\"w\">  </span><span class=\"n\">i</span><span class=\"o\">++</span><span class=\"p\">)</span><span class=\"w\"> </span><span class=\"p\">{</span>\n",
       "<span class=\"w\">    </span><span class=\"k\">if</span><span class=\"w\"> </span><span class=\"p\">(</span><span class=\"n\">i</span><span class=\"w\"> </span><span class=\"o\">!=</span><span class=\"w\"> </span><span class=\"mi\">0</span><span class=\"p\">)</span><span class=\"w\"> </span><span class=\"p\">{</span>\n",
       "<span class=\"w\">      </span><span class=\"n\">out</span><span class=\"w\"> </span><span class=\"o\">+=</span><span class=\"w\"> </span><span class=\"s\">&quot;, &quot;</span><span class=\"p\">;</span>\n",
       "<span class=\"w\">      </span><span class=\"n\">remaining</span><span class=\"w\"> </span><span class=\"o\">-=</span><span class=\"w\"> </span><span class=\"mi\">2</span><span class=\"p\">;</span>\n",
       "<span class=\"w\">    </span><span class=\"p\">}</span>\n",
       "<span class=\"w\">    </span><span class=\"n\">out</span><span class=\"w\"> </span><span class=\"o\">+=</span><span class=\"w\"> </span><span class=\"n\">values_</span><span class=\"p\">[</span><span class=\"n\">i</span><span class=\"p\">]</span><span class=\"o\">-&gt;</span><span class=\"n\">repr</span><span class=\"p\">(</span><span class=\"n\">remaining</span><span class=\"p\">);</span>\n",
       "\n",
       "<span class=\"w\">    </span><span class=\"k\">if</span><span class=\"w\"> </span><span class=\"p\">(</span><span class=\"n\">remaining</span><span class=\"w\"> </span><span class=\"o\">&lt;</span><span class=\"w\"> </span><span class=\"mi\">0</span><span class=\"p\">)</span><span class=\"w\"> </span><span class=\"p\">{</span>\n",
       "<span class=\"w\">      </span><span class=\"k\">break</span><span class=\"p\">;</span>\n",
       "<span class=\"w\">    </span><span class=\"p\">}</span>\n",
       "<span class=\"w\">  </span><span class=\"p\">}</span>\n",
       "\n",
       "<span class=\"w\">  </span><span class=\"k\">if</span><span class=\"w\"> </span><span class=\"p\">(</span><span class=\"n\">remaining</span><span class=\"w\"> </span><span class=\"o\">&gt;=</span><span class=\"w\"> </span><span class=\"mi\">0</span><span class=\"p\">)</span><span class=\"w\"> </span><span class=\"p\">{</span>\n",
       "<span class=\"w\">    </span><span class=\"n\">out</span><span class=\"w\"> </span><span class=\"o\">+=</span><span class=\"w\"> </span><span class=\"s\">&quot;]&quot;</span><span class=\"p\">;</span>\n",
       "<span class=\"w\">  </span><span class=\"p\">}</span>\n",
       "\n",
       "<span class=\"w\">  </span><span class=\"n\">remaining</span><span class=\"o\">--</span><span class=\"p\">;</span>\n",
       "\n",
       "<span class=\"w\">  </span><span class=\"k\">return</span><span class=\"w\"> </span><span class=\"n\">out</span><span class=\"p\">;</span>\n",
       "<span class=\"p\">}</span>\n",
       "\n",
       "\n",
       "<span class=\"n\">std</span><span class=\"o\">::</span><span class=\"n\">string</span><span class=\"w\"> </span><span class=\"n\">ObjectFunctionAdd</span><span class=\"o\">::</span><span class=\"n\">repr</span><span class=\"p\">(</span><span class=\"kt\">int</span><span class=\"o\">&amp;</span><span class=\"w\"> </span><span class=\"n\">remaining</span><span class=\"p\">)</span><span class=\"w\"> </span><span class=\"k\">const</span><span class=\"w\"> </span><span class=\"p\">{</span>\n",
       "<span class=\"w\">  </span><span class=\"k\">if</span><span class=\"w\"> </span><span class=\"p\">(</span><span class=\"n\">remaining</span><span class=\"w\"> </span><span class=\"o\">&lt;</span><span class=\"w\"> </span><span class=\"mi\">0</span><span class=\"p\">)</span><span class=\"w\"> </span><span class=\"p\">{</span>\n",
       "<span class=\"w\">    </span><span class=\"k\">return</span><span class=\"w\"> </span><span class=\"s\">&quot;&quot;</span><span class=\"p\">;</span>\n",
       "<span class=\"w\">  </span><span class=\"p\">}</span>\n",
       "\n",
       "<span class=\"w\">  </span><span class=\"n\">remaining</span><span class=\"w\"> </span><span class=\"o\">-=</span><span class=\"w\"> </span><span class=\"mi\">24</span><span class=\"p\">;</span>\n",
       "\n",
       "<span class=\"w\">  </span><span class=\"k\">return</span><span class=\"w\"> </span><span class=\"s\">&quot;&lt;builtin function &#39;add&#39;&gt;&quot;</span><span class=\"p\">;</span>\n",
       "<span class=\"p\">}</span>\n",
       "\n",
       "\n",
       "<span class=\"n\">std</span><span class=\"o\">::</span><span class=\"n\">shared_ptr</span><span class=\"o\">&lt;</span><span class=\"n\">Object</span><span class=\"o\">&gt;</span><span class=\"w\"> </span><span class=\"n\">ObjectFunctionAdd</span><span class=\"o\">::</span><span class=\"n\">run</span><span class=\"p\">(</span>\n",
       "<span class=\"w\">  </span><span class=\"n\">std</span><span class=\"o\">::</span><span class=\"n\">shared_ptr</span><span class=\"o\">&lt;</span><span class=\"n\">Scope</span><span class=\"o\">&gt;</span><span class=\"w\"> </span><span class=\"n\">scope</span><span class=\"p\">,</span>\n",
       "<span class=\"w\">  </span><span class=\"n\">std</span><span class=\"o\">::</span><span class=\"n\">vector</span><span class=\"o\">&lt;</span><span class=\"n\">std</span><span class=\"o\">::</span><span class=\"n\">shared_ptr</span><span class=\"o\">&lt;</span><span class=\"n\">ASTNode</span><span class=\"o\">&gt;&gt;&amp;</span><span class=\"w\"> </span><span class=\"n\">stack</span><span class=\"p\">,</span>\n",
       "<span class=\"w\">  </span><span class=\"n\">std</span><span class=\"o\">::</span><span class=\"n\">vector</span><span class=\"o\">&lt;</span><span class=\"n\">std</span><span class=\"o\">::</span><span class=\"n\">shared_ptr</span><span class=\"o\">&lt;</span><span class=\"n\">Object</span><span class=\"o\">&gt;&gt;</span><span class=\"w\"> </span><span class=\"n\">args</span>\n",
       "<span class=\"p\">)</span><span class=\"w\"> </span><span class=\"p\">{</span>\n",
       "<span class=\"w\">  </span><span class=\"k\">if</span><span class=\"w\"> </span><span class=\"p\">(</span><span class=\"n\">args</span><span class=\"p\">.</span><span class=\"n\">size</span><span class=\"p\">()</span><span class=\"w\"> </span><span class=\"o\">!=</span><span class=\"w\"> </span><span class=\"mi\">2</span><span class=\"p\">)</span><span class=\"w\"> </span><span class=\"p\">{</span>\n",
       "<span class=\"w\">    </span><span class=\"k\">throw</span><span class=\"w\"> </span><span class=\"n\">error</span><span class=\"p\">(</span><span class=\"n\">stack</span><span class=\"p\">,</span><span class=\"w\"> </span><span class=\"s\">&quot;&#39;add&#39; function takes exactly 2 arguments&quot;</span><span class=\"p\">);</span>\n",
       "<span class=\"w\">  </span><span class=\"p\">}</span>\n",
       "\n",
       "<span class=\"w\">  </span><span class=\"n\">std</span><span class=\"o\">::</span><span class=\"n\">shared_ptr</span><span class=\"o\">&lt;</span><span class=\"n\">ObjectInt</span><span class=\"o\">&gt;</span><span class=\"w\"> </span><span class=\"n\">arg0_int</span><span class=\"w\"> </span><span class=\"o\">=</span><span class=\"w\"> </span><span class=\"n\">std</span><span class=\"o\">::</span><span class=\"n\">dynamic_pointer_cast</span><span class=\"o\">&lt;</span><span class=\"n\">ObjectInt</span><span class=\"o\">&gt;</span><span class=\"p\">(</span><span class=\"n\">args</span><span class=\"p\">[</span><span class=\"mi\">0</span><span class=\"p\">]);</span>\n",
       "<span class=\"w\">  </span><span class=\"n\">std</span><span class=\"o\">::</span><span class=\"n\">shared_ptr</span><span class=\"o\">&lt;</span><span class=\"n\">ObjectInt</span><span class=\"o\">&gt;</span><span class=\"w\"> </span><span class=\"n\">arg1_int</span><span class=\"w\"> </span><span class=\"o\">=</span><span class=\"w\"> </span><span class=\"n\">std</span><span class=\"o\">::</span><span class=\"n\">dynamic_pointer_cast</span><span class=\"o\">&lt;</span><span class=\"n\">ObjectInt</span><span class=\"o\">&gt;</span><span class=\"p\">(</span><span class=\"n\">args</span><span class=\"p\">[</span><span class=\"mi\">1</span><span class=\"p\">]);</span>\n",
       "\n",
       "<span class=\"w\">  </span><span class=\"n\">std</span><span class=\"o\">::</span><span class=\"n\">shared_ptr</span><span class=\"o\">&lt;</span><span class=\"n\">ObjectList</span><span class=\"o\">&gt;</span><span class=\"w\"> </span><span class=\"n\">arg0_list</span><span class=\"w\"> </span><span class=\"o\">=</span><span class=\"w\"> </span><span class=\"n\">std</span><span class=\"o\">::</span><span class=\"n\">dynamic_pointer_cast</span><span class=\"o\">&lt;</span><span class=\"n\">ObjectList</span><span class=\"o\">&gt;</span><span class=\"p\">(</span><span class=\"n\">args</span><span class=\"p\">[</span><span class=\"mi\">0</span><span class=\"p\">]);</span>\n",
       "<span class=\"w\">  </span><span class=\"n\">std</span><span class=\"o\">::</span><span class=\"n\">shared_ptr</span><span class=\"o\">&lt;</span><span class=\"n\">ObjectList</span><span class=\"o\">&gt;</span><span class=\"w\"> </span><span class=\"n\">arg1_list</span><span class=\"w\"> </span><span class=\"o\">=</span><span class=\"w\"> </span><span class=\"n\">std</span><span class=\"o\">::</span><span class=\"n\">dynamic_pointer_cast</span><span class=\"o\">&lt;</span><span class=\"n\">ObjectList</span><span class=\"o\">&gt;</span><span class=\"p\">(</span><span class=\"n\">args</span><span class=\"p\">[</span><span class=\"mi\">1</span><span class=\"p\">]);</span>\n",
       "\n",
       "<span class=\"w\">  </span><span class=\"k\">if</span><span class=\"w\"> </span><span class=\"p\">(</span><span class=\"n\">arg0_int</span><span class=\"w\">  </span><span class=\"o\">&amp;&amp;</span><span class=\"w\">  </span><span class=\"n\">arg1_int</span><span class=\"p\">)</span><span class=\"w\"> </span><span class=\"p\">{</span>\n",
       "<span class=\"w\">    </span><span class=\"k\">return</span><span class=\"w\"> </span><span class=\"n\">std</span><span class=\"o\">::</span><span class=\"n\">make_shared</span><span class=\"o\">&lt;</span><span class=\"n\">ObjectInt</span><span class=\"o\">&gt;</span><span class=\"p\">(</span><span class=\"n\">arg0_int</span><span class=\"o\">-&gt;</span><span class=\"n\">value</span><span class=\"p\">()</span><span class=\"w\"> </span><span class=\"o\">+</span><span class=\"w\"> </span><span class=\"n\">arg1_int</span><span class=\"o\">-&gt;</span><span class=\"n\">value</span><span class=\"p\">());</span>\n",
       "<span class=\"w\">  </span><span class=\"p\">}</span>\n",
       "\n",
       "<span class=\"w\">  </span><span class=\"k\">else</span><span class=\"w\"> </span><span class=\"k\">if</span><span class=\"w\"> </span><span class=\"p\">(</span><span class=\"n\">arg0_list</span><span class=\"w\">  </span><span class=\"o\">&amp;&amp;</span><span class=\"w\">  </span><span class=\"n\">arg1_list</span><span class=\"p\">)</span><span class=\"w\"> </span><span class=\"p\">{</span>\n",
       "<span class=\"w\">    </span><span class=\"n\">std</span><span class=\"o\">::</span><span class=\"n\">vector</span><span class=\"o\">&lt;</span><span class=\"n\">std</span><span class=\"o\">::</span><span class=\"n\">shared_ptr</span><span class=\"o\">&lt;</span><span class=\"n\">Object</span><span class=\"o\">&gt;&gt;</span><span class=\"w\"> </span><span class=\"n\">values</span><span class=\"p\">;</span>\n",
       "<span class=\"w\">    </span><span class=\"k\">for</span><span class=\"w\"> </span><span class=\"p\">(</span><span class=\"kt\">int</span><span class=\"w\"> </span><span class=\"n\">i</span><span class=\"w\"> </span><span class=\"o\">=</span><span class=\"w\"> </span><span class=\"mi\">0</span><span class=\"p\">;</span><span class=\"w\">  </span><span class=\"n\">i</span><span class=\"w\"> </span><span class=\"o\">&lt;</span><span class=\"w\"> </span><span class=\"n\">arg0_list</span><span class=\"o\">-&gt;</span><span class=\"n\">values</span><span class=\"p\">().</span><span class=\"n\">size</span><span class=\"p\">();</span><span class=\"w\">  </span><span class=\"n\">i</span><span class=\"o\">++</span><span class=\"p\">)</span><span class=\"w\"> </span><span class=\"p\">{</span>\n",
       "<span class=\"w\">      </span><span class=\"n\">values</span><span class=\"p\">.</span><span class=\"n\">push_back</span><span class=\"p\">(</span><span class=\"n\">arg0_list</span><span class=\"o\">-&gt;</span><span class=\"n\">values</span><span class=\"p\">()[</span><span class=\"n\">i</span><span class=\"p\">]);</span>\n",
       "<span class=\"w\">    </span><span class=\"p\">}</span>\n",
       "<span class=\"w\">    </span><span class=\"k\">for</span><span class=\"w\"> </span><span class=\"p\">(</span><span class=\"kt\">int</span><span class=\"w\"> </span><span class=\"n\">i</span><span class=\"w\"> </span><span class=\"o\">=</span><span class=\"w\"> </span><span class=\"mi\">0</span><span class=\"p\">;</span><span class=\"w\">  </span><span class=\"n\">i</span><span class=\"w\"> </span><span class=\"o\">&lt;</span><span class=\"w\"> </span><span class=\"n\">arg1_list</span><span class=\"o\">-&gt;</span><span class=\"n\">values</span><span class=\"p\">().</span><span class=\"n\">size</span><span class=\"p\">();</span><span class=\"w\">  </span><span class=\"n\">i</span><span class=\"o\">++</span><span class=\"p\">)</span><span class=\"w\"> </span><span class=\"p\">{</span>\n",
       "<span class=\"w\">      </span><span class=\"n\">values</span><span class=\"p\">.</span><span class=\"n\">push_back</span><span class=\"p\">(</span><span class=\"n\">arg1_list</span><span class=\"o\">-&gt;</span><span class=\"n\">values</span><span class=\"p\">()[</span><span class=\"n\">i</span><span class=\"p\">]);</span>\n",
       "<span class=\"w\">    </span><span class=\"p\">}</span>\n",
       "<span class=\"w\">    </span><span class=\"k\">return</span><span class=\"w\"> </span><span class=\"n\">std</span><span class=\"o\">::</span><span class=\"n\">make_shared</span><span class=\"o\">&lt;</span><span class=\"n\">ObjectList</span><span class=\"o\">&gt;</span><span class=\"p\">(</span><span class=\"n\">values</span><span class=\"p\">);</span>\n",
       "<span class=\"w\">  </span><span class=\"p\">}</span>\n",
       "\n",
       "<span class=\"w\">  </span><span class=\"k\">else</span><span class=\"w\"> </span><span class=\"p\">{</span>\n",
       "<span class=\"w\">    </span><span class=\"k\">throw</span><span class=\"w\"> </span><span class=\"n\">error</span><span class=\"p\">(</span><span class=\"n\">stack</span><span class=\"p\">,</span><span class=\"w\"> </span><span class=\"s\">&quot;&#39;add&#39; function&#39;s arguments must both be integers or both be lists&quot;</span><span class=\"p\">);</span>\n",
       "<span class=\"w\">  </span><span class=\"p\">}</span>\n",
       "<span class=\"p\">}</span>\n",
       "\n",
       "\n",
       "<span class=\"n\">std</span><span class=\"o\">::</span><span class=\"n\">string</span><span class=\"w\"> </span><span class=\"n\">ObjectFunctionMul</span><span class=\"o\">::</span><span class=\"n\">repr</span><span class=\"p\">(</span><span class=\"kt\">int</span><span class=\"o\">&amp;</span><span class=\"w\"> </span><span class=\"n\">remaining</span><span class=\"p\">)</span><span class=\"w\"> </span><span class=\"k\">const</span><span class=\"w\"> </span><span class=\"p\">{</span>\n",
       "<span class=\"w\">  </span><span class=\"k\">if</span><span class=\"w\"> </span><span class=\"p\">(</span><span class=\"n\">remaining</span><span class=\"w\"> </span><span class=\"o\">&lt;</span><span class=\"w\"> </span><span class=\"mi\">0</span><span class=\"p\">)</span><span class=\"w\"> </span><span class=\"p\">{</span>\n",
       "<span class=\"w\">    </span><span class=\"k\">return</span><span class=\"w\"> </span><span class=\"s\">&quot;&quot;</span><span class=\"p\">;</span>\n",
       "<span class=\"w\">  </span><span class=\"p\">}</span>\n",
       "\n",
       "<span class=\"w\">  </span><span class=\"n\">remaining</span><span class=\"w\"> </span><span class=\"o\">-=</span><span class=\"w\"> </span><span class=\"mi\">24</span><span class=\"p\">;</span>\n",
       "\n",
       "<span class=\"w\">  </span><span class=\"k\">return</span><span class=\"w\"> </span><span class=\"s\">&quot;&lt;builtin function &#39;mul&#39;&gt;&quot;</span><span class=\"p\">;</span>\n",
       "<span class=\"p\">}</span>\n",
       "\n",
       "\n",
       "<span class=\"n\">std</span><span class=\"o\">::</span><span class=\"n\">shared_ptr</span><span class=\"o\">&lt;</span><span class=\"n\">Object</span><span class=\"o\">&gt;</span><span class=\"w\"> </span><span class=\"n\">ObjectFunctionMul</span><span class=\"o\">::</span><span class=\"n\">run</span><span class=\"p\">(</span>\n",
       "<span class=\"w\">  </span><span class=\"n\">std</span><span class=\"o\">::</span><span class=\"n\">shared_ptr</span><span class=\"o\">&lt;</span><span class=\"n\">Scope</span><span class=\"o\">&gt;</span><span class=\"w\"> </span><span class=\"n\">scope</span><span class=\"p\">,</span>\n",
       "<span class=\"w\">  </span><span class=\"n\">std</span><span class=\"o\">::</span><span class=\"n\">vector</span><span class=\"o\">&lt;</span><span class=\"n\">std</span><span class=\"o\">::</span><span class=\"n\">shared_ptr</span><span class=\"o\">&lt;</span><span class=\"n\">ASTNode</span><span class=\"o\">&gt;&gt;&amp;</span><span class=\"w\"> </span><span class=\"n\">stack</span><span class=\"p\">,</span>\n",
       "<span class=\"w\">  </span><span class=\"n\">std</span><span class=\"o\">::</span><span class=\"n\">vector</span><span class=\"o\">&lt;</span><span class=\"n\">std</span><span class=\"o\">::</span><span class=\"n\">shared_ptr</span><span class=\"o\">&lt;</span><span class=\"n\">Object</span><span class=\"o\">&gt;&gt;</span><span class=\"w\"> </span><span class=\"n\">args</span>\n",
       "<span class=\"p\">)</span><span class=\"w\"> </span><span class=\"p\">{</span>\n",
       "<span class=\"w\">  </span><span class=\"k\">if</span><span class=\"w\"> </span><span class=\"p\">(</span><span class=\"n\">args</span><span class=\"p\">.</span><span class=\"n\">size</span><span class=\"p\">()</span><span class=\"w\"> </span><span class=\"o\">!=</span><span class=\"w\"> </span><span class=\"mi\">2</span><span class=\"p\">)</span><span class=\"w\"> </span><span class=\"p\">{</span>\n",
       "<span class=\"w\">    </span><span class=\"k\">throw</span><span class=\"w\"> </span><span class=\"n\">error</span><span class=\"p\">(</span><span class=\"n\">stack</span><span class=\"p\">,</span><span class=\"w\"> </span><span class=\"s\">&quot;&#39;mul&#39; function takes exactly 2 arguments&quot;</span><span class=\"p\">);</span>\n",
       "<span class=\"w\">  </span><span class=\"p\">}</span>\n",
       "\n",
       "<span class=\"w\">  </span><span class=\"n\">std</span><span class=\"o\">::</span><span class=\"n\">shared_ptr</span><span class=\"o\">&lt;</span><span class=\"n\">ObjectInt</span><span class=\"o\">&gt;</span><span class=\"w\"> </span><span class=\"n\">arg0_int</span><span class=\"w\"> </span><span class=\"o\">=</span><span class=\"w\"> </span><span class=\"n\">std</span><span class=\"o\">::</span><span class=\"n\">dynamic_pointer_cast</span><span class=\"o\">&lt;</span><span class=\"n\">ObjectInt</span><span class=\"o\">&gt;</span><span class=\"p\">(</span><span class=\"n\">args</span><span class=\"p\">[</span><span class=\"mi\">0</span><span class=\"p\">]);</span>\n",
       "<span class=\"w\">  </span><span class=\"n\">std</span><span class=\"o\">::</span><span class=\"n\">shared_ptr</span><span class=\"o\">&lt;</span><span class=\"n\">ObjectInt</span><span class=\"o\">&gt;</span><span class=\"w\"> </span><span class=\"n\">arg1_int</span><span class=\"w\"> </span><span class=\"o\">=</span><span class=\"w\"> </span><span class=\"n\">std</span><span class=\"o\">::</span><span class=\"n\">dynamic_pointer_cast</span><span class=\"o\">&lt;</span><span class=\"n\">ObjectInt</span><span class=\"o\">&gt;</span><span class=\"p\">(</span><span class=\"n\">args</span><span class=\"p\">[</span><span class=\"mi\">1</span><span class=\"p\">]);</span>\n",
       "\n",
       "<span class=\"w\">  </span><span class=\"k\">if</span><span class=\"w\"> </span><span class=\"p\">(</span><span class=\"n\">arg0_int</span><span class=\"w\">  </span><span class=\"o\">&amp;&amp;</span><span class=\"w\">  </span><span class=\"n\">arg1_int</span><span class=\"p\">)</span><span class=\"w\"> </span><span class=\"p\">{</span>\n",
       "<span class=\"w\">    </span><span class=\"k\">return</span><span class=\"w\"> </span><span class=\"n\">std</span><span class=\"o\">::</span><span class=\"n\">make_shared</span><span class=\"o\">&lt;</span><span class=\"n\">ObjectInt</span><span class=\"o\">&gt;</span><span class=\"p\">(</span><span class=\"n\">arg0_int</span><span class=\"o\">-&gt;</span><span class=\"n\">value</span><span class=\"p\">()</span><span class=\"w\"> </span><span class=\"o\">*</span><span class=\"w\"> </span><span class=\"n\">arg1_int</span><span class=\"o\">-&gt;</span><span class=\"n\">value</span><span class=\"p\">());</span>\n",
       "<span class=\"w\">  </span><span class=\"p\">}</span>\n",
       "\n",
       "<span class=\"w\">  </span><span class=\"k\">else</span><span class=\"w\"> </span><span class=\"p\">{</span>\n",
       "<span class=\"w\">    </span><span class=\"k\">throw</span><span class=\"w\"> </span><span class=\"n\">error</span><span class=\"p\">(</span><span class=\"n\">stack</span><span class=\"p\">,</span><span class=\"w\"> </span><span class=\"s\">&quot;&#39;mul&#39; function&#39;s arguments must both be integers&quot;</span><span class=\"p\">);</span>\n",
       "<span class=\"w\">  </span><span class=\"p\">}</span>\n",
       "<span class=\"p\">}</span>\n",
       "\n",
       "\n",
       "<span class=\"n\">std</span><span class=\"o\">::</span><span class=\"n\">string</span><span class=\"w\"> </span><span class=\"n\">ObjectFunctionGet</span><span class=\"o\">::</span><span class=\"n\">repr</span><span class=\"p\">(</span><span class=\"kt\">int</span><span class=\"o\">&amp;</span><span class=\"w\"> </span><span class=\"n\">remaining</span><span class=\"p\">)</span><span class=\"w\"> </span><span class=\"k\">const</span><span class=\"w\"> </span><span class=\"p\">{</span>\n",
       "<span class=\"w\">  </span><span class=\"k\">if</span><span class=\"w\"> </span><span class=\"p\">(</span><span class=\"n\">remaining</span><span class=\"w\"> </span><span class=\"o\">&lt;</span><span class=\"w\"> </span><span class=\"mi\">0</span><span class=\"p\">)</span><span class=\"w\"> </span><span class=\"p\">{</span>\n",
       "<span class=\"w\">    </span><span class=\"k\">return</span><span class=\"w\"> </span><span class=\"s\">&quot;&quot;</span><span class=\"p\">;</span>\n",
       "<span class=\"w\">  </span><span class=\"p\">}</span>\n",
       "\n",
       "<span class=\"w\">  </span><span class=\"n\">remaining</span><span class=\"w\"> </span><span class=\"o\">-=</span><span class=\"w\"> </span><span class=\"mi\">24</span><span class=\"p\">;</span>\n",
       "\n",
       "<span class=\"w\">  </span><span class=\"k\">return</span><span class=\"w\"> </span><span class=\"s\">&quot;&lt;builtin function &#39;get&#39;&gt;&quot;</span><span class=\"p\">;</span>\n",
       "<span class=\"p\">}</span>\n",
       "\n",
       "\n",
       "<span class=\"n\">std</span><span class=\"o\">::</span><span class=\"n\">shared_ptr</span><span class=\"o\">&lt;</span><span class=\"n\">Object</span><span class=\"o\">&gt;</span><span class=\"w\"> </span><span class=\"n\">ObjectFunctionGet</span><span class=\"o\">::</span><span class=\"n\">run</span><span class=\"p\">(</span>\n",
       "<span class=\"w\">  </span><span class=\"n\">std</span><span class=\"o\">::</span><span class=\"n\">shared_ptr</span><span class=\"o\">&lt;</span><span class=\"n\">Scope</span><span class=\"o\">&gt;</span><span class=\"w\"> </span><span class=\"n\">scope</span><span class=\"p\">,</span>\n",
       "<span class=\"w\">  </span><span class=\"n\">std</span><span class=\"o\">::</span><span class=\"n\">vector</span><span class=\"o\">&lt;</span><span class=\"n\">std</span><span class=\"o\">::</span><span class=\"n\">shared_ptr</span><span class=\"o\">&lt;</span><span class=\"n\">ASTNode</span><span class=\"o\">&gt;&gt;&amp;</span><span class=\"w\"> </span><span class=\"n\">stack</span><span class=\"p\">,</span>\n",
       "<span class=\"w\">  </span><span class=\"n\">std</span><span class=\"o\">::</span><span class=\"n\">vector</span><span class=\"o\">&lt;</span><span class=\"n\">std</span><span class=\"o\">::</span><span class=\"n\">shared_ptr</span><span class=\"o\">&lt;</span><span class=\"n\">Object</span><span class=\"o\">&gt;&gt;</span><span class=\"w\"> </span><span class=\"n\">args</span>\n",
       "<span class=\"p\">)</span><span class=\"w\"> </span><span class=\"p\">{</span>\n",
       "<span class=\"w\">  </span><span class=\"k\">if</span><span class=\"w\"> </span><span class=\"p\">(</span><span class=\"n\">args</span><span class=\"p\">.</span><span class=\"n\">size</span><span class=\"p\">()</span><span class=\"w\"> </span><span class=\"o\">!=</span><span class=\"w\"> </span><span class=\"mi\">2</span><span class=\"p\">)</span><span class=\"w\"> </span><span class=\"p\">{</span>\n",
       "<span class=\"w\">    </span><span class=\"k\">throw</span><span class=\"w\"> </span><span class=\"n\">error</span><span class=\"p\">(</span><span class=\"n\">stack</span><span class=\"p\">,</span><span class=\"w\"> </span><span class=\"s\">&quot;&#39;get&#39; function takes exactly 2 arguments&quot;</span><span class=\"p\">);</span>\n",
       "<span class=\"w\">  </span><span class=\"p\">}</span>\n",
       "\n",
       "<span class=\"w\">  </span><span class=\"n\">std</span><span class=\"o\">::</span><span class=\"n\">shared_ptr</span><span class=\"o\">&lt;</span><span class=\"n\">ObjectList</span><span class=\"o\">&gt;</span><span class=\"w\"> </span><span class=\"n\">arg0_list</span><span class=\"w\"> </span><span class=\"o\">=</span><span class=\"w\"> </span><span class=\"n\">std</span><span class=\"o\">::</span><span class=\"n\">dynamic_pointer_cast</span><span class=\"o\">&lt;</span><span class=\"n\">ObjectList</span><span class=\"o\">&gt;</span><span class=\"p\">(</span><span class=\"n\">args</span><span class=\"p\">[</span><span class=\"mi\">0</span><span class=\"p\">]);</span>\n",
       "<span class=\"w\">  </span><span class=\"n\">std</span><span class=\"o\">::</span><span class=\"n\">shared_ptr</span><span class=\"o\">&lt;</span><span class=\"n\">ObjectInt</span><span class=\"o\">&gt;</span><span class=\"w\"> </span><span class=\"n\">arg1_int</span><span class=\"w\"> </span><span class=\"o\">=</span><span class=\"w\"> </span><span class=\"n\">std</span><span class=\"o\">::</span><span class=\"n\">dynamic_pointer_cast</span><span class=\"o\">&lt;</span><span class=\"n\">ObjectInt</span><span class=\"o\">&gt;</span><span class=\"p\">(</span><span class=\"n\">args</span><span class=\"p\">[</span><span class=\"mi\">1</span><span class=\"p\">]);</span>\n",
       "\n",
       "<span class=\"w\">  </span><span class=\"k\">if</span><span class=\"w\"> </span><span class=\"p\">(</span><span class=\"n\">arg0_list</span><span class=\"w\">  </span><span class=\"o\">&amp;&amp;</span><span class=\"w\">  </span><span class=\"n\">arg1_int</span><span class=\"p\">)</span><span class=\"w\"> </span><span class=\"p\">{</span>\n",
       "<span class=\"w\">    </span><span class=\"k\">return</span><span class=\"w\"> </span><span class=\"n\">arg0_list</span><span class=\"o\">-&gt;</span><span class=\"n\">values</span><span class=\"p\">()[</span><span class=\"n\">arg1_int</span><span class=\"o\">-&gt;</span><span class=\"n\">value</span><span class=\"p\">()];</span>\n",
       "<span class=\"w\">  </span><span class=\"p\">}</span>\n",
       "\n",
       "<span class=\"w\">  </span><span class=\"k\">else</span><span class=\"w\"> </span><span class=\"p\">{</span>\n",
       "<span class=\"w\">    </span><span class=\"k\">throw</span><span class=\"w\"> </span><span class=\"n\">error</span><span class=\"p\">(</span><span class=\"n\">stack</span><span class=\"p\">,</span><span class=\"w\"> </span><span class=\"s\">&quot;&#39;get&#39; function&#39;s arguments must be a list (first) and an integer (second)&quot;</span><span class=\"p\">);</span>\n",
       "<span class=\"w\">  </span><span class=\"p\">}</span>\n",
       "<span class=\"p\">}</span>\n",
       "\n",
       "\n",
       "<span class=\"n\">std</span><span class=\"o\">::</span><span class=\"n\">string</span><span class=\"w\"> </span><span class=\"n\">ObjectFunctionLen</span><span class=\"o\">::</span><span class=\"n\">repr</span><span class=\"p\">(</span><span class=\"kt\">int</span><span class=\"o\">&amp;</span><span class=\"w\"> </span><span class=\"n\">remaining</span><span class=\"p\">)</span><span class=\"w\"> </span><span class=\"k\">const</span><span class=\"w\"> </span><span class=\"p\">{</span>\n",
       "<span class=\"w\">  </span><span class=\"k\">if</span><span class=\"w\"> </span><span class=\"p\">(</span><span class=\"n\">remaining</span><span class=\"w\"> </span><span class=\"o\">&lt;</span><span class=\"w\"> </span><span class=\"mi\">0</span><span class=\"p\">)</span><span class=\"w\"> </span><span class=\"p\">{</span>\n",
       "<span class=\"w\">    </span><span class=\"k\">return</span><span class=\"w\"> </span><span class=\"s\">&quot;&quot;</span><span class=\"p\">;</span>\n",
       "<span class=\"w\">  </span><span class=\"p\">}</span>\n",
       "\n",
       "<span class=\"w\">  </span><span class=\"n\">remaining</span><span class=\"w\"> </span><span class=\"o\">-=</span><span class=\"w\"> </span><span class=\"mi\">24</span><span class=\"p\">;</span>\n",
       "\n",
       "<span class=\"w\">  </span><span class=\"k\">return</span><span class=\"w\"> </span><span class=\"s\">&quot;&lt;builtin function &#39;len&#39;&gt;&quot;</span><span class=\"p\">;</span>\n",
       "<span class=\"p\">}</span>\n",
       "\n",
       "\n",
       "<span class=\"n\">std</span><span class=\"o\">::</span><span class=\"n\">shared_ptr</span><span class=\"o\">&lt;</span><span class=\"n\">Object</span><span class=\"o\">&gt;</span><span class=\"w\"> </span><span class=\"n\">ObjectFunctionLen</span><span class=\"o\">::</span><span class=\"n\">run</span><span class=\"p\">(</span>\n",
       "<span class=\"w\">  </span><span class=\"n\">std</span><span class=\"o\">::</span><span class=\"n\">shared_ptr</span><span class=\"o\">&lt;</span><span class=\"n\">Scope</span><span class=\"o\">&gt;</span><span class=\"w\"> </span><span class=\"n\">scope</span><span class=\"p\">,</span>\n",
       "<span class=\"w\">  </span><span class=\"n\">std</span><span class=\"o\">::</span><span class=\"n\">vector</span><span class=\"o\">&lt;</span><span class=\"n\">std</span><span class=\"o\">::</span><span class=\"n\">shared_ptr</span><span class=\"o\">&lt;</span><span class=\"n\">ASTNode</span><span class=\"o\">&gt;&gt;&amp;</span><span class=\"w\"> </span><span class=\"n\">stack</span><span class=\"p\">,</span>\n",
       "<span class=\"w\">  </span><span class=\"n\">std</span><span class=\"o\">::</span><span class=\"n\">vector</span><span class=\"o\">&lt;</span><span class=\"n\">std</span><span class=\"o\">::</span><span class=\"n\">shared_ptr</span><span class=\"o\">&lt;</span><span class=\"n\">Object</span><span class=\"o\">&gt;&gt;</span><span class=\"w\"> </span><span class=\"n\">args</span>\n",
       "<span class=\"p\">)</span><span class=\"w\"> </span><span class=\"p\">{</span>\n",
       "<span class=\"w\">  </span><span class=\"k\">if</span><span class=\"w\"> </span><span class=\"p\">(</span><span class=\"n\">args</span><span class=\"p\">.</span><span class=\"n\">size</span><span class=\"p\">()</span><span class=\"w\"> </span><span class=\"o\">!=</span><span class=\"w\"> </span><span class=\"mi\">1</span><span class=\"p\">)</span><span class=\"w\"> </span><span class=\"p\">{</span>\n",
       "<span class=\"w\">    </span><span class=\"k\">throw</span><span class=\"w\"> </span><span class=\"n\">error</span><span class=\"p\">(</span><span class=\"n\">stack</span><span class=\"p\">,</span><span class=\"w\"> </span><span class=\"s\">&quot;&#39;len&#39; function takes exactly 1 argument&quot;</span><span class=\"p\">);</span>\n",
       "<span class=\"w\">  </span><span class=\"p\">}</span>\n",
       "\n",
       "<span class=\"w\">  </span><span class=\"n\">std</span><span class=\"o\">::</span><span class=\"n\">shared_ptr</span><span class=\"o\">&lt;</span><span class=\"n\">ObjectList</span><span class=\"o\">&gt;</span><span class=\"w\"> </span><span class=\"n\">arg0_list</span><span class=\"w\"> </span><span class=\"o\">=</span><span class=\"w\"> </span><span class=\"n\">std</span><span class=\"o\">::</span><span class=\"n\">dynamic_pointer_cast</span><span class=\"o\">&lt;</span><span class=\"n\">ObjectList</span><span class=\"o\">&gt;</span><span class=\"p\">(</span><span class=\"n\">args</span><span class=\"p\">[</span><span class=\"mi\">0</span><span class=\"p\">]);</span>\n",
       "\n",
       "<span class=\"w\">  </span><span class=\"k\">if</span><span class=\"w\"> </span><span class=\"p\">(</span><span class=\"n\">arg0_list</span><span class=\"p\">)</span><span class=\"w\"> </span><span class=\"p\">{</span>\n",
       "<span class=\"w\">    </span><span class=\"k\">return</span><span class=\"w\"> </span><span class=\"n\">std</span><span class=\"o\">::</span><span class=\"n\">make_shared</span><span class=\"o\">&lt;</span><span class=\"n\">ObjectInt</span><span class=\"o\">&gt;</span><span class=\"p\">(</span><span class=\"n\">arg0_list</span><span class=\"o\">-&gt;</span><span class=\"n\">values</span><span class=\"p\">().</span><span class=\"n\">size</span><span class=\"p\">());</span>\n",
       "<span class=\"w\">  </span><span class=\"p\">}</span>\n",
       "\n",
       "<span class=\"w\">  </span><span class=\"k\">else</span><span class=\"w\"> </span><span class=\"p\">{</span>\n",
       "<span class=\"w\">    </span><span class=\"k\">throw</span><span class=\"w\"> </span><span class=\"n\">error</span><span class=\"p\">(</span><span class=\"n\">stack</span><span class=\"p\">,</span><span class=\"w\"> </span><span class=\"s\">&quot;&#39;len&#39; function&#39;s argument must be a list&quot;</span><span class=\"p\">);</span>\n",
       "<span class=\"w\">  </span><span class=\"p\">}</span>\n",
       "<span class=\"p\">}</span>\n",
       "\n",
       "\n",
       "<span class=\"n\">std</span><span class=\"o\">::</span><span class=\"n\">string</span><span class=\"w\"> </span><span class=\"n\">ObjectFunctionMap</span><span class=\"o\">::</span><span class=\"n\">repr</span><span class=\"p\">(</span><span class=\"kt\">int</span><span class=\"o\">&amp;</span><span class=\"w\"> </span><span class=\"n\">remaining</span><span class=\"p\">)</span><span class=\"w\"> </span><span class=\"k\">const</span><span class=\"w\"> </span><span class=\"p\">{</span>\n",
       "<span class=\"w\">  </span><span class=\"k\">if</span><span class=\"w\"> </span><span class=\"p\">(</span><span class=\"n\">remaining</span><span class=\"w\"> </span><span class=\"o\">&lt;</span><span class=\"w\"> </span><span class=\"mi\">0</span><span class=\"p\">)</span><span class=\"w\"> </span><span class=\"p\">{</span>\n",
       "<span class=\"w\">    </span><span class=\"k\">return</span><span class=\"w\"> </span><span class=\"s\">&quot;&quot;</span><span class=\"p\">;</span>\n",
       "<span class=\"w\">  </span><span class=\"p\">}</span>\n",
       "\n",
       "<span class=\"w\">  </span><span class=\"n\">remaining</span><span class=\"w\"> </span><span class=\"o\">-=</span><span class=\"w\"> </span><span class=\"mi\">24</span><span class=\"p\">;</span>\n",
       "\n",
       "<span class=\"w\">  </span><span class=\"k\">return</span><span class=\"w\"> </span><span class=\"s\">&quot;&lt;builtin function &#39;map&#39;&gt;&quot;</span><span class=\"p\">;</span>\n",
       "<span class=\"p\">}</span>\n",
       "\n",
       "\n",
       "<span class=\"n\">std</span><span class=\"o\">::</span><span class=\"n\">shared_ptr</span><span class=\"o\">&lt;</span><span class=\"n\">Object</span><span class=\"o\">&gt;</span><span class=\"w\"> </span><span class=\"n\">ObjectFunctionMap</span><span class=\"o\">::</span><span class=\"n\">run</span><span class=\"p\">(</span>\n",
       "<span class=\"w\">  </span><span class=\"n\">std</span><span class=\"o\">::</span><span class=\"n\">shared_ptr</span><span class=\"o\">&lt;</span><span class=\"n\">Scope</span><span class=\"o\">&gt;</span><span class=\"w\"> </span><span class=\"n\">scope</span><span class=\"p\">,</span>\n",
       "<span class=\"w\">  </span><span class=\"n\">std</span><span class=\"o\">::</span><span class=\"n\">vector</span><span class=\"o\">&lt;</span><span class=\"n\">std</span><span class=\"o\">::</span><span class=\"n\">shared_ptr</span><span class=\"o\">&lt;</span><span class=\"n\">ASTNode</span><span class=\"o\">&gt;&gt;&amp;</span><span class=\"w\"> </span><span class=\"n\">stack</span><span class=\"p\">,</span>\n",
       "<span class=\"w\">  </span><span class=\"n\">std</span><span class=\"o\">::</span><span class=\"n\">vector</span><span class=\"o\">&lt;</span><span class=\"n\">std</span><span class=\"o\">::</span><span class=\"n\">shared_ptr</span><span class=\"o\">&lt;</span><span class=\"n\">Object</span><span class=\"o\">&gt;&gt;</span><span class=\"w\"> </span><span class=\"n\">args</span>\n",
       "<span class=\"p\">)</span><span class=\"w\"> </span><span class=\"p\">{</span>\n",
       "<span class=\"w\">  </span><span class=\"k\">if</span><span class=\"w\"> </span><span class=\"p\">(</span><span class=\"n\">args</span><span class=\"p\">.</span><span class=\"n\">size</span><span class=\"p\">()</span><span class=\"w\"> </span><span class=\"o\">!=</span><span class=\"w\"> </span><span class=\"mi\">2</span><span class=\"p\">)</span><span class=\"w\"> </span><span class=\"p\">{</span>\n",
       "<span class=\"w\">    </span><span class=\"k\">throw</span><span class=\"w\"> </span><span class=\"n\">error</span><span class=\"p\">(</span><span class=\"n\">stack</span><span class=\"p\">,</span><span class=\"w\"> </span><span class=\"s\">&quot;&#39;map&#39; function takes exactly 2 arguments&quot;</span><span class=\"p\">);</span>\n",
       "<span class=\"w\">  </span><span class=\"p\">}</span>\n",
       "\n",
       "<span class=\"w\">  </span><span class=\"n\">std</span><span class=\"o\">::</span><span class=\"n\">shared_ptr</span><span class=\"o\">&lt;</span><span class=\"n\">ObjectFunction</span><span class=\"o\">&gt;</span><span class=\"w\"> </span><span class=\"n\">arg0_function</span><span class=\"w\"> </span><span class=\"o\">=</span><span class=\"w\"> </span><span class=\"n\">std</span><span class=\"o\">::</span><span class=\"n\">dynamic_pointer_cast</span><span class=\"o\">&lt;</span><span class=\"n\">ObjectFunction</span><span class=\"o\">&gt;</span><span class=\"p\">(</span><span class=\"n\">args</span><span class=\"p\">[</span><span class=\"mi\">0</span><span class=\"p\">]);</span>\n",
       "<span class=\"w\">  </span><span class=\"n\">std</span><span class=\"o\">::</span><span class=\"n\">shared_ptr</span><span class=\"o\">&lt;</span><span class=\"n\">ObjectList</span><span class=\"o\">&gt;</span><span class=\"w\"> </span><span class=\"n\">arg1_list</span><span class=\"w\"> </span><span class=\"o\">=</span><span class=\"w\"> </span><span class=\"n\">std</span><span class=\"o\">::</span><span class=\"n\">dynamic_pointer_cast</span><span class=\"o\">&lt;</span><span class=\"n\">ObjectList</span><span class=\"o\">&gt;</span><span class=\"p\">(</span><span class=\"n\">args</span><span class=\"p\">[</span><span class=\"mi\">1</span><span class=\"p\">]);</span>\n",
       "\n",
       "<span class=\"w\">  </span><span class=\"k\">if</span><span class=\"w\"> </span><span class=\"p\">(</span><span class=\"n\">arg0_function</span><span class=\"w\">  </span><span class=\"o\">&amp;&amp;</span><span class=\"w\">  </span><span class=\"n\">arg1_list</span><span class=\"p\">)</span><span class=\"w\"> </span><span class=\"p\">{</span>\n",
       "<span class=\"w\">    </span><span class=\"n\">std</span><span class=\"o\">::</span><span class=\"n\">vector</span><span class=\"o\">&lt;</span><span class=\"n\">std</span><span class=\"o\">::</span><span class=\"n\">shared_ptr</span><span class=\"o\">&lt;</span><span class=\"n\">Object</span><span class=\"o\">&gt;&gt;</span><span class=\"w\"> </span><span class=\"n\">values</span><span class=\"p\">;</span>\n",
       "<span class=\"w\">    </span><span class=\"k\">for</span><span class=\"w\"> </span><span class=\"p\">(</span><span class=\"kt\">int</span><span class=\"w\"> </span><span class=\"n\">i</span><span class=\"w\"> </span><span class=\"o\">=</span><span class=\"w\"> </span><span class=\"mi\">0</span><span class=\"p\">;</span><span class=\"w\">  </span><span class=\"n\">i</span><span class=\"w\"> </span><span class=\"o\">&lt;</span><span class=\"w\"> </span><span class=\"n\">arg1_list</span><span class=\"o\">-&gt;</span><span class=\"n\">values</span><span class=\"p\">().</span><span class=\"n\">size</span><span class=\"p\">();</span><span class=\"w\">  </span><span class=\"n\">i</span><span class=\"o\">++</span><span class=\"p\">)</span><span class=\"w\"> </span><span class=\"p\">{</span>\n",
       "<span class=\"w\">      </span><span class=\"n\">std</span><span class=\"o\">::</span><span class=\"n\">vector</span><span class=\"o\">&lt;</span><span class=\"n\">std</span><span class=\"o\">::</span><span class=\"n\">shared_ptr</span><span class=\"o\">&lt;</span><span class=\"n\">Object</span><span class=\"o\">&gt;&gt;</span><span class=\"w\"> </span><span class=\"n\">farg</span><span class=\"p\">;</span>\n",
       "<span class=\"w\">      </span><span class=\"n\">farg</span><span class=\"p\">.</span><span class=\"n\">push_back</span><span class=\"p\">(</span><span class=\"n\">arg1_list</span><span class=\"o\">-&gt;</span><span class=\"n\">values</span><span class=\"p\">()[</span><span class=\"n\">i</span><span class=\"p\">]);</span>\n",
       "\n",
       "<span class=\"w\">      </span><span class=\"n\">std</span><span class=\"o\">::</span><span class=\"n\">shared_ptr</span><span class=\"o\">&lt;</span><span class=\"n\">Object</span><span class=\"o\">&gt;</span><span class=\"w\"> </span><span class=\"n\">result</span><span class=\"w\"> </span><span class=\"o\">=</span><span class=\"w\"> </span><span class=\"n\">arg0_function</span><span class=\"o\">-&gt;</span><span class=\"n\">run</span><span class=\"p\">(</span><span class=\"n\">scope</span><span class=\"p\">,</span><span class=\"w\"> </span><span class=\"n\">stack</span><span class=\"p\">,</span><span class=\"w\"> </span><span class=\"n\">farg</span><span class=\"p\">);</span>\n",
       "\n",
       "<span class=\"w\">      </span><span class=\"n\">values</span><span class=\"p\">.</span><span class=\"n\">push_back</span><span class=\"p\">(</span><span class=\"n\">result</span><span class=\"p\">);</span>\n",
       "<span class=\"w\">    </span><span class=\"p\">}</span>\n",
       "\n",
       "<span class=\"w\">    </span><span class=\"k\">return</span><span class=\"w\"> </span><span class=\"n\">std</span><span class=\"o\">::</span><span class=\"n\">make_shared</span><span class=\"o\">&lt;</span><span class=\"n\">ObjectList</span><span class=\"o\">&gt;</span><span class=\"p\">(</span><span class=\"n\">values</span><span class=\"p\">);</span>\n",
       "<span class=\"w\">  </span><span class=\"p\">}</span>\n",
       "\n",
       "<span class=\"w\">  </span><span class=\"k\">else</span><span class=\"w\"> </span><span class=\"p\">{</span>\n",
       "<span class=\"w\">    </span><span class=\"k\">throw</span><span class=\"w\"> </span><span class=\"n\">error</span><span class=\"p\">(</span><span class=\"n\">stack</span><span class=\"p\">,</span><span class=\"w\"> </span><span class=\"s\">&quot;&#39;map&#39; function&#39;s arguments must be a function (first) and a list (second)&quot;</span><span class=\"p\">);</span>\n",
       "<span class=\"w\">  </span><span class=\"p\">}</span>\n",
       "<span class=\"p\">}</span>\n",
       "\n",
       "\n",
       "<span class=\"n\">std</span><span class=\"o\">::</span><span class=\"n\">string</span><span class=\"w\"> </span><span class=\"n\">ObjectFunctionReduce</span><span class=\"o\">::</span><span class=\"n\">repr</span><span class=\"p\">(</span><span class=\"kt\">int</span><span class=\"o\">&amp;</span><span class=\"w\"> </span><span class=\"n\">remaining</span><span class=\"p\">)</span><span class=\"w\"> </span><span class=\"k\">const</span><span class=\"w\"> </span><span class=\"p\">{</span>\n",
       "<span class=\"w\">  </span><span class=\"k\">if</span><span class=\"w\"> </span><span class=\"p\">(</span><span class=\"n\">remaining</span><span class=\"w\"> </span><span class=\"o\">&lt;</span><span class=\"w\"> </span><span class=\"mi\">0</span><span class=\"p\">)</span><span class=\"w\"> </span><span class=\"p\">{</span>\n",
       "<span class=\"w\">    </span><span class=\"k\">return</span><span class=\"w\"> </span><span class=\"s\">&quot;&quot;</span><span class=\"p\">;</span>\n",
       "<span class=\"w\">  </span><span class=\"p\">}</span>\n",
       "\n",
       "<span class=\"w\">  </span><span class=\"n\">remaining</span><span class=\"w\"> </span><span class=\"o\">-=</span><span class=\"w\"> </span><span class=\"mi\">21</span><span class=\"p\">;</span>\n",
       "\n",
       "<span class=\"w\">  </span><span class=\"k\">return</span><span class=\"w\"> </span><span class=\"s\">&quot;&lt;builtin function &#39;reduce&#39;&gt;&quot;</span><span class=\"p\">;</span>\n",
       "<span class=\"p\">}</span>\n",
       "\n",
       "\n",
       "<span class=\"n\">std</span><span class=\"o\">::</span><span class=\"n\">shared_ptr</span><span class=\"o\">&lt;</span><span class=\"n\">Object</span><span class=\"o\">&gt;</span><span class=\"w\"> </span><span class=\"n\">ObjectFunctionReduce</span><span class=\"o\">::</span><span class=\"n\">run</span><span class=\"p\">(</span>\n",
       "<span class=\"w\">  </span><span class=\"n\">std</span><span class=\"o\">::</span><span class=\"n\">shared_ptr</span><span class=\"o\">&lt;</span><span class=\"n\">Scope</span><span class=\"o\">&gt;</span><span class=\"w\"> </span><span class=\"n\">scope</span><span class=\"p\">,</span>\n",
       "<span class=\"w\">  </span><span class=\"n\">std</span><span class=\"o\">::</span><span class=\"n\">vector</span><span class=\"o\">&lt;</span><span class=\"n\">std</span><span class=\"o\">::</span><span class=\"n\">shared_ptr</span><span class=\"o\">&lt;</span><span class=\"n\">ASTNode</span><span class=\"o\">&gt;&gt;&amp;</span><span class=\"w\"> </span><span class=\"n\">stack</span><span class=\"p\">,</span>\n",
       "<span class=\"w\">  </span><span class=\"n\">std</span><span class=\"o\">::</span><span class=\"n\">vector</span><span class=\"o\">&lt;</span><span class=\"n\">std</span><span class=\"o\">::</span><span class=\"n\">shared_ptr</span><span class=\"o\">&lt;</span><span class=\"n\">Object</span><span class=\"o\">&gt;&gt;</span><span class=\"w\"> </span><span class=\"n\">args</span>\n",
       "<span class=\"p\">)</span><span class=\"w\"> </span><span class=\"p\">{</span>\n",
       "<span class=\"w\">  </span><span class=\"k\">if</span><span class=\"w\"> </span><span class=\"p\">(</span><span class=\"n\">args</span><span class=\"p\">.</span><span class=\"n\">size</span><span class=\"p\">()</span><span class=\"w\"> </span><span class=\"o\">==</span><span class=\"w\"> </span><span class=\"mi\">2</span><span class=\"p\">)</span><span class=\"w\"> </span><span class=\"p\">{</span>\n",
       "<span class=\"w\">    </span><span class=\"n\">std</span><span class=\"o\">::</span><span class=\"n\">shared_ptr</span><span class=\"o\">&lt;</span><span class=\"n\">ObjectFunction</span><span class=\"o\">&gt;</span><span class=\"w\"> </span><span class=\"n\">arg0_function</span><span class=\"w\"> </span><span class=\"o\">=</span><span class=\"w\"> </span><span class=\"n\">std</span><span class=\"o\">::</span><span class=\"n\">dynamic_pointer_cast</span><span class=\"o\">&lt;</span><span class=\"n\">ObjectFunction</span><span class=\"o\">&gt;</span><span class=\"p\">(</span><span class=\"n\">args</span><span class=\"p\">[</span><span class=\"mi\">0</span><span class=\"p\">]);</span>\n",
       "<span class=\"w\">    </span><span class=\"n\">std</span><span class=\"o\">::</span><span class=\"n\">shared_ptr</span><span class=\"o\">&lt;</span><span class=\"n\">ObjectList</span><span class=\"o\">&gt;</span><span class=\"w\"> </span><span class=\"n\">arg1_list</span><span class=\"w\"> </span><span class=\"o\">=</span><span class=\"w\"> </span><span class=\"n\">std</span><span class=\"o\">::</span><span class=\"n\">dynamic_pointer_cast</span><span class=\"o\">&lt;</span><span class=\"n\">ObjectList</span><span class=\"o\">&gt;</span><span class=\"p\">(</span><span class=\"n\">args</span><span class=\"p\">[</span><span class=\"mi\">1</span><span class=\"p\">]);</span>\n",
       "\n",
       "<span class=\"w\">    </span><span class=\"k\">if</span><span class=\"w\"> </span><span class=\"p\">(</span><span class=\"n\">arg1_list</span><span class=\"o\">-&gt;</span><span class=\"n\">values</span><span class=\"p\">().</span><span class=\"n\">size</span><span class=\"p\">()</span><span class=\"w\"> </span><span class=\"o\">==</span><span class=\"w\"> </span><span class=\"mi\">0</span><span class=\"p\">)</span><span class=\"w\"> </span><span class=\"p\">{</span>\n",
       "<span class=\"w\">      </span><span class=\"k\">throw</span><span class=\"w\"> </span><span class=\"n\">error</span><span class=\"p\">(</span><span class=\"n\">stack</span><span class=\"p\">,</span><span class=\"w\"> </span><span class=\"s\">&quot;&#39;reduce&#39; function&#39;s list argument can only be empty if a third argument (the initial value) is provided&quot;</span><span class=\"p\">);</span>\n",
       "<span class=\"w\">    </span><span class=\"p\">}</span>\n",
       "\n",
       "<span class=\"w\">    </span><span class=\"n\">std</span><span class=\"o\">::</span><span class=\"n\">shared_ptr</span><span class=\"o\">&lt;</span><span class=\"n\">Object</span><span class=\"o\">&gt;</span><span class=\"w\"> </span><span class=\"n\">result</span><span class=\"w\"> </span><span class=\"o\">=</span><span class=\"w\"> </span><span class=\"n\">arg1_list</span><span class=\"o\">-&gt;</span><span class=\"n\">values</span><span class=\"p\">()[</span><span class=\"mi\">0</span><span class=\"p\">];</span>\n",
       "\n",
       "<span class=\"w\">    </span><span class=\"k\">for</span><span class=\"w\"> </span><span class=\"p\">(</span><span class=\"kt\">int</span><span class=\"w\"> </span><span class=\"n\">i</span><span class=\"w\"> </span><span class=\"o\">=</span><span class=\"w\"> </span><span class=\"mi\">1</span><span class=\"p\">;</span><span class=\"w\">  </span><span class=\"n\">i</span><span class=\"w\"> </span><span class=\"o\">&lt;</span><span class=\"w\"> </span><span class=\"n\">arg1_list</span><span class=\"o\">-&gt;</span><span class=\"n\">values</span><span class=\"p\">().</span><span class=\"n\">size</span><span class=\"p\">();</span><span class=\"w\">  </span><span class=\"n\">i</span><span class=\"o\">++</span><span class=\"p\">)</span><span class=\"w\"> </span><span class=\"p\">{</span>\n",
       "<span class=\"w\">      </span><span class=\"n\">std</span><span class=\"o\">::</span><span class=\"n\">vector</span><span class=\"o\">&lt;</span><span class=\"n\">std</span><span class=\"o\">::</span><span class=\"n\">shared_ptr</span><span class=\"o\">&lt;</span><span class=\"n\">Object</span><span class=\"o\">&gt;&gt;</span><span class=\"w\"> </span><span class=\"n\">fargs</span><span class=\"p\">;</span>\n",
       "<span class=\"w\">      </span><span class=\"n\">fargs</span><span class=\"p\">.</span><span class=\"n\">push_back</span><span class=\"p\">(</span><span class=\"n\">result</span><span class=\"p\">);</span>\n",
       "<span class=\"w\">      </span><span class=\"n\">fargs</span><span class=\"p\">.</span><span class=\"n\">push_back</span><span class=\"p\">(</span><span class=\"n\">arg1_list</span><span class=\"o\">-&gt;</span><span class=\"n\">values</span><span class=\"p\">()[</span><span class=\"n\">i</span><span class=\"p\">]);</span>\n",
       "\n",
       "<span class=\"w\">      </span><span class=\"n\">result</span><span class=\"w\"> </span><span class=\"o\">=</span><span class=\"w\"> </span><span class=\"n\">arg0_function</span><span class=\"o\">-&gt;</span><span class=\"n\">run</span><span class=\"p\">(</span><span class=\"n\">scope</span><span class=\"p\">,</span><span class=\"w\"> </span><span class=\"n\">stack</span><span class=\"p\">,</span><span class=\"w\"> </span><span class=\"n\">fargs</span><span class=\"p\">);</span>\n",
       "<span class=\"w\">    </span><span class=\"p\">}</span>\n",
       "\n",
       "<span class=\"w\">    </span><span class=\"k\">return</span><span class=\"w\"> </span><span class=\"n\">result</span><span class=\"p\">;</span>\n",
       "<span class=\"w\">  </span><span class=\"p\">}</span>\n",
       "\n",
       "<span class=\"w\">  </span><span class=\"k\">else</span><span class=\"w\"> </span><span class=\"k\">if</span><span class=\"w\"> </span><span class=\"p\">(</span><span class=\"n\">args</span><span class=\"p\">.</span><span class=\"n\">size</span><span class=\"p\">()</span><span class=\"w\"> </span><span class=\"o\">==</span><span class=\"w\"> </span><span class=\"mi\">3</span><span class=\"p\">)</span><span class=\"w\"> </span><span class=\"p\">{</span>\n",
       "<span class=\"w\">    </span><span class=\"n\">std</span><span class=\"o\">::</span><span class=\"n\">shared_ptr</span><span class=\"o\">&lt;</span><span class=\"n\">ObjectFunction</span><span class=\"o\">&gt;</span><span class=\"w\"> </span><span class=\"n\">arg0_function</span><span class=\"w\"> </span><span class=\"o\">=</span><span class=\"w\"> </span><span class=\"n\">std</span><span class=\"o\">::</span><span class=\"n\">dynamic_pointer_cast</span><span class=\"o\">&lt;</span><span class=\"n\">ObjectFunction</span><span class=\"o\">&gt;</span><span class=\"p\">(</span><span class=\"n\">args</span><span class=\"p\">[</span><span class=\"mi\">0</span><span class=\"p\">]);</span>\n",
       "<span class=\"w\">    </span><span class=\"n\">std</span><span class=\"o\">::</span><span class=\"n\">shared_ptr</span><span class=\"o\">&lt;</span><span class=\"n\">ObjectList</span><span class=\"o\">&gt;</span><span class=\"w\"> </span><span class=\"n\">arg1_list</span><span class=\"w\"> </span><span class=\"o\">=</span><span class=\"w\"> </span><span class=\"n\">std</span><span class=\"o\">::</span><span class=\"n\">dynamic_pointer_cast</span><span class=\"o\">&lt;</span><span class=\"n\">ObjectList</span><span class=\"o\">&gt;</span><span class=\"p\">(</span><span class=\"n\">args</span><span class=\"p\">[</span><span class=\"mi\">1</span><span class=\"p\">]);</span>\n",
       "<span class=\"w\">    </span><span class=\"n\">std</span><span class=\"o\">::</span><span class=\"n\">shared_ptr</span><span class=\"o\">&lt;</span><span class=\"n\">Object</span><span class=\"o\">&gt;</span><span class=\"w\"> </span><span class=\"n\">result</span><span class=\"w\"> </span><span class=\"o\">=</span><span class=\"w\"> </span><span class=\"n\">args</span><span class=\"p\">[</span><span class=\"mi\">2</span><span class=\"p\">];</span>\n",
       "\n",
       "<span class=\"w\">    </span><span class=\"k\">for</span><span class=\"w\"> </span><span class=\"p\">(</span><span class=\"kt\">int</span><span class=\"w\"> </span><span class=\"n\">i</span><span class=\"w\"> </span><span class=\"o\">=</span><span class=\"w\"> </span><span class=\"mi\">0</span><span class=\"p\">;</span><span class=\"w\">  </span><span class=\"n\">i</span><span class=\"w\"> </span><span class=\"o\">&lt;</span><span class=\"w\"> </span><span class=\"n\">arg1_list</span><span class=\"o\">-&gt;</span><span class=\"n\">values</span><span class=\"p\">().</span><span class=\"n\">size</span><span class=\"p\">();</span><span class=\"w\">  </span><span class=\"n\">i</span><span class=\"o\">++</span><span class=\"p\">)</span><span class=\"w\"> </span><span class=\"p\">{</span>\n",
       "<span class=\"w\">      </span><span class=\"n\">std</span><span class=\"o\">::</span><span class=\"n\">vector</span><span class=\"o\">&lt;</span><span class=\"n\">std</span><span class=\"o\">::</span><span class=\"n\">shared_ptr</span><span class=\"o\">&lt;</span><span class=\"n\">Object</span><span class=\"o\">&gt;&gt;</span><span class=\"w\"> </span><span class=\"n\">fargs</span><span class=\"p\">;</span>\n",
       "<span class=\"w\">      </span><span class=\"n\">fargs</span><span class=\"p\">.</span><span class=\"n\">push_back</span><span class=\"p\">(</span><span class=\"n\">result</span><span class=\"p\">);</span>\n",
       "<span class=\"w\">      </span><span class=\"n\">fargs</span><span class=\"p\">.</span><span class=\"n\">push_back</span><span class=\"p\">(</span><span class=\"n\">arg1_list</span><span class=\"o\">-&gt;</span><span class=\"n\">values</span><span class=\"p\">()[</span><span class=\"n\">i</span><span class=\"p\">]);</span>\n",
       "\n",
       "<span class=\"w\">      </span><span class=\"n\">result</span><span class=\"w\"> </span><span class=\"o\">=</span><span class=\"w\"> </span><span class=\"n\">arg0_function</span><span class=\"o\">-&gt;</span><span class=\"n\">run</span><span class=\"p\">(</span><span class=\"n\">scope</span><span class=\"p\">,</span><span class=\"w\"> </span><span class=\"n\">stack</span><span class=\"p\">,</span><span class=\"w\"> </span><span class=\"n\">fargs</span><span class=\"p\">);</span>\n",
       "<span class=\"w\">    </span><span class=\"p\">}</span>\n",
       "\n",
       "<span class=\"w\">    </span><span class=\"k\">return</span><span class=\"w\"> </span><span class=\"n\">result</span><span class=\"p\">;</span>\n",
       "<span class=\"w\">  </span><span class=\"p\">}</span>\n",
       "\n",
       "<span class=\"w\">  </span><span class=\"k\">else</span><span class=\"w\"> </span><span class=\"p\">{</span>\n",
       "<span class=\"w\">    </span><span class=\"k\">throw</span><span class=\"w\"> </span><span class=\"n\">error</span><span class=\"p\">(</span><span class=\"n\">stack</span><span class=\"p\">,</span><span class=\"w\"> </span><span class=\"s\">&quot;&#39;reduce&#39; function takes either 2 or 3 arguments&quot;</span><span class=\"p\">);</span>\n",
       "<span class=\"w\">  </span><span class=\"p\">}</span>\n",
       "<span class=\"p\">}</span>\n",
       "\n",
       "\n",
       "<span class=\"n\">std</span><span class=\"o\">::</span><span class=\"n\">string</span><span class=\"w\"> </span><span class=\"n\">ObjectUserFunction</span><span class=\"o\">::</span><span class=\"n\">repr</span><span class=\"p\">(</span><span class=\"kt\">int</span><span class=\"o\">&amp;</span><span class=\"w\"> </span><span class=\"n\">remaining</span><span class=\"p\">)</span><span class=\"w\"> </span><span class=\"k\">const</span><span class=\"w\"> </span><span class=\"p\">{</span>\n",
       "<span class=\"w\">  </span><span class=\"k\">if</span><span class=\"w\"> </span><span class=\"p\">(</span><span class=\"n\">remaining</span><span class=\"w\"> </span><span class=\"o\">&lt;</span><span class=\"w\"> </span><span class=\"mi\">0</span><span class=\"p\">)</span><span class=\"w\"> </span><span class=\"p\">{</span>\n",
       "<span class=\"w\">    </span><span class=\"k\">return</span><span class=\"w\"> </span><span class=\"s\">&quot;&quot;</span><span class=\"p\">;</span>\n",
       "<span class=\"w\">  </span><span class=\"p\">}</span>\n",
       "\n",
       "<span class=\"w\">  </span><span class=\"n\">remaining</span><span class=\"w\"> </span><span class=\"o\">-=</span><span class=\"w\"> </span><span class=\"mi\">23</span><span class=\"p\">;</span>\n",
       "\n",
       "<span class=\"w\">  </span><span class=\"k\">return</span><span class=\"w\"> </span><span class=\"s\">&quot;&lt;user-defined function&gt;&quot;</span><span class=\"p\">;</span>\n",
       "<span class=\"p\">}</span>\n",
       "\n",
       "\n",
       "<span class=\"n\">std</span><span class=\"o\">::</span><span class=\"n\">shared_ptr</span><span class=\"o\">&lt;</span><span class=\"n\">Object</span><span class=\"o\">&gt;</span><span class=\"w\"> </span><span class=\"n\">ObjectUserFunction</span><span class=\"o\">::</span><span class=\"n\">run</span><span class=\"p\">(</span>\n",
       "<span class=\"w\">  </span><span class=\"n\">std</span><span class=\"o\">::</span><span class=\"n\">shared_ptr</span><span class=\"o\">&lt;</span><span class=\"n\">Scope</span><span class=\"o\">&gt;</span><span class=\"w\"> </span><span class=\"n\">scope</span><span class=\"p\">,</span>\n",
       "<span class=\"w\">  </span><span class=\"n\">std</span><span class=\"o\">::</span><span class=\"n\">vector</span><span class=\"o\">&lt;</span><span class=\"n\">std</span><span class=\"o\">::</span><span class=\"n\">shared_ptr</span><span class=\"o\">&lt;</span><span class=\"n\">ASTNode</span><span class=\"o\">&gt;&gt;&amp;</span><span class=\"w\"> </span><span class=\"n\">stack</span><span class=\"p\">,</span>\n",
       "<span class=\"w\">  </span><span class=\"n\">std</span><span class=\"o\">::</span><span class=\"n\">vector</span><span class=\"o\">&lt;</span><span class=\"n\">std</span><span class=\"o\">::</span><span class=\"n\">shared_ptr</span><span class=\"o\">&lt;</span><span class=\"n\">Object</span><span class=\"o\">&gt;&gt;</span><span class=\"w\"> </span><span class=\"n\">args</span>\n",
       "<span class=\"p\">)</span><span class=\"w\"> </span><span class=\"p\">{</span>\n",
       "<span class=\"w\">  </span><span class=\"k\">if</span><span class=\"w\"> </span><span class=\"p\">(</span><span class=\"n\">args</span><span class=\"p\">.</span><span class=\"n\">size</span><span class=\"p\">()</span><span class=\"w\"> </span><span class=\"o\">!=</span><span class=\"w\"> </span><span class=\"n\">fun_</span><span class=\"o\">-&gt;</span><span class=\"n\">params</span><span class=\"p\">().</span><span class=\"n\">size</span><span class=\"p\">())</span><span class=\"w\"> </span><span class=\"p\">{</span>\n",
       "<span class=\"w\">    </span><span class=\"k\">throw</span><span class=\"w\"> </span><span class=\"n\">error</span><span class=\"p\">(</span><span class=\"n\">stack</span><span class=\"p\">,</span><span class=\"w\"> </span><span class=\"s\">&quot;wrong number of arguments for user-defined function&quot;</span><span class=\"p\">);</span>\n",
       "<span class=\"w\">  </span><span class=\"p\">}</span>\n",
       "\n",
       "<span class=\"w\">  </span><span class=\"n\">std</span><span class=\"o\">::</span><span class=\"n\">shared_ptr</span><span class=\"o\">&lt;</span><span class=\"n\">Scope</span><span class=\"o\">&gt;</span><span class=\"w\"> </span><span class=\"n\">nested_scope</span><span class=\"p\">(</span><span class=\"n\">scope</span><span class=\"p\">);</span>\n",
       "\n",
       "<span class=\"w\">  </span><span class=\"k\">for</span><span class=\"w\"> </span><span class=\"p\">(</span><span class=\"kt\">int</span><span class=\"w\"> </span><span class=\"n\">i</span><span class=\"w\"> </span><span class=\"o\">=</span><span class=\"w\"> </span><span class=\"mi\">0</span><span class=\"p\">;</span><span class=\"w\">  </span><span class=\"n\">i</span><span class=\"w\"> </span><span class=\"o\">&lt;</span><span class=\"w\"> </span><span class=\"n\">args</span><span class=\"p\">.</span><span class=\"n\">size</span><span class=\"p\">();</span><span class=\"w\">  </span><span class=\"n\">i</span><span class=\"o\">++</span><span class=\"p\">)</span><span class=\"w\"> </span><span class=\"p\">{</span>\n",
       "<span class=\"w\">    </span><span class=\"n\">nested_scope</span><span class=\"o\">-&gt;</span><span class=\"n\">assign</span><span class=\"p\">(</span><span class=\"n\">fun_</span><span class=\"o\">-&gt;</span><span class=\"n\">params</span><span class=\"p\">()[</span><span class=\"n\">i</span><span class=\"p\">],</span><span class=\"w\"> </span><span class=\"n\">args</span><span class=\"p\">[</span><span class=\"n\">i</span><span class=\"p\">],</span><span class=\"w\"> </span><span class=\"n\">stack</span><span class=\"p\">);</span>\n",
       "<span class=\"w\">  </span><span class=\"p\">}</span>\n",
       "\n",
       "<span class=\"w\">  </span><span class=\"n\">std</span><span class=\"o\">::</span><span class=\"n\">shared_ptr</span><span class=\"o\">&lt;</span><span class=\"n\">Object</span><span class=\"o\">&gt;</span><span class=\"w\"> </span><span class=\"n\">out</span><span class=\"p\">;</span>\n",
       "<span class=\"w\">  </span><span class=\"k\">for</span><span class=\"w\"> </span><span class=\"p\">(</span><span class=\"kt\">int</span><span class=\"w\"> </span><span class=\"n\">i</span><span class=\"w\"> </span><span class=\"o\">=</span><span class=\"w\"> </span><span class=\"mi\">0</span><span class=\"p\">;</span><span class=\"w\">  </span><span class=\"n\">i</span><span class=\"w\"> </span><span class=\"o\">&lt;</span><span class=\"w\"> </span><span class=\"n\">fun_</span><span class=\"o\">-&gt;</span><span class=\"n\">body</span><span class=\"p\">().</span><span class=\"n\">size</span><span class=\"p\">();</span><span class=\"w\">  </span><span class=\"n\">i</span><span class=\"o\">++</span><span class=\"p\">)</span><span class=\"w\"> </span><span class=\"p\">{</span>\n",
       "<span class=\"w\">    </span><span class=\"n\">out</span><span class=\"w\"> </span><span class=\"o\">=</span><span class=\"w\"> </span><span class=\"n\">fun_</span><span class=\"o\">-&gt;</span><span class=\"n\">body</span><span class=\"p\">()[</span><span class=\"n\">i</span><span class=\"p\">]</span><span class=\"o\">-&gt;</span><span class=\"n\">run</span><span class=\"p\">(</span><span class=\"n\">nested_scope</span><span class=\"p\">,</span><span class=\"w\"> </span><span class=\"n\">stack</span><span class=\"p\">);</span>\n",
       "<span class=\"w\">  </span><span class=\"p\">}</span>\n",
       "<span class=\"w\">  </span><span class=\"k\">return</span><span class=\"w\"> </span><span class=\"n\">out</span><span class=\"p\">;</span>\n",
       "<span class=\"p\">}</span>\n",
       "\n",
       "\n",
       "<span class=\"c1\">//// ASTNodes //////////////////////////////////////////////////////////////</span>\n",
       "\n",
       "\n",
       "<span class=\"n\">std</span><span class=\"o\">::</span><span class=\"n\">shared_ptr</span><span class=\"o\">&lt;</span><span class=\"n\">Object</span><span class=\"o\">&gt;</span><span class=\"w\"> </span><span class=\"n\">ASTLiteralInt</span><span class=\"o\">::</span><span class=\"n\">run</span><span class=\"p\">(</span>\n",
       "<span class=\"w\">  </span><span class=\"n\">std</span><span class=\"o\">::</span><span class=\"n\">shared_ptr</span><span class=\"o\">&lt;</span><span class=\"n\">Scope</span><span class=\"o\">&gt;</span><span class=\"w\"> </span><span class=\"n\">scope</span><span class=\"p\">,</span>\n",
       "<span class=\"w\">  </span><span class=\"n\">std</span><span class=\"o\">::</span><span class=\"n\">vector</span><span class=\"o\">&lt;</span><span class=\"n\">std</span><span class=\"o\">::</span><span class=\"n\">shared_ptr</span><span class=\"o\">&lt;</span><span class=\"n\">ASTNode</span><span class=\"o\">&gt;&gt;&amp;</span><span class=\"w\"> </span><span class=\"n\">stack</span>\n",
       "<span class=\"p\">)</span><span class=\"w\"> </span><span class=\"p\">{</span>\n",
       "<span class=\"w\">  </span><span class=\"k\">return</span><span class=\"w\"> </span><span class=\"n\">std</span><span class=\"o\">::</span><span class=\"n\">make_shared</span><span class=\"o\">&lt;</span><span class=\"n\">ObjectInt</span><span class=\"o\">&gt;</span><span class=\"p\">(</span><span class=\"n\">value_</span><span class=\"p\">);</span>\n",
       "<span class=\"p\">}</span>\n",
       "\n",
       "\n",
       "<span class=\"n\">std</span><span class=\"o\">::</span><span class=\"n\">shared_ptr</span><span class=\"o\">&lt;</span><span class=\"n\">Object</span><span class=\"o\">&gt;</span><span class=\"w\"> </span><span class=\"n\">ASTLiteralList</span><span class=\"o\">::</span><span class=\"n\">run</span><span class=\"p\">(</span>\n",
       "<span class=\"w\">  </span><span class=\"n\">std</span><span class=\"o\">::</span><span class=\"n\">shared_ptr</span><span class=\"o\">&lt;</span><span class=\"n\">Scope</span><span class=\"o\">&gt;</span><span class=\"w\"> </span><span class=\"n\">scope</span><span class=\"p\">,</span>\n",
       "<span class=\"w\">  </span><span class=\"n\">std</span><span class=\"o\">::</span><span class=\"n\">vector</span><span class=\"o\">&lt;</span><span class=\"n\">std</span><span class=\"o\">::</span><span class=\"n\">shared_ptr</span><span class=\"o\">&lt;</span><span class=\"n\">ASTNode</span><span class=\"o\">&gt;&gt;&amp;</span><span class=\"w\"> </span><span class=\"n\">stack</span>\n",
       "<span class=\"p\">)</span><span class=\"w\"> </span><span class=\"p\">{</span>\n",
       "<span class=\"w\">  </span><span class=\"n\">std</span><span class=\"o\">::</span><span class=\"n\">vector</span><span class=\"o\">&lt;</span><span class=\"n\">std</span><span class=\"o\">::</span><span class=\"n\">shared_ptr</span><span class=\"o\">&lt;</span><span class=\"n\">Object</span><span class=\"o\">&gt;&gt;</span><span class=\"w\"> </span><span class=\"n\">values</span><span class=\"p\">;</span>\n",
       "\n",
       "<span class=\"w\">  </span><span class=\"k\">for</span><span class=\"w\"> </span><span class=\"p\">(</span><span class=\"kt\">int</span><span class=\"w\"> </span><span class=\"n\">i</span><span class=\"w\"> </span><span class=\"o\">=</span><span class=\"w\"> </span><span class=\"mi\">0</span><span class=\"p\">;</span><span class=\"w\">  </span><span class=\"n\">i</span><span class=\"w\"> </span><span class=\"o\">&lt;</span><span class=\"w\"> </span><span class=\"n\">values_</span><span class=\"p\">.</span><span class=\"n\">size</span><span class=\"p\">();</span><span class=\"w\">  </span><span class=\"n\">i</span><span class=\"o\">++</span><span class=\"p\">)</span><span class=\"w\"> </span><span class=\"p\">{</span>\n",
       "<span class=\"w\">    </span><span class=\"n\">values</span><span class=\"p\">.</span><span class=\"n\">push_back</span><span class=\"p\">(</span><span class=\"n\">values_</span><span class=\"p\">[</span><span class=\"n\">i</span><span class=\"p\">]</span><span class=\"o\">-&gt;</span><span class=\"n\">run</span><span class=\"p\">(</span><span class=\"n\">scope</span><span class=\"p\">,</span><span class=\"w\"> </span><span class=\"n\">stack</span><span class=\"p\">));</span>\n",
       "<span class=\"w\">  </span><span class=\"p\">}</span>\n",
       "\n",
       "<span class=\"w\">  </span><span class=\"k\">return</span><span class=\"w\"> </span><span class=\"n\">std</span><span class=\"o\">::</span><span class=\"n\">make_shared</span><span class=\"o\">&lt;</span><span class=\"n\">ObjectList</span><span class=\"o\">&gt;</span><span class=\"p\">(</span><span class=\"n\">values</span><span class=\"p\">);</span>\n",
       "<span class=\"p\">}</span>\n",
       "\n",
       "\n",
       "<span class=\"n\">std</span><span class=\"o\">::</span><span class=\"n\">shared_ptr</span><span class=\"o\">&lt;</span><span class=\"n\">Object</span><span class=\"o\">&gt;</span><span class=\"w\"> </span><span class=\"n\">ASTDefineFun</span><span class=\"o\">::</span><span class=\"n\">run</span><span class=\"p\">(</span>\n",
       "<span class=\"w\">  </span><span class=\"n\">std</span><span class=\"o\">::</span><span class=\"n\">shared_ptr</span><span class=\"o\">&lt;</span><span class=\"n\">Scope</span><span class=\"o\">&gt;</span><span class=\"w\"> </span><span class=\"n\">scope</span><span class=\"p\">,</span>\n",
       "<span class=\"w\">  </span><span class=\"n\">std</span><span class=\"o\">::</span><span class=\"n\">vector</span><span class=\"o\">&lt;</span><span class=\"n\">std</span><span class=\"o\">::</span><span class=\"n\">shared_ptr</span><span class=\"o\">&lt;</span><span class=\"n\">ASTNode</span><span class=\"o\">&gt;&gt;&amp;</span><span class=\"w\"> </span><span class=\"n\">stack</span>\n",
       "<span class=\"p\">)</span><span class=\"w\"> </span><span class=\"p\">{</span>\n",
       "<span class=\"w\">  </span><span class=\"k\">return</span><span class=\"w\"> </span><span class=\"n\">std</span><span class=\"o\">::</span><span class=\"n\">make_shared</span><span class=\"o\">&lt;</span><span class=\"n\">ObjectUserFunction</span><span class=\"o\">&gt;</span><span class=\"p\">(</span><span class=\"n\">shared_from_this</span><span class=\"p\">());</span>\n",
       "<span class=\"p\">}</span>\n",
       "\n",
       "\n",
       "<span class=\"n\">std</span><span class=\"o\">::</span><span class=\"n\">shared_ptr</span><span class=\"o\">&lt;</span><span class=\"n\">Object</span><span class=\"o\">&gt;</span><span class=\"w\"> </span><span class=\"n\">ASTCallNamed</span><span class=\"o\">::</span><span class=\"n\">run</span><span class=\"p\">(</span>\n",
       "<span class=\"w\">  </span><span class=\"n\">std</span><span class=\"o\">::</span><span class=\"n\">shared_ptr</span><span class=\"o\">&lt;</span><span class=\"n\">Scope</span><span class=\"o\">&gt;</span><span class=\"w\"> </span><span class=\"n\">scope</span><span class=\"p\">,</span>\n",
       "<span class=\"w\">  </span><span class=\"n\">std</span><span class=\"o\">::</span><span class=\"n\">vector</span><span class=\"o\">&lt;</span><span class=\"n\">std</span><span class=\"o\">::</span><span class=\"n\">shared_ptr</span><span class=\"o\">&lt;</span><span class=\"n\">ASTNode</span><span class=\"o\">&gt;&gt;&amp;</span><span class=\"w\"> </span><span class=\"n\">stack</span>\n",
       "<span class=\"p\">)</span><span class=\"w\"> </span><span class=\"p\">{</span>\n",
       "<span class=\"w\">  </span><span class=\"k\">if</span><span class=\"w\"> </span><span class=\"p\">(</span><span class=\"n\">stack</span><span class=\"p\">.</span><span class=\"n\">size</span><span class=\"p\">()</span><span class=\"w\"> </span><span class=\"o\">==</span><span class=\"w\"> </span><span class=\"n\">MAX_RECURSION</span><span class=\"p\">)</span><span class=\"w\"> </span><span class=\"p\">{</span>\n",
       "<span class=\"w\">    </span><span class=\"k\">throw</span><span class=\"w\"> </span><span class=\"n\">error</span><span class=\"p\">(</span><span class=\"n\">stack</span><span class=\"p\">,</span><span class=\"w\"> </span><span class=\"s\">&quot;recursion is too deep (probably an infinite loop)&quot;</span><span class=\"p\">);</span>\n",
       "<span class=\"w\">  </span><span class=\"p\">}</span>\n",
       "\n",
       "<span class=\"w\">  </span><span class=\"n\">std</span><span class=\"o\">::</span><span class=\"n\">shared_ptr</span><span class=\"o\">&lt;</span><span class=\"n\">Object</span><span class=\"o\">&gt;</span><span class=\"w\"> </span><span class=\"n\">maybe_fun</span><span class=\"w\"> </span><span class=\"o\">=</span><span class=\"w\"> </span><span class=\"n\">scope</span><span class=\"o\">-&gt;</span><span class=\"n\">get</span><span class=\"p\">(</span><span class=\"n\">name_</span><span class=\"p\">,</span><span class=\"w\"> </span><span class=\"n\">stack</span><span class=\"p\">);</span>\n",
       "\n",
       "<span class=\"w\">  </span><span class=\"n\">std</span><span class=\"o\">::</span><span class=\"n\">shared_ptr</span><span class=\"o\">&lt;</span><span class=\"n\">ObjectFunction</span><span class=\"o\">&gt;</span><span class=\"w\"> </span><span class=\"n\">fun</span><span class=\"w\"> </span><span class=\"o\">=</span><span class=\"w\"> </span><span class=\"n\">std</span><span class=\"o\">::</span><span class=\"n\">dynamic_pointer_cast</span><span class=\"o\">&lt;</span><span class=\"n\">ObjectFunction</span><span class=\"o\">&gt;</span><span class=\"p\">(</span><span class=\"n\">maybe_fun</span><span class=\"p\">);</span>\n",
       "\n",
       "<span class=\"w\">  </span><span class=\"k\">if</span><span class=\"w\"> </span><span class=\"p\">(</span><span class=\"o\">!</span><span class=\"n\">fun</span><span class=\"p\">)</span><span class=\"w\"> </span><span class=\"p\">{</span>\n",
       "<span class=\"w\">    </span><span class=\"k\">throw</span><span class=\"w\"> </span><span class=\"n\">error</span><span class=\"p\">(</span><span class=\"n\">stack</span><span class=\"p\">,</span><span class=\"w\"> </span><span class=\"s\">&quot;attempting to call an object that is not a function&quot;</span><span class=\"p\">);</span>\n",
       "<span class=\"w\">  </span><span class=\"p\">}</span>\n",
       "\n",
       "<span class=\"w\">  </span><span class=\"n\">std</span><span class=\"o\">::</span><span class=\"n\">vector</span><span class=\"o\">&lt;</span><span class=\"n\">std</span><span class=\"o\">::</span><span class=\"n\">shared_ptr</span><span class=\"o\">&lt;</span><span class=\"n\">Object</span><span class=\"o\">&gt;&gt;</span><span class=\"w\"> </span><span class=\"n\">args</span><span class=\"p\">;</span>\n",
       "<span class=\"w\">  </span><span class=\"k\">for</span><span class=\"w\"> </span><span class=\"p\">(</span><span class=\"kt\">int</span><span class=\"w\"> </span><span class=\"n\">i</span><span class=\"w\"> </span><span class=\"o\">=</span><span class=\"w\"> </span><span class=\"mi\">0</span><span class=\"p\">;</span><span class=\"w\">  </span><span class=\"n\">i</span><span class=\"w\"> </span><span class=\"o\">&lt;</span><span class=\"w\"> </span><span class=\"n\">args_</span><span class=\"p\">.</span><span class=\"n\">size</span><span class=\"p\">();</span><span class=\"w\">  </span><span class=\"n\">i</span><span class=\"o\">++</span><span class=\"p\">)</span><span class=\"w\"> </span><span class=\"p\">{</span>\n",
       "<span class=\"w\">    </span><span class=\"n\">args</span><span class=\"p\">.</span><span class=\"n\">push_back</span><span class=\"p\">(</span><span class=\"n\">args_</span><span class=\"p\">[</span><span class=\"n\">i</span><span class=\"p\">]</span><span class=\"o\">-&gt;</span><span class=\"n\">run</span><span class=\"p\">(</span><span class=\"n\">scope</span><span class=\"p\">,</span><span class=\"w\"> </span><span class=\"n\">stack</span><span class=\"p\">));</span>\n",
       "<span class=\"w\">  </span><span class=\"p\">}</span>\n",
       "\n",
       "<span class=\"w\">  </span><span class=\"n\">std</span><span class=\"o\">::</span><span class=\"n\">shared_ptr</span><span class=\"o\">&lt;</span><span class=\"n\">Scope</span><span class=\"o\">&gt;</span><span class=\"w\"> </span><span class=\"n\">nested_scope</span><span class=\"w\"> </span><span class=\"o\">=</span><span class=\"w\"> </span><span class=\"n\">std</span><span class=\"o\">::</span><span class=\"n\">make_shared</span><span class=\"o\">&lt;</span><span class=\"n\">Scope</span><span class=\"o\">&gt;</span><span class=\"p\">(</span><span class=\"n\">scope</span><span class=\"p\">);</span>\n",
       "\n",
       "<span class=\"w\">  </span><span class=\"n\">stack</span><span class=\"p\">.</span><span class=\"n\">push_back</span><span class=\"p\">(</span><span class=\"n\">shared_from_this</span><span class=\"p\">());</span>\n",
       "<span class=\"w\">  </span><span class=\"n\">std</span><span class=\"o\">::</span><span class=\"n\">shared_ptr</span><span class=\"o\">&lt;</span><span class=\"n\">Object</span><span class=\"o\">&gt;</span><span class=\"w\"> </span><span class=\"n\">result</span><span class=\"w\"> </span><span class=\"o\">=</span><span class=\"w\"> </span><span class=\"n\">fun</span><span class=\"o\">-&gt;</span><span class=\"n\">run</span><span class=\"p\">(</span><span class=\"n\">nested_scope</span><span class=\"p\">,</span><span class=\"w\"> </span><span class=\"n\">stack</span><span class=\"p\">,</span><span class=\"w\"> </span><span class=\"n\">args</span><span class=\"p\">);</span>\n",
       "<span class=\"w\">  </span><span class=\"n\">stack</span><span class=\"p\">.</span><span class=\"n\">pop_back</span><span class=\"p\">();</span>\n",
       "\n",
       "<span class=\"w\">  </span><span class=\"k\">return</span><span class=\"w\"> </span><span class=\"n\">result</span><span class=\"p\">;</span>\n",
       "<span class=\"p\">}</span>\n",
       "\n",
       "\n",
       "<span class=\"n\">std</span><span class=\"o\">::</span><span class=\"n\">shared_ptr</span><span class=\"o\">&lt;</span><span class=\"n\">Object</span><span class=\"o\">&gt;</span><span class=\"w\"> </span><span class=\"n\">ASTAssignment</span><span class=\"o\">::</span><span class=\"n\">run</span><span class=\"p\">(</span>\n",
       "<span class=\"w\">  </span><span class=\"n\">std</span><span class=\"o\">::</span><span class=\"n\">shared_ptr</span><span class=\"o\">&lt;</span><span class=\"n\">Scope</span><span class=\"o\">&gt;</span><span class=\"w\"> </span><span class=\"n\">scope</span><span class=\"p\">,</span>\n",
       "<span class=\"w\">  </span><span class=\"n\">std</span><span class=\"o\">::</span><span class=\"n\">vector</span><span class=\"o\">&lt;</span><span class=\"n\">std</span><span class=\"o\">::</span><span class=\"n\">shared_ptr</span><span class=\"o\">&lt;</span><span class=\"n\">ASTNode</span><span class=\"o\">&gt;&gt;&amp;</span><span class=\"w\"> </span><span class=\"n\">stack</span>\n",
       "<span class=\"p\">)</span><span class=\"w\"> </span><span class=\"p\">{</span>\n",
       "<span class=\"w\">  </span><span class=\"n\">std</span><span class=\"o\">::</span><span class=\"n\">shared_ptr</span><span class=\"o\">&lt;</span><span class=\"n\">Object</span><span class=\"o\">&gt;</span><span class=\"w\"> </span><span class=\"n\">result</span><span class=\"w\"> </span><span class=\"o\">=</span><span class=\"w\"> </span><span class=\"n\">value_</span><span class=\"o\">-&gt;</span><span class=\"n\">run</span><span class=\"p\">(</span><span class=\"n\">scope</span><span class=\"p\">,</span><span class=\"w\"> </span><span class=\"n\">stack</span><span class=\"p\">);</span>\n",
       "\n",
       "<span class=\"w\">  </span><span class=\"n\">scope</span><span class=\"o\">-&gt;</span><span class=\"n\">assign</span><span class=\"p\">(</span><span class=\"n\">name_</span><span class=\"p\">,</span><span class=\"w\"> </span><span class=\"n\">result</span><span class=\"p\">,</span><span class=\"w\"> </span><span class=\"n\">stack</span><span class=\"p\">);</span>\n",
       "\n",
       "<span class=\"w\">  </span><span class=\"k\">return</span><span class=\"w\"> </span><span class=\"n\">result</span><span class=\"p\">;</span>\n",
       "<span class=\"p\">}</span>\n",
       "\n",
       "\n",
       "<span class=\"n\">std</span><span class=\"o\">::</span><span class=\"n\">shared_ptr</span><span class=\"o\">&lt;</span><span class=\"n\">Object</span><span class=\"o\">&gt;</span><span class=\"w\"> </span><span class=\"n\">ASTDelete</span><span class=\"o\">::</span><span class=\"n\">run</span><span class=\"p\">(</span>\n",
       "<span class=\"w\">  </span><span class=\"n\">std</span><span class=\"o\">::</span><span class=\"n\">shared_ptr</span><span class=\"o\">&lt;</span><span class=\"n\">Scope</span><span class=\"o\">&gt;</span><span class=\"w\"> </span><span class=\"n\">scope</span><span class=\"p\">,</span>\n",
       "<span class=\"w\">  </span><span class=\"n\">std</span><span class=\"o\">::</span><span class=\"n\">vector</span><span class=\"o\">&lt;</span><span class=\"n\">std</span><span class=\"o\">::</span><span class=\"n\">shared_ptr</span><span class=\"o\">&lt;</span><span class=\"n\">ASTNode</span><span class=\"o\">&gt;&gt;&amp;</span><span class=\"w\"> </span><span class=\"n\">stack</span>\n",
       "<span class=\"p\">)</span><span class=\"w\"> </span><span class=\"p\">{</span>\n",
       "<span class=\"w\">  </span><span class=\"k\">return</span><span class=\"w\"> </span><span class=\"n\">scope</span><span class=\"o\">-&gt;</span><span class=\"n\">del</span><span class=\"p\">(</span><span class=\"n\">name_</span><span class=\"p\">,</span><span class=\"w\"> </span><span class=\"n\">stack</span><span class=\"p\">);</span>\n",
       "<span class=\"p\">}</span>\n",
       "\n",
       "\n",
       "<span class=\"n\">std</span><span class=\"o\">::</span><span class=\"n\">shared_ptr</span><span class=\"o\">&lt;</span><span class=\"n\">Object</span><span class=\"o\">&gt;</span><span class=\"w\"> </span><span class=\"n\">ASTIdentifier</span><span class=\"o\">::</span><span class=\"n\">run</span><span class=\"p\">(</span>\n",
       "<span class=\"w\">  </span><span class=\"n\">std</span><span class=\"o\">::</span><span class=\"n\">shared_ptr</span><span class=\"o\">&lt;</span><span class=\"n\">Scope</span><span class=\"o\">&gt;</span><span class=\"w\"> </span><span class=\"n\">scope</span><span class=\"p\">,</span>\n",
       "<span class=\"w\">  </span><span class=\"n\">std</span><span class=\"o\">::</span><span class=\"n\">vector</span><span class=\"o\">&lt;</span><span class=\"n\">std</span><span class=\"o\">::</span><span class=\"n\">shared_ptr</span><span class=\"o\">&lt;</span><span class=\"n\">ASTNode</span><span class=\"o\">&gt;&gt;&amp;</span><span class=\"w\"> </span><span class=\"n\">stack</span>\n",
       "<span class=\"p\">)</span><span class=\"w\"> </span><span class=\"p\">{</span>\n",
       "<span class=\"w\">  </span><span class=\"k\">return</span><span class=\"w\"> </span><span class=\"n\">scope</span><span class=\"o\">-&gt;</span><span class=\"n\">get</span><span class=\"p\">(</span><span class=\"n\">name_</span><span class=\"p\">,</span><span class=\"w\"> </span><span class=\"n\">stack</span><span class=\"p\">);</span>\n",
       "<span class=\"p\">}</span>\n",
       "\n",
       "\n",
       "<span class=\"c1\">//// main function /////////////////////////////////////////////////////////</span>\n",
       "\n",
       "\n",
       "<span class=\"kt\">int</span><span class=\"w\"> </span><span class=\"n\">main</span><span class=\"p\">(</span><span class=\"kt\">int</span><span class=\"w\"> </span><span class=\"n\">argc</span><span class=\"p\">,</span><span class=\"w\"> </span><span class=\"kt\">char</span><span class=\"o\">**</span><span class=\"w\"> </span><span class=\"n\">argv</span><span class=\"p\">)</span><span class=\"w\"> </span><span class=\"p\">{</span>\n",
       "<span class=\"w\">  </span><span class=\"c1\">// create a variable Scope</span>\n",
       "<span class=\"w\">  </span><span class=\"n\">std</span><span class=\"o\">::</span><span class=\"n\">shared_ptr</span><span class=\"o\">&lt;</span><span class=\"n\">Scope</span><span class=\"o\">&gt;</span><span class=\"w\"> </span><span class=\"n\">scope</span><span class=\"w\"> </span><span class=\"o\">=</span><span class=\"w\"> </span><span class=\"n\">std</span><span class=\"o\">::</span><span class=\"n\">make_shared</span><span class=\"o\">&lt;</span><span class=\"n\">Scope</span><span class=\"o\">&gt;</span><span class=\"p\">(</span><span class=\"k\">nullptr</span><span class=\"p\">);</span>\n",
       "\n",
       "<span class=\"w\">  </span><span class=\"c1\">// and put some built-ins in it</span>\n",
       "<span class=\"w\">  </span><span class=\"n\">std</span><span class=\"o\">::</span><span class=\"n\">vector</span><span class=\"o\">&lt;</span><span class=\"n\">std</span><span class=\"o\">::</span><span class=\"n\">shared_ptr</span><span class=\"o\">&lt;</span><span class=\"n\">ASTNode</span><span class=\"o\">&gt;&gt;</span><span class=\"w\"> </span><span class=\"n\">stack</span><span class=\"p\">;</span>\n",
       "<span class=\"w\">  </span><span class=\"n\">scope</span><span class=\"o\">-&gt;</span><span class=\"n\">assign</span><span class=\"p\">(</span><span class=\"s\">&quot;add&quot;</span><span class=\"p\">,</span><span class=\"w\"> </span><span class=\"n\">std</span><span class=\"o\">::</span><span class=\"n\">make_shared</span><span class=\"o\">&lt;</span><span class=\"n\">ObjectFunctionAdd</span><span class=\"o\">&gt;</span><span class=\"p\">(),</span><span class=\"w\"> </span><span class=\"n\">stack</span><span class=\"p\">);</span>\n",
       "<span class=\"w\">  </span><span class=\"n\">scope</span><span class=\"o\">-&gt;</span><span class=\"n\">assign</span><span class=\"p\">(</span><span class=\"s\">&quot;mul&quot;</span><span class=\"p\">,</span><span class=\"w\"> </span><span class=\"n\">std</span><span class=\"o\">::</span><span class=\"n\">make_shared</span><span class=\"o\">&lt;</span><span class=\"n\">ObjectFunctionMul</span><span class=\"o\">&gt;</span><span class=\"p\">(),</span><span class=\"w\"> </span><span class=\"n\">stack</span><span class=\"p\">);</span>\n",
       "<span class=\"w\">  </span><span class=\"n\">scope</span><span class=\"o\">-&gt;</span><span class=\"n\">assign</span><span class=\"p\">(</span><span class=\"s\">&quot;get&quot;</span><span class=\"p\">,</span><span class=\"w\"> </span><span class=\"n\">std</span><span class=\"o\">::</span><span class=\"n\">make_shared</span><span class=\"o\">&lt;</span><span class=\"n\">ObjectFunctionGet</span><span class=\"o\">&gt;</span><span class=\"p\">(),</span><span class=\"w\"> </span><span class=\"n\">stack</span><span class=\"p\">);</span>\n",
       "<span class=\"w\">  </span><span class=\"n\">scope</span><span class=\"o\">-&gt;</span><span class=\"n\">assign</span><span class=\"p\">(</span><span class=\"s\">&quot;len&quot;</span><span class=\"p\">,</span><span class=\"w\"> </span><span class=\"n\">std</span><span class=\"o\">::</span><span class=\"n\">make_shared</span><span class=\"o\">&lt;</span><span class=\"n\">ObjectFunctionLen</span><span class=\"o\">&gt;</span><span class=\"p\">(),</span><span class=\"w\"> </span><span class=\"n\">stack</span><span class=\"p\">);</span>\n",
       "<span class=\"w\">  </span><span class=\"n\">scope</span><span class=\"o\">-&gt;</span><span class=\"n\">assign</span><span class=\"p\">(</span><span class=\"s\">&quot;map&quot;</span><span class=\"p\">,</span><span class=\"w\"> </span><span class=\"n\">std</span><span class=\"o\">::</span><span class=\"n\">make_shared</span><span class=\"o\">&lt;</span><span class=\"n\">ObjectFunctionMap</span><span class=\"o\">&gt;</span><span class=\"p\">(),</span><span class=\"w\"> </span><span class=\"n\">stack</span><span class=\"p\">);</span>\n",
       "<span class=\"w\">  </span><span class=\"n\">scope</span><span class=\"o\">-&gt;</span><span class=\"n\">assign</span><span class=\"p\">(</span><span class=\"s\">&quot;reduce&quot;</span><span class=\"p\">,</span><span class=\"w\"> </span><span class=\"n\">std</span><span class=\"o\">::</span><span class=\"n\">make_shared</span><span class=\"o\">&lt;</span><span class=\"n\">ObjectFunctionReduce</span><span class=\"o\">&gt;</span><span class=\"p\">(),</span><span class=\"w\"> </span><span class=\"n\">stack</span><span class=\"p\">);</span>\n",
       "\n",
       "<span class=\"w\">  </span><span class=\"c1\">// use the command-line arguments to add some data from files</span>\n",
       "<span class=\"w\">  </span><span class=\"k\">for</span><span class=\"w\"> </span><span class=\"p\">(</span><span class=\"kt\">int</span><span class=\"w\"> </span><span class=\"n\">argi</span><span class=\"w\"> </span><span class=\"o\">=</span><span class=\"w\"> </span><span class=\"mi\">1</span><span class=\"p\">;</span><span class=\"w\">  </span><span class=\"n\">argi</span><span class=\"w\"> </span><span class=\"o\">&lt;</span><span class=\"w\"> </span><span class=\"n\">argc</span><span class=\"p\">;</span><span class=\"w\">  </span><span class=\"n\">argi</span><span class=\"o\">++</span><span class=\"p\">)</span><span class=\"w\"> </span><span class=\"p\">{</span>\n",
       "<span class=\"w\">    </span><span class=\"n\">std</span><span class=\"o\">::</span><span class=\"n\">string</span><span class=\"w\"> </span><span class=\"n\">arg</span><span class=\"w\"> </span><span class=\"o\">=</span><span class=\"w\"> </span><span class=\"n\">argv</span><span class=\"p\">[</span><span class=\"n\">argi</span><span class=\"p\">];</span>\n",
       "\n",
       "<span class=\"w\">    </span><span class=\"n\">std</span><span class=\"o\">::</span><span class=\"n\">string</span><span class=\"o\">::</span><span class=\"n\">size_type</span><span class=\"w\"> </span><span class=\"n\">pos</span><span class=\"w\"> </span><span class=\"o\">=</span><span class=\"w\"> </span><span class=\"n\">arg</span><span class=\"p\">.</span><span class=\"n\">find</span><span class=\"p\">(</span><span class=\"sc\">&#39;=&#39;</span><span class=\"p\">);</span>\n",
       "<span class=\"w\">    </span><span class=\"k\">if</span><span class=\"w\"> </span><span class=\"p\">(</span><span class=\"n\">arg</span><span class=\"p\">.</span><span class=\"n\">find</span><span class=\"p\">(</span><span class=\"sc\">&#39;=&#39;</span><span class=\"p\">)</span><span class=\"w\"> </span><span class=\"o\">==</span><span class=\"w\"> </span><span class=\"n\">std</span><span class=\"o\">::</span><span class=\"n\">string</span><span class=\"o\">::</span><span class=\"n\">npos</span><span class=\"p\">)</span><span class=\"w\"> </span><span class=\"p\">{</span>\n",
       "<span class=\"w\">      </span><span class=\"n\">std</span><span class=\"o\">::</span><span class=\"n\">cout</span><span class=\"w\"> </span><span class=\"o\">&lt;&lt;</span><span class=\"w\"> </span><span class=\"s\">&quot;arguments must be separated by &#39;=&#39;, as in: data=/path/to/data.int32&quot;</span><span class=\"w\"> </span><span class=\"o\">&lt;&lt;</span><span class=\"w\"> </span><span class=\"n\">std</span><span class=\"o\">::</span><span class=\"n\">endl</span><span class=\"p\">;</span>\n",
       "<span class=\"w\">      </span><span class=\"k\">return</span><span class=\"w\"> </span><span class=\"mi\">-1</span><span class=\"p\">;</span>\n",
       "<span class=\"w\">    </span><span class=\"p\">}</span>\n",
       "\n",
       "<span class=\"w\">    </span><span class=\"n\">std</span><span class=\"o\">::</span><span class=\"n\">string</span><span class=\"w\"> </span><span class=\"n\">var_name</span><span class=\"w\"> </span><span class=\"o\">=</span><span class=\"w\"> </span><span class=\"n\">arg</span><span class=\"p\">.</span><span class=\"n\">substr</span><span class=\"p\">(</span><span class=\"mi\">0</span><span class=\"p\">,</span><span class=\"w\"> </span><span class=\"n\">pos</span><span class=\"p\">);</span>\n",
       "<span class=\"w\">    </span><span class=\"n\">std</span><span class=\"o\">::</span><span class=\"n\">string</span><span class=\"w\"> </span><span class=\"n\">file_name</span><span class=\"w\"> </span><span class=\"o\">=</span><span class=\"w\"> </span><span class=\"n\">arg</span><span class=\"p\">.</span><span class=\"n\">substr</span><span class=\"p\">(</span><span class=\"n\">pos</span><span class=\"w\"> </span><span class=\"o\">+</span><span class=\"w\"> </span><span class=\"mi\">1</span><span class=\"p\">,</span><span class=\"w\"> </span><span class=\"mi\">-1</span><span class=\"p\">);</span>\n",
       "\n",
       "<span class=\"w\">    </span><span class=\"n\">std</span><span class=\"o\">::</span><span class=\"n\">ifstream</span><span class=\"w\"> </span><span class=\"nf\">file</span><span class=\"p\">(</span><span class=\"n\">file_name</span><span class=\"p\">,</span><span class=\"w\"> </span><span class=\"n\">std</span><span class=\"o\">::</span><span class=\"n\">ios</span><span class=\"o\">::</span><span class=\"n\">binary</span><span class=\"p\">);</span>\n",
       "<span class=\"w\">    </span><span class=\"k\">if</span><span class=\"w\"> </span><span class=\"p\">(</span><span class=\"o\">!</span><span class=\"n\">file</span><span class=\"p\">)</span><span class=\"w\"> </span><span class=\"p\">{</span>\n",
       "<span class=\"w\">      </span><span class=\"n\">std</span><span class=\"o\">::</span><span class=\"n\">cout</span><span class=\"w\"> </span><span class=\"o\">&lt;&lt;</span><span class=\"w\"> </span><span class=\"s\">&quot;could not open file: &quot;</span><span class=\"w\"> </span><span class=\"o\">&lt;&lt;</span><span class=\"w\"> </span><span class=\"n\">file_name</span><span class=\"w\"> </span><span class=\"o\">&lt;&lt;</span><span class=\"w\"> </span><span class=\"n\">std</span><span class=\"o\">::</span><span class=\"n\">endl</span><span class=\"p\">;</span>\n",
       "<span class=\"w\">      </span><span class=\"k\">return</span><span class=\"w\"> </span><span class=\"mi\">-1</span><span class=\"p\">;</span>\n",
       "<span class=\"w\">    </span><span class=\"p\">}</span>\n",
       "\n",
       "<span class=\"w\">    </span><span class=\"n\">std</span><span class=\"o\">::</span><span class=\"n\">vector</span><span class=\"o\">&lt;</span><span class=\"n\">std</span><span class=\"o\">::</span><span class=\"n\">shared_ptr</span><span class=\"o\">&lt;</span><span class=\"n\">Object</span><span class=\"o\">&gt;&gt;</span><span class=\"w\"> </span><span class=\"n\">values</span><span class=\"p\">;</span>\n",
       "<span class=\"w\">    </span><span class=\"kt\">int32_t</span><span class=\"w\"> </span><span class=\"n\">raw</span><span class=\"p\">;</span>\n",
       "<span class=\"w\">    </span><span class=\"k\">while</span><span class=\"w\"> </span><span class=\"p\">(</span><span class=\"n\">file</span><span class=\"p\">.</span><span class=\"n\">read</span><span class=\"p\">(</span><span class=\"k\">reinterpret_cast</span><span class=\"o\">&lt;</span><span class=\"kt\">char</span><span class=\"o\">*&gt;</span><span class=\"p\">(</span><span class=\"o\">&amp;</span><span class=\"n\">raw</span><span class=\"p\">),</span><span class=\"w\"> </span><span class=\"k\">sizeof</span><span class=\"p\">(</span><span class=\"n\">raw</span><span class=\"p\">)))</span><span class=\"w\"> </span><span class=\"p\">{</span>\n",
       "<span class=\"w\">      </span><span class=\"n\">values</span><span class=\"p\">.</span><span class=\"n\">push_back</span><span class=\"p\">(</span><span class=\"n\">std</span><span class=\"o\">::</span><span class=\"n\">make_shared</span><span class=\"o\">&lt;</span><span class=\"n\">ObjectInt</span><span class=\"o\">&gt;</span><span class=\"p\">(</span><span class=\"n\">raw</span><span class=\"p\">));</span>\n",
       "<span class=\"w\">    </span><span class=\"p\">}</span>\n",
       "\n",
       "<span class=\"w\">    </span><span class=\"n\">file</span><span class=\"p\">.</span><span class=\"n\">close</span><span class=\"p\">();</span>\n",
       "\n",
       "<span class=\"w\">    </span><span class=\"n\">scope</span><span class=\"o\">-&gt;</span><span class=\"n\">assign</span><span class=\"p\">(</span><span class=\"n\">var_name</span><span class=\"p\">,</span><span class=\"w\"> </span><span class=\"n\">std</span><span class=\"o\">::</span><span class=\"n\">make_shared</span><span class=\"o\">&lt;</span><span class=\"n\">ObjectList</span><span class=\"o\">&gt;</span><span class=\"p\">(</span><span class=\"n\">values</span><span class=\"p\">),</span><span class=\"w\"> </span><span class=\"n\">stack</span><span class=\"p\">);</span>\n",
       "<span class=\"w\">  </span><span class=\"p\">}</span>\n",
       "\n",
       "<span class=\"w\">  </span><span class=\"c1\">// baby-python startup screen!</span>\n",
       "<span class=\"w\">  </span><span class=\"n\">std</span><span class=\"o\">::</span><span class=\"n\">cout</span><span class=\"w\"> </span><span class=\"o\">&lt;&lt;</span><span class=\"w\"> </span><span class=\"s\">&quot;                     num = -123        add(x, x)   get(lst, i)   map(f, lst)&quot;</span><span class=\"w\"> </span><span class=\"o\">&lt;&lt;</span><span class=\"w\"> </span><span class=\"n\">std</span><span class=\"o\">::</span><span class=\"n\">endl</span><span class=\"p\">;</span>\n",
       "<span class=\"w\">  </span><span class=\"n\">std</span><span class=\"o\">::</span><span class=\"n\">cout</span><span class=\"w\"> </span><span class=\"o\">&lt;&lt;</span><span class=\"w\"> </span><span class=\"s\">&quot;               oo    lst = [1, 2, 3]   mul(x, x)   len(lst)      reduce(f, lst)&quot;</span><span class=\"w\"> </span><span class=\"o\">&lt;&lt;</span><span class=\"w\"> </span><span class=\"n\">std</span><span class=\"o\">::</span><span class=\"n\">endl</span><span class=\"p\">;</span>\n",
       "<span class=\"w\">  </span><span class=\"n\">std</span><span class=\"o\">::</span><span class=\"n\">cout</span><span class=\"w\"> </span><span class=\"o\">&lt;&lt;</span><span class=\"w\"> </span><span class=\"s\">&quot;. . . __/</span><span class=\"se\">\\\\</span><span class=\"s\">_/</span><span class=\"se\">\\\\</span><span class=\"s\">_/`&#39;    f = def(x) single-expr   f = def(x, y) { ... ; last-expr }&quot;</span><span class=\"w\"> </span><span class=\"o\">&lt;&lt;</span><span class=\"w\"> </span><span class=\"n\">std</span><span class=\"o\">::</span><span class=\"n\">endl</span><span class=\"p\">;</span>\n",
       "<span class=\"w\">  </span><span class=\"n\">std</span><span class=\"o\">::</span><span class=\"n\">cout</span><span class=\"w\"> </span><span class=\"o\">&lt;&lt;</span><span class=\"w\"> </span><span class=\"n\">std</span><span class=\"o\">::</span><span class=\"n\">endl</span><span class=\"p\">;</span>\n",
       "\n",
       "<span class=\"w\">  </span><span class=\"c1\">// start the REPL (Read Evaluate Print Loop)</span>\n",
       "<span class=\"w\">  </span><span class=\"k\">while</span><span class=\"w\"> </span><span class=\"p\">(</span><span class=\"nb\">true</span><span class=\"p\">)</span><span class=\"w\"> </span><span class=\"p\">{</span>\n",
       "<span class=\"w\">    </span><span class=\"n\">std</span><span class=\"o\">::</span><span class=\"n\">string</span><span class=\"w\"> </span><span class=\"n\">line</span><span class=\"p\">;</span>\n",
       "<span class=\"w\">    </span><span class=\"n\">std</span><span class=\"o\">::</span><span class=\"n\">cout</span><span class=\"w\"> </span><span class=\"o\">&lt;&lt;</span><span class=\"w\"> </span><span class=\"s\">&quot;&gt;&gt; &quot;</span><span class=\"p\">;</span>\n",
       "<span class=\"w\">    </span><span class=\"k\">if</span><span class=\"w\"> </span><span class=\"p\">(</span><span class=\"o\">!</span><span class=\"n\">std</span><span class=\"o\">::</span><span class=\"n\">getline</span><span class=\"p\">(</span><span class=\"n\">std</span><span class=\"o\">::</span><span class=\"n\">cin</span><span class=\"p\">,</span><span class=\"w\"> </span><span class=\"n\">line</span><span class=\"p\">))</span><span class=\"w\"> </span><span class=\"p\">{</span>\n",
       "<span class=\"w\">      </span><span class=\"n\">std</span><span class=\"o\">::</span><span class=\"n\">cout</span><span class=\"w\"> </span><span class=\"o\">&lt;&lt;</span><span class=\"w\"> </span><span class=\"n\">std</span><span class=\"o\">::</span><span class=\"n\">endl</span><span class=\"p\">;</span>\n",
       "<span class=\"w\">      </span><span class=\"k\">break</span><span class=\"p\">;</span>\n",
       "<span class=\"w\">    </span><span class=\"p\">}</span>\n",
       "\n",
       "<span class=\"w\">    </span><span class=\"c1\">// parse the line in two steps</span>\n",
       "<span class=\"w\">    </span><span class=\"n\">std</span><span class=\"o\">::</span><span class=\"n\">vector</span><span class=\"o\">&lt;</span><span class=\"n\">PosToken</span><span class=\"o\">&gt;</span><span class=\"w\"> </span><span class=\"n\">tokens</span><span class=\"p\">;</span>\n",
       "<span class=\"w\">    </span><span class=\"kt\">int</span><span class=\"w\"> </span><span class=\"n\">i</span><span class=\"w\"> </span><span class=\"o\">=</span><span class=\"w\"> </span><span class=\"mi\">0</span><span class=\"p\">;</span>\n",
       "<span class=\"w\">    </span><span class=\"n\">std</span><span class=\"o\">::</span><span class=\"n\">shared_ptr</span><span class=\"o\">&lt;</span><span class=\"n\">ASTNode</span><span class=\"o\">&gt;</span><span class=\"w\"> </span><span class=\"n\">ast</span><span class=\"p\">;</span>\n",
       "<span class=\"w\">    </span><span class=\"k\">try</span><span class=\"w\"> </span><span class=\"p\">{</span>\n",
       "<span class=\"w\">      </span><span class=\"c1\">// (1) break the whole string into a list of tokens</span>\n",
       "<span class=\"w\">      </span><span class=\"n\">tokens</span><span class=\"w\"> </span><span class=\"o\">=</span><span class=\"w\"> </span><span class=\"n\">tokenize</span><span class=\"p\">(</span><span class=\"n\">line</span><span class=\"p\">);</span>\n",
       "<span class=\"w\">      </span><span class=\"c1\">// (2) build an AST tree from the tokens</span>\n",
       "<span class=\"w\">      </span><span class=\"n\">ast</span><span class=\"w\"> </span><span class=\"o\">=</span><span class=\"w\"> </span><span class=\"n\">parse</span><span class=\"p\">(</span><span class=\"n\">i</span><span class=\"p\">,</span><span class=\"w\"> </span><span class=\"n\">tokens</span><span class=\"p\">,</span><span class=\"w\"> </span><span class=\"n\">line</span><span class=\"p\">);</span>\n",
       "<span class=\"w\">    </span><span class=\"p\">}</span>\n",
       "<span class=\"w\">    </span><span class=\"k\">catch</span><span class=\"w\"> </span><span class=\"p\">(</span><span class=\"n\">std</span><span class=\"o\">::</span><span class=\"n\">runtime_error</span><span class=\"w\"> </span><span class=\"k\">const</span><span class=\"o\">&amp;</span><span class=\"w\"> </span><span class=\"n\">exception</span><span class=\"p\">)</span><span class=\"w\"> </span><span class=\"p\">{</span>\n",
       "<span class=\"w\">      </span><span class=\"c1\">// syntax error while tokenizing or building AST</span>\n",
       "<span class=\"w\">      </span><span class=\"n\">std</span><span class=\"o\">::</span><span class=\"n\">cout</span><span class=\"w\"> </span><span class=\"o\">&lt;&lt;</span><span class=\"w\"> </span><span class=\"n\">exception</span><span class=\"p\">.</span><span class=\"n\">what</span><span class=\"p\">()</span><span class=\"w\"> </span><span class=\"o\">&lt;&lt;</span><span class=\"w\"> </span><span class=\"n\">std</span><span class=\"o\">::</span><span class=\"n\">endl</span><span class=\"p\">;</span>\n",
       "<span class=\"w\">    </span><span class=\"p\">}</span>\n",
       "\n",
       "<span class=\"w\">    </span><span class=\"k\">if</span><span class=\"w\"> </span><span class=\"p\">(</span><span class=\"n\">tokens</span><span class=\"p\">.</span><span class=\"n\">size</span><span class=\"p\">()</span><span class=\"w\"> </span><span class=\"o\">==</span><span class=\"w\"> </span><span class=\"mi\">1</span><span class=\"w\">  </span><span class=\"o\">&amp;&amp;</span><span class=\"w\">  </span><span class=\"n\">tokens</span><span class=\"p\">[</span><span class=\"mi\">0</span><span class=\"p\">].</span><span class=\"n\">second</span><span class=\"w\"> </span><span class=\"o\">==</span><span class=\"w\"> </span><span class=\"s\">&quot;exit&quot;</span><span class=\"p\">)</span><span class=\"w\"> </span><span class=\"p\">{</span>\n",
       "<span class=\"w\">      </span><span class=\"k\">break</span><span class=\"p\">;</span>\n",
       "<span class=\"w\">    </span><span class=\"p\">}</span>\n",
       "\n",
       "<span class=\"w\">    </span><span class=\"k\">if</span><span class=\"w\"> </span><span class=\"p\">(</span><span class=\"n\">ast</span><span class=\"p\">)</span><span class=\"w\"> </span><span class=\"p\">{</span>\n",
       "<span class=\"w\">      </span><span class=\"k\">if</span><span class=\"w\"> </span><span class=\"p\">(</span><span class=\"n\">i</span><span class=\"w\"> </span><span class=\"o\">&lt;</span><span class=\"w\"> </span><span class=\"n\">tokens</span><span class=\"p\">.</span><span class=\"n\">size</span><span class=\"p\">())</span><span class=\"w\"> </span><span class=\"p\">{</span>\n",
       "<span class=\"w\">        </span><span class=\"c1\">// unused tokens after building a whole AST is an error</span>\n",
       "<span class=\"w\">        </span><span class=\"n\">std</span><span class=\"o\">::</span><span class=\"n\">cout</span><span class=\"w\"> </span><span class=\"o\">&lt;&lt;</span><span class=\"w\"> </span><span class=\"n\">error_arrow</span><span class=\"p\">(</span><span class=\"n\">tokens</span><span class=\"p\">[</span><span class=\"n\">i</span><span class=\"p\">].</span><span class=\"n\">first</span><span class=\"p\">);</span>\n",
       "<span class=\"w\">        </span><span class=\"n\">std</span><span class=\"o\">::</span><span class=\"n\">cout</span><span class=\"w\"> </span><span class=\"o\">&lt;&lt;</span><span class=\"w\"> </span><span class=\"s\">&quot;complete expression, but line doesn&#39;t end&quot;</span><span class=\"w\"> </span><span class=\"o\">&lt;&lt;</span><span class=\"w\"> </span><span class=\"n\">std</span><span class=\"o\">::</span><span class=\"n\">endl</span><span class=\"p\">;</span>\n",
       "<span class=\"w\">      </span><span class=\"p\">}</span>\n",
       "\n",
       "<span class=\"w\">      </span><span class=\"k\">else</span><span class=\"w\"> </span><span class=\"p\">{</span>\n",
       "<span class=\"w\">        </span><span class=\"c1\">// create a new stack and attempt to run the AST</span>\n",
       "<span class=\"w\">        </span><span class=\"n\">std</span><span class=\"o\">::</span><span class=\"n\">vector</span><span class=\"o\">&lt;</span><span class=\"n\">std</span><span class=\"o\">::</span><span class=\"n\">shared_ptr</span><span class=\"o\">&lt;</span><span class=\"n\">ASTNode</span><span class=\"o\">&gt;&gt;</span><span class=\"w\"> </span><span class=\"n\">stack</span><span class=\"p\">;</span>\n",
       "<span class=\"w\">        </span><span class=\"n\">std</span><span class=\"o\">::</span><span class=\"n\">shared_ptr</span><span class=\"o\">&lt;</span><span class=\"n\">Object</span><span class=\"o\">&gt;</span><span class=\"w\"> </span><span class=\"n\">result</span><span class=\"p\">(</span><span class=\"k\">nullptr</span><span class=\"p\">);</span>\n",
       "\n",
       "<span class=\"w\">        </span><span class=\"k\">auto</span><span class=\"w\"> </span><span class=\"n\">start</span><span class=\"w\"> </span><span class=\"o\">=</span><span class=\"w\"> </span><span class=\"n\">std</span><span class=\"o\">::</span><span class=\"n\">chrono</span><span class=\"o\">::</span><span class=\"n\">high_resolution_clock</span><span class=\"o\">::</span><span class=\"n\">now</span><span class=\"p\">();</span>\n",
       "\n",
       "<span class=\"w\">        </span><span class=\"k\">try</span><span class=\"w\"> </span><span class=\"p\">{</span>\n",
       "<span class=\"w\">          </span><span class=\"n\">result</span><span class=\"w\"> </span><span class=\"o\">=</span><span class=\"w\"> </span><span class=\"n\">ast</span><span class=\"o\">-&gt;</span><span class=\"n\">run</span><span class=\"p\">(</span><span class=\"n\">scope</span><span class=\"p\">,</span><span class=\"w\"> </span><span class=\"n\">stack</span><span class=\"p\">);</span>\n",
       "<span class=\"w\">        </span><span class=\"p\">}</span>\n",
       "<span class=\"w\">        </span><span class=\"k\">catch</span><span class=\"w\"> </span><span class=\"p\">(</span><span class=\"n\">std</span><span class=\"o\">::</span><span class=\"n\">runtime_error</span><span class=\"w\"> </span><span class=\"k\">const</span><span class=\"o\">&amp;</span><span class=\"w\"> </span><span class=\"n\">exception</span><span class=\"p\">)</span><span class=\"w\"> </span><span class=\"p\">{</span>\n",
       "<span class=\"w\">          </span><span class=\"n\">std</span><span class=\"o\">::</span><span class=\"n\">cout</span><span class=\"w\"> </span><span class=\"o\">&lt;&lt;</span><span class=\"w\"> </span><span class=\"n\">exception</span><span class=\"p\">.</span><span class=\"n\">what</span><span class=\"p\">()</span><span class=\"w\"> </span><span class=\"o\">&lt;&lt;</span><span class=\"w\"> </span><span class=\"n\">std</span><span class=\"o\">::</span><span class=\"n\">endl</span><span class=\"p\">;</span>\n",
       "<span class=\"w\">        </span><span class=\"p\">}</span>\n",
       "\n",
       "<span class=\"w\">        </span><span class=\"k\">auto</span><span class=\"w\"> </span><span class=\"n\">stop</span><span class=\"w\"> </span><span class=\"o\">=</span><span class=\"w\"> </span><span class=\"n\">std</span><span class=\"o\">::</span><span class=\"n\">chrono</span><span class=\"o\">::</span><span class=\"n\">high_resolution_clock</span><span class=\"o\">::</span><span class=\"n\">now</span><span class=\"p\">();</span>\n",
       "<span class=\"w\">        </span><span class=\"n\">std</span><span class=\"o\">::</span><span class=\"n\">chrono</span><span class=\"o\">::</span><span class=\"n\">duration</span><span class=\"o\">&lt;</span><span class=\"kt\">double</span><span class=\"o\">&gt;</span><span class=\"w\"> </span><span class=\"n\">duration</span><span class=\"w\"> </span><span class=\"o\">=</span><span class=\"w\"> </span><span class=\"n\">stop</span><span class=\"w\"> </span><span class=\"o\">-</span><span class=\"w\"> </span><span class=\"n\">start</span><span class=\"p\">;</span>\n",
       "\n",
       "<span class=\"w\">        </span><span class=\"k\">if</span><span class=\"w\"> </span><span class=\"p\">(</span><span class=\"n\">result</span><span class=\"p\">)</span><span class=\"w\"> </span><span class=\"p\">{</span>\n",
       "<span class=\"w\">          </span><span class=\"c1\">// execution was successful! print the result!</span>\n",
       "<span class=\"w\">          </span><span class=\"kt\">int</span><span class=\"w\"> </span><span class=\"n\">remaining</span><span class=\"w\"> </span><span class=\"o\">=</span><span class=\"w\"> </span><span class=\"n\">MAX_REPR</span><span class=\"p\">;</span>\n",
       "<span class=\"w\">          </span><span class=\"n\">std</span><span class=\"o\">::</span><span class=\"n\">string</span><span class=\"w\"> </span><span class=\"n\">repr</span><span class=\"w\"> </span><span class=\"o\">=</span><span class=\"w\"> </span><span class=\"n\">result</span><span class=\"o\">-&gt;</span><span class=\"n\">repr</span><span class=\"p\">(</span><span class=\"n\">remaining</span><span class=\"p\">);</span>\n",
       "<span class=\"w\">          </span><span class=\"k\">if</span><span class=\"w\"> </span><span class=\"p\">(</span><span class=\"n\">repr</span><span class=\"p\">.</span><span class=\"n\">size</span><span class=\"p\">()</span><span class=\"w\"> </span><span class=\"o\">&gt;</span><span class=\"w\"> </span><span class=\"n\">MAX_REPR</span><span class=\"p\">)</span><span class=\"w\"> </span><span class=\"p\">{</span>\n",
       "<span class=\"w\">            </span><span class=\"n\">repr</span><span class=\"w\"> </span><span class=\"o\">=</span><span class=\"w\"> </span><span class=\"n\">repr</span><span class=\"p\">.</span><span class=\"n\">substr</span><span class=\"p\">(</span><span class=\"mi\">0</span><span class=\"p\">,</span><span class=\"w\"> </span><span class=\"n\">MAX_REPR</span><span class=\"w\"> </span><span class=\"o\">-</span><span class=\"w\"> </span><span class=\"mi\">3</span><span class=\"p\">)</span><span class=\"w\"> </span><span class=\"o\">+</span><span class=\"w\"> </span><span class=\"s\">&quot;...&quot;</span><span class=\"p\">;</span>\n",
       "<span class=\"w\">          </span><span class=\"p\">}</span>\n",
       "<span class=\"w\">          </span><span class=\"n\">std</span><span class=\"o\">::</span><span class=\"n\">cout</span><span class=\"w\"> </span><span class=\"o\">&lt;&lt;</span><span class=\"w\"> </span><span class=\"n\">repr</span><span class=\"w\"> </span><span class=\"o\">&lt;&lt;</span><span class=\"w\"> </span><span class=\"n\">std</span><span class=\"o\">::</span><span class=\"n\">endl</span><span class=\"p\">;</span>\n",
       "<span class=\"w\">          </span><span class=\"n\">std</span><span class=\"o\">::</span><span class=\"n\">cout</span><span class=\"w\"> </span><span class=\"o\">&lt;&lt;</span><span class=\"w\"> </span><span class=\"s\">&quot;(&quot;</span><span class=\"w\"> </span><span class=\"o\">&lt;&lt;</span><span class=\"w\"> </span><span class=\"n\">duration</span><span class=\"p\">.</span><span class=\"n\">count</span><span class=\"p\">()</span><span class=\"w\"> </span><span class=\"o\">&lt;&lt;</span><span class=\"w\"> </span><span class=\"s\">&quot; seconds)&quot;</span><span class=\"w\"> </span><span class=\"o\">&lt;&lt;</span><span class=\"w\"> </span><span class=\"n\">std</span><span class=\"o\">::</span><span class=\"n\">endl</span><span class=\"p\">;</span>\n",
       "<span class=\"w\">        </span><span class=\"p\">}</span>\n",
       "\n",
       "<span class=\"w\">      </span><span class=\"p\">}</span>\n",
       "<span class=\"w\">    </span><span class=\"p\">}</span>\n",
       "<span class=\"w\">  </span><span class=\"p\">}</span>\n",
       "\n",
       "<span class=\"w\">  </span><span class=\"k\">return</span><span class=\"w\"> </span><span class=\"mi\">0</span><span class=\"p\">;</span>\n",
       "<span class=\"p\">}</span>\n",
       "\n",
       "\n",
       "<span class=\"c1\">//// The end!</span>\n",
       "</pre></div>\n"
      ],
      "text/plain": [
       "<IPython.core.display.HTML object>"
      ]
     },
     "metadata": {},
     "output_type": "display_data"
    }
   ],
   "source": [
    "with open(\"baby-python.cpp\") as file:\n",
    "    display(HTML(highlight(file.read(), CppLexer(), HtmlFormatter())))"
   ]
  },
  {
   "cell_type": "markdown",
   "id": "139fd861-ac43-402c-ae33-0a1e55794ba6",
   "metadata": {
    "editable": true,
    "slideshow": {
     "slide_type": "slide"
    },
    "tags": []
   },
   "source": [
    "Similarly in Python:\n",
    "\n",
    "* variables are in a `dict[str, object]`"
   ]
  },
  {
   "cell_type": "markdown",
   "id": "43f7bc68-6010-4d27-a06f-90217b698e35",
   "metadata": {
    "editable": true,
    "slideshow": {
     "slide_type": ""
    },
    "tags": []
   },
   "source": [
    "<br>"
   ]
  },
  {
   "cell_type": "code",
   "execution_count": 19,
   "id": "01e8cf50-d9ff-4104-b8a9-7296e4203b16",
   "metadata": {
    "editable": true,
    "slideshow": {
     "slide_type": ""
    },
    "tags": []
   },
   "outputs": [
    {
     "data": {
      "text/plain": [
       "{'__name__': '__main__',\n",
       " '__doc__': 'Automatically created module for IPython interactive environment',\n",
       " '__package__': None,\n",
       " '__loader__': None,\n",
       " '__spec__': None,\n",
       " '__builtin__': <module 'builtins' (built-in)>,\n",
       " '__builtins__': <module 'builtins' (built-in)>,\n",
       " '_ih': ['',\n",
       "  \"get_ipython().run_cell_magic('html', '', '\\\\n<style>\\\\n.jp-MarkdownOutput {\\\\n    font-size: 2.5em !important;\\\\n}\\\\n.jp-MarkdownOutput table {\\\\n    font-size: 1em !important;\\\\n}\\\\n.jp-OutputArea-output pre {\\\\n    font-size: 2em !important;\\\\n}\\\\n.cm-content {\\\\n    font-size: 2em !important;\\\\n}\\\\n.page-id-xx, html {\\\\n    scrollbar-width: none; /* FF */\\\\n}\\\\n::-webkit-scrollbar {\\\\n    width: 0px; /* Chrome & Edge */\\\\n}\\\\n.jp-Notebook.jp-mod-commandMode .jp-Cell.jp-mod-selected {\\\\n    background: none;\\\\n}\\\\n</style>\\\\n')\",\n",
       "  'import numpy as np',\n",
       "  'million_integers = np.random.normal(0, 10, 1_000_000).astype(np.int32)\\nmillion_integers',\n",
       "  'def addthem_python(data):\\n    out = 0\\n    for x in data:\\n        out += x\\n    return out',\n",
       "  \"get_ipython().run_cell_magic('writefile', 'addthem.c', '\\\\nint run(int* data) {\\\\n    int out = 0;\\\\n    for (int i = 0;  i < 1000000;  i++) {\\\\n        out += data[i];\\\\n    }\\\\n    return out;\\\\n}\\\\n')\",\n",
       "  \"get_ipython().system('cc -O0 -shared addthem.c -o libaddthem_attempt1.so')\",\n",
       "  'import ctypes',\n",
       "  'libaddthem = ctypes.cdll.LoadLibrary(\"./libaddthem_attempt1.so\")\\npointer_to_ints = ctypes.POINTER(ctypes.c_int)\\nlibaddthem.run.argtypes = (pointer_to_ints,)\\nlibaddthem.run.restype = ctypes.c_int',\n",
       "  'addthem_python(million_integers)',\n",
       "  'libaddthem.run(million_integers.ctypes.data_as(pointer_to_ints))',\n",
       "  \"get_ipython().run_cell_magic('timeit', '', '\\\\naddthem_python(million_integers)\\\\n')\",\n",
       "  \"get_ipython().run_cell_magic('timeit', '', '\\\\nlibaddthem.run(million_integers.ctypes.data_as(pointer_to_ints))\\\\n')\",\n",
       "  \"get_ipython().system('c++ -std=c++11 -O3 baby-python.cpp -o baby-python')\",\n",
       "  \"get_ipython().run_cell_magic('bash', '', '\\\\n./baby-python <<EOF\\\\n123\\\\nadd(3, 5)\\\\nsquare_them = def(x) mul(x, x)\\\\nmap(square_them, [1, 2, 3, 4, 5])\\\\nEOF\\\\n')\",\n",
       "  'million_integers.tofile(\"million_integers.int32\")',\n",
       "  \"get_ipython().run_cell_magic('bash', '', '\\\\n./baby-python data=million_integers.int32 <<EOF\\\\nreduce(add, data)\\\\nreduce(add, data)\\\\nreduce(add, data)\\\\nEOF\\\\n')\",\n",
       "  'from pygments import highlight\\nfrom pygments.lexers import CppLexer\\nfrom pygments.formatters import HtmlFormatter\\nfrom IPython.display import display, HTML',\n",
       "  'with open(\"baby-python.cpp\") as file:\\n    display(HTML(highlight(file.read(), CppLexer(), HtmlFormatter())))',\n",
       "  'globals()'],\n",
       " '_oh': {3: array([ 13,   0,  10, ..., -18,   0,  22], shape=(1000000,), dtype=int32),\n",
       "  9: np.int32(4328),\n",
       "  10: 4328},\n",
       " '_dh': [PosixPath('/notebooks/develop')],\n",
       " 'In': ['',\n",
       "  \"get_ipython().run_cell_magic('html', '', '\\\\n<style>\\\\n.jp-MarkdownOutput {\\\\n    font-size: 2.5em !important;\\\\n}\\\\n.jp-MarkdownOutput table {\\\\n    font-size: 1em !important;\\\\n}\\\\n.jp-OutputArea-output pre {\\\\n    font-size: 2em !important;\\\\n}\\\\n.cm-content {\\\\n    font-size: 2em !important;\\\\n}\\\\n.page-id-xx, html {\\\\n    scrollbar-width: none; /* FF */\\\\n}\\\\n::-webkit-scrollbar {\\\\n    width: 0px; /* Chrome & Edge */\\\\n}\\\\n.jp-Notebook.jp-mod-commandMode .jp-Cell.jp-mod-selected {\\\\n    background: none;\\\\n}\\\\n</style>\\\\n')\",\n",
       "  'import numpy as np',\n",
       "  'million_integers = np.random.normal(0, 10, 1_000_000).astype(np.int32)\\nmillion_integers',\n",
       "  'def addthem_python(data):\\n    out = 0\\n    for x in data:\\n        out += x\\n    return out',\n",
       "  \"get_ipython().run_cell_magic('writefile', 'addthem.c', '\\\\nint run(int* data) {\\\\n    int out = 0;\\\\n    for (int i = 0;  i < 1000000;  i++) {\\\\n        out += data[i];\\\\n    }\\\\n    return out;\\\\n}\\\\n')\",\n",
       "  \"get_ipython().system('cc -O0 -shared addthem.c -o libaddthem_attempt1.so')\",\n",
       "  'import ctypes',\n",
       "  'libaddthem = ctypes.cdll.LoadLibrary(\"./libaddthem_attempt1.so\")\\npointer_to_ints = ctypes.POINTER(ctypes.c_int)\\nlibaddthem.run.argtypes = (pointer_to_ints,)\\nlibaddthem.run.restype = ctypes.c_int',\n",
       "  'addthem_python(million_integers)',\n",
       "  'libaddthem.run(million_integers.ctypes.data_as(pointer_to_ints))',\n",
       "  \"get_ipython().run_cell_magic('timeit', '', '\\\\naddthem_python(million_integers)\\\\n')\",\n",
       "  \"get_ipython().run_cell_magic('timeit', '', '\\\\nlibaddthem.run(million_integers.ctypes.data_as(pointer_to_ints))\\\\n')\",\n",
       "  \"get_ipython().system('c++ -std=c++11 -O3 baby-python.cpp -o baby-python')\",\n",
       "  \"get_ipython().run_cell_magic('bash', '', '\\\\n./baby-python <<EOF\\\\n123\\\\nadd(3, 5)\\\\nsquare_them = def(x) mul(x, x)\\\\nmap(square_them, [1, 2, 3, 4, 5])\\\\nEOF\\\\n')\",\n",
       "  'million_integers.tofile(\"million_integers.int32\")',\n",
       "  \"get_ipython().run_cell_magic('bash', '', '\\\\n./baby-python data=million_integers.int32 <<EOF\\\\nreduce(add, data)\\\\nreduce(add, data)\\\\nreduce(add, data)\\\\nEOF\\\\n')\",\n",
       "  'from pygments import highlight\\nfrom pygments.lexers import CppLexer\\nfrom pygments.formatters import HtmlFormatter\\nfrom IPython.display import display, HTML',\n",
       "  'with open(\"baby-python.cpp\") as file:\\n    display(HTML(highlight(file.read(), CppLexer(), HtmlFormatter())))',\n",
       "  'globals()'],\n",
       " 'Out': {3: array([ 13,   0,  10, ..., -18,   0,  22], shape=(1000000,), dtype=int32),\n",
       "  9: np.int32(4328),\n",
       "  10: 4328},\n",
       " 'get_ipython': <bound method InteractiveShell.get_ipython of <ipykernel.zmqshell.ZMQInteractiveShell object at 0x72bb8c0e9220>>,\n",
       " 'exit': <IPython.core.autocall.ZMQExitAutocall at 0x72bb8c114b60>,\n",
       " 'quit': <IPython.core.autocall.ZMQExitAutocall at 0x72bb8c114b60>,\n",
       " 'open': <function _io.open(file, mode='r', buffering=-1, encoding=None, errors=None, newline=None, closefd=True, opener=None)>,\n",
       " '_': 4328,\n",
       " '__': np.int32(4328),\n",
       " '___': array([ 13,   0,  10, ..., -18,   0,  22], shape=(1000000,), dtype=int32),\n",
       " '__session__': '/notebooks/develop/presentation.ipynb',\n",
       " '_i': 'with open(\"baby-python.cpp\") as file:\\n    display(HTML(highlight(file.read(), CppLexer(), HtmlFormatter())))',\n",
       " '_ii': 'from pygments import highlight\\nfrom pygments.lexers import CppLexer\\nfrom pygments.formatters import HtmlFormatter\\nfrom IPython.display import display, HTML',\n",
       " '_iii': '%%bash\\n\\n./baby-python data=million_integers.int32 <<EOF\\nreduce(add, data)\\nreduce(add, data)\\nreduce(add, data)\\nEOF',\n",
       " '_i1': '%%html\\n\\n<style>\\n.jp-MarkdownOutput {\\n    font-size: 2.5em !important;\\n}\\n.jp-MarkdownOutput table {\\n    font-size: 1em !important;\\n}\\n.jp-OutputArea-output pre {\\n    font-size: 2em !important;\\n}\\n.cm-content {\\n    font-size: 2em !important;\\n}\\n.page-id-xx, html {\\n    scrollbar-width: none; /* FF */\\n}\\n::-webkit-scrollbar {\\n    width: 0px; /* Chrome & Edge */\\n}\\n.jp-Notebook.jp-mod-commandMode .jp-Cell.jp-mod-selected {\\n    background: none;\\n}\\n</style>',\n",
       " '_i2': 'import numpy as np',\n",
       " 'np': <module 'numpy' from '/usr/local/lib/python3.12/site-packages/numpy/__init__.py'>,\n",
       " '_i3': 'million_integers = np.random.normal(0, 10, 1_000_000).astype(np.int32)\\nmillion_integers',\n",
       " 'million_integers': array([ 13,   0,  10, ..., -18,   0,  22], shape=(1000000,), dtype=int32),\n",
       " '_3': array([ 13,   0,  10, ..., -18,   0,  22], shape=(1000000,), dtype=int32),\n",
       " '_i4': 'def addthem_python(data):\\n    out = 0\\n    for x in data:\\n        out += x\\n    return out',\n",
       " 'addthem_python': <function __main__.addthem_python(data)>,\n",
       " '_i5': '%%writefile addthem.c\\n\\nint run(int* data) {\\n    int out = 0;\\n    for (int i = 0;  i < 1000000;  i++) {\\n        out += data[i];\\n    }\\n    return out;\\n}',\n",
       " '_i6': '!cc -O0 -shared addthem.c -o libaddthem_attempt1.so',\n",
       " '_exit_code': 0,\n",
       " '_i7': 'import ctypes',\n",
       " 'ctypes': <module 'ctypes' from '/usr/local/lib/python3.12/ctypes/__init__.py'>,\n",
       " '_i8': 'libaddthem = ctypes.cdll.LoadLibrary(\"./libaddthem_attempt1.so\")\\npointer_to_ints = ctypes.POINTER(ctypes.c_int)\\nlibaddthem.run.argtypes = (pointer_to_ints,)\\nlibaddthem.run.restype = ctypes.c_int',\n",
       " 'libaddthem': <CDLL './libaddthem_attempt1.so', handle 5a34e3128400 at 0x72bb8c149ee0>,\n",
       " 'pointer_to_ints': __main__.LP_c_int,\n",
       " '_i9': 'addthem_python(million_integers)',\n",
       " '_9': np.int32(4328),\n",
       " '_i10': 'libaddthem.run(million_integers.ctypes.data_as(pointer_to_ints))',\n",
       " '_10': 4328,\n",
       " '_i11': '%%timeit\\n\\naddthem_python(million_integers)',\n",
       " '_i12': '%%timeit\\n\\nlibaddthem.run(million_integers.ctypes.data_as(pointer_to_ints))',\n",
       " '_i13': '!c++ -std=c++11 -O3 baby-python.cpp -o baby-python',\n",
       " '_i14': '%%bash\\n\\n./baby-python <<EOF\\n123\\nadd(3, 5)\\nsquare_them = def(x) mul(x, x)\\nmap(square_them, [1, 2, 3, 4, 5])\\nEOF',\n",
       " '_i15': 'million_integers.tofile(\"million_integers.int32\")',\n",
       " '_i16': '%%bash\\n\\n./baby-python data=million_integers.int32 <<EOF\\nreduce(add, data)\\nreduce(add, data)\\nreduce(add, data)\\nEOF',\n",
       " '_i17': 'from pygments import highlight\\nfrom pygments.lexers import CppLexer\\nfrom pygments.formatters import HtmlFormatter\\nfrom IPython.display import display, HTML',\n",
       " 'highlight': <function pygments.highlight(code, lexer, formatter, outfile=None)>,\n",
       " 'CppLexer': pygments.lexers.c_cpp.CppLexer,\n",
       " 'HtmlFormatter': pygments.formatters.html.HtmlFormatter,\n",
       " 'display': <function IPython.core.display_functions.display(*objs, include=None, exclude=None, metadata=None, transient=None, display_id=None, raw=False, clear=False, **kwargs)>,\n",
       " 'HTML': IPython.core.display.HTML,\n",
       " '_i18': 'with open(\"baby-python.cpp\") as file:\\n    display(HTML(highlight(file.read(), CppLexer(), HtmlFormatter())))',\n",
       " 'file': <_io.TextIOWrapper name='baby-python.cpp' mode='r' encoding='UTF-8'>,\n",
       " '_i19': 'globals()'}"
      ]
     },
     "execution_count": 19,
     "metadata": {},
     "output_type": "execute_result"
    }
   ],
   "source": [
    "globals()"
   ]
  },
  {
   "cell_type": "markdown",
   "id": "605eb8a5-57a9-4d1e-8134-5793a5e60ee3",
   "metadata": {
    "editable": true,
    "slideshow": {
     "slide_type": "slide"
    },
    "tags": []
   },
   "source": [
    "Similarly in Python:\n",
    "\n",
    "* all data share an overloaded struct type (implemented in C, rather than using C++ to generate vtables automatically)\n",
    "\n",
    "```c\n",
    "struct PyObject {\n",
    "    Py_size_t ob_refcnt;    // reference count for garbage collection\n",
    "    PyObject* ob_type;      // the object's type (also a PyObject)\n",
    "                            // more fields that depend on type\n",
    "};\n",
    "```"
   ]
  },
  {
   "cell_type": "code",
   "execution_count": 20,
   "id": "dce8067b-144b-4431-972e-76fdec15e579",
   "metadata": {
    "editable": true,
    "slideshow": {
     "slide_type": "slide"
    },
    "tags": []
   },
   "outputs": [],
   "source": [
    "class PyObject(ctypes.Structure):\n",
    "    pass\n",
    "\n",
    "PyObject._fields_ = [\n",
    "    (\"ob_refcnt\", ctypes.c_size_t),\n",
    "    (\"ob_type\", ctypes.POINTER(PyObject)),\n",
    "]"
   ]
  },
  {
   "cell_type": "markdown",
   "id": "f04bbf73-7d28-46fe-967e-55291aeec170",
   "metadata": {
    "editable": true,
    "slideshow": {
     "slide_type": ""
    },
    "tags": []
   },
   "source": [
    "<br>"
   ]
  },
  {
   "cell_type": "code",
   "execution_count": 21,
   "id": "6918bbfc-6b23-4573-9429-6b4741eb58cf",
   "metadata": {
    "editable": true,
    "slideshow": {
     "slide_type": ""
    },
    "tags": []
   },
   "outputs": [],
   "source": [
    "some_string = \"This is a nice string.\""
   ]
  },
  {
   "cell_type": "markdown",
   "id": "77b75e62-75ea-41a1-b39a-a31555cf606f",
   "metadata": {
    "editable": true,
    "slideshow": {
     "slide_type": ""
    },
    "tags": []
   },
   "source": [
    "<br>"
   ]
  },
  {
   "cell_type": "code",
   "execution_count": 22,
   "id": "9dc4484b-e18c-495c-a5d4-34b5aa842cb6",
   "metadata": {
    "editable": true,
    "slideshow": {
     "slide_type": ""
    },
    "tags": []
   },
   "outputs": [],
   "source": [
    "c_some_string = PyObject.from_address(id(some_string))"
   ]
  },
  {
   "cell_type": "markdown",
   "id": "df0af81d-6578-4101-9855-a9d031940075",
   "metadata": {
    "editable": true,
    "slideshow": {
     "slide_type": ""
    },
    "tags": []
   },
   "source": [
    "<br>"
   ]
  },
  {
   "cell_type": "code",
   "execution_count": 23,
   "id": "3a8f86c8-6879-4036-8fa4-2e07291eceae",
   "metadata": {
    "editable": true,
    "slideshow": {
     "slide_type": ""
    },
    "tags": []
   },
   "outputs": [
    {
     "data": {
      "text/plain": [
       "1"
      ]
     },
     "execution_count": 23,
     "metadata": {},
     "output_type": "execute_result"
    }
   ],
   "source": [
    "c_some_string.ob_refcnt"
   ]
  },
  {
   "cell_type": "markdown",
   "id": "130260b5-7bdd-468f-a635-34b99ecce1f4",
   "metadata": {
    "editable": true,
    "slideshow": {
     "slide_type": ""
    },
    "tags": []
   },
   "source": [
    "<br>"
   ]
  },
  {
   "cell_type": "code",
   "execution_count": 24,
   "id": "6aa5c056-b6b2-4177-a6eb-6bce704c43ef",
   "metadata": {
    "editable": true,
    "slideshow": {
     "slide_type": ""
    },
    "tags": []
   },
   "outputs": [],
   "source": [
    "list_of_string = [some_string] * 100"
   ]
  },
  {
   "cell_type": "markdown",
   "id": "efce99e5-db78-4f3f-9401-0984efaf54b5",
   "metadata": {
    "editable": true,
    "slideshow": {
     "slide_type": ""
    },
    "tags": []
   },
   "source": [
    "<br>"
   ]
  },
  {
   "cell_type": "code",
   "execution_count": 25,
   "id": "20fca921-7b3e-43f0-a017-b18a7c8e805a",
   "metadata": {
    "editable": true,
    "slideshow": {
     "slide_type": ""
    },
    "tags": []
   },
   "outputs": [
    {
     "data": {
      "text/plain": [
       "True"
      ]
     },
     "execution_count": 25,
     "metadata": {},
     "output_type": "execute_result"
    }
   ],
   "source": [
    "ctypes.cast(c_some_string.ob_type, ctypes.c_void_p).value == id(str)"
   ]
  },
  {
   "cell_type": "markdown",
   "id": "57e41c88-e6ab-44f5-bdef-abc7ca101dec",
   "metadata": {
    "editable": true,
    "slideshow": {
     "slide_type": "slide"
    },
    "tags": []
   },
   "source": [
    "Similarly in Python:\n",
    "\n",
    "* instructions are represented by a data structure that must be traversed (an array of bytecodes)"
   ]
  },
  {
   "cell_type": "markdown",
   "id": "9ccdb28f-3ec2-4930-9197-15c3c3b56e3d",
   "metadata": {
    "editable": true,
    "slideshow": {
     "slide_type": ""
    },
    "tags": []
   },
   "source": [
    "<br>"
   ]
  },
  {
   "cell_type": "code",
   "execution_count": 26,
   "id": "0d93b707-7e9a-428d-8d5d-e94f19e15dcf",
   "metadata": {
    "editable": true,
    "slideshow": {
     "slide_type": ""
    },
    "tags": []
   },
   "outputs": [],
   "source": [
    "import dis"
   ]
  },
  {
   "cell_type": "markdown",
   "id": "e24ab31c-5fe5-42a5-9e2a-b726c87ffe40",
   "metadata": {
    "editable": true,
    "slideshow": {
     "slide_type": ""
    },
    "tags": []
   },
   "source": [
    "<br>"
   ]
  },
  {
   "cell_type": "code",
   "execution_count": 27,
   "id": "a0419fae-4d8c-426c-84ae-5424b070bc98",
   "metadata": {
    "editable": true,
    "slideshow": {
     "slide_type": ""
    },
    "tags": []
   },
   "outputs": [
    {
     "name": "stdout",
     "output_type": "stream",
     "text": [
      "  1           0 RESUME                   0\n",
      "\n",
      "  2           2 LOAD_CONST               1 (0)\n",
      "              4 STORE_FAST               1 (out)\n",
      "\n",
      "  3           6 LOAD_FAST                0 (data)\n",
      "              8 GET_ITER\n",
      "        >>   10 FOR_ITER                 7 (to 28)\n",
      "             14 STORE_FAST               2 (x)\n",
      "\n",
      "  4          16 LOAD_FAST                1 (out)\n",
      "             18 LOAD_FAST                2 (x)\n",
      "             20 BINARY_OP               13 (+=)\n",
      "             24 STORE_FAST               1 (out)\n",
      "             26 JUMP_BACKWARD            9 (to 10)\n",
      "\n",
      "  3     >>   28 END_FOR\n",
      "\n",
      "  5          30 LOAD_FAST                1 (out)\n",
      "             32 RETURN_VALUE\n"
     ]
    }
   ],
   "source": [
    "dis.dis(addthem_python)\n",
    "# lineno|offset|opcode_name      |argument|description\n",
    "# ------+------+-----------------+--------+------------"
   ]
  },
  {
   "cell_type": "markdown",
   "id": "78c972d2-6696-4cb2-bc5b-4cbff06d6df0",
   "metadata": {
    "editable": true,
    "slideshow": {
     "slide_type": ""
    },
    "tags": []
   },
   "source": [
    "<br>"
   ]
  },
  {
   "cell_type": "markdown",
   "id": "4a61e3b6-9b5b-406a-8aa0-df92dd377ede",
   "metadata": {
    "editable": true,
    "slideshow": {
     "slide_type": "fragment"
    },
    "tags": []
   },
   "source": [
    "None of the above instructions specify data types. The code that adds (`BINARY_OP 13`) has to determine that `x` is an integer, over and over, for a million values."
   ]
  },
  {
   "cell_type": "markdown",
   "id": "f41023bc-5179-4c9e-aa84-c2c064ac1532",
   "metadata": {
    "editable": true,
    "slideshow": {
     "slide_type": "slide"
    },
    "tags": []
   },
   "source": [
    "By contrast, the instructions generated by a compiler are passed directly to the CPU, and therefore have to be different instructions for different data types."
   ]
  },
  {
   "cell_type": "markdown",
   "id": "1520f061-763c-4ed3-9dbe-8e1d4931cf9f",
   "metadata": {
    "editable": true,
    "slideshow": {
     "slide_type": ""
    },
    "tags": []
   },
   "source": [
    "<br>"
   ]
  },
  {
   "cell_type": "code",
   "execution_count": 28,
   "id": "b6940148-c5ec-4bf9-a0aa-b2727e0952fe",
   "metadata": {
    "editable": true,
    "slideshow": {
     "slide_type": ""
    },
    "tags": []
   },
   "outputs": [],
   "source": [
    "!cc -O0 -c addthem.c"
   ]
  },
  {
   "cell_type": "markdown",
   "id": "b1c45596-f47d-41e4-be7c-09865d437484",
   "metadata": {
    "editable": true,
    "slideshow": {
     "slide_type": ""
    },
    "tags": []
   },
   "source": [
    "<br>"
   ]
  },
  {
   "cell_type": "code",
   "execution_count": 29,
   "id": "8ba2314d-5c5a-448d-8372-4d6d54c1e356",
   "metadata": {
    "editable": true,
    "slideshow": {
     "slide_type": ""
    },
    "tags": []
   },
   "outputs": [
    {
     "name": "stdout",
     "output_type": "stream",
     "text": [
      "\n",
      "addthem.o:     file format elf64-x86-64\n",
      "\n",
      "\n",
      "Disassembly of section .text:\n",
      "\n",
      "0000000000000000 <run>:\n",
      "   0:\t55                   \tpush   %rbp\n",
      "   1:\t48 89 e5             \tmov    %rsp,%rbp\n",
      "   4:\t48 89 7d e8          \tmov    %rdi,-0x18(%rbp)\n",
      "   8:\tc7 45 fc 00 00 00 00 \tmovl   $0x0,-0x4(%rbp)\n",
      "   f:\tc7 45 f8 00 00 00 00 \tmovl   $0x0,-0x8(%rbp)\n",
      "  16:\teb 1d                \tjmp    35 <run+0x35>\n",
      "  18:\t8b 45 f8             \tmov    -0x8(%rbp),%eax\n",
      "  1b:\t48 98                \tcltq\n",
      "  1d:\t48 8d 14 85 00 00 00 \tlea    0x0(,%rax,4),%rdx\n",
      "  24:\t00 \n",
      "  25:\t48 8b 45 e8          \tmov    -0x18(%rbp),%rax\n",
      "  29:\t48 01 d0             \tadd    %rdx,%rax\n",
      "  2c:\t8b 00                \tmov    (%rax),%eax\n",
      "  2e:\t01 45 fc             \tadd    %eax,-0x4(%rbp)\n",
      "  31:\t83 45 f8 01          \taddl   $0x1,-0x8(%rbp)\n",
      "  35:\t81 7d f8 3f 42 0f 00 \tcmpl   $0xf423f,-0x8(%rbp)\n",
      "  3c:\t7e da                \tjle    18 <run+0x18>\n",
      "  3e:\t8b 45 fc             \tmov    -0x4(%rbp),%eax\n",
      "  41:\t5d                   \tpop    %rbp\n",
      "  42:\tc3                   \tret\n"
     ]
    }
   ],
   "source": [
    "!objdump -d addthem.o"
   ]
  },
  {
   "cell_type": "markdown",
   "id": "cbadbd27-7d49-4c73-9ae0-d00386097f97",
   "metadata": {
    "editable": true,
    "slideshow": {
     "slide_type": "slide"
    },
    "tags": []
   },
   "source": [
    "## Python escape hatches: NumPy"
   ]
  },
  {
   "cell_type": "markdown",
   "id": "6f463c70-3ab5-449f-9736-40591e162672",
   "metadata": {
    "editable": true,
    "slideshow": {
     "slide_type": ""
    },
    "tags": []
   },
   "source": []
  },
  {
   "cell_type": "markdown",
   "id": "2c5e9a4e-c000-4069-9d4b-ab58fab05e33",
   "metadata": {
    "editable": true,
    "slideshow": {
     "slide_type": "slide"
    },
    "tags": []
   },
   "source": [
    "## Python escape hatches: Awkward Array"
   ]
  },
  {
   "cell_type": "markdown",
   "id": "f57e9cf8-09ad-4839-8b41-745cccb7a8e2",
   "metadata": {
    "editable": true,
    "slideshow": {
     "slide_type": ""
    },
    "tags": []
   },
   "source": []
  },
  {
   "cell_type": "markdown",
   "id": "4e2e60fb-fd58-4db5-b7b6-76f37eca4e4b",
   "metadata": {
    "editable": true,
    "slideshow": {
     "slide_type": "slide"
    },
    "tags": []
   },
   "source": [
    "## Python escape hatches: JIT-compilation"
   ]
  },
  {
   "cell_type": "markdown",
   "id": "4ff81263-dab8-4914-a2d5-8621c82c7d93",
   "metadata": {},
   "source": []
  },
  {
   "cell_type": "markdown",
   "id": "e1e919de-6696-410b-847c-b7f6e40b0b2d",
   "metadata": {
    "editable": true,
    "slideshow": {
     "slide_type": "slide"
    },
    "tags": []
   },
   "source": [
    "## Special topics: JIT-compilation for GPUs"
   ]
  },
  {
   "cell_type": "markdown",
   "id": "d7e73cf9-338f-4be7-8631-b7501c2e7427",
   "metadata": {},
   "source": []
  },
  {
   "cell_type": "markdown",
   "id": "6d523a63-631e-4ee2-9361-e0eb53c15b35",
   "metadata": {
    "editable": true,
    "slideshow": {
     "slide_type": "slide"
    },
    "tags": []
   },
   "source": [
    "## Special topics: the Python garbage collector"
   ]
  },
  {
   "cell_type": "markdown",
   "id": "5136d21c-f609-4d51-9f82-f88ce70e6a7f",
   "metadata": {},
   "source": []
  },
  {
   "cell_type": "markdown",
   "id": "aa809cad-7ecc-4ef3-a123-378ea661c744",
   "metadata": {
    "editable": true,
    "slideshow": {
     "slide_type": "slide"
    },
    "tags": []
   },
   "source": [
    "## Special topics: the Python GIL (Global Interpreter Lock)"
   ]
  },
  {
   "cell_type": "markdown",
   "id": "38e196e4-14d3-462c-833d-e35cb85fafc4",
   "metadata": {},
   "source": []
  },
  {
   "cell_type": "markdown",
   "id": "76a719dc-b560-4183-b584-1ff4b4e64b8a",
   "metadata": {
    "editable": true,
    "slideshow": {
     "slide_type": "slide"
    },
    "tags": []
   },
   "source": [
    "## Special topics: memory mapping"
   ]
  },
  {
   "cell_type": "markdown",
   "id": "4d3deba6-70a6-4869-9866-35b06898fa2b",
   "metadata": {
    "editable": true,
    "slideshow": {
     "slide_type": ""
    },
    "tags": []
   },
   "source": []
  }
 ],
 "metadata": {
  "kernelspec": {
   "display_name": "Python 3 (ipykernel)",
   "language": "python",
   "name": "python3"
  },
  "language_info": {
   "codemirror_mode": {
    "name": "ipython",
    "version": 3
   },
   "file_extension": ".py",
   "mimetype": "text/x-python",
   "name": "python",
   "nbconvert_exporter": "python",
   "pygments_lexer": "ipython3",
   "version": "3.12.11"
  }
 },
 "nbformat": 4,
 "nbformat_minor": 5
}
