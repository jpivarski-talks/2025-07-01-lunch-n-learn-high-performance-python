{
 "cells": [
  {
   "cell_type": "code",
   "execution_count": 6,
   "id": "d98da386-65fb-4b26-b46c-0a3cbecec795",
   "metadata": {
    "editable": true,
    "slideshow": {
     "slide_type": "skip"
    },
    "tags": []
   },
   "outputs": [
    {
     "data": {
      "text/html": [
       "\n",
       "<style>\n",
       ".jp-MarkdownOutput {\n",
       "    font-size: 2.5em !important;\n",
       "}\n",
       ".jp-OutputArea-output pre {\n",
       "    font-size: 2em !important;\n",
       "}\n",
       ".cm-content {\n",
       "    font-size: 2em !important;\n",
       "}\n",
       ".page-id-xx, html {\n",
       "    scrollbar-width: none; /* FF */\n",
       "}\n",
       "::-webkit-scrollbar {\n",
       "    width: 0px; /* Chrome & Edge */\n",
       "}\n",
       ".jp-Notebook.jp-mod-commandMode .jp-Cell.jp-mod-selected {\n",
       "    background: none;\n",
       "}\n",
       "</style>\n"
      ],
      "text/plain": [
       "<IPython.core.display.HTML object>"
      ]
     },
     "metadata": {},
     "output_type": "display_data"
    }
   ],
   "source": [
    "%%html\n",
    "\n",
    "<style>\n",
    ".jp-MarkdownOutput {\n",
    "    font-size: 2.5em !important;\n",
    "}\n",
    ".jp-OutputArea-output pre {\n",
    "    font-size: 2em !important;\n",
    "}\n",
    ".cm-content {\n",
    "    font-size: 2em !important;\n",
    "}\n",
    ".page-id-xx, html {\n",
    "    scrollbar-width: none; /* FF */\n",
    "}\n",
    "::-webkit-scrollbar {\n",
    "    width: 0px; /* Chrome & Edge */\n",
    "}\n",
    ".jp-Notebook.jp-mod-commandMode .jp-Cell.jp-mod-selected {\n",
    "    background: none;\n",
    "}\n",
    "</style>"
   ]
  },
  {
   "cell_type": "markdown",
   "id": "40a22c12-386b-4c8d-898d-aa31bfc5b876",
   "metadata": {
    "editable": true,
    "slideshow": {
     "slide_type": "slide"
    },
    "tags": []
   },
   "source": [
    "<img src=\"img/title.svg\" style=\"width: 90%; border: 1px solid black; margin: 3em auto;\">"
   ]
  },
  {
   "cell_type": "markdown",
   "id": "9229fcbe-35c9-4841-b01e-25822a850397",
   "metadata": {
    "editable": true,
    "slideshow": {
     "slide_type": "slide"
    },
    "tags": []
   },
   "source": [
    "## Outline"
   ]
  },
  {
   "cell_type": "markdown",
   "id": "d00d9e12-3040-46a2-83b4-d64ddc939225",
   "metadata": {
    "editable": true,
    "slideshow": {
     "slide_type": ""
    },
    "tags": []
   },
   "source": [
    "* Who wants high performance and why?\n",
    "* Understanding why Python is slow\n",
    "* Python escape hatches:\n",
    "  * NumPy\n",
    "  * Awkward Array\n",
    "  * JIT-compilation\n",
    "* Special topics:\n",
    "  * JIT-compilation for GPUs\n",
    "  * The Python garbage collector\n",
    "  * The Python GIL (Global Interpreter Lock)\n",
    "  * Memory-mapping\n",
    "* No conclusions: we'll stop when we run out of time"
   ]
  },
  {
   "cell_type": "markdown",
   "id": "0d61832b-0b8a-4d80-a02e-eb0c7c739432",
   "metadata": {
    "editable": true,
    "slideshow": {
     "slide_type": "slide"
    },
    "tags": []
   },
   "source": [
    "## Who wants high performace and why?"
   ]
  },
  {
   "cell_type": "markdown",
   "id": "43ca3542-dd44-4f81-91f0-794f241fa5e2",
   "metadata": {
    "editable": true,
    "slideshow": {
     "slide_type": "fragment"
    },
    "tags": []
   },
   "source": [
    "* \"I'm shepherding a computation that runs for months and 5% faster means 5% less electricity, operating costs, and $CO_2$.\""
   ]
  },
  {
   "cell_type": "markdown",
   "id": "1775fd3a-f33c-468b-8ac4-b42ae39746a5",
   "metadata": {
    "editable": true,
    "slideshow": {
     "slide_type": "fragment"
    },
    "tags": []
   },
   "source": [
    "* \"I'm building an interactive app, and if each user-initiated action completes in less than human reaction time (100 ms), the app will feel snappy.\""
   ]
  },
  {
   "cell_type": "markdown",
   "id": "346962ab-1ad4-44fc-b819-ce3e97153417",
   "metadata": {
    "editable": true,
    "slideshow": {
     "slide_type": "fragment"
    },
    "tags": []
   },
   "source": [
    "* \"I'm analyzing a large dataset, and if the computation completes over a lunch break instead of overnight, I'll be able to run it more often to do more in-depth investigations.\""
   ]
  },
  {
   "cell_type": "markdown",
   "id": "e38365e0-3e6d-485c-a523-79016b111d3c",
   "metadata": {
    "editable": true,
    "slideshow": {
     "slide_type": "fragment"
    },
    "tags": []
   },
   "source": [
    "* \"I'm trying to do &lt;anything at all&gt;, and I can't because I run out of RAM, open file handles, TTYs, ...\""
   ]
  },
  {
   "cell_type": "markdown",
   "id": "3894ab7a-5d9d-4c07-9181-3fdf09e40287",
   "metadata": {
    "editable": true,
    "slideshow": {
     "slide_type": "slide"
    },
    "tags": []
   },
   "source": [
    "This is me:\n",
    "\n",
    "* \"I'm analyzing a large dataset, and if the computation completes over a lunch break instead of overnight, I'll be able to run it more often to do more in-depth investigations.\"\n",
    "* \"I'm trying to do &lt;anything at all&gt;, and I can't because I run out of RAM, open file handles, TTYs, ...\""
   ]
  },
  {
   "cell_type": "markdown",
   "id": "398d4bf1-aec5-46ad-b722-33861f868ffb",
   "metadata": {
    "editable": true,
    "slideshow": {
     "slide_type": ""
    },
    "tags": []
   },
   "source": [
    "<br><br><br>"
   ]
  },
  {
   "cell_type": "markdown",
   "id": "de0a43d1-2f91-4c8e-abdc-bbd5b646bed6",
   "metadata": {
    "editable": true,
    "slideshow": {
     "slide_type": "fragment"
    },
    "tags": []
   },
   "source": [
    "Therefore, I usually only care about **speed** when it's an order of magnitude gain and **memory** when necessary."
   ]
  },
  {
   "cell_type": "markdown",
   "id": "835ed487-51fe-47a8-a37b-6d03967f60f0",
   "metadata": {
    "editable": true,
    "slideshow": {
     "slide_type": "slide"
    },
    "tags": []
   },
   "source": [
    "<img src=\"img/clock-rate-timeline-1.svg\" style=\"width: 90%; margin: 3em auto;\">"
   ]
  },
  {
   "cell_type": "markdown",
   "id": "c36bf7f6-7601-4240-94f5-294c43ed83ea",
   "metadata": {
    "editable": true,
    "slideshow": {
     "slide_type": "slide"
    },
    "tags": []
   },
   "source": [
    "<img src=\"img/clock-rate-timeline-2.svg\" style=\"width: 90%; margin: 3em auto;\">"
   ]
  },
  {
   "cell_type": "markdown",
   "id": "b12ded3d-b31b-4b31-a084-33ed7e6157db",
   "metadata": {
    "editable": true,
    "slideshow": {
     "slide_type": "slide"
    },
    "tags": []
   },
   "source": [
    "<img src=\"img/clock-rate-timeline-3.svg\" style=\"width: 90%; margin: 3em auto;\">"
   ]
  },
  {
   "cell_type": "markdown",
   "id": "946def58-effe-43ab-a161-7ba618d5e6d2",
   "metadata": {
    "editable": true,
    "slideshow": {
     "slide_type": "slide"
    },
    "tags": []
   },
   "source": [
    "<img src=\"img/clock-rate-timeline-4.svg\" style=\"width: 90%; margin: 3em auto;\">"
   ]
  },
  {
   "cell_type": "markdown",
   "id": "fc1f62cd-2b9b-4a42-a33f-0d54572f840a",
   "metadata": {
    "editable": true,
    "slideshow": {
     "slide_type": "slide"
    },
    "tags": []
   },
   "source": [
    "## Understanding why Python is slow"
   ]
  },
  {
   "cell_type": "markdown",
   "id": "a621622e-f1a3-4abc-b7cc-c5b47bdae7a8",
   "metadata": {},
   "source": []
  },
  {
   "cell_type": "markdown",
   "id": "cbadbd27-7d49-4c73-9ae0-d00386097f97",
   "metadata": {
    "editable": true,
    "slideshow": {
     "slide_type": "slide"
    },
    "tags": []
   },
   "source": [
    "## Python escape hatches: NumPy"
   ]
  },
  {
   "cell_type": "markdown",
   "id": "6f463c70-3ab5-449f-9736-40591e162672",
   "metadata": {},
   "source": []
  },
  {
   "cell_type": "markdown",
   "id": "2c5e9a4e-c000-4069-9d4b-ab58fab05e33",
   "metadata": {
    "editable": true,
    "slideshow": {
     "slide_type": "slide"
    },
    "tags": []
   },
   "source": [
    "## Python escape hatches: Awkward Array"
   ]
  },
  {
   "cell_type": "markdown",
   "id": "f57e9cf8-09ad-4839-8b41-745cccb7a8e2",
   "metadata": {},
   "source": []
  },
  {
   "cell_type": "markdown",
   "id": "4e2e60fb-fd58-4db5-b7b6-76f37eca4e4b",
   "metadata": {
    "editable": true,
    "slideshow": {
     "slide_type": "slide"
    },
    "tags": []
   },
   "source": [
    "## Python escape hatches: JIT-compilation"
   ]
  },
  {
   "cell_type": "markdown",
   "id": "4ff81263-dab8-4914-a2d5-8621c82c7d93",
   "metadata": {},
   "source": []
  },
  {
   "cell_type": "markdown",
   "id": "e1e919de-6696-410b-847c-b7f6e40b0b2d",
   "metadata": {
    "editable": true,
    "slideshow": {
     "slide_type": "slide"
    },
    "tags": []
   },
   "source": [
    "## Special topics: JIT-compilation for GPUs"
   ]
  },
  {
   "cell_type": "markdown",
   "id": "d7e73cf9-338f-4be7-8631-b7501c2e7427",
   "metadata": {},
   "source": []
  },
  {
   "cell_type": "markdown",
   "id": "6d523a63-631e-4ee2-9361-e0eb53c15b35",
   "metadata": {
    "editable": true,
    "slideshow": {
     "slide_type": "slide"
    },
    "tags": []
   },
   "source": [
    "## Special topics: the Python garbage collector"
   ]
  },
  {
   "cell_type": "markdown",
   "id": "5136d21c-f609-4d51-9f82-f88ce70e6a7f",
   "metadata": {},
   "source": []
  },
  {
   "cell_type": "markdown",
   "id": "aa809cad-7ecc-4ef3-a123-378ea661c744",
   "metadata": {
    "editable": true,
    "slideshow": {
     "slide_type": "slide"
    },
    "tags": []
   },
   "source": [
    "## Special topics: the Python GIL (Global Interpreter Lock)"
   ]
  },
  {
   "cell_type": "markdown",
   "id": "38e196e4-14d3-462c-833d-e35cb85fafc4",
   "metadata": {},
   "source": []
  },
  {
   "cell_type": "markdown",
   "id": "76a719dc-b560-4183-b584-1ff4b4e64b8a",
   "metadata": {
    "editable": true,
    "slideshow": {
     "slide_type": "slide"
    },
    "tags": []
   },
   "source": [
    "## Special topics: memory mapping"
   ]
  },
  {
   "cell_type": "markdown",
   "id": "4d3deba6-70a6-4869-9866-35b06898fa2b",
   "metadata": {},
   "source": []
  }
 ],
 "metadata": {
  "kernelspec": {
   "display_name": "Python 3 (ipykernel)",
   "language": "python",
   "name": "python3"
  },
  "language_info": {
   "codemirror_mode": {
    "name": "ipython",
    "version": 3
   },
   "file_extension": ".py",
   "mimetype": "text/x-python",
   "name": "python",
   "nbconvert_exporter": "python",
   "pygments_lexer": "ipython3",
   "version": "3.12.11"
  }
 },
 "nbformat": 4,
 "nbformat_minor": 5
}
