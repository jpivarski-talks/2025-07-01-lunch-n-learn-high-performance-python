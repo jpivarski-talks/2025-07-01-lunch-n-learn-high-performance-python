{
 "cells": [
  {
   "cell_type": "code",
   "execution_count": 1,
   "id": "3ad97c36-02de-4f40-b1cd-4b8b5e752479",
   "metadata": {},
   "outputs": [],
   "source": [
    "import sys"
   ]
  },
  {
   "cell_type": "code",
   "execution_count": 2,
   "id": "1dec45b4-e86c-4ea9-9e00-4cbd0fde6ecc",
   "metadata": {},
   "outputs": [
    {
     "data": {
      "text/plain": [
       "'3.13.5 (main, Jun 12 2025, 22:46:40) [GCC 12.2.0]'"
      ]
     },
     "execution_count": 2,
     "metadata": {},
     "output_type": "execute_result"
    }
   ],
   "source": [
    "sys.version"
   ]
  },
  {
   "cell_type": "code",
   "execution_count": 4,
   "id": "ff172c24-f63b-4e8c-b9cb-386361401c07",
   "metadata": {},
   "outputs": [
    {
     "data": {
      "text/plain": [
       "True"
      ]
     },
     "execution_count": 4,
     "metadata": {},
     "output_type": "execute_result"
    }
   ],
   "source": [
    "sys._is_gil_enabled()"
   ]
  },
  {
   "cell_type": "code",
   "execution_count": null,
   "id": "094d7cab-feed-47ae-bcb7-5aa2565235b6",
   "metadata": {},
   "outputs": [],
   "source": []
  }
 ],
 "metadata": {
  "kernelspec": {
   "display_name": "Python 3 (ipykernel)",
   "language": "python",
   "name": "python3"
  },
  "language_info": {
   "codemirror_mode": {
    "name": "ipython",
    "version": 3
   },
   "file_extension": ".py",
   "mimetype": "text/x-python",
   "name": "python",
   "nbconvert_exporter": "python",
   "pygments_lexer": "ipython3",
   "version": "3.13.5"
  }
 },
 "nbformat": 4,
 "nbformat_minor": 5
}
