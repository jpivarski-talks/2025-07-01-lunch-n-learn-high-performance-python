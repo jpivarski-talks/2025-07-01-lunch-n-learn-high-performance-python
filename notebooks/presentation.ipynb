{
 "cells": [
  {
   "cell_type": "code",
   "execution_count": 93,
   "id": "d98da386-65fb-4b26-b46c-0a3cbecec795",
   "metadata": {
    "editable": true,
    "slideshow": {
     "slide_type": "skip"
    },
    "tags": []
   },
   "outputs": [
    {
     "data": {
      "text/html": [
       "\n",
       "<style>\n",
       ".jp-MarkdownOutput {\n",
       "    font-size: 2.5em !important;\n",
       "}\n",
       ".jp-MarkdownOutput table {\n",
       "    font-size: 1em !important;\n",
       "}\n",
       ".jp-OutputArea-output pre {\n",
       "    font-size: 2em !important;\n",
       "}\n",
       ".cm-content {\n",
       "    font-size: 2em !important;\n",
       "}\n",
       ".page-id-xx, html {\n",
       "    scrollbar-width: none; /* FF */\n",
       "}\n",
       "::-webkit-scrollbar {\n",
       "    width: 0px; /* Chrome & Edge */\n",
       "}\n",
       ".jp-Notebook.jp-mod-commandMode .jp-Cell.jp-mod-selected {\n",
       "    background: none;\n",
       "}\n",
       "</style>\n"
      ],
      "text/plain": [
       "<IPython.core.display.HTML object>"
      ]
     },
     "metadata": {},
     "output_type": "display_data"
    }
   ],
   "source": [
    "%%html\n",
    "\n",
    "<style>\n",
    ".jp-MarkdownOutput {\n",
    "    font-size: 2.5em !important;\n",
    "}\n",
    ".jp-MarkdownOutput table {\n",
    "    font-size: 1em !important;\n",
    "}\n",
    ".jp-OutputArea-output pre {\n",
    "    font-size: 2em !important;\n",
    "}\n",
    ".cm-content {\n",
    "    font-size: 2em !important;\n",
    "}\n",
    ".page-id-xx, html {\n",
    "    scrollbar-width: none; /* FF */\n",
    "}\n",
    "::-webkit-scrollbar {\n",
    "    width: 0px; /* Chrome & Edge */\n",
    "}\n",
    ".jp-Notebook.jp-mod-commandMode .jp-Cell.jp-mod-selected {\n",
    "    background: none;\n",
    "}\n",
    "</style>"
   ]
  },
  {
   "cell_type": "markdown",
   "id": "40a22c12-386b-4c8d-898d-aa31bfc5b876",
   "metadata": {
    "editable": true,
    "slideshow": {
     "slide_type": "slide"
    },
    "tags": []
   },
   "source": [
    "<img src=\"img/title.svg\" style=\"width: 90%; border: 1px solid black; margin: 3em auto;\">"
   ]
  },
  {
   "cell_type": "markdown",
   "id": "9229fcbe-35c9-4841-b01e-25822a850397",
   "metadata": {
    "editable": true,
    "slideshow": {
     "slide_type": "slide"
    },
    "tags": []
   },
   "source": [
    "## Outline"
   ]
  },
  {
   "cell_type": "markdown",
   "id": "d00d9e12-3040-46a2-83b4-d64ddc939225",
   "metadata": {
    "editable": true,
    "slideshow": {
     "slide_type": ""
    },
    "tags": []
   },
   "source": [
    "<img src=\"img/swallows-coconut.jpg\" style=\"width: 30%; float: right; margin-top: 50px;\">\n",
    "\n",
    "* Who wants high performance and why?\n",
    "* Understanding why Python is slow\n",
    "* Python escape hatches:\n",
    "  * NumPy\n",
    "  * Awkward Array\n",
    "  * JIT-compilation\n",
    "* Special topics:\n",
    "  * The Python garbage collector\n",
    "  * The Python GIL (Global Interpreter Lock)\n",
    "* No conclusions: we'll stop when we run out of time"
   ]
  },
  {
   "cell_type": "markdown",
   "id": "0d61832b-0b8a-4d80-a02e-eb0c7c739432",
   "metadata": {
    "editable": true,
    "slideshow": {
     "slide_type": "slide"
    },
    "tags": []
   },
   "source": [
    "## Who wants high performace and why?"
   ]
  },
  {
   "cell_type": "markdown",
   "id": "43ca3542-dd44-4f81-91f0-794f241fa5e2",
   "metadata": {
    "editable": true,
    "slideshow": {
     "slide_type": "fragment"
    },
    "tags": []
   },
   "source": [
    "* \"I'm shepherding a computation that runs for months and 5% faster means 5% less electricity, operating costs, and $CO_2$.\""
   ]
  },
  {
   "cell_type": "markdown",
   "id": "1775fd3a-f33c-468b-8ac4-b42ae39746a5",
   "metadata": {
    "editable": true,
    "slideshow": {
     "slide_type": "fragment"
    },
    "tags": []
   },
   "source": [
    "* \"I'm building an interactive app, and if each user-initiated action completes in less than human reaction time (100 ms), the app will feel snappy.\""
   ]
  },
  {
   "cell_type": "markdown",
   "id": "346962ab-1ad4-44fc-b819-ce3e97153417",
   "metadata": {
    "editable": true,
    "slideshow": {
     "slide_type": "fragment"
    },
    "tags": []
   },
   "source": [
    "* \"I'm analyzing a large dataset, and if the computation completes over a lunch break instead of overnight, I'll be able to run it more often to do more in-depth investigations.\""
   ]
  },
  {
   "cell_type": "markdown",
   "id": "e38365e0-3e6d-485c-a523-79016b111d3c",
   "metadata": {
    "editable": true,
    "slideshow": {
     "slide_type": "fragment"
    },
    "tags": []
   },
   "source": [
    "* \"I'm trying to do &lt;anything at all&gt;, and I can't because I run out of RAM, open file handles, TTYs, ...\""
   ]
  },
  {
   "cell_type": "markdown",
   "id": "3894ab7a-5d9d-4c07-9181-3fdf09e40287",
   "metadata": {
    "editable": true,
    "slideshow": {
     "slide_type": "slide"
    },
    "tags": []
   },
   "source": [
    "This is me:\n",
    "\n",
    "* \"I'm analyzing a large dataset, and if the computation completes over a lunch break instead of overnight, I'll be able to run it more often to do more in-depth investigations.\"\n",
    "* \"I'm trying to do &lt;anything at all&gt;, and I can't because I run out of RAM, open file handles, TTYs, ...\""
   ]
  },
  {
   "cell_type": "markdown",
   "id": "398d4bf1-aec5-46ad-b722-33861f868ffb",
   "metadata": {
    "editable": true,
    "slideshow": {
     "slide_type": ""
    },
    "tags": []
   },
   "source": [
    "<br><br><br>"
   ]
  },
  {
   "cell_type": "markdown",
   "id": "de0a43d1-2f91-4c8e-abdc-bbd5b646bed6",
   "metadata": {
    "editable": true,
    "slideshow": {
     "slide_type": "fragment"
    },
    "tags": []
   },
   "source": [
    "Therefore, I usually only care about **speed** when it's an order of magnitude gain and **memory** when necessary."
   ]
  },
  {
   "cell_type": "markdown",
   "id": "835ed487-51fe-47a8-a37b-6d03967f60f0",
   "metadata": {
    "editable": true,
    "slideshow": {
     "slide_type": "slide"
    },
    "tags": []
   },
   "source": [
    "<img src=\"img/clock-rate-timeline-1.svg\" style=\"width: 90%; margin: 3em auto;\">"
   ]
  },
  {
   "cell_type": "markdown",
   "id": "c36bf7f6-7601-4240-94f5-294c43ed83ea",
   "metadata": {
    "editable": true,
    "slideshow": {
     "slide_type": "slide"
    },
    "tags": []
   },
   "source": [
    "<img src=\"img/clock-rate-timeline-2.svg\" style=\"width: 90%; margin: 3em auto;\">"
   ]
  },
  {
   "cell_type": "markdown",
   "id": "b12ded3d-b31b-4b31-a084-33ed7e6157db",
   "metadata": {
    "editable": true,
    "slideshow": {
     "slide_type": "slide"
    },
    "tags": []
   },
   "source": [
    "<img src=\"img/clock-rate-timeline-3.svg\" style=\"width: 90%; margin: 3em auto;\">"
   ]
  },
  {
   "cell_type": "markdown",
   "id": "946def58-effe-43ab-a161-7ba618d5e6d2",
   "metadata": {
    "editable": true,
    "slideshow": {
     "slide_type": "slide"
    },
    "tags": []
   },
   "source": [
    "<img src=\"img/clock-rate-timeline-4.svg\" style=\"width: 90%; margin: 3em auto;\">"
   ]
  },
  {
   "cell_type": "markdown",
   "id": "e0b81491-7a02-4206-a7a2-dc107e4e9001",
   "metadata": {
    "editable": true,
    "slideshow": {
     "slide_type": "slide"
    },
    "tags": []
   },
   "source": [
    "There are now only three ways to speed up code:"
   ]
  },
  {
   "cell_type": "markdown",
   "id": "5e1b2209-3f80-46ee-817e-36a0957e0696",
   "metadata": {
    "editable": true,
    "slideshow": {
     "slide_type": "fragment"
    },
    "tags": []
   },
   "source": [
    "1. parallel processing"
   ]
  },
  {
   "cell_type": "markdown",
   "id": "e444100b-7429-41c9-bb4f-dfaa11999772",
   "metadata": {
    "editable": true,
    "slideshow": {
     "slide_type": "fragment"
    },
    "tags": []
   },
   "source": [
    "2. fixing bloopers: what you thought it was doing is not what it's doing, or there's a faster method you just didn't know about"
   ]
  },
  {
   "cell_type": "markdown",
   "id": "0653cd80-a7d8-4962-81cd-fed622282f6e",
   "metadata": {
    "editable": true,
    "slideshow": {
     "slide_type": "fragment"
    },
    "tags": []
   },
   "source": [
    "3. turning off dynamic features that you don't need"
   ]
  },
  {
   "cell_type": "markdown",
   "id": "28adf047-564c-4d84-80c2-6dad7551cffc",
   "metadata": {
    "editable": true,
    "slideshow": {
     "slide_type": "slide"
    },
    "tags": []
   },
   "source": [
    "<img src=\"img/dynamic-features.svg\" style=\"width: 60%; margin: 3em auto;\">"
   ]
  },
  {
   "cell_type": "markdown",
   "id": "500983a8-b2b1-4c40-88e0-488d2713bf00",
   "metadata": {
    "editable": true,
    "slideshow": {
     "slide_type": "slide"
    },
    "tags": []
   },
   "source": [
    "\"Dynamic feature\":\n",
    "\n",
    "* decisions are made in the loop that scales with dataset size\n",
    "\n",
    "<br>\n",
    "\n",
    "\"that you don't need\":\n",
    "\n",
    "* information is known before starting that loop; it doesn't need to be re-derived"
   ]
  },
  {
   "cell_type": "markdown",
   "id": "368d713a-afa0-45ac-a244-146c4f0a7301",
   "metadata": {
    "editable": true,
    "slideshow": {
     "slide_type": "slide"
    },
    "tags": []
   },
   "source": [
    "Dynamic features are often built into the language"
   ]
  },
  {
   "cell_type": "markdown",
   "id": "12008bdb-5312-4e2d-b12c-4b0fd573593e",
   "metadata": {
    "editable": true,
    "slideshow": {
     "slide_type": ""
    },
    "tags": []
   },
   "source": [
    "| | dynamic allocation | reference count | garbage collector | runtime evaluation | virtual machine | type reflection | parallel scheduling |\n",
    "|:--|:--:|:--:|:--:|:--:|:--:|:--:|:--:|\n",
    "| Fortran77 | | | | | | | |\n",
    "| C | ✓ | | | | | | |\n",
    "| C++ | ✓ | `shared_ptr<T>` | | | | vtable | stdlib |\n",
    "| Rust | ✓ | `Rc<T>` | | | | vtable | ✓ |\n",
    "| Swift | ✓ | ✓ | | | | vtable | ✓ |\n",
    "| Julia | ✓ | | ✓ | ✓ | | ✓ | stdlib |\n",
    "| Go | ✓ | | ✓ | | | vtable | ✓ |\n",
    "| JVM | ✓ | | ✓ | | ✓ | ✓ | stdlib |\n",
    "| Lua | ✓ | | ✓ | ✓ | ✓ | ✓ | |\n",
    "| Python | ✓ | ✓ | ✓ | ✓ | ✓ | ✓ | stdlib |"
   ]
  },
  {
   "cell_type": "markdown",
   "id": "de90d9d4-b93a-41f8-8522-65cc3ee27d0b",
   "metadata": {
    "editable": true,
    "slideshow": {
     "slide_type": "slide"
    },
    "tags": []
   },
   "source": [
    "<img src=\"img/benchmark-games-2023.svg\" style=\"width: 80%; margin: 3em auto;\">"
   ]
  },
  {
   "cell_type": "markdown",
   "id": "fc1f62cd-2b9b-4a42-a33f-0d54572f840a",
   "metadata": {
    "editable": true,
    "slideshow": {
     "slide_type": "slide"
    },
    "tags": []
   },
   "source": [
    "## Understanding why Python is slow"
   ]
  },
  {
   "cell_type": "markdown",
   "id": "4195ce28-c158-4e7c-8247-43e76b239f00",
   "metadata": {
    "editable": true,
    "slideshow": {
     "slide_type": "slide"
    },
    "tags": []
   },
   "source": [
    "How do dynamic features slow down a calculation?"
   ]
  },
  {
   "cell_type": "markdown",
   "id": "2f7fa048-3bc3-4518-8615-ace89bd92fe4",
   "metadata": {
    "editable": true,
    "slideshow": {
     "slide_type": ""
    },
    "tags": []
   },
   "source": [
    "<br>"
   ]
  },
  {
   "cell_type": "code",
   "execution_count": null,
   "id": "9aba30b6-5f5a-4f56-ad3b-a09f8c28696a",
   "metadata": {
    "editable": true,
    "slideshow": {
     "slide_type": ""
    },
    "tags": []
   },
   "outputs": [],
   "source": [
    "import numpy as np"
   ]
  },
  {
   "cell_type": "markdown",
   "id": "28895ed0-ba6c-488d-92c2-78f36f78e3b1",
   "metadata": {
    "editable": true,
    "slideshow": {
     "slide_type": ""
    },
    "tags": []
   },
   "source": [
    "<br>"
   ]
  },
  {
   "cell_type": "code",
   "execution_count": null,
   "id": "e3fd5eca-62e3-4f92-978d-83b69d548f9f",
   "metadata": {
    "editable": true,
    "slideshow": {
     "slide_type": ""
    },
    "tags": []
   },
   "outputs": [],
   "source": [
    "million_integers = np.random.normal(0, 10, 1_000_000).astype(np.int32)\n",
    "million_integers"
   ]
  },
  {
   "cell_type": "markdown",
   "id": "a273ef1b-2a89-4a29-8597-c54e5a19c820",
   "metadata": {
    "editable": true,
    "slideshow": {
     "slide_type": ""
    },
    "tags": []
   },
   "source": [
    "<br>"
   ]
  },
  {
   "cell_type": "code",
   "execution_count": null,
   "id": "d098f70f-36a5-48b7-8cc0-e504559f012d",
   "metadata": {
    "editable": true,
    "slideshow": {
     "slide_type": ""
    },
    "tags": []
   },
   "outputs": [],
   "source": [
    "def addthem_python(data):\n",
    "    out = 0\n",
    "    for x in data:\n",
    "        out += x\n",
    "    return out"
   ]
  },
  {
   "cell_type": "code",
   "execution_count": null,
   "id": "b5e3ed8d-d81c-42f9-b108-b6baa6c4feb2",
   "metadata": {
    "editable": true,
    "slideshow": {
     "slide_type": "slide"
    },
    "tags": []
   },
   "outputs": [],
   "source": [
    "%%writefile addthem.c\n",
    "\n",
    "int run(int* data) {\n",
    "    int out = 0;\n",
    "    for (int i = 0;  i < 1000000;  i++) {\n",
    "        out += data[i];\n",
    "    }\n",
    "    return out;\n",
    "}"
   ]
  },
  {
   "cell_type": "markdown",
   "id": "5d3f21f2-b73a-49e8-84cd-0f2f143c8f1f",
   "metadata": {
    "editable": true,
    "slideshow": {
     "slide_type": ""
    },
    "tags": []
   },
   "source": [
    "<br>"
   ]
  },
  {
   "cell_type": "code",
   "execution_count": null,
   "id": "c8568ba2-59cc-402f-bc04-18ff24236db4",
   "metadata": {
    "editable": true,
    "slideshow": {
     "slide_type": ""
    },
    "tags": []
   },
   "outputs": [],
   "source": [
    "!cc -O0 -shared addthem.c -o libaddthem_attempt1.so"
   ]
  },
  {
   "cell_type": "markdown",
   "id": "23da4086-dfc3-4d00-b7be-5813c4775b3f",
   "metadata": {
    "editable": true,
    "slideshow": {
     "slide_type": ""
    },
    "tags": []
   },
   "source": [
    "<br>"
   ]
  },
  {
   "cell_type": "code",
   "execution_count": null,
   "id": "8b39f7e7-359d-4719-b7b6-3c59336b03bc",
   "metadata": {
    "editable": true,
    "slideshow": {
     "slide_type": ""
    },
    "tags": []
   },
   "outputs": [],
   "source": [
    "import ctypes"
   ]
  },
  {
   "cell_type": "markdown",
   "id": "aa7c3ca0-72fb-4ec9-8523-90bcbc39d06b",
   "metadata": {
    "editable": true,
    "slideshow": {
     "slide_type": ""
    },
    "tags": []
   },
   "source": [
    "<br>"
   ]
  },
  {
   "cell_type": "code",
   "execution_count": null,
   "id": "1825cf78-5da2-46a4-ad17-27b2323d3fe2",
   "metadata": {
    "editable": true,
    "slideshow": {
     "slide_type": ""
    },
    "tags": []
   },
   "outputs": [],
   "source": [
    "libaddthem = ctypes.cdll.LoadLibrary(\"./libaddthem_attempt1.so\")\n",
    "pointer_to_ints = ctypes.POINTER(ctypes.c_int)\n",
    "libaddthem.run.argtypes = (pointer_to_ints,)\n",
    "libaddthem.run.restype = ctypes.c_int"
   ]
  },
  {
   "cell_type": "code",
   "execution_count": null,
   "id": "ef82e14a-9276-4167-8c86-b5402f3b26ce",
   "metadata": {
    "editable": true,
    "slideshow": {
     "slide_type": "slide"
    },
    "tags": []
   },
   "outputs": [],
   "source": [
    "addthem_python(million_integers)"
   ]
  },
  {
   "cell_type": "markdown",
   "id": "31f9d84f-5041-4b5a-b5cd-393de2bf00b9",
   "metadata": {
    "editable": true,
    "slideshow": {
     "slide_type": ""
    },
    "tags": []
   },
   "source": [
    "<br>"
   ]
  },
  {
   "cell_type": "code",
   "execution_count": null,
   "id": "c4fb8103-808e-4964-bd06-7bf6214e66a2",
   "metadata": {
    "editable": true,
    "slideshow": {
     "slide_type": ""
    },
    "tags": []
   },
   "outputs": [],
   "source": [
    "libaddthem.run(million_integers.ctypes.data_as(pointer_to_ints))"
   ]
  },
  {
   "cell_type": "markdown",
   "id": "8f11705d-1ca8-4368-832a-f03567f5daab",
   "metadata": {
    "editable": true,
    "slideshow": {
     "slide_type": ""
    },
    "tags": []
   },
   "source": [
    "<br>"
   ]
  },
  {
   "cell_type": "code",
   "execution_count": null,
   "id": "0cb59ded-5ba1-4729-84c2-52983b7f6206",
   "metadata": {
    "editable": true,
    "slideshow": {
     "slide_type": ""
    },
    "tags": []
   },
   "outputs": [],
   "source": [
    "%%timeit\n",
    "\n",
    "addthem_python(million_integers)"
   ]
  },
  {
   "cell_type": "markdown",
   "id": "cfd84448-82f6-4798-ad59-6c804d16d721",
   "metadata": {
    "editable": true,
    "slideshow": {
     "slide_type": ""
    },
    "tags": []
   },
   "source": [
    "<br>"
   ]
  },
  {
   "cell_type": "code",
   "execution_count": null,
   "id": "67e3dee7-2f5e-405b-ba17-a6125dd296f0",
   "metadata": {
    "editable": true,
    "slideshow": {
     "slide_type": ""
    },
    "tags": []
   },
   "outputs": [],
   "source": [
    "%%timeit\n",
    "\n",
    "libaddthem.run(million_integers.ctypes.data_as(pointer_to_ints))"
   ]
  },
  {
   "cell_type": "markdown",
   "id": "a621622e-f1a3-4abc-b7cc-c5b47bdae7a8",
   "metadata": {
    "editable": true,
    "slideshow": {
     "slide_type": "slide"
    },
    "tags": []
   },
   "source": [
    "To see what's slowing Python down, let's look at a toy language with similar dynamic features"
   ]
  },
  {
   "cell_type": "markdown",
   "id": "f7af73f9-6dfe-4446-bcda-2c81e42856fc",
   "metadata": {
    "editable": true,
    "slideshow": {
     "slide_type": ""
    },
    "tags": []
   },
   "source": [
    "<br>"
   ]
  },
  {
   "cell_type": "code",
   "execution_count": null,
   "id": "b014baa4-b726-4800-96f2-3805f43d46de",
   "metadata": {
    "editable": true,
    "slideshow": {
     "slide_type": ""
    },
    "tags": []
   },
   "outputs": [],
   "source": [
    "!c++ -std=c++11 -O3 baby-python.cpp -o baby-python"
   ]
  },
  {
   "cell_type": "markdown",
   "id": "0040c336-f84b-4fbb-8a40-8af907c8c935",
   "metadata": {
    "editable": true,
    "slideshow": {
     "slide_type": ""
    },
    "tags": []
   },
   "source": [
    "<br>"
   ]
  },
  {
   "cell_type": "code",
   "execution_count": null,
   "id": "a57e79e6-936b-42fa-b3eb-63d9e08311dc",
   "metadata": {
    "editable": true,
    "slideshow": {
     "slide_type": ""
    },
    "tags": []
   },
   "outputs": [],
   "source": [
    "%%bash\n",
    "\n",
    "./baby-python <<EOF\n",
    "123\n",
    "add(3, 5)\n",
    "square_them = def(x) mul(x, x)\n",
    "map(square_them, [1, 2, 3, 4, 5])\n",
    "EOF"
   ]
  },
  {
   "cell_type": "code",
   "execution_count": null,
   "id": "ecd8f015-31bd-4c9e-9ae4-6b1a1d40f94d",
   "metadata": {
    "editable": true,
    "slideshow": {
     "slide_type": "slide"
    },
    "tags": []
   },
   "outputs": [],
   "source": [
    "million_integers.tofile(\"million_integers.int32\")"
   ]
  },
  {
   "cell_type": "markdown",
   "id": "a467c828-15ee-4dfb-b49e-a90b49bdcf7b",
   "metadata": {
    "editable": true,
    "slideshow": {
     "slide_type": ""
    },
    "tags": []
   },
   "source": [
    "<br>"
   ]
  },
  {
   "cell_type": "code",
   "execution_count": null,
   "id": "68f6ca28-85af-4635-9041-6c02bc674c69",
   "metadata": {
    "editable": true,
    "slideshow": {
     "slide_type": ""
    },
    "tags": []
   },
   "outputs": [],
   "source": [
    "%%bash\n",
    "\n",
    "./baby-python data=million_integers.int32 <<EOF\n",
    "reduce(add, data)\n",
    "reduce(add, data)\n",
    "reduce(add, data)\n",
    "EOF"
   ]
  },
  {
   "cell_type": "markdown",
   "id": "0f2d26fc-0a41-418e-ab87-88c6a69f0953",
   "metadata": {
    "editable": true,
    "slideshow": {
     "slide_type": "slide"
    },
    "tags": []
   },
   "source": [
    "What baby-python is doing:\n",
    "\n",
    "* variables are in an `unordered_map<string, shared_ptr<Object>>`\n",
    "* `Object` is an abstract class; C++ has to maintain a vtable to keep track of which type each concrete instance is (runtime polymorphism)\n",
    "* instructions are represented by a data structure that must be traversed (abstract syntax tree, or AST)\n",
    "* parsing and data-loading happen before the loop over data and are not slowing it down"
   ]
  },
  {
   "cell_type": "markdown",
   "id": "9a3e1ce3-8d74-4cb0-a6a1-f475711ce5a4",
   "metadata": {
    "editable": true,
    "slideshow": {
     "slide_type": ""
    },
    "tags": []
   },
   "source": [
    "<br>"
   ]
  },
  {
   "cell_type": "code",
   "execution_count": null,
   "id": "e23d54a3-5d7a-4162-8cbc-bc2ac0d70b62",
   "metadata": {
    "editable": true,
    "slideshow": {
     "slide_type": ""
    },
    "tags": []
   },
   "outputs": [],
   "source": [
    "from pygments import highlight\n",
    "from pygments.lexers import CppLexer\n",
    "from pygments.formatters import HtmlFormatter\n",
    "from IPython.display import display, HTML"
   ]
  },
  {
   "cell_type": "markdown",
   "id": "bf9c8614-ea5a-42ca-bc5f-9f08a29e73ab",
   "metadata": {
    "editable": true,
    "slideshow": {
     "slide_type": ""
    },
    "tags": []
   },
   "source": [
    "<br>"
   ]
  },
  {
   "cell_type": "code",
   "execution_count": null,
   "id": "96a8a363-ea06-40b2-a600-2b0e888f97d3",
   "metadata": {
    "editable": true,
    "slideshow": {
     "slide_type": ""
    },
    "tags": []
   },
   "outputs": [],
   "source": [
    "with open(\"baby-python.cpp\") as file:\n",
    "    display(HTML(highlight(file.read(), CppLexer(), HtmlFormatter())))"
   ]
  },
  {
   "cell_type": "markdown",
   "id": "139fd861-ac43-402c-ae33-0a1e55794ba6",
   "metadata": {
    "editable": true,
    "slideshow": {
     "slide_type": "slide"
    },
    "tags": []
   },
   "source": [
    "Similarly in Python:\n",
    "\n",
    "* variables are in a `dict[str, object]`"
   ]
  },
  {
   "cell_type": "markdown",
   "id": "43f7bc68-6010-4d27-a06f-90217b698e35",
   "metadata": {
    "editable": true,
    "slideshow": {
     "slide_type": ""
    },
    "tags": []
   },
   "source": [
    "<br>"
   ]
  },
  {
   "cell_type": "code",
   "execution_count": null,
   "id": "01e8cf50-d9ff-4104-b8a9-7296e4203b16",
   "metadata": {
    "editable": true,
    "slideshow": {
     "slide_type": ""
    },
    "tags": []
   },
   "outputs": [],
   "source": [
    "globals()"
   ]
  },
  {
   "cell_type": "markdown",
   "id": "605eb8a5-57a9-4d1e-8134-5793a5e60ee3",
   "metadata": {
    "editable": true,
    "slideshow": {
     "slide_type": "slide"
    },
    "tags": []
   },
   "source": [
    "Similarly in Python:\n",
    "\n",
    "* all data share an overloaded struct type (implemented in C, rather than using C++ to generate vtables automatically)\n",
    "\n",
    "```c\n",
    "struct PyObject {\n",
    "    Py_size_t ob_refcnt;    // reference count for garbage collection\n",
    "    PyObject* ob_type;      // the object's type (also a PyObject)\n",
    "                            // more fields that depend on type\n",
    "};\n",
    "```"
   ]
  },
  {
   "cell_type": "code",
   "execution_count": null,
   "id": "dce8067b-144b-4431-972e-76fdec15e579",
   "metadata": {
    "editable": true,
    "slideshow": {
     "slide_type": "slide"
    },
    "tags": []
   },
   "outputs": [],
   "source": [
    "class PyObject(ctypes.Structure):\n",
    "    pass\n",
    "\n",
    "PyObject._fields_ = [\n",
    "    (\"ob_refcnt\", ctypes.c_size_t),\n",
    "    (\"ob_type\", ctypes.POINTER(PyObject)),\n",
    "]"
   ]
  },
  {
   "cell_type": "markdown",
   "id": "f04bbf73-7d28-46fe-967e-55291aeec170",
   "metadata": {
    "editable": true,
    "slideshow": {
     "slide_type": ""
    },
    "tags": []
   },
   "source": [
    "<br>"
   ]
  },
  {
   "cell_type": "code",
   "execution_count": null,
   "id": "6918bbfc-6b23-4573-9429-6b4741eb58cf",
   "metadata": {
    "editable": true,
    "slideshow": {
     "slide_type": ""
    },
    "tags": []
   },
   "outputs": [],
   "source": [
    "some_string = \"This is a nice string.\""
   ]
  },
  {
   "cell_type": "markdown",
   "id": "77b75e62-75ea-41a1-b39a-a31555cf606f",
   "metadata": {
    "editable": true,
    "slideshow": {
     "slide_type": ""
    },
    "tags": []
   },
   "source": [
    "<br>"
   ]
  },
  {
   "cell_type": "code",
   "execution_count": null,
   "id": "9dc4484b-e18c-495c-a5d4-34b5aa842cb6",
   "metadata": {
    "editable": true,
    "slideshow": {
     "slide_type": ""
    },
    "tags": []
   },
   "outputs": [],
   "source": [
    "c_some_string = PyObject.from_address(id(some_string))"
   ]
  },
  {
   "cell_type": "markdown",
   "id": "df0af81d-6578-4101-9855-a9d031940075",
   "metadata": {
    "editable": true,
    "slideshow": {
     "slide_type": ""
    },
    "tags": []
   },
   "source": [
    "<br>"
   ]
  },
  {
   "cell_type": "code",
   "execution_count": null,
   "id": "3a8f86c8-6879-4036-8fa4-2e07291eceae",
   "metadata": {
    "editable": true,
    "slideshow": {
     "slide_type": ""
    },
    "tags": []
   },
   "outputs": [],
   "source": [
    "c_some_string.ob_refcnt"
   ]
  },
  {
   "cell_type": "markdown",
   "id": "130260b5-7bdd-468f-a635-34b99ecce1f4",
   "metadata": {
    "editable": true,
    "slideshow": {
     "slide_type": ""
    },
    "tags": []
   },
   "source": [
    "<br>"
   ]
  },
  {
   "cell_type": "code",
   "execution_count": null,
   "id": "6aa5c056-b6b2-4177-a6eb-6bce704c43ef",
   "metadata": {
    "editable": true,
    "slideshow": {
     "slide_type": ""
    },
    "tags": []
   },
   "outputs": [],
   "source": [
    "list_of_string = [some_string] * 100"
   ]
  },
  {
   "cell_type": "markdown",
   "id": "efce99e5-db78-4f3f-9401-0984efaf54b5",
   "metadata": {
    "editable": true,
    "slideshow": {
     "slide_type": ""
    },
    "tags": []
   },
   "source": [
    "<br>"
   ]
  },
  {
   "cell_type": "code",
   "execution_count": null,
   "id": "20fca921-7b3e-43f0-a017-b18a7c8e805a",
   "metadata": {
    "editable": true,
    "slideshow": {
     "slide_type": ""
    },
    "tags": []
   },
   "outputs": [],
   "source": [
    "ctypes.cast(c_some_string.ob_type, ctypes.c_void_p).value == id(str)"
   ]
  },
  {
   "cell_type": "markdown",
   "id": "57e41c88-e6ab-44f5-bdef-abc7ca101dec",
   "metadata": {
    "editable": true,
    "slideshow": {
     "slide_type": "slide"
    },
    "tags": []
   },
   "source": [
    "Similarly in Python:\n",
    "\n",
    "* instructions are represented by a data structure that must be traversed (an array of bytecodes)"
   ]
  },
  {
   "cell_type": "markdown",
   "id": "9ccdb28f-3ec2-4930-9197-15c3c3b56e3d",
   "metadata": {
    "editable": true,
    "slideshow": {
     "slide_type": ""
    },
    "tags": []
   },
   "source": [
    "<br>"
   ]
  },
  {
   "cell_type": "code",
   "execution_count": null,
   "id": "0d93b707-7e9a-428d-8d5d-e94f19e15dcf",
   "metadata": {
    "editable": true,
    "slideshow": {
     "slide_type": ""
    },
    "tags": []
   },
   "outputs": [],
   "source": [
    "import dis"
   ]
  },
  {
   "cell_type": "markdown",
   "id": "e24ab31c-5fe5-42a5-9e2a-b726c87ffe40",
   "metadata": {
    "editable": true,
    "slideshow": {
     "slide_type": ""
    },
    "tags": []
   },
   "source": [
    "<br>"
   ]
  },
  {
   "cell_type": "code",
   "execution_count": null,
   "id": "a0419fae-4d8c-426c-84ae-5424b070bc98",
   "metadata": {
    "editable": true,
    "slideshow": {
     "slide_type": ""
    },
    "tags": []
   },
   "outputs": [],
   "source": [
    "dis.dis(addthem_python)\n",
    "# lineno|offset|opcode_name      |argument|description\n",
    "# ------+------+-----------------+--------+------------"
   ]
  },
  {
   "cell_type": "markdown",
   "id": "78c972d2-6696-4cb2-bc5b-4cbff06d6df0",
   "metadata": {
    "editable": true,
    "slideshow": {
     "slide_type": ""
    },
    "tags": []
   },
   "source": [
    "<br>"
   ]
  },
  {
   "cell_type": "markdown",
   "id": "4a61e3b6-9b5b-406a-8aa0-df92dd377ede",
   "metadata": {
    "editable": true,
    "slideshow": {
     "slide_type": "fragment"
    },
    "tags": []
   },
   "source": [
    "None of the above instructions specify data types. The code that adds (`BINARY_OP 13`) has to determine that `x` is an integer, over and over, for a million values."
   ]
  },
  {
   "cell_type": "markdown",
   "id": "f41023bc-5179-4c9e-aa84-c2c064ac1532",
   "metadata": {
    "editable": true,
    "slideshow": {
     "slide_type": "slide"
    },
    "tags": []
   },
   "source": [
    "By contrast, the instructions generated by a compiler are passed directly to the CPU, and therefore have to be different instructions for different data types."
   ]
  },
  {
   "cell_type": "markdown",
   "id": "1520f061-763c-4ed3-9dbe-8e1d4931cf9f",
   "metadata": {
    "editable": true,
    "slideshow": {
     "slide_type": ""
    },
    "tags": []
   },
   "source": [
    "<br>"
   ]
  },
  {
   "cell_type": "code",
   "execution_count": null,
   "id": "b6940148-c5ec-4bf9-a0aa-b2727e0952fe",
   "metadata": {
    "editable": true,
    "slideshow": {
     "slide_type": ""
    },
    "tags": []
   },
   "outputs": [],
   "source": [
    "!cc -O0 -c addthem.c"
   ]
  },
  {
   "cell_type": "markdown",
   "id": "b1c45596-f47d-41e4-be7c-09865d437484",
   "metadata": {
    "editable": true,
    "slideshow": {
     "slide_type": ""
    },
    "tags": []
   },
   "source": [
    "<br>"
   ]
  },
  {
   "cell_type": "code",
   "execution_count": null,
   "id": "8ba2314d-5c5a-448d-8372-4d6d54c1e356",
   "metadata": {
    "editable": true,
    "slideshow": {
     "slide_type": ""
    },
    "tags": []
   },
   "outputs": [],
   "source": [
    "!objdump -d addthem.o"
   ]
  },
  {
   "cell_type": "markdown",
   "id": "cbadbd27-7d49-4c73-9ae0-d00386097f97",
   "metadata": {
    "editable": true,
    "slideshow": {
     "slide_type": "slide"
    },
    "tags": []
   },
   "source": [
    "## Python escape hatches: NumPy"
   ]
  },
  {
   "cell_type": "markdown",
   "id": "6f463c70-3ab5-449f-9736-40591e162672",
   "metadata": {
    "editable": true,
    "slideshow": {
     "slide_type": ""
    },
    "tags": []
   },
   "source": [
    "<br>"
   ]
  },
  {
   "cell_type": "markdown",
   "id": "d3b916ff-7b59-45b8-891d-a23688ac65bf",
   "metadata": {
    "editable": true,
    "slideshow": {
     "slide_type": ""
    },
    "tags": []
   },
   "source": [
    "\"Making Python go fast\" usually means \"using something other than Python in hot loops.\"\n",
    "\n",
    "NumPy provides an array type and suite of functions to do that."
   ]
  },
  {
   "cell_type": "markdown",
   "id": "d8658f7b-ca28-44f1-9f22-2a6ee0dbacfe",
   "metadata": {
    "editable": true,
    "slideshow": {
     "slide_type": "slide"
    },
    "tags": []
   },
   "source": [
    "<img src=\"img/python-list-layout.svg\" style=\"width: 80%; margin: 3em auto;\">"
   ]
  },
  {
   "cell_type": "markdown",
   "id": "b0b4c7be-1957-4056-b6b8-13e133bebd1b",
   "metadata": {
    "editable": true,
    "slideshow": {
     "slide_type": "slide"
    },
    "tags": []
   },
   "source": [
    "<img src=\"img/python-array-layout.svg\" style=\"width: 80%; margin: 3em auto;\">"
   ]
  },
  {
   "cell_type": "code",
   "execution_count": null,
   "id": "c3a8a71c-4a16-4bae-8626-ffe078b2e4df",
   "metadata": {
    "editable": true,
    "slideshow": {
     "slide_type": "slide"
    },
    "tags": []
   },
   "outputs": [],
   "source": [
    "%%timeit\n",
    "\n",
    "addthem_python(million_integers)"
   ]
  },
  {
   "cell_type": "markdown",
   "id": "91054a19-bd40-4e6b-8777-90a78d1df27f",
   "metadata": {
    "editable": true,
    "slideshow": {
     "slide_type": ""
    },
    "tags": []
   },
   "source": [
    "<br>"
   ]
  },
  {
   "cell_type": "code",
   "execution_count": null,
   "id": "574a304a-bf94-42fd-a4a6-4ea26605c36d",
   "metadata": {
    "editable": true,
    "slideshow": {
     "slide_type": ""
    },
    "tags": []
   },
   "outputs": [],
   "source": [
    "%%timeit\n",
    "\n",
    "np.sum(million_integers)"
   ]
  },
  {
   "cell_type": "markdown",
   "id": "d5ec951f-3df4-4176-b736-a83c9da7a3b2",
   "metadata": {
    "editable": true,
    "slideshow": {
     "slide_type": ""
    },
    "tags": []
   },
   "source": [
    "<br>"
   ]
  },
  {
   "cell_type": "markdown",
   "id": "c0607f82-79cd-4d0f-a91c-67b908626e49",
   "metadata": {
    "editable": true,
    "slideshow": {
     "slide_type": "fragment"
    },
    "tags": []
   },
   "source": [
    "But you know about NumPy (and Pandas, and everything else that uses NumPy)."
   ]
  },
  {
   "cell_type": "markdown",
   "id": "2c5e9a4e-c000-4069-9d4b-ab58fab05e33",
   "metadata": {
    "editable": true,
    "slideshow": {
     "slide_type": "slide"
    },
    "tags": []
   },
   "source": [
    "## Python escape hatches: Awkward Array"
   ]
  },
  {
   "cell_type": "markdown",
   "id": "f57e9cf8-09ad-4839-8b41-745cccb7a8e2",
   "metadata": {
    "editable": true,
    "slideshow": {
     "slide_type": ""
    },
    "tags": []
   },
   "source": [
    "<br>"
   ]
  },
  {
   "cell_type": "markdown",
   "id": "db3b06a3-9b36-4187-9e11-60dd7032408d",
   "metadata": {
    "editable": true,
    "slideshow": {
     "slide_type": ""
    },
    "tags": []
   },
   "source": [
    "Like NumPy, but for irregularly shaped data structures."
   ]
  },
  {
   "cell_type": "markdown",
   "id": "da7fc7bb-5950-411d-8ca4-a1d6ac260edb",
   "metadata": {
    "editable": true,
    "slideshow": {
     "slide_type": ""
    },
    "tags": []
   },
   "source": [
    "<img src=\"img/awkward-motivation-venn-diagram.svg\" style=\"width: 30%; margin: 1em auto;\">"
   ]
  },
  {
   "cell_type": "code",
   "execution_count": null,
   "id": "7493c7a0-23b7-45f6-a331-3b119a3a4833",
   "metadata": {
    "editable": true,
    "slideshow": {
     "slide_type": "slide"
    },
    "tags": []
   },
   "outputs": [],
   "source": [
    "import awkward as ak"
   ]
  },
  {
   "cell_type": "code",
   "execution_count": null,
   "id": "40dcd927-151d-4b3a-926a-46f8cc82582e",
   "metadata": {
    "editable": true,
    "slideshow": {
     "slide_type": ""
    },
    "tags": []
   },
   "outputs": [],
   "source": [
    "ragged = ak.Array([\n",
    "    [\n",
    "      [[1.84, 0.324]],\n",
    "      [[-1.609, -0.713, 0.005], [0.953, -0.993, 0.011, 0.718]],\n",
    "      [[0.459, -1.517, 1.545], [0.33, 0.292]],\n",
    "      [[-0.376, -1.46, -0.206], [0.65, 1.278]],\n",
    "      [[], [], [1.617]],\n",
    "      []\n",
    "    ],\n",
    "    [\n",
    "      [[-0.106, 0.611]],\n",
    "      [[0.118, -1.788, 0.794, 0.658], [-0.105]]\n",
    "    ],\n",
    "    [\n",
    "      [[-0.384], [0.697, -0.856]],\n",
    "      [[0.778, 0.023, -1.455, -2.289], [-0.67], [1.153, -1.669, 0.305, 1.517, -0.292]]\n",
    "    ],\n",
    "    [\n",
    "      [[0.205, -0.355], [-0.265], [1.042]],\n",
    "      [[-0.004], [-1.167, -0.054, 0.726, 0.213]],\n",
    "      [[1.741, -0.199, 0.827]]\n",
    "    ]\n",
    "])"
   ]
  },
  {
   "cell_type": "code",
   "execution_count": null,
   "id": "c58dbb25-c68d-4e78-b316-bd04e05f0478",
   "metadata": {
    "editable": true,
    "slideshow": {
     "slide_type": "slide"
    },
    "tags": []
   },
   "outputs": [],
   "source": [
    "print(ragged[3, 1, -1, 2])"
   ]
  },
  {
   "cell_type": "markdown",
   "id": "db9f65db-49b6-4681-87d7-8c9e6c0ae7d8",
   "metadata": {
    "editable": true,
    "slideshow": {
     "slide_type": ""
    },
    "tags": []
   },
   "source": [
    "<br>"
   ]
  },
  {
   "cell_type": "code",
   "execution_count": null,
   "id": "d6d73d40-caa2-4070-8468-25abc63de854",
   "metadata": {
    "editable": true,
    "slideshow": {
     "slide_type": "fragment"
    },
    "tags": []
   },
   "outputs": [],
   "source": [
    "print(ragged[3, 1:, -1, 1:3])"
   ]
  },
  {
   "cell_type": "markdown",
   "id": "3be269f0-8143-467f-8195-c812bad839fd",
   "metadata": {
    "editable": true,
    "slideshow": {
     "slide_type": ""
    },
    "tags": []
   },
   "source": [
    "<br>"
   ]
  },
  {
   "cell_type": "code",
   "execution_count": null,
   "id": "84e799a8-61ed-4d91-9350-5baefdefc899",
   "metadata": {
    "editable": true,
    "slideshow": {
     "slide_type": "fragment"
    },
    "tags": []
   },
   "outputs": [],
   "source": [
    "print(ragged[[False, False, True, True], [0, -1, 0, -1], 0, -1])"
   ]
  },
  {
   "cell_type": "markdown",
   "id": "45aad93e-91cf-48e7-87d0-88e9e6c74c04",
   "metadata": {
    "editable": true,
    "slideshow": {
     "slide_type": ""
    },
    "tags": []
   },
   "source": [
    "<br>"
   ]
  },
  {
   "cell_type": "code",
   "execution_count": null,
   "id": "42d1972f-eda4-4b91-896d-95254a9e2ce3",
   "metadata": {
    "editable": true,
    "slideshow": {
     "slide_type": "fragment"
    },
    "tags": []
   },
   "outputs": [],
   "source": [
    "print(ragged[ragged > 0])"
   ]
  },
  {
   "cell_type": "markdown",
   "id": "66d1dcdc-918c-412b-8adb-bf00bafdf790",
   "metadata": {
    "editable": true,
    "slideshow": {
     "slide_type": ""
    },
    "tags": []
   },
   "source": [
    "<br>"
   ]
  },
  {
   "cell_type": "code",
   "execution_count": null,
   "id": "e73801af-5e58-4ff4-8a3d-1c0cdebfe493",
   "metadata": {
    "editable": true,
    "slideshow": {
     "slide_type": "fragment"
    },
    "tags": []
   },
   "outputs": [],
   "source": [
    "print(ak.sum(ragged))"
   ]
  },
  {
   "cell_type": "markdown",
   "id": "46e97aac-062e-428f-958a-5f8546e27637",
   "metadata": {
    "editable": true,
    "slideshow": {
     "slide_type": "slide"
    },
    "tags": []
   },
   "source": [
    "<img src=\"img/example-reducer-2d.svg\" style=\"width: 40%; margin: 1em auto;\">"
   ]
  },
  {
   "cell_type": "code",
   "execution_count": null,
   "id": "949bad4c-dbb8-4a15-95f6-53ff36d167f9",
   "metadata": {
    "editable": true,
    "slideshow": {
     "slide_type": ""
    },
    "tags": []
   },
   "outputs": [],
   "source": [
    "regular = np.array([\n",
    "    [  1,   2,   3,   4],\n",
    "    [ 10,  20,  30,  40],\n",
    "    [100, 200, 300, 400],\n",
    "])"
   ]
  },
  {
   "cell_type": "markdown",
   "id": "276e8a81-cfa3-4a93-b2a4-2f1972edb5e1",
   "metadata": {
    "editable": true,
    "slideshow": {
     "slide_type": ""
    },
    "tags": []
   },
   "source": [
    "<br>"
   ]
  },
  {
   "cell_type": "code",
   "execution_count": null,
   "id": "64779406-ee6d-4a3c-bcb7-f7957df0f01b",
   "metadata": {
    "editable": true,
    "slideshow": {
     "slide_type": ""
    },
    "tags": []
   },
   "outputs": [],
   "source": [
    "np.sum(regular, axis=0)"
   ]
  },
  {
   "cell_type": "markdown",
   "id": "265d0226-2205-4ea2-9b32-6bd4d66350df",
   "metadata": {
    "editable": true,
    "slideshow": {
     "slide_type": ""
    },
    "tags": []
   },
   "source": [
    "<br>"
   ]
  },
  {
   "cell_type": "code",
   "execution_count": null,
   "id": "9c5b3ce2-df4d-4270-b204-2039e6b5c40d",
   "metadata": {
    "editable": true,
    "slideshow": {
     "slide_type": ""
    },
    "tags": []
   },
   "outputs": [],
   "source": [
    "np.sum(regular, axis=1)"
   ]
  },
  {
   "cell_type": "markdown",
   "id": "182a5ce4-b21a-4a1f-be10-50ea02c5af40",
   "metadata": {
    "editable": true,
    "slideshow": {
     "slide_type": "slide"
    },
    "tags": []
   },
   "source": [
    "<img src=\"img/example-reduction-sum.svg\" style=\"width: 40%; margin: 1em auto;\">"
   ]
  },
  {
   "cell_type": "code",
   "execution_count": null,
   "id": "ba2f9807-42f6-486f-a070-795080404e53",
   "metadata": {
    "editable": true,
    "slideshow": {
     "slide_type": ""
    },
    "tags": []
   },
   "outputs": [],
   "source": [
    "irregular = ak.Array([\n",
    "    [   1,    2,    4],\n",
    "    [                ],\n",
    "    [None,    8      ],\n",
    "    [  16            ],\n",
    "])"
   ]
  },
  {
   "cell_type": "markdown",
   "id": "041a6113-f7cb-441b-9387-e7b4a6b6fd3e",
   "metadata": {
    "editable": true,
    "slideshow": {
     "slide_type": ""
    },
    "tags": []
   },
   "source": [
    "<br>"
   ]
  },
  {
   "cell_type": "code",
   "execution_count": null,
   "id": "be4c92bb-cbf4-4ae2-a70c-6ce3502f711d",
   "metadata": {
    "editable": true,
    "slideshow": {
     "slide_type": ""
    },
    "tags": []
   },
   "outputs": [],
   "source": [
    "print(ak.sum(irregular, axis=0))"
   ]
  },
  {
   "cell_type": "markdown",
   "id": "86a9de81-37b7-4f7f-931f-255e41ee8d8a",
   "metadata": {
    "editable": true,
    "slideshow": {
     "slide_type": ""
    },
    "tags": []
   },
   "source": [
    "<br>"
   ]
  },
  {
   "cell_type": "code",
   "execution_count": null,
   "id": "f1ccf022-5d05-4a70-a4a6-fffc1ac2d7c5",
   "metadata": {
    "editable": true,
    "slideshow": {
     "slide_type": ""
    },
    "tags": []
   },
   "outputs": [],
   "source": [
    "print(ak.sum(irregular, axis=1))"
   ]
  },
  {
   "cell_type": "code",
   "execution_count": null,
   "id": "d982d736-297a-4504-b847-af5996c08b35",
   "metadata": {
    "editable": true,
    "slideshow": {
     "slide_type": "slide"
    },
    "tags": []
   },
   "outputs": [],
   "source": [
    "ragged.layout"
   ]
  },
  {
   "cell_type": "markdown",
   "id": "da532b5c-71c9-4d73-b4ee-e04f4b66d961",
   "metadata": {
    "editable": true,
    "slideshow": {
     "slide_type": ""
    },
    "tags": []
   },
   "source": [
    "<br>"
   ]
  },
  {
   "cell_type": "markdown",
   "id": "70107b25-b8dd-46d6-8a6e-f8ee40eeb834",
   "metadata": {
    "editable": true,
    "slideshow": {
     "slide_type": "fragment"
    },
    "tags": []
   },
   "source": [
    "All operations are implemented as compiled functions on `<NumpyArray>` and `<Index>` arrays, which don't need to know a node's `<content>` type."
   ]
  },
  {
   "cell_type": "code",
   "execution_count": null,
   "id": "db1eb744-dd03-456b-b7a6-007ef49a148e",
   "metadata": {
    "editable": true,
    "slideshow": {
     "slide_type": "slide"
    },
    "tags": []
   },
   "outputs": [],
   "source": [
    "million_records = ak.from_parquet(\"data/million_records.parquet\")\n",
    "million_records"
   ]
  },
  {
   "cell_type": "code",
   "execution_count": null,
   "id": "02182590-7900-4fd3-b3d4-2b305449474d",
   "metadata": {
    "editable": true,
    "slideshow": {
     "slide_type": "slide"
    },
    "tags": []
   },
   "outputs": [],
   "source": [
    "%%timeit\n",
    "\n",
    "np.square(million_records[\"y\", ..., 1:])"
   ]
  },
  {
   "cell_type": "markdown",
   "id": "9ee7c7de-bb09-4551-93be-ec9619a2dd20",
   "metadata": {
    "editable": true,
    "slideshow": {
     "slide_type": ""
    },
    "tags": []
   },
   "source": [
    "<br>"
   ]
  },
  {
   "cell_type": "code",
   "execution_count": null,
   "id": "4f66f22e-2d5a-42b1-80f8-848dd480062d",
   "metadata": {
    "editable": true,
    "slideshow": {
     "slide_type": ""
    },
    "tags": []
   },
   "outputs": [],
   "source": [
    "million_dicts = ak.to_list(million_records)"
   ]
  },
  {
   "cell_type": "markdown",
   "id": "f602330d-7f67-4a1c-8d6f-1377b17c0680",
   "metadata": {
    "editable": true,
    "slideshow": {
     "slide_type": ""
    },
    "tags": []
   },
   "source": [
    "<br>"
   ]
  },
  {
   "cell_type": "code",
   "execution_count": null,
   "id": "7bbe7d67-8bf8-4401-9469-757ac92a1205",
   "metadata": {
    "editable": true,
    "slideshow": {
     "slide_type": ""
    },
    "tags": []
   },
   "outputs": [],
   "source": [
    "%%timeit -n1 -r1\n",
    "\n",
    "output = []\n",
    "for sublist in million_dicts:\n",
    "    tmp1 = []\n",
    "    for record in sublist:\n",
    "        tmp2 = []\n",
    "        for number in record[\"y\"][1:]:\n",
    "            tmp2.append(np.square(number))\n",
    "        tmp1.append(tmp2)\n",
    "    output.append(tmp1)"
   ]
  },
  {
   "cell_type": "markdown",
   "id": "59fccb4a-0cac-4ad5-bb22-eb8def36af2c",
   "metadata": {
    "editable": true,
    "slideshow": {
     "slide_type": ""
    },
    "tags": []
   },
   "source": [
    "<br>"
   ]
  },
  {
   "cell_type": "markdown",
   "id": "6362e77c-b3c7-492c-99a7-b22cc3a3ff2e",
   "metadata": {
    "editable": true,
    "slideshow": {
     "slide_type": "fragment"
    },
    "tags": []
   },
   "source": [
    "Also, `million_records` uses 10× less memory than `million_dicts`."
   ]
  },
  {
   "cell_type": "markdown",
   "id": "4e2e60fb-fd58-4db5-b7b6-76f37eca4e4b",
   "metadata": {
    "editable": true,
    "slideshow": {
     "slide_type": "slide"
    },
    "tags": []
   },
   "source": [
    "## Python escape hatches: JIT-compilation"
   ]
  },
  {
   "cell_type": "markdown",
   "id": "4ff81263-dab8-4914-a2d5-8621c82c7d93",
   "metadata": {
    "editable": true,
    "slideshow": {
     "slide_type": ""
    },
    "tags": []
   },
   "source": [
    "<br>"
   ]
  },
  {
   "cell_type": "markdown",
   "id": "caf04ad7-c353-41f6-bb9a-7a04a439e9ab",
   "metadata": {
    "editable": true,
    "slideshow": {
     "slide_type": ""
    },
    "tags": []
   },
   "source": [
    "Despite being much faster than pure Python, array-computations are still a few times slower than they could be."
   ]
  },
  {
   "cell_type": "code",
   "execution_count": null,
   "id": "66c5d6f8-a4de-4324-9e4a-d37fc8fa3887",
   "metadata": {
    "editable": true,
    "slideshow": {
     "slide_type": "slide"
    },
    "tags": []
   },
   "outputs": [],
   "source": [
    "def quadratic_formula(a: np.array, b: np.array, c: np.array) -> np.array:\n",
    "    return (-b + np.sqrt(b**2 - 4*a*c)) / (2*a)"
   ]
  },
  {
   "cell_type": "markdown",
   "id": "57253e00-0b20-4a3d-95ea-496bceb0fb43",
   "metadata": {
    "editable": true,
    "slideshow": {
     "slide_type": ""
    },
    "tags": []
   },
   "source": [
    "<br>"
   ]
  },
  {
   "cell_type": "markdown",
   "id": "7fa8a704-ad86-4acd-9642-7a871d85c976",
   "metadata": {
    "editable": true,
    "slideshow": {
     "slide_type": ""
    },
    "tags": []
   },
   "source": [
    "runs whole arrays through each operation before moving on to the next, like this:"
   ]
  },
  {
   "cell_type": "markdown",
   "id": "7ce7acd8-27a7-4278-b652-6fee62188d78",
   "metadata": {
    "editable": true,
    "slideshow": {
     "slide_type": ""
    },
    "tags": []
   },
   "source": [
    "<br>"
   ]
  },
  {
   "cell_type": "code",
   "execution_count": null,
   "id": "102e4a94-82be-446d-96dd-261cabe1894e",
   "metadata": {
    "editable": true,
    "slideshow": {
     "slide_type": ""
    },
    "tags": []
   },
   "outputs": [],
   "source": [
    "def pedantic_quadratic_formula(a: np.array, b: np.array, c: np.array) -> np.array:\n",
    "    tmp1 = np.negative(b)            # -b\n",
    "    tmp2 = np.square(b)              # b**2\n",
    "    tmp3 = np.multiply(4, a)         # 4*a\n",
    "    tmp4 = np.multiply(tmp3, c)      # tmp3*c\n",
    "    del tmp3\n",
    "    tmp5 = np.subtract(tmp2, tmp4)   # tmp2 - tmp4\n",
    "    del tmp2, tmp4\n",
    "    tmp6 = np.sqrt(tmp5)             # sqrt(tmp5)\n",
    "    del tmp5\n",
    "    tmp7 = np.add(tmp1, tmp6)        # tmp1 + tmp6\n",
    "    del tmp1, tmp6\n",
    "    tmp8 = np.multiply(2, a)         # 2*a\n",
    "    return np.divide(tmp7, tmp8)     # tmp7 / tmp8"
   ]
  },
  {
   "cell_type": "code",
   "execution_count": null,
   "id": "27892474-a8bb-4a31-810d-b358fea5f963",
   "metadata": {
    "editable": true,
    "slideshow": {
     "slide_type": "slide"
    },
    "tags": []
   },
   "outputs": [],
   "source": [
    "a = np.random.uniform(5, 10, 5_000_000)\n",
    "b = np.random.uniform(10, 20, 5_000_000)\n",
    "c = np.random.uniform(-0.1, 0.1, 5_000_000)"
   ]
  },
  {
   "cell_type": "markdown",
   "id": "e703d2c8-a5a5-4205-b4e4-ce0658cb21c8",
   "metadata": {
    "editable": true,
    "slideshow": {
     "slide_type": ""
    },
    "tags": []
   },
   "source": [
    "<br>"
   ]
  },
  {
   "cell_type": "code",
   "execution_count": null,
   "id": "8f300f31-6d03-4070-91c3-2e863ac44020",
   "metadata": {
    "editable": true,
    "slideshow": {
     "slide_type": ""
    },
    "tags": []
   },
   "outputs": [],
   "source": [
    "%%timeit\n",
    "\n",
    "quadratic_formula(a, b, c)"
   ]
  },
  {
   "cell_type": "markdown",
   "id": "5808c8eb-796c-4372-aec7-0cc4130799af",
   "metadata": {
    "editable": true,
    "slideshow": {
     "slide_type": ""
    },
    "tags": []
   },
   "source": [
    "<br>"
   ]
  },
  {
   "cell_type": "code",
   "execution_count": null,
   "id": "453b5429-e6d9-4238-b4b4-bbc85aa71c03",
   "metadata": {
    "editable": true,
    "slideshow": {
     "slide_type": ""
    },
    "tags": []
   },
   "outputs": [],
   "source": [
    "%%timeit\n",
    "\n",
    "pedantic_quadratic_formula(a, b, c)"
   ]
  },
  {
   "cell_type": "markdown",
   "id": "3777809e-c1ff-4a9c-83b3-667b06f9b5ba",
   "metadata": {
    "editable": true,
    "slideshow": {
     "slide_type": "slide"
    },
    "tags": []
   },
   "source": [
    "But if we compile the formula, we can make it only one loop over the arrays."
   ]
  },
  {
   "cell_type": "markdown",
   "id": "86798bb1-19c3-49b7-826d-14a1fd7c331c",
   "metadata": {
    "editable": true,
    "slideshow": {
     "slide_type": ""
    },
    "tags": []
   },
   "source": [
    "<br>"
   ]
  },
  {
   "cell_type": "code",
   "execution_count": null,
   "id": "d68a4e36-70df-4fb7-b0ce-f1118570d187",
   "metadata": {
    "editable": true,
    "slideshow": {
     "slide_type": ""
    },
    "tags": []
   },
   "outputs": [],
   "source": [
    "%%writefile quadratic_formula_pybind11.cpp\n",
    "\n",
    "#include <pybind11/pybind11.h>\n",
    "#include <pybind11/numpy.h>\n",
    "namespace py = pybind11;\n",
    "\n",
    "void run(py::array_t<double, py::array::c_style | py::array::forcecast> a_numpy,\n",
    "         py::array_t<double, py::array::c_style | py::array::forcecast> b_numpy,\n",
    "         py::array_t<double, py::array::c_style | py::array::forcecast> c_numpy,\n",
    "         py::array_t<double> output_numpy) {\n",
    "    const double* a = a_numpy.data();\n",
    "    const double* b = b_numpy.data();\n",
    "    const double* c = c_numpy.data();\n",
    "    double* output = output_numpy.mutable_data();\n",
    "    for (int i = 0;  i < output_numpy.size();  i++) {\n",
    "        output[i] = (-b[i] + sqrt(b[i]*b[i] - 4*a[i]*c[i])) / (2*a[i]);\n",
    "    }\n",
    "}\n",
    "\n",
    "PYBIND11_MODULE(quadratic_formula_pybind11, m) {\n",
    "    m.def(\"run\", &run);\n",
    "}"
   ]
  },
  {
   "cell_type": "code",
   "execution_count": null,
   "id": "cc7db50f-b86e-4177-abdf-9ec8eb6388c6",
   "metadata": {
    "editable": true,
    "slideshow": {
     "slide_type": "slide"
    },
    "tags": []
   },
   "outputs": [],
   "source": [
    "import os\n",
    "import sys\n",
    "from pybind11 import get_include\n",
    "\n",
    "inc = \"-I \" + get_include()\n",
    "plat = \"-undefined dynamic_lookup\" if \"darwin\" in sys.platform else \"-fPIC\"\n",
    "pyinc = !python3-config --cflags"
   ]
  },
  {
   "cell_type": "markdown",
   "id": "62444bdc-a975-41f4-b859-8f414548f5ab",
   "metadata": {
    "editable": true,
    "slideshow": {
     "slide_type": ""
    },
    "tags": []
   },
   "source": [
    "<br>"
   ]
  },
  {
   "cell_type": "code",
   "execution_count": null,
   "id": "a2b4825b-0d1b-443c-beba-1781aa368450",
   "metadata": {
    "editable": true,
    "slideshow": {
     "slide_type": ""
    },
    "tags": []
   },
   "outputs": [],
   "source": [
    "!c++ -std=c++11 quadratic_formula_pybind11.cpp -shared {inc} {pyinc.s} -o quadratic_formula_pybind11.so {plat}"
   ]
  },
  {
   "cell_type": "markdown",
   "id": "7c6d808e-70c1-4575-a655-98612a314054",
   "metadata": {
    "editable": true,
    "slideshow": {
     "slide_type": ""
    },
    "tags": []
   },
   "source": [
    "<br>"
   ]
  },
  {
   "cell_type": "code",
   "execution_count": null,
   "id": "b01e630b-6768-4c1c-9e83-57c0ae506da3",
   "metadata": {
    "editable": true,
    "slideshow": {
     "slide_type": "fragment"
    },
    "tags": []
   },
   "outputs": [],
   "source": [
    "import quadratic_formula_pybind11"
   ]
  },
  {
   "cell_type": "markdown",
   "id": "15804f99-1aa0-4381-9f4a-0255ad0765ce",
   "metadata": {
    "editable": true,
    "slideshow": {
     "slide_type": ""
    },
    "tags": []
   },
   "source": [
    "<br>"
   ]
  },
  {
   "cell_type": "code",
   "execution_count": null,
   "id": "613fa43b-b9ff-4827-929d-a60a9dd96d95",
   "metadata": {
    "editable": true,
    "slideshow": {
     "slide_type": ""
    },
    "tags": []
   },
   "outputs": [],
   "source": [
    "output = np.zeros(len(a), dtype=np.float64)\n",
    "quadratic_formula_pybind11.run(a, b, c, output)\n",
    "output"
   ]
  },
  {
   "cell_type": "code",
   "execution_count": null,
   "id": "46f8bbc6-a018-4618-a2a7-fbd05da4a498",
   "metadata": {
    "editable": true,
    "slideshow": {
     "slide_type": "slide"
    },
    "tags": []
   },
   "outputs": [],
   "source": [
    "%%timeit\n",
    "\n",
    "quadratic_formula(a, b, c)"
   ]
  },
  {
   "cell_type": "markdown",
   "id": "a540955a-f182-4b1a-a4fc-ad47e901a628",
   "metadata": {
    "editable": true,
    "slideshow": {
     "slide_type": ""
    },
    "tags": []
   },
   "source": [
    "<br>"
   ]
  },
  {
   "cell_type": "code",
   "execution_count": null,
   "id": "d5536539-9ce2-4128-8cf8-5d1e84dc17e4",
   "metadata": {
    "editable": true,
    "slideshow": {
     "slide_type": ""
    },
    "tags": []
   },
   "outputs": [],
   "source": [
    "%%timeit\n",
    "\n",
    "output = np.zeros(len(a), dtype=np.float64)\n",
    "quadratic_formula_pybind11.run(a, b, c, output)"
   ]
  },
  {
   "cell_type": "markdown",
   "id": "77116fbc-da4a-4b9c-ae64-0bcfec8aeba7",
   "metadata": {
    "editable": true,
    "slideshow": {
     "slide_type": ""
    },
    "tags": []
   },
   "source": [
    "<br>"
   ]
  },
  {
   "cell_type": "markdown",
   "id": "b57f48dd-9423-4f17-880a-977affe26f3a",
   "metadata": {
    "editable": true,
    "slideshow": {
     "slide_type": "fragment"
    },
    "tags": []
   },
   "source": [
    "Accessing memory is slower than most mathematical operations, so doing a lot of math in one pass is better than doing a little math in many passes."
   ]
  },
  {
   "cell_type": "markdown",
   "id": "8a4ae775-594f-4a1b-96d9-e2ebe327e501",
   "metadata": {
    "editable": true,
    "slideshow": {
     "slide_type": "slide"
    },
    "tags": []
   },
   "source": [
    "Many, many libraries try to make it easy to integrate compilation into Python workflows."
   ]
  },
  {
   "cell_type": "markdown",
   "id": "bb2e98b7-97fa-4e9f-b619-871f8c202b8d",
   "metadata": {
    "editable": true,
    "slideshow": {
     "slide_type": ""
    },
    "tags": []
   },
   "source": [
    "<img src=\"img/history-of-bindings-2.svg\" style=\"width: 80%; margin: 1em auto;\">"
   ]
  },
  {
   "cell_type": "markdown",
   "id": "9e2e0f09-3457-4fcd-bcb5-703cdbb6c7b4",
   "metadata": {
    "editable": true,
    "slideshow": {
     "slide_type": "slide"
    },
    "tags": []
   },
   "source": [
    "Numba is a Just-In-Time (JIT) compiler for Python"
   ]
  },
  {
   "cell_type": "markdown",
   "id": "ec87e14a-f2dc-4dc2-a674-83e830245b46",
   "metadata": {
    "editable": true,
    "slideshow": {
     "slide_type": ""
    },
    "tags": []
   },
   "source": [
    "<br>"
   ]
  },
  {
   "cell_type": "code",
   "execution_count": null,
   "id": "8385ee31-6b35-4be2-bf6f-e0aaeca2d4d1",
   "metadata": {
    "editable": true,
    "slideshow": {
     "slide_type": ""
    },
    "tags": []
   },
   "outputs": [],
   "source": [
    "import numba as nb"
   ]
  },
  {
   "cell_type": "markdown",
   "id": "8ba05c4e-8fae-4279-aec1-5d847c732df9",
   "metadata": {
    "editable": true,
    "slideshow": {
     "slide_type": ""
    },
    "tags": []
   },
   "source": [
    "<br>"
   ]
  },
  {
   "cell_type": "code",
   "execution_count": null,
   "id": "fb04f243-d9bf-4ecf-9d99-8d20fde0e171",
   "metadata": {
    "editable": true,
    "slideshow": {
     "slide_type": ""
    },
    "tags": []
   },
   "outputs": [],
   "source": [
    "@nb.jit\n",
    "def quadratic_formula_numba(a, b, c):\n",
    "    output = np.empty(len(a), dtype=np.float64)\n",
    "    for i, (a_i, b_i, c_i) in enumerate(zip(a, b, c)):\n",
    "        output[i] = (-b_i + np.sqrt(b_i**2 - 4*a_i*c_i)) / (2*a_i)\n",
    "    return output\n",
    "\n",
    "quadratic_formula_numba(a, b, c)"
   ]
  },
  {
   "cell_type": "markdown",
   "id": "b241b9df-420c-4146-951d-f519805e3f7d",
   "metadata": {
    "editable": true,
    "slideshow": {
     "slide_type": ""
    },
    "tags": []
   },
   "source": [
    "<br>"
   ]
  },
  {
   "cell_type": "code",
   "execution_count": null,
   "id": "19a574d1-47de-4478-b24a-d13647bd88ab",
   "metadata": {
    "editable": true,
    "slideshow": {
     "slide_type": "fragment"
    },
    "tags": []
   },
   "outputs": [],
   "source": [
    "%%timeit\n",
    "\n",
    "quadratic_formula_numba(a, b, c)"
   ]
  },
  {
   "cell_type": "markdown",
   "id": "8bd66259-fe3a-43ca-ad0e-014423a18eef",
   "metadata": {
    "editable": true,
    "slideshow": {
     "slide_type": "slide"
    },
    "tags": []
   },
   "source": [
    "Numba _replaces_ the Python code with LLVM Intermediate Representation, then asks the LLVM toolchain to compile it. The result is essentially the same as compiled C code, except that it interfaces with _some_ Python data types, such as NumPy arrays."
   ]
  },
  {
   "cell_type": "markdown",
   "id": "b4a15752-1c4a-4e3f-b14b-cc49e05ad54d",
   "metadata": {
    "editable": true,
    "slideshow": {
     "slide_type": ""
    },
    "tags": []
   },
   "source": [
    "<br>"
   ]
  },
  {
   "cell_type": "code",
   "execution_count": null,
   "id": "a56e9074-caa4-4090-88e7-3cf9fc6b7d1c",
   "metadata": {
    "editable": true,
    "slideshow": {
     "slide_type": ""
    },
    "tags": []
   },
   "outputs": [],
   "source": [
    "print(quadratic_formula_numba.inspect_asm(quadratic_formula_numba.signatures[0]))"
   ]
  },
  {
   "cell_type": "markdown",
   "id": "b7d24867-9764-47a7-885e-151edd858380",
   "metadata": {
    "editable": true,
    "slideshow": {
     "slide_type": "slide"
    },
    "tags": []
   },
   "source": [
    "JAX is a JIT-compiler for Python that uses array syntax, rather than `for` loops"
   ]
  },
  {
   "cell_type": "markdown",
   "id": "3840c5e9-696f-4079-af44-ce7e4cb198c0",
   "metadata": {
    "editable": true,
    "slideshow": {
     "slide_type": ""
    },
    "tags": []
   },
   "source": [
    "<br>"
   ]
  },
  {
   "cell_type": "code",
   "execution_count": null,
   "id": "bb39d978-c3bd-4268-82c5-74007cd43b12",
   "metadata": {
    "editable": true,
    "slideshow": {
     "slide_type": ""
    },
    "tags": []
   },
   "outputs": [],
   "source": [
    "import jax\n",
    "jax.config.update(\"jax_platform_name\", \"cpu\")\n",
    "jax.config.update(\"jax_enable_x64\", True)"
   ]
  },
  {
   "cell_type": "markdown",
   "id": "b3884866-a8d8-4880-809d-205b107a76dd",
   "metadata": {
    "editable": true,
    "slideshow": {
     "slide_type": ""
    },
    "tags": []
   },
   "source": [
    "<br>"
   ]
  },
  {
   "cell_type": "code",
   "execution_count": null,
   "id": "a878ef09-108f-44d4-98a4-baa95218e7e8",
   "metadata": {
    "editable": true,
    "slideshow": {
     "slide_type": ""
    },
    "tags": []
   },
   "outputs": [],
   "source": [
    "@jax.jit\n",
    "def quadratic_formula_jax(a, b, c):\n",
    "    return (-b + jax.numpy.sqrt(b**2 - 4*a*c)) / (2*a)\n",
    "\n",
    "quadratic_formula_jax(a, b, c)"
   ]
  },
  {
   "cell_type": "markdown",
   "id": "207f4dd1-062d-44f7-a628-b76ab00cae2e",
   "metadata": {
    "editable": true,
    "slideshow": {
     "slide_type": ""
    },
    "tags": []
   },
   "source": [
    "<br>"
   ]
  },
  {
   "cell_type": "code",
   "execution_count": null,
   "id": "cd5710f9-3433-41bc-b442-7d9fc36b691a",
   "metadata": {
    "editable": true,
    "slideshow": {
     "slide_type": ""
    },
    "tags": []
   },
   "outputs": [],
   "source": [
    "%%timeit\n",
    "\n",
    "quadratic_formula_jax(a, b, c).block_until_ready()"
   ]
  },
  {
   "cell_type": "markdown",
   "id": "bbff57ac-752e-429f-aa5e-d58295f96c00",
   "metadata": {
    "editable": true,
    "slideshow": {
     "slide_type": "slide"
    },
    "tags": []
   },
   "source": [
    "I showed both Numba and JAX because of their different programming styles."
   ]
  },
  {
   "cell_type": "markdown",
   "id": "eaccea11-99ce-486b-b95e-4e3021f8e4a2",
   "metadata": {
    "editable": true,
    "slideshow": {
     "slide_type": ""
    },
    "tags": []
   },
   "source": [
    "<br>"
   ]
  },
  {
   "cell_type": "markdown",
   "id": "a41bb305-af48-4b02-8d0e-d82b551dab2d",
   "metadata": {
    "editable": true,
    "slideshow": {
     "slide_type": ""
    },
    "tags": []
   },
   "source": [
    "<img src=\"img/slow-fast-imperative-vectorized.svg\" style=\"width: 60%; margin: 1em auto;\">"
   ]
  },
  {
   "cell_type": "markdown",
   "id": "964578f6-bce3-47f7-9c8c-1f9c3fa7c56f",
   "metadata": {
    "editable": true,
    "slideshow": {
     "slide_type": "slide"
    },
    "tags": []
   },
   "source": [
    "<img src=\"img/mandelbrot.png\" style=\"width: 400px; float: right;\">\n",
    "\n",
    "For a deep comparison of Python accelerators, see [mandelbrot-on-all-accelerators.ipynb](https://drive.google.com/file/d/1J0l5e0NZm5kEm5BEUDG4neN5EN0VVCnt/view?usp=sharing) on Google Colab.\n",
    "\n",
    "<br clear=\"all\">"
   ]
  },
  {
   "cell_type": "markdown",
   "id": "dceece51-625d-4ab9-aa40-6a1b2e9fbe3f",
   "metadata": {
    "editable": true,
    "slideshow": {
     "slide_type": "fragment"
    },
    "tags": []
   },
   "source": [
    "The bottom line is:\n",
    "\n",
    "<img src=\"img/plot-mandelbrot-on-all-accelerators.svg\"  style=\"width: 80%; margin: 1em auto;\">"
   ]
  },
  {
   "cell_type": "markdown",
   "id": "6d523a63-631e-4ee2-9361-e0eb53c15b35",
   "metadata": {
    "editable": true,
    "slideshow": {
     "slide_type": "slide"
    },
    "tags": []
   },
   "source": [
    "## Special topics: the Python garbage collector"
   ]
  },
  {
   "cell_type": "markdown",
   "id": "5136d21c-f609-4d51-9f82-f88ce70e6a7f",
   "metadata": {
    "editable": true,
    "slideshow": {
     "slide_type": ""
    },
    "tags": []
   },
   "source": [
    "<br>"
   ]
  },
  {
   "cell_type": "markdown",
   "id": "2ac6f2ea-ff57-4ae7-a836-41e8b8e84f82",
   "metadata": {
    "editable": true,
    "slideshow": {
     "slide_type": ""
    },
    "tags": []
   },
   "source": [
    "Different languages take different approaches to dynamic memory management"
   ]
  },
  {
   "cell_type": "markdown",
   "id": "250f055f-b70d-4339-8447-049dc77e1d09",
   "metadata": {
    "editable": true,
    "slideshow": {
     "slide_type": "fragment"
    },
    "tags": []
   },
   "source": [
    "* C doesn't do it at all"
   ]
  },
  {
   "cell_type": "markdown",
   "id": "3c3cb493-9954-401a-8605-eccdf991211b",
   "metadata": {
    "editable": true,
    "slideshow": {
     "slide_type": "fragment"
    },
    "tags": []
   },
   "source": [
    "* Swift uses reference counts and no garbage collector"
   ]
  },
  {
   "cell_type": "markdown",
   "id": "bf037115-823d-478e-86bb-088cad437799",
   "metadata": {
    "editable": true,
    "slideshow": {
     "slide_type": "fragment"
    },
    "tags": []
   },
   "source": [
    "* Julia, Go, JVM languages, and Lua use a garbage collector and no reference counts"
   ]
  },
  {
   "cell_type": "markdown",
   "id": "09b035d7-fc56-43b8-904f-564ad84bfb01",
   "metadata": {
    "editable": true,
    "slideshow": {
     "slide_type": "fragment"
    },
    "tags": []
   },
   "source": [
    "* Python (CPython) uses both"
   ]
  },
  {
   "cell_type": "code",
   "execution_count": 94,
   "id": "83de81c2-75de-471b-921c-7c84015f35b7",
   "metadata": {
    "editable": true,
    "slideshow": {
     "slide_type": "slide"
    },
    "tags": []
   },
   "outputs": [],
   "source": [
    "import sys"
   ]
  },
  {
   "cell_type": "markdown",
   "id": "bb9352fe-25e2-4d99-a0e3-1e92c7a6faaa",
   "metadata": {
    "editable": true,
    "slideshow": {
     "slide_type": ""
    },
    "tags": []
   },
   "source": [
    "<br>"
   ]
  },
  {
   "cell_type": "code",
   "execution_count": 101,
   "id": "7d8f00fc-d9ef-42b2-92b4-09db2436fc88",
   "metadata": {
    "editable": true,
    "slideshow": {
     "slide_type": ""
    },
    "tags": []
   },
   "outputs": [
    {
     "data": {
      "text/plain": [
       "2"
      ]
     },
     "execution_count": 101,
     "metadata": {},
     "output_type": "execute_result"
    }
   ],
   "source": [
    "x = object()\n",
    "sys.getrefcount(x)"
   ]
  },
  {
   "cell_type": "markdown",
   "id": "93139c64-553d-454a-a020-73ae689401c1",
   "metadata": {
    "editable": true,
    "slideshow": {
     "slide_type": ""
    },
    "tags": []
   },
   "source": [
    "<br>"
   ]
  },
  {
   "cell_type": "code",
   "execution_count": 102,
   "id": "4343c5a9-45a8-44d3-be1d-bde652ff66c2",
   "metadata": {
    "editable": true,
    "slideshow": {
     "slide_type": "fragment"
    },
    "tags": []
   },
   "outputs": [
    {
     "data": {
      "text/plain": [
       "3"
      ]
     },
     "execution_count": 102,
     "metadata": {},
     "output_type": "execute_result"
    }
   ],
   "source": [
    "y = x\n",
    "sys.getrefcount(x)"
   ]
  },
  {
   "cell_type": "markdown",
   "id": "6cb8fa47-2afd-49df-8e0b-e07db942edb5",
   "metadata": {
    "editable": true,
    "slideshow": {
     "slide_type": ""
    },
    "tags": []
   },
   "source": [
    "<br>"
   ]
  },
  {
   "cell_type": "code",
   "execution_count": 103,
   "id": "bc363e90-c6bd-48f4-82f1-f51da71c3c78",
   "metadata": {
    "editable": true,
    "slideshow": {
     "slide_type": "fragment"
    },
    "tags": []
   },
   "outputs": [
    {
     "data": {
      "text/plain": [
       "8"
      ]
     },
     "execution_count": 103,
     "metadata": {},
     "output_type": "execute_result"
    }
   ],
   "source": [
    "z = [x, x, x, x, x]\n",
    "sys.getrefcount(x)"
   ]
  },
  {
   "cell_type": "markdown",
   "id": "189097c7-dffd-44cb-8c75-ecfb86c9d191",
   "metadata": {
    "editable": true,
    "slideshow": {
     "slide_type": ""
    },
    "tags": []
   },
   "source": [
    "<br>"
   ]
  },
  {
   "cell_type": "code",
   "execution_count": 104,
   "id": "d32e83b1-5ef2-4fcc-83c5-21a6db95e3ed",
   "metadata": {
    "editable": true,
    "slideshow": {
     "slide_type": "fragment"
    },
    "tags": []
   },
   "outputs": [
    {
     "data": {
      "text/plain": [
       "2"
      ]
     },
     "execution_count": 104,
     "metadata": {},
     "output_type": "execute_result"
    }
   ],
   "source": [
    "del x, z\n",
    "sys.getrefcount(y)"
   ]
  },
  {
   "cell_type": "code",
   "execution_count": 105,
   "id": "4274938f-09b2-4d63-88e5-736a2f35333a",
   "metadata": {
    "editable": true,
    "slideshow": {
     "slide_type": "slide"
    },
    "tags": []
   },
   "outputs": [],
   "source": [
    "class HasDestructor:\n",
    "    def __del__(self):\n",
    "        print(\"Goodbye, world\")"
   ]
  },
  {
   "cell_type": "markdown",
   "id": "6c9b5292-7acd-406f-9d0c-21b10ee4303f",
   "metadata": {
    "editable": true,
    "slideshow": {
     "slide_type": ""
    },
    "tags": []
   },
   "source": [
    "<br>"
   ]
  },
  {
   "cell_type": "code",
   "execution_count": 106,
   "id": "3ecff33f-4905-4b11-9887-91a03b22b66a",
   "metadata": {
    "editable": true,
    "slideshow": {
     "slide_type": "fragment"
    },
    "tags": []
   },
   "outputs": [
    {
     "name": "stdout",
     "output_type": "stream",
     "text": [
      "Goodbye, world\n"
     ]
    }
   ],
   "source": [
    "x = HasDestructor()\n",
    "del x"
   ]
  },
  {
   "cell_type": "markdown",
   "id": "2f30ccf9-fa52-42f6-82e8-cdbd00af2099",
   "metadata": {
    "editable": true,
    "slideshow": {
     "slide_type": ""
    },
    "tags": []
   },
   "source": [
    "<br>"
   ]
  },
  {
   "cell_type": "code",
   "execution_count": 107,
   "id": "31391d64-474c-48a3-9b3f-b3ad0129a183",
   "metadata": {
    "editable": true,
    "slideshow": {
     "slide_type": "fragment"
    },
    "tags": []
   },
   "outputs": [],
   "source": [
    "y = HasDestructor()\n",
    "y.self = y\n",
    "del y"
   ]
  },
  {
   "cell_type": "markdown",
   "id": "e3c2057f-d5ce-44ec-b4f1-01e5afcdfe24",
   "metadata": {
    "editable": true,
    "slideshow": {
     "slide_type": ""
    },
    "tags": []
   },
   "source": [
    "<br>"
   ]
  },
  {
   "cell_type": "code",
   "execution_count": 108,
   "id": "5608295c-1a3b-4236-b91f-120d7db61bf5",
   "metadata": {
    "editable": true,
    "slideshow": {
     "slide_type": "fragment"
    },
    "tags": []
   },
   "outputs": [],
   "source": [
    "import gc"
   ]
  },
  {
   "cell_type": "markdown",
   "id": "a13fdc01-9587-41cf-93f3-cc3e02314725",
   "metadata": {
    "editable": true,
    "slideshow": {
     "slide_type": ""
    },
    "tags": []
   },
   "source": [
    "<br>"
   ]
  },
  {
   "cell_type": "code",
   "execution_count": 109,
   "id": "56f5d9cc-4ccb-424c-8297-b83a0621b46d",
   "metadata": {
    "editable": true,
    "slideshow": {
     "slide_type": "fragment"
    },
    "tags": []
   },
   "outputs": [
    {
     "name": "stdout",
     "output_type": "stream",
     "text": [
      "Goodbye, world\n"
     ]
    },
    {
     "data": {
      "text/plain": [
       "1086858"
      ]
     },
     "execution_count": 109,
     "metadata": {},
     "output_type": "execute_result"
    }
   ],
   "source": [
    "gc.collect()"
   ]
  },
  {
   "cell_type": "markdown",
   "id": "c8ac75ff-a442-40c5-bd04-5eb3acb5d171",
   "metadata": {
    "editable": true,
    "slideshow": {
     "slide_type": "slide"
    },
    "tags": []
   },
   "source": [
    "<img src=\"img/mark-and-sweep-1.png\" style=\"width: 80%; margin: 3em auto;\">"
   ]
  },
  {
   "cell_type": "markdown",
   "id": "3c4c17e0-bbf1-4454-8fd7-c7a37a0f2b66",
   "metadata": {
    "editable": true,
    "slideshow": {
     "slide_type": "slide"
    },
    "tags": []
   },
   "source": [
    "<img src=\"img/mark-and-sweep-2.png\" style=\"width: 80%; margin: 3em auto;\">"
   ]
  },
  {
   "cell_type": "markdown",
   "id": "37810512-2d59-4fd7-831f-2a9546cd8895",
   "metadata": {
    "editable": true,
    "slideshow": {
     "slide_type": "slide"
    },
    "tags": []
   },
   "source": [
    "<img src=\"img/mark-and-sweep-3.png\" style=\"width: 80%; margin: 3em auto;\">"
   ]
  },
  {
   "cell_type": "markdown",
   "id": "65530cc5-9f13-4449-a816-cd07f3c4d6c0",
   "metadata": {
    "editable": true,
    "slideshow": {
     "slide_type": "slide"
    },
    "tags": []
   },
   "source": [
    "<img src=\"img/mark-and-sweep-4.png\" style=\"width: 80%; margin: 3em auto;\">"
   ]
  },
  {
   "cell_type": "markdown",
   "id": "091138be-f965-4c91-95da-576453462742",
   "metadata": {
    "editable": true,
    "slideshow": {
     "slide_type": "slide"
    },
    "tags": []
   },
   "source": [
    "<img src=\"img/mark-and-sweep-5.png\" style=\"width: 80%; margin: 3em auto;\">"
   ]
  },
  {
   "cell_type": "markdown",
   "id": "ba737435-e4b9-4349-bcde-819b550462f9",
   "metadata": {
    "editable": true,
    "slideshow": {
     "slide_type": "slide"
    },
    "tags": []
   },
   "source": [
    "<img src=\"img/mark-and-sweep-6.png\" style=\"width: 80%; margin: 3em auto;\">"
   ]
  },
  {
   "cell_type": "markdown",
   "id": "85438363-9a19-4ffc-b4a4-f8983f06a3e0",
   "metadata": {
    "editable": true,
    "slideshow": {
     "slide_type": "slide"
    },
    "tags": []
   },
   "source": [
    "<img src=\"img/mark-and-sweep-7.png\" style=\"width: 80%; margin: 3em auto;\">"
   ]
  },
  {
   "cell_type": "markdown",
   "id": "a3454eb3-fdc0-4997-9d1c-857a39ef4135",
   "metadata": {
    "editable": true,
    "slideshow": {
     "slide_type": "slide"
    },
    "tags": []
   },
   "source": [
    "Experiments on garbage collectors:\n",
    "\n",
    "```python\n",
    "shuffleA = [7, 6, 4, 10, 0, 15, 9, 8, 13, 5, 12, 14, 3, 11, 2, 1]\n",
    "shuffleB = [3, 8, 0, 15, 11, 2, 6, 7, 12, 9, 1, 14, 5, 13, 4, 10]\n",
    "shuffleC = [2, 13, 6, 7, 4, 5, 10, 3, 12, 15, 8, 9, 14, 1, 0, 11]\n",
    "shuffleD = [7, 5, 9, 15, 4, 2, 13, 12, 0, 8, 11, 6, 3, 1, 10, 14]\n",
    "shuffleE = [14, 11, 10, 8, 0, 6, 5, 1, 13, 9, 7, 4, 2, 12, 3, 15]\n",
    "array = np.empty(16**5, dtype=object)\n",
    "for iA in shuffleA:\n",
    "  for iB in shuffleB:\n",
    "    for iC in shuffleC:\n",
    "      for iD in shuffleD:\n",
    "        for iE in shuffleE:\n",
    "          array[(((iA*16 + iB)*16 + iC)*16 + iD)*16 + iE] = []\n",
    "  for iB in shuffleB:\n",
    "    for iC in shuffleC:\n",
    "      for iD in shuffleD:\n",
    "        for iE in shuffleE:\n",
    "          array[(((iA*16 + iB)*16 + iC)*16 + iD)*16 + iE] = []\n",
    "```\n",
    "\n",
    "Adding or removing the second set of `for` loops varies the lifespan of data."
   ]
  },
  {
   "cell_type": "markdown",
   "id": "1187760d-e706-45d4-bdbd-6c5187068f9c",
   "metadata": {
    "editable": true,
    "slideshow": {
     "slide_type": "slide"
    },
    "tags": []
   },
   "source": [
    "<img src=\"img/gcmeasure-java21.svg\" style=\"width: 100%; margin: 3em auto;\">"
   ]
  },
  {
   "cell_type": "markdown",
   "id": "725bf949-a59b-41ac-bafb-d09f95083955",
   "metadata": {
    "editable": true,
    "slideshow": {
     "slide_type": "slide"
    },
    "tags": []
   },
   "source": [
    "<img src=\"img/gcmeasure-python.svg\" style=\"width: 100%; margin: 3em auto;\">"
   ]
  },
  {
   "cell_type": "markdown",
   "id": "259a0966-e84b-47ad-aee1-894be52dee9f",
   "metadata": {
    "editable": true,
    "slideshow": {
     "slide_type": "slide"
    },
    "tags": []
   },
   "source": [
    "<img src=\"img/gcmeasure-python-zoom.svg\" style=\"width: 100%; margin: 3em auto;\">"
   ]
  },
  {
   "cell_type": "markdown",
   "id": "7c9d2046-6c96-4fb5-b939-f98ad2205ce2",
   "metadata": {
    "editable": true,
    "slideshow": {
     "slide_type": "slide"
    },
    "tags": []
   },
   "source": [
    "<img src=\"img/gcmeasure-pypy.svg\" style=\"width: 100%; margin: 3em auto;\">"
   ]
  },
  {
   "cell_type": "markdown",
   "id": "fdacadaa-9353-456b-bb78-a81478575cb5",
   "metadata": {
    "editable": true,
    "slideshow": {
     "slide_type": "slide"
    },
    "tags": []
   },
   "source": [
    "<img src=\"img/gcmeasure-pypy-zoom.svg\" style=\"width: 100%; margin: 3em auto;\">"
   ]
  },
  {
   "cell_type": "markdown",
   "id": "56dd5358-6345-436c-84a0-026cedba8723",
   "metadata": {
    "editable": true,
    "slideshow": {
     "slide_type": "slide"
    },
    "tags": []
   },
   "source": [
    "<img src=\"img/gcmeasure-julia.svg\" style=\"width: 100%; margin: 3em auto;\">"
   ]
  },
  {
   "cell_type": "markdown",
   "id": "d9b0542d-5ee1-4a6a-9cd6-845beb7231de",
   "metadata": {
    "editable": true,
    "slideshow": {
     "slide_type": "slide"
    },
    "tags": []
   },
   "source": [
    "<img src=\"img/gcmeasure-julia-zoom.svg\" style=\"width: 100%; margin: 3em auto;\">"
   ]
  },
  {
   "cell_type": "markdown",
   "id": "e7911ba4-2d51-4da1-a0b3-d8323fdc3353",
   "metadata": {
    "editable": true,
    "slideshow": {
     "slide_type": "slide"
    },
    "tags": []
   },
   "source": [
    "Surprising fact about Python's garbage collector:\n",
    "\n",
    "* it runs after a fixed number of allocations\n",
    "* _not_ when available memory is low!"
   ]
  },
  {
   "cell_type": "markdown",
   "id": "b624b7b8-2e36-4aba-b04f-5052e6af70cb",
   "metadata": {
    "editable": true,
    "slideshow": {
     "slide_type": ""
    },
    "tags": []
   },
   "source": [
    "<br>"
   ]
  },
  {
   "cell_type": "code",
   "execution_count": 110,
   "id": "c5b4372e-6c2b-4fe4-862c-f915fe261baf",
   "metadata": {
    "editable": true,
    "slideshow": {
     "slide_type": "fragment"
    },
    "tags": []
   },
   "outputs": [
    {
     "data": {
      "text/plain": [
       "(700, 10, 10)"
      ]
     },
     "execution_count": 110,
     "metadata": {},
     "output_type": "execute_result"
    }
   ],
   "source": [
    "gc.get_threshold()"
   ]
  },
  {
   "cell_type": "markdown",
   "id": "49e0da1e-677c-4a7b-b96e-51cc51fe042a",
   "metadata": {
    "editable": true,
    "slideshow": {
     "slide_type": ""
    },
    "tags": []
   },
   "source": [
    "<br>"
   ]
  },
  {
   "cell_type": "markdown",
   "id": "8de9d113-e6fa-4770-a57e-e9c430e58ead",
   "metadata": {
    "editable": true,
    "slideshow": {
     "slide_type": ""
    },
    "tags": []
   },
   "source": [
    "First generation is mark-and-sweeped after 700 allocations; second and third generations after 10."
   ]
  },
  {
   "cell_type": "markdown",
   "id": "54f07f52-0d32-48de-9baa-a680e32cf3e6",
   "metadata": {
    "editable": true,
    "slideshow": {
     "slide_type": "slide"
    },
    "tags": []
   },
   "source": [
    "Experiment: put Python in a limited-memory box\n",
    "\n",
    "```bash\n",
    "systemd-run --user --scope -p MemoryMax=1000M -p MemorySwapMax=0M python\n",
    "```"
   ]
  },
  {
   "cell_type": "markdown",
   "id": "d605ab40-ab86-4988-b7aa-a93f83811e09",
   "metadata": {
    "editable": true,
    "slideshow": {
     "slide_type": "slide"
    },
    "tags": []
   },
   "source": [
    "<img src=\"img/gcbox-python.svg\" style=\"width: 100%; margin: 3em auto;\">"
   ]
  },
  {
   "cell_type": "markdown",
   "id": "9709d118-5d12-437c-82bb-9f378d4ff930",
   "metadata": {
    "editable": true,
    "slideshow": {
     "slide_type": "slide"
    },
    "tags": []
   },
   "source": [
    "<img src=\"img/gcbox-python-10x.svg\" style=\"width: 100%; margin: 3em auto;\">"
   ]
  },
  {
   "cell_type": "markdown",
   "id": "6391c301-68bd-42c6-8e34-93277c52102b",
   "metadata": {
    "editable": true,
    "slideshow": {
     "slide_type": "slide"
    },
    "tags": []
   },
   "source": [
    "<img src=\"img/gcbox-julia.svg\" style=\"width: 100%; margin: 3em auto;\">"
   ]
  },
  {
   "cell_type": "markdown",
   "id": "aa809cad-7ecc-4ef3-a123-378ea661c744",
   "metadata": {
    "editable": true,
    "slideshow": {
     "slide_type": "slide"
    },
    "tags": []
   },
   "source": [
    "## Special topics: the Python GIL (Global Interpreter Lock)"
   ]
  },
  {
   "cell_type": "code",
   "execution_count": 136,
   "id": "d0e29e5e-715a-4483-88dc-b4318a7a4ac8",
   "metadata": {
    "editable": true,
    "slideshow": {
     "slide_type": ""
    },
    "tags": []
   },
   "outputs": [
    {
     "name": "stdout",
     "output_type": "stream",
     "text": [
      "1 worker finished in 5.551621675491333 seconds\n"
     ]
    }
   ],
   "source": [
    "!python3.13 parallel-task.py 1"
   ]
  },
  {
   "cell_type": "code",
   "execution_count": null,
   "id": "a8cc8c18-a3d7-4316-ab36-5a5f97219d62",
   "metadata": {
    "editable": true,
    "slideshow": {
     "slide_type": ""
    },
    "tags": []
   },
   "outputs": [],
   "source": [
    "!python3.13 parallel-task.py 2"
   ]
  },
  {
   "cell_type": "code",
   "execution_count": null,
   "id": "65773c90-6791-4904-abb3-5fe7a6ca836f",
   "metadata": {
    "editable": true,
    "slideshow": {
     "slide_type": ""
    },
    "tags": []
   },
   "outputs": [],
   "source": [
    "!python3.13 parallel-task.py 4"
   ]
  }
 ],
 "metadata": {
  "kernelspec": {
   "display_name": "Python 3 (ipykernel)",
   "language": "python",
   "name": "python3"
  },
  "language_info": {
   "codemirror_mode": {
    "name": "ipython",
    "version": 3
   },
   "file_extension": ".py",
   "mimetype": "text/x-python",
   "name": "python",
   "nbconvert_exporter": "python",
   "pygments_lexer": "ipython3",
   "version": "3.12.11"
  }
 },
 "nbformat": 4,
 "nbformat_minor": 5
}
