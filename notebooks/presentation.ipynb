{
 "cells": [
  {
   "cell_type": "code",
   "execution_count": 1,
   "id": "d98da386-65fb-4b26-b46c-0a3cbecec795",
   "metadata": {
    "editable": true,
    "slideshow": {
     "slide_type": "skip"
    },
    "tags": []
   },
   "outputs": [
    {
     "data": {
      "text/html": [
       "\n",
       "<style>\n",
       ".jp-MarkdownOutput {\n",
       "    font-size: 2.5em !important;\n",
       "}\n",
       ".jp-MarkdownOutput table {\n",
       "    font-size: 1em !important;\n",
       "}\n",
       ".jp-OutputArea-output pre {\n",
       "    font-size: 2em !important;\n",
       "}\n",
       ".cm-content {\n",
       "    font-size: 2em !important;\n",
       "}\n",
       ".page-id-xx, html {\n",
       "    scrollbar-width: none; /* FF */\n",
       "}\n",
       "::-webkit-scrollbar {\n",
       "    width: 0px; /* Chrome & Edge */\n",
       "}\n",
       ".jp-Notebook.jp-mod-commandMode .jp-Cell.jp-mod-selected {\n",
       "    background: none;\n",
       "}\n",
       "</style>\n"
      ],
      "text/plain": [
       "<IPython.core.display.HTML object>"
      ]
     },
     "metadata": {},
     "output_type": "display_data"
    }
   ],
   "source": [
    "%%html\n",
    "\n",
    "<style>\n",
    ".jp-MarkdownOutput {\n",
    "    font-size: 2.5em !important;\n",
    "}\n",
    ".jp-MarkdownOutput table {\n",
    "    font-size: 1em !important;\n",
    "}\n",
    ".jp-OutputArea-output pre {\n",
    "    font-size: 2em !important;\n",
    "}\n",
    ".cm-content {\n",
    "    font-size: 2em !important;\n",
    "}\n",
    ".page-id-xx, html {\n",
    "    scrollbar-width: none; /* FF */\n",
    "}\n",
    "::-webkit-scrollbar {\n",
    "    width: 0px; /* Chrome & Edge */\n",
    "}\n",
    ".jp-Notebook.jp-mod-commandMode .jp-Cell.jp-mod-selected {\n",
    "    background: none;\n",
    "}\n",
    "</style>"
   ]
  },
  {
   "cell_type": "markdown",
   "id": "40a22c12-386b-4c8d-898d-aa31bfc5b876",
   "metadata": {
    "editable": true,
    "slideshow": {
     "slide_type": "slide"
    },
    "tags": []
   },
   "source": [
    "<img src=\"img/title.svg\" style=\"width: 90%; border: 1px solid black; margin: 3em auto;\">"
   ]
  },
  {
   "cell_type": "markdown",
   "id": "9229fcbe-35c9-4841-b01e-25822a850397",
   "metadata": {
    "editable": true,
    "slideshow": {
     "slide_type": "slide"
    },
    "tags": []
   },
   "source": [
    "## Outline"
   ]
  },
  {
   "cell_type": "markdown",
   "id": "d00d9e12-3040-46a2-83b4-d64ddc939225",
   "metadata": {
    "editable": true,
    "slideshow": {
     "slide_type": ""
    },
    "tags": []
   },
   "source": [
    "* Who wants high performance and why?\n",
    "* Understanding why Python is slow\n",
    "* Python escape hatches:\n",
    "  * NumPy\n",
    "  * Awkward Array\n",
    "  * JIT-compilation\n",
    "* Special topics:\n",
    "  * JIT-compilation for GPUs\n",
    "  * The Python garbage collector\n",
    "  * The Python GIL (Global Interpreter Lock)\n",
    "  * Memory-mapping\n",
    "* No conclusions: we'll stop when we run out of time"
   ]
  },
  {
   "cell_type": "markdown",
   "id": "0d61832b-0b8a-4d80-a02e-eb0c7c739432",
   "metadata": {
    "editable": true,
    "slideshow": {
     "slide_type": "slide"
    },
    "tags": []
   },
   "source": [
    "## Who wants high performace and why?"
   ]
  },
  {
   "cell_type": "markdown",
   "id": "43ca3542-dd44-4f81-91f0-794f241fa5e2",
   "metadata": {
    "editable": true,
    "slideshow": {
     "slide_type": "fragment"
    },
    "tags": []
   },
   "source": [
    "* \"I'm shepherding a computation that runs for months and 5% faster means 5% less electricity, operating costs, and $CO_2$.\""
   ]
  },
  {
   "cell_type": "markdown",
   "id": "1775fd3a-f33c-468b-8ac4-b42ae39746a5",
   "metadata": {
    "editable": true,
    "slideshow": {
     "slide_type": "fragment"
    },
    "tags": []
   },
   "source": [
    "* \"I'm building an interactive app, and if each user-initiated action completes in less than human reaction time (100 ms), the app will feel snappy.\""
   ]
  },
  {
   "cell_type": "markdown",
   "id": "346962ab-1ad4-44fc-b819-ce3e97153417",
   "metadata": {
    "editable": true,
    "slideshow": {
     "slide_type": "fragment"
    },
    "tags": []
   },
   "source": [
    "* \"I'm analyzing a large dataset, and if the computation completes over a lunch break instead of overnight, I'll be able to run it more often to do more in-depth investigations.\""
   ]
  },
  {
   "cell_type": "markdown",
   "id": "e38365e0-3e6d-485c-a523-79016b111d3c",
   "metadata": {
    "editable": true,
    "slideshow": {
     "slide_type": "fragment"
    },
    "tags": []
   },
   "source": [
    "* \"I'm trying to do &lt;anything at all&gt;, and I can't because I run out of RAM, open file handles, TTYs, ...\""
   ]
  },
  {
   "cell_type": "markdown",
   "id": "3894ab7a-5d9d-4c07-9181-3fdf09e40287",
   "metadata": {
    "editable": true,
    "slideshow": {
     "slide_type": "slide"
    },
    "tags": []
   },
   "source": [
    "This is me:\n",
    "\n",
    "* \"I'm analyzing a large dataset, and if the computation completes over a lunch break instead of overnight, I'll be able to run it more often to do more in-depth investigations.\"\n",
    "* \"I'm trying to do &lt;anything at all&gt;, and I can't because I run out of RAM, open file handles, TTYs, ...\""
   ]
  },
  {
   "cell_type": "markdown",
   "id": "398d4bf1-aec5-46ad-b722-33861f868ffb",
   "metadata": {
    "editable": true,
    "slideshow": {
     "slide_type": ""
    },
    "tags": []
   },
   "source": [
    "<br><br><br>"
   ]
  },
  {
   "cell_type": "markdown",
   "id": "de0a43d1-2f91-4c8e-abdc-bbd5b646bed6",
   "metadata": {
    "editable": true,
    "slideshow": {
     "slide_type": "fragment"
    },
    "tags": []
   },
   "source": [
    "Therefore, I usually only care about **speed** when it's an order of magnitude gain and **memory** when necessary."
   ]
  },
  {
   "cell_type": "markdown",
   "id": "835ed487-51fe-47a8-a37b-6d03967f60f0",
   "metadata": {
    "editable": true,
    "slideshow": {
     "slide_type": "slide"
    },
    "tags": []
   },
   "source": [
    "<img src=\"img/clock-rate-timeline-1.svg\" style=\"width: 90%; margin: 3em auto;\">"
   ]
  },
  {
   "cell_type": "markdown",
   "id": "c36bf7f6-7601-4240-94f5-294c43ed83ea",
   "metadata": {
    "editable": true,
    "slideshow": {
     "slide_type": "slide"
    },
    "tags": []
   },
   "source": [
    "<img src=\"img/clock-rate-timeline-2.svg\" style=\"width: 90%; margin: 3em auto;\">"
   ]
  },
  {
   "cell_type": "markdown",
   "id": "b12ded3d-b31b-4b31-a084-33ed7e6157db",
   "metadata": {
    "editable": true,
    "slideshow": {
     "slide_type": "slide"
    },
    "tags": []
   },
   "source": [
    "<img src=\"img/clock-rate-timeline-3.svg\" style=\"width: 90%; margin: 3em auto;\">"
   ]
  },
  {
   "cell_type": "markdown",
   "id": "946def58-effe-43ab-a161-7ba618d5e6d2",
   "metadata": {
    "editable": true,
    "slideshow": {
     "slide_type": "slide"
    },
    "tags": []
   },
   "source": [
    "<img src=\"img/clock-rate-timeline-4.svg\" style=\"width: 90%; margin: 3em auto;\">"
   ]
  },
  {
   "cell_type": "markdown",
   "id": "e0b81491-7a02-4206-a7a2-dc107e4e9001",
   "metadata": {
    "editable": true,
    "slideshow": {
     "slide_type": "slide"
    },
    "tags": []
   },
   "source": [
    "There are now only three ways to speed up code:"
   ]
  },
  {
   "cell_type": "markdown",
   "id": "5e1b2209-3f80-46ee-817e-36a0957e0696",
   "metadata": {
    "editable": true,
    "slideshow": {
     "slide_type": "fragment"
    },
    "tags": []
   },
   "source": [
    "1. parallel processing"
   ]
  },
  {
   "cell_type": "markdown",
   "id": "e444100b-7429-41c9-bb4f-dfaa11999772",
   "metadata": {
    "editable": true,
    "slideshow": {
     "slide_type": "fragment"
    },
    "tags": []
   },
   "source": [
    "2. fixing bloopers: what you thought it was doing is not what it's doing, or there's a faster method you just didn't know about"
   ]
  },
  {
   "cell_type": "markdown",
   "id": "0653cd80-a7d8-4962-81cd-fed622282f6e",
   "metadata": {
    "editable": true,
    "slideshow": {
     "slide_type": "fragment"
    },
    "tags": []
   },
   "source": [
    "3. turning off dynamic features that you don't need"
   ]
  },
  {
   "cell_type": "markdown",
   "id": "28adf047-564c-4d84-80c2-6dad7551cffc",
   "metadata": {
    "editable": true,
    "slideshow": {
     "slide_type": "slide"
    },
    "tags": []
   },
   "source": [
    "<img src=\"img/dynamic-features.svg\" style=\"width: 60%; margin: 3em auto;\">"
   ]
  },
  {
   "cell_type": "markdown",
   "id": "500983a8-b2b1-4c40-88e0-488d2713bf00",
   "metadata": {
    "editable": true,
    "slideshow": {
     "slide_type": "slide"
    },
    "tags": []
   },
   "source": [
    "\"Dynamic feature\":\n",
    "\n",
    "* decisions are made in the loop that scales with dataset size\n",
    "\n",
    "<br>\n",
    "\n",
    "\"that you don't need\":\n",
    "\n",
    "* information is known before starting that loop; it doesn't need to be re-derived"
   ]
  },
  {
   "cell_type": "markdown",
   "id": "368d713a-afa0-45ac-a244-146c4f0a7301",
   "metadata": {
    "editable": true,
    "slideshow": {
     "slide_type": "slide"
    },
    "tags": []
   },
   "source": [
    "Dynamic features are often built into the language"
   ]
  },
  {
   "cell_type": "markdown",
   "id": "12008bdb-5312-4e2d-b12c-4b0fd573593e",
   "metadata": {
    "editable": true,
    "slideshow": {
     "slide_type": ""
    },
    "tags": []
   },
   "source": [
    "| | dynamic allocation | reference count | garbage collector | runtime evaluation | virtual machine | type reflection | parallel scheduling |\n",
    "|:--|:--:|:--:|:--:|:--:|:--:|:--:|:--:|\n",
    "| Fortran77 | | | | | | | |\n",
    "| C | ✓ | | | | | | |\n",
    "| C++ | ✓ | `shared_ptr<T>` | | | | vtable | stdlib |\n",
    "| Rust | ✓ | `Rc<T>` | | | | vtable | ✓ |\n",
    "| Swift | ✓ | ✓ | | | | vtable | ✓ |\n",
    "| Julia | ✓ | | ✓ | ✓ | | ✓ | stdlib |\n",
    "| Go | ✓ | | ✓ | | | vtable | ✓ |\n",
    "| JVM | ✓ | | ✓ | | ✓ | ✓ | stdlib |\n",
    "| Lua | ✓ | | ✓ | ✓ | ✓ | ✓ | |\n",
    "| Python | ✓ | ✓ | ✓ | ✓ | ✓ | ✓ | stdlib |"
   ]
  },
  {
   "cell_type": "markdown",
   "id": "de90d9d4-b93a-41f8-8522-65cc3ee27d0b",
   "metadata": {
    "editable": true,
    "slideshow": {
     "slide_type": "slide"
    },
    "tags": []
   },
   "source": [
    "<img src=\"img/benchmark-games-2023.svg\" style=\"width: 80%; margin: 3em auto;\">"
   ]
  },
  {
   "cell_type": "markdown",
   "id": "fc1f62cd-2b9b-4a42-a33f-0d54572f840a",
   "metadata": {
    "editable": true,
    "slideshow": {
     "slide_type": "slide"
    },
    "tags": []
   },
   "source": [
    "## Understanding why Python is slow"
   ]
  },
  {
   "cell_type": "markdown",
   "id": "4195ce28-c158-4e7c-8247-43e76b239f00",
   "metadata": {
    "editable": true,
    "slideshow": {
     "slide_type": "slide"
    },
    "tags": []
   },
   "source": [
    "How do dynamic features slow down a calculation?"
   ]
  },
  {
   "cell_type": "markdown",
   "id": "2f7fa048-3bc3-4518-8615-ace89bd92fe4",
   "metadata": {
    "editable": true,
    "slideshow": {
     "slide_type": ""
    },
    "tags": []
   },
   "source": [
    "<br>"
   ]
  },
  {
   "cell_type": "code",
   "execution_count": 2,
   "id": "9aba30b6-5f5a-4f56-ad3b-a09f8c28696a",
   "metadata": {
    "editable": true,
    "slideshow": {
     "slide_type": ""
    },
    "tags": []
   },
   "outputs": [],
   "source": [
    "import numpy as np"
   ]
  },
  {
   "cell_type": "markdown",
   "id": "28895ed0-ba6c-488d-92c2-78f36f78e3b1",
   "metadata": {
    "editable": true,
    "slideshow": {
     "slide_type": ""
    },
    "tags": []
   },
   "source": [
    "<br>"
   ]
  },
  {
   "cell_type": "code",
   "execution_count": 3,
   "id": "e3fd5eca-62e3-4f92-978d-83b69d548f9f",
   "metadata": {
    "editable": true,
    "slideshow": {
     "slide_type": ""
    },
    "tags": []
   },
   "outputs": [
    {
     "data": {
      "text/plain": [
       "array([ -7,  -2,   2, ...,   7,   6, -15], shape=(1000000,), dtype=int32)"
      ]
     },
     "execution_count": 3,
     "metadata": {},
     "output_type": "execute_result"
    }
   ],
   "source": [
    "million_integers = np.random.normal(0, 10, 1_000_000).astype(np.int32)\n",
    "million_integers"
   ]
  },
  {
   "cell_type": "markdown",
   "id": "a273ef1b-2a89-4a29-8597-c54e5a19c820",
   "metadata": {
    "editable": true,
    "slideshow": {
     "slide_type": ""
    },
    "tags": []
   },
   "source": [
    "<br>"
   ]
  },
  {
   "cell_type": "code",
   "execution_count": 4,
   "id": "d098f70f-36a5-48b7-8cc0-e504559f012d",
   "metadata": {
    "editable": true,
    "slideshow": {
     "slide_type": ""
    },
    "tags": []
   },
   "outputs": [],
   "source": [
    "def addthem_python(data):\n",
    "    out = 0\n",
    "    for x in data:\n",
    "        out += x\n",
    "    return out"
   ]
  },
  {
   "cell_type": "code",
   "execution_count": 5,
   "id": "b5e3ed8d-d81c-42f9-b108-b6baa6c4feb2",
   "metadata": {
    "editable": true,
    "slideshow": {
     "slide_type": "slide"
    },
    "tags": []
   },
   "outputs": [
    {
     "name": "stdout",
     "output_type": "stream",
     "text": [
      "Overwriting addthem.c\n"
     ]
    }
   ],
   "source": [
    "%%writefile addthem.c\n",
    "\n",
    "int run(int* data) {\n",
    "    int out = 0;\n",
    "    for (int i = 0;  i < 1000000;  i++) {\n",
    "        out += data[i];\n",
    "    }\n",
    "    return out;\n",
    "}"
   ]
  },
  {
   "cell_type": "markdown",
   "id": "5d3f21f2-b73a-49e8-84cd-0f2f143c8f1f",
   "metadata": {
    "editable": true,
    "slideshow": {
     "slide_type": ""
    },
    "tags": []
   },
   "source": [
    "<br>"
   ]
  },
  {
   "cell_type": "code",
   "execution_count": 6,
   "id": "c8568ba2-59cc-402f-bc04-18ff24236db4",
   "metadata": {
    "editable": true,
    "slideshow": {
     "slide_type": ""
    },
    "tags": []
   },
   "outputs": [],
   "source": [
    "!cc -O0 -shared addthem.c -o libaddthem_attempt1.so"
   ]
  },
  {
   "cell_type": "markdown",
   "id": "23da4086-dfc3-4d00-b7be-5813c4775b3f",
   "metadata": {
    "editable": true,
    "slideshow": {
     "slide_type": ""
    },
    "tags": []
   },
   "source": [
    "<br>"
   ]
  },
  {
   "cell_type": "code",
   "execution_count": 7,
   "id": "8b39f7e7-359d-4719-b7b6-3c59336b03bc",
   "metadata": {
    "editable": true,
    "slideshow": {
     "slide_type": ""
    },
    "tags": []
   },
   "outputs": [],
   "source": [
    "import ctypes"
   ]
  },
  {
   "cell_type": "markdown",
   "id": "aa7c3ca0-72fb-4ec9-8523-90bcbc39d06b",
   "metadata": {
    "editable": true,
    "slideshow": {
     "slide_type": ""
    },
    "tags": []
   },
   "source": [
    "<br>"
   ]
  },
  {
   "cell_type": "code",
   "execution_count": 8,
   "id": "1825cf78-5da2-46a4-ad17-27b2323d3fe2",
   "metadata": {
    "editable": true,
    "slideshow": {
     "slide_type": ""
    },
    "tags": []
   },
   "outputs": [],
   "source": [
    "libaddthem = ctypes.cdll.LoadLibrary(\"./libaddthem_attempt1.so\")\n",
    "pointer_to_ints = ctypes.POINTER(ctypes.c_int)\n",
    "libaddthem.run.argtypes = (pointer_to_ints,)\n",
    "libaddthem.run.restype = ctypes.c_int"
   ]
  },
  {
   "cell_type": "code",
   "execution_count": 9,
   "id": "ef82e14a-9276-4167-8c86-b5402f3b26ce",
   "metadata": {
    "editable": true,
    "slideshow": {
     "slide_type": "slide"
    },
    "tags": []
   },
   "outputs": [
    {
     "data": {
      "text/plain": [
       "np.int32(7685)"
      ]
     },
     "execution_count": 9,
     "metadata": {},
     "output_type": "execute_result"
    }
   ],
   "source": [
    "addthem_python(million_integers)"
   ]
  },
  {
   "cell_type": "markdown",
   "id": "31f9d84f-5041-4b5a-b5cd-393de2bf00b9",
   "metadata": {
    "editable": true,
    "slideshow": {
     "slide_type": ""
    },
    "tags": []
   },
   "source": [
    "<br>"
   ]
  },
  {
   "cell_type": "code",
   "execution_count": 10,
   "id": "c4fb8103-808e-4964-bd06-7bf6214e66a2",
   "metadata": {
    "editable": true,
    "slideshow": {
     "slide_type": ""
    },
    "tags": []
   },
   "outputs": [
    {
     "data": {
      "text/plain": [
       "7685"
      ]
     },
     "execution_count": 10,
     "metadata": {},
     "output_type": "execute_result"
    }
   ],
   "source": [
    "libaddthem.run(million_integers.ctypes.data_as(pointer_to_ints))"
   ]
  },
  {
   "cell_type": "markdown",
   "id": "8f11705d-1ca8-4368-832a-f03567f5daab",
   "metadata": {
    "editable": true,
    "slideshow": {
     "slide_type": ""
    },
    "tags": []
   },
   "source": [
    "<br>"
   ]
  },
  {
   "cell_type": "code",
   "execution_count": 11,
   "id": "0cb59ded-5ba1-4729-84c2-52983b7f6206",
   "metadata": {
    "editable": true,
    "slideshow": {
     "slide_type": ""
    },
    "tags": []
   },
   "outputs": [
    {
     "name": "stdout",
     "output_type": "stream",
     "text": [
      "51.7 ms ± 1.44 ms per loop (mean ± std. dev. of 7 runs, 10 loops each)\n"
     ]
    }
   ],
   "source": [
    "%%timeit\n",
    "\n",
    "addthem_python(million_integers)"
   ]
  },
  {
   "cell_type": "markdown",
   "id": "cfd84448-82f6-4798-ad59-6c804d16d721",
   "metadata": {
    "editable": true,
    "slideshow": {
     "slide_type": ""
    },
    "tags": []
   },
   "source": [
    "<br>"
   ]
  },
  {
   "cell_type": "code",
   "execution_count": 12,
   "id": "67e3dee7-2f5e-405b-ba17-a6125dd296f0",
   "metadata": {
    "editable": true,
    "slideshow": {
     "slide_type": ""
    },
    "tags": []
   },
   "outputs": [
    {
     "name": "stdout",
     "output_type": "stream",
     "text": [
      "853 μs ± 4.8 μs per loop (mean ± std. dev. of 7 runs, 1,000 loops each)\n"
     ]
    }
   ],
   "source": [
    "%%timeit\n",
    "\n",
    "libaddthem.run(million_integers.ctypes.data_as(pointer_to_ints))"
   ]
  },
  {
   "cell_type": "markdown",
   "id": "a621622e-f1a3-4abc-b7cc-c5b47bdae7a8",
   "metadata": {
    "editable": true,
    "slideshow": {
     "slide_type": "slide"
    },
    "tags": []
   },
   "source": [
    "To see what's slowing Python down, let's look at a toy language with similar dynamic features"
   ]
  },
  {
   "cell_type": "markdown",
   "id": "f7af73f9-6dfe-4446-bcda-2c81e42856fc",
   "metadata": {
    "editable": true,
    "slideshow": {
     "slide_type": ""
    },
    "tags": []
   },
   "source": [
    "<br>"
   ]
  },
  {
   "cell_type": "code",
   "execution_count": 13,
   "id": "b014baa4-b726-4800-96f2-3805f43d46de",
   "metadata": {
    "editable": true,
    "slideshow": {
     "slide_type": ""
    },
    "tags": []
   },
   "outputs": [],
   "source": [
    "!c++ -std=c++11 -O3 baby-python.cpp -o baby-python"
   ]
  },
  {
   "cell_type": "markdown",
   "id": "0040c336-f84b-4fbb-8a40-8af907c8c935",
   "metadata": {
    "editable": true,
    "slideshow": {
     "slide_type": ""
    },
    "tags": []
   },
   "source": [
    "<br>"
   ]
  },
  {
   "cell_type": "code",
   "execution_count": 14,
   "id": "a57e79e6-936b-42fa-b3eb-63d9e08311dc",
   "metadata": {
    "editable": true,
    "slideshow": {
     "slide_type": ""
    },
    "tags": []
   },
   "outputs": [
    {
     "name": "stdout",
     "output_type": "stream",
     "text": [
      "                     num = -123        add(x, x)   get(lst, i)   map(f, lst)\n",
      "               oo    lst = [1, 2, 3]   mul(x, x)   len(lst)      reduce(f, lst)\n",
      ". . . __/\\_/\\_/`'    f = def(x) single-expr   f = def(x, y) { ... ; last-expr }\n",
      "\n",
      ">> 123\n",
      "(1.397e-06 seconds)\n",
      ">> 8\n",
      "(3.352e-06 seconds)\n",
      ">> <user-defined function>\n",
      "(1.886e-06 seconds)\n",
      ">> [1, 4, 9, 16, 25]\n",
      "(5.168e-06 seconds)\n",
      ">> \n"
     ]
    }
   ],
   "source": [
    "%%bash\n",
    "\n",
    "./baby-python <<EOF\n",
    "123\n",
    "add(3, 5)\n",
    "square_them = def(x) mul(x, x)\n",
    "map(square_them, [1, 2, 3, 4, 5])\n",
    "EOF"
   ]
  },
  {
   "cell_type": "code",
   "execution_count": 15,
   "id": "ecd8f015-31bd-4c9e-9ae4-6b1a1d40f94d",
   "metadata": {
    "editable": true,
    "slideshow": {
     "slide_type": "slide"
    },
    "tags": []
   },
   "outputs": [],
   "source": [
    "million_integers.tofile(\"million_integers.int32\")"
   ]
  },
  {
   "cell_type": "markdown",
   "id": "a467c828-15ee-4dfb-b49e-a90b49bdcf7b",
   "metadata": {
    "editable": true,
    "slideshow": {
     "slide_type": ""
    },
    "tags": []
   },
   "source": [
    "<br>"
   ]
  },
  {
   "cell_type": "code",
   "execution_count": 16,
   "id": "68f6ca28-85af-4635-9041-6c02bc674c69",
   "metadata": {
    "editable": true,
    "slideshow": {
     "slide_type": ""
    },
    "tags": []
   },
   "outputs": [
    {
     "name": "stdout",
     "output_type": "stream",
     "text": [
      "                     num = -123        add(x, x)   get(lst, i)   map(f, lst)\n",
      "               oo    lst = [1, 2, 3]   mul(x, x)   len(lst)      reduce(f, lst)\n",
      ". . . __/\\_/\\_/`'    f = def(x) single-expr   f = def(x, y) { ... ; last-expr }\n",
      "\n",
      ">> 7685\n",
      "(0.0895386 seconds)\n",
      ">> 7685\n",
      "(0.0885569 seconds)\n",
      ">> 7685\n",
      "(0.0883256 seconds)\n",
      ">> \n"
     ]
    }
   ],
   "source": [
    "%%bash\n",
    "\n",
    "./baby-python data=million_integers.int32 <<EOF\n",
    "reduce(add, data)\n",
    "reduce(add, data)\n",
    "reduce(add, data)\n",
    "EOF"
   ]
  },
  {
   "cell_type": "markdown",
   "id": "0f2d26fc-0a41-418e-ab87-88c6a69f0953",
   "metadata": {
    "editable": true,
    "slideshow": {
     "slide_type": "slide"
    },
    "tags": []
   },
   "source": [
    "What baby-python is doing:\n",
    "\n",
    "* variables are in an `unordered_map<string, shared_ptr<Object>>`\n",
    "* `Object` is an abstract class; C++ has to maintain a vtable to keep track of which type each concrete instance is (runtime polymorphism)\n",
    "* instructions are represented by a data structure that must be traversed (abstract syntax tree, or AST)\n",
    "* parsing and data-loading happen before the loop over data and are not slowing it down"
   ]
  },
  {
   "cell_type": "markdown",
   "id": "9a3e1ce3-8d74-4cb0-a6a1-f475711ce5a4",
   "metadata": {
    "editable": true,
    "slideshow": {
     "slide_type": ""
    },
    "tags": []
   },
   "source": [
    "<br>"
   ]
  },
  {
   "cell_type": "code",
   "execution_count": 17,
   "id": "e23d54a3-5d7a-4162-8cbc-bc2ac0d70b62",
   "metadata": {
    "editable": true,
    "slideshow": {
     "slide_type": ""
    },
    "tags": []
   },
   "outputs": [],
   "source": [
    "from pygments import highlight\n",
    "from pygments.lexers import CppLexer\n",
    "from pygments.formatters import HtmlFormatter\n",
    "from IPython.display import display, HTML"
   ]
  },
  {
   "cell_type": "markdown",
   "id": "bf9c8614-ea5a-42ca-bc5f-9f08a29e73ab",
   "metadata": {
    "editable": true,
    "slideshow": {
     "slide_type": ""
    },
    "tags": []
   },
   "source": [
    "<br>"
   ]
  },
  {
   "cell_type": "code",
   "execution_count": 18,
   "id": "96a8a363-ea06-40b2-a600-2b0e888f97d3",
   "metadata": {
    "editable": true,
    "slideshow": {
     "slide_type": ""
    },
    "tags": []
   },
   "outputs": [
    {
     "data": {
      "text/html": [
       "<div class=\"highlight\"><pre><span></span><span class=\"c1\">// Compile with:</span>\n",
       "<span class=\"c1\">//</span>\n",
       "<span class=\"c1\">//     c++ -std=c++11 -O3 baby-python.cpp -o baby-python</span>\n",
       "\n",
       "<span class=\"c1\">//// includes //////////////////////////////////////////////////////////////</span>\n",
       "\n",
       "<span class=\"cp\">#include</span><span class=\"w\"> </span><span class=\"cpf\">&lt;fstream&gt;</span>\n",
       "<span class=\"cp\">#include</span><span class=\"w\"> </span><span class=\"cpf\">&lt;regex&gt;</span>\n",
       "<span class=\"cp\">#include</span><span class=\"w\"> </span><span class=\"cpf\">&lt;vector&gt;</span>\n",
       "<span class=\"cp\">#include</span><span class=\"w\"> </span><span class=\"cpf\">&lt;string&gt;</span>\n",
       "<span class=\"cp\">#include</span><span class=\"w\"> </span><span class=\"cpf\">&lt;memory&gt;</span>\n",
       "<span class=\"cp\">#include</span><span class=\"w\"> </span><span class=\"cpf\">&lt;unordered_map&gt;</span>\n",
       "<span class=\"cp\">#include</span><span class=\"w\"> </span><span class=\"cpf\">&lt;chrono&gt;</span>\n",
       "<span class=\"cp\">#include</span><span class=\"w\"> </span><span class=\"cpf\">&lt;iostream&gt;</span>\n",
       "\n",
       "<span class=\"c1\">//// types /////////////////////////////////////////////////////////////////</span>\n",
       "\n",
       "\n",
       "<span class=\"k\">const</span><span class=\"w\"> </span><span class=\"kt\">int</span><span class=\"w\"> </span><span class=\"n\">MAX_REPR</span><span class=\"w\"> </span><span class=\"o\">=</span><span class=\"w\"> </span><span class=\"mi\">80</span><span class=\"p\">;</span>\n",
       "<span class=\"k\">const</span><span class=\"w\"> </span><span class=\"kt\">int</span><span class=\"w\"> </span><span class=\"n\">MAX_RECURSION</span><span class=\"w\"> </span><span class=\"o\">=</span><span class=\"w\"> </span><span class=\"mi\">20</span><span class=\"p\">;</span>\n",
       "\n",
       "<span class=\"k\">class</span><span class=\"w\"> </span><span class=\"nc\">Object</span><span class=\"p\">;</span>\n",
       "<span class=\"k\">class</span><span class=\"w\"> </span><span class=\"nc\">ASTNode</span><span class=\"p\">;</span>\n",
       "<span class=\"k\">class</span><span class=\"w\"> </span><span class=\"nc\">ASTDefineFun</span><span class=\"p\">;</span>\n",
       "\n",
       "\n",
       "<span class=\"c1\">//// Scope: which variables exist right now?</span>\n",
       "\n",
       "<span class=\"k\">class</span><span class=\"w\"> </span><span class=\"nc\">Scope</span><span class=\"w\"> </span><span class=\"p\">{</span>\n",
       "<span class=\"k\">public</span><span class=\"o\">:</span>\n",
       "<span class=\"w\">  </span><span class=\"n\">Scope</span><span class=\"p\">(</span><span class=\"n\">std</span><span class=\"o\">::</span><span class=\"n\">shared_ptr</span><span class=\"o\">&lt;</span><span class=\"n\">Scope</span><span class=\"o\">&gt;</span><span class=\"w\"> </span><span class=\"n\">parent</span><span class=\"p\">)</span><span class=\"o\">:</span><span class=\"w\"> </span><span class=\"n\">parent_</span><span class=\"p\">(</span><span class=\"n\">parent</span><span class=\"p\">),</span><span class=\"w\"> </span><span class=\"n\">objects_</span><span class=\"p\">()</span><span class=\"w\"> </span><span class=\"p\">{</span><span class=\"w\"> </span><span class=\"p\">}</span>\n",
       "\n",
       "<span class=\"w\">  </span><span class=\"kt\">void</span><span class=\"w\"> </span><span class=\"n\">assign</span><span class=\"p\">(</span>\n",
       "<span class=\"w\">    </span><span class=\"k\">const</span><span class=\"w\"> </span><span class=\"n\">std</span><span class=\"o\">::</span><span class=\"n\">string</span><span class=\"o\">&amp;</span><span class=\"w\"> </span><span class=\"n\">name</span><span class=\"p\">,</span>\n",
       "<span class=\"w\">    </span><span class=\"n\">std</span><span class=\"o\">::</span><span class=\"n\">shared_ptr</span><span class=\"o\">&lt;</span><span class=\"n\">Object</span><span class=\"o\">&gt;</span><span class=\"w\"> </span><span class=\"n\">object</span><span class=\"p\">,</span>\n",
       "<span class=\"w\">    </span><span class=\"n\">std</span><span class=\"o\">::</span><span class=\"n\">vector</span><span class=\"o\">&lt;</span><span class=\"n\">std</span><span class=\"o\">::</span><span class=\"n\">shared_ptr</span><span class=\"o\">&lt;</span><span class=\"n\">ASTNode</span><span class=\"o\">&gt;&gt;&amp;</span><span class=\"w\"> </span><span class=\"n\">stack</span>\n",
       "<span class=\"w\">  </span><span class=\"p\">);</span>\n",
       "<span class=\"w\">  </span><span class=\"n\">std</span><span class=\"o\">::</span><span class=\"n\">shared_ptr</span><span class=\"o\">&lt;</span><span class=\"n\">Object</span><span class=\"o\">&gt;</span><span class=\"w\"> </span><span class=\"n\">del</span><span class=\"p\">(</span>\n",
       "<span class=\"w\">    </span><span class=\"k\">const</span><span class=\"w\"> </span><span class=\"n\">std</span><span class=\"o\">::</span><span class=\"n\">string</span><span class=\"o\">&amp;</span><span class=\"w\"> </span><span class=\"n\">name</span><span class=\"p\">,</span>\n",
       "<span class=\"w\">    </span><span class=\"n\">std</span><span class=\"o\">::</span><span class=\"n\">vector</span><span class=\"o\">&lt;</span><span class=\"n\">std</span><span class=\"o\">::</span><span class=\"n\">shared_ptr</span><span class=\"o\">&lt;</span><span class=\"n\">ASTNode</span><span class=\"o\">&gt;&gt;&amp;</span><span class=\"w\"> </span><span class=\"n\">stack</span>\n",
       "<span class=\"w\">  </span><span class=\"p\">);</span>\n",
       "<span class=\"w\">  </span><span class=\"n\">std</span><span class=\"o\">::</span><span class=\"n\">shared_ptr</span><span class=\"o\">&lt;</span><span class=\"n\">Object</span><span class=\"o\">&gt;</span><span class=\"w\"> </span><span class=\"n\">get</span><span class=\"p\">(</span>\n",
       "<span class=\"w\">    </span><span class=\"k\">const</span><span class=\"w\"> </span><span class=\"n\">std</span><span class=\"o\">::</span><span class=\"n\">string</span><span class=\"o\">&amp;</span><span class=\"w\"> </span><span class=\"n\">name</span><span class=\"p\">,</span>\n",
       "<span class=\"w\">    </span><span class=\"n\">std</span><span class=\"o\">::</span><span class=\"n\">vector</span><span class=\"o\">&lt;</span><span class=\"n\">std</span><span class=\"o\">::</span><span class=\"n\">shared_ptr</span><span class=\"o\">&lt;</span><span class=\"n\">ASTNode</span><span class=\"o\">&gt;&gt;&amp;</span><span class=\"w\"> </span><span class=\"n\">stack</span>\n",
       "<span class=\"w\">  </span><span class=\"p\">);</span>\n",
       "\n",
       "<span class=\"k\">private</span><span class=\"o\">:</span>\n",
       "<span class=\"w\">  </span><span class=\"n\">std</span><span class=\"o\">::</span><span class=\"n\">shared_ptr</span><span class=\"o\">&lt;</span><span class=\"n\">Scope</span><span class=\"o\">&gt;</span><span class=\"w\"> </span><span class=\"n\">parent_</span><span class=\"p\">;</span>\n",
       "<span class=\"w\">  </span><span class=\"n\">std</span><span class=\"o\">::</span><span class=\"n\">unordered_map</span><span class=\"o\">&lt;</span><span class=\"n\">std</span><span class=\"o\">::</span><span class=\"n\">string</span><span class=\"p\">,</span><span class=\"w\"> </span><span class=\"n\">std</span><span class=\"o\">::</span><span class=\"n\">shared_ptr</span><span class=\"o\">&lt;</span><span class=\"n\">Object</span><span class=\"o\">&gt;&gt;</span><span class=\"w\"> </span><span class=\"n\">objects_</span><span class=\"p\">;</span>\n",
       "<span class=\"p\">};</span>\n",
       "\n",
       "\n",
       "<span class=\"c1\">//// Objects: data within the language</span>\n",
       "\n",
       "<span class=\"k\">class</span><span class=\"w\"> </span><span class=\"nc\">Object</span><span class=\"w\"> </span><span class=\"p\">{</span>\n",
       "<span class=\"k\">public</span><span class=\"o\">:</span>\n",
       "<span class=\"w\">  </span><span class=\"n\">Object</span><span class=\"p\">()</span><span class=\"w\"> </span><span class=\"p\">{</span><span class=\"w\"> </span><span class=\"p\">}</span>\n",
       "\n",
       "<span class=\"w\">  </span><span class=\"k\">virtual</span><span class=\"w\"> </span><span class=\"n\">std</span><span class=\"o\">::</span><span class=\"n\">string</span><span class=\"w\"> </span><span class=\"n\">repr</span><span class=\"p\">(</span><span class=\"kt\">int</span><span class=\"o\">&amp;</span><span class=\"w\"> </span><span class=\"n\">remaining</span><span class=\"p\">)</span><span class=\"w\"> </span><span class=\"k\">const</span><span class=\"w\"> </span><span class=\"o\">=</span><span class=\"w\"> </span><span class=\"mi\">0</span><span class=\"p\">;</span>\n",
       "\n",
       "<span class=\"k\">private</span><span class=\"o\">:</span>\n",
       "<span class=\"p\">};</span>\n",
       "\n",
       "\n",
       "<span class=\"k\">class</span><span class=\"w\"> </span><span class=\"nc\">ObjectInt</span><span class=\"o\">:</span><span class=\"w\"> </span><span class=\"k\">public</span><span class=\"w\"> </span><span class=\"n\">Object</span><span class=\"w\"> </span><span class=\"p\">{</span>\n",
       "<span class=\"k\">public</span><span class=\"o\">:</span>\n",
       "<span class=\"w\">  </span><span class=\"n\">ObjectInt</span><span class=\"p\">(</span><span class=\"kt\">int</span><span class=\"w\"> </span><span class=\"n\">value</span><span class=\"p\">)</span><span class=\"o\">:</span><span class=\"w\"> </span><span class=\"n\">value_</span><span class=\"p\">(</span><span class=\"n\">value</span><span class=\"p\">),</span><span class=\"w\"> </span><span class=\"n\">Object</span><span class=\"p\">()</span><span class=\"w\"> </span><span class=\"p\">{</span><span class=\"w\"> </span><span class=\"p\">}</span>\n",
       "\n",
       "<span class=\"w\">  </span><span class=\"kt\">int</span><span class=\"w\"> </span><span class=\"n\">value</span><span class=\"p\">()</span><span class=\"w\"> </span><span class=\"k\">const</span><span class=\"w\"> </span><span class=\"p\">{</span><span class=\"w\"> </span><span class=\"k\">return</span><span class=\"w\"> </span><span class=\"n\">value_</span><span class=\"p\">;</span><span class=\"w\"> </span><span class=\"p\">}</span>\n",
       "\n",
       "<span class=\"w\">  </span><span class=\"n\">std</span><span class=\"o\">::</span><span class=\"n\">string</span><span class=\"w\"> </span><span class=\"n\">repr</span><span class=\"p\">(</span><span class=\"kt\">int</span><span class=\"o\">&amp;</span><span class=\"w\"> </span><span class=\"n\">remaining</span><span class=\"p\">)</span><span class=\"w\"> </span><span class=\"k\">const</span><span class=\"w\"> </span><span class=\"k\">override</span><span class=\"p\">;</span>\n",
       "\n",
       "<span class=\"k\">private</span><span class=\"o\">:</span>\n",
       "<span class=\"w\">  </span><span class=\"kt\">int</span><span class=\"w\"> </span><span class=\"n\">value_</span><span class=\"p\">;</span>\n",
       "<span class=\"p\">};</span>\n",
       "\n",
       "\n",
       "<span class=\"k\">class</span><span class=\"w\"> </span><span class=\"nc\">ObjectList</span><span class=\"o\">:</span><span class=\"w\"> </span><span class=\"k\">public</span><span class=\"w\"> </span><span class=\"n\">Object</span><span class=\"w\"> </span><span class=\"p\">{</span>\n",
       "<span class=\"k\">public</span><span class=\"o\">:</span>\n",
       "<span class=\"w\">  </span><span class=\"n\">ObjectList</span><span class=\"p\">(</span><span class=\"k\">const</span><span class=\"w\"> </span><span class=\"n\">std</span><span class=\"o\">::</span><span class=\"n\">vector</span><span class=\"o\">&lt;</span><span class=\"n\">std</span><span class=\"o\">::</span><span class=\"n\">shared_ptr</span><span class=\"o\">&lt;</span><span class=\"n\">Object</span><span class=\"o\">&gt;&gt;&amp;</span><span class=\"w\"> </span><span class=\"n\">values</span><span class=\"p\">)</span><span class=\"o\">:</span><span class=\"w\"> </span><span class=\"n\">values_</span><span class=\"p\">(</span><span class=\"n\">values</span><span class=\"p\">),</span><span class=\"w\"> </span><span class=\"n\">Object</span><span class=\"p\">()</span><span class=\"w\"> </span><span class=\"p\">{</span><span class=\"w\"> </span><span class=\"p\">}</span>\n",
       "\n",
       "<span class=\"w\">  </span><span class=\"k\">const</span><span class=\"w\"> </span><span class=\"n\">std</span><span class=\"o\">::</span><span class=\"n\">vector</span><span class=\"o\">&lt;</span><span class=\"n\">std</span><span class=\"o\">::</span><span class=\"n\">shared_ptr</span><span class=\"o\">&lt;</span><span class=\"n\">Object</span><span class=\"o\">&gt;&gt;&amp;</span><span class=\"w\"> </span><span class=\"n\">values</span><span class=\"p\">()</span><span class=\"w\"> </span><span class=\"k\">const</span><span class=\"w\"> </span><span class=\"p\">{</span><span class=\"w\"> </span><span class=\"k\">return</span><span class=\"w\"> </span><span class=\"n\">values_</span><span class=\"p\">;</span><span class=\"w\"> </span><span class=\"p\">}</span>\n",
       "\n",
       "<span class=\"w\">  </span><span class=\"n\">std</span><span class=\"o\">::</span><span class=\"n\">string</span><span class=\"w\"> </span><span class=\"n\">repr</span><span class=\"p\">(</span><span class=\"kt\">int</span><span class=\"o\">&amp;</span><span class=\"w\"> </span><span class=\"n\">remaining</span><span class=\"p\">)</span><span class=\"w\"> </span><span class=\"k\">const</span><span class=\"w\"> </span><span class=\"k\">override</span><span class=\"p\">;</span>\n",
       "\n",
       "<span class=\"k\">private</span><span class=\"o\">:</span>\n",
       "<span class=\"w\">  </span><span class=\"k\">const</span><span class=\"w\"> </span><span class=\"n\">std</span><span class=\"o\">::</span><span class=\"n\">vector</span><span class=\"o\">&lt;</span><span class=\"n\">std</span><span class=\"o\">::</span><span class=\"n\">shared_ptr</span><span class=\"o\">&lt;</span><span class=\"n\">Object</span><span class=\"o\">&gt;&gt;</span><span class=\"w\"> </span><span class=\"n\">values_</span><span class=\"p\">;</span>\n",
       "<span class=\"p\">};</span>\n",
       "\n",
       "\n",
       "<span class=\"k\">class</span><span class=\"w\"> </span><span class=\"nc\">ObjectFunction</span><span class=\"o\">:</span><span class=\"w\"> </span><span class=\"k\">public</span><span class=\"w\"> </span><span class=\"n\">Object</span><span class=\"w\"> </span><span class=\"p\">{</span>\n",
       "<span class=\"k\">public</span><span class=\"o\">:</span>\n",
       "<span class=\"w\">  </span><span class=\"n\">ObjectFunction</span><span class=\"p\">()</span><span class=\"o\">:</span><span class=\"w\"> </span><span class=\"n\">Object</span><span class=\"p\">()</span><span class=\"w\"> </span><span class=\"p\">{</span><span class=\"w\"> </span><span class=\"p\">}</span>\n",
       "\n",
       "<span class=\"w\">  </span><span class=\"k\">virtual</span><span class=\"w\"> </span><span class=\"n\">std</span><span class=\"o\">::</span><span class=\"n\">shared_ptr</span><span class=\"o\">&lt;</span><span class=\"n\">Object</span><span class=\"o\">&gt;</span><span class=\"w\"> </span><span class=\"n\">run</span><span class=\"p\">(</span>\n",
       "<span class=\"w\">    </span><span class=\"n\">std</span><span class=\"o\">::</span><span class=\"n\">shared_ptr</span><span class=\"o\">&lt;</span><span class=\"n\">Scope</span><span class=\"o\">&gt;</span><span class=\"w\"> </span><span class=\"n\">scope</span><span class=\"p\">,</span>\n",
       "<span class=\"w\">    </span><span class=\"n\">std</span><span class=\"o\">::</span><span class=\"n\">vector</span><span class=\"o\">&lt;</span><span class=\"n\">std</span><span class=\"o\">::</span><span class=\"n\">shared_ptr</span><span class=\"o\">&lt;</span><span class=\"n\">ASTNode</span><span class=\"o\">&gt;&gt;&amp;</span><span class=\"w\"> </span><span class=\"n\">stack</span><span class=\"p\">,</span>\n",
       "<span class=\"w\">    </span><span class=\"n\">std</span><span class=\"o\">::</span><span class=\"n\">vector</span><span class=\"o\">&lt;</span><span class=\"n\">std</span><span class=\"o\">::</span><span class=\"n\">shared_ptr</span><span class=\"o\">&lt;</span><span class=\"n\">Object</span><span class=\"o\">&gt;&gt;</span><span class=\"w\"> </span><span class=\"n\">args</span>\n",
       "<span class=\"w\">  </span><span class=\"p\">)</span><span class=\"w\"> </span><span class=\"o\">=</span><span class=\"w\"> </span><span class=\"mi\">0</span><span class=\"p\">;</span>\n",
       "\n",
       "<span class=\"k\">private</span><span class=\"o\">:</span>\n",
       "<span class=\"p\">};</span>\n",
       "\n",
       "\n",
       "<span class=\"k\">class</span><span class=\"w\"> </span><span class=\"nc\">ObjectFunctionAdd</span><span class=\"o\">:</span><span class=\"w\"> </span><span class=\"k\">public</span><span class=\"w\"> </span><span class=\"n\">ObjectFunction</span><span class=\"w\"> </span><span class=\"p\">{</span>\n",
       "<span class=\"k\">public</span><span class=\"o\">:</span>\n",
       "<span class=\"w\">  </span><span class=\"n\">ObjectFunctionAdd</span><span class=\"p\">()</span><span class=\"o\">:</span><span class=\"w\"> </span><span class=\"n\">ObjectFunction</span><span class=\"p\">()</span><span class=\"w\"> </span><span class=\"p\">{</span><span class=\"w\"> </span><span class=\"p\">}</span>\n",
       "\n",
       "<span class=\"w\">  </span><span class=\"n\">std</span><span class=\"o\">::</span><span class=\"n\">string</span><span class=\"w\"> </span><span class=\"n\">repr</span><span class=\"p\">(</span><span class=\"kt\">int</span><span class=\"o\">&amp;</span><span class=\"w\"> </span><span class=\"n\">remaining</span><span class=\"p\">)</span><span class=\"w\"> </span><span class=\"k\">const</span><span class=\"w\"> </span><span class=\"k\">override</span><span class=\"p\">;</span>\n",
       "\n",
       "<span class=\"w\">  </span><span class=\"n\">std</span><span class=\"o\">::</span><span class=\"n\">shared_ptr</span><span class=\"o\">&lt;</span><span class=\"n\">Object</span><span class=\"o\">&gt;</span><span class=\"w\"> </span><span class=\"n\">run</span><span class=\"p\">(</span>\n",
       "<span class=\"w\">    </span><span class=\"n\">std</span><span class=\"o\">::</span><span class=\"n\">shared_ptr</span><span class=\"o\">&lt;</span><span class=\"n\">Scope</span><span class=\"o\">&gt;</span><span class=\"w\"> </span><span class=\"n\">scope</span><span class=\"p\">,</span>\n",
       "<span class=\"w\">    </span><span class=\"n\">std</span><span class=\"o\">::</span><span class=\"n\">vector</span><span class=\"o\">&lt;</span><span class=\"n\">std</span><span class=\"o\">::</span><span class=\"n\">shared_ptr</span><span class=\"o\">&lt;</span><span class=\"n\">ASTNode</span><span class=\"o\">&gt;&gt;&amp;</span><span class=\"w\"> </span><span class=\"n\">stack</span><span class=\"p\">,</span>\n",
       "<span class=\"w\">    </span><span class=\"n\">std</span><span class=\"o\">::</span><span class=\"n\">vector</span><span class=\"o\">&lt;</span><span class=\"n\">std</span><span class=\"o\">::</span><span class=\"n\">shared_ptr</span><span class=\"o\">&lt;</span><span class=\"n\">Object</span><span class=\"o\">&gt;&gt;</span><span class=\"w\"> </span><span class=\"n\">args</span>\n",
       "<span class=\"w\">  </span><span class=\"p\">)</span><span class=\"w\"> </span><span class=\"k\">override</span><span class=\"p\">;</span>\n",
       "\n",
       "<span class=\"k\">private</span><span class=\"o\">:</span>\n",
       "<span class=\"p\">};</span>\n",
       "\n",
       "\n",
       "<span class=\"k\">class</span><span class=\"w\"> </span><span class=\"nc\">ObjectFunctionMul</span><span class=\"o\">:</span><span class=\"w\"> </span><span class=\"k\">public</span><span class=\"w\"> </span><span class=\"n\">ObjectFunction</span><span class=\"w\"> </span><span class=\"p\">{</span>\n",
       "<span class=\"k\">public</span><span class=\"o\">:</span>\n",
       "<span class=\"w\">  </span><span class=\"n\">ObjectFunctionMul</span><span class=\"p\">()</span><span class=\"o\">:</span><span class=\"w\"> </span><span class=\"n\">ObjectFunction</span><span class=\"p\">()</span><span class=\"w\"> </span><span class=\"p\">{</span><span class=\"w\"> </span><span class=\"p\">}</span>\n",
       "\n",
       "<span class=\"w\">  </span><span class=\"n\">std</span><span class=\"o\">::</span><span class=\"n\">string</span><span class=\"w\"> </span><span class=\"n\">repr</span><span class=\"p\">(</span><span class=\"kt\">int</span><span class=\"o\">&amp;</span><span class=\"w\"> </span><span class=\"n\">remaining</span><span class=\"p\">)</span><span class=\"w\"> </span><span class=\"k\">const</span><span class=\"w\"> </span><span class=\"k\">override</span><span class=\"p\">;</span>\n",
       "\n",
       "<span class=\"w\">  </span><span class=\"n\">std</span><span class=\"o\">::</span><span class=\"n\">shared_ptr</span><span class=\"o\">&lt;</span><span class=\"n\">Object</span><span class=\"o\">&gt;</span><span class=\"w\"> </span><span class=\"n\">run</span><span class=\"p\">(</span>\n",
       "<span class=\"w\">    </span><span class=\"n\">std</span><span class=\"o\">::</span><span class=\"n\">shared_ptr</span><span class=\"o\">&lt;</span><span class=\"n\">Scope</span><span class=\"o\">&gt;</span><span class=\"w\"> </span><span class=\"n\">scope</span><span class=\"p\">,</span>\n",
       "<span class=\"w\">    </span><span class=\"n\">std</span><span class=\"o\">::</span><span class=\"n\">vector</span><span class=\"o\">&lt;</span><span class=\"n\">std</span><span class=\"o\">::</span><span class=\"n\">shared_ptr</span><span class=\"o\">&lt;</span><span class=\"n\">ASTNode</span><span class=\"o\">&gt;&gt;&amp;</span><span class=\"w\"> </span><span class=\"n\">stack</span><span class=\"p\">,</span>\n",
       "<span class=\"w\">    </span><span class=\"n\">std</span><span class=\"o\">::</span><span class=\"n\">vector</span><span class=\"o\">&lt;</span><span class=\"n\">std</span><span class=\"o\">::</span><span class=\"n\">shared_ptr</span><span class=\"o\">&lt;</span><span class=\"n\">Object</span><span class=\"o\">&gt;&gt;</span><span class=\"w\"> </span><span class=\"n\">args</span>\n",
       "<span class=\"w\">  </span><span class=\"p\">)</span><span class=\"w\"> </span><span class=\"k\">override</span><span class=\"p\">;</span>\n",
       "\n",
       "<span class=\"k\">private</span><span class=\"o\">:</span>\n",
       "<span class=\"p\">};</span>\n",
       "\n",
       "\n",
       "<span class=\"k\">class</span><span class=\"w\"> </span><span class=\"nc\">ObjectFunctionGet</span><span class=\"o\">:</span><span class=\"w\"> </span><span class=\"k\">public</span><span class=\"w\"> </span><span class=\"n\">ObjectFunction</span><span class=\"w\"> </span><span class=\"p\">{</span>\n",
       "<span class=\"k\">public</span><span class=\"o\">:</span>\n",
       "<span class=\"w\">  </span><span class=\"n\">ObjectFunctionGet</span><span class=\"p\">()</span><span class=\"o\">:</span><span class=\"w\"> </span><span class=\"n\">ObjectFunction</span><span class=\"p\">()</span><span class=\"w\"> </span><span class=\"p\">{</span><span class=\"w\"> </span><span class=\"p\">}</span>\n",
       "\n",
       "<span class=\"w\">  </span><span class=\"n\">std</span><span class=\"o\">::</span><span class=\"n\">string</span><span class=\"w\"> </span><span class=\"n\">repr</span><span class=\"p\">(</span><span class=\"kt\">int</span><span class=\"o\">&amp;</span><span class=\"w\"> </span><span class=\"n\">remaining</span><span class=\"p\">)</span><span class=\"w\"> </span><span class=\"k\">const</span><span class=\"w\"> </span><span class=\"k\">override</span><span class=\"p\">;</span>\n",
       "\n",
       "<span class=\"w\">  </span><span class=\"n\">std</span><span class=\"o\">::</span><span class=\"n\">shared_ptr</span><span class=\"o\">&lt;</span><span class=\"n\">Object</span><span class=\"o\">&gt;</span><span class=\"w\"> </span><span class=\"n\">run</span><span class=\"p\">(</span>\n",
       "<span class=\"w\">    </span><span class=\"n\">std</span><span class=\"o\">::</span><span class=\"n\">shared_ptr</span><span class=\"o\">&lt;</span><span class=\"n\">Scope</span><span class=\"o\">&gt;</span><span class=\"w\"> </span><span class=\"n\">scope</span><span class=\"p\">,</span>\n",
       "<span class=\"w\">    </span><span class=\"n\">std</span><span class=\"o\">::</span><span class=\"n\">vector</span><span class=\"o\">&lt;</span><span class=\"n\">std</span><span class=\"o\">::</span><span class=\"n\">shared_ptr</span><span class=\"o\">&lt;</span><span class=\"n\">ASTNode</span><span class=\"o\">&gt;&gt;&amp;</span><span class=\"w\"> </span><span class=\"n\">stack</span><span class=\"p\">,</span>\n",
       "<span class=\"w\">    </span><span class=\"n\">std</span><span class=\"o\">::</span><span class=\"n\">vector</span><span class=\"o\">&lt;</span><span class=\"n\">std</span><span class=\"o\">::</span><span class=\"n\">shared_ptr</span><span class=\"o\">&lt;</span><span class=\"n\">Object</span><span class=\"o\">&gt;&gt;</span><span class=\"w\"> </span><span class=\"n\">args</span>\n",
       "<span class=\"w\">  </span><span class=\"p\">)</span><span class=\"w\"> </span><span class=\"k\">override</span><span class=\"p\">;</span>\n",
       "\n",
       "<span class=\"k\">private</span><span class=\"o\">:</span>\n",
       "<span class=\"p\">};</span>\n",
       "\n",
       "\n",
       "<span class=\"k\">class</span><span class=\"w\"> </span><span class=\"nc\">ObjectFunctionLen</span><span class=\"o\">:</span><span class=\"w\"> </span><span class=\"k\">public</span><span class=\"w\"> </span><span class=\"n\">ObjectFunction</span><span class=\"w\"> </span><span class=\"p\">{</span>\n",
       "<span class=\"k\">public</span><span class=\"o\">:</span>\n",
       "<span class=\"w\">  </span><span class=\"n\">ObjectFunctionLen</span><span class=\"p\">()</span><span class=\"o\">:</span><span class=\"w\"> </span><span class=\"n\">ObjectFunction</span><span class=\"p\">()</span><span class=\"w\"> </span><span class=\"p\">{</span><span class=\"w\"> </span><span class=\"p\">}</span>\n",
       "\n",
       "<span class=\"w\">  </span><span class=\"n\">std</span><span class=\"o\">::</span><span class=\"n\">string</span><span class=\"w\"> </span><span class=\"n\">repr</span><span class=\"p\">(</span><span class=\"kt\">int</span><span class=\"o\">&amp;</span><span class=\"w\"> </span><span class=\"n\">remaining</span><span class=\"p\">)</span><span class=\"w\"> </span><span class=\"k\">const</span><span class=\"w\"> </span><span class=\"k\">override</span><span class=\"p\">;</span>\n",
       "\n",
       "<span class=\"w\">  </span><span class=\"n\">std</span><span class=\"o\">::</span><span class=\"n\">shared_ptr</span><span class=\"o\">&lt;</span><span class=\"n\">Object</span><span class=\"o\">&gt;</span><span class=\"w\"> </span><span class=\"n\">run</span><span class=\"p\">(</span>\n",
       "<span class=\"w\">    </span><span class=\"n\">std</span><span class=\"o\">::</span><span class=\"n\">shared_ptr</span><span class=\"o\">&lt;</span><span class=\"n\">Scope</span><span class=\"o\">&gt;</span><span class=\"w\"> </span><span class=\"n\">scope</span><span class=\"p\">,</span>\n",
       "<span class=\"w\">    </span><span class=\"n\">std</span><span class=\"o\">::</span><span class=\"n\">vector</span><span class=\"o\">&lt;</span><span class=\"n\">std</span><span class=\"o\">::</span><span class=\"n\">shared_ptr</span><span class=\"o\">&lt;</span><span class=\"n\">ASTNode</span><span class=\"o\">&gt;&gt;&amp;</span><span class=\"w\"> </span><span class=\"n\">stack</span><span class=\"p\">,</span>\n",
       "<span class=\"w\">    </span><span class=\"n\">std</span><span class=\"o\">::</span><span class=\"n\">vector</span><span class=\"o\">&lt;</span><span class=\"n\">std</span><span class=\"o\">::</span><span class=\"n\">shared_ptr</span><span class=\"o\">&lt;</span><span class=\"n\">Object</span><span class=\"o\">&gt;&gt;</span><span class=\"w\"> </span><span class=\"n\">args</span>\n",
       "<span class=\"w\">  </span><span class=\"p\">)</span><span class=\"w\"> </span><span class=\"k\">override</span><span class=\"p\">;</span>\n",
       "\n",
       "<span class=\"k\">private</span><span class=\"o\">:</span>\n",
       "<span class=\"p\">};</span>\n",
       "\n",
       "\n",
       "<span class=\"k\">class</span><span class=\"w\"> </span><span class=\"nc\">ObjectFunctionMap</span><span class=\"o\">:</span><span class=\"w\"> </span><span class=\"k\">public</span><span class=\"w\"> </span><span class=\"n\">ObjectFunction</span><span class=\"w\"> </span><span class=\"p\">{</span>\n",
       "<span class=\"k\">public</span><span class=\"o\">:</span>\n",
       "<span class=\"w\">  </span><span class=\"n\">ObjectFunctionMap</span><span class=\"p\">()</span><span class=\"o\">:</span><span class=\"w\"> </span><span class=\"n\">ObjectFunction</span><span class=\"p\">()</span><span class=\"w\"> </span><span class=\"p\">{</span><span class=\"w\"> </span><span class=\"p\">}</span>\n",
       "\n",
       "<span class=\"w\">  </span><span class=\"n\">std</span><span class=\"o\">::</span><span class=\"n\">string</span><span class=\"w\"> </span><span class=\"n\">repr</span><span class=\"p\">(</span><span class=\"kt\">int</span><span class=\"o\">&amp;</span><span class=\"w\"> </span><span class=\"n\">remaining</span><span class=\"p\">)</span><span class=\"w\"> </span><span class=\"k\">const</span><span class=\"w\"> </span><span class=\"k\">override</span><span class=\"p\">;</span>\n",
       "\n",
       "<span class=\"w\">  </span><span class=\"n\">std</span><span class=\"o\">::</span><span class=\"n\">shared_ptr</span><span class=\"o\">&lt;</span><span class=\"n\">Object</span><span class=\"o\">&gt;</span><span class=\"w\"> </span><span class=\"n\">run</span><span class=\"p\">(</span>\n",
       "<span class=\"w\">    </span><span class=\"n\">std</span><span class=\"o\">::</span><span class=\"n\">shared_ptr</span><span class=\"o\">&lt;</span><span class=\"n\">Scope</span><span class=\"o\">&gt;</span><span class=\"w\"> </span><span class=\"n\">scope</span><span class=\"p\">,</span>\n",
       "<span class=\"w\">    </span><span class=\"n\">std</span><span class=\"o\">::</span><span class=\"n\">vector</span><span class=\"o\">&lt;</span><span class=\"n\">std</span><span class=\"o\">::</span><span class=\"n\">shared_ptr</span><span class=\"o\">&lt;</span><span class=\"n\">ASTNode</span><span class=\"o\">&gt;&gt;&amp;</span><span class=\"w\"> </span><span class=\"n\">stack</span><span class=\"p\">,</span>\n",
       "<span class=\"w\">    </span><span class=\"n\">std</span><span class=\"o\">::</span><span class=\"n\">vector</span><span class=\"o\">&lt;</span><span class=\"n\">std</span><span class=\"o\">::</span><span class=\"n\">shared_ptr</span><span class=\"o\">&lt;</span><span class=\"n\">Object</span><span class=\"o\">&gt;&gt;</span><span class=\"w\"> </span><span class=\"n\">args</span>\n",
       "<span class=\"w\">  </span><span class=\"p\">)</span><span class=\"w\"> </span><span class=\"k\">override</span><span class=\"p\">;</span>\n",
       "\n",
       "<span class=\"k\">private</span><span class=\"o\">:</span>\n",
       "<span class=\"p\">};</span>\n",
       "\n",
       "\n",
       "<span class=\"k\">class</span><span class=\"w\"> </span><span class=\"nc\">ObjectFunctionReduce</span><span class=\"o\">:</span><span class=\"w\"> </span><span class=\"k\">public</span><span class=\"w\"> </span><span class=\"n\">ObjectFunction</span><span class=\"w\"> </span><span class=\"p\">{</span>\n",
       "<span class=\"k\">public</span><span class=\"o\">:</span>\n",
       "<span class=\"w\">  </span><span class=\"n\">ObjectFunctionReduce</span><span class=\"p\">()</span><span class=\"o\">:</span><span class=\"w\"> </span><span class=\"n\">ObjectFunction</span><span class=\"p\">()</span><span class=\"w\"> </span><span class=\"p\">{</span><span class=\"w\"> </span><span class=\"p\">}</span>\n",
       "\n",
       "<span class=\"w\">  </span><span class=\"n\">std</span><span class=\"o\">::</span><span class=\"n\">string</span><span class=\"w\"> </span><span class=\"n\">repr</span><span class=\"p\">(</span><span class=\"kt\">int</span><span class=\"o\">&amp;</span><span class=\"w\"> </span><span class=\"n\">remaining</span><span class=\"p\">)</span><span class=\"w\"> </span><span class=\"k\">const</span><span class=\"w\"> </span><span class=\"k\">override</span><span class=\"p\">;</span>\n",
       "\n",
       "<span class=\"w\">  </span><span class=\"n\">std</span><span class=\"o\">::</span><span class=\"n\">shared_ptr</span><span class=\"o\">&lt;</span><span class=\"n\">Object</span><span class=\"o\">&gt;</span><span class=\"w\"> </span><span class=\"n\">run</span><span class=\"p\">(</span>\n",
       "<span class=\"w\">    </span><span class=\"n\">std</span><span class=\"o\">::</span><span class=\"n\">shared_ptr</span><span class=\"o\">&lt;</span><span class=\"n\">Scope</span><span class=\"o\">&gt;</span><span class=\"w\"> </span><span class=\"n\">scope</span><span class=\"p\">,</span>\n",
       "<span class=\"w\">    </span><span class=\"n\">std</span><span class=\"o\">::</span><span class=\"n\">vector</span><span class=\"o\">&lt;</span><span class=\"n\">std</span><span class=\"o\">::</span><span class=\"n\">shared_ptr</span><span class=\"o\">&lt;</span><span class=\"n\">ASTNode</span><span class=\"o\">&gt;&gt;&amp;</span><span class=\"w\"> </span><span class=\"n\">stack</span><span class=\"p\">,</span>\n",
       "<span class=\"w\">    </span><span class=\"n\">std</span><span class=\"o\">::</span><span class=\"n\">vector</span><span class=\"o\">&lt;</span><span class=\"n\">std</span><span class=\"o\">::</span><span class=\"n\">shared_ptr</span><span class=\"o\">&lt;</span><span class=\"n\">Object</span><span class=\"o\">&gt;&gt;</span><span class=\"w\"> </span><span class=\"n\">args</span>\n",
       "<span class=\"w\">  </span><span class=\"p\">)</span><span class=\"w\"> </span><span class=\"k\">override</span><span class=\"p\">;</span>\n",
       "\n",
       "<span class=\"k\">private</span><span class=\"o\">:</span>\n",
       "<span class=\"p\">};</span>\n",
       "\n",
       "\n",
       "<span class=\"k\">class</span><span class=\"w\"> </span><span class=\"nc\">ObjectUserFunction</span><span class=\"o\">:</span><span class=\"w\"> </span><span class=\"k\">public</span><span class=\"w\"> </span><span class=\"n\">ObjectFunction</span><span class=\"w\"> </span><span class=\"p\">{</span>\n",
       "<span class=\"k\">public</span><span class=\"o\">:</span>\n",
       "<span class=\"w\">  </span><span class=\"n\">ObjectUserFunction</span><span class=\"p\">(</span><span class=\"n\">std</span><span class=\"o\">::</span><span class=\"n\">shared_ptr</span><span class=\"o\">&lt;</span><span class=\"n\">ASTDefineFun</span><span class=\"o\">&gt;</span><span class=\"w\"> </span><span class=\"n\">fun</span><span class=\"p\">)</span><span class=\"o\">:</span><span class=\"w\"> </span><span class=\"n\">fun_</span><span class=\"p\">(</span><span class=\"n\">fun</span><span class=\"p\">),</span><span class=\"w\"> </span><span class=\"n\">ObjectFunction</span><span class=\"p\">()</span><span class=\"w\"> </span><span class=\"p\">{</span><span class=\"w\"> </span><span class=\"p\">}</span>\n",
       "\n",
       "<span class=\"w\">  </span><span class=\"n\">std</span><span class=\"o\">::</span><span class=\"n\">string</span><span class=\"w\"> </span><span class=\"n\">repr</span><span class=\"p\">(</span><span class=\"kt\">int</span><span class=\"o\">&amp;</span><span class=\"w\"> </span><span class=\"n\">remaining</span><span class=\"p\">)</span><span class=\"w\"> </span><span class=\"k\">const</span><span class=\"w\"> </span><span class=\"k\">override</span><span class=\"p\">;</span>\n",
       "\n",
       "<span class=\"w\">  </span><span class=\"n\">std</span><span class=\"o\">::</span><span class=\"n\">shared_ptr</span><span class=\"o\">&lt;</span><span class=\"n\">Object</span><span class=\"o\">&gt;</span><span class=\"w\"> </span><span class=\"n\">run</span><span class=\"p\">(</span>\n",
       "<span class=\"w\">    </span><span class=\"n\">std</span><span class=\"o\">::</span><span class=\"n\">shared_ptr</span><span class=\"o\">&lt;</span><span class=\"n\">Scope</span><span class=\"o\">&gt;</span><span class=\"w\"> </span><span class=\"n\">scope</span><span class=\"p\">,</span>\n",
       "<span class=\"w\">    </span><span class=\"n\">std</span><span class=\"o\">::</span><span class=\"n\">vector</span><span class=\"o\">&lt;</span><span class=\"n\">std</span><span class=\"o\">::</span><span class=\"n\">shared_ptr</span><span class=\"o\">&lt;</span><span class=\"n\">ASTNode</span><span class=\"o\">&gt;&gt;&amp;</span><span class=\"w\"> </span><span class=\"n\">stack</span><span class=\"p\">,</span>\n",
       "<span class=\"w\">    </span><span class=\"n\">std</span><span class=\"o\">::</span><span class=\"n\">vector</span><span class=\"o\">&lt;</span><span class=\"n\">std</span><span class=\"o\">::</span><span class=\"n\">shared_ptr</span><span class=\"o\">&lt;</span><span class=\"n\">Object</span><span class=\"o\">&gt;&gt;</span><span class=\"w\"> </span><span class=\"n\">args</span>\n",
       "<span class=\"w\">  </span><span class=\"p\">)</span><span class=\"w\"> </span><span class=\"k\">override</span><span class=\"p\">;</span>\n",
       "\n",
       "<span class=\"k\">private</span><span class=\"o\">:</span>\n",
       "<span class=\"w\">  </span><span class=\"n\">std</span><span class=\"o\">::</span><span class=\"n\">shared_ptr</span><span class=\"o\">&lt;</span><span class=\"n\">ASTDefineFun</span><span class=\"o\">&gt;</span><span class=\"w\"> </span><span class=\"n\">fun_</span><span class=\"p\">;</span>\n",
       "<span class=\"p\">};</span>\n",
       "\n",
       "\n",
       "<span class=\"c1\">//// ASTNodes: sequence of instructions (as a tree) to run</span>\n",
       "\n",
       "\n",
       "<span class=\"k\">class</span><span class=\"w\"> </span><span class=\"nc\">ASTNode</span><span class=\"w\"> </span><span class=\"p\">{</span>\n",
       "<span class=\"k\">public</span><span class=\"o\">:</span>\n",
       "<span class=\"w\">  </span><span class=\"n\">ASTNode</span><span class=\"p\">(</span><span class=\"kt\">int</span><span class=\"w\"> </span><span class=\"n\">pos</span><span class=\"p\">,</span><span class=\"w\"> </span><span class=\"k\">const</span><span class=\"w\"> </span><span class=\"n\">std</span><span class=\"o\">::</span><span class=\"n\">string</span><span class=\"o\">&amp;</span><span class=\"w\"> </span><span class=\"n\">line</span><span class=\"p\">)</span><span class=\"o\">:</span><span class=\"w\"> </span><span class=\"n\">pos_</span><span class=\"p\">(</span><span class=\"n\">pos</span><span class=\"p\">),</span><span class=\"w\"> </span><span class=\"n\">line_</span><span class=\"p\">(</span><span class=\"n\">line</span><span class=\"p\">)</span><span class=\"w\"> </span><span class=\"p\">{</span><span class=\"w\"> </span><span class=\"p\">}</span>\n",
       "<span class=\"w\">  </span><span class=\"k\">virtual</span><span class=\"w\"> </span><span class=\"o\">~</span><span class=\"n\">ASTNode</span><span class=\"p\">()</span><span class=\"w\"> </span><span class=\"o\">=</span><span class=\"w\"> </span><span class=\"k\">default</span><span class=\"p\">;</span>\n",
       "\n",
       "<span class=\"w\">  </span><span class=\"kt\">int</span><span class=\"w\"> </span><span class=\"nf\">pos</span><span class=\"p\">()</span><span class=\"w\"> </span><span class=\"k\">const</span><span class=\"w\"> </span><span class=\"p\">{</span><span class=\"w\"> </span><span class=\"k\">return</span><span class=\"w\"> </span><span class=\"n\">pos_</span><span class=\"p\">;</span><span class=\"w\"> </span><span class=\"p\">}</span>\n",
       "<span class=\"w\">  </span><span class=\"k\">const</span><span class=\"w\"> </span><span class=\"n\">std</span><span class=\"o\">::</span><span class=\"n\">string</span><span class=\"o\">&amp;</span><span class=\"w\"> </span><span class=\"nf\">line</span><span class=\"p\">()</span><span class=\"w\"> </span><span class=\"k\">const</span><span class=\"w\"> </span><span class=\"p\">{</span><span class=\"w\"> </span><span class=\"k\">return</span><span class=\"w\"> </span><span class=\"n\">line_</span><span class=\"p\">;</span><span class=\"w\"> </span><span class=\"p\">}</span>\n",
       "\n",
       "<span class=\"w\">  </span><span class=\"k\">virtual</span><span class=\"w\"> </span><span class=\"n\">std</span><span class=\"o\">::</span><span class=\"n\">shared_ptr</span><span class=\"o\">&lt;</span><span class=\"n\">Object</span><span class=\"o\">&gt;</span><span class=\"w\"> </span><span class=\"n\">run</span><span class=\"p\">(</span>\n",
       "<span class=\"w\">    </span><span class=\"n\">std</span><span class=\"o\">::</span><span class=\"n\">shared_ptr</span><span class=\"o\">&lt;</span><span class=\"n\">Scope</span><span class=\"o\">&gt;</span><span class=\"w\"> </span><span class=\"n\">scope</span><span class=\"p\">,</span>\n",
       "<span class=\"w\">    </span><span class=\"n\">std</span><span class=\"o\">::</span><span class=\"n\">vector</span><span class=\"o\">&lt;</span><span class=\"n\">std</span><span class=\"o\">::</span><span class=\"n\">shared_ptr</span><span class=\"o\">&lt;</span><span class=\"n\">ASTNode</span><span class=\"o\">&gt;&gt;&amp;</span><span class=\"w\"> </span><span class=\"n\">stack</span>\n",
       "<span class=\"w\">  </span><span class=\"p\">)</span><span class=\"w\"> </span><span class=\"o\">=</span><span class=\"w\"> </span><span class=\"mi\">0</span><span class=\"p\">;</span>\n",
       "\n",
       "<span class=\"k\">private</span><span class=\"o\">:</span>\n",
       "<span class=\"w\">  </span><span class=\"kt\">int</span><span class=\"w\"> </span><span class=\"n\">pos_</span><span class=\"p\">;</span>\n",
       "<span class=\"w\">  </span><span class=\"k\">const</span><span class=\"w\"> </span><span class=\"n\">std</span><span class=\"o\">::</span><span class=\"n\">string</span><span class=\"w\"> </span><span class=\"n\">line_</span><span class=\"p\">;</span>\n",
       "<span class=\"p\">};</span>\n",
       "\n",
       "<span class=\"k\">class</span><span class=\"w\"> </span><span class=\"nc\">ASTLiteralInt</span><span class=\"o\">:</span><span class=\"w\"> </span><span class=\"k\">public</span><span class=\"w\"> </span><span class=\"n\">ASTNode</span><span class=\"w\"> </span><span class=\"p\">{</span>\n",
       "<span class=\"k\">public</span><span class=\"o\">:</span>\n",
       "<span class=\"w\">  </span><span class=\"n\">ASTLiteralInt</span><span class=\"p\">(</span><span class=\"kt\">int</span><span class=\"w\"> </span><span class=\"n\">pos</span><span class=\"p\">,</span><span class=\"w\"> </span><span class=\"k\">const</span><span class=\"w\"> </span><span class=\"n\">std</span><span class=\"o\">::</span><span class=\"n\">string</span><span class=\"o\">&amp;</span><span class=\"w\"> </span><span class=\"n\">line</span><span class=\"p\">,</span><span class=\"w\"> </span><span class=\"kt\">int</span><span class=\"w\"> </span><span class=\"n\">value</span><span class=\"p\">)</span>\n",
       "<span class=\"w\">    </span><span class=\"o\">:</span><span class=\"w\"> </span><span class=\"n\">value_</span><span class=\"p\">(</span><span class=\"n\">value</span><span class=\"p\">),</span><span class=\"w\"> </span><span class=\"n\">ASTNode</span><span class=\"p\">(</span><span class=\"n\">pos</span><span class=\"p\">,</span><span class=\"w\"> </span><span class=\"n\">line</span><span class=\"p\">)</span><span class=\"w\"> </span><span class=\"p\">{</span><span class=\"w\"> </span><span class=\"p\">}</span>\n",
       "\n",
       "<span class=\"w\">  </span><span class=\"kt\">int</span><span class=\"w\"> </span><span class=\"n\">value</span><span class=\"p\">()</span><span class=\"w\"> </span><span class=\"k\">const</span><span class=\"w\"> </span><span class=\"p\">{</span><span class=\"w\"> </span><span class=\"k\">return</span><span class=\"w\"> </span><span class=\"n\">value_</span><span class=\"p\">;</span><span class=\"w\"> </span><span class=\"p\">}</span>\n",
       "\n",
       "<span class=\"w\">  </span><span class=\"n\">std</span><span class=\"o\">::</span><span class=\"n\">shared_ptr</span><span class=\"o\">&lt;</span><span class=\"n\">Object</span><span class=\"o\">&gt;</span><span class=\"w\"> </span><span class=\"n\">run</span><span class=\"p\">(</span>\n",
       "<span class=\"w\">    </span><span class=\"n\">std</span><span class=\"o\">::</span><span class=\"n\">shared_ptr</span><span class=\"o\">&lt;</span><span class=\"n\">Scope</span><span class=\"o\">&gt;</span><span class=\"w\"> </span><span class=\"n\">scope</span><span class=\"p\">,</span>\n",
       "<span class=\"w\">    </span><span class=\"n\">std</span><span class=\"o\">::</span><span class=\"n\">vector</span><span class=\"o\">&lt;</span><span class=\"n\">std</span><span class=\"o\">::</span><span class=\"n\">shared_ptr</span><span class=\"o\">&lt;</span><span class=\"n\">ASTNode</span><span class=\"o\">&gt;&gt;&amp;</span><span class=\"w\"> </span><span class=\"n\">stack</span>\n",
       "<span class=\"w\">  </span><span class=\"p\">)</span><span class=\"w\"> </span><span class=\"k\">override</span><span class=\"p\">;</span>\n",
       "\n",
       "<span class=\"k\">private</span><span class=\"o\">:</span>\n",
       "<span class=\"w\">  </span><span class=\"kt\">int</span><span class=\"w\"> </span><span class=\"n\">value_</span><span class=\"p\">;</span>\n",
       "<span class=\"p\">};</span>\n",
       "\n",
       "\n",
       "<span class=\"k\">class</span><span class=\"w\"> </span><span class=\"nc\">ASTLiteralList</span><span class=\"o\">:</span><span class=\"w\"> </span><span class=\"k\">public</span><span class=\"w\"> </span><span class=\"n\">ASTNode</span><span class=\"w\"> </span><span class=\"p\">{</span>\n",
       "<span class=\"k\">public</span><span class=\"o\">:</span>\n",
       "<span class=\"w\">  </span><span class=\"n\">ASTLiteralList</span><span class=\"p\">(</span>\n",
       "<span class=\"w\">    </span><span class=\"kt\">int</span><span class=\"w\"> </span><span class=\"n\">pos</span><span class=\"p\">,</span>\n",
       "<span class=\"w\">    </span><span class=\"k\">const</span><span class=\"w\"> </span><span class=\"n\">std</span><span class=\"o\">::</span><span class=\"n\">string</span><span class=\"o\">&amp;</span><span class=\"w\"> </span><span class=\"n\">line</span><span class=\"p\">,</span>\n",
       "<span class=\"w\">    </span><span class=\"n\">std</span><span class=\"o\">::</span><span class=\"n\">vector</span><span class=\"o\">&lt;</span><span class=\"n\">std</span><span class=\"o\">::</span><span class=\"n\">shared_ptr</span><span class=\"o\">&lt;</span><span class=\"n\">ASTNode</span><span class=\"o\">&gt;&gt;&amp;</span><span class=\"w\"> </span><span class=\"n\">values</span>\n",
       "<span class=\"w\">  </span><span class=\"p\">)</span>\n",
       "<span class=\"w\">    </span><span class=\"o\">:</span><span class=\"w\"> </span><span class=\"n\">values_</span><span class=\"p\">(</span><span class=\"n\">values</span><span class=\"p\">)</span>\n",
       "<span class=\"w\">    </span><span class=\"p\">,</span><span class=\"w\"> </span><span class=\"n\">ASTNode</span><span class=\"p\">(</span><span class=\"n\">pos</span><span class=\"p\">,</span><span class=\"w\"> </span><span class=\"n\">line</span><span class=\"p\">)</span><span class=\"w\"> </span><span class=\"p\">{</span><span class=\"w\"> </span><span class=\"p\">}</span>\n",
       "\n",
       "<span class=\"w\">  </span><span class=\"n\">std</span><span class=\"o\">::</span><span class=\"n\">shared_ptr</span><span class=\"o\">&lt;</span><span class=\"n\">Object</span><span class=\"o\">&gt;</span><span class=\"w\"> </span><span class=\"n\">run</span><span class=\"p\">(</span>\n",
       "<span class=\"w\">    </span><span class=\"n\">std</span><span class=\"o\">::</span><span class=\"n\">shared_ptr</span><span class=\"o\">&lt;</span><span class=\"n\">Scope</span><span class=\"o\">&gt;</span><span class=\"w\"> </span><span class=\"n\">scope</span><span class=\"p\">,</span>\n",
       "<span class=\"w\">    </span><span class=\"n\">std</span><span class=\"o\">::</span><span class=\"n\">vector</span><span class=\"o\">&lt;</span><span class=\"n\">std</span><span class=\"o\">::</span><span class=\"n\">shared_ptr</span><span class=\"o\">&lt;</span><span class=\"n\">ASTNode</span><span class=\"o\">&gt;&gt;&amp;</span><span class=\"w\"> </span><span class=\"n\">stack</span>\n",
       "<span class=\"w\">  </span><span class=\"p\">)</span><span class=\"w\"> </span><span class=\"k\">override</span><span class=\"p\">;</span>\n",
       "\n",
       "<span class=\"k\">private</span><span class=\"o\">:</span>\n",
       "<span class=\"w\">  </span><span class=\"n\">std</span><span class=\"o\">::</span><span class=\"n\">vector</span><span class=\"o\">&lt;</span><span class=\"n\">std</span><span class=\"o\">::</span><span class=\"n\">shared_ptr</span><span class=\"o\">&lt;</span><span class=\"n\">ASTNode</span><span class=\"o\">&gt;&gt;</span><span class=\"w\"> </span><span class=\"n\">values_</span><span class=\"p\">;</span>\n",
       "<span class=\"p\">};</span>\n",
       "\n",
       "\n",
       "<span class=\"k\">class</span><span class=\"w\"> </span><span class=\"nc\">ASTDefineFun</span><span class=\"o\">:</span><span class=\"w\"> </span><span class=\"k\">public</span><span class=\"w\"> </span><span class=\"n\">ASTNode</span><span class=\"p\">,</span><span class=\"w\"> </span><span class=\"k\">public</span><span class=\"w\"> </span><span class=\"n\">std</span><span class=\"o\">::</span><span class=\"n\">enable_shared_from_this</span><span class=\"o\">&lt;</span><span class=\"n\">ASTDefineFun</span><span class=\"o\">&gt;</span><span class=\"w\"> </span><span class=\"p\">{</span>\n",
       "<span class=\"k\">public</span><span class=\"o\">:</span>\n",
       "<span class=\"w\">  </span><span class=\"n\">ASTDefineFun</span><span class=\"p\">(</span>\n",
       "<span class=\"w\">   </span><span class=\"kt\">int</span><span class=\"w\"> </span><span class=\"n\">pos</span><span class=\"p\">,</span>\n",
       "<span class=\"w\">   </span><span class=\"k\">const</span><span class=\"w\"> </span><span class=\"n\">std</span><span class=\"o\">::</span><span class=\"n\">string</span><span class=\"o\">&amp;</span><span class=\"w\"> </span><span class=\"n\">line</span><span class=\"p\">,</span>\n",
       "<span class=\"w\">   </span><span class=\"k\">const</span><span class=\"w\"> </span><span class=\"n\">std</span><span class=\"o\">::</span><span class=\"n\">vector</span><span class=\"o\">&lt;</span><span class=\"n\">std</span><span class=\"o\">::</span><span class=\"n\">string</span><span class=\"o\">&gt;&amp;</span><span class=\"w\"> </span><span class=\"n\">params</span><span class=\"p\">,</span>\n",
       "<span class=\"w\">   </span><span class=\"n\">std</span><span class=\"o\">::</span><span class=\"n\">vector</span><span class=\"o\">&lt;</span><span class=\"n\">std</span><span class=\"o\">::</span><span class=\"n\">shared_ptr</span><span class=\"o\">&lt;</span><span class=\"n\">ASTNode</span><span class=\"o\">&gt;&gt;&amp;</span><span class=\"w\"> </span><span class=\"n\">body</span>\n",
       "<span class=\"w\">  </span><span class=\"p\">)</span>\n",
       "<span class=\"w\">    </span><span class=\"o\">:</span><span class=\"w\"> </span><span class=\"n\">params_</span><span class=\"p\">(</span><span class=\"n\">params</span><span class=\"p\">)</span>\n",
       "<span class=\"w\">    </span><span class=\"p\">,</span><span class=\"w\"> </span><span class=\"n\">body_</span><span class=\"p\">(</span><span class=\"n\">body</span><span class=\"p\">)</span>\n",
       "<span class=\"w\">    </span><span class=\"p\">,</span><span class=\"w\"> </span><span class=\"n\">ASTNode</span><span class=\"p\">(</span><span class=\"n\">pos</span><span class=\"p\">,</span><span class=\"w\"> </span><span class=\"n\">line</span><span class=\"p\">)</span><span class=\"w\"> </span><span class=\"p\">{</span><span class=\"w\"> </span><span class=\"p\">}</span>\n",
       "\n",
       "<span class=\"w\">  </span><span class=\"k\">const</span><span class=\"w\"> </span><span class=\"n\">std</span><span class=\"o\">::</span><span class=\"n\">vector</span><span class=\"o\">&lt;</span><span class=\"n\">std</span><span class=\"o\">::</span><span class=\"n\">string</span><span class=\"o\">&gt;&amp;</span><span class=\"w\"> </span><span class=\"n\">params</span><span class=\"p\">()</span><span class=\"w\"> </span><span class=\"p\">{</span><span class=\"w\"> </span><span class=\"k\">return</span><span class=\"w\"> </span><span class=\"n\">params_</span><span class=\"p\">;</span><span class=\"w\"> </span><span class=\"p\">}</span>\n",
       "<span class=\"w\">  </span><span class=\"n\">std</span><span class=\"o\">::</span><span class=\"n\">vector</span><span class=\"o\">&lt;</span><span class=\"n\">std</span><span class=\"o\">::</span><span class=\"n\">shared_ptr</span><span class=\"o\">&lt;</span><span class=\"n\">ASTNode</span><span class=\"o\">&gt;&gt;&amp;</span><span class=\"w\"> </span><span class=\"n\">body</span><span class=\"p\">()</span><span class=\"w\"> </span><span class=\"p\">{</span><span class=\"w\"> </span><span class=\"k\">return</span><span class=\"w\"> </span><span class=\"n\">body_</span><span class=\"p\">;</span><span class=\"w\"> </span><span class=\"p\">}</span>\n",
       "\n",
       "<span class=\"w\">  </span><span class=\"n\">std</span><span class=\"o\">::</span><span class=\"n\">shared_ptr</span><span class=\"o\">&lt;</span><span class=\"n\">Object</span><span class=\"o\">&gt;</span><span class=\"w\"> </span><span class=\"n\">run</span><span class=\"p\">(</span>\n",
       "<span class=\"w\">    </span><span class=\"n\">std</span><span class=\"o\">::</span><span class=\"n\">shared_ptr</span><span class=\"o\">&lt;</span><span class=\"n\">Scope</span><span class=\"o\">&gt;</span><span class=\"w\"> </span><span class=\"n\">scope</span><span class=\"p\">,</span>\n",
       "<span class=\"w\">    </span><span class=\"n\">std</span><span class=\"o\">::</span><span class=\"n\">vector</span><span class=\"o\">&lt;</span><span class=\"n\">std</span><span class=\"o\">::</span><span class=\"n\">shared_ptr</span><span class=\"o\">&lt;</span><span class=\"n\">ASTNode</span><span class=\"o\">&gt;&gt;&amp;</span><span class=\"w\"> </span><span class=\"n\">stack</span>\n",
       "<span class=\"w\">  </span><span class=\"p\">)</span><span class=\"w\"> </span><span class=\"k\">override</span><span class=\"p\">;</span>\n",
       "\n",
       "<span class=\"k\">private</span><span class=\"o\">:</span>\n",
       "<span class=\"w\">  </span><span class=\"k\">const</span><span class=\"w\"> </span><span class=\"n\">std</span><span class=\"o\">::</span><span class=\"n\">vector</span><span class=\"o\">&lt;</span><span class=\"n\">std</span><span class=\"o\">::</span><span class=\"n\">string</span><span class=\"o\">&gt;</span><span class=\"w\"> </span><span class=\"n\">params_</span><span class=\"p\">;</span>\n",
       "<span class=\"w\">  </span><span class=\"n\">std</span><span class=\"o\">::</span><span class=\"n\">vector</span><span class=\"o\">&lt;</span><span class=\"n\">std</span><span class=\"o\">::</span><span class=\"n\">shared_ptr</span><span class=\"o\">&lt;</span><span class=\"n\">ASTNode</span><span class=\"o\">&gt;&gt;</span><span class=\"w\"> </span><span class=\"n\">body_</span><span class=\"p\">;</span>\n",
       "<span class=\"p\">};</span>\n",
       "\n",
       "\n",
       "<span class=\"k\">class</span><span class=\"w\"> </span><span class=\"nc\">ASTCallNamed</span><span class=\"o\">:</span><span class=\"w\"> </span><span class=\"k\">public</span><span class=\"w\"> </span><span class=\"n\">ASTNode</span><span class=\"p\">,</span><span class=\"w\"> </span><span class=\"k\">public</span><span class=\"w\"> </span><span class=\"n\">std</span><span class=\"o\">::</span><span class=\"n\">enable_shared_from_this</span><span class=\"o\">&lt;</span><span class=\"n\">ASTCallNamed</span><span class=\"o\">&gt;</span><span class=\"w\"> </span><span class=\"p\">{</span>\n",
       "<span class=\"k\">public</span><span class=\"o\">:</span>\n",
       "<span class=\"w\">  </span><span class=\"n\">ASTCallNamed</span><span class=\"p\">(</span>\n",
       "<span class=\"w\">    </span><span class=\"kt\">int</span><span class=\"w\"> </span><span class=\"n\">pos</span><span class=\"p\">,</span>\n",
       "<span class=\"w\">    </span><span class=\"k\">const</span><span class=\"w\"> </span><span class=\"n\">std</span><span class=\"o\">::</span><span class=\"n\">string</span><span class=\"o\">&amp;</span><span class=\"w\"> </span><span class=\"n\">line</span><span class=\"p\">,</span>\n",
       "<span class=\"w\">    </span><span class=\"k\">const</span><span class=\"w\"> </span><span class=\"n\">std</span><span class=\"o\">::</span><span class=\"n\">string</span><span class=\"o\">&amp;</span><span class=\"w\"> </span><span class=\"n\">name</span><span class=\"p\">,</span>\n",
       "<span class=\"w\">    </span><span class=\"n\">std</span><span class=\"o\">::</span><span class=\"n\">vector</span><span class=\"o\">&lt;</span><span class=\"n\">std</span><span class=\"o\">::</span><span class=\"n\">shared_ptr</span><span class=\"o\">&lt;</span><span class=\"n\">ASTNode</span><span class=\"o\">&gt;&gt;</span><span class=\"w\"> </span><span class=\"n\">args</span>\n",
       "<span class=\"w\">  </span><span class=\"p\">)</span>\n",
       "<span class=\"w\">    </span><span class=\"o\">:</span><span class=\"w\"> </span><span class=\"n\">name_</span><span class=\"p\">(</span><span class=\"n\">name</span><span class=\"p\">)</span>\n",
       "<span class=\"w\">    </span><span class=\"p\">,</span><span class=\"w\"> </span><span class=\"n\">args_</span><span class=\"p\">(</span><span class=\"n\">args</span><span class=\"p\">)</span>\n",
       "<span class=\"w\">    </span><span class=\"p\">,</span><span class=\"w\"> </span><span class=\"n\">ASTNode</span><span class=\"p\">(</span><span class=\"n\">pos</span><span class=\"p\">,</span><span class=\"w\"> </span><span class=\"n\">line</span><span class=\"p\">)</span><span class=\"w\"> </span><span class=\"p\">{</span><span class=\"w\"> </span><span class=\"p\">}</span>\n",
       "\n",
       "<span class=\"w\">  </span><span class=\"k\">const</span><span class=\"w\"> </span><span class=\"n\">std</span><span class=\"o\">::</span><span class=\"n\">string</span><span class=\"o\">&amp;</span><span class=\"w\"> </span><span class=\"n\">name</span><span class=\"p\">()</span><span class=\"w\"> </span><span class=\"k\">const</span><span class=\"w\"> </span><span class=\"p\">{</span><span class=\"w\"> </span><span class=\"k\">return</span><span class=\"w\"> </span><span class=\"n\">name_</span><span class=\"p\">;</span><span class=\"w\"> </span><span class=\"p\">}</span>\n",
       "\n",
       "<span class=\"w\">  </span><span class=\"n\">std</span><span class=\"o\">::</span><span class=\"n\">shared_ptr</span><span class=\"o\">&lt;</span><span class=\"n\">Object</span><span class=\"o\">&gt;</span><span class=\"w\"> </span><span class=\"n\">run</span><span class=\"p\">(</span>\n",
       "<span class=\"w\">    </span><span class=\"n\">std</span><span class=\"o\">::</span><span class=\"n\">shared_ptr</span><span class=\"o\">&lt;</span><span class=\"n\">Scope</span><span class=\"o\">&gt;</span><span class=\"w\"> </span><span class=\"n\">scope</span><span class=\"p\">,</span>\n",
       "<span class=\"w\">    </span><span class=\"n\">std</span><span class=\"o\">::</span><span class=\"n\">vector</span><span class=\"o\">&lt;</span><span class=\"n\">std</span><span class=\"o\">::</span><span class=\"n\">shared_ptr</span><span class=\"o\">&lt;</span><span class=\"n\">ASTNode</span><span class=\"o\">&gt;&gt;&amp;</span><span class=\"w\"> </span><span class=\"n\">stack</span>\n",
       "<span class=\"w\">  </span><span class=\"p\">)</span><span class=\"w\"> </span><span class=\"k\">override</span><span class=\"p\">;</span>\n",
       "\n",
       "<span class=\"k\">private</span><span class=\"o\">:</span>\n",
       "<span class=\"w\">  </span><span class=\"k\">const</span><span class=\"w\"> </span><span class=\"n\">std</span><span class=\"o\">::</span><span class=\"n\">string</span><span class=\"w\"> </span><span class=\"n\">name_</span><span class=\"p\">;</span>\n",
       "<span class=\"w\">  </span><span class=\"n\">std</span><span class=\"o\">::</span><span class=\"n\">vector</span><span class=\"o\">&lt;</span><span class=\"n\">std</span><span class=\"o\">::</span><span class=\"n\">shared_ptr</span><span class=\"o\">&lt;</span><span class=\"n\">ASTNode</span><span class=\"o\">&gt;&gt;</span><span class=\"w\"> </span><span class=\"n\">args_</span><span class=\"p\">;</span>\n",
       "<span class=\"p\">};</span>\n",
       "\n",
       "\n",
       "<span class=\"k\">class</span><span class=\"w\"> </span><span class=\"nc\">ASTAssignment</span><span class=\"o\">:</span><span class=\"w\"> </span><span class=\"k\">public</span><span class=\"w\"> </span><span class=\"n\">ASTNode</span><span class=\"w\"> </span><span class=\"p\">{</span>\n",
       "<span class=\"k\">public</span><span class=\"o\">:</span>\n",
       "<span class=\"w\">  </span><span class=\"n\">ASTAssignment</span><span class=\"p\">(</span>\n",
       "<span class=\"w\">    </span><span class=\"kt\">int</span><span class=\"w\"> </span><span class=\"n\">pos</span><span class=\"p\">,</span>\n",
       "<span class=\"w\">    </span><span class=\"k\">const</span><span class=\"w\"> </span><span class=\"n\">std</span><span class=\"o\">::</span><span class=\"n\">string</span><span class=\"o\">&amp;</span><span class=\"w\"> </span><span class=\"n\">line</span><span class=\"p\">,</span>\n",
       "<span class=\"w\">    </span><span class=\"k\">const</span><span class=\"w\"> </span><span class=\"n\">std</span><span class=\"o\">::</span><span class=\"n\">string</span><span class=\"o\">&amp;</span><span class=\"w\"> </span><span class=\"n\">name</span><span class=\"p\">,</span>\n",
       "<span class=\"w\">    </span><span class=\"n\">std</span><span class=\"o\">::</span><span class=\"n\">shared_ptr</span><span class=\"o\">&lt;</span><span class=\"n\">ASTNode</span><span class=\"o\">&gt;</span><span class=\"w\"> </span><span class=\"n\">value</span>\n",
       "<span class=\"w\">  </span><span class=\"p\">)</span>\n",
       "<span class=\"w\">    </span><span class=\"o\">:</span><span class=\"w\"> </span><span class=\"n\">name_</span><span class=\"p\">(</span><span class=\"n\">name</span><span class=\"p\">)</span>\n",
       "<span class=\"w\">    </span><span class=\"p\">,</span><span class=\"w\"> </span><span class=\"n\">value_</span><span class=\"p\">(</span><span class=\"n\">value</span><span class=\"p\">)</span>\n",
       "<span class=\"w\">    </span><span class=\"p\">,</span><span class=\"w\"> </span><span class=\"n\">ASTNode</span><span class=\"p\">(</span><span class=\"n\">pos</span><span class=\"p\">,</span><span class=\"w\"> </span><span class=\"n\">line</span><span class=\"p\">)</span><span class=\"w\"> </span><span class=\"p\">{</span><span class=\"w\"> </span><span class=\"p\">}</span>\n",
       "\n",
       "<span class=\"w\">  </span><span class=\"k\">const</span><span class=\"w\"> </span><span class=\"n\">std</span><span class=\"o\">::</span><span class=\"n\">string</span><span class=\"o\">&amp;</span><span class=\"w\"> </span><span class=\"n\">name</span><span class=\"p\">()</span><span class=\"w\"> </span><span class=\"k\">const</span><span class=\"w\"> </span><span class=\"p\">{</span><span class=\"w\"> </span><span class=\"k\">return</span><span class=\"w\"> </span><span class=\"n\">name_</span><span class=\"p\">;</span><span class=\"w\"> </span><span class=\"p\">}</span>\n",
       "\n",
       "<span class=\"w\">  </span><span class=\"n\">std</span><span class=\"o\">::</span><span class=\"n\">shared_ptr</span><span class=\"o\">&lt;</span><span class=\"n\">Object</span><span class=\"o\">&gt;</span><span class=\"w\"> </span><span class=\"n\">run</span><span class=\"p\">(</span>\n",
       "<span class=\"w\">    </span><span class=\"n\">std</span><span class=\"o\">::</span><span class=\"n\">shared_ptr</span><span class=\"o\">&lt;</span><span class=\"n\">Scope</span><span class=\"o\">&gt;</span><span class=\"w\"> </span><span class=\"n\">scope</span><span class=\"p\">,</span>\n",
       "<span class=\"w\">    </span><span class=\"n\">std</span><span class=\"o\">::</span><span class=\"n\">vector</span><span class=\"o\">&lt;</span><span class=\"n\">std</span><span class=\"o\">::</span><span class=\"n\">shared_ptr</span><span class=\"o\">&lt;</span><span class=\"n\">ASTNode</span><span class=\"o\">&gt;&gt;&amp;</span><span class=\"w\"> </span><span class=\"n\">stack</span>\n",
       "<span class=\"w\">  </span><span class=\"p\">)</span><span class=\"w\"> </span><span class=\"k\">override</span><span class=\"p\">;</span>\n",
       "\n",
       "<span class=\"k\">private</span><span class=\"o\">:</span>\n",
       "<span class=\"w\">  </span><span class=\"k\">const</span><span class=\"w\"> </span><span class=\"n\">std</span><span class=\"o\">::</span><span class=\"n\">string</span><span class=\"w\"> </span><span class=\"n\">name_</span><span class=\"p\">;</span>\n",
       "<span class=\"w\">  </span><span class=\"n\">std</span><span class=\"o\">::</span><span class=\"n\">shared_ptr</span><span class=\"o\">&lt;</span><span class=\"n\">ASTNode</span><span class=\"o\">&gt;</span><span class=\"w\"> </span><span class=\"n\">value_</span><span class=\"p\">;</span>\n",
       "<span class=\"p\">};</span>\n",
       "\n",
       "\n",
       "<span class=\"k\">class</span><span class=\"w\"> </span><span class=\"nc\">ASTDelete</span><span class=\"o\">:</span><span class=\"w\"> </span><span class=\"k\">public</span><span class=\"w\"> </span><span class=\"n\">ASTNode</span><span class=\"w\"> </span><span class=\"p\">{</span>\n",
       "<span class=\"k\">public</span><span class=\"o\">:</span>\n",
       "<span class=\"w\">  </span><span class=\"n\">ASTDelete</span><span class=\"p\">(</span><span class=\"kt\">int</span><span class=\"w\"> </span><span class=\"n\">pos</span><span class=\"p\">,</span><span class=\"w\"> </span><span class=\"k\">const</span><span class=\"w\"> </span><span class=\"n\">std</span><span class=\"o\">::</span><span class=\"n\">string</span><span class=\"o\">&amp;</span><span class=\"w\"> </span><span class=\"n\">line</span><span class=\"p\">,</span><span class=\"w\"> </span><span class=\"k\">const</span><span class=\"w\"> </span><span class=\"n\">std</span><span class=\"o\">::</span><span class=\"n\">string</span><span class=\"o\">&amp;</span><span class=\"w\"> </span><span class=\"n\">name</span><span class=\"p\">)</span>\n",
       "<span class=\"w\">    </span><span class=\"o\">:</span><span class=\"w\"> </span><span class=\"n\">name_</span><span class=\"p\">(</span><span class=\"n\">name</span><span class=\"p\">),</span><span class=\"w\"> </span><span class=\"n\">ASTNode</span><span class=\"p\">(</span><span class=\"n\">pos</span><span class=\"p\">,</span><span class=\"w\"> </span><span class=\"n\">line</span><span class=\"p\">)</span><span class=\"w\"> </span><span class=\"p\">{</span><span class=\"w\"> </span><span class=\"p\">}</span>\n",
       "\n",
       "<span class=\"w\">  </span><span class=\"k\">const</span><span class=\"w\"> </span><span class=\"n\">std</span><span class=\"o\">::</span><span class=\"n\">string</span><span class=\"o\">&amp;</span><span class=\"w\"> </span><span class=\"n\">name</span><span class=\"p\">()</span><span class=\"w\"> </span><span class=\"k\">const</span><span class=\"w\"> </span><span class=\"p\">{</span><span class=\"w\"> </span><span class=\"k\">return</span><span class=\"w\"> </span><span class=\"n\">name_</span><span class=\"p\">;</span><span class=\"w\"> </span><span class=\"p\">}</span>\n",
       "\n",
       "<span class=\"w\">  </span><span class=\"n\">std</span><span class=\"o\">::</span><span class=\"n\">shared_ptr</span><span class=\"o\">&lt;</span><span class=\"n\">Object</span><span class=\"o\">&gt;</span><span class=\"w\"> </span><span class=\"n\">run</span><span class=\"p\">(</span>\n",
       "<span class=\"w\">    </span><span class=\"n\">std</span><span class=\"o\">::</span><span class=\"n\">shared_ptr</span><span class=\"o\">&lt;</span><span class=\"n\">Scope</span><span class=\"o\">&gt;</span><span class=\"w\"> </span><span class=\"n\">scope</span><span class=\"p\">,</span>\n",
       "<span class=\"w\">    </span><span class=\"n\">std</span><span class=\"o\">::</span><span class=\"n\">vector</span><span class=\"o\">&lt;</span><span class=\"n\">std</span><span class=\"o\">::</span><span class=\"n\">shared_ptr</span><span class=\"o\">&lt;</span><span class=\"n\">ASTNode</span><span class=\"o\">&gt;&gt;&amp;</span><span class=\"w\"> </span><span class=\"n\">stack</span>\n",
       "<span class=\"w\">  </span><span class=\"p\">)</span><span class=\"w\"> </span><span class=\"k\">override</span><span class=\"p\">;</span>\n",
       "\n",
       "<span class=\"k\">private</span><span class=\"o\">:</span>\n",
       "<span class=\"w\">  </span><span class=\"k\">const</span><span class=\"w\"> </span><span class=\"n\">std</span><span class=\"o\">::</span><span class=\"n\">string</span><span class=\"w\"> </span><span class=\"n\">name_</span><span class=\"p\">;</span>\n",
       "<span class=\"p\">};</span>\n",
       "\n",
       "\n",
       "<span class=\"k\">class</span><span class=\"w\"> </span><span class=\"nc\">ASTIdentifier</span><span class=\"o\">:</span><span class=\"w\"> </span><span class=\"k\">public</span><span class=\"w\"> </span><span class=\"n\">ASTNode</span><span class=\"w\"> </span><span class=\"p\">{</span>\n",
       "<span class=\"k\">public</span><span class=\"o\">:</span>\n",
       "<span class=\"w\">  </span><span class=\"n\">ASTIdentifier</span><span class=\"p\">(</span><span class=\"kt\">int</span><span class=\"w\"> </span><span class=\"n\">pos</span><span class=\"p\">,</span><span class=\"w\"> </span><span class=\"k\">const</span><span class=\"w\"> </span><span class=\"n\">std</span><span class=\"o\">::</span><span class=\"n\">string</span><span class=\"o\">&amp;</span><span class=\"w\"> </span><span class=\"n\">line</span><span class=\"p\">,</span><span class=\"w\"> </span><span class=\"k\">const</span><span class=\"w\"> </span><span class=\"n\">std</span><span class=\"o\">::</span><span class=\"n\">string</span><span class=\"o\">&amp;</span><span class=\"w\"> </span><span class=\"n\">name</span><span class=\"p\">)</span>\n",
       "<span class=\"w\">    </span><span class=\"o\">:</span><span class=\"w\"> </span><span class=\"n\">name_</span><span class=\"p\">(</span><span class=\"n\">name</span><span class=\"p\">),</span><span class=\"w\"> </span><span class=\"n\">ASTNode</span><span class=\"p\">(</span><span class=\"n\">pos</span><span class=\"p\">,</span><span class=\"w\"> </span><span class=\"n\">line</span><span class=\"p\">)</span><span class=\"w\"> </span><span class=\"p\">{</span><span class=\"w\"> </span><span class=\"p\">}</span>\n",
       "\n",
       "<span class=\"w\">  </span><span class=\"k\">const</span><span class=\"w\"> </span><span class=\"n\">std</span><span class=\"o\">::</span><span class=\"n\">string</span><span class=\"o\">&amp;</span><span class=\"w\"> </span><span class=\"n\">name</span><span class=\"p\">()</span><span class=\"w\"> </span><span class=\"k\">const</span><span class=\"w\"> </span><span class=\"p\">{</span><span class=\"w\"> </span><span class=\"k\">return</span><span class=\"w\"> </span><span class=\"n\">name_</span><span class=\"p\">;</span><span class=\"w\"> </span><span class=\"p\">}</span>\n",
       "\n",
       "<span class=\"w\">  </span><span class=\"n\">std</span><span class=\"o\">::</span><span class=\"n\">shared_ptr</span><span class=\"o\">&lt;</span><span class=\"n\">Object</span><span class=\"o\">&gt;</span><span class=\"w\"> </span><span class=\"n\">run</span><span class=\"p\">(</span>\n",
       "<span class=\"w\">    </span><span class=\"n\">std</span><span class=\"o\">::</span><span class=\"n\">shared_ptr</span><span class=\"o\">&lt;</span><span class=\"n\">Scope</span><span class=\"o\">&gt;</span><span class=\"w\"> </span><span class=\"n\">scope</span><span class=\"p\">,</span>\n",
       "<span class=\"w\">    </span><span class=\"n\">std</span><span class=\"o\">::</span><span class=\"n\">vector</span><span class=\"o\">&lt;</span><span class=\"n\">std</span><span class=\"o\">::</span><span class=\"n\">shared_ptr</span><span class=\"o\">&lt;</span><span class=\"n\">ASTNode</span><span class=\"o\">&gt;&gt;&amp;</span><span class=\"w\"> </span><span class=\"n\">stack</span>\n",
       "<span class=\"w\">  </span><span class=\"p\">)</span><span class=\"w\"> </span><span class=\"k\">override</span><span class=\"p\">;</span>\n",
       "\n",
       "<span class=\"k\">private</span><span class=\"o\">:</span>\n",
       "<span class=\"w\">  </span><span class=\"k\">const</span><span class=\"w\"> </span><span class=\"n\">std</span><span class=\"o\">::</span><span class=\"n\">string</span><span class=\"w\"> </span><span class=\"n\">name_</span><span class=\"p\">;</span>\n",
       "<span class=\"p\">};</span>\n",
       "\n",
       "\n",
       "<span class=\"c1\">//// error handling (in parsing and while running code)</span>\n",
       "\n",
       "\n",
       "<span class=\"n\">std</span><span class=\"o\">::</span><span class=\"n\">string</span><span class=\"w\"> </span><span class=\"nf\">error_arrow</span><span class=\"p\">(</span><span class=\"kt\">int</span><span class=\"w\"> </span><span class=\"n\">position</span><span class=\"p\">);</span>\n",
       "<span class=\"n\">std</span><span class=\"o\">::</span><span class=\"n\">runtime_error</span><span class=\"w\"> </span><span class=\"nf\">error</span><span class=\"p\">(</span><span class=\"kt\">int</span><span class=\"w\"> </span><span class=\"n\">position</span><span class=\"p\">,</span><span class=\"w\"> </span><span class=\"k\">const</span><span class=\"w\"> </span><span class=\"n\">std</span><span class=\"o\">::</span><span class=\"n\">string</span><span class=\"o\">&amp;</span><span class=\"w\"> </span><span class=\"n\">message</span><span class=\"p\">);</span>\n",
       "<span class=\"n\">std</span><span class=\"o\">::</span><span class=\"n\">runtime_error</span><span class=\"w\"> </span><span class=\"nf\">error</span><span class=\"p\">(</span>\n",
       "<span class=\"w\">  </span><span class=\"n\">std</span><span class=\"o\">::</span><span class=\"n\">vector</span><span class=\"o\">&lt;</span><span class=\"n\">std</span><span class=\"o\">::</span><span class=\"n\">shared_ptr</span><span class=\"o\">&lt;</span><span class=\"n\">ASTNode</span><span class=\"o\">&gt;&gt;&amp;</span><span class=\"w\"> </span><span class=\"n\">stack</span><span class=\"p\">,</span>\n",
       "<span class=\"w\">  </span><span class=\"k\">const</span><span class=\"w\"> </span><span class=\"n\">std</span><span class=\"o\">::</span><span class=\"n\">string</span><span class=\"o\">&amp;</span><span class=\"w\"> </span><span class=\"n\">message</span>\n",
       "<span class=\"p\">);</span>\n",
       "\n",
       "\n",
       "<span class=\"c1\">//// parsing: turning the source code into ASTNodes</span>\n",
       "\n",
       "\n",
       "<span class=\"k\">typedef</span><span class=\"w\"> </span><span class=\"n\">std</span><span class=\"o\">::</span><span class=\"n\">pair</span><span class=\"o\">&lt;</span><span class=\"kt\">int</span><span class=\"p\">,</span><span class=\"w\"> </span><span class=\"k\">const</span><span class=\"w\"> </span><span class=\"n\">std</span><span class=\"o\">::</span><span class=\"n\">string</span><span class=\"o\">&gt;</span><span class=\"w\"> </span><span class=\"n\">PosToken</span><span class=\"p\">;</span>\n",
       "\n",
       "\n",
       "<span class=\"n\">std</span><span class=\"o\">::</span><span class=\"n\">vector</span><span class=\"o\">&lt;</span><span class=\"n\">PosToken</span><span class=\"o\">&gt;</span><span class=\"w\"> </span><span class=\"n\">tokenize</span><span class=\"p\">(</span><span class=\"k\">const</span><span class=\"w\"> </span><span class=\"n\">std</span><span class=\"o\">::</span><span class=\"n\">string</span><span class=\"o\">&amp;</span><span class=\"w\"> </span><span class=\"n\">line</span><span class=\"p\">);</span>\n",
       "\n",
       "<span class=\"n\">std</span><span class=\"o\">::</span><span class=\"n\">shared_ptr</span><span class=\"o\">&lt;</span><span class=\"n\">ASTNode</span><span class=\"o\">&gt;</span>\n",
       "<span class=\"w\">  </span><span class=\"n\">parse</span><span class=\"p\">(</span><span class=\"kt\">int</span><span class=\"o\">&amp;</span><span class=\"w\"> </span><span class=\"n\">i</span><span class=\"p\">,</span><span class=\"w\"> </span><span class=\"k\">const</span><span class=\"w\"> </span><span class=\"n\">std</span><span class=\"o\">::</span><span class=\"n\">vector</span><span class=\"o\">&lt;</span><span class=\"n\">PosToken</span><span class=\"o\">&gt;&amp;</span><span class=\"w\"> </span><span class=\"n\">tokens</span><span class=\"p\">,</span><span class=\"w\"> </span><span class=\"k\">const</span><span class=\"w\"> </span><span class=\"n\">std</span><span class=\"o\">::</span><span class=\"n\">string</span><span class=\"o\">&amp;</span><span class=\"w\"> </span><span class=\"n\">line</span><span class=\"p\">);</span>\n",
       "<span class=\"n\">std</span><span class=\"o\">::</span><span class=\"n\">shared_ptr</span><span class=\"o\">&lt;</span><span class=\"n\">ASTNode</span><span class=\"o\">&gt;</span>\n",
       "<span class=\"w\">  </span><span class=\"n\">parse_int</span><span class=\"p\">(</span><span class=\"kt\">int</span><span class=\"o\">&amp;</span><span class=\"w\"> </span><span class=\"n\">i</span><span class=\"p\">,</span><span class=\"w\"> </span><span class=\"k\">const</span><span class=\"w\"> </span><span class=\"n\">std</span><span class=\"o\">::</span><span class=\"n\">vector</span><span class=\"o\">&lt;</span><span class=\"n\">PosToken</span><span class=\"o\">&gt;&amp;</span><span class=\"w\"> </span><span class=\"n\">tokens</span><span class=\"p\">,</span><span class=\"w\"> </span><span class=\"k\">const</span><span class=\"w\"> </span><span class=\"n\">std</span><span class=\"o\">::</span><span class=\"n\">string</span><span class=\"o\">&amp;</span><span class=\"w\"> </span><span class=\"n\">line</span><span class=\"p\">);</span>\n",
       "<span class=\"n\">std</span><span class=\"o\">::</span><span class=\"n\">shared_ptr</span><span class=\"o\">&lt;</span><span class=\"n\">ASTNode</span><span class=\"o\">&gt;</span>\n",
       "<span class=\"w\">  </span><span class=\"n\">parse_list</span><span class=\"p\">(</span><span class=\"kt\">int</span><span class=\"o\">&amp;</span><span class=\"w\"> </span><span class=\"n\">i</span><span class=\"p\">,</span><span class=\"w\"> </span><span class=\"k\">const</span><span class=\"w\"> </span><span class=\"n\">std</span><span class=\"o\">::</span><span class=\"n\">vector</span><span class=\"o\">&lt;</span><span class=\"n\">PosToken</span><span class=\"o\">&gt;&amp;</span><span class=\"w\"> </span><span class=\"n\">tokens</span><span class=\"p\">,</span><span class=\"w\"> </span><span class=\"k\">const</span><span class=\"w\"> </span><span class=\"n\">std</span><span class=\"o\">::</span><span class=\"n\">string</span><span class=\"o\">&amp;</span><span class=\"w\"> </span><span class=\"n\">line</span><span class=\"p\">);</span>\n",
       "<span class=\"n\">std</span><span class=\"o\">::</span><span class=\"n\">shared_ptr</span><span class=\"o\">&lt;</span><span class=\"n\">ASTNode</span><span class=\"o\">&gt;</span>\n",
       "<span class=\"w\">  </span><span class=\"n\">parse_fun</span><span class=\"p\">(</span><span class=\"kt\">int</span><span class=\"o\">&amp;</span><span class=\"w\"> </span><span class=\"n\">i</span><span class=\"p\">,</span><span class=\"w\"> </span><span class=\"k\">const</span><span class=\"w\"> </span><span class=\"n\">std</span><span class=\"o\">::</span><span class=\"n\">vector</span><span class=\"o\">&lt;</span><span class=\"n\">PosToken</span><span class=\"o\">&gt;&amp;</span><span class=\"w\"> </span><span class=\"n\">tokens</span><span class=\"p\">,</span><span class=\"w\"> </span><span class=\"k\">const</span><span class=\"w\"> </span><span class=\"n\">std</span><span class=\"o\">::</span><span class=\"n\">string</span><span class=\"o\">&amp;</span><span class=\"w\"> </span><span class=\"n\">line</span><span class=\"p\">);</span>\n",
       "<span class=\"n\">std</span><span class=\"o\">::</span><span class=\"n\">shared_ptr</span><span class=\"o\">&lt;</span><span class=\"n\">ASTNode</span><span class=\"o\">&gt;</span>\n",
       "<span class=\"w\">  </span><span class=\"n\">parse_call</span><span class=\"p\">(</span><span class=\"kt\">int</span><span class=\"o\">&amp;</span><span class=\"w\"> </span><span class=\"n\">i</span><span class=\"p\">,</span><span class=\"w\"> </span><span class=\"k\">const</span><span class=\"w\"> </span><span class=\"n\">std</span><span class=\"o\">::</span><span class=\"n\">vector</span><span class=\"o\">&lt;</span><span class=\"n\">PosToken</span><span class=\"o\">&gt;&amp;</span><span class=\"w\"> </span><span class=\"n\">tokens</span><span class=\"p\">,</span><span class=\"w\"> </span><span class=\"k\">const</span><span class=\"w\"> </span><span class=\"n\">std</span><span class=\"o\">::</span><span class=\"n\">string</span><span class=\"o\">&amp;</span><span class=\"w\"> </span><span class=\"n\">line</span><span class=\"p\">);</span>\n",
       "<span class=\"n\">std</span><span class=\"o\">::</span><span class=\"n\">shared_ptr</span><span class=\"o\">&lt;</span><span class=\"n\">ASTNode</span><span class=\"o\">&gt;</span>\n",
       "<span class=\"w\">  </span><span class=\"n\">parse_assign</span><span class=\"p\">(</span><span class=\"kt\">int</span><span class=\"o\">&amp;</span><span class=\"w\"> </span><span class=\"n\">i</span><span class=\"p\">,</span><span class=\"w\"> </span><span class=\"k\">const</span><span class=\"w\"> </span><span class=\"n\">std</span><span class=\"o\">::</span><span class=\"n\">vector</span><span class=\"o\">&lt;</span><span class=\"n\">PosToken</span><span class=\"o\">&gt;&amp;</span><span class=\"w\"> </span><span class=\"n\">tokens</span><span class=\"p\">,</span><span class=\"w\"> </span><span class=\"k\">const</span><span class=\"w\"> </span><span class=\"n\">std</span><span class=\"o\">::</span><span class=\"n\">string</span><span class=\"o\">&amp;</span><span class=\"w\"> </span><span class=\"n\">line</span><span class=\"p\">);</span>\n",
       "<span class=\"n\">std</span><span class=\"o\">::</span><span class=\"n\">shared_ptr</span><span class=\"o\">&lt;</span><span class=\"n\">ASTNode</span><span class=\"o\">&gt;</span>\n",
       "<span class=\"w\">  </span><span class=\"n\">parse_delete</span><span class=\"p\">(</span><span class=\"kt\">int</span><span class=\"o\">&amp;</span><span class=\"w\"> </span><span class=\"n\">i</span><span class=\"p\">,</span><span class=\"w\"> </span><span class=\"k\">const</span><span class=\"w\"> </span><span class=\"n\">std</span><span class=\"o\">::</span><span class=\"n\">vector</span><span class=\"o\">&lt;</span><span class=\"n\">PosToken</span><span class=\"o\">&gt;&amp;</span><span class=\"w\"> </span><span class=\"n\">tokens</span><span class=\"p\">,</span><span class=\"w\"> </span><span class=\"k\">const</span><span class=\"w\"> </span><span class=\"n\">std</span><span class=\"o\">::</span><span class=\"n\">string</span><span class=\"o\">&amp;</span><span class=\"w\"> </span><span class=\"n\">line</span><span class=\"p\">);</span>\n",
       "<span class=\"n\">std</span><span class=\"o\">::</span><span class=\"n\">shared_ptr</span><span class=\"o\">&lt;</span><span class=\"n\">ASTNode</span><span class=\"o\">&gt;</span>\n",
       "<span class=\"w\">  </span><span class=\"n\">parse_id</span><span class=\"p\">(</span><span class=\"kt\">int</span><span class=\"o\">&amp;</span><span class=\"w\"> </span><span class=\"n\">i</span><span class=\"p\">,</span><span class=\"w\"> </span><span class=\"k\">const</span><span class=\"w\"> </span><span class=\"n\">std</span><span class=\"o\">::</span><span class=\"n\">vector</span><span class=\"o\">&lt;</span><span class=\"n\">PosToken</span><span class=\"o\">&gt;&amp;</span><span class=\"w\"> </span><span class=\"n\">tokens</span><span class=\"p\">,</span><span class=\"w\"> </span><span class=\"k\">const</span><span class=\"w\"> </span><span class=\"n\">std</span><span class=\"o\">::</span><span class=\"n\">string</span><span class=\"o\">&amp;</span><span class=\"w\"> </span><span class=\"n\">line</span><span class=\"p\">);</span>\n",
       "\n",
       "\n",
       "<span class=\"c1\">//// error handling ////////////////////////////////////////////////////////</span>\n",
       "\n",
       "\n",
       "<span class=\"n\">std</span><span class=\"o\">::</span><span class=\"n\">string</span><span class=\"w\"> </span><span class=\"nf\">error_arrow</span><span class=\"p\">(</span><span class=\"kt\">int</span><span class=\"w\"> </span><span class=\"n\">position</span><span class=\"p\">)</span><span class=\"w\"> </span><span class=\"p\">{</span>\n",
       "<span class=\"w\">  </span><span class=\"k\">return</span><span class=\"w\"> </span><span class=\"n\">std</span><span class=\"o\">::</span><span class=\"n\">string</span><span class=\"p\">(</span><span class=\"s\">&quot;---&quot;</span><span class=\"p\">)</span><span class=\"w\"> </span><span class=\"o\">+</span><span class=\"w\"> </span><span class=\"n\">std</span><span class=\"o\">::</span><span class=\"n\">string</span><span class=\"p\">(</span><span class=\"n\">position</span><span class=\"p\">,</span><span class=\"w\"> </span><span class=\"sc\">&#39;-&#39;</span><span class=\"p\">)</span><span class=\"w\"> </span><span class=\"o\">+</span><span class=\"w\"> </span><span class=\"n\">std</span><span class=\"o\">::</span><span class=\"n\">string</span><span class=\"p\">(</span><span class=\"s\">&quot;^</span><span class=\"se\">\\n</span><span class=\"s\">&quot;</span><span class=\"p\">);</span>\n",
       "<span class=\"p\">}</span>\n",
       "\n",
       "\n",
       "<span class=\"n\">std</span><span class=\"o\">::</span><span class=\"n\">runtime_error</span><span class=\"w\"> </span><span class=\"nf\">error</span><span class=\"p\">(</span><span class=\"kt\">int</span><span class=\"w\"> </span><span class=\"n\">position</span><span class=\"p\">,</span><span class=\"w\"> </span><span class=\"k\">const</span><span class=\"w\"> </span><span class=\"n\">std</span><span class=\"o\">::</span><span class=\"n\">string</span><span class=\"o\">&amp;</span><span class=\"w\"> </span><span class=\"n\">message</span><span class=\"p\">)</span><span class=\"w\"> </span><span class=\"p\">{</span>\n",
       "<span class=\"w\">  </span><span class=\"k\">return</span><span class=\"w\"> </span><span class=\"n\">std</span><span class=\"o\">::</span><span class=\"n\">runtime_error</span><span class=\"p\">(</span><span class=\"n\">error_arrow</span><span class=\"p\">(</span><span class=\"n\">position</span><span class=\"p\">)</span><span class=\"w\"> </span><span class=\"o\">+</span><span class=\"w\"> </span><span class=\"n\">message</span><span class=\"p\">);</span>\n",
       "<span class=\"p\">}</span>\n",
       "\n",
       "\n",
       "<span class=\"n\">std</span><span class=\"o\">::</span><span class=\"n\">runtime_error</span><span class=\"w\"> </span><span class=\"nf\">error</span><span class=\"p\">(</span>\n",
       "<span class=\"w\">  </span><span class=\"n\">std</span><span class=\"o\">::</span><span class=\"n\">vector</span><span class=\"o\">&lt;</span><span class=\"n\">std</span><span class=\"o\">::</span><span class=\"n\">shared_ptr</span><span class=\"o\">&lt;</span><span class=\"n\">ASTNode</span><span class=\"o\">&gt;&gt;&amp;</span><span class=\"w\"> </span><span class=\"n\">stack</span><span class=\"p\">,</span>\n",
       "<span class=\"w\">  </span><span class=\"k\">const</span><span class=\"w\"> </span><span class=\"n\">std</span><span class=\"o\">::</span><span class=\"n\">string</span><span class=\"o\">&amp;</span><span class=\"w\"> </span><span class=\"n\">message</span>\n",
       "<span class=\"p\">)</span><span class=\"w\"> </span><span class=\"p\">{</span>\n",
       "<span class=\"w\">  </span><span class=\"n\">std</span><span class=\"o\">::</span><span class=\"n\">string</span><span class=\"w\"> </span><span class=\"n\">stack_trace</span><span class=\"p\">;</span>\n",
       "<span class=\"w\">  </span><span class=\"k\">for</span><span class=\"w\"> </span><span class=\"p\">(</span><span class=\"kt\">int</span><span class=\"w\"> </span><span class=\"n\">i</span><span class=\"w\"> </span><span class=\"o\">=</span><span class=\"w\"> </span><span class=\"mi\">0</span><span class=\"p\">;</span><span class=\"w\">  </span><span class=\"n\">i</span><span class=\"w\"> </span><span class=\"o\">&lt;</span><span class=\"w\"> </span><span class=\"n\">stack</span><span class=\"p\">.</span><span class=\"n\">size</span><span class=\"p\">();</span><span class=\"w\">  </span><span class=\"n\">i</span><span class=\"o\">++</span><span class=\"w\"> </span><span class=\"p\">)</span><span class=\"w\"> </span><span class=\"p\">{</span>\n",
       "<span class=\"w\">    </span><span class=\"k\">if</span><span class=\"w\"> </span><span class=\"p\">(</span><span class=\"n\">i</span><span class=\"w\"> </span><span class=\"o\">!=</span><span class=\"w\"> </span><span class=\"mi\">0</span><span class=\"p\">)</span><span class=\"w\"> </span><span class=\"p\">{</span>\n",
       "<span class=\"w\">      </span><span class=\"n\">stack_trace</span><span class=\"w\"> </span><span class=\"o\">+=</span><span class=\"w\"> </span><span class=\"s\">&quot;   &quot;</span><span class=\"w\"> </span><span class=\"o\">+</span><span class=\"w\"> </span><span class=\"n\">stack</span><span class=\"p\">[</span><span class=\"n\">i</span><span class=\"p\">]</span><span class=\"o\">-&gt;</span><span class=\"n\">line</span><span class=\"p\">()</span><span class=\"w\"> </span><span class=\"o\">+</span><span class=\"w\"> </span><span class=\"s\">&quot;</span><span class=\"se\">\\n</span><span class=\"s\">&quot;</span><span class=\"p\">;</span>\n",
       "<span class=\"w\">    </span><span class=\"p\">}</span>\n",
       "<span class=\"w\">    </span><span class=\"n\">stack_trace</span><span class=\"w\"> </span><span class=\"o\">+=</span><span class=\"w\"> </span><span class=\"n\">error_arrow</span><span class=\"p\">(</span><span class=\"n\">stack</span><span class=\"p\">[</span><span class=\"n\">i</span><span class=\"p\">]</span><span class=\"o\">-&gt;</span><span class=\"n\">pos</span><span class=\"p\">());</span>\n",
       "<span class=\"w\">  </span><span class=\"p\">}</span>\n",
       "<span class=\"w\">  </span><span class=\"k\">return</span><span class=\"w\"> </span><span class=\"n\">std</span><span class=\"o\">::</span><span class=\"n\">runtime_error</span><span class=\"p\">(</span><span class=\"n\">stack_trace</span><span class=\"w\"> </span><span class=\"o\">+</span><span class=\"w\"> </span><span class=\"n\">message</span><span class=\"p\">);</span>\n",
       "<span class=\"p\">}</span>\n",
       "\n",
       "\n",
       "<span class=\"c1\">//// parsing ///////////////////////////////////////////////////////////////</span>\n",
       "\n",
       "\n",
       "<span class=\"n\">std</span><span class=\"o\">::</span><span class=\"n\">vector</span><span class=\"o\">&lt;</span><span class=\"n\">PosToken</span><span class=\"o\">&gt;</span><span class=\"w\"> </span><span class=\"n\">tokenize</span><span class=\"p\">(</span><span class=\"k\">const</span><span class=\"w\"> </span><span class=\"n\">std</span><span class=\"o\">::</span><span class=\"n\">string</span><span class=\"o\">&amp;</span><span class=\"w\"> </span><span class=\"n\">line</span><span class=\"p\">)</span><span class=\"w\"> </span><span class=\"p\">{</span>\n",
       "<span class=\"w\">  </span><span class=\"n\">std</span><span class=\"o\">::</span><span class=\"n\">regex</span><span class=\"w\"> </span><span class=\"n\">whitespaces</span><span class=\"p\">(</span><span class=\"s\">&quot;</span><span class=\"se\">\\\\</span><span class=\"s\">s*&quot;</span><span class=\"p\">);</span>\n",
       "<span class=\"w\">  </span><span class=\"n\">std</span><span class=\"o\">::</span><span class=\"n\">regex</span><span class=\"w\"> </span><span class=\"n\">token_regex</span><span class=\"p\">(</span><span class=\"s\">&quot;(-?[0-9]+|[A-Za-z_][A-Za-z_0-9]*|</span><span class=\"se\">\\\\</span><span class=\"s\">(|</span><span class=\"se\">\\\\</span><span class=\"s\">)|</span><span class=\"se\">\\\\</span><span class=\"s\">[|</span><span class=\"se\">\\\\</span><span class=\"s\">]|,|;|</span><span class=\"se\">\\\\</span><span class=\"s\">{|</span><span class=\"se\">\\\\</span><span class=\"s\">}|=)&quot;</span><span class=\"p\">);</span>\n",
       "<span class=\"w\">  </span><span class=\"k\">auto</span><span class=\"w\"> </span><span class=\"n\">tokens_begin</span><span class=\"w\"> </span><span class=\"o\">=</span><span class=\"w\"> </span><span class=\"n\">std</span><span class=\"o\">::</span><span class=\"n\">sregex_iterator</span><span class=\"p\">(</span><span class=\"n\">line</span><span class=\"p\">.</span><span class=\"n\">begin</span><span class=\"p\">(),</span><span class=\"w\"> </span><span class=\"n\">line</span><span class=\"p\">.</span><span class=\"n\">end</span><span class=\"p\">(),</span><span class=\"w\"> </span><span class=\"n\">token_regex</span><span class=\"p\">);</span>\n",
       "<span class=\"w\">  </span><span class=\"k\">auto</span><span class=\"w\"> </span><span class=\"n\">tokens_end</span><span class=\"w\"> </span><span class=\"o\">=</span><span class=\"w\"> </span><span class=\"n\">std</span><span class=\"o\">::</span><span class=\"n\">sregex_iterator</span><span class=\"p\">();</span>\n",
       "\n",
       "<span class=\"w\">  </span><span class=\"kt\">int</span><span class=\"w\"> </span><span class=\"n\">previous</span><span class=\"w\"> </span><span class=\"o\">=</span><span class=\"w\"> </span><span class=\"mi\">0</span><span class=\"p\">;</span>\n",
       "<span class=\"w\">  </span><span class=\"n\">std</span><span class=\"o\">::</span><span class=\"n\">vector</span><span class=\"o\">&lt;</span><span class=\"n\">PosToken</span><span class=\"o\">&gt;</span><span class=\"w\"> </span><span class=\"n\">out</span><span class=\"p\">;</span>\n",
       "\n",
       "<span class=\"w\">  </span><span class=\"k\">for</span><span class=\"w\"> </span><span class=\"p\">(</span><span class=\"k\">auto</span><span class=\"w\"> </span><span class=\"n\">token_iter</span><span class=\"w\"> </span><span class=\"o\">=</span><span class=\"w\"> </span><span class=\"n\">tokens_begin</span><span class=\"p\">;</span><span class=\"w\">  </span><span class=\"n\">token_iter</span><span class=\"w\"> </span><span class=\"o\">!=</span><span class=\"w\"> </span><span class=\"n\">tokens_end</span><span class=\"p\">;</span><span class=\"w\">  </span><span class=\"o\">++</span><span class=\"n\">token_iter</span><span class=\"p\">)</span><span class=\"w\"> </span><span class=\"p\">{</span>\n",
       "<span class=\"w\">    </span><span class=\"c1\">// text between tokens must be only whitespace</span>\n",
       "<span class=\"w\">    </span><span class=\"n\">std</span><span class=\"o\">::</span><span class=\"n\">string</span><span class=\"w\"> </span><span class=\"n\">between</span><span class=\"w\"> </span><span class=\"o\">=</span><span class=\"w\"> </span><span class=\"n\">line</span><span class=\"p\">.</span><span class=\"n\">substr</span><span class=\"p\">(</span><span class=\"n\">previous</span><span class=\"p\">,</span><span class=\"w\"> </span><span class=\"n\">token_iter</span><span class=\"o\">-&gt;</span><span class=\"n\">position</span><span class=\"p\">()</span><span class=\"w\"> </span><span class=\"o\">-</span><span class=\"w\"> </span><span class=\"n\">previous</span><span class=\"p\">);</span>\n",
       "<span class=\"w\">    </span><span class=\"k\">if</span><span class=\"w\"> </span><span class=\"p\">(</span><span class=\"o\">!</span><span class=\"n\">std</span><span class=\"o\">::</span><span class=\"n\">regex_match</span><span class=\"p\">(</span><span class=\"n\">between</span><span class=\"p\">,</span><span class=\"w\"> </span><span class=\"n\">whitespaces</span><span class=\"p\">))</span><span class=\"w\"> </span><span class=\"p\">{</span>\n",
       "<span class=\"w\">      </span><span class=\"k\">throw</span><span class=\"w\"> </span><span class=\"n\">error</span><span class=\"p\">(</span><span class=\"n\">previous</span><span class=\"p\">,</span><span class=\"w\"> </span><span class=\"s\">&quot;unexpected characters&quot;</span><span class=\"p\">);</span>\n",
       "<span class=\"w\">    </span><span class=\"p\">}</span>\n",
       "<span class=\"w\">    </span><span class=\"n\">previous</span><span class=\"w\"> </span><span class=\"o\">=</span><span class=\"w\"> </span><span class=\"n\">token_iter</span><span class=\"o\">-&gt;</span><span class=\"n\">position</span><span class=\"p\">()</span><span class=\"w\"> </span><span class=\"o\">+</span><span class=\"w\"> </span><span class=\"n\">token_iter</span><span class=\"o\">-&gt;</span><span class=\"n\">length</span><span class=\"p\">();</span>\n",
       "\n",
       "<span class=\"w\">    </span><span class=\"c1\">// collect tokens</span>\n",
       "<span class=\"w\">    </span><span class=\"n\">out</span><span class=\"p\">.</span><span class=\"n\">push_back</span><span class=\"p\">(</span><span class=\"n\">PosToken</span><span class=\"p\">(</span><span class=\"n\">token_iter</span><span class=\"o\">-&gt;</span><span class=\"n\">position</span><span class=\"p\">(),</span><span class=\"w\"> </span><span class=\"n\">token_iter</span><span class=\"o\">-&gt;</span><span class=\"n\">str</span><span class=\"p\">()));</span>\n",
       "<span class=\"w\">  </span><span class=\"p\">}</span>\n",
       "<span class=\"w\">  </span><span class=\"k\">return</span><span class=\"w\"> </span><span class=\"n\">out</span><span class=\"p\">;</span>\n",
       "<span class=\"p\">}</span>\n",
       "\n",
       "\n",
       "<span class=\"n\">std</span><span class=\"o\">::</span><span class=\"n\">shared_ptr</span><span class=\"o\">&lt;</span><span class=\"n\">ASTNode</span><span class=\"o\">&gt;</span>\n",
       "<span class=\"w\">  </span><span class=\"n\">parse</span><span class=\"p\">(</span><span class=\"kt\">int</span><span class=\"o\">&amp;</span><span class=\"w\"> </span><span class=\"n\">i</span><span class=\"p\">,</span><span class=\"w\"> </span><span class=\"k\">const</span><span class=\"w\"> </span><span class=\"n\">std</span><span class=\"o\">::</span><span class=\"n\">vector</span><span class=\"o\">&lt;</span><span class=\"n\">PosToken</span><span class=\"o\">&gt;&amp;</span><span class=\"w\"> </span><span class=\"n\">tokens</span><span class=\"p\">,</span><span class=\"w\"> </span><span class=\"k\">const</span><span class=\"w\"> </span><span class=\"n\">std</span><span class=\"o\">::</span><span class=\"n\">string</span><span class=\"o\">&amp;</span><span class=\"w\"> </span><span class=\"n\">line</span><span class=\"p\">)</span><span class=\"w\"> </span><span class=\"p\">{</span>\n",
       "<span class=\"w\">  </span><span class=\"k\">if</span><span class=\"w\"> </span><span class=\"p\">(</span><span class=\"n\">i</span><span class=\"w\"> </span><span class=\"o\">&gt;=</span><span class=\"w\"> </span><span class=\"n\">tokens</span><span class=\"p\">.</span><span class=\"n\">size</span><span class=\"p\">())</span><span class=\"w\"> </span><span class=\"p\">{</span>\n",
       "<span class=\"w\">    </span><span class=\"k\">throw</span><span class=\"w\"> </span><span class=\"n\">error</span><span class=\"p\">(</span><span class=\"mi\">0</span><span class=\"p\">,</span><span class=\"w\"> </span><span class=\"s\">&quot;line ends without complete expression&quot;</span><span class=\"p\">);</span>\n",
       "<span class=\"w\">  </span><span class=\"p\">}</span>\n",
       "\n",
       "<span class=\"w\">  </span><span class=\"n\">std</span><span class=\"o\">::</span><span class=\"n\">regex</span><span class=\"w\"> </span><span class=\"n\">is_number</span><span class=\"p\">(</span><span class=\"s\">&quot;-?[0-9]+&quot;</span><span class=\"p\">);</span>\n",
       "<span class=\"w\">  </span><span class=\"n\">std</span><span class=\"o\">::</span><span class=\"n\">regex</span><span class=\"w\"> </span><span class=\"n\">is_name</span><span class=\"p\">(</span><span class=\"s\">&quot;[A-Za-z_][A-Za-z_0-9]*&quot;</span><span class=\"p\">);</span>\n",
       "\n",
       "<span class=\"w\">  </span><span class=\"k\">if</span><span class=\"w\"> </span><span class=\"p\">(</span><span class=\"n\">tokens</span><span class=\"p\">[</span><span class=\"n\">i</span><span class=\"p\">].</span><span class=\"n\">second</span><span class=\"w\"> </span><span class=\"o\">==</span><span class=\"w\"> </span><span class=\"s\">&quot;[&quot;</span><span class=\"p\">)</span><span class=\"w\"> </span><span class=\"p\">{</span>\n",
       "<span class=\"w\">    </span><span class=\"k\">return</span><span class=\"w\"> </span><span class=\"n\">parse_list</span><span class=\"p\">(</span><span class=\"n\">i</span><span class=\"p\">,</span><span class=\"w\"> </span><span class=\"n\">tokens</span><span class=\"p\">,</span><span class=\"w\"> </span><span class=\"n\">line</span><span class=\"p\">);</span>\n",
       "<span class=\"w\">  </span><span class=\"p\">}</span>\n",
       "\n",
       "<span class=\"w\">  </span><span class=\"k\">else</span><span class=\"w\"> </span><span class=\"k\">if</span><span class=\"w\"> </span><span class=\"p\">(</span><span class=\"n\">tokens</span><span class=\"p\">[</span><span class=\"n\">i</span><span class=\"p\">].</span><span class=\"n\">second</span><span class=\"w\"> </span><span class=\"o\">==</span><span class=\"w\"> </span><span class=\"s\">&quot;def&quot;</span><span class=\"p\">)</span><span class=\"w\"> </span><span class=\"p\">{</span>\n",
       "<span class=\"w\">    </span><span class=\"k\">return</span><span class=\"w\"> </span><span class=\"n\">parse_fun</span><span class=\"p\">(</span><span class=\"n\">i</span><span class=\"p\">,</span><span class=\"w\"> </span><span class=\"n\">tokens</span><span class=\"p\">,</span><span class=\"w\"> </span><span class=\"n\">line</span><span class=\"p\">);</span>\n",
       "<span class=\"w\">  </span><span class=\"p\">}</span>\n",
       "\n",
       "<span class=\"w\">  </span><span class=\"k\">else</span><span class=\"w\"> </span><span class=\"k\">if</span><span class=\"w\"> </span><span class=\"p\">(</span><span class=\"n\">tokens</span><span class=\"p\">[</span><span class=\"n\">i</span><span class=\"p\">].</span><span class=\"n\">second</span><span class=\"w\"> </span><span class=\"o\">==</span><span class=\"w\"> </span><span class=\"s\">&quot;del&quot;</span><span class=\"p\">)</span><span class=\"w\"> </span><span class=\"p\">{</span>\n",
       "<span class=\"w\">    </span><span class=\"k\">return</span><span class=\"w\"> </span><span class=\"n\">parse_delete</span><span class=\"p\">(</span><span class=\"n\">i</span><span class=\"p\">,</span><span class=\"w\"> </span><span class=\"n\">tokens</span><span class=\"p\">,</span><span class=\"w\"> </span><span class=\"n\">line</span><span class=\"p\">);</span>\n",
       "<span class=\"w\">  </span><span class=\"p\">}</span>\n",
       "\n",
       "<span class=\"w\">  </span><span class=\"k\">else</span><span class=\"w\"> </span><span class=\"k\">if</span><span class=\"w\"> </span><span class=\"p\">(</span><span class=\"n\">std</span><span class=\"o\">::</span><span class=\"n\">regex_match</span><span class=\"p\">(</span><span class=\"n\">tokens</span><span class=\"p\">[</span><span class=\"n\">i</span><span class=\"p\">].</span><span class=\"n\">second</span><span class=\"p\">,</span><span class=\"w\"> </span><span class=\"n\">is_number</span><span class=\"p\">))</span><span class=\"w\"> </span><span class=\"p\">{</span>\n",
       "<span class=\"w\">    </span><span class=\"k\">return</span><span class=\"w\"> </span><span class=\"n\">parse_int</span><span class=\"p\">(</span><span class=\"n\">i</span><span class=\"p\">,</span><span class=\"w\"> </span><span class=\"n\">tokens</span><span class=\"p\">,</span><span class=\"w\"> </span><span class=\"n\">line</span><span class=\"p\">);</span>\n",
       "<span class=\"w\">  </span><span class=\"p\">}</span>\n",
       "\n",
       "<span class=\"w\">  </span><span class=\"k\">else</span><span class=\"w\"> </span><span class=\"k\">if</span><span class=\"w\"> </span><span class=\"p\">(</span><span class=\"n\">std</span><span class=\"o\">::</span><span class=\"n\">regex_match</span><span class=\"p\">(</span><span class=\"n\">tokens</span><span class=\"p\">[</span><span class=\"n\">i</span><span class=\"p\">].</span><span class=\"n\">second</span><span class=\"p\">,</span><span class=\"w\"> </span><span class=\"n\">is_name</span><span class=\"p\">))</span><span class=\"w\"> </span><span class=\"p\">{</span>\n",
       "<span class=\"w\">    </span><span class=\"k\">if</span><span class=\"w\"> </span><span class=\"p\">(</span><span class=\"n\">i</span><span class=\"w\"> </span><span class=\"o\">+</span><span class=\"w\"> </span><span class=\"mi\">1</span><span class=\"w\"> </span><span class=\"o\">&lt;</span><span class=\"w\"> </span><span class=\"n\">tokens</span><span class=\"p\">.</span><span class=\"n\">size</span><span class=\"p\">()</span><span class=\"w\">  </span><span class=\"o\">&amp;&amp;</span><span class=\"w\">  </span><span class=\"n\">tokens</span><span class=\"p\">[</span><span class=\"n\">i</span><span class=\"w\"> </span><span class=\"o\">+</span><span class=\"w\"> </span><span class=\"mi\">1</span><span class=\"p\">].</span><span class=\"n\">second</span><span class=\"w\"> </span><span class=\"o\">==</span><span class=\"w\"> </span><span class=\"s\">&quot;=&quot;</span><span class=\"p\">)</span><span class=\"w\"> </span><span class=\"p\">{</span>\n",
       "<span class=\"w\">      </span><span class=\"k\">return</span><span class=\"w\"> </span><span class=\"n\">parse_assign</span><span class=\"p\">(</span><span class=\"n\">i</span><span class=\"p\">,</span><span class=\"w\"> </span><span class=\"n\">tokens</span><span class=\"p\">,</span><span class=\"w\"> </span><span class=\"n\">line</span><span class=\"p\">);</span>\n",
       "<span class=\"w\">    </span><span class=\"p\">}</span>\n",
       "\n",
       "<span class=\"w\">    </span><span class=\"k\">else</span><span class=\"w\"> </span><span class=\"k\">if</span><span class=\"w\"> </span><span class=\"p\">(</span><span class=\"n\">i</span><span class=\"w\"> </span><span class=\"o\">+</span><span class=\"w\"> </span><span class=\"mi\">1</span><span class=\"w\"> </span><span class=\"o\">&lt;</span><span class=\"w\"> </span><span class=\"n\">tokens</span><span class=\"p\">.</span><span class=\"n\">size</span><span class=\"p\">()</span><span class=\"w\">  </span><span class=\"o\">&amp;&amp;</span><span class=\"w\">  </span><span class=\"n\">tokens</span><span class=\"p\">[</span><span class=\"n\">i</span><span class=\"w\"> </span><span class=\"o\">+</span><span class=\"w\"> </span><span class=\"mi\">1</span><span class=\"p\">].</span><span class=\"n\">second</span><span class=\"w\"> </span><span class=\"o\">==</span><span class=\"w\"> </span><span class=\"s\">&quot;(&quot;</span><span class=\"p\">)</span><span class=\"w\"> </span><span class=\"p\">{</span>\n",
       "<span class=\"w\">      </span><span class=\"k\">return</span><span class=\"w\"> </span><span class=\"n\">parse_call</span><span class=\"p\">(</span><span class=\"n\">i</span><span class=\"p\">,</span><span class=\"w\"> </span><span class=\"n\">tokens</span><span class=\"p\">,</span><span class=\"w\"> </span><span class=\"n\">line</span><span class=\"p\">);</span>\n",
       "<span class=\"w\">    </span><span class=\"p\">}</span>\n",
       "\n",
       "<span class=\"w\">    </span><span class=\"k\">else</span><span class=\"w\"> </span><span class=\"p\">{</span>\n",
       "<span class=\"w\">      </span><span class=\"k\">return</span><span class=\"w\"> </span><span class=\"n\">parse_id</span><span class=\"p\">(</span><span class=\"n\">i</span><span class=\"p\">,</span><span class=\"w\"> </span><span class=\"n\">tokens</span><span class=\"p\">,</span><span class=\"w\"> </span><span class=\"n\">line</span><span class=\"p\">);</span>\n",
       "<span class=\"w\">    </span><span class=\"p\">}</span>\n",
       "<span class=\"w\">  </span><span class=\"p\">}</span>\n",
       "\n",
       "<span class=\"w\">  </span><span class=\"k\">else</span><span class=\"w\"> </span><span class=\"p\">{</span>\n",
       "<span class=\"w\">    </span><span class=\"k\">throw</span><span class=\"w\"> </span><span class=\"n\">error</span><span class=\"p\">(</span><span class=\"n\">tokens</span><span class=\"p\">[</span><span class=\"n\">i</span><span class=\"p\">].</span><span class=\"n\">first</span><span class=\"p\">,</span><span class=\"w\"> </span><span class=\"s\">&quot;unrecognized syntax&quot;</span><span class=\"p\">);</span>\n",
       "<span class=\"w\">  </span><span class=\"p\">}</span>\n",
       "<span class=\"p\">}</span>\n",
       "\n",
       "\n",
       "<span class=\"n\">std</span><span class=\"o\">::</span><span class=\"n\">shared_ptr</span><span class=\"o\">&lt;</span><span class=\"n\">ASTNode</span><span class=\"o\">&gt;</span>\n",
       "<span class=\"w\">  </span><span class=\"n\">parse_int</span><span class=\"p\">(</span><span class=\"kt\">int</span><span class=\"o\">&amp;</span><span class=\"w\"> </span><span class=\"n\">i</span><span class=\"p\">,</span><span class=\"w\"> </span><span class=\"k\">const</span><span class=\"w\"> </span><span class=\"n\">std</span><span class=\"o\">::</span><span class=\"n\">vector</span><span class=\"o\">&lt;</span><span class=\"n\">PosToken</span><span class=\"o\">&gt;&amp;</span><span class=\"w\"> </span><span class=\"n\">tokens</span><span class=\"p\">,</span><span class=\"w\"> </span><span class=\"k\">const</span><span class=\"w\"> </span><span class=\"n\">std</span><span class=\"o\">::</span><span class=\"n\">string</span><span class=\"o\">&amp;</span><span class=\"w\"> </span><span class=\"n\">line</span><span class=\"p\">)</span><span class=\"w\"> </span><span class=\"p\">{</span>\n",
       "<span class=\"w\">  </span><span class=\"kt\">int</span><span class=\"w\"> </span><span class=\"n\">pos</span><span class=\"w\"> </span><span class=\"o\">=</span><span class=\"w\"> </span><span class=\"n\">tokens</span><span class=\"p\">[</span><span class=\"n\">i</span><span class=\"p\">].</span><span class=\"n\">first</span><span class=\"p\">;</span>\n",
       "<span class=\"w\">  </span><span class=\"kt\">int</span><span class=\"w\"> </span><span class=\"n\">value</span><span class=\"w\"> </span><span class=\"o\">=</span><span class=\"w\"> </span><span class=\"n\">std</span><span class=\"o\">::</span><span class=\"n\">stoi</span><span class=\"p\">(</span><span class=\"n\">tokens</span><span class=\"p\">[</span><span class=\"n\">i</span><span class=\"p\">].</span><span class=\"n\">second</span><span class=\"p\">);</span>\n",
       "\n",
       "<span class=\"w\">  </span><span class=\"n\">i</span><span class=\"o\">++</span><span class=\"p\">;</span><span class=\"w\">  </span><span class=\"c1\">// get past int</span>\n",
       "\n",
       "<span class=\"w\">  </span><span class=\"k\">return</span><span class=\"w\"> </span><span class=\"n\">std</span><span class=\"o\">::</span><span class=\"n\">make_shared</span><span class=\"o\">&lt;</span><span class=\"n\">ASTLiteralInt</span><span class=\"o\">&gt;</span><span class=\"p\">(</span><span class=\"n\">pos</span><span class=\"p\">,</span><span class=\"w\"> </span><span class=\"n\">line</span><span class=\"p\">,</span><span class=\"w\"> </span><span class=\"n\">value</span><span class=\"p\">);</span>\n",
       "<span class=\"p\">}</span>\n",
       "\n",
       "\n",
       "<span class=\"n\">std</span><span class=\"o\">::</span><span class=\"n\">shared_ptr</span><span class=\"o\">&lt;</span><span class=\"n\">ASTNode</span><span class=\"o\">&gt;</span>\n",
       "<span class=\"w\">  </span><span class=\"n\">parse_list</span><span class=\"p\">(</span><span class=\"kt\">int</span><span class=\"o\">&amp;</span><span class=\"w\"> </span><span class=\"n\">i</span><span class=\"p\">,</span><span class=\"w\"> </span><span class=\"k\">const</span><span class=\"w\"> </span><span class=\"n\">std</span><span class=\"o\">::</span><span class=\"n\">vector</span><span class=\"o\">&lt;</span><span class=\"n\">PosToken</span><span class=\"o\">&gt;&amp;</span><span class=\"w\"> </span><span class=\"n\">tokens</span><span class=\"p\">,</span><span class=\"w\"> </span><span class=\"k\">const</span><span class=\"w\"> </span><span class=\"n\">std</span><span class=\"o\">::</span><span class=\"n\">string</span><span class=\"o\">&amp;</span><span class=\"w\"> </span><span class=\"n\">line</span><span class=\"p\">)</span><span class=\"w\"> </span><span class=\"p\">{</span>\n",
       "<span class=\"w\">  </span><span class=\"kt\">int</span><span class=\"w\"> </span><span class=\"n\">pos</span><span class=\"w\"> </span><span class=\"o\">=</span><span class=\"w\"> </span><span class=\"n\">tokens</span><span class=\"p\">[</span><span class=\"n\">i</span><span class=\"p\">].</span><span class=\"n\">first</span><span class=\"p\">;</span>\n",
       "\n",
       "<span class=\"w\">  </span><span class=\"n\">i</span><span class=\"o\">++</span><span class=\"p\">;</span><span class=\"w\">   </span><span class=\"c1\">// get past &quot;[&quot;</span>\n",
       "\n",
       "<span class=\"w\">  </span><span class=\"n\">std</span><span class=\"o\">::</span><span class=\"n\">vector</span><span class=\"o\">&lt;</span><span class=\"n\">std</span><span class=\"o\">::</span><span class=\"n\">shared_ptr</span><span class=\"o\">&lt;</span><span class=\"n\">ASTNode</span><span class=\"o\">&gt;&gt;</span><span class=\"w\"> </span><span class=\"n\">values</span><span class=\"p\">;</span>\n",
       "\n",
       "<span class=\"w\">  </span><span class=\"kt\">bool</span><span class=\"w\"> </span><span class=\"n\">first</span><span class=\"w\"> </span><span class=\"o\">=</span><span class=\"w\"> </span><span class=\"nb\">true</span><span class=\"p\">;</span>\n",
       "<span class=\"w\">  </span><span class=\"k\">while</span><span class=\"w\"> </span><span class=\"p\">(</span><span class=\"n\">tokens</span><span class=\"p\">[</span><span class=\"n\">i</span><span class=\"p\">].</span><span class=\"n\">second</span><span class=\"w\"> </span><span class=\"o\">!=</span><span class=\"w\"> </span><span class=\"s\">&quot;]&quot;</span><span class=\"p\">)</span><span class=\"w\"> </span><span class=\"p\">{</span>\n",
       "<span class=\"w\">    </span><span class=\"k\">if</span><span class=\"w\"> </span><span class=\"p\">(</span><span class=\"o\">!</span><span class=\"n\">first</span><span class=\"p\">)</span><span class=\"w\"> </span><span class=\"p\">{</span>\n",
       "<span class=\"w\">      </span><span class=\"k\">if</span><span class=\"w\"> </span><span class=\"p\">(</span><span class=\"n\">tokens</span><span class=\"p\">[</span><span class=\"n\">i</span><span class=\"p\">].</span><span class=\"n\">second</span><span class=\"w\"> </span><span class=\"o\">!=</span><span class=\"w\"> </span><span class=\"s\">&quot;,&quot;</span><span class=\"p\">)</span><span class=\"w\"> </span><span class=\"p\">{</span>\n",
       "<span class=\"w\">        </span><span class=\"k\">throw</span><span class=\"w\"> </span><span class=\"n\">error</span><span class=\"p\">(</span><span class=\"n\">tokens</span><span class=\"p\">[</span><span class=\"n\">i</span><span class=\"p\">].</span><span class=\"n\">first</span><span class=\"p\">,</span><span class=\"w\"> </span><span class=\"s\">&quot;commas are required between list items&quot;</span><span class=\"p\">);</span>\n",
       "<span class=\"w\">      </span><span class=\"p\">}</span>\n",
       "<span class=\"w\">      </span><span class=\"n\">i</span><span class=\"o\">++</span><span class=\"p\">;</span><span class=\"w\">  </span><span class=\"c1\">// get past &quot;,&quot;</span>\n",
       "<span class=\"w\">    </span><span class=\"p\">}</span>\n",
       "<span class=\"w\">    </span><span class=\"n\">first</span><span class=\"w\"> </span><span class=\"o\">=</span><span class=\"w\"> </span><span class=\"nb\">false</span><span class=\"p\">;</span>\n",
       "\n",
       "<span class=\"w\">    </span><span class=\"n\">values</span><span class=\"p\">.</span><span class=\"n\">push_back</span><span class=\"p\">(</span><span class=\"n\">parse</span><span class=\"p\">(</span><span class=\"n\">i</span><span class=\"p\">,</span><span class=\"w\"> </span><span class=\"n\">tokens</span><span class=\"p\">,</span><span class=\"w\"> </span><span class=\"n\">line</span><span class=\"p\">));</span>\n",
       "<span class=\"w\">  </span><span class=\"p\">}</span>\n",
       "\n",
       "<span class=\"w\">  </span><span class=\"n\">i</span><span class=\"o\">++</span><span class=\"p\">;</span><span class=\"w\">   </span><span class=\"c1\">// get past &quot;]&quot;</span>\n",
       "\n",
       "<span class=\"w\">  </span><span class=\"k\">return</span><span class=\"w\"> </span><span class=\"n\">std</span><span class=\"o\">::</span><span class=\"n\">make_shared</span><span class=\"o\">&lt;</span><span class=\"n\">ASTLiteralList</span><span class=\"o\">&gt;</span><span class=\"p\">(</span><span class=\"n\">pos</span><span class=\"p\">,</span><span class=\"w\"> </span><span class=\"n\">line</span><span class=\"p\">,</span><span class=\"w\"> </span><span class=\"n\">values</span><span class=\"p\">);</span>\n",
       "<span class=\"p\">}</span>\n",
       "\n",
       "\n",
       "<span class=\"n\">std</span><span class=\"o\">::</span><span class=\"n\">shared_ptr</span><span class=\"o\">&lt;</span><span class=\"n\">ASTNode</span><span class=\"o\">&gt;</span>\n",
       "<span class=\"w\">  </span><span class=\"n\">parse_fun</span><span class=\"p\">(</span><span class=\"kt\">int</span><span class=\"o\">&amp;</span><span class=\"w\"> </span><span class=\"n\">i</span><span class=\"p\">,</span><span class=\"w\"> </span><span class=\"k\">const</span><span class=\"w\"> </span><span class=\"n\">std</span><span class=\"o\">::</span><span class=\"n\">vector</span><span class=\"o\">&lt;</span><span class=\"n\">PosToken</span><span class=\"o\">&gt;&amp;</span><span class=\"w\"> </span><span class=\"n\">tokens</span><span class=\"p\">,</span><span class=\"w\"> </span><span class=\"k\">const</span><span class=\"w\"> </span><span class=\"n\">std</span><span class=\"o\">::</span><span class=\"n\">string</span><span class=\"o\">&amp;</span><span class=\"w\"> </span><span class=\"n\">line</span><span class=\"p\">)</span><span class=\"w\"> </span><span class=\"p\">{</span>\n",
       "<span class=\"w\">  </span><span class=\"kt\">int</span><span class=\"w\"> </span><span class=\"n\">pos</span><span class=\"w\"> </span><span class=\"o\">=</span><span class=\"w\"> </span><span class=\"n\">tokens</span><span class=\"p\">[</span><span class=\"n\">i</span><span class=\"p\">].</span><span class=\"n\">first</span><span class=\"p\">;</span>\n",
       "\n",
       "<span class=\"w\">  </span><span class=\"n\">i</span><span class=\"o\">++</span><span class=\"p\">;</span><span class=\"w\">  </span><span class=\"c1\">// get past &quot;def&quot;</span>\n",
       "\n",
       "<span class=\"w\">  </span><span class=\"k\">if</span><span class=\"w\"> </span><span class=\"p\">(</span><span class=\"n\">tokens</span><span class=\"p\">[</span><span class=\"n\">i</span><span class=\"p\">].</span><span class=\"n\">second</span><span class=\"w\"> </span><span class=\"o\">!=</span><span class=\"w\"> </span><span class=\"s\">&quot;(&quot;</span><span class=\"p\">)</span><span class=\"w\"> </span><span class=\"p\">{</span>\n",
       "<span class=\"w\">    </span><span class=\"k\">throw</span><span class=\"w\"> </span><span class=\"n\">error</span><span class=\"p\">(</span><span class=\"n\">tokens</span><span class=\"p\">[</span><span class=\"n\">i</span><span class=\"p\">].</span><span class=\"n\">first</span><span class=\"p\">,</span><span class=\"w\"> </span><span class=\"s\">&quot;&#39;fun&#39; must be followed by a list of function parameters&quot;</span><span class=\"p\">);</span>\n",
       "<span class=\"w\">  </span><span class=\"p\">}</span>\n",
       "\n",
       "<span class=\"w\">  </span><span class=\"n\">i</span><span class=\"o\">++</span><span class=\"p\">;</span><span class=\"w\">  </span><span class=\"c1\">// get past &quot;(&quot;</span>\n",
       "\n",
       "<span class=\"w\">  </span><span class=\"n\">std</span><span class=\"o\">::</span><span class=\"n\">regex</span><span class=\"w\"> </span><span class=\"n\">is_name</span><span class=\"p\">(</span><span class=\"s\">&quot;[A-Za-z_][A-Za-z_0-9]*&quot;</span><span class=\"p\">);</span>\n",
       "<span class=\"w\">  </span><span class=\"n\">std</span><span class=\"o\">::</span><span class=\"n\">vector</span><span class=\"o\">&lt;</span><span class=\"n\">std</span><span class=\"o\">::</span><span class=\"n\">string</span><span class=\"o\">&gt;</span><span class=\"w\"> </span><span class=\"n\">params</span><span class=\"p\">;</span>\n",
       "\n",
       "<span class=\"w\">  </span><span class=\"kt\">bool</span><span class=\"w\"> </span><span class=\"n\">first</span><span class=\"w\"> </span><span class=\"o\">=</span><span class=\"w\"> </span><span class=\"nb\">true</span><span class=\"p\">;</span>\n",
       "<span class=\"w\">  </span><span class=\"k\">while</span><span class=\"w\"> </span><span class=\"p\">(</span><span class=\"n\">tokens</span><span class=\"p\">[</span><span class=\"n\">i</span><span class=\"p\">].</span><span class=\"n\">second</span><span class=\"w\"> </span><span class=\"o\">!=</span><span class=\"w\"> </span><span class=\"s\">&quot;)&quot;</span><span class=\"p\">)</span><span class=\"w\"> </span><span class=\"p\">{</span>\n",
       "<span class=\"w\">    </span><span class=\"k\">if</span><span class=\"w\"> </span><span class=\"p\">(</span><span class=\"o\">!</span><span class=\"n\">first</span><span class=\"p\">)</span><span class=\"w\"> </span><span class=\"p\">{</span>\n",
       "<span class=\"w\">      </span><span class=\"k\">if</span><span class=\"w\"> </span><span class=\"p\">(</span><span class=\"n\">tokens</span><span class=\"p\">[</span><span class=\"n\">i</span><span class=\"p\">].</span><span class=\"n\">second</span><span class=\"w\"> </span><span class=\"o\">!=</span><span class=\"w\"> </span><span class=\"s\">&quot;,&quot;</span><span class=\"p\">)</span><span class=\"w\"> </span><span class=\"p\">{</span>\n",
       "<span class=\"w\">        </span><span class=\"k\">throw</span><span class=\"w\"> </span><span class=\"n\">error</span><span class=\"p\">(</span><span class=\"n\">tokens</span><span class=\"p\">[</span><span class=\"n\">i</span><span class=\"p\">].</span><span class=\"n\">first</span><span class=\"p\">,</span><span class=\"w\"> </span><span class=\"s\">&quot;commas are required between function parameter names&quot;</span><span class=\"p\">);</span>\n",
       "<span class=\"w\">      </span><span class=\"p\">}</span>\n",
       "<span class=\"w\">      </span><span class=\"n\">i</span><span class=\"o\">++</span><span class=\"p\">;</span><span class=\"w\">  </span><span class=\"c1\">// get past &quot;,&quot;</span>\n",
       "<span class=\"w\">    </span><span class=\"p\">}</span>\n",
       "<span class=\"w\">    </span><span class=\"n\">first</span><span class=\"w\"> </span><span class=\"o\">=</span><span class=\"w\"> </span><span class=\"nb\">false</span><span class=\"p\">;</span>\n",
       "\n",
       "<span class=\"w\">    </span><span class=\"k\">if</span><span class=\"w\"> </span><span class=\"p\">(</span><span class=\"n\">std</span><span class=\"o\">::</span><span class=\"n\">regex_match</span><span class=\"p\">(</span><span class=\"n\">tokens</span><span class=\"p\">[</span><span class=\"n\">i</span><span class=\"p\">].</span><span class=\"n\">second</span><span class=\"p\">,</span><span class=\"w\"> </span><span class=\"n\">is_name</span><span class=\"p\">))</span><span class=\"w\"> </span><span class=\"p\">{</span>\n",
       "<span class=\"w\">      </span><span class=\"n\">params</span><span class=\"p\">.</span><span class=\"n\">push_back</span><span class=\"p\">(</span><span class=\"n\">tokens</span><span class=\"p\">[</span><span class=\"n\">i</span><span class=\"p\">].</span><span class=\"n\">second</span><span class=\"p\">);</span>\n",
       "<span class=\"w\">    </span><span class=\"p\">}</span>\n",
       "<span class=\"w\">    </span><span class=\"k\">else</span><span class=\"w\"> </span><span class=\"p\">{</span>\n",
       "<span class=\"w\">      </span><span class=\"k\">throw</span><span class=\"w\"> </span><span class=\"n\">error</span><span class=\"p\">(</span><span class=\"n\">tokens</span><span class=\"p\">[</span><span class=\"n\">i</span><span class=\"p\">].</span><span class=\"n\">first</span><span class=\"p\">,</span><span class=\"w\"> </span><span class=\"s\">&quot;function parameters must be identifiers&quot;</span><span class=\"p\">);</span>\n",
       "<span class=\"w\">    </span><span class=\"p\">}</span>\n",
       "<span class=\"w\">    </span><span class=\"n\">i</span><span class=\"o\">++</span><span class=\"p\">;</span><span class=\"w\">  </span><span class=\"c1\">// get past parameter name</span>\n",
       "<span class=\"w\">  </span><span class=\"p\">}</span>\n",
       "\n",
       "<span class=\"w\">  </span><span class=\"n\">i</span><span class=\"o\">++</span><span class=\"p\">;</span><span class=\"w\">  </span><span class=\"c1\">// get past &quot;)&quot;</span>\n",
       "\n",
       "<span class=\"w\">  </span><span class=\"n\">std</span><span class=\"o\">::</span><span class=\"n\">vector</span><span class=\"o\">&lt;</span><span class=\"n\">std</span><span class=\"o\">::</span><span class=\"n\">shared_ptr</span><span class=\"o\">&lt;</span><span class=\"n\">ASTNode</span><span class=\"o\">&gt;&gt;</span><span class=\"w\"> </span><span class=\"n\">body</span><span class=\"p\">;</span>\n",
       "\n",
       "<span class=\"w\">  </span><span class=\"k\">if</span><span class=\"w\"> </span><span class=\"p\">(</span><span class=\"n\">tokens</span><span class=\"p\">[</span><span class=\"n\">i</span><span class=\"p\">].</span><span class=\"n\">second</span><span class=\"w\"> </span><span class=\"o\">==</span><span class=\"w\"> </span><span class=\"s\">&quot;{&quot;</span><span class=\"p\">)</span><span class=\"w\"> </span><span class=\"p\">{</span>\n",
       "<span class=\"w\">    </span><span class=\"c1\">// curly brackets; accept statements separated by semicolons</span>\n",
       "\n",
       "<span class=\"w\">    </span><span class=\"n\">i</span><span class=\"o\">++</span><span class=\"p\">;</span><span class=\"w\">  </span><span class=\"c1\">// get past &quot;{&quot;</span>\n",
       "\n",
       "<span class=\"w\">    </span><span class=\"kt\">bool</span><span class=\"w\"> </span><span class=\"n\">first</span><span class=\"w\"> </span><span class=\"o\">=</span><span class=\"w\"> </span><span class=\"nb\">true</span><span class=\"p\">;</span>\n",
       "<span class=\"w\">    </span><span class=\"k\">while</span><span class=\"w\"> </span><span class=\"p\">(</span><span class=\"n\">tokens</span><span class=\"p\">[</span><span class=\"n\">i</span><span class=\"p\">].</span><span class=\"n\">second</span><span class=\"w\"> </span><span class=\"o\">!=</span><span class=\"w\"> </span><span class=\"s\">&quot;}&quot;</span><span class=\"p\">)</span><span class=\"w\"> </span><span class=\"p\">{</span>\n",
       "<span class=\"w\">      </span><span class=\"k\">if</span><span class=\"w\"> </span><span class=\"p\">(</span><span class=\"o\">!</span><span class=\"n\">first</span><span class=\"p\">)</span><span class=\"w\"> </span><span class=\"p\">{</span>\n",
       "<span class=\"w\">        </span><span class=\"k\">if</span><span class=\"w\"> </span><span class=\"p\">(</span><span class=\"n\">tokens</span><span class=\"p\">[</span><span class=\"n\">i</span><span class=\"p\">].</span><span class=\"n\">second</span><span class=\"w\"> </span><span class=\"o\">!=</span><span class=\"w\"> </span><span class=\"s\">&quot;;&quot;</span><span class=\"p\">)</span><span class=\"w\"> </span><span class=\"p\">{</span>\n",
       "<span class=\"w\">          </span><span class=\"k\">throw</span><span class=\"w\"> </span><span class=\"n\">error</span><span class=\"p\">(</span><span class=\"n\">tokens</span><span class=\"p\">[</span><span class=\"n\">i</span><span class=\"p\">].</span><span class=\"n\">first</span><span class=\"p\">,</span><span class=\"w\"> </span><span class=\"s\">&quot;semicolons are required between statements&quot;</span><span class=\"p\">);</span>\n",
       "<span class=\"w\">        </span><span class=\"p\">}</span>\n",
       "<span class=\"w\">        </span><span class=\"n\">i</span><span class=\"o\">++</span><span class=\"p\">;</span><span class=\"w\">  </span><span class=\"c1\">// get past &quot;;&quot;</span>\n",
       "<span class=\"w\">      </span><span class=\"p\">}</span>\n",
       "<span class=\"w\">      </span><span class=\"n\">first</span><span class=\"w\"> </span><span class=\"o\">=</span><span class=\"w\"> </span><span class=\"nb\">false</span><span class=\"p\">;</span>\n",
       "\n",
       "<span class=\"w\">      </span><span class=\"n\">body</span><span class=\"p\">.</span><span class=\"n\">push_back</span><span class=\"p\">(</span><span class=\"n\">parse</span><span class=\"p\">(</span><span class=\"n\">i</span><span class=\"p\">,</span><span class=\"w\"> </span><span class=\"n\">tokens</span><span class=\"p\">,</span><span class=\"w\"> </span><span class=\"n\">line</span><span class=\"p\">));</span>\n",
       "<span class=\"w\">    </span><span class=\"p\">}</span>\n",
       "\n",
       "<span class=\"w\">    </span><span class=\"n\">i</span><span class=\"o\">++</span><span class=\"p\">;</span><span class=\"w\">   </span><span class=\"c1\">// get past &quot;}&quot;</span>\n",
       "<span class=\"w\">  </span><span class=\"p\">}</span>\n",
       "<span class=\"w\">  </span><span class=\"k\">else</span><span class=\"w\"> </span><span class=\"p\">{</span>\n",
       "<span class=\"w\">    </span><span class=\"c1\">// no curly brackets; only one statement</span>\n",
       "<span class=\"w\">    </span><span class=\"n\">body</span><span class=\"p\">.</span><span class=\"n\">push_back</span><span class=\"p\">(</span><span class=\"n\">parse</span><span class=\"p\">(</span><span class=\"n\">i</span><span class=\"p\">,</span><span class=\"w\"> </span><span class=\"n\">tokens</span><span class=\"p\">,</span><span class=\"w\"> </span><span class=\"n\">line</span><span class=\"p\">));</span>\n",
       "<span class=\"w\">  </span><span class=\"p\">}</span>\n",
       "\n",
       "<span class=\"w\">  </span><span class=\"k\">return</span><span class=\"w\"> </span><span class=\"n\">std</span><span class=\"o\">::</span><span class=\"n\">make_shared</span><span class=\"o\">&lt;</span><span class=\"n\">ASTDefineFun</span><span class=\"o\">&gt;</span><span class=\"p\">(</span><span class=\"n\">pos</span><span class=\"p\">,</span><span class=\"w\"> </span><span class=\"n\">line</span><span class=\"p\">,</span><span class=\"w\"> </span><span class=\"n\">params</span><span class=\"p\">,</span><span class=\"w\"> </span><span class=\"n\">body</span><span class=\"p\">);</span>\n",
       "<span class=\"p\">}</span>\n",
       "\n",
       "\n",
       "<span class=\"n\">std</span><span class=\"o\">::</span><span class=\"n\">shared_ptr</span><span class=\"o\">&lt;</span><span class=\"n\">ASTNode</span><span class=\"o\">&gt;</span>\n",
       "<span class=\"w\">  </span><span class=\"n\">parse_call</span><span class=\"p\">(</span><span class=\"kt\">int</span><span class=\"o\">&amp;</span><span class=\"w\"> </span><span class=\"n\">i</span><span class=\"p\">,</span><span class=\"w\"> </span><span class=\"k\">const</span><span class=\"w\"> </span><span class=\"n\">std</span><span class=\"o\">::</span><span class=\"n\">vector</span><span class=\"o\">&lt;</span><span class=\"n\">PosToken</span><span class=\"o\">&gt;&amp;</span><span class=\"w\"> </span><span class=\"n\">tokens</span><span class=\"p\">,</span><span class=\"w\"> </span><span class=\"k\">const</span><span class=\"w\"> </span><span class=\"n\">std</span><span class=\"o\">::</span><span class=\"n\">string</span><span class=\"o\">&amp;</span><span class=\"w\"> </span><span class=\"n\">line</span><span class=\"p\">)</span><span class=\"w\"> </span><span class=\"p\">{</span>\n",
       "<span class=\"w\">  </span><span class=\"kt\">int</span><span class=\"w\"> </span><span class=\"n\">pos</span><span class=\"w\"> </span><span class=\"o\">=</span><span class=\"w\"> </span><span class=\"n\">tokens</span><span class=\"p\">[</span><span class=\"n\">i</span><span class=\"p\">].</span><span class=\"n\">first</span><span class=\"p\">;</span>\n",
       "<span class=\"w\">  </span><span class=\"k\">const</span><span class=\"w\"> </span><span class=\"n\">std</span><span class=\"o\">::</span><span class=\"n\">string</span><span class=\"w\"> </span><span class=\"n\">name</span><span class=\"w\"> </span><span class=\"o\">=</span><span class=\"w\"> </span><span class=\"n\">tokens</span><span class=\"p\">[</span><span class=\"n\">i</span><span class=\"p\">].</span><span class=\"n\">second</span><span class=\"p\">;</span>\n",
       "\n",
       "<span class=\"w\">  </span><span class=\"n\">i</span><span class=\"o\">++</span><span class=\"p\">;</span><span class=\"w\">  </span><span class=\"c1\">// get past name</span>\n",
       "<span class=\"w\">  </span><span class=\"n\">i</span><span class=\"o\">++</span><span class=\"p\">;</span><span class=\"w\">  </span><span class=\"c1\">// get past &quot;(&quot;</span>\n",
       "\n",
       "<span class=\"w\">  </span><span class=\"n\">std</span><span class=\"o\">::</span><span class=\"n\">vector</span><span class=\"o\">&lt;</span><span class=\"n\">std</span><span class=\"o\">::</span><span class=\"n\">shared_ptr</span><span class=\"o\">&lt;</span><span class=\"n\">ASTNode</span><span class=\"o\">&gt;&gt;</span><span class=\"w\"> </span><span class=\"n\">args</span><span class=\"p\">;</span>\n",
       "\n",
       "<span class=\"w\">  </span><span class=\"kt\">bool</span><span class=\"w\"> </span><span class=\"n\">first</span><span class=\"w\"> </span><span class=\"o\">=</span><span class=\"w\"> </span><span class=\"nb\">true</span><span class=\"p\">;</span>\n",
       "<span class=\"w\">  </span><span class=\"k\">while</span><span class=\"w\"> </span><span class=\"p\">(</span><span class=\"n\">tokens</span><span class=\"p\">[</span><span class=\"n\">i</span><span class=\"p\">].</span><span class=\"n\">second</span><span class=\"w\"> </span><span class=\"o\">!=</span><span class=\"w\"> </span><span class=\"s\">&quot;)&quot;</span><span class=\"p\">)</span><span class=\"w\"> </span><span class=\"p\">{</span>\n",
       "<span class=\"w\">    </span><span class=\"k\">if</span><span class=\"w\"> </span><span class=\"p\">(</span><span class=\"o\">!</span><span class=\"n\">first</span><span class=\"p\">)</span><span class=\"w\"> </span><span class=\"p\">{</span>\n",
       "<span class=\"w\">      </span><span class=\"k\">if</span><span class=\"w\"> </span><span class=\"p\">(</span><span class=\"n\">tokens</span><span class=\"p\">[</span><span class=\"n\">i</span><span class=\"p\">].</span><span class=\"n\">second</span><span class=\"w\"> </span><span class=\"o\">!=</span><span class=\"w\"> </span><span class=\"s\">&quot;,&quot;</span><span class=\"p\">)</span><span class=\"w\"> </span><span class=\"p\">{</span>\n",
       "<span class=\"w\">        </span><span class=\"k\">throw</span><span class=\"w\"> </span><span class=\"n\">error</span><span class=\"p\">(</span><span class=\"n\">tokens</span><span class=\"p\">[</span><span class=\"n\">i</span><span class=\"p\">].</span><span class=\"n\">first</span><span class=\"p\">,</span><span class=\"w\"> </span><span class=\"s\">&quot;commas are required between list items&quot;</span><span class=\"p\">);</span>\n",
       "<span class=\"w\">      </span><span class=\"p\">}</span>\n",
       "<span class=\"w\">      </span><span class=\"n\">i</span><span class=\"o\">++</span><span class=\"p\">;</span><span class=\"w\">  </span><span class=\"c1\">// get past &quot;,&quot;</span>\n",
       "<span class=\"w\">    </span><span class=\"p\">}</span>\n",
       "<span class=\"w\">    </span><span class=\"n\">first</span><span class=\"w\"> </span><span class=\"o\">=</span><span class=\"w\"> </span><span class=\"nb\">false</span><span class=\"p\">;</span>\n",
       "\n",
       "<span class=\"w\">    </span><span class=\"n\">args</span><span class=\"p\">.</span><span class=\"n\">push_back</span><span class=\"p\">(</span><span class=\"n\">parse</span><span class=\"p\">(</span><span class=\"n\">i</span><span class=\"p\">,</span><span class=\"w\"> </span><span class=\"n\">tokens</span><span class=\"p\">,</span><span class=\"w\"> </span><span class=\"n\">line</span><span class=\"p\">));</span>\n",
       "<span class=\"w\">  </span><span class=\"p\">}</span>\n",
       "\n",
       "<span class=\"w\">  </span><span class=\"n\">i</span><span class=\"o\">++</span><span class=\"p\">;</span><span class=\"w\">   </span><span class=\"c1\">// get past &quot;)&quot;</span>\n",
       "\n",
       "<span class=\"w\">  </span><span class=\"k\">return</span><span class=\"w\"> </span><span class=\"n\">std</span><span class=\"o\">::</span><span class=\"n\">make_shared</span><span class=\"o\">&lt;</span><span class=\"n\">ASTCallNamed</span><span class=\"o\">&gt;</span><span class=\"p\">(</span><span class=\"n\">pos</span><span class=\"p\">,</span><span class=\"w\"> </span><span class=\"n\">line</span><span class=\"p\">,</span><span class=\"w\"> </span><span class=\"n\">name</span><span class=\"p\">,</span><span class=\"w\"> </span><span class=\"n\">args</span><span class=\"p\">);</span>\n",
       "<span class=\"p\">}</span>\n",
       "\n",
       "\n",
       "<span class=\"n\">std</span><span class=\"o\">::</span><span class=\"n\">shared_ptr</span><span class=\"o\">&lt;</span><span class=\"n\">ASTNode</span><span class=\"o\">&gt;</span>\n",
       "<span class=\"w\">  </span><span class=\"n\">parse_assign</span><span class=\"p\">(</span><span class=\"kt\">int</span><span class=\"o\">&amp;</span><span class=\"w\"> </span><span class=\"n\">i</span><span class=\"p\">,</span><span class=\"w\"> </span><span class=\"k\">const</span><span class=\"w\"> </span><span class=\"n\">std</span><span class=\"o\">::</span><span class=\"n\">vector</span><span class=\"o\">&lt;</span><span class=\"n\">PosToken</span><span class=\"o\">&gt;&amp;</span><span class=\"w\"> </span><span class=\"n\">tokens</span><span class=\"p\">,</span><span class=\"w\"> </span><span class=\"k\">const</span><span class=\"w\"> </span><span class=\"n\">std</span><span class=\"o\">::</span><span class=\"n\">string</span><span class=\"o\">&amp;</span><span class=\"w\"> </span><span class=\"n\">line</span><span class=\"p\">)</span><span class=\"w\"> </span><span class=\"p\">{</span>\n",
       "<span class=\"w\">  </span><span class=\"kt\">int</span><span class=\"w\"> </span><span class=\"n\">pos</span><span class=\"w\"> </span><span class=\"o\">=</span><span class=\"w\"> </span><span class=\"n\">tokens</span><span class=\"p\">[</span><span class=\"n\">i</span><span class=\"p\">].</span><span class=\"n\">first</span><span class=\"p\">;</span>\n",
       "<span class=\"w\">  </span><span class=\"k\">const</span><span class=\"w\"> </span><span class=\"n\">std</span><span class=\"o\">::</span><span class=\"n\">string</span><span class=\"w\"> </span><span class=\"n\">name</span><span class=\"w\"> </span><span class=\"o\">=</span><span class=\"w\"> </span><span class=\"n\">tokens</span><span class=\"p\">[</span><span class=\"n\">i</span><span class=\"p\">].</span><span class=\"n\">second</span><span class=\"p\">;</span>\n",
       "\n",
       "<span class=\"w\">  </span><span class=\"n\">i</span><span class=\"o\">++</span><span class=\"p\">;</span><span class=\"w\">  </span><span class=\"c1\">// get past name</span>\n",
       "<span class=\"w\">  </span><span class=\"n\">i</span><span class=\"o\">++</span><span class=\"p\">;</span><span class=\"w\">  </span><span class=\"c1\">// get past &quot;=&quot;</span>\n",
       "\n",
       "<span class=\"w\">  </span><span class=\"n\">std</span><span class=\"o\">::</span><span class=\"n\">shared_ptr</span><span class=\"o\">&lt;</span><span class=\"n\">ASTNode</span><span class=\"o\">&gt;</span><span class=\"w\"> </span><span class=\"n\">value</span><span class=\"w\"> </span><span class=\"o\">=</span><span class=\"w\"> </span><span class=\"n\">parse</span><span class=\"p\">(</span><span class=\"n\">i</span><span class=\"p\">,</span><span class=\"w\"> </span><span class=\"n\">tokens</span><span class=\"p\">,</span><span class=\"w\"> </span><span class=\"n\">line</span><span class=\"p\">);</span>\n",
       "\n",
       "<span class=\"w\">  </span><span class=\"k\">return</span><span class=\"w\"> </span><span class=\"n\">std</span><span class=\"o\">::</span><span class=\"n\">make_shared</span><span class=\"o\">&lt;</span><span class=\"n\">ASTAssignment</span><span class=\"o\">&gt;</span><span class=\"p\">(</span><span class=\"n\">pos</span><span class=\"p\">,</span><span class=\"w\"> </span><span class=\"n\">line</span><span class=\"p\">,</span><span class=\"w\"> </span><span class=\"n\">name</span><span class=\"p\">,</span><span class=\"w\"> </span><span class=\"n\">value</span><span class=\"p\">);</span>\n",
       "<span class=\"p\">}</span>\n",
       "\n",
       "\n",
       "<span class=\"n\">std</span><span class=\"o\">::</span><span class=\"n\">shared_ptr</span><span class=\"o\">&lt;</span><span class=\"n\">ASTNode</span><span class=\"o\">&gt;</span>\n",
       "<span class=\"w\">  </span><span class=\"n\">parse_delete</span><span class=\"p\">(</span><span class=\"kt\">int</span><span class=\"o\">&amp;</span><span class=\"w\"> </span><span class=\"n\">i</span><span class=\"p\">,</span><span class=\"w\"> </span><span class=\"k\">const</span><span class=\"w\"> </span><span class=\"n\">std</span><span class=\"o\">::</span><span class=\"n\">vector</span><span class=\"o\">&lt;</span><span class=\"n\">PosToken</span><span class=\"o\">&gt;&amp;</span><span class=\"w\"> </span><span class=\"n\">tokens</span><span class=\"p\">,</span><span class=\"w\"> </span><span class=\"k\">const</span><span class=\"w\"> </span><span class=\"n\">std</span><span class=\"o\">::</span><span class=\"n\">string</span><span class=\"o\">&amp;</span><span class=\"w\"> </span><span class=\"n\">line</span><span class=\"p\">)</span><span class=\"w\"> </span><span class=\"p\">{</span>\n",
       "<span class=\"w\">  </span><span class=\"kt\">int</span><span class=\"w\"> </span><span class=\"n\">pos</span><span class=\"w\"> </span><span class=\"o\">=</span><span class=\"w\"> </span><span class=\"n\">tokens</span><span class=\"p\">[</span><span class=\"n\">i</span><span class=\"p\">].</span><span class=\"n\">first</span><span class=\"p\">;</span>\n",
       "\n",
       "<span class=\"w\">  </span><span class=\"n\">i</span><span class=\"o\">++</span><span class=\"p\">;</span><span class=\"w\">  </span><span class=\"c1\">// get past &quot;del&quot;</span>\n",
       "\n",
       "<span class=\"w\">  </span><span class=\"k\">if</span><span class=\"w\"> </span><span class=\"p\">(</span><span class=\"n\">i</span><span class=\"w\"> </span><span class=\"o\">&gt;=</span><span class=\"w\"> </span><span class=\"n\">tokens</span><span class=\"p\">.</span><span class=\"n\">size</span><span class=\"p\">()</span><span class=\"w\">  </span><span class=\"o\">||</span><span class=\"w\">  </span><span class=\"n\">tokens</span><span class=\"p\">[</span><span class=\"n\">i</span><span class=\"p\">].</span><span class=\"n\">second</span><span class=\"w\"> </span><span class=\"o\">!=</span><span class=\"w\"> </span><span class=\"s\">&quot;(&quot;</span><span class=\"p\">)</span><span class=\"w\"> </span><span class=\"p\">{</span>\n",
       "<span class=\"w\">    </span><span class=\"k\">throw</span><span class=\"w\"> </span><span class=\"n\">error</span><span class=\"p\">(</span><span class=\"n\">pos</span><span class=\"p\">,</span><span class=\"w\"> </span><span class=\"s\">&quot;&#39;del&#39; must be followed by a name in parentheses&quot;</span><span class=\"p\">);</span>\n",
       "<span class=\"w\">  </span><span class=\"p\">}</span>\n",
       "\n",
       "<span class=\"w\">  </span><span class=\"n\">i</span><span class=\"o\">++</span><span class=\"p\">;</span><span class=\"w\">  </span><span class=\"c1\">// get past &quot;(&quot;</span>\n",
       "\n",
       "<span class=\"w\">  </span><span class=\"n\">std</span><span class=\"o\">::</span><span class=\"n\">regex</span><span class=\"w\"> </span><span class=\"n\">is_name</span><span class=\"p\">(</span><span class=\"s\">&quot;[A-Za-z_][A-Za-z_0-9]*&quot;</span><span class=\"p\">);</span>\n",
       "\n",
       "<span class=\"w\">  </span><span class=\"n\">std</span><span class=\"o\">::</span><span class=\"n\">string</span><span class=\"w\"> </span><span class=\"n\">name</span><span class=\"p\">;</span>\n",
       "<span class=\"w\">  </span><span class=\"k\">if</span><span class=\"w\"> </span><span class=\"p\">(</span><span class=\"n\">i</span><span class=\"w\"> </span><span class=\"o\">&lt;</span><span class=\"w\"> </span><span class=\"n\">tokens</span><span class=\"p\">.</span><span class=\"n\">size</span><span class=\"p\">()</span><span class=\"w\">  </span><span class=\"o\">&amp;&amp;</span><span class=\"w\">  </span><span class=\"n\">std</span><span class=\"o\">::</span><span class=\"n\">regex_match</span><span class=\"p\">(</span><span class=\"n\">tokens</span><span class=\"p\">[</span><span class=\"n\">i</span><span class=\"p\">].</span><span class=\"n\">second</span><span class=\"p\">,</span><span class=\"w\"> </span><span class=\"n\">is_name</span><span class=\"p\">))</span><span class=\"w\"> </span><span class=\"p\">{</span>\n",
       "<span class=\"w\">    </span><span class=\"n\">name</span><span class=\"w\"> </span><span class=\"o\">=</span><span class=\"w\"> </span><span class=\"n\">tokens</span><span class=\"p\">[</span><span class=\"n\">i</span><span class=\"p\">].</span><span class=\"n\">second</span><span class=\"p\">;</span>\n",
       "<span class=\"w\">  </span><span class=\"p\">}</span>\n",
       "<span class=\"w\">  </span><span class=\"k\">else</span><span class=\"w\"> </span><span class=\"p\">{</span>\n",
       "<span class=\"w\">    </span><span class=\"k\">throw</span><span class=\"w\"> </span><span class=\"n\">error</span><span class=\"p\">(</span><span class=\"n\">pos</span><span class=\"p\">,</span><span class=\"w\"> </span><span class=\"s\">&quot;name of variable to delete must be provided&quot;</span><span class=\"p\">);</span>\n",
       "<span class=\"w\">  </span><span class=\"p\">}</span>\n",
       "\n",
       "<span class=\"w\">  </span><span class=\"n\">i</span><span class=\"o\">++</span><span class=\"p\">;</span><span class=\"w\">  </span><span class=\"c1\">// get past name</span>\n",
       "\n",
       "<span class=\"w\">  </span><span class=\"k\">if</span><span class=\"w\"> </span><span class=\"p\">(</span><span class=\"n\">i</span><span class=\"w\"> </span><span class=\"o\">&gt;=</span><span class=\"w\"> </span><span class=\"n\">tokens</span><span class=\"p\">.</span><span class=\"n\">size</span><span class=\"p\">()</span><span class=\"w\">  </span><span class=\"o\">||</span><span class=\"w\">  </span><span class=\"n\">tokens</span><span class=\"p\">[</span><span class=\"n\">i</span><span class=\"p\">].</span><span class=\"n\">second</span><span class=\"w\"> </span><span class=\"o\">!=</span><span class=\"w\"> </span><span class=\"s\">&quot;)&quot;</span><span class=\"p\">)</span><span class=\"w\"> </span><span class=\"p\">{</span>\n",
       "<span class=\"w\">    </span><span class=\"k\">throw</span><span class=\"w\"> </span><span class=\"n\">error</span><span class=\"p\">(</span><span class=\"n\">pos</span><span class=\"p\">,</span><span class=\"w\"> </span><span class=\"s\">&quot;parentheses must be closed after name of variable to delete&quot;</span><span class=\"p\">);</span>\n",
       "<span class=\"w\">  </span><span class=\"p\">}</span>\n",
       "\n",
       "<span class=\"w\">  </span><span class=\"n\">i</span><span class=\"o\">++</span><span class=\"p\">;</span><span class=\"w\">  </span><span class=\"c1\">// get past &quot;)&quot;</span>\n",
       "\n",
       "<span class=\"w\">  </span><span class=\"k\">return</span><span class=\"w\"> </span><span class=\"n\">std</span><span class=\"o\">::</span><span class=\"n\">make_shared</span><span class=\"o\">&lt;</span><span class=\"n\">ASTDelete</span><span class=\"o\">&gt;</span><span class=\"p\">(</span><span class=\"n\">pos</span><span class=\"p\">,</span><span class=\"w\"> </span><span class=\"n\">line</span><span class=\"p\">,</span><span class=\"w\"> </span><span class=\"n\">name</span><span class=\"p\">);</span>\n",
       "<span class=\"p\">}</span>\n",
       "\n",
       "\n",
       "<span class=\"n\">std</span><span class=\"o\">::</span><span class=\"n\">shared_ptr</span><span class=\"o\">&lt;</span><span class=\"n\">ASTNode</span><span class=\"o\">&gt;</span>\n",
       "<span class=\"w\">  </span><span class=\"n\">parse_id</span><span class=\"p\">(</span><span class=\"kt\">int</span><span class=\"o\">&amp;</span><span class=\"w\"> </span><span class=\"n\">i</span><span class=\"p\">,</span><span class=\"w\"> </span><span class=\"k\">const</span><span class=\"w\"> </span><span class=\"n\">std</span><span class=\"o\">::</span><span class=\"n\">vector</span><span class=\"o\">&lt;</span><span class=\"n\">PosToken</span><span class=\"o\">&gt;&amp;</span><span class=\"w\"> </span><span class=\"n\">tokens</span><span class=\"p\">,</span><span class=\"w\"> </span><span class=\"k\">const</span><span class=\"w\"> </span><span class=\"n\">std</span><span class=\"o\">::</span><span class=\"n\">string</span><span class=\"o\">&amp;</span><span class=\"w\"> </span><span class=\"n\">line</span><span class=\"p\">)</span><span class=\"w\"> </span><span class=\"p\">{</span>\n",
       "<span class=\"w\">  </span><span class=\"kt\">int</span><span class=\"w\"> </span><span class=\"n\">pos</span><span class=\"w\"> </span><span class=\"o\">=</span><span class=\"w\"> </span><span class=\"n\">tokens</span><span class=\"p\">[</span><span class=\"n\">i</span><span class=\"p\">].</span><span class=\"n\">first</span><span class=\"p\">;</span>\n",
       "<span class=\"w\">  </span><span class=\"k\">const</span><span class=\"w\"> </span><span class=\"n\">std</span><span class=\"o\">::</span><span class=\"n\">string</span><span class=\"w\"> </span><span class=\"n\">name</span><span class=\"w\"> </span><span class=\"o\">=</span><span class=\"w\"> </span><span class=\"n\">tokens</span><span class=\"p\">[</span><span class=\"n\">i</span><span class=\"p\">].</span><span class=\"n\">second</span><span class=\"p\">;</span>\n",
       "\n",
       "<span class=\"w\">  </span><span class=\"n\">i</span><span class=\"o\">++</span><span class=\"p\">;</span><span class=\"w\">  </span><span class=\"c1\">// get past name</span>\n",
       "\n",
       "<span class=\"w\">  </span><span class=\"k\">return</span><span class=\"w\"> </span><span class=\"n\">std</span><span class=\"o\">::</span><span class=\"n\">make_shared</span><span class=\"o\">&lt;</span><span class=\"n\">ASTIdentifier</span><span class=\"o\">&gt;</span><span class=\"p\">(</span><span class=\"n\">pos</span><span class=\"p\">,</span><span class=\"w\"> </span><span class=\"n\">line</span><span class=\"p\">,</span><span class=\"w\"> </span><span class=\"n\">name</span><span class=\"p\">);</span>\n",
       "<span class=\"p\">}</span>\n",
       "\n",
       "\n",
       "<span class=\"c1\">//// Scope /////////////////////////////////////////////////////////////////</span>\n",
       "\n",
       "\n",
       "<span class=\"kt\">void</span><span class=\"w\"> </span><span class=\"n\">Scope</span><span class=\"o\">::</span><span class=\"n\">assign</span><span class=\"p\">(</span>\n",
       "<span class=\"w\">  </span><span class=\"k\">const</span><span class=\"w\"> </span><span class=\"n\">std</span><span class=\"o\">::</span><span class=\"n\">string</span><span class=\"o\">&amp;</span><span class=\"w\"> </span><span class=\"n\">name</span><span class=\"p\">,</span>\n",
       "<span class=\"w\">  </span><span class=\"n\">std</span><span class=\"o\">::</span><span class=\"n\">shared_ptr</span><span class=\"o\">&lt;</span><span class=\"n\">Object</span><span class=\"o\">&gt;</span><span class=\"w\"> </span><span class=\"n\">object</span><span class=\"p\">,</span>\n",
       "<span class=\"w\">  </span><span class=\"n\">std</span><span class=\"o\">::</span><span class=\"n\">vector</span><span class=\"o\">&lt;</span><span class=\"n\">std</span><span class=\"o\">::</span><span class=\"n\">shared_ptr</span><span class=\"o\">&lt;</span><span class=\"n\">ASTNode</span><span class=\"o\">&gt;&gt;&amp;</span><span class=\"w\"> </span><span class=\"n\">stack</span>\n",
       "<span class=\"p\">)</span><span class=\"w\"> </span><span class=\"p\">{</span>\n",
       "<span class=\"w\">  </span><span class=\"n\">objects_</span><span class=\"p\">[</span><span class=\"n\">name</span><span class=\"p\">]</span><span class=\"w\"> </span><span class=\"o\">=</span><span class=\"w\"> </span><span class=\"n\">object</span><span class=\"p\">;</span>\n",
       "<span class=\"p\">}</span>\n",
       "\n",
       "\n",
       "<span class=\"n\">std</span><span class=\"o\">::</span><span class=\"n\">shared_ptr</span><span class=\"o\">&lt;</span><span class=\"n\">Object</span><span class=\"o\">&gt;</span><span class=\"w\"> </span><span class=\"n\">Scope</span><span class=\"o\">::</span><span class=\"n\">del</span><span class=\"p\">(</span>\n",
       "<span class=\"w\">  </span><span class=\"k\">const</span><span class=\"w\"> </span><span class=\"n\">std</span><span class=\"o\">::</span><span class=\"n\">string</span><span class=\"o\">&amp;</span><span class=\"w\"> </span><span class=\"n\">name</span><span class=\"p\">,</span>\n",
       "<span class=\"w\">  </span><span class=\"n\">std</span><span class=\"o\">::</span><span class=\"n\">vector</span><span class=\"o\">&lt;</span><span class=\"n\">std</span><span class=\"o\">::</span><span class=\"n\">shared_ptr</span><span class=\"o\">&lt;</span><span class=\"n\">ASTNode</span><span class=\"o\">&gt;&gt;&amp;</span><span class=\"w\"> </span><span class=\"n\">stack</span>\n",
       "<span class=\"p\">)</span><span class=\"w\"> </span><span class=\"p\">{</span>\n",
       "<span class=\"w\">  </span><span class=\"k\">if</span><span class=\"w\"> </span><span class=\"p\">(</span><span class=\"n\">objects_</span><span class=\"p\">.</span><span class=\"n\">count</span><span class=\"p\">(</span><span class=\"n\">name</span><span class=\"p\">))</span><span class=\"w\"> </span><span class=\"p\">{</span>\n",
       "<span class=\"w\">    </span><span class=\"n\">std</span><span class=\"o\">::</span><span class=\"n\">shared_ptr</span><span class=\"o\">&lt;</span><span class=\"n\">Object</span><span class=\"o\">&gt;</span><span class=\"w\"> </span><span class=\"n\">result</span><span class=\"w\"> </span><span class=\"o\">=</span><span class=\"w\"> </span><span class=\"n\">objects_</span><span class=\"p\">[</span><span class=\"n\">name</span><span class=\"p\">];</span>\n",
       "<span class=\"w\">    </span><span class=\"n\">objects_</span><span class=\"p\">.</span><span class=\"n\">erase</span><span class=\"p\">(</span><span class=\"n\">name</span><span class=\"p\">);</span>\n",
       "<span class=\"w\">    </span><span class=\"k\">return</span><span class=\"w\"> </span><span class=\"n\">result</span><span class=\"p\">;</span>\n",
       "<span class=\"w\">  </span><span class=\"p\">}</span>\n",
       "<span class=\"w\">  </span><span class=\"k\">else</span><span class=\"w\"> </span><span class=\"k\">if</span><span class=\"w\"> </span><span class=\"p\">(</span><span class=\"n\">parent_</span><span class=\"p\">)</span><span class=\"w\"> </span><span class=\"p\">{</span>\n",
       "<span class=\"w\">    </span><span class=\"k\">return</span><span class=\"w\"> </span><span class=\"n\">parent_</span><span class=\"o\">-&gt;</span><span class=\"n\">del</span><span class=\"p\">(</span><span class=\"n\">name</span><span class=\"p\">,</span><span class=\"w\"> </span><span class=\"n\">stack</span><span class=\"p\">);</span>\n",
       "<span class=\"w\">  </span><span class=\"p\">}</span>\n",
       "<span class=\"w\">  </span><span class=\"k\">else</span><span class=\"w\"> </span><span class=\"p\">{</span>\n",
       "<span class=\"w\">    </span><span class=\"k\">throw</span><span class=\"w\"> </span><span class=\"n\">error</span><span class=\"p\">(</span><span class=\"n\">stack</span><span class=\"p\">,</span><span class=\"w\"> </span><span class=\"s\">&quot;there is no variable named &#39;&quot;</span><span class=\"w\"> </span><span class=\"o\">+</span><span class=\"w\"> </span><span class=\"n\">name</span><span class=\"w\"> </span><span class=\"o\">+</span><span class=\"w\"> </span><span class=\"s\">&quot;&#39;&quot;</span><span class=\"p\">);</span>\n",
       "<span class=\"w\">  </span><span class=\"p\">}</span>\n",
       "<span class=\"p\">}</span>\n",
       "\n",
       "\n",
       "<span class=\"n\">std</span><span class=\"o\">::</span><span class=\"n\">shared_ptr</span><span class=\"o\">&lt;</span><span class=\"n\">Object</span><span class=\"o\">&gt;</span><span class=\"w\"> </span><span class=\"n\">Scope</span><span class=\"o\">::</span><span class=\"n\">get</span><span class=\"p\">(</span>\n",
       "<span class=\"w\">  </span><span class=\"k\">const</span><span class=\"w\"> </span><span class=\"n\">std</span><span class=\"o\">::</span><span class=\"n\">string</span><span class=\"o\">&amp;</span><span class=\"w\"> </span><span class=\"n\">name</span><span class=\"p\">,</span>\n",
       "<span class=\"w\">  </span><span class=\"n\">std</span><span class=\"o\">::</span><span class=\"n\">vector</span><span class=\"o\">&lt;</span><span class=\"n\">std</span><span class=\"o\">::</span><span class=\"n\">shared_ptr</span><span class=\"o\">&lt;</span><span class=\"n\">ASTNode</span><span class=\"o\">&gt;&gt;&amp;</span><span class=\"w\"> </span><span class=\"n\">stack</span>\n",
       "<span class=\"p\">)</span><span class=\"w\"> </span><span class=\"p\">{</span>\n",
       "<span class=\"w\">  </span><span class=\"k\">if</span><span class=\"w\"> </span><span class=\"p\">(</span><span class=\"n\">objects_</span><span class=\"p\">.</span><span class=\"n\">count</span><span class=\"p\">(</span><span class=\"n\">name</span><span class=\"p\">))</span><span class=\"w\"> </span><span class=\"p\">{</span>\n",
       "<span class=\"w\">    </span><span class=\"k\">return</span><span class=\"w\"> </span><span class=\"n\">objects_</span><span class=\"p\">[</span><span class=\"n\">name</span><span class=\"p\">];</span>\n",
       "<span class=\"w\">  </span><span class=\"p\">}</span>\n",
       "<span class=\"w\">  </span><span class=\"k\">else</span><span class=\"w\"> </span><span class=\"k\">if</span><span class=\"w\"> </span><span class=\"p\">(</span><span class=\"n\">parent_</span><span class=\"p\">)</span><span class=\"w\"> </span><span class=\"p\">{</span>\n",
       "<span class=\"w\">    </span><span class=\"k\">return</span><span class=\"w\"> </span><span class=\"n\">parent_</span><span class=\"o\">-&gt;</span><span class=\"n\">get</span><span class=\"p\">(</span><span class=\"n\">name</span><span class=\"p\">,</span><span class=\"w\"> </span><span class=\"n\">stack</span><span class=\"p\">);</span>\n",
       "<span class=\"w\">  </span><span class=\"p\">}</span>\n",
       "<span class=\"w\">  </span><span class=\"k\">else</span><span class=\"w\"> </span><span class=\"p\">{</span>\n",
       "<span class=\"w\">    </span><span class=\"k\">throw</span><span class=\"w\"> </span><span class=\"n\">error</span><span class=\"p\">(</span><span class=\"n\">stack</span><span class=\"p\">,</span><span class=\"w\"> </span><span class=\"s\">&quot;there is no variable named &#39;&quot;</span><span class=\"w\"> </span><span class=\"o\">+</span><span class=\"w\"> </span><span class=\"n\">name</span><span class=\"w\"> </span><span class=\"o\">+</span><span class=\"w\"> </span><span class=\"s\">&quot;&#39;&quot;</span><span class=\"p\">);</span>\n",
       "<span class=\"w\">  </span><span class=\"p\">}</span>\n",
       "<span class=\"p\">}</span>\n",
       "\n",
       "\n",
       "<span class=\"c1\">//// Objects ///////////////////////////////////////////////////////////////</span>\n",
       "\n",
       "\n",
       "<span class=\"n\">std</span><span class=\"o\">::</span><span class=\"n\">string</span><span class=\"w\"> </span><span class=\"n\">ObjectInt</span><span class=\"o\">::</span><span class=\"n\">repr</span><span class=\"p\">(</span><span class=\"kt\">int</span><span class=\"o\">&amp;</span><span class=\"w\"> </span><span class=\"n\">remaining</span><span class=\"p\">)</span><span class=\"w\"> </span><span class=\"k\">const</span><span class=\"w\"> </span><span class=\"p\">{</span>\n",
       "<span class=\"w\">  </span><span class=\"k\">if</span><span class=\"w\"> </span><span class=\"p\">(</span><span class=\"n\">remaining</span><span class=\"w\"> </span><span class=\"o\">&lt;</span><span class=\"w\"> </span><span class=\"mi\">0</span><span class=\"p\">)</span><span class=\"w\"> </span><span class=\"p\">{</span>\n",
       "<span class=\"w\">    </span><span class=\"k\">return</span><span class=\"w\"> </span><span class=\"s\">&quot;&quot;</span><span class=\"p\">;</span>\n",
       "<span class=\"w\">  </span><span class=\"p\">}</span>\n",
       "\n",
       "<span class=\"w\">  </span><span class=\"n\">std</span><span class=\"o\">::</span><span class=\"n\">string</span><span class=\"w\"> </span><span class=\"n\">out</span><span class=\"w\"> </span><span class=\"o\">=</span><span class=\"w\"> </span><span class=\"n\">std</span><span class=\"o\">::</span><span class=\"n\">to_string</span><span class=\"p\">(</span><span class=\"n\">value_</span><span class=\"p\">);</span>\n",
       "\n",
       "<span class=\"w\">  </span><span class=\"n\">remaining</span><span class=\"w\"> </span><span class=\"o\">-=</span><span class=\"w\"> </span><span class=\"n\">out</span><span class=\"p\">.</span><span class=\"n\">size</span><span class=\"p\">();</span>\n",
       "\n",
       "<span class=\"w\">  </span><span class=\"k\">return</span><span class=\"w\"> </span><span class=\"n\">out</span><span class=\"p\">;</span>\n",
       "<span class=\"p\">}</span>\n",
       "\n",
       "\n",
       "<span class=\"n\">std</span><span class=\"o\">::</span><span class=\"n\">string</span><span class=\"w\"> </span><span class=\"n\">ObjectList</span><span class=\"o\">::</span><span class=\"n\">repr</span><span class=\"p\">(</span><span class=\"kt\">int</span><span class=\"o\">&amp;</span><span class=\"w\"> </span><span class=\"n\">remaining</span><span class=\"p\">)</span><span class=\"w\"> </span><span class=\"k\">const</span><span class=\"w\"> </span><span class=\"p\">{</span>\n",
       "<span class=\"w\">  </span><span class=\"k\">if</span><span class=\"w\"> </span><span class=\"p\">(</span><span class=\"n\">remaining</span><span class=\"w\"> </span><span class=\"o\">&lt;</span><span class=\"w\"> </span><span class=\"mi\">0</span><span class=\"p\">)</span><span class=\"w\"> </span><span class=\"p\">{</span>\n",
       "<span class=\"w\">    </span><span class=\"k\">return</span><span class=\"w\"> </span><span class=\"s\">&quot;&quot;</span><span class=\"p\">;</span>\n",
       "<span class=\"w\">  </span><span class=\"p\">}</span>\n",
       "\n",
       "<span class=\"w\">  </span><span class=\"n\">remaining</span><span class=\"o\">--</span><span class=\"p\">;</span>\n",
       "\n",
       "<span class=\"w\">  </span><span class=\"n\">std</span><span class=\"o\">::</span><span class=\"n\">string</span><span class=\"w\"> </span><span class=\"n\">out</span><span class=\"w\"> </span><span class=\"o\">=</span><span class=\"w\"> </span><span class=\"s\">&quot;[&quot;</span><span class=\"p\">;</span>\n",
       "<span class=\"w\">  </span><span class=\"k\">for</span><span class=\"w\"> </span><span class=\"p\">(</span><span class=\"kt\">int</span><span class=\"w\"> </span><span class=\"n\">i</span><span class=\"w\"> </span><span class=\"o\">=</span><span class=\"w\"> </span><span class=\"mi\">0</span><span class=\"p\">;</span><span class=\"w\">  </span><span class=\"n\">i</span><span class=\"w\"> </span><span class=\"o\">&lt;</span><span class=\"w\"> </span><span class=\"n\">values_</span><span class=\"p\">.</span><span class=\"n\">size</span><span class=\"p\">();</span><span class=\"w\">  </span><span class=\"n\">i</span><span class=\"o\">++</span><span class=\"p\">)</span><span class=\"w\"> </span><span class=\"p\">{</span>\n",
       "<span class=\"w\">    </span><span class=\"k\">if</span><span class=\"w\"> </span><span class=\"p\">(</span><span class=\"n\">i</span><span class=\"w\"> </span><span class=\"o\">!=</span><span class=\"w\"> </span><span class=\"mi\">0</span><span class=\"p\">)</span><span class=\"w\"> </span><span class=\"p\">{</span>\n",
       "<span class=\"w\">      </span><span class=\"n\">out</span><span class=\"w\"> </span><span class=\"o\">+=</span><span class=\"w\"> </span><span class=\"s\">&quot;, &quot;</span><span class=\"p\">;</span>\n",
       "<span class=\"w\">      </span><span class=\"n\">remaining</span><span class=\"w\"> </span><span class=\"o\">-=</span><span class=\"w\"> </span><span class=\"mi\">2</span><span class=\"p\">;</span>\n",
       "<span class=\"w\">    </span><span class=\"p\">}</span>\n",
       "<span class=\"w\">    </span><span class=\"n\">out</span><span class=\"w\"> </span><span class=\"o\">+=</span><span class=\"w\"> </span><span class=\"n\">values_</span><span class=\"p\">[</span><span class=\"n\">i</span><span class=\"p\">]</span><span class=\"o\">-&gt;</span><span class=\"n\">repr</span><span class=\"p\">(</span><span class=\"n\">remaining</span><span class=\"p\">);</span>\n",
       "\n",
       "<span class=\"w\">    </span><span class=\"k\">if</span><span class=\"w\"> </span><span class=\"p\">(</span><span class=\"n\">remaining</span><span class=\"w\"> </span><span class=\"o\">&lt;</span><span class=\"w\"> </span><span class=\"mi\">0</span><span class=\"p\">)</span><span class=\"w\"> </span><span class=\"p\">{</span>\n",
       "<span class=\"w\">      </span><span class=\"k\">break</span><span class=\"p\">;</span>\n",
       "<span class=\"w\">    </span><span class=\"p\">}</span>\n",
       "<span class=\"w\">  </span><span class=\"p\">}</span>\n",
       "\n",
       "<span class=\"w\">  </span><span class=\"k\">if</span><span class=\"w\"> </span><span class=\"p\">(</span><span class=\"n\">remaining</span><span class=\"w\"> </span><span class=\"o\">&gt;=</span><span class=\"w\"> </span><span class=\"mi\">0</span><span class=\"p\">)</span><span class=\"w\"> </span><span class=\"p\">{</span>\n",
       "<span class=\"w\">    </span><span class=\"n\">out</span><span class=\"w\"> </span><span class=\"o\">+=</span><span class=\"w\"> </span><span class=\"s\">&quot;]&quot;</span><span class=\"p\">;</span>\n",
       "<span class=\"w\">  </span><span class=\"p\">}</span>\n",
       "\n",
       "<span class=\"w\">  </span><span class=\"n\">remaining</span><span class=\"o\">--</span><span class=\"p\">;</span>\n",
       "\n",
       "<span class=\"w\">  </span><span class=\"k\">return</span><span class=\"w\"> </span><span class=\"n\">out</span><span class=\"p\">;</span>\n",
       "<span class=\"p\">}</span>\n",
       "\n",
       "\n",
       "<span class=\"n\">std</span><span class=\"o\">::</span><span class=\"n\">string</span><span class=\"w\"> </span><span class=\"n\">ObjectFunctionAdd</span><span class=\"o\">::</span><span class=\"n\">repr</span><span class=\"p\">(</span><span class=\"kt\">int</span><span class=\"o\">&amp;</span><span class=\"w\"> </span><span class=\"n\">remaining</span><span class=\"p\">)</span><span class=\"w\"> </span><span class=\"k\">const</span><span class=\"w\"> </span><span class=\"p\">{</span>\n",
       "<span class=\"w\">  </span><span class=\"k\">if</span><span class=\"w\"> </span><span class=\"p\">(</span><span class=\"n\">remaining</span><span class=\"w\"> </span><span class=\"o\">&lt;</span><span class=\"w\"> </span><span class=\"mi\">0</span><span class=\"p\">)</span><span class=\"w\"> </span><span class=\"p\">{</span>\n",
       "<span class=\"w\">    </span><span class=\"k\">return</span><span class=\"w\"> </span><span class=\"s\">&quot;&quot;</span><span class=\"p\">;</span>\n",
       "<span class=\"w\">  </span><span class=\"p\">}</span>\n",
       "\n",
       "<span class=\"w\">  </span><span class=\"n\">remaining</span><span class=\"w\"> </span><span class=\"o\">-=</span><span class=\"w\"> </span><span class=\"mi\">24</span><span class=\"p\">;</span>\n",
       "\n",
       "<span class=\"w\">  </span><span class=\"k\">return</span><span class=\"w\"> </span><span class=\"s\">&quot;&lt;builtin function &#39;add&#39;&gt;&quot;</span><span class=\"p\">;</span>\n",
       "<span class=\"p\">}</span>\n",
       "\n",
       "\n",
       "<span class=\"n\">std</span><span class=\"o\">::</span><span class=\"n\">shared_ptr</span><span class=\"o\">&lt;</span><span class=\"n\">Object</span><span class=\"o\">&gt;</span><span class=\"w\"> </span><span class=\"n\">ObjectFunctionAdd</span><span class=\"o\">::</span><span class=\"n\">run</span><span class=\"p\">(</span>\n",
       "<span class=\"w\">  </span><span class=\"n\">std</span><span class=\"o\">::</span><span class=\"n\">shared_ptr</span><span class=\"o\">&lt;</span><span class=\"n\">Scope</span><span class=\"o\">&gt;</span><span class=\"w\"> </span><span class=\"n\">scope</span><span class=\"p\">,</span>\n",
       "<span class=\"w\">  </span><span class=\"n\">std</span><span class=\"o\">::</span><span class=\"n\">vector</span><span class=\"o\">&lt;</span><span class=\"n\">std</span><span class=\"o\">::</span><span class=\"n\">shared_ptr</span><span class=\"o\">&lt;</span><span class=\"n\">ASTNode</span><span class=\"o\">&gt;&gt;&amp;</span><span class=\"w\"> </span><span class=\"n\">stack</span><span class=\"p\">,</span>\n",
       "<span class=\"w\">  </span><span class=\"n\">std</span><span class=\"o\">::</span><span class=\"n\">vector</span><span class=\"o\">&lt;</span><span class=\"n\">std</span><span class=\"o\">::</span><span class=\"n\">shared_ptr</span><span class=\"o\">&lt;</span><span class=\"n\">Object</span><span class=\"o\">&gt;&gt;</span><span class=\"w\"> </span><span class=\"n\">args</span>\n",
       "<span class=\"p\">)</span><span class=\"w\"> </span><span class=\"p\">{</span>\n",
       "<span class=\"w\">  </span><span class=\"k\">if</span><span class=\"w\"> </span><span class=\"p\">(</span><span class=\"n\">args</span><span class=\"p\">.</span><span class=\"n\">size</span><span class=\"p\">()</span><span class=\"w\"> </span><span class=\"o\">!=</span><span class=\"w\"> </span><span class=\"mi\">2</span><span class=\"p\">)</span><span class=\"w\"> </span><span class=\"p\">{</span>\n",
       "<span class=\"w\">    </span><span class=\"k\">throw</span><span class=\"w\"> </span><span class=\"n\">error</span><span class=\"p\">(</span><span class=\"n\">stack</span><span class=\"p\">,</span><span class=\"w\"> </span><span class=\"s\">&quot;&#39;add&#39; function takes exactly 2 arguments&quot;</span><span class=\"p\">);</span>\n",
       "<span class=\"w\">  </span><span class=\"p\">}</span>\n",
       "\n",
       "<span class=\"w\">  </span><span class=\"n\">std</span><span class=\"o\">::</span><span class=\"n\">shared_ptr</span><span class=\"o\">&lt;</span><span class=\"n\">ObjectInt</span><span class=\"o\">&gt;</span><span class=\"w\"> </span><span class=\"n\">arg0_int</span><span class=\"w\"> </span><span class=\"o\">=</span><span class=\"w\"> </span><span class=\"n\">std</span><span class=\"o\">::</span><span class=\"n\">dynamic_pointer_cast</span><span class=\"o\">&lt;</span><span class=\"n\">ObjectInt</span><span class=\"o\">&gt;</span><span class=\"p\">(</span><span class=\"n\">args</span><span class=\"p\">[</span><span class=\"mi\">0</span><span class=\"p\">]);</span>\n",
       "<span class=\"w\">  </span><span class=\"n\">std</span><span class=\"o\">::</span><span class=\"n\">shared_ptr</span><span class=\"o\">&lt;</span><span class=\"n\">ObjectInt</span><span class=\"o\">&gt;</span><span class=\"w\"> </span><span class=\"n\">arg1_int</span><span class=\"w\"> </span><span class=\"o\">=</span><span class=\"w\"> </span><span class=\"n\">std</span><span class=\"o\">::</span><span class=\"n\">dynamic_pointer_cast</span><span class=\"o\">&lt;</span><span class=\"n\">ObjectInt</span><span class=\"o\">&gt;</span><span class=\"p\">(</span><span class=\"n\">args</span><span class=\"p\">[</span><span class=\"mi\">1</span><span class=\"p\">]);</span>\n",
       "\n",
       "<span class=\"w\">  </span><span class=\"n\">std</span><span class=\"o\">::</span><span class=\"n\">shared_ptr</span><span class=\"o\">&lt;</span><span class=\"n\">ObjectList</span><span class=\"o\">&gt;</span><span class=\"w\"> </span><span class=\"n\">arg0_list</span><span class=\"w\"> </span><span class=\"o\">=</span><span class=\"w\"> </span><span class=\"n\">std</span><span class=\"o\">::</span><span class=\"n\">dynamic_pointer_cast</span><span class=\"o\">&lt;</span><span class=\"n\">ObjectList</span><span class=\"o\">&gt;</span><span class=\"p\">(</span><span class=\"n\">args</span><span class=\"p\">[</span><span class=\"mi\">0</span><span class=\"p\">]);</span>\n",
       "<span class=\"w\">  </span><span class=\"n\">std</span><span class=\"o\">::</span><span class=\"n\">shared_ptr</span><span class=\"o\">&lt;</span><span class=\"n\">ObjectList</span><span class=\"o\">&gt;</span><span class=\"w\"> </span><span class=\"n\">arg1_list</span><span class=\"w\"> </span><span class=\"o\">=</span><span class=\"w\"> </span><span class=\"n\">std</span><span class=\"o\">::</span><span class=\"n\">dynamic_pointer_cast</span><span class=\"o\">&lt;</span><span class=\"n\">ObjectList</span><span class=\"o\">&gt;</span><span class=\"p\">(</span><span class=\"n\">args</span><span class=\"p\">[</span><span class=\"mi\">1</span><span class=\"p\">]);</span>\n",
       "\n",
       "<span class=\"w\">  </span><span class=\"k\">if</span><span class=\"w\"> </span><span class=\"p\">(</span><span class=\"n\">arg0_int</span><span class=\"w\">  </span><span class=\"o\">&amp;&amp;</span><span class=\"w\">  </span><span class=\"n\">arg1_int</span><span class=\"p\">)</span><span class=\"w\"> </span><span class=\"p\">{</span>\n",
       "<span class=\"w\">    </span><span class=\"k\">return</span><span class=\"w\"> </span><span class=\"n\">std</span><span class=\"o\">::</span><span class=\"n\">make_shared</span><span class=\"o\">&lt;</span><span class=\"n\">ObjectInt</span><span class=\"o\">&gt;</span><span class=\"p\">(</span><span class=\"n\">arg0_int</span><span class=\"o\">-&gt;</span><span class=\"n\">value</span><span class=\"p\">()</span><span class=\"w\"> </span><span class=\"o\">+</span><span class=\"w\"> </span><span class=\"n\">arg1_int</span><span class=\"o\">-&gt;</span><span class=\"n\">value</span><span class=\"p\">());</span>\n",
       "<span class=\"w\">  </span><span class=\"p\">}</span>\n",
       "\n",
       "<span class=\"w\">  </span><span class=\"k\">else</span><span class=\"w\"> </span><span class=\"k\">if</span><span class=\"w\"> </span><span class=\"p\">(</span><span class=\"n\">arg0_list</span><span class=\"w\">  </span><span class=\"o\">&amp;&amp;</span><span class=\"w\">  </span><span class=\"n\">arg1_list</span><span class=\"p\">)</span><span class=\"w\"> </span><span class=\"p\">{</span>\n",
       "<span class=\"w\">    </span><span class=\"n\">std</span><span class=\"o\">::</span><span class=\"n\">vector</span><span class=\"o\">&lt;</span><span class=\"n\">std</span><span class=\"o\">::</span><span class=\"n\">shared_ptr</span><span class=\"o\">&lt;</span><span class=\"n\">Object</span><span class=\"o\">&gt;&gt;</span><span class=\"w\"> </span><span class=\"n\">values</span><span class=\"p\">;</span>\n",
       "<span class=\"w\">    </span><span class=\"k\">for</span><span class=\"w\"> </span><span class=\"p\">(</span><span class=\"kt\">int</span><span class=\"w\"> </span><span class=\"n\">i</span><span class=\"w\"> </span><span class=\"o\">=</span><span class=\"w\"> </span><span class=\"mi\">0</span><span class=\"p\">;</span><span class=\"w\">  </span><span class=\"n\">i</span><span class=\"w\"> </span><span class=\"o\">&lt;</span><span class=\"w\"> </span><span class=\"n\">arg0_list</span><span class=\"o\">-&gt;</span><span class=\"n\">values</span><span class=\"p\">().</span><span class=\"n\">size</span><span class=\"p\">();</span><span class=\"w\">  </span><span class=\"n\">i</span><span class=\"o\">++</span><span class=\"p\">)</span><span class=\"w\"> </span><span class=\"p\">{</span>\n",
       "<span class=\"w\">      </span><span class=\"n\">values</span><span class=\"p\">.</span><span class=\"n\">push_back</span><span class=\"p\">(</span><span class=\"n\">arg0_list</span><span class=\"o\">-&gt;</span><span class=\"n\">values</span><span class=\"p\">()[</span><span class=\"n\">i</span><span class=\"p\">]);</span>\n",
       "<span class=\"w\">    </span><span class=\"p\">}</span>\n",
       "<span class=\"w\">    </span><span class=\"k\">for</span><span class=\"w\"> </span><span class=\"p\">(</span><span class=\"kt\">int</span><span class=\"w\"> </span><span class=\"n\">i</span><span class=\"w\"> </span><span class=\"o\">=</span><span class=\"w\"> </span><span class=\"mi\">0</span><span class=\"p\">;</span><span class=\"w\">  </span><span class=\"n\">i</span><span class=\"w\"> </span><span class=\"o\">&lt;</span><span class=\"w\"> </span><span class=\"n\">arg1_list</span><span class=\"o\">-&gt;</span><span class=\"n\">values</span><span class=\"p\">().</span><span class=\"n\">size</span><span class=\"p\">();</span><span class=\"w\">  </span><span class=\"n\">i</span><span class=\"o\">++</span><span class=\"p\">)</span><span class=\"w\"> </span><span class=\"p\">{</span>\n",
       "<span class=\"w\">      </span><span class=\"n\">values</span><span class=\"p\">.</span><span class=\"n\">push_back</span><span class=\"p\">(</span><span class=\"n\">arg1_list</span><span class=\"o\">-&gt;</span><span class=\"n\">values</span><span class=\"p\">()[</span><span class=\"n\">i</span><span class=\"p\">]);</span>\n",
       "<span class=\"w\">    </span><span class=\"p\">}</span>\n",
       "<span class=\"w\">    </span><span class=\"k\">return</span><span class=\"w\"> </span><span class=\"n\">std</span><span class=\"o\">::</span><span class=\"n\">make_shared</span><span class=\"o\">&lt;</span><span class=\"n\">ObjectList</span><span class=\"o\">&gt;</span><span class=\"p\">(</span><span class=\"n\">values</span><span class=\"p\">);</span>\n",
       "<span class=\"w\">  </span><span class=\"p\">}</span>\n",
       "\n",
       "<span class=\"w\">  </span><span class=\"k\">else</span><span class=\"w\"> </span><span class=\"p\">{</span>\n",
       "<span class=\"w\">    </span><span class=\"k\">throw</span><span class=\"w\"> </span><span class=\"n\">error</span><span class=\"p\">(</span><span class=\"n\">stack</span><span class=\"p\">,</span><span class=\"w\"> </span><span class=\"s\">&quot;&#39;add&#39; function&#39;s arguments must both be integers or both be lists&quot;</span><span class=\"p\">);</span>\n",
       "<span class=\"w\">  </span><span class=\"p\">}</span>\n",
       "<span class=\"p\">}</span>\n",
       "\n",
       "\n",
       "<span class=\"n\">std</span><span class=\"o\">::</span><span class=\"n\">string</span><span class=\"w\"> </span><span class=\"n\">ObjectFunctionMul</span><span class=\"o\">::</span><span class=\"n\">repr</span><span class=\"p\">(</span><span class=\"kt\">int</span><span class=\"o\">&amp;</span><span class=\"w\"> </span><span class=\"n\">remaining</span><span class=\"p\">)</span><span class=\"w\"> </span><span class=\"k\">const</span><span class=\"w\"> </span><span class=\"p\">{</span>\n",
       "<span class=\"w\">  </span><span class=\"k\">if</span><span class=\"w\"> </span><span class=\"p\">(</span><span class=\"n\">remaining</span><span class=\"w\"> </span><span class=\"o\">&lt;</span><span class=\"w\"> </span><span class=\"mi\">0</span><span class=\"p\">)</span><span class=\"w\"> </span><span class=\"p\">{</span>\n",
       "<span class=\"w\">    </span><span class=\"k\">return</span><span class=\"w\"> </span><span class=\"s\">&quot;&quot;</span><span class=\"p\">;</span>\n",
       "<span class=\"w\">  </span><span class=\"p\">}</span>\n",
       "\n",
       "<span class=\"w\">  </span><span class=\"n\">remaining</span><span class=\"w\"> </span><span class=\"o\">-=</span><span class=\"w\"> </span><span class=\"mi\">24</span><span class=\"p\">;</span>\n",
       "\n",
       "<span class=\"w\">  </span><span class=\"k\">return</span><span class=\"w\"> </span><span class=\"s\">&quot;&lt;builtin function &#39;mul&#39;&gt;&quot;</span><span class=\"p\">;</span>\n",
       "<span class=\"p\">}</span>\n",
       "\n",
       "\n",
       "<span class=\"n\">std</span><span class=\"o\">::</span><span class=\"n\">shared_ptr</span><span class=\"o\">&lt;</span><span class=\"n\">Object</span><span class=\"o\">&gt;</span><span class=\"w\"> </span><span class=\"n\">ObjectFunctionMul</span><span class=\"o\">::</span><span class=\"n\">run</span><span class=\"p\">(</span>\n",
       "<span class=\"w\">  </span><span class=\"n\">std</span><span class=\"o\">::</span><span class=\"n\">shared_ptr</span><span class=\"o\">&lt;</span><span class=\"n\">Scope</span><span class=\"o\">&gt;</span><span class=\"w\"> </span><span class=\"n\">scope</span><span class=\"p\">,</span>\n",
       "<span class=\"w\">  </span><span class=\"n\">std</span><span class=\"o\">::</span><span class=\"n\">vector</span><span class=\"o\">&lt;</span><span class=\"n\">std</span><span class=\"o\">::</span><span class=\"n\">shared_ptr</span><span class=\"o\">&lt;</span><span class=\"n\">ASTNode</span><span class=\"o\">&gt;&gt;&amp;</span><span class=\"w\"> </span><span class=\"n\">stack</span><span class=\"p\">,</span>\n",
       "<span class=\"w\">  </span><span class=\"n\">std</span><span class=\"o\">::</span><span class=\"n\">vector</span><span class=\"o\">&lt;</span><span class=\"n\">std</span><span class=\"o\">::</span><span class=\"n\">shared_ptr</span><span class=\"o\">&lt;</span><span class=\"n\">Object</span><span class=\"o\">&gt;&gt;</span><span class=\"w\"> </span><span class=\"n\">args</span>\n",
       "<span class=\"p\">)</span><span class=\"w\"> </span><span class=\"p\">{</span>\n",
       "<span class=\"w\">  </span><span class=\"k\">if</span><span class=\"w\"> </span><span class=\"p\">(</span><span class=\"n\">args</span><span class=\"p\">.</span><span class=\"n\">size</span><span class=\"p\">()</span><span class=\"w\"> </span><span class=\"o\">!=</span><span class=\"w\"> </span><span class=\"mi\">2</span><span class=\"p\">)</span><span class=\"w\"> </span><span class=\"p\">{</span>\n",
       "<span class=\"w\">    </span><span class=\"k\">throw</span><span class=\"w\"> </span><span class=\"n\">error</span><span class=\"p\">(</span><span class=\"n\">stack</span><span class=\"p\">,</span><span class=\"w\"> </span><span class=\"s\">&quot;&#39;mul&#39; function takes exactly 2 arguments&quot;</span><span class=\"p\">);</span>\n",
       "<span class=\"w\">  </span><span class=\"p\">}</span>\n",
       "\n",
       "<span class=\"w\">  </span><span class=\"n\">std</span><span class=\"o\">::</span><span class=\"n\">shared_ptr</span><span class=\"o\">&lt;</span><span class=\"n\">ObjectInt</span><span class=\"o\">&gt;</span><span class=\"w\"> </span><span class=\"n\">arg0_int</span><span class=\"w\"> </span><span class=\"o\">=</span><span class=\"w\"> </span><span class=\"n\">std</span><span class=\"o\">::</span><span class=\"n\">dynamic_pointer_cast</span><span class=\"o\">&lt;</span><span class=\"n\">ObjectInt</span><span class=\"o\">&gt;</span><span class=\"p\">(</span><span class=\"n\">args</span><span class=\"p\">[</span><span class=\"mi\">0</span><span class=\"p\">]);</span>\n",
       "<span class=\"w\">  </span><span class=\"n\">std</span><span class=\"o\">::</span><span class=\"n\">shared_ptr</span><span class=\"o\">&lt;</span><span class=\"n\">ObjectInt</span><span class=\"o\">&gt;</span><span class=\"w\"> </span><span class=\"n\">arg1_int</span><span class=\"w\"> </span><span class=\"o\">=</span><span class=\"w\"> </span><span class=\"n\">std</span><span class=\"o\">::</span><span class=\"n\">dynamic_pointer_cast</span><span class=\"o\">&lt;</span><span class=\"n\">ObjectInt</span><span class=\"o\">&gt;</span><span class=\"p\">(</span><span class=\"n\">args</span><span class=\"p\">[</span><span class=\"mi\">1</span><span class=\"p\">]);</span>\n",
       "\n",
       "<span class=\"w\">  </span><span class=\"k\">if</span><span class=\"w\"> </span><span class=\"p\">(</span><span class=\"n\">arg0_int</span><span class=\"w\">  </span><span class=\"o\">&amp;&amp;</span><span class=\"w\">  </span><span class=\"n\">arg1_int</span><span class=\"p\">)</span><span class=\"w\"> </span><span class=\"p\">{</span>\n",
       "<span class=\"w\">    </span><span class=\"k\">return</span><span class=\"w\"> </span><span class=\"n\">std</span><span class=\"o\">::</span><span class=\"n\">make_shared</span><span class=\"o\">&lt;</span><span class=\"n\">ObjectInt</span><span class=\"o\">&gt;</span><span class=\"p\">(</span><span class=\"n\">arg0_int</span><span class=\"o\">-&gt;</span><span class=\"n\">value</span><span class=\"p\">()</span><span class=\"w\"> </span><span class=\"o\">*</span><span class=\"w\"> </span><span class=\"n\">arg1_int</span><span class=\"o\">-&gt;</span><span class=\"n\">value</span><span class=\"p\">());</span>\n",
       "<span class=\"w\">  </span><span class=\"p\">}</span>\n",
       "\n",
       "<span class=\"w\">  </span><span class=\"k\">else</span><span class=\"w\"> </span><span class=\"p\">{</span>\n",
       "<span class=\"w\">    </span><span class=\"k\">throw</span><span class=\"w\"> </span><span class=\"n\">error</span><span class=\"p\">(</span><span class=\"n\">stack</span><span class=\"p\">,</span><span class=\"w\"> </span><span class=\"s\">&quot;&#39;mul&#39; function&#39;s arguments must both be integers&quot;</span><span class=\"p\">);</span>\n",
       "<span class=\"w\">  </span><span class=\"p\">}</span>\n",
       "<span class=\"p\">}</span>\n",
       "\n",
       "\n",
       "<span class=\"n\">std</span><span class=\"o\">::</span><span class=\"n\">string</span><span class=\"w\"> </span><span class=\"n\">ObjectFunctionGet</span><span class=\"o\">::</span><span class=\"n\">repr</span><span class=\"p\">(</span><span class=\"kt\">int</span><span class=\"o\">&amp;</span><span class=\"w\"> </span><span class=\"n\">remaining</span><span class=\"p\">)</span><span class=\"w\"> </span><span class=\"k\">const</span><span class=\"w\"> </span><span class=\"p\">{</span>\n",
       "<span class=\"w\">  </span><span class=\"k\">if</span><span class=\"w\"> </span><span class=\"p\">(</span><span class=\"n\">remaining</span><span class=\"w\"> </span><span class=\"o\">&lt;</span><span class=\"w\"> </span><span class=\"mi\">0</span><span class=\"p\">)</span><span class=\"w\"> </span><span class=\"p\">{</span>\n",
       "<span class=\"w\">    </span><span class=\"k\">return</span><span class=\"w\"> </span><span class=\"s\">&quot;&quot;</span><span class=\"p\">;</span>\n",
       "<span class=\"w\">  </span><span class=\"p\">}</span>\n",
       "\n",
       "<span class=\"w\">  </span><span class=\"n\">remaining</span><span class=\"w\"> </span><span class=\"o\">-=</span><span class=\"w\"> </span><span class=\"mi\">24</span><span class=\"p\">;</span>\n",
       "\n",
       "<span class=\"w\">  </span><span class=\"k\">return</span><span class=\"w\"> </span><span class=\"s\">&quot;&lt;builtin function &#39;get&#39;&gt;&quot;</span><span class=\"p\">;</span>\n",
       "<span class=\"p\">}</span>\n",
       "\n",
       "\n",
       "<span class=\"n\">std</span><span class=\"o\">::</span><span class=\"n\">shared_ptr</span><span class=\"o\">&lt;</span><span class=\"n\">Object</span><span class=\"o\">&gt;</span><span class=\"w\"> </span><span class=\"n\">ObjectFunctionGet</span><span class=\"o\">::</span><span class=\"n\">run</span><span class=\"p\">(</span>\n",
       "<span class=\"w\">  </span><span class=\"n\">std</span><span class=\"o\">::</span><span class=\"n\">shared_ptr</span><span class=\"o\">&lt;</span><span class=\"n\">Scope</span><span class=\"o\">&gt;</span><span class=\"w\"> </span><span class=\"n\">scope</span><span class=\"p\">,</span>\n",
       "<span class=\"w\">  </span><span class=\"n\">std</span><span class=\"o\">::</span><span class=\"n\">vector</span><span class=\"o\">&lt;</span><span class=\"n\">std</span><span class=\"o\">::</span><span class=\"n\">shared_ptr</span><span class=\"o\">&lt;</span><span class=\"n\">ASTNode</span><span class=\"o\">&gt;&gt;&amp;</span><span class=\"w\"> </span><span class=\"n\">stack</span><span class=\"p\">,</span>\n",
       "<span class=\"w\">  </span><span class=\"n\">std</span><span class=\"o\">::</span><span class=\"n\">vector</span><span class=\"o\">&lt;</span><span class=\"n\">std</span><span class=\"o\">::</span><span class=\"n\">shared_ptr</span><span class=\"o\">&lt;</span><span class=\"n\">Object</span><span class=\"o\">&gt;&gt;</span><span class=\"w\"> </span><span class=\"n\">args</span>\n",
       "<span class=\"p\">)</span><span class=\"w\"> </span><span class=\"p\">{</span>\n",
       "<span class=\"w\">  </span><span class=\"k\">if</span><span class=\"w\"> </span><span class=\"p\">(</span><span class=\"n\">args</span><span class=\"p\">.</span><span class=\"n\">size</span><span class=\"p\">()</span><span class=\"w\"> </span><span class=\"o\">!=</span><span class=\"w\"> </span><span class=\"mi\">2</span><span class=\"p\">)</span><span class=\"w\"> </span><span class=\"p\">{</span>\n",
       "<span class=\"w\">    </span><span class=\"k\">throw</span><span class=\"w\"> </span><span class=\"n\">error</span><span class=\"p\">(</span><span class=\"n\">stack</span><span class=\"p\">,</span><span class=\"w\"> </span><span class=\"s\">&quot;&#39;get&#39; function takes exactly 2 arguments&quot;</span><span class=\"p\">);</span>\n",
       "<span class=\"w\">  </span><span class=\"p\">}</span>\n",
       "\n",
       "<span class=\"w\">  </span><span class=\"n\">std</span><span class=\"o\">::</span><span class=\"n\">shared_ptr</span><span class=\"o\">&lt;</span><span class=\"n\">ObjectList</span><span class=\"o\">&gt;</span><span class=\"w\"> </span><span class=\"n\">arg0_list</span><span class=\"w\"> </span><span class=\"o\">=</span><span class=\"w\"> </span><span class=\"n\">std</span><span class=\"o\">::</span><span class=\"n\">dynamic_pointer_cast</span><span class=\"o\">&lt;</span><span class=\"n\">ObjectList</span><span class=\"o\">&gt;</span><span class=\"p\">(</span><span class=\"n\">args</span><span class=\"p\">[</span><span class=\"mi\">0</span><span class=\"p\">]);</span>\n",
       "<span class=\"w\">  </span><span class=\"n\">std</span><span class=\"o\">::</span><span class=\"n\">shared_ptr</span><span class=\"o\">&lt;</span><span class=\"n\">ObjectInt</span><span class=\"o\">&gt;</span><span class=\"w\"> </span><span class=\"n\">arg1_int</span><span class=\"w\"> </span><span class=\"o\">=</span><span class=\"w\"> </span><span class=\"n\">std</span><span class=\"o\">::</span><span class=\"n\">dynamic_pointer_cast</span><span class=\"o\">&lt;</span><span class=\"n\">ObjectInt</span><span class=\"o\">&gt;</span><span class=\"p\">(</span><span class=\"n\">args</span><span class=\"p\">[</span><span class=\"mi\">1</span><span class=\"p\">]);</span>\n",
       "\n",
       "<span class=\"w\">  </span><span class=\"k\">if</span><span class=\"w\"> </span><span class=\"p\">(</span><span class=\"n\">arg0_list</span><span class=\"w\">  </span><span class=\"o\">&amp;&amp;</span><span class=\"w\">  </span><span class=\"n\">arg1_int</span><span class=\"p\">)</span><span class=\"w\"> </span><span class=\"p\">{</span>\n",
       "<span class=\"w\">    </span><span class=\"k\">return</span><span class=\"w\"> </span><span class=\"n\">arg0_list</span><span class=\"o\">-&gt;</span><span class=\"n\">values</span><span class=\"p\">()[</span><span class=\"n\">arg1_int</span><span class=\"o\">-&gt;</span><span class=\"n\">value</span><span class=\"p\">()];</span>\n",
       "<span class=\"w\">  </span><span class=\"p\">}</span>\n",
       "\n",
       "<span class=\"w\">  </span><span class=\"k\">else</span><span class=\"w\"> </span><span class=\"p\">{</span>\n",
       "<span class=\"w\">    </span><span class=\"k\">throw</span><span class=\"w\"> </span><span class=\"n\">error</span><span class=\"p\">(</span><span class=\"n\">stack</span><span class=\"p\">,</span><span class=\"w\"> </span><span class=\"s\">&quot;&#39;get&#39; function&#39;s arguments must be a list (first) and an integer (second)&quot;</span><span class=\"p\">);</span>\n",
       "<span class=\"w\">  </span><span class=\"p\">}</span>\n",
       "<span class=\"p\">}</span>\n",
       "\n",
       "\n",
       "<span class=\"n\">std</span><span class=\"o\">::</span><span class=\"n\">string</span><span class=\"w\"> </span><span class=\"n\">ObjectFunctionLen</span><span class=\"o\">::</span><span class=\"n\">repr</span><span class=\"p\">(</span><span class=\"kt\">int</span><span class=\"o\">&amp;</span><span class=\"w\"> </span><span class=\"n\">remaining</span><span class=\"p\">)</span><span class=\"w\"> </span><span class=\"k\">const</span><span class=\"w\"> </span><span class=\"p\">{</span>\n",
       "<span class=\"w\">  </span><span class=\"k\">if</span><span class=\"w\"> </span><span class=\"p\">(</span><span class=\"n\">remaining</span><span class=\"w\"> </span><span class=\"o\">&lt;</span><span class=\"w\"> </span><span class=\"mi\">0</span><span class=\"p\">)</span><span class=\"w\"> </span><span class=\"p\">{</span>\n",
       "<span class=\"w\">    </span><span class=\"k\">return</span><span class=\"w\"> </span><span class=\"s\">&quot;&quot;</span><span class=\"p\">;</span>\n",
       "<span class=\"w\">  </span><span class=\"p\">}</span>\n",
       "\n",
       "<span class=\"w\">  </span><span class=\"n\">remaining</span><span class=\"w\"> </span><span class=\"o\">-=</span><span class=\"w\"> </span><span class=\"mi\">24</span><span class=\"p\">;</span>\n",
       "\n",
       "<span class=\"w\">  </span><span class=\"k\">return</span><span class=\"w\"> </span><span class=\"s\">&quot;&lt;builtin function &#39;len&#39;&gt;&quot;</span><span class=\"p\">;</span>\n",
       "<span class=\"p\">}</span>\n",
       "\n",
       "\n",
       "<span class=\"n\">std</span><span class=\"o\">::</span><span class=\"n\">shared_ptr</span><span class=\"o\">&lt;</span><span class=\"n\">Object</span><span class=\"o\">&gt;</span><span class=\"w\"> </span><span class=\"n\">ObjectFunctionLen</span><span class=\"o\">::</span><span class=\"n\">run</span><span class=\"p\">(</span>\n",
       "<span class=\"w\">  </span><span class=\"n\">std</span><span class=\"o\">::</span><span class=\"n\">shared_ptr</span><span class=\"o\">&lt;</span><span class=\"n\">Scope</span><span class=\"o\">&gt;</span><span class=\"w\"> </span><span class=\"n\">scope</span><span class=\"p\">,</span>\n",
       "<span class=\"w\">  </span><span class=\"n\">std</span><span class=\"o\">::</span><span class=\"n\">vector</span><span class=\"o\">&lt;</span><span class=\"n\">std</span><span class=\"o\">::</span><span class=\"n\">shared_ptr</span><span class=\"o\">&lt;</span><span class=\"n\">ASTNode</span><span class=\"o\">&gt;&gt;&amp;</span><span class=\"w\"> </span><span class=\"n\">stack</span><span class=\"p\">,</span>\n",
       "<span class=\"w\">  </span><span class=\"n\">std</span><span class=\"o\">::</span><span class=\"n\">vector</span><span class=\"o\">&lt;</span><span class=\"n\">std</span><span class=\"o\">::</span><span class=\"n\">shared_ptr</span><span class=\"o\">&lt;</span><span class=\"n\">Object</span><span class=\"o\">&gt;&gt;</span><span class=\"w\"> </span><span class=\"n\">args</span>\n",
       "<span class=\"p\">)</span><span class=\"w\"> </span><span class=\"p\">{</span>\n",
       "<span class=\"w\">  </span><span class=\"k\">if</span><span class=\"w\"> </span><span class=\"p\">(</span><span class=\"n\">args</span><span class=\"p\">.</span><span class=\"n\">size</span><span class=\"p\">()</span><span class=\"w\"> </span><span class=\"o\">!=</span><span class=\"w\"> </span><span class=\"mi\">1</span><span class=\"p\">)</span><span class=\"w\"> </span><span class=\"p\">{</span>\n",
       "<span class=\"w\">    </span><span class=\"k\">throw</span><span class=\"w\"> </span><span class=\"n\">error</span><span class=\"p\">(</span><span class=\"n\">stack</span><span class=\"p\">,</span><span class=\"w\"> </span><span class=\"s\">&quot;&#39;len&#39; function takes exactly 1 argument&quot;</span><span class=\"p\">);</span>\n",
       "<span class=\"w\">  </span><span class=\"p\">}</span>\n",
       "\n",
       "<span class=\"w\">  </span><span class=\"n\">std</span><span class=\"o\">::</span><span class=\"n\">shared_ptr</span><span class=\"o\">&lt;</span><span class=\"n\">ObjectList</span><span class=\"o\">&gt;</span><span class=\"w\"> </span><span class=\"n\">arg0_list</span><span class=\"w\"> </span><span class=\"o\">=</span><span class=\"w\"> </span><span class=\"n\">std</span><span class=\"o\">::</span><span class=\"n\">dynamic_pointer_cast</span><span class=\"o\">&lt;</span><span class=\"n\">ObjectList</span><span class=\"o\">&gt;</span><span class=\"p\">(</span><span class=\"n\">args</span><span class=\"p\">[</span><span class=\"mi\">0</span><span class=\"p\">]);</span>\n",
       "\n",
       "<span class=\"w\">  </span><span class=\"k\">if</span><span class=\"w\"> </span><span class=\"p\">(</span><span class=\"n\">arg0_list</span><span class=\"p\">)</span><span class=\"w\"> </span><span class=\"p\">{</span>\n",
       "<span class=\"w\">    </span><span class=\"k\">return</span><span class=\"w\"> </span><span class=\"n\">std</span><span class=\"o\">::</span><span class=\"n\">make_shared</span><span class=\"o\">&lt;</span><span class=\"n\">ObjectInt</span><span class=\"o\">&gt;</span><span class=\"p\">(</span><span class=\"n\">arg0_list</span><span class=\"o\">-&gt;</span><span class=\"n\">values</span><span class=\"p\">().</span><span class=\"n\">size</span><span class=\"p\">());</span>\n",
       "<span class=\"w\">  </span><span class=\"p\">}</span>\n",
       "\n",
       "<span class=\"w\">  </span><span class=\"k\">else</span><span class=\"w\"> </span><span class=\"p\">{</span>\n",
       "<span class=\"w\">    </span><span class=\"k\">throw</span><span class=\"w\"> </span><span class=\"n\">error</span><span class=\"p\">(</span><span class=\"n\">stack</span><span class=\"p\">,</span><span class=\"w\"> </span><span class=\"s\">&quot;&#39;len&#39; function&#39;s argument must be a list&quot;</span><span class=\"p\">);</span>\n",
       "<span class=\"w\">  </span><span class=\"p\">}</span>\n",
       "<span class=\"p\">}</span>\n",
       "\n",
       "\n",
       "<span class=\"n\">std</span><span class=\"o\">::</span><span class=\"n\">string</span><span class=\"w\"> </span><span class=\"n\">ObjectFunctionMap</span><span class=\"o\">::</span><span class=\"n\">repr</span><span class=\"p\">(</span><span class=\"kt\">int</span><span class=\"o\">&amp;</span><span class=\"w\"> </span><span class=\"n\">remaining</span><span class=\"p\">)</span><span class=\"w\"> </span><span class=\"k\">const</span><span class=\"w\"> </span><span class=\"p\">{</span>\n",
       "<span class=\"w\">  </span><span class=\"k\">if</span><span class=\"w\"> </span><span class=\"p\">(</span><span class=\"n\">remaining</span><span class=\"w\"> </span><span class=\"o\">&lt;</span><span class=\"w\"> </span><span class=\"mi\">0</span><span class=\"p\">)</span><span class=\"w\"> </span><span class=\"p\">{</span>\n",
       "<span class=\"w\">    </span><span class=\"k\">return</span><span class=\"w\"> </span><span class=\"s\">&quot;&quot;</span><span class=\"p\">;</span>\n",
       "<span class=\"w\">  </span><span class=\"p\">}</span>\n",
       "\n",
       "<span class=\"w\">  </span><span class=\"n\">remaining</span><span class=\"w\"> </span><span class=\"o\">-=</span><span class=\"w\"> </span><span class=\"mi\">24</span><span class=\"p\">;</span>\n",
       "\n",
       "<span class=\"w\">  </span><span class=\"k\">return</span><span class=\"w\"> </span><span class=\"s\">&quot;&lt;builtin function &#39;map&#39;&gt;&quot;</span><span class=\"p\">;</span>\n",
       "<span class=\"p\">}</span>\n",
       "\n",
       "\n",
       "<span class=\"n\">std</span><span class=\"o\">::</span><span class=\"n\">shared_ptr</span><span class=\"o\">&lt;</span><span class=\"n\">Object</span><span class=\"o\">&gt;</span><span class=\"w\"> </span><span class=\"n\">ObjectFunctionMap</span><span class=\"o\">::</span><span class=\"n\">run</span><span class=\"p\">(</span>\n",
       "<span class=\"w\">  </span><span class=\"n\">std</span><span class=\"o\">::</span><span class=\"n\">shared_ptr</span><span class=\"o\">&lt;</span><span class=\"n\">Scope</span><span class=\"o\">&gt;</span><span class=\"w\"> </span><span class=\"n\">scope</span><span class=\"p\">,</span>\n",
       "<span class=\"w\">  </span><span class=\"n\">std</span><span class=\"o\">::</span><span class=\"n\">vector</span><span class=\"o\">&lt;</span><span class=\"n\">std</span><span class=\"o\">::</span><span class=\"n\">shared_ptr</span><span class=\"o\">&lt;</span><span class=\"n\">ASTNode</span><span class=\"o\">&gt;&gt;&amp;</span><span class=\"w\"> </span><span class=\"n\">stack</span><span class=\"p\">,</span>\n",
       "<span class=\"w\">  </span><span class=\"n\">std</span><span class=\"o\">::</span><span class=\"n\">vector</span><span class=\"o\">&lt;</span><span class=\"n\">std</span><span class=\"o\">::</span><span class=\"n\">shared_ptr</span><span class=\"o\">&lt;</span><span class=\"n\">Object</span><span class=\"o\">&gt;&gt;</span><span class=\"w\"> </span><span class=\"n\">args</span>\n",
       "<span class=\"p\">)</span><span class=\"w\"> </span><span class=\"p\">{</span>\n",
       "<span class=\"w\">  </span><span class=\"k\">if</span><span class=\"w\"> </span><span class=\"p\">(</span><span class=\"n\">args</span><span class=\"p\">.</span><span class=\"n\">size</span><span class=\"p\">()</span><span class=\"w\"> </span><span class=\"o\">!=</span><span class=\"w\"> </span><span class=\"mi\">2</span><span class=\"p\">)</span><span class=\"w\"> </span><span class=\"p\">{</span>\n",
       "<span class=\"w\">    </span><span class=\"k\">throw</span><span class=\"w\"> </span><span class=\"n\">error</span><span class=\"p\">(</span><span class=\"n\">stack</span><span class=\"p\">,</span><span class=\"w\"> </span><span class=\"s\">&quot;&#39;map&#39; function takes exactly 2 arguments&quot;</span><span class=\"p\">);</span>\n",
       "<span class=\"w\">  </span><span class=\"p\">}</span>\n",
       "\n",
       "<span class=\"w\">  </span><span class=\"n\">std</span><span class=\"o\">::</span><span class=\"n\">shared_ptr</span><span class=\"o\">&lt;</span><span class=\"n\">ObjectFunction</span><span class=\"o\">&gt;</span><span class=\"w\"> </span><span class=\"n\">arg0_function</span><span class=\"w\"> </span><span class=\"o\">=</span><span class=\"w\"> </span><span class=\"n\">std</span><span class=\"o\">::</span><span class=\"n\">dynamic_pointer_cast</span><span class=\"o\">&lt;</span><span class=\"n\">ObjectFunction</span><span class=\"o\">&gt;</span><span class=\"p\">(</span><span class=\"n\">args</span><span class=\"p\">[</span><span class=\"mi\">0</span><span class=\"p\">]);</span>\n",
       "<span class=\"w\">  </span><span class=\"n\">std</span><span class=\"o\">::</span><span class=\"n\">shared_ptr</span><span class=\"o\">&lt;</span><span class=\"n\">ObjectList</span><span class=\"o\">&gt;</span><span class=\"w\"> </span><span class=\"n\">arg1_list</span><span class=\"w\"> </span><span class=\"o\">=</span><span class=\"w\"> </span><span class=\"n\">std</span><span class=\"o\">::</span><span class=\"n\">dynamic_pointer_cast</span><span class=\"o\">&lt;</span><span class=\"n\">ObjectList</span><span class=\"o\">&gt;</span><span class=\"p\">(</span><span class=\"n\">args</span><span class=\"p\">[</span><span class=\"mi\">1</span><span class=\"p\">]);</span>\n",
       "\n",
       "<span class=\"w\">  </span><span class=\"k\">if</span><span class=\"w\"> </span><span class=\"p\">(</span><span class=\"n\">arg0_function</span><span class=\"w\">  </span><span class=\"o\">&amp;&amp;</span><span class=\"w\">  </span><span class=\"n\">arg1_list</span><span class=\"p\">)</span><span class=\"w\"> </span><span class=\"p\">{</span>\n",
       "<span class=\"w\">    </span><span class=\"n\">std</span><span class=\"o\">::</span><span class=\"n\">vector</span><span class=\"o\">&lt;</span><span class=\"n\">std</span><span class=\"o\">::</span><span class=\"n\">shared_ptr</span><span class=\"o\">&lt;</span><span class=\"n\">Object</span><span class=\"o\">&gt;&gt;</span><span class=\"w\"> </span><span class=\"n\">values</span><span class=\"p\">;</span>\n",
       "<span class=\"w\">    </span><span class=\"k\">for</span><span class=\"w\"> </span><span class=\"p\">(</span><span class=\"kt\">int</span><span class=\"w\"> </span><span class=\"n\">i</span><span class=\"w\"> </span><span class=\"o\">=</span><span class=\"w\"> </span><span class=\"mi\">0</span><span class=\"p\">;</span><span class=\"w\">  </span><span class=\"n\">i</span><span class=\"w\"> </span><span class=\"o\">&lt;</span><span class=\"w\"> </span><span class=\"n\">arg1_list</span><span class=\"o\">-&gt;</span><span class=\"n\">values</span><span class=\"p\">().</span><span class=\"n\">size</span><span class=\"p\">();</span><span class=\"w\">  </span><span class=\"n\">i</span><span class=\"o\">++</span><span class=\"p\">)</span><span class=\"w\"> </span><span class=\"p\">{</span>\n",
       "<span class=\"w\">      </span><span class=\"n\">std</span><span class=\"o\">::</span><span class=\"n\">vector</span><span class=\"o\">&lt;</span><span class=\"n\">std</span><span class=\"o\">::</span><span class=\"n\">shared_ptr</span><span class=\"o\">&lt;</span><span class=\"n\">Object</span><span class=\"o\">&gt;&gt;</span><span class=\"w\"> </span><span class=\"n\">farg</span><span class=\"p\">;</span>\n",
       "<span class=\"w\">      </span><span class=\"n\">farg</span><span class=\"p\">.</span><span class=\"n\">push_back</span><span class=\"p\">(</span><span class=\"n\">arg1_list</span><span class=\"o\">-&gt;</span><span class=\"n\">values</span><span class=\"p\">()[</span><span class=\"n\">i</span><span class=\"p\">]);</span>\n",
       "\n",
       "<span class=\"w\">      </span><span class=\"n\">std</span><span class=\"o\">::</span><span class=\"n\">shared_ptr</span><span class=\"o\">&lt;</span><span class=\"n\">Object</span><span class=\"o\">&gt;</span><span class=\"w\"> </span><span class=\"n\">result</span><span class=\"w\"> </span><span class=\"o\">=</span><span class=\"w\"> </span><span class=\"n\">arg0_function</span><span class=\"o\">-&gt;</span><span class=\"n\">run</span><span class=\"p\">(</span><span class=\"n\">scope</span><span class=\"p\">,</span><span class=\"w\"> </span><span class=\"n\">stack</span><span class=\"p\">,</span><span class=\"w\"> </span><span class=\"n\">farg</span><span class=\"p\">);</span>\n",
       "\n",
       "<span class=\"w\">      </span><span class=\"n\">values</span><span class=\"p\">.</span><span class=\"n\">push_back</span><span class=\"p\">(</span><span class=\"n\">result</span><span class=\"p\">);</span>\n",
       "<span class=\"w\">    </span><span class=\"p\">}</span>\n",
       "\n",
       "<span class=\"w\">    </span><span class=\"k\">return</span><span class=\"w\"> </span><span class=\"n\">std</span><span class=\"o\">::</span><span class=\"n\">make_shared</span><span class=\"o\">&lt;</span><span class=\"n\">ObjectList</span><span class=\"o\">&gt;</span><span class=\"p\">(</span><span class=\"n\">values</span><span class=\"p\">);</span>\n",
       "<span class=\"w\">  </span><span class=\"p\">}</span>\n",
       "\n",
       "<span class=\"w\">  </span><span class=\"k\">else</span><span class=\"w\"> </span><span class=\"p\">{</span>\n",
       "<span class=\"w\">    </span><span class=\"k\">throw</span><span class=\"w\"> </span><span class=\"n\">error</span><span class=\"p\">(</span><span class=\"n\">stack</span><span class=\"p\">,</span><span class=\"w\"> </span><span class=\"s\">&quot;&#39;map&#39; function&#39;s arguments must be a function (first) and a list (second)&quot;</span><span class=\"p\">);</span>\n",
       "<span class=\"w\">  </span><span class=\"p\">}</span>\n",
       "<span class=\"p\">}</span>\n",
       "\n",
       "\n",
       "<span class=\"n\">std</span><span class=\"o\">::</span><span class=\"n\">string</span><span class=\"w\"> </span><span class=\"n\">ObjectFunctionReduce</span><span class=\"o\">::</span><span class=\"n\">repr</span><span class=\"p\">(</span><span class=\"kt\">int</span><span class=\"o\">&amp;</span><span class=\"w\"> </span><span class=\"n\">remaining</span><span class=\"p\">)</span><span class=\"w\"> </span><span class=\"k\">const</span><span class=\"w\"> </span><span class=\"p\">{</span>\n",
       "<span class=\"w\">  </span><span class=\"k\">if</span><span class=\"w\"> </span><span class=\"p\">(</span><span class=\"n\">remaining</span><span class=\"w\"> </span><span class=\"o\">&lt;</span><span class=\"w\"> </span><span class=\"mi\">0</span><span class=\"p\">)</span><span class=\"w\"> </span><span class=\"p\">{</span>\n",
       "<span class=\"w\">    </span><span class=\"k\">return</span><span class=\"w\"> </span><span class=\"s\">&quot;&quot;</span><span class=\"p\">;</span>\n",
       "<span class=\"w\">  </span><span class=\"p\">}</span>\n",
       "\n",
       "<span class=\"w\">  </span><span class=\"n\">remaining</span><span class=\"w\"> </span><span class=\"o\">-=</span><span class=\"w\"> </span><span class=\"mi\">21</span><span class=\"p\">;</span>\n",
       "\n",
       "<span class=\"w\">  </span><span class=\"k\">return</span><span class=\"w\"> </span><span class=\"s\">&quot;&lt;builtin function &#39;reduce&#39;&gt;&quot;</span><span class=\"p\">;</span>\n",
       "<span class=\"p\">}</span>\n",
       "\n",
       "\n",
       "<span class=\"n\">std</span><span class=\"o\">::</span><span class=\"n\">shared_ptr</span><span class=\"o\">&lt;</span><span class=\"n\">Object</span><span class=\"o\">&gt;</span><span class=\"w\"> </span><span class=\"n\">ObjectFunctionReduce</span><span class=\"o\">::</span><span class=\"n\">run</span><span class=\"p\">(</span>\n",
       "<span class=\"w\">  </span><span class=\"n\">std</span><span class=\"o\">::</span><span class=\"n\">shared_ptr</span><span class=\"o\">&lt;</span><span class=\"n\">Scope</span><span class=\"o\">&gt;</span><span class=\"w\"> </span><span class=\"n\">scope</span><span class=\"p\">,</span>\n",
       "<span class=\"w\">  </span><span class=\"n\">std</span><span class=\"o\">::</span><span class=\"n\">vector</span><span class=\"o\">&lt;</span><span class=\"n\">std</span><span class=\"o\">::</span><span class=\"n\">shared_ptr</span><span class=\"o\">&lt;</span><span class=\"n\">ASTNode</span><span class=\"o\">&gt;&gt;&amp;</span><span class=\"w\"> </span><span class=\"n\">stack</span><span class=\"p\">,</span>\n",
       "<span class=\"w\">  </span><span class=\"n\">std</span><span class=\"o\">::</span><span class=\"n\">vector</span><span class=\"o\">&lt;</span><span class=\"n\">std</span><span class=\"o\">::</span><span class=\"n\">shared_ptr</span><span class=\"o\">&lt;</span><span class=\"n\">Object</span><span class=\"o\">&gt;&gt;</span><span class=\"w\"> </span><span class=\"n\">args</span>\n",
       "<span class=\"p\">)</span><span class=\"w\"> </span><span class=\"p\">{</span>\n",
       "<span class=\"w\">  </span><span class=\"k\">if</span><span class=\"w\"> </span><span class=\"p\">(</span><span class=\"n\">args</span><span class=\"p\">.</span><span class=\"n\">size</span><span class=\"p\">()</span><span class=\"w\"> </span><span class=\"o\">==</span><span class=\"w\"> </span><span class=\"mi\">2</span><span class=\"p\">)</span><span class=\"w\"> </span><span class=\"p\">{</span>\n",
       "<span class=\"w\">    </span><span class=\"n\">std</span><span class=\"o\">::</span><span class=\"n\">shared_ptr</span><span class=\"o\">&lt;</span><span class=\"n\">ObjectFunction</span><span class=\"o\">&gt;</span><span class=\"w\"> </span><span class=\"n\">arg0_function</span><span class=\"w\"> </span><span class=\"o\">=</span><span class=\"w\"> </span><span class=\"n\">std</span><span class=\"o\">::</span><span class=\"n\">dynamic_pointer_cast</span><span class=\"o\">&lt;</span><span class=\"n\">ObjectFunction</span><span class=\"o\">&gt;</span><span class=\"p\">(</span><span class=\"n\">args</span><span class=\"p\">[</span><span class=\"mi\">0</span><span class=\"p\">]);</span>\n",
       "<span class=\"w\">    </span><span class=\"n\">std</span><span class=\"o\">::</span><span class=\"n\">shared_ptr</span><span class=\"o\">&lt;</span><span class=\"n\">ObjectList</span><span class=\"o\">&gt;</span><span class=\"w\"> </span><span class=\"n\">arg1_list</span><span class=\"w\"> </span><span class=\"o\">=</span><span class=\"w\"> </span><span class=\"n\">std</span><span class=\"o\">::</span><span class=\"n\">dynamic_pointer_cast</span><span class=\"o\">&lt;</span><span class=\"n\">ObjectList</span><span class=\"o\">&gt;</span><span class=\"p\">(</span><span class=\"n\">args</span><span class=\"p\">[</span><span class=\"mi\">1</span><span class=\"p\">]);</span>\n",
       "\n",
       "<span class=\"w\">    </span><span class=\"k\">if</span><span class=\"w\"> </span><span class=\"p\">(</span><span class=\"n\">arg1_list</span><span class=\"o\">-&gt;</span><span class=\"n\">values</span><span class=\"p\">().</span><span class=\"n\">size</span><span class=\"p\">()</span><span class=\"w\"> </span><span class=\"o\">==</span><span class=\"w\"> </span><span class=\"mi\">0</span><span class=\"p\">)</span><span class=\"w\"> </span><span class=\"p\">{</span>\n",
       "<span class=\"w\">      </span><span class=\"k\">throw</span><span class=\"w\"> </span><span class=\"n\">error</span><span class=\"p\">(</span><span class=\"n\">stack</span><span class=\"p\">,</span><span class=\"w\"> </span><span class=\"s\">&quot;&#39;reduce&#39; function&#39;s list argument can only be empty if a third argument (the initial value) is provided&quot;</span><span class=\"p\">);</span>\n",
       "<span class=\"w\">    </span><span class=\"p\">}</span>\n",
       "\n",
       "<span class=\"w\">    </span><span class=\"n\">std</span><span class=\"o\">::</span><span class=\"n\">shared_ptr</span><span class=\"o\">&lt;</span><span class=\"n\">Object</span><span class=\"o\">&gt;</span><span class=\"w\"> </span><span class=\"n\">result</span><span class=\"w\"> </span><span class=\"o\">=</span><span class=\"w\"> </span><span class=\"n\">arg1_list</span><span class=\"o\">-&gt;</span><span class=\"n\">values</span><span class=\"p\">()[</span><span class=\"mi\">0</span><span class=\"p\">];</span>\n",
       "\n",
       "<span class=\"w\">    </span><span class=\"k\">for</span><span class=\"w\"> </span><span class=\"p\">(</span><span class=\"kt\">int</span><span class=\"w\"> </span><span class=\"n\">i</span><span class=\"w\"> </span><span class=\"o\">=</span><span class=\"w\"> </span><span class=\"mi\">1</span><span class=\"p\">;</span><span class=\"w\">  </span><span class=\"n\">i</span><span class=\"w\"> </span><span class=\"o\">&lt;</span><span class=\"w\"> </span><span class=\"n\">arg1_list</span><span class=\"o\">-&gt;</span><span class=\"n\">values</span><span class=\"p\">().</span><span class=\"n\">size</span><span class=\"p\">();</span><span class=\"w\">  </span><span class=\"n\">i</span><span class=\"o\">++</span><span class=\"p\">)</span><span class=\"w\"> </span><span class=\"p\">{</span>\n",
       "<span class=\"w\">      </span><span class=\"n\">std</span><span class=\"o\">::</span><span class=\"n\">vector</span><span class=\"o\">&lt;</span><span class=\"n\">std</span><span class=\"o\">::</span><span class=\"n\">shared_ptr</span><span class=\"o\">&lt;</span><span class=\"n\">Object</span><span class=\"o\">&gt;&gt;</span><span class=\"w\"> </span><span class=\"n\">fargs</span><span class=\"p\">;</span>\n",
       "<span class=\"w\">      </span><span class=\"n\">fargs</span><span class=\"p\">.</span><span class=\"n\">push_back</span><span class=\"p\">(</span><span class=\"n\">result</span><span class=\"p\">);</span>\n",
       "<span class=\"w\">      </span><span class=\"n\">fargs</span><span class=\"p\">.</span><span class=\"n\">push_back</span><span class=\"p\">(</span><span class=\"n\">arg1_list</span><span class=\"o\">-&gt;</span><span class=\"n\">values</span><span class=\"p\">()[</span><span class=\"n\">i</span><span class=\"p\">]);</span>\n",
       "\n",
       "<span class=\"w\">      </span><span class=\"n\">result</span><span class=\"w\"> </span><span class=\"o\">=</span><span class=\"w\"> </span><span class=\"n\">arg0_function</span><span class=\"o\">-&gt;</span><span class=\"n\">run</span><span class=\"p\">(</span><span class=\"n\">scope</span><span class=\"p\">,</span><span class=\"w\"> </span><span class=\"n\">stack</span><span class=\"p\">,</span><span class=\"w\"> </span><span class=\"n\">fargs</span><span class=\"p\">);</span>\n",
       "<span class=\"w\">    </span><span class=\"p\">}</span>\n",
       "\n",
       "<span class=\"w\">    </span><span class=\"k\">return</span><span class=\"w\"> </span><span class=\"n\">result</span><span class=\"p\">;</span>\n",
       "<span class=\"w\">  </span><span class=\"p\">}</span>\n",
       "\n",
       "<span class=\"w\">  </span><span class=\"k\">else</span><span class=\"w\"> </span><span class=\"k\">if</span><span class=\"w\"> </span><span class=\"p\">(</span><span class=\"n\">args</span><span class=\"p\">.</span><span class=\"n\">size</span><span class=\"p\">()</span><span class=\"w\"> </span><span class=\"o\">==</span><span class=\"w\"> </span><span class=\"mi\">3</span><span class=\"p\">)</span><span class=\"w\"> </span><span class=\"p\">{</span>\n",
       "<span class=\"w\">    </span><span class=\"n\">std</span><span class=\"o\">::</span><span class=\"n\">shared_ptr</span><span class=\"o\">&lt;</span><span class=\"n\">ObjectFunction</span><span class=\"o\">&gt;</span><span class=\"w\"> </span><span class=\"n\">arg0_function</span><span class=\"w\"> </span><span class=\"o\">=</span><span class=\"w\"> </span><span class=\"n\">std</span><span class=\"o\">::</span><span class=\"n\">dynamic_pointer_cast</span><span class=\"o\">&lt;</span><span class=\"n\">ObjectFunction</span><span class=\"o\">&gt;</span><span class=\"p\">(</span><span class=\"n\">args</span><span class=\"p\">[</span><span class=\"mi\">0</span><span class=\"p\">]);</span>\n",
       "<span class=\"w\">    </span><span class=\"n\">std</span><span class=\"o\">::</span><span class=\"n\">shared_ptr</span><span class=\"o\">&lt;</span><span class=\"n\">ObjectList</span><span class=\"o\">&gt;</span><span class=\"w\"> </span><span class=\"n\">arg1_list</span><span class=\"w\"> </span><span class=\"o\">=</span><span class=\"w\"> </span><span class=\"n\">std</span><span class=\"o\">::</span><span class=\"n\">dynamic_pointer_cast</span><span class=\"o\">&lt;</span><span class=\"n\">ObjectList</span><span class=\"o\">&gt;</span><span class=\"p\">(</span><span class=\"n\">args</span><span class=\"p\">[</span><span class=\"mi\">1</span><span class=\"p\">]);</span>\n",
       "<span class=\"w\">    </span><span class=\"n\">std</span><span class=\"o\">::</span><span class=\"n\">shared_ptr</span><span class=\"o\">&lt;</span><span class=\"n\">Object</span><span class=\"o\">&gt;</span><span class=\"w\"> </span><span class=\"n\">result</span><span class=\"w\"> </span><span class=\"o\">=</span><span class=\"w\"> </span><span class=\"n\">args</span><span class=\"p\">[</span><span class=\"mi\">2</span><span class=\"p\">];</span>\n",
       "\n",
       "<span class=\"w\">    </span><span class=\"k\">for</span><span class=\"w\"> </span><span class=\"p\">(</span><span class=\"kt\">int</span><span class=\"w\"> </span><span class=\"n\">i</span><span class=\"w\"> </span><span class=\"o\">=</span><span class=\"w\"> </span><span class=\"mi\">0</span><span class=\"p\">;</span><span class=\"w\">  </span><span class=\"n\">i</span><span class=\"w\"> </span><span class=\"o\">&lt;</span><span class=\"w\"> </span><span class=\"n\">arg1_list</span><span class=\"o\">-&gt;</span><span class=\"n\">values</span><span class=\"p\">().</span><span class=\"n\">size</span><span class=\"p\">();</span><span class=\"w\">  </span><span class=\"n\">i</span><span class=\"o\">++</span><span class=\"p\">)</span><span class=\"w\"> </span><span class=\"p\">{</span>\n",
       "<span class=\"w\">      </span><span class=\"n\">std</span><span class=\"o\">::</span><span class=\"n\">vector</span><span class=\"o\">&lt;</span><span class=\"n\">std</span><span class=\"o\">::</span><span class=\"n\">shared_ptr</span><span class=\"o\">&lt;</span><span class=\"n\">Object</span><span class=\"o\">&gt;&gt;</span><span class=\"w\"> </span><span class=\"n\">fargs</span><span class=\"p\">;</span>\n",
       "<span class=\"w\">      </span><span class=\"n\">fargs</span><span class=\"p\">.</span><span class=\"n\">push_back</span><span class=\"p\">(</span><span class=\"n\">result</span><span class=\"p\">);</span>\n",
       "<span class=\"w\">      </span><span class=\"n\">fargs</span><span class=\"p\">.</span><span class=\"n\">push_back</span><span class=\"p\">(</span><span class=\"n\">arg1_list</span><span class=\"o\">-&gt;</span><span class=\"n\">values</span><span class=\"p\">()[</span><span class=\"n\">i</span><span class=\"p\">]);</span>\n",
       "\n",
       "<span class=\"w\">      </span><span class=\"n\">result</span><span class=\"w\"> </span><span class=\"o\">=</span><span class=\"w\"> </span><span class=\"n\">arg0_function</span><span class=\"o\">-&gt;</span><span class=\"n\">run</span><span class=\"p\">(</span><span class=\"n\">scope</span><span class=\"p\">,</span><span class=\"w\"> </span><span class=\"n\">stack</span><span class=\"p\">,</span><span class=\"w\"> </span><span class=\"n\">fargs</span><span class=\"p\">);</span>\n",
       "<span class=\"w\">    </span><span class=\"p\">}</span>\n",
       "\n",
       "<span class=\"w\">    </span><span class=\"k\">return</span><span class=\"w\"> </span><span class=\"n\">result</span><span class=\"p\">;</span>\n",
       "<span class=\"w\">  </span><span class=\"p\">}</span>\n",
       "\n",
       "<span class=\"w\">  </span><span class=\"k\">else</span><span class=\"w\"> </span><span class=\"p\">{</span>\n",
       "<span class=\"w\">    </span><span class=\"k\">throw</span><span class=\"w\"> </span><span class=\"n\">error</span><span class=\"p\">(</span><span class=\"n\">stack</span><span class=\"p\">,</span><span class=\"w\"> </span><span class=\"s\">&quot;&#39;reduce&#39; function takes either 2 or 3 arguments&quot;</span><span class=\"p\">);</span>\n",
       "<span class=\"w\">  </span><span class=\"p\">}</span>\n",
       "<span class=\"p\">}</span>\n",
       "\n",
       "\n",
       "<span class=\"n\">std</span><span class=\"o\">::</span><span class=\"n\">string</span><span class=\"w\"> </span><span class=\"n\">ObjectUserFunction</span><span class=\"o\">::</span><span class=\"n\">repr</span><span class=\"p\">(</span><span class=\"kt\">int</span><span class=\"o\">&amp;</span><span class=\"w\"> </span><span class=\"n\">remaining</span><span class=\"p\">)</span><span class=\"w\"> </span><span class=\"k\">const</span><span class=\"w\"> </span><span class=\"p\">{</span>\n",
       "<span class=\"w\">  </span><span class=\"k\">if</span><span class=\"w\"> </span><span class=\"p\">(</span><span class=\"n\">remaining</span><span class=\"w\"> </span><span class=\"o\">&lt;</span><span class=\"w\"> </span><span class=\"mi\">0</span><span class=\"p\">)</span><span class=\"w\"> </span><span class=\"p\">{</span>\n",
       "<span class=\"w\">    </span><span class=\"k\">return</span><span class=\"w\"> </span><span class=\"s\">&quot;&quot;</span><span class=\"p\">;</span>\n",
       "<span class=\"w\">  </span><span class=\"p\">}</span>\n",
       "\n",
       "<span class=\"w\">  </span><span class=\"n\">remaining</span><span class=\"w\"> </span><span class=\"o\">-=</span><span class=\"w\"> </span><span class=\"mi\">23</span><span class=\"p\">;</span>\n",
       "\n",
       "<span class=\"w\">  </span><span class=\"k\">return</span><span class=\"w\"> </span><span class=\"s\">&quot;&lt;user-defined function&gt;&quot;</span><span class=\"p\">;</span>\n",
       "<span class=\"p\">}</span>\n",
       "\n",
       "\n",
       "<span class=\"n\">std</span><span class=\"o\">::</span><span class=\"n\">shared_ptr</span><span class=\"o\">&lt;</span><span class=\"n\">Object</span><span class=\"o\">&gt;</span><span class=\"w\"> </span><span class=\"n\">ObjectUserFunction</span><span class=\"o\">::</span><span class=\"n\">run</span><span class=\"p\">(</span>\n",
       "<span class=\"w\">  </span><span class=\"n\">std</span><span class=\"o\">::</span><span class=\"n\">shared_ptr</span><span class=\"o\">&lt;</span><span class=\"n\">Scope</span><span class=\"o\">&gt;</span><span class=\"w\"> </span><span class=\"n\">scope</span><span class=\"p\">,</span>\n",
       "<span class=\"w\">  </span><span class=\"n\">std</span><span class=\"o\">::</span><span class=\"n\">vector</span><span class=\"o\">&lt;</span><span class=\"n\">std</span><span class=\"o\">::</span><span class=\"n\">shared_ptr</span><span class=\"o\">&lt;</span><span class=\"n\">ASTNode</span><span class=\"o\">&gt;&gt;&amp;</span><span class=\"w\"> </span><span class=\"n\">stack</span><span class=\"p\">,</span>\n",
       "<span class=\"w\">  </span><span class=\"n\">std</span><span class=\"o\">::</span><span class=\"n\">vector</span><span class=\"o\">&lt;</span><span class=\"n\">std</span><span class=\"o\">::</span><span class=\"n\">shared_ptr</span><span class=\"o\">&lt;</span><span class=\"n\">Object</span><span class=\"o\">&gt;&gt;</span><span class=\"w\"> </span><span class=\"n\">args</span>\n",
       "<span class=\"p\">)</span><span class=\"w\"> </span><span class=\"p\">{</span>\n",
       "<span class=\"w\">  </span><span class=\"k\">if</span><span class=\"w\"> </span><span class=\"p\">(</span><span class=\"n\">args</span><span class=\"p\">.</span><span class=\"n\">size</span><span class=\"p\">()</span><span class=\"w\"> </span><span class=\"o\">!=</span><span class=\"w\"> </span><span class=\"n\">fun_</span><span class=\"o\">-&gt;</span><span class=\"n\">params</span><span class=\"p\">().</span><span class=\"n\">size</span><span class=\"p\">())</span><span class=\"w\"> </span><span class=\"p\">{</span>\n",
       "<span class=\"w\">    </span><span class=\"k\">throw</span><span class=\"w\"> </span><span class=\"n\">error</span><span class=\"p\">(</span><span class=\"n\">stack</span><span class=\"p\">,</span><span class=\"w\"> </span><span class=\"s\">&quot;wrong number of arguments for user-defined function&quot;</span><span class=\"p\">);</span>\n",
       "<span class=\"w\">  </span><span class=\"p\">}</span>\n",
       "\n",
       "<span class=\"w\">  </span><span class=\"n\">std</span><span class=\"o\">::</span><span class=\"n\">shared_ptr</span><span class=\"o\">&lt;</span><span class=\"n\">Scope</span><span class=\"o\">&gt;</span><span class=\"w\"> </span><span class=\"n\">nested_scope</span><span class=\"p\">(</span><span class=\"n\">scope</span><span class=\"p\">);</span>\n",
       "\n",
       "<span class=\"w\">  </span><span class=\"k\">for</span><span class=\"w\"> </span><span class=\"p\">(</span><span class=\"kt\">int</span><span class=\"w\"> </span><span class=\"n\">i</span><span class=\"w\"> </span><span class=\"o\">=</span><span class=\"w\"> </span><span class=\"mi\">0</span><span class=\"p\">;</span><span class=\"w\">  </span><span class=\"n\">i</span><span class=\"w\"> </span><span class=\"o\">&lt;</span><span class=\"w\"> </span><span class=\"n\">args</span><span class=\"p\">.</span><span class=\"n\">size</span><span class=\"p\">();</span><span class=\"w\">  </span><span class=\"n\">i</span><span class=\"o\">++</span><span class=\"p\">)</span><span class=\"w\"> </span><span class=\"p\">{</span>\n",
       "<span class=\"w\">    </span><span class=\"n\">nested_scope</span><span class=\"o\">-&gt;</span><span class=\"n\">assign</span><span class=\"p\">(</span><span class=\"n\">fun_</span><span class=\"o\">-&gt;</span><span class=\"n\">params</span><span class=\"p\">()[</span><span class=\"n\">i</span><span class=\"p\">],</span><span class=\"w\"> </span><span class=\"n\">args</span><span class=\"p\">[</span><span class=\"n\">i</span><span class=\"p\">],</span><span class=\"w\"> </span><span class=\"n\">stack</span><span class=\"p\">);</span>\n",
       "<span class=\"w\">  </span><span class=\"p\">}</span>\n",
       "\n",
       "<span class=\"w\">  </span><span class=\"n\">std</span><span class=\"o\">::</span><span class=\"n\">shared_ptr</span><span class=\"o\">&lt;</span><span class=\"n\">Object</span><span class=\"o\">&gt;</span><span class=\"w\"> </span><span class=\"n\">out</span><span class=\"p\">;</span>\n",
       "<span class=\"w\">  </span><span class=\"k\">for</span><span class=\"w\"> </span><span class=\"p\">(</span><span class=\"kt\">int</span><span class=\"w\"> </span><span class=\"n\">i</span><span class=\"w\"> </span><span class=\"o\">=</span><span class=\"w\"> </span><span class=\"mi\">0</span><span class=\"p\">;</span><span class=\"w\">  </span><span class=\"n\">i</span><span class=\"w\"> </span><span class=\"o\">&lt;</span><span class=\"w\"> </span><span class=\"n\">fun_</span><span class=\"o\">-&gt;</span><span class=\"n\">body</span><span class=\"p\">().</span><span class=\"n\">size</span><span class=\"p\">();</span><span class=\"w\">  </span><span class=\"n\">i</span><span class=\"o\">++</span><span class=\"p\">)</span><span class=\"w\"> </span><span class=\"p\">{</span>\n",
       "<span class=\"w\">    </span><span class=\"n\">out</span><span class=\"w\"> </span><span class=\"o\">=</span><span class=\"w\"> </span><span class=\"n\">fun_</span><span class=\"o\">-&gt;</span><span class=\"n\">body</span><span class=\"p\">()[</span><span class=\"n\">i</span><span class=\"p\">]</span><span class=\"o\">-&gt;</span><span class=\"n\">run</span><span class=\"p\">(</span><span class=\"n\">nested_scope</span><span class=\"p\">,</span><span class=\"w\"> </span><span class=\"n\">stack</span><span class=\"p\">);</span>\n",
       "<span class=\"w\">  </span><span class=\"p\">}</span>\n",
       "<span class=\"w\">  </span><span class=\"k\">return</span><span class=\"w\"> </span><span class=\"n\">out</span><span class=\"p\">;</span>\n",
       "<span class=\"p\">}</span>\n",
       "\n",
       "\n",
       "<span class=\"c1\">//// ASTNodes //////////////////////////////////////////////////////////////</span>\n",
       "\n",
       "\n",
       "<span class=\"n\">std</span><span class=\"o\">::</span><span class=\"n\">shared_ptr</span><span class=\"o\">&lt;</span><span class=\"n\">Object</span><span class=\"o\">&gt;</span><span class=\"w\"> </span><span class=\"n\">ASTLiteralInt</span><span class=\"o\">::</span><span class=\"n\">run</span><span class=\"p\">(</span>\n",
       "<span class=\"w\">  </span><span class=\"n\">std</span><span class=\"o\">::</span><span class=\"n\">shared_ptr</span><span class=\"o\">&lt;</span><span class=\"n\">Scope</span><span class=\"o\">&gt;</span><span class=\"w\"> </span><span class=\"n\">scope</span><span class=\"p\">,</span>\n",
       "<span class=\"w\">  </span><span class=\"n\">std</span><span class=\"o\">::</span><span class=\"n\">vector</span><span class=\"o\">&lt;</span><span class=\"n\">std</span><span class=\"o\">::</span><span class=\"n\">shared_ptr</span><span class=\"o\">&lt;</span><span class=\"n\">ASTNode</span><span class=\"o\">&gt;&gt;&amp;</span><span class=\"w\"> </span><span class=\"n\">stack</span>\n",
       "<span class=\"p\">)</span><span class=\"w\"> </span><span class=\"p\">{</span>\n",
       "<span class=\"w\">  </span><span class=\"k\">return</span><span class=\"w\"> </span><span class=\"n\">std</span><span class=\"o\">::</span><span class=\"n\">make_shared</span><span class=\"o\">&lt;</span><span class=\"n\">ObjectInt</span><span class=\"o\">&gt;</span><span class=\"p\">(</span><span class=\"n\">value_</span><span class=\"p\">);</span>\n",
       "<span class=\"p\">}</span>\n",
       "\n",
       "\n",
       "<span class=\"n\">std</span><span class=\"o\">::</span><span class=\"n\">shared_ptr</span><span class=\"o\">&lt;</span><span class=\"n\">Object</span><span class=\"o\">&gt;</span><span class=\"w\"> </span><span class=\"n\">ASTLiteralList</span><span class=\"o\">::</span><span class=\"n\">run</span><span class=\"p\">(</span>\n",
       "<span class=\"w\">  </span><span class=\"n\">std</span><span class=\"o\">::</span><span class=\"n\">shared_ptr</span><span class=\"o\">&lt;</span><span class=\"n\">Scope</span><span class=\"o\">&gt;</span><span class=\"w\"> </span><span class=\"n\">scope</span><span class=\"p\">,</span>\n",
       "<span class=\"w\">  </span><span class=\"n\">std</span><span class=\"o\">::</span><span class=\"n\">vector</span><span class=\"o\">&lt;</span><span class=\"n\">std</span><span class=\"o\">::</span><span class=\"n\">shared_ptr</span><span class=\"o\">&lt;</span><span class=\"n\">ASTNode</span><span class=\"o\">&gt;&gt;&amp;</span><span class=\"w\"> </span><span class=\"n\">stack</span>\n",
       "<span class=\"p\">)</span><span class=\"w\"> </span><span class=\"p\">{</span>\n",
       "<span class=\"w\">  </span><span class=\"n\">std</span><span class=\"o\">::</span><span class=\"n\">vector</span><span class=\"o\">&lt;</span><span class=\"n\">std</span><span class=\"o\">::</span><span class=\"n\">shared_ptr</span><span class=\"o\">&lt;</span><span class=\"n\">Object</span><span class=\"o\">&gt;&gt;</span><span class=\"w\"> </span><span class=\"n\">values</span><span class=\"p\">;</span>\n",
       "\n",
       "<span class=\"w\">  </span><span class=\"k\">for</span><span class=\"w\"> </span><span class=\"p\">(</span><span class=\"kt\">int</span><span class=\"w\"> </span><span class=\"n\">i</span><span class=\"w\"> </span><span class=\"o\">=</span><span class=\"w\"> </span><span class=\"mi\">0</span><span class=\"p\">;</span><span class=\"w\">  </span><span class=\"n\">i</span><span class=\"w\"> </span><span class=\"o\">&lt;</span><span class=\"w\"> </span><span class=\"n\">values_</span><span class=\"p\">.</span><span class=\"n\">size</span><span class=\"p\">();</span><span class=\"w\">  </span><span class=\"n\">i</span><span class=\"o\">++</span><span class=\"p\">)</span><span class=\"w\"> </span><span class=\"p\">{</span>\n",
       "<span class=\"w\">    </span><span class=\"n\">values</span><span class=\"p\">.</span><span class=\"n\">push_back</span><span class=\"p\">(</span><span class=\"n\">values_</span><span class=\"p\">[</span><span class=\"n\">i</span><span class=\"p\">]</span><span class=\"o\">-&gt;</span><span class=\"n\">run</span><span class=\"p\">(</span><span class=\"n\">scope</span><span class=\"p\">,</span><span class=\"w\"> </span><span class=\"n\">stack</span><span class=\"p\">));</span>\n",
       "<span class=\"w\">  </span><span class=\"p\">}</span>\n",
       "\n",
       "<span class=\"w\">  </span><span class=\"k\">return</span><span class=\"w\"> </span><span class=\"n\">std</span><span class=\"o\">::</span><span class=\"n\">make_shared</span><span class=\"o\">&lt;</span><span class=\"n\">ObjectList</span><span class=\"o\">&gt;</span><span class=\"p\">(</span><span class=\"n\">values</span><span class=\"p\">);</span>\n",
       "<span class=\"p\">}</span>\n",
       "\n",
       "\n",
       "<span class=\"n\">std</span><span class=\"o\">::</span><span class=\"n\">shared_ptr</span><span class=\"o\">&lt;</span><span class=\"n\">Object</span><span class=\"o\">&gt;</span><span class=\"w\"> </span><span class=\"n\">ASTDefineFun</span><span class=\"o\">::</span><span class=\"n\">run</span><span class=\"p\">(</span>\n",
       "<span class=\"w\">  </span><span class=\"n\">std</span><span class=\"o\">::</span><span class=\"n\">shared_ptr</span><span class=\"o\">&lt;</span><span class=\"n\">Scope</span><span class=\"o\">&gt;</span><span class=\"w\"> </span><span class=\"n\">scope</span><span class=\"p\">,</span>\n",
       "<span class=\"w\">  </span><span class=\"n\">std</span><span class=\"o\">::</span><span class=\"n\">vector</span><span class=\"o\">&lt;</span><span class=\"n\">std</span><span class=\"o\">::</span><span class=\"n\">shared_ptr</span><span class=\"o\">&lt;</span><span class=\"n\">ASTNode</span><span class=\"o\">&gt;&gt;&amp;</span><span class=\"w\"> </span><span class=\"n\">stack</span>\n",
       "<span class=\"p\">)</span><span class=\"w\"> </span><span class=\"p\">{</span>\n",
       "<span class=\"w\">  </span><span class=\"k\">return</span><span class=\"w\"> </span><span class=\"n\">std</span><span class=\"o\">::</span><span class=\"n\">make_shared</span><span class=\"o\">&lt;</span><span class=\"n\">ObjectUserFunction</span><span class=\"o\">&gt;</span><span class=\"p\">(</span><span class=\"n\">shared_from_this</span><span class=\"p\">());</span>\n",
       "<span class=\"p\">}</span>\n",
       "\n",
       "\n",
       "<span class=\"n\">std</span><span class=\"o\">::</span><span class=\"n\">shared_ptr</span><span class=\"o\">&lt;</span><span class=\"n\">Object</span><span class=\"o\">&gt;</span><span class=\"w\"> </span><span class=\"n\">ASTCallNamed</span><span class=\"o\">::</span><span class=\"n\">run</span><span class=\"p\">(</span>\n",
       "<span class=\"w\">  </span><span class=\"n\">std</span><span class=\"o\">::</span><span class=\"n\">shared_ptr</span><span class=\"o\">&lt;</span><span class=\"n\">Scope</span><span class=\"o\">&gt;</span><span class=\"w\"> </span><span class=\"n\">scope</span><span class=\"p\">,</span>\n",
       "<span class=\"w\">  </span><span class=\"n\">std</span><span class=\"o\">::</span><span class=\"n\">vector</span><span class=\"o\">&lt;</span><span class=\"n\">std</span><span class=\"o\">::</span><span class=\"n\">shared_ptr</span><span class=\"o\">&lt;</span><span class=\"n\">ASTNode</span><span class=\"o\">&gt;&gt;&amp;</span><span class=\"w\"> </span><span class=\"n\">stack</span>\n",
       "<span class=\"p\">)</span><span class=\"w\"> </span><span class=\"p\">{</span>\n",
       "<span class=\"w\">  </span><span class=\"k\">if</span><span class=\"w\"> </span><span class=\"p\">(</span><span class=\"n\">stack</span><span class=\"p\">.</span><span class=\"n\">size</span><span class=\"p\">()</span><span class=\"w\"> </span><span class=\"o\">==</span><span class=\"w\"> </span><span class=\"n\">MAX_RECURSION</span><span class=\"p\">)</span><span class=\"w\"> </span><span class=\"p\">{</span>\n",
       "<span class=\"w\">    </span><span class=\"k\">throw</span><span class=\"w\"> </span><span class=\"n\">error</span><span class=\"p\">(</span><span class=\"n\">stack</span><span class=\"p\">,</span><span class=\"w\"> </span><span class=\"s\">&quot;recursion is too deep (probably an infinite loop)&quot;</span><span class=\"p\">);</span>\n",
       "<span class=\"w\">  </span><span class=\"p\">}</span>\n",
       "\n",
       "<span class=\"w\">  </span><span class=\"n\">std</span><span class=\"o\">::</span><span class=\"n\">shared_ptr</span><span class=\"o\">&lt;</span><span class=\"n\">Object</span><span class=\"o\">&gt;</span><span class=\"w\"> </span><span class=\"n\">maybe_fun</span><span class=\"w\"> </span><span class=\"o\">=</span><span class=\"w\"> </span><span class=\"n\">scope</span><span class=\"o\">-&gt;</span><span class=\"n\">get</span><span class=\"p\">(</span><span class=\"n\">name_</span><span class=\"p\">,</span><span class=\"w\"> </span><span class=\"n\">stack</span><span class=\"p\">);</span>\n",
       "\n",
       "<span class=\"w\">  </span><span class=\"n\">std</span><span class=\"o\">::</span><span class=\"n\">shared_ptr</span><span class=\"o\">&lt;</span><span class=\"n\">ObjectFunction</span><span class=\"o\">&gt;</span><span class=\"w\"> </span><span class=\"n\">fun</span><span class=\"w\"> </span><span class=\"o\">=</span><span class=\"w\"> </span><span class=\"n\">std</span><span class=\"o\">::</span><span class=\"n\">dynamic_pointer_cast</span><span class=\"o\">&lt;</span><span class=\"n\">ObjectFunction</span><span class=\"o\">&gt;</span><span class=\"p\">(</span><span class=\"n\">maybe_fun</span><span class=\"p\">);</span>\n",
       "\n",
       "<span class=\"w\">  </span><span class=\"k\">if</span><span class=\"w\"> </span><span class=\"p\">(</span><span class=\"o\">!</span><span class=\"n\">fun</span><span class=\"p\">)</span><span class=\"w\"> </span><span class=\"p\">{</span>\n",
       "<span class=\"w\">    </span><span class=\"k\">throw</span><span class=\"w\"> </span><span class=\"n\">error</span><span class=\"p\">(</span><span class=\"n\">stack</span><span class=\"p\">,</span><span class=\"w\"> </span><span class=\"s\">&quot;attempting to call an object that is not a function&quot;</span><span class=\"p\">);</span>\n",
       "<span class=\"w\">  </span><span class=\"p\">}</span>\n",
       "\n",
       "<span class=\"w\">  </span><span class=\"n\">std</span><span class=\"o\">::</span><span class=\"n\">vector</span><span class=\"o\">&lt;</span><span class=\"n\">std</span><span class=\"o\">::</span><span class=\"n\">shared_ptr</span><span class=\"o\">&lt;</span><span class=\"n\">Object</span><span class=\"o\">&gt;&gt;</span><span class=\"w\"> </span><span class=\"n\">args</span><span class=\"p\">;</span>\n",
       "<span class=\"w\">  </span><span class=\"k\">for</span><span class=\"w\"> </span><span class=\"p\">(</span><span class=\"kt\">int</span><span class=\"w\"> </span><span class=\"n\">i</span><span class=\"w\"> </span><span class=\"o\">=</span><span class=\"w\"> </span><span class=\"mi\">0</span><span class=\"p\">;</span><span class=\"w\">  </span><span class=\"n\">i</span><span class=\"w\"> </span><span class=\"o\">&lt;</span><span class=\"w\"> </span><span class=\"n\">args_</span><span class=\"p\">.</span><span class=\"n\">size</span><span class=\"p\">();</span><span class=\"w\">  </span><span class=\"n\">i</span><span class=\"o\">++</span><span class=\"p\">)</span><span class=\"w\"> </span><span class=\"p\">{</span>\n",
       "<span class=\"w\">    </span><span class=\"n\">args</span><span class=\"p\">.</span><span class=\"n\">push_back</span><span class=\"p\">(</span><span class=\"n\">args_</span><span class=\"p\">[</span><span class=\"n\">i</span><span class=\"p\">]</span><span class=\"o\">-&gt;</span><span class=\"n\">run</span><span class=\"p\">(</span><span class=\"n\">scope</span><span class=\"p\">,</span><span class=\"w\"> </span><span class=\"n\">stack</span><span class=\"p\">));</span>\n",
       "<span class=\"w\">  </span><span class=\"p\">}</span>\n",
       "\n",
       "<span class=\"w\">  </span><span class=\"n\">std</span><span class=\"o\">::</span><span class=\"n\">shared_ptr</span><span class=\"o\">&lt;</span><span class=\"n\">Scope</span><span class=\"o\">&gt;</span><span class=\"w\"> </span><span class=\"n\">nested_scope</span><span class=\"w\"> </span><span class=\"o\">=</span><span class=\"w\"> </span><span class=\"n\">std</span><span class=\"o\">::</span><span class=\"n\">make_shared</span><span class=\"o\">&lt;</span><span class=\"n\">Scope</span><span class=\"o\">&gt;</span><span class=\"p\">(</span><span class=\"n\">scope</span><span class=\"p\">);</span>\n",
       "\n",
       "<span class=\"w\">  </span><span class=\"n\">stack</span><span class=\"p\">.</span><span class=\"n\">push_back</span><span class=\"p\">(</span><span class=\"n\">shared_from_this</span><span class=\"p\">());</span>\n",
       "<span class=\"w\">  </span><span class=\"n\">std</span><span class=\"o\">::</span><span class=\"n\">shared_ptr</span><span class=\"o\">&lt;</span><span class=\"n\">Object</span><span class=\"o\">&gt;</span><span class=\"w\"> </span><span class=\"n\">result</span><span class=\"w\"> </span><span class=\"o\">=</span><span class=\"w\"> </span><span class=\"n\">fun</span><span class=\"o\">-&gt;</span><span class=\"n\">run</span><span class=\"p\">(</span><span class=\"n\">nested_scope</span><span class=\"p\">,</span><span class=\"w\"> </span><span class=\"n\">stack</span><span class=\"p\">,</span><span class=\"w\"> </span><span class=\"n\">args</span><span class=\"p\">);</span>\n",
       "<span class=\"w\">  </span><span class=\"n\">stack</span><span class=\"p\">.</span><span class=\"n\">pop_back</span><span class=\"p\">();</span>\n",
       "\n",
       "<span class=\"w\">  </span><span class=\"k\">return</span><span class=\"w\"> </span><span class=\"n\">result</span><span class=\"p\">;</span>\n",
       "<span class=\"p\">}</span>\n",
       "\n",
       "\n",
       "<span class=\"n\">std</span><span class=\"o\">::</span><span class=\"n\">shared_ptr</span><span class=\"o\">&lt;</span><span class=\"n\">Object</span><span class=\"o\">&gt;</span><span class=\"w\"> </span><span class=\"n\">ASTAssignment</span><span class=\"o\">::</span><span class=\"n\">run</span><span class=\"p\">(</span>\n",
       "<span class=\"w\">  </span><span class=\"n\">std</span><span class=\"o\">::</span><span class=\"n\">shared_ptr</span><span class=\"o\">&lt;</span><span class=\"n\">Scope</span><span class=\"o\">&gt;</span><span class=\"w\"> </span><span class=\"n\">scope</span><span class=\"p\">,</span>\n",
       "<span class=\"w\">  </span><span class=\"n\">std</span><span class=\"o\">::</span><span class=\"n\">vector</span><span class=\"o\">&lt;</span><span class=\"n\">std</span><span class=\"o\">::</span><span class=\"n\">shared_ptr</span><span class=\"o\">&lt;</span><span class=\"n\">ASTNode</span><span class=\"o\">&gt;&gt;&amp;</span><span class=\"w\"> </span><span class=\"n\">stack</span>\n",
       "<span class=\"p\">)</span><span class=\"w\"> </span><span class=\"p\">{</span>\n",
       "<span class=\"w\">  </span><span class=\"n\">std</span><span class=\"o\">::</span><span class=\"n\">shared_ptr</span><span class=\"o\">&lt;</span><span class=\"n\">Object</span><span class=\"o\">&gt;</span><span class=\"w\"> </span><span class=\"n\">result</span><span class=\"w\"> </span><span class=\"o\">=</span><span class=\"w\"> </span><span class=\"n\">value_</span><span class=\"o\">-&gt;</span><span class=\"n\">run</span><span class=\"p\">(</span><span class=\"n\">scope</span><span class=\"p\">,</span><span class=\"w\"> </span><span class=\"n\">stack</span><span class=\"p\">);</span>\n",
       "\n",
       "<span class=\"w\">  </span><span class=\"n\">scope</span><span class=\"o\">-&gt;</span><span class=\"n\">assign</span><span class=\"p\">(</span><span class=\"n\">name_</span><span class=\"p\">,</span><span class=\"w\"> </span><span class=\"n\">result</span><span class=\"p\">,</span><span class=\"w\"> </span><span class=\"n\">stack</span><span class=\"p\">);</span>\n",
       "\n",
       "<span class=\"w\">  </span><span class=\"k\">return</span><span class=\"w\"> </span><span class=\"n\">result</span><span class=\"p\">;</span>\n",
       "<span class=\"p\">}</span>\n",
       "\n",
       "\n",
       "<span class=\"n\">std</span><span class=\"o\">::</span><span class=\"n\">shared_ptr</span><span class=\"o\">&lt;</span><span class=\"n\">Object</span><span class=\"o\">&gt;</span><span class=\"w\"> </span><span class=\"n\">ASTDelete</span><span class=\"o\">::</span><span class=\"n\">run</span><span class=\"p\">(</span>\n",
       "<span class=\"w\">  </span><span class=\"n\">std</span><span class=\"o\">::</span><span class=\"n\">shared_ptr</span><span class=\"o\">&lt;</span><span class=\"n\">Scope</span><span class=\"o\">&gt;</span><span class=\"w\"> </span><span class=\"n\">scope</span><span class=\"p\">,</span>\n",
       "<span class=\"w\">  </span><span class=\"n\">std</span><span class=\"o\">::</span><span class=\"n\">vector</span><span class=\"o\">&lt;</span><span class=\"n\">std</span><span class=\"o\">::</span><span class=\"n\">shared_ptr</span><span class=\"o\">&lt;</span><span class=\"n\">ASTNode</span><span class=\"o\">&gt;&gt;&amp;</span><span class=\"w\"> </span><span class=\"n\">stack</span>\n",
       "<span class=\"p\">)</span><span class=\"w\"> </span><span class=\"p\">{</span>\n",
       "<span class=\"w\">  </span><span class=\"k\">return</span><span class=\"w\"> </span><span class=\"n\">scope</span><span class=\"o\">-&gt;</span><span class=\"n\">del</span><span class=\"p\">(</span><span class=\"n\">name_</span><span class=\"p\">,</span><span class=\"w\"> </span><span class=\"n\">stack</span><span class=\"p\">);</span>\n",
       "<span class=\"p\">}</span>\n",
       "\n",
       "\n",
       "<span class=\"n\">std</span><span class=\"o\">::</span><span class=\"n\">shared_ptr</span><span class=\"o\">&lt;</span><span class=\"n\">Object</span><span class=\"o\">&gt;</span><span class=\"w\"> </span><span class=\"n\">ASTIdentifier</span><span class=\"o\">::</span><span class=\"n\">run</span><span class=\"p\">(</span>\n",
       "<span class=\"w\">  </span><span class=\"n\">std</span><span class=\"o\">::</span><span class=\"n\">shared_ptr</span><span class=\"o\">&lt;</span><span class=\"n\">Scope</span><span class=\"o\">&gt;</span><span class=\"w\"> </span><span class=\"n\">scope</span><span class=\"p\">,</span>\n",
       "<span class=\"w\">  </span><span class=\"n\">std</span><span class=\"o\">::</span><span class=\"n\">vector</span><span class=\"o\">&lt;</span><span class=\"n\">std</span><span class=\"o\">::</span><span class=\"n\">shared_ptr</span><span class=\"o\">&lt;</span><span class=\"n\">ASTNode</span><span class=\"o\">&gt;&gt;&amp;</span><span class=\"w\"> </span><span class=\"n\">stack</span>\n",
       "<span class=\"p\">)</span><span class=\"w\"> </span><span class=\"p\">{</span>\n",
       "<span class=\"w\">  </span><span class=\"k\">return</span><span class=\"w\"> </span><span class=\"n\">scope</span><span class=\"o\">-&gt;</span><span class=\"n\">get</span><span class=\"p\">(</span><span class=\"n\">name_</span><span class=\"p\">,</span><span class=\"w\"> </span><span class=\"n\">stack</span><span class=\"p\">);</span>\n",
       "<span class=\"p\">}</span>\n",
       "\n",
       "\n",
       "<span class=\"c1\">//// main function /////////////////////////////////////////////////////////</span>\n",
       "\n",
       "\n",
       "<span class=\"kt\">int</span><span class=\"w\"> </span><span class=\"n\">main</span><span class=\"p\">(</span><span class=\"kt\">int</span><span class=\"w\"> </span><span class=\"n\">argc</span><span class=\"p\">,</span><span class=\"w\"> </span><span class=\"kt\">char</span><span class=\"o\">**</span><span class=\"w\"> </span><span class=\"n\">argv</span><span class=\"p\">)</span><span class=\"w\"> </span><span class=\"p\">{</span>\n",
       "<span class=\"w\">  </span><span class=\"c1\">// create a variable Scope</span>\n",
       "<span class=\"w\">  </span><span class=\"n\">std</span><span class=\"o\">::</span><span class=\"n\">shared_ptr</span><span class=\"o\">&lt;</span><span class=\"n\">Scope</span><span class=\"o\">&gt;</span><span class=\"w\"> </span><span class=\"n\">scope</span><span class=\"w\"> </span><span class=\"o\">=</span><span class=\"w\"> </span><span class=\"n\">std</span><span class=\"o\">::</span><span class=\"n\">make_shared</span><span class=\"o\">&lt;</span><span class=\"n\">Scope</span><span class=\"o\">&gt;</span><span class=\"p\">(</span><span class=\"k\">nullptr</span><span class=\"p\">);</span>\n",
       "\n",
       "<span class=\"w\">  </span><span class=\"c1\">// and put some built-ins in it</span>\n",
       "<span class=\"w\">  </span><span class=\"n\">std</span><span class=\"o\">::</span><span class=\"n\">vector</span><span class=\"o\">&lt;</span><span class=\"n\">std</span><span class=\"o\">::</span><span class=\"n\">shared_ptr</span><span class=\"o\">&lt;</span><span class=\"n\">ASTNode</span><span class=\"o\">&gt;&gt;</span><span class=\"w\"> </span><span class=\"n\">stack</span><span class=\"p\">;</span>\n",
       "<span class=\"w\">  </span><span class=\"n\">scope</span><span class=\"o\">-&gt;</span><span class=\"n\">assign</span><span class=\"p\">(</span><span class=\"s\">&quot;add&quot;</span><span class=\"p\">,</span><span class=\"w\"> </span><span class=\"n\">std</span><span class=\"o\">::</span><span class=\"n\">make_shared</span><span class=\"o\">&lt;</span><span class=\"n\">ObjectFunctionAdd</span><span class=\"o\">&gt;</span><span class=\"p\">(),</span><span class=\"w\"> </span><span class=\"n\">stack</span><span class=\"p\">);</span>\n",
       "<span class=\"w\">  </span><span class=\"n\">scope</span><span class=\"o\">-&gt;</span><span class=\"n\">assign</span><span class=\"p\">(</span><span class=\"s\">&quot;mul&quot;</span><span class=\"p\">,</span><span class=\"w\"> </span><span class=\"n\">std</span><span class=\"o\">::</span><span class=\"n\">make_shared</span><span class=\"o\">&lt;</span><span class=\"n\">ObjectFunctionMul</span><span class=\"o\">&gt;</span><span class=\"p\">(),</span><span class=\"w\"> </span><span class=\"n\">stack</span><span class=\"p\">);</span>\n",
       "<span class=\"w\">  </span><span class=\"n\">scope</span><span class=\"o\">-&gt;</span><span class=\"n\">assign</span><span class=\"p\">(</span><span class=\"s\">&quot;get&quot;</span><span class=\"p\">,</span><span class=\"w\"> </span><span class=\"n\">std</span><span class=\"o\">::</span><span class=\"n\">make_shared</span><span class=\"o\">&lt;</span><span class=\"n\">ObjectFunctionGet</span><span class=\"o\">&gt;</span><span class=\"p\">(),</span><span class=\"w\"> </span><span class=\"n\">stack</span><span class=\"p\">);</span>\n",
       "<span class=\"w\">  </span><span class=\"n\">scope</span><span class=\"o\">-&gt;</span><span class=\"n\">assign</span><span class=\"p\">(</span><span class=\"s\">&quot;len&quot;</span><span class=\"p\">,</span><span class=\"w\"> </span><span class=\"n\">std</span><span class=\"o\">::</span><span class=\"n\">make_shared</span><span class=\"o\">&lt;</span><span class=\"n\">ObjectFunctionLen</span><span class=\"o\">&gt;</span><span class=\"p\">(),</span><span class=\"w\"> </span><span class=\"n\">stack</span><span class=\"p\">);</span>\n",
       "<span class=\"w\">  </span><span class=\"n\">scope</span><span class=\"o\">-&gt;</span><span class=\"n\">assign</span><span class=\"p\">(</span><span class=\"s\">&quot;map&quot;</span><span class=\"p\">,</span><span class=\"w\"> </span><span class=\"n\">std</span><span class=\"o\">::</span><span class=\"n\">make_shared</span><span class=\"o\">&lt;</span><span class=\"n\">ObjectFunctionMap</span><span class=\"o\">&gt;</span><span class=\"p\">(),</span><span class=\"w\"> </span><span class=\"n\">stack</span><span class=\"p\">);</span>\n",
       "<span class=\"w\">  </span><span class=\"n\">scope</span><span class=\"o\">-&gt;</span><span class=\"n\">assign</span><span class=\"p\">(</span><span class=\"s\">&quot;reduce&quot;</span><span class=\"p\">,</span><span class=\"w\"> </span><span class=\"n\">std</span><span class=\"o\">::</span><span class=\"n\">make_shared</span><span class=\"o\">&lt;</span><span class=\"n\">ObjectFunctionReduce</span><span class=\"o\">&gt;</span><span class=\"p\">(),</span><span class=\"w\"> </span><span class=\"n\">stack</span><span class=\"p\">);</span>\n",
       "\n",
       "<span class=\"w\">  </span><span class=\"c1\">// use the command-line arguments to add some data from files</span>\n",
       "<span class=\"w\">  </span><span class=\"k\">for</span><span class=\"w\"> </span><span class=\"p\">(</span><span class=\"kt\">int</span><span class=\"w\"> </span><span class=\"n\">argi</span><span class=\"w\"> </span><span class=\"o\">=</span><span class=\"w\"> </span><span class=\"mi\">1</span><span class=\"p\">;</span><span class=\"w\">  </span><span class=\"n\">argi</span><span class=\"w\"> </span><span class=\"o\">&lt;</span><span class=\"w\"> </span><span class=\"n\">argc</span><span class=\"p\">;</span><span class=\"w\">  </span><span class=\"n\">argi</span><span class=\"o\">++</span><span class=\"p\">)</span><span class=\"w\"> </span><span class=\"p\">{</span>\n",
       "<span class=\"w\">    </span><span class=\"n\">std</span><span class=\"o\">::</span><span class=\"n\">string</span><span class=\"w\"> </span><span class=\"n\">arg</span><span class=\"w\"> </span><span class=\"o\">=</span><span class=\"w\"> </span><span class=\"n\">argv</span><span class=\"p\">[</span><span class=\"n\">argi</span><span class=\"p\">];</span>\n",
       "\n",
       "<span class=\"w\">    </span><span class=\"n\">std</span><span class=\"o\">::</span><span class=\"n\">string</span><span class=\"o\">::</span><span class=\"n\">size_type</span><span class=\"w\"> </span><span class=\"n\">pos</span><span class=\"w\"> </span><span class=\"o\">=</span><span class=\"w\"> </span><span class=\"n\">arg</span><span class=\"p\">.</span><span class=\"n\">find</span><span class=\"p\">(</span><span class=\"sc\">&#39;=&#39;</span><span class=\"p\">);</span>\n",
       "<span class=\"w\">    </span><span class=\"k\">if</span><span class=\"w\"> </span><span class=\"p\">(</span><span class=\"n\">arg</span><span class=\"p\">.</span><span class=\"n\">find</span><span class=\"p\">(</span><span class=\"sc\">&#39;=&#39;</span><span class=\"p\">)</span><span class=\"w\"> </span><span class=\"o\">==</span><span class=\"w\"> </span><span class=\"n\">std</span><span class=\"o\">::</span><span class=\"n\">string</span><span class=\"o\">::</span><span class=\"n\">npos</span><span class=\"p\">)</span><span class=\"w\"> </span><span class=\"p\">{</span>\n",
       "<span class=\"w\">      </span><span class=\"n\">std</span><span class=\"o\">::</span><span class=\"n\">cout</span><span class=\"w\"> </span><span class=\"o\">&lt;&lt;</span><span class=\"w\"> </span><span class=\"s\">&quot;arguments must be separated by &#39;=&#39;, as in: data=/path/to/data.int32&quot;</span><span class=\"w\"> </span><span class=\"o\">&lt;&lt;</span><span class=\"w\"> </span><span class=\"n\">std</span><span class=\"o\">::</span><span class=\"n\">endl</span><span class=\"p\">;</span>\n",
       "<span class=\"w\">      </span><span class=\"k\">return</span><span class=\"w\"> </span><span class=\"mi\">-1</span><span class=\"p\">;</span>\n",
       "<span class=\"w\">    </span><span class=\"p\">}</span>\n",
       "\n",
       "<span class=\"w\">    </span><span class=\"n\">std</span><span class=\"o\">::</span><span class=\"n\">string</span><span class=\"w\"> </span><span class=\"n\">var_name</span><span class=\"w\"> </span><span class=\"o\">=</span><span class=\"w\"> </span><span class=\"n\">arg</span><span class=\"p\">.</span><span class=\"n\">substr</span><span class=\"p\">(</span><span class=\"mi\">0</span><span class=\"p\">,</span><span class=\"w\"> </span><span class=\"n\">pos</span><span class=\"p\">);</span>\n",
       "<span class=\"w\">    </span><span class=\"n\">std</span><span class=\"o\">::</span><span class=\"n\">string</span><span class=\"w\"> </span><span class=\"n\">file_name</span><span class=\"w\"> </span><span class=\"o\">=</span><span class=\"w\"> </span><span class=\"n\">arg</span><span class=\"p\">.</span><span class=\"n\">substr</span><span class=\"p\">(</span><span class=\"n\">pos</span><span class=\"w\"> </span><span class=\"o\">+</span><span class=\"w\"> </span><span class=\"mi\">1</span><span class=\"p\">,</span><span class=\"w\"> </span><span class=\"mi\">-1</span><span class=\"p\">);</span>\n",
       "\n",
       "<span class=\"w\">    </span><span class=\"n\">std</span><span class=\"o\">::</span><span class=\"n\">ifstream</span><span class=\"w\"> </span><span class=\"nf\">file</span><span class=\"p\">(</span><span class=\"n\">file_name</span><span class=\"p\">,</span><span class=\"w\"> </span><span class=\"n\">std</span><span class=\"o\">::</span><span class=\"n\">ios</span><span class=\"o\">::</span><span class=\"n\">binary</span><span class=\"p\">);</span>\n",
       "<span class=\"w\">    </span><span class=\"k\">if</span><span class=\"w\"> </span><span class=\"p\">(</span><span class=\"o\">!</span><span class=\"n\">file</span><span class=\"p\">)</span><span class=\"w\"> </span><span class=\"p\">{</span>\n",
       "<span class=\"w\">      </span><span class=\"n\">std</span><span class=\"o\">::</span><span class=\"n\">cout</span><span class=\"w\"> </span><span class=\"o\">&lt;&lt;</span><span class=\"w\"> </span><span class=\"s\">&quot;could not open file: &quot;</span><span class=\"w\"> </span><span class=\"o\">&lt;&lt;</span><span class=\"w\"> </span><span class=\"n\">file_name</span><span class=\"w\"> </span><span class=\"o\">&lt;&lt;</span><span class=\"w\"> </span><span class=\"n\">std</span><span class=\"o\">::</span><span class=\"n\">endl</span><span class=\"p\">;</span>\n",
       "<span class=\"w\">      </span><span class=\"k\">return</span><span class=\"w\"> </span><span class=\"mi\">-1</span><span class=\"p\">;</span>\n",
       "<span class=\"w\">    </span><span class=\"p\">}</span>\n",
       "\n",
       "<span class=\"w\">    </span><span class=\"n\">std</span><span class=\"o\">::</span><span class=\"n\">vector</span><span class=\"o\">&lt;</span><span class=\"n\">std</span><span class=\"o\">::</span><span class=\"n\">shared_ptr</span><span class=\"o\">&lt;</span><span class=\"n\">Object</span><span class=\"o\">&gt;&gt;</span><span class=\"w\"> </span><span class=\"n\">values</span><span class=\"p\">;</span>\n",
       "<span class=\"w\">    </span><span class=\"kt\">int32_t</span><span class=\"w\"> </span><span class=\"n\">raw</span><span class=\"p\">;</span>\n",
       "<span class=\"w\">    </span><span class=\"k\">while</span><span class=\"w\"> </span><span class=\"p\">(</span><span class=\"n\">file</span><span class=\"p\">.</span><span class=\"n\">read</span><span class=\"p\">(</span><span class=\"k\">reinterpret_cast</span><span class=\"o\">&lt;</span><span class=\"kt\">char</span><span class=\"o\">*&gt;</span><span class=\"p\">(</span><span class=\"o\">&amp;</span><span class=\"n\">raw</span><span class=\"p\">),</span><span class=\"w\"> </span><span class=\"k\">sizeof</span><span class=\"p\">(</span><span class=\"n\">raw</span><span class=\"p\">)))</span><span class=\"w\"> </span><span class=\"p\">{</span>\n",
       "<span class=\"w\">      </span><span class=\"n\">values</span><span class=\"p\">.</span><span class=\"n\">push_back</span><span class=\"p\">(</span><span class=\"n\">std</span><span class=\"o\">::</span><span class=\"n\">make_shared</span><span class=\"o\">&lt;</span><span class=\"n\">ObjectInt</span><span class=\"o\">&gt;</span><span class=\"p\">(</span><span class=\"n\">raw</span><span class=\"p\">));</span>\n",
       "<span class=\"w\">    </span><span class=\"p\">}</span>\n",
       "\n",
       "<span class=\"w\">    </span><span class=\"n\">file</span><span class=\"p\">.</span><span class=\"n\">close</span><span class=\"p\">();</span>\n",
       "\n",
       "<span class=\"w\">    </span><span class=\"n\">scope</span><span class=\"o\">-&gt;</span><span class=\"n\">assign</span><span class=\"p\">(</span><span class=\"n\">var_name</span><span class=\"p\">,</span><span class=\"w\"> </span><span class=\"n\">std</span><span class=\"o\">::</span><span class=\"n\">make_shared</span><span class=\"o\">&lt;</span><span class=\"n\">ObjectList</span><span class=\"o\">&gt;</span><span class=\"p\">(</span><span class=\"n\">values</span><span class=\"p\">),</span><span class=\"w\"> </span><span class=\"n\">stack</span><span class=\"p\">);</span>\n",
       "<span class=\"w\">  </span><span class=\"p\">}</span>\n",
       "\n",
       "<span class=\"w\">  </span><span class=\"c1\">// baby-python startup screen!</span>\n",
       "<span class=\"w\">  </span><span class=\"n\">std</span><span class=\"o\">::</span><span class=\"n\">cout</span><span class=\"w\"> </span><span class=\"o\">&lt;&lt;</span><span class=\"w\"> </span><span class=\"s\">&quot;                     num = -123        add(x, x)   get(lst, i)   map(f, lst)&quot;</span><span class=\"w\"> </span><span class=\"o\">&lt;&lt;</span><span class=\"w\"> </span><span class=\"n\">std</span><span class=\"o\">::</span><span class=\"n\">endl</span><span class=\"p\">;</span>\n",
       "<span class=\"w\">  </span><span class=\"n\">std</span><span class=\"o\">::</span><span class=\"n\">cout</span><span class=\"w\"> </span><span class=\"o\">&lt;&lt;</span><span class=\"w\"> </span><span class=\"s\">&quot;               oo    lst = [1, 2, 3]   mul(x, x)   len(lst)      reduce(f, lst)&quot;</span><span class=\"w\"> </span><span class=\"o\">&lt;&lt;</span><span class=\"w\"> </span><span class=\"n\">std</span><span class=\"o\">::</span><span class=\"n\">endl</span><span class=\"p\">;</span>\n",
       "<span class=\"w\">  </span><span class=\"n\">std</span><span class=\"o\">::</span><span class=\"n\">cout</span><span class=\"w\"> </span><span class=\"o\">&lt;&lt;</span><span class=\"w\"> </span><span class=\"s\">&quot;. . . __/</span><span class=\"se\">\\\\</span><span class=\"s\">_/</span><span class=\"se\">\\\\</span><span class=\"s\">_/`&#39;    f = def(x) single-expr   f = def(x, y) { ... ; last-expr }&quot;</span><span class=\"w\"> </span><span class=\"o\">&lt;&lt;</span><span class=\"w\"> </span><span class=\"n\">std</span><span class=\"o\">::</span><span class=\"n\">endl</span><span class=\"p\">;</span>\n",
       "<span class=\"w\">  </span><span class=\"n\">std</span><span class=\"o\">::</span><span class=\"n\">cout</span><span class=\"w\"> </span><span class=\"o\">&lt;&lt;</span><span class=\"w\"> </span><span class=\"n\">std</span><span class=\"o\">::</span><span class=\"n\">endl</span><span class=\"p\">;</span>\n",
       "\n",
       "<span class=\"w\">  </span><span class=\"c1\">// start the REPL (Read Evaluate Print Loop)</span>\n",
       "<span class=\"w\">  </span><span class=\"k\">while</span><span class=\"w\"> </span><span class=\"p\">(</span><span class=\"nb\">true</span><span class=\"p\">)</span><span class=\"w\"> </span><span class=\"p\">{</span>\n",
       "<span class=\"w\">    </span><span class=\"n\">std</span><span class=\"o\">::</span><span class=\"n\">string</span><span class=\"w\"> </span><span class=\"n\">line</span><span class=\"p\">;</span>\n",
       "<span class=\"w\">    </span><span class=\"n\">std</span><span class=\"o\">::</span><span class=\"n\">cout</span><span class=\"w\"> </span><span class=\"o\">&lt;&lt;</span><span class=\"w\"> </span><span class=\"s\">&quot;&gt;&gt; &quot;</span><span class=\"p\">;</span>\n",
       "<span class=\"w\">    </span><span class=\"k\">if</span><span class=\"w\"> </span><span class=\"p\">(</span><span class=\"o\">!</span><span class=\"n\">std</span><span class=\"o\">::</span><span class=\"n\">getline</span><span class=\"p\">(</span><span class=\"n\">std</span><span class=\"o\">::</span><span class=\"n\">cin</span><span class=\"p\">,</span><span class=\"w\"> </span><span class=\"n\">line</span><span class=\"p\">))</span><span class=\"w\"> </span><span class=\"p\">{</span>\n",
       "<span class=\"w\">      </span><span class=\"n\">std</span><span class=\"o\">::</span><span class=\"n\">cout</span><span class=\"w\"> </span><span class=\"o\">&lt;&lt;</span><span class=\"w\"> </span><span class=\"n\">std</span><span class=\"o\">::</span><span class=\"n\">endl</span><span class=\"p\">;</span>\n",
       "<span class=\"w\">      </span><span class=\"k\">break</span><span class=\"p\">;</span>\n",
       "<span class=\"w\">    </span><span class=\"p\">}</span>\n",
       "\n",
       "<span class=\"w\">    </span><span class=\"c1\">// parse the line in two steps</span>\n",
       "<span class=\"w\">    </span><span class=\"n\">std</span><span class=\"o\">::</span><span class=\"n\">vector</span><span class=\"o\">&lt;</span><span class=\"n\">PosToken</span><span class=\"o\">&gt;</span><span class=\"w\"> </span><span class=\"n\">tokens</span><span class=\"p\">;</span>\n",
       "<span class=\"w\">    </span><span class=\"kt\">int</span><span class=\"w\"> </span><span class=\"n\">i</span><span class=\"w\"> </span><span class=\"o\">=</span><span class=\"w\"> </span><span class=\"mi\">0</span><span class=\"p\">;</span>\n",
       "<span class=\"w\">    </span><span class=\"n\">std</span><span class=\"o\">::</span><span class=\"n\">shared_ptr</span><span class=\"o\">&lt;</span><span class=\"n\">ASTNode</span><span class=\"o\">&gt;</span><span class=\"w\"> </span><span class=\"n\">ast</span><span class=\"p\">;</span>\n",
       "<span class=\"w\">    </span><span class=\"k\">try</span><span class=\"w\"> </span><span class=\"p\">{</span>\n",
       "<span class=\"w\">      </span><span class=\"c1\">// (1) break the whole string into a list of tokens</span>\n",
       "<span class=\"w\">      </span><span class=\"n\">tokens</span><span class=\"w\"> </span><span class=\"o\">=</span><span class=\"w\"> </span><span class=\"n\">tokenize</span><span class=\"p\">(</span><span class=\"n\">line</span><span class=\"p\">);</span>\n",
       "<span class=\"w\">      </span><span class=\"c1\">// (2) build an AST tree from the tokens</span>\n",
       "<span class=\"w\">      </span><span class=\"n\">ast</span><span class=\"w\"> </span><span class=\"o\">=</span><span class=\"w\"> </span><span class=\"n\">parse</span><span class=\"p\">(</span><span class=\"n\">i</span><span class=\"p\">,</span><span class=\"w\"> </span><span class=\"n\">tokens</span><span class=\"p\">,</span><span class=\"w\"> </span><span class=\"n\">line</span><span class=\"p\">);</span>\n",
       "<span class=\"w\">    </span><span class=\"p\">}</span>\n",
       "<span class=\"w\">    </span><span class=\"k\">catch</span><span class=\"w\"> </span><span class=\"p\">(</span><span class=\"n\">std</span><span class=\"o\">::</span><span class=\"n\">runtime_error</span><span class=\"w\"> </span><span class=\"k\">const</span><span class=\"o\">&amp;</span><span class=\"w\"> </span><span class=\"n\">exception</span><span class=\"p\">)</span><span class=\"w\"> </span><span class=\"p\">{</span>\n",
       "<span class=\"w\">      </span><span class=\"c1\">// syntax error while tokenizing or building AST</span>\n",
       "<span class=\"w\">      </span><span class=\"n\">std</span><span class=\"o\">::</span><span class=\"n\">cout</span><span class=\"w\"> </span><span class=\"o\">&lt;&lt;</span><span class=\"w\"> </span><span class=\"n\">exception</span><span class=\"p\">.</span><span class=\"n\">what</span><span class=\"p\">()</span><span class=\"w\"> </span><span class=\"o\">&lt;&lt;</span><span class=\"w\"> </span><span class=\"n\">std</span><span class=\"o\">::</span><span class=\"n\">endl</span><span class=\"p\">;</span>\n",
       "<span class=\"w\">    </span><span class=\"p\">}</span>\n",
       "\n",
       "<span class=\"w\">    </span><span class=\"k\">if</span><span class=\"w\"> </span><span class=\"p\">(</span><span class=\"n\">tokens</span><span class=\"p\">.</span><span class=\"n\">size</span><span class=\"p\">()</span><span class=\"w\"> </span><span class=\"o\">==</span><span class=\"w\"> </span><span class=\"mi\">1</span><span class=\"w\">  </span><span class=\"o\">&amp;&amp;</span><span class=\"w\">  </span><span class=\"n\">tokens</span><span class=\"p\">[</span><span class=\"mi\">0</span><span class=\"p\">].</span><span class=\"n\">second</span><span class=\"w\"> </span><span class=\"o\">==</span><span class=\"w\"> </span><span class=\"s\">&quot;exit&quot;</span><span class=\"p\">)</span><span class=\"w\"> </span><span class=\"p\">{</span>\n",
       "<span class=\"w\">      </span><span class=\"k\">break</span><span class=\"p\">;</span>\n",
       "<span class=\"w\">    </span><span class=\"p\">}</span>\n",
       "\n",
       "<span class=\"w\">    </span><span class=\"k\">if</span><span class=\"w\"> </span><span class=\"p\">(</span><span class=\"n\">ast</span><span class=\"p\">)</span><span class=\"w\"> </span><span class=\"p\">{</span>\n",
       "<span class=\"w\">      </span><span class=\"k\">if</span><span class=\"w\"> </span><span class=\"p\">(</span><span class=\"n\">i</span><span class=\"w\"> </span><span class=\"o\">&lt;</span><span class=\"w\"> </span><span class=\"n\">tokens</span><span class=\"p\">.</span><span class=\"n\">size</span><span class=\"p\">())</span><span class=\"w\"> </span><span class=\"p\">{</span>\n",
       "<span class=\"w\">        </span><span class=\"c1\">// unused tokens after building a whole AST is an error</span>\n",
       "<span class=\"w\">        </span><span class=\"n\">std</span><span class=\"o\">::</span><span class=\"n\">cout</span><span class=\"w\"> </span><span class=\"o\">&lt;&lt;</span><span class=\"w\"> </span><span class=\"n\">error_arrow</span><span class=\"p\">(</span><span class=\"n\">tokens</span><span class=\"p\">[</span><span class=\"n\">i</span><span class=\"p\">].</span><span class=\"n\">first</span><span class=\"p\">);</span>\n",
       "<span class=\"w\">        </span><span class=\"n\">std</span><span class=\"o\">::</span><span class=\"n\">cout</span><span class=\"w\"> </span><span class=\"o\">&lt;&lt;</span><span class=\"w\"> </span><span class=\"s\">&quot;complete expression, but line doesn&#39;t end&quot;</span><span class=\"w\"> </span><span class=\"o\">&lt;&lt;</span><span class=\"w\"> </span><span class=\"n\">std</span><span class=\"o\">::</span><span class=\"n\">endl</span><span class=\"p\">;</span>\n",
       "<span class=\"w\">      </span><span class=\"p\">}</span>\n",
       "\n",
       "<span class=\"w\">      </span><span class=\"k\">else</span><span class=\"w\"> </span><span class=\"p\">{</span>\n",
       "<span class=\"w\">        </span><span class=\"c1\">// create a new stack and attempt to run the AST</span>\n",
       "<span class=\"w\">        </span><span class=\"n\">std</span><span class=\"o\">::</span><span class=\"n\">vector</span><span class=\"o\">&lt;</span><span class=\"n\">std</span><span class=\"o\">::</span><span class=\"n\">shared_ptr</span><span class=\"o\">&lt;</span><span class=\"n\">ASTNode</span><span class=\"o\">&gt;&gt;</span><span class=\"w\"> </span><span class=\"n\">stack</span><span class=\"p\">;</span>\n",
       "<span class=\"w\">        </span><span class=\"n\">std</span><span class=\"o\">::</span><span class=\"n\">shared_ptr</span><span class=\"o\">&lt;</span><span class=\"n\">Object</span><span class=\"o\">&gt;</span><span class=\"w\"> </span><span class=\"n\">result</span><span class=\"p\">(</span><span class=\"k\">nullptr</span><span class=\"p\">);</span>\n",
       "\n",
       "<span class=\"w\">        </span><span class=\"k\">auto</span><span class=\"w\"> </span><span class=\"n\">start</span><span class=\"w\"> </span><span class=\"o\">=</span><span class=\"w\"> </span><span class=\"n\">std</span><span class=\"o\">::</span><span class=\"n\">chrono</span><span class=\"o\">::</span><span class=\"n\">high_resolution_clock</span><span class=\"o\">::</span><span class=\"n\">now</span><span class=\"p\">();</span>\n",
       "\n",
       "<span class=\"w\">        </span><span class=\"k\">try</span><span class=\"w\"> </span><span class=\"p\">{</span>\n",
       "<span class=\"w\">          </span><span class=\"n\">result</span><span class=\"w\"> </span><span class=\"o\">=</span><span class=\"w\"> </span><span class=\"n\">ast</span><span class=\"o\">-&gt;</span><span class=\"n\">run</span><span class=\"p\">(</span><span class=\"n\">scope</span><span class=\"p\">,</span><span class=\"w\"> </span><span class=\"n\">stack</span><span class=\"p\">);</span>\n",
       "<span class=\"w\">        </span><span class=\"p\">}</span>\n",
       "<span class=\"w\">        </span><span class=\"k\">catch</span><span class=\"w\"> </span><span class=\"p\">(</span><span class=\"n\">std</span><span class=\"o\">::</span><span class=\"n\">runtime_error</span><span class=\"w\"> </span><span class=\"k\">const</span><span class=\"o\">&amp;</span><span class=\"w\"> </span><span class=\"n\">exception</span><span class=\"p\">)</span><span class=\"w\"> </span><span class=\"p\">{</span>\n",
       "<span class=\"w\">          </span><span class=\"n\">std</span><span class=\"o\">::</span><span class=\"n\">cout</span><span class=\"w\"> </span><span class=\"o\">&lt;&lt;</span><span class=\"w\"> </span><span class=\"n\">exception</span><span class=\"p\">.</span><span class=\"n\">what</span><span class=\"p\">()</span><span class=\"w\"> </span><span class=\"o\">&lt;&lt;</span><span class=\"w\"> </span><span class=\"n\">std</span><span class=\"o\">::</span><span class=\"n\">endl</span><span class=\"p\">;</span>\n",
       "<span class=\"w\">        </span><span class=\"p\">}</span>\n",
       "\n",
       "<span class=\"w\">        </span><span class=\"k\">auto</span><span class=\"w\"> </span><span class=\"n\">stop</span><span class=\"w\"> </span><span class=\"o\">=</span><span class=\"w\"> </span><span class=\"n\">std</span><span class=\"o\">::</span><span class=\"n\">chrono</span><span class=\"o\">::</span><span class=\"n\">high_resolution_clock</span><span class=\"o\">::</span><span class=\"n\">now</span><span class=\"p\">();</span>\n",
       "<span class=\"w\">        </span><span class=\"n\">std</span><span class=\"o\">::</span><span class=\"n\">chrono</span><span class=\"o\">::</span><span class=\"n\">duration</span><span class=\"o\">&lt;</span><span class=\"kt\">double</span><span class=\"o\">&gt;</span><span class=\"w\"> </span><span class=\"n\">duration</span><span class=\"w\"> </span><span class=\"o\">=</span><span class=\"w\"> </span><span class=\"n\">stop</span><span class=\"w\"> </span><span class=\"o\">-</span><span class=\"w\"> </span><span class=\"n\">start</span><span class=\"p\">;</span>\n",
       "\n",
       "<span class=\"w\">        </span><span class=\"k\">if</span><span class=\"w\"> </span><span class=\"p\">(</span><span class=\"n\">result</span><span class=\"p\">)</span><span class=\"w\"> </span><span class=\"p\">{</span>\n",
       "<span class=\"w\">          </span><span class=\"c1\">// execution was successful! print the result!</span>\n",
       "<span class=\"w\">          </span><span class=\"kt\">int</span><span class=\"w\"> </span><span class=\"n\">remaining</span><span class=\"w\"> </span><span class=\"o\">=</span><span class=\"w\"> </span><span class=\"n\">MAX_REPR</span><span class=\"p\">;</span>\n",
       "<span class=\"w\">          </span><span class=\"n\">std</span><span class=\"o\">::</span><span class=\"n\">string</span><span class=\"w\"> </span><span class=\"n\">repr</span><span class=\"w\"> </span><span class=\"o\">=</span><span class=\"w\"> </span><span class=\"n\">result</span><span class=\"o\">-&gt;</span><span class=\"n\">repr</span><span class=\"p\">(</span><span class=\"n\">remaining</span><span class=\"p\">);</span>\n",
       "<span class=\"w\">          </span><span class=\"k\">if</span><span class=\"w\"> </span><span class=\"p\">(</span><span class=\"n\">repr</span><span class=\"p\">.</span><span class=\"n\">size</span><span class=\"p\">()</span><span class=\"w\"> </span><span class=\"o\">&gt;</span><span class=\"w\"> </span><span class=\"n\">MAX_REPR</span><span class=\"p\">)</span><span class=\"w\"> </span><span class=\"p\">{</span>\n",
       "<span class=\"w\">            </span><span class=\"n\">repr</span><span class=\"w\"> </span><span class=\"o\">=</span><span class=\"w\"> </span><span class=\"n\">repr</span><span class=\"p\">.</span><span class=\"n\">substr</span><span class=\"p\">(</span><span class=\"mi\">0</span><span class=\"p\">,</span><span class=\"w\"> </span><span class=\"n\">MAX_REPR</span><span class=\"w\"> </span><span class=\"o\">-</span><span class=\"w\"> </span><span class=\"mi\">3</span><span class=\"p\">)</span><span class=\"w\"> </span><span class=\"o\">+</span><span class=\"w\"> </span><span class=\"s\">&quot;...&quot;</span><span class=\"p\">;</span>\n",
       "<span class=\"w\">          </span><span class=\"p\">}</span>\n",
       "<span class=\"w\">          </span><span class=\"n\">std</span><span class=\"o\">::</span><span class=\"n\">cout</span><span class=\"w\"> </span><span class=\"o\">&lt;&lt;</span><span class=\"w\"> </span><span class=\"n\">repr</span><span class=\"w\"> </span><span class=\"o\">&lt;&lt;</span><span class=\"w\"> </span><span class=\"n\">std</span><span class=\"o\">::</span><span class=\"n\">endl</span><span class=\"p\">;</span>\n",
       "<span class=\"w\">          </span><span class=\"n\">std</span><span class=\"o\">::</span><span class=\"n\">cout</span><span class=\"w\"> </span><span class=\"o\">&lt;&lt;</span><span class=\"w\"> </span><span class=\"s\">&quot;(&quot;</span><span class=\"w\"> </span><span class=\"o\">&lt;&lt;</span><span class=\"w\"> </span><span class=\"n\">duration</span><span class=\"p\">.</span><span class=\"n\">count</span><span class=\"p\">()</span><span class=\"w\"> </span><span class=\"o\">&lt;&lt;</span><span class=\"w\"> </span><span class=\"s\">&quot; seconds)&quot;</span><span class=\"w\"> </span><span class=\"o\">&lt;&lt;</span><span class=\"w\"> </span><span class=\"n\">std</span><span class=\"o\">::</span><span class=\"n\">endl</span><span class=\"p\">;</span>\n",
       "<span class=\"w\">        </span><span class=\"p\">}</span>\n",
       "\n",
       "<span class=\"w\">      </span><span class=\"p\">}</span>\n",
       "<span class=\"w\">    </span><span class=\"p\">}</span>\n",
       "<span class=\"w\">  </span><span class=\"p\">}</span>\n",
       "\n",
       "<span class=\"w\">  </span><span class=\"k\">return</span><span class=\"w\"> </span><span class=\"mi\">0</span><span class=\"p\">;</span>\n",
       "<span class=\"p\">}</span>\n",
       "\n",
       "\n",
       "<span class=\"c1\">//// The end!</span>\n",
       "</pre></div>\n"
      ],
      "text/plain": [
       "<IPython.core.display.HTML object>"
      ]
     },
     "metadata": {},
     "output_type": "display_data"
    }
   ],
   "source": [
    "with open(\"baby-python.cpp\") as file:\n",
    "    display(HTML(highlight(file.read(), CppLexer(), HtmlFormatter())))"
   ]
  },
  {
   "cell_type": "markdown",
   "id": "139fd861-ac43-402c-ae33-0a1e55794ba6",
   "metadata": {
    "editable": true,
    "slideshow": {
     "slide_type": "slide"
    },
    "tags": []
   },
   "source": [
    "Similarly in Python:\n",
    "\n",
    "* variables are in a `dict[str, object]`"
   ]
  },
  {
   "cell_type": "markdown",
   "id": "43f7bc68-6010-4d27-a06f-90217b698e35",
   "metadata": {
    "editable": true,
    "slideshow": {
     "slide_type": ""
    },
    "tags": []
   },
   "source": [
    "<br>"
   ]
  },
  {
   "cell_type": "code",
   "execution_count": 19,
   "id": "01e8cf50-d9ff-4104-b8a9-7296e4203b16",
   "metadata": {
    "editable": true,
    "slideshow": {
     "slide_type": ""
    },
    "tags": []
   },
   "outputs": [
    {
     "data": {
      "text/plain": [
       "{'__name__': '__main__',\n",
       " '__doc__': 'Automatically created module for IPython interactive environment',\n",
       " '__package__': None,\n",
       " '__loader__': None,\n",
       " '__spec__': None,\n",
       " '__builtin__': <module 'builtins' (built-in)>,\n",
       " '__builtins__': <module 'builtins' (built-in)>,\n",
       " '_ih': ['',\n",
       "  \"get_ipython().run_cell_magic('html', '', '\\\\n<style>\\\\n.jp-MarkdownOutput {\\\\n    font-size: 2.5em !important;\\\\n}\\\\n.jp-MarkdownOutput table {\\\\n    font-size: 1em !important;\\\\n}\\\\n.jp-OutputArea-output pre {\\\\n    font-size: 2em !important;\\\\n}\\\\n.cm-content {\\\\n    font-size: 2em !important;\\\\n}\\\\n.page-id-xx, html {\\\\n    scrollbar-width: none; /* FF */\\\\n}\\\\n::-webkit-scrollbar {\\\\n    width: 0px; /* Chrome & Edge */\\\\n}\\\\n.jp-Notebook.jp-mod-commandMode .jp-Cell.jp-mod-selected {\\\\n    background: none;\\\\n}\\\\n</style>\\\\n')\",\n",
       "  'import numpy as np',\n",
       "  'million_integers = np.random.normal(0, 10, 1_000_000).astype(np.int32)\\nmillion_integers',\n",
       "  'def addthem_python(data):\\n    out = 0\\n    for x in data:\\n        out += x\\n    return out',\n",
       "  \"get_ipython().run_cell_magic('writefile', 'addthem.c', '\\\\nint run(int* data) {\\\\n    int out = 0;\\\\n    for (int i = 0;  i < 1000000;  i++) {\\\\n        out += data[i];\\\\n    }\\\\n    return out;\\\\n}\\\\n')\",\n",
       "  \"get_ipython().system('cc -O0 -shared addthem.c -o libaddthem_attempt1.so')\",\n",
       "  'import ctypes',\n",
       "  'libaddthem = ctypes.cdll.LoadLibrary(\"./libaddthem_attempt1.so\")\\npointer_to_ints = ctypes.POINTER(ctypes.c_int)\\nlibaddthem.run.argtypes = (pointer_to_ints,)\\nlibaddthem.run.restype = ctypes.c_int',\n",
       "  'addthem_python(million_integers)',\n",
       "  'libaddthem.run(million_integers.ctypes.data_as(pointer_to_ints))',\n",
       "  \"get_ipython().run_cell_magic('timeit', '', '\\\\naddthem_python(million_integers)\\\\n')\",\n",
       "  \"get_ipython().run_cell_magic('timeit', '', '\\\\nlibaddthem.run(million_integers.ctypes.data_as(pointer_to_ints))\\\\n')\",\n",
       "  \"get_ipython().system('c++ -std=c++11 -O3 baby-python.cpp -o baby-python')\",\n",
       "  \"get_ipython().run_cell_magic('bash', '', '\\\\n./baby-python <<EOF\\\\n123\\\\nadd(3, 5)\\\\nsquare_them = def(x) mul(x, x)\\\\nmap(square_them, [1, 2, 3, 4, 5])\\\\nEOF\\\\n')\",\n",
       "  'million_integers.tofile(\"million_integers.int32\")',\n",
       "  \"get_ipython().run_cell_magic('bash', '', '\\\\n./baby-python data=million_integers.int32 <<EOF\\\\nreduce(add, data)\\\\nreduce(add, data)\\\\nreduce(add, data)\\\\nEOF\\\\n')\",\n",
       "  'from pygments import highlight\\nfrom pygments.lexers import CppLexer\\nfrom pygments.formatters import HtmlFormatter\\nfrom IPython.display import display, HTML',\n",
       "  'with open(\"baby-python.cpp\") as file:\\n    display(HTML(highlight(file.read(), CppLexer(), HtmlFormatter())))',\n",
       "  'globals()'],\n",
       " '_oh': {3: array([ -7,  -2,   2, ...,   7,   6, -15], shape=(1000000,), dtype=int32),\n",
       "  9: np.int32(7685),\n",
       "  10: 7685},\n",
       " '_dh': [PosixPath('/notebooks/develop')],\n",
       " 'In': ['',\n",
       "  \"get_ipython().run_cell_magic('html', '', '\\\\n<style>\\\\n.jp-MarkdownOutput {\\\\n    font-size: 2.5em !important;\\\\n}\\\\n.jp-MarkdownOutput table {\\\\n    font-size: 1em !important;\\\\n}\\\\n.jp-OutputArea-output pre {\\\\n    font-size: 2em !important;\\\\n}\\\\n.cm-content {\\\\n    font-size: 2em !important;\\\\n}\\\\n.page-id-xx, html {\\\\n    scrollbar-width: none; /* FF */\\\\n}\\\\n::-webkit-scrollbar {\\\\n    width: 0px; /* Chrome & Edge */\\\\n}\\\\n.jp-Notebook.jp-mod-commandMode .jp-Cell.jp-mod-selected {\\\\n    background: none;\\\\n}\\\\n</style>\\\\n')\",\n",
       "  'import numpy as np',\n",
       "  'million_integers = np.random.normal(0, 10, 1_000_000).astype(np.int32)\\nmillion_integers',\n",
       "  'def addthem_python(data):\\n    out = 0\\n    for x in data:\\n        out += x\\n    return out',\n",
       "  \"get_ipython().run_cell_magic('writefile', 'addthem.c', '\\\\nint run(int* data) {\\\\n    int out = 0;\\\\n    for (int i = 0;  i < 1000000;  i++) {\\\\n        out += data[i];\\\\n    }\\\\n    return out;\\\\n}\\\\n')\",\n",
       "  \"get_ipython().system('cc -O0 -shared addthem.c -o libaddthem_attempt1.so')\",\n",
       "  'import ctypes',\n",
       "  'libaddthem = ctypes.cdll.LoadLibrary(\"./libaddthem_attempt1.so\")\\npointer_to_ints = ctypes.POINTER(ctypes.c_int)\\nlibaddthem.run.argtypes = (pointer_to_ints,)\\nlibaddthem.run.restype = ctypes.c_int',\n",
       "  'addthem_python(million_integers)',\n",
       "  'libaddthem.run(million_integers.ctypes.data_as(pointer_to_ints))',\n",
       "  \"get_ipython().run_cell_magic('timeit', '', '\\\\naddthem_python(million_integers)\\\\n')\",\n",
       "  \"get_ipython().run_cell_magic('timeit', '', '\\\\nlibaddthem.run(million_integers.ctypes.data_as(pointer_to_ints))\\\\n')\",\n",
       "  \"get_ipython().system('c++ -std=c++11 -O3 baby-python.cpp -o baby-python')\",\n",
       "  \"get_ipython().run_cell_magic('bash', '', '\\\\n./baby-python <<EOF\\\\n123\\\\nadd(3, 5)\\\\nsquare_them = def(x) mul(x, x)\\\\nmap(square_them, [1, 2, 3, 4, 5])\\\\nEOF\\\\n')\",\n",
       "  'million_integers.tofile(\"million_integers.int32\")',\n",
       "  \"get_ipython().run_cell_magic('bash', '', '\\\\n./baby-python data=million_integers.int32 <<EOF\\\\nreduce(add, data)\\\\nreduce(add, data)\\\\nreduce(add, data)\\\\nEOF\\\\n')\",\n",
       "  'from pygments import highlight\\nfrom pygments.lexers import CppLexer\\nfrom pygments.formatters import HtmlFormatter\\nfrom IPython.display import display, HTML',\n",
       "  'with open(\"baby-python.cpp\") as file:\\n    display(HTML(highlight(file.read(), CppLexer(), HtmlFormatter())))',\n",
       "  'globals()'],\n",
       " 'Out': {3: array([ -7,  -2,   2, ...,   7,   6, -15], shape=(1000000,), dtype=int32),\n",
       "  9: np.int32(7685),\n",
       "  10: 7685},\n",
       " 'get_ipython': <bound method InteractiveShell.get_ipython of <ipykernel.zmqshell.ZMQInteractiveShell object at 0x7204d33ac620>>,\n",
       " 'exit': <IPython.core.autocall.ZMQExitAutocall at 0x7204d33acc80>,\n",
       " 'quit': <IPython.core.autocall.ZMQExitAutocall at 0x7204d33acc80>,\n",
       " 'open': <function _io.open(file, mode='r', buffering=-1, encoding=None, errors=None, newline=None, closefd=True, opener=None)>,\n",
       " '_': 7685,\n",
       " '__': np.int32(7685),\n",
       " '___': array([ -7,  -2,   2, ...,   7,   6, -15], shape=(1000000,), dtype=int32),\n",
       " '__session__': '/notebooks/develop/presentation.ipynb',\n",
       " '_i': 'with open(\"baby-python.cpp\") as file:\\n    display(HTML(highlight(file.read(), CppLexer(), HtmlFormatter())))',\n",
       " '_ii': 'from pygments import highlight\\nfrom pygments.lexers import CppLexer\\nfrom pygments.formatters import HtmlFormatter\\nfrom IPython.display import display, HTML',\n",
       " '_iii': '%%bash\\n\\n./baby-python data=million_integers.int32 <<EOF\\nreduce(add, data)\\nreduce(add, data)\\nreduce(add, data)\\nEOF',\n",
       " '_i1': '%%html\\n\\n<style>\\n.jp-MarkdownOutput {\\n    font-size: 2.5em !important;\\n}\\n.jp-MarkdownOutput table {\\n    font-size: 1em !important;\\n}\\n.jp-OutputArea-output pre {\\n    font-size: 2em !important;\\n}\\n.cm-content {\\n    font-size: 2em !important;\\n}\\n.page-id-xx, html {\\n    scrollbar-width: none; /* FF */\\n}\\n::-webkit-scrollbar {\\n    width: 0px; /* Chrome & Edge */\\n}\\n.jp-Notebook.jp-mod-commandMode .jp-Cell.jp-mod-selected {\\n    background: none;\\n}\\n</style>',\n",
       " '_i2': 'import numpy as np',\n",
       " 'np': <module 'numpy' from '/usr/local/lib/python3.12/site-packages/numpy/__init__.py'>,\n",
       " '_i3': 'million_integers = np.random.normal(0, 10, 1_000_000).astype(np.int32)\\nmillion_integers',\n",
       " 'million_integers': array([ -7,  -2,   2, ...,   7,   6, -15], shape=(1000000,), dtype=int32),\n",
       " '_3': array([ -7,  -2,   2, ...,   7,   6, -15], shape=(1000000,), dtype=int32),\n",
       " '_i4': 'def addthem_python(data):\\n    out = 0\\n    for x in data:\\n        out += x\\n    return out',\n",
       " 'addthem_python': <function __main__.addthem_python(data)>,\n",
       " '_i5': '%%writefile addthem.c\\n\\nint run(int* data) {\\n    int out = 0;\\n    for (int i = 0;  i < 1000000;  i++) {\\n        out += data[i];\\n    }\\n    return out;\\n}',\n",
       " '_i6': '!cc -O0 -shared addthem.c -o libaddthem_attempt1.so',\n",
       " '_exit_code': 0,\n",
       " '_i7': 'import ctypes',\n",
       " 'ctypes': <module 'ctypes' from '/usr/local/lib/python3.12/ctypes/__init__.py'>,\n",
       " '_i8': 'libaddthem = ctypes.cdll.LoadLibrary(\"./libaddthem_attempt1.so\")\\npointer_to_ints = ctypes.POINTER(ctypes.c_int)\\nlibaddthem.run.argtypes = (pointer_to_ints,)\\nlibaddthem.run.restype = ctypes.c_int',\n",
       " 'libaddthem': <CDLL './libaddthem_attempt1.so', handle 5cb2e68ccc70 at 0x7204d02ffc50>,\n",
       " 'pointer_to_ints': __main__.LP_c_int,\n",
       " '_i9': 'addthem_python(million_integers)',\n",
       " '_9': np.int32(7685),\n",
       " '_i10': 'libaddthem.run(million_integers.ctypes.data_as(pointer_to_ints))',\n",
       " '_10': 7685,\n",
       " '_i11': '%%timeit\\n\\naddthem_python(million_integers)',\n",
       " '_i12': '%%timeit\\n\\nlibaddthem.run(million_integers.ctypes.data_as(pointer_to_ints))',\n",
       " '_i13': '!c++ -std=c++11 -O3 baby-python.cpp -o baby-python',\n",
       " '_i14': '%%bash\\n\\n./baby-python <<EOF\\n123\\nadd(3, 5)\\nsquare_them = def(x) mul(x, x)\\nmap(square_them, [1, 2, 3, 4, 5])\\nEOF',\n",
       " '_i15': 'million_integers.tofile(\"million_integers.int32\")',\n",
       " '_i16': '%%bash\\n\\n./baby-python data=million_integers.int32 <<EOF\\nreduce(add, data)\\nreduce(add, data)\\nreduce(add, data)\\nEOF',\n",
       " '_i17': 'from pygments import highlight\\nfrom pygments.lexers import CppLexer\\nfrom pygments.formatters import HtmlFormatter\\nfrom IPython.display import display, HTML',\n",
       " 'highlight': <function pygments.highlight(code, lexer, formatter, outfile=None)>,\n",
       " 'CppLexer': pygments.lexers.c_cpp.CppLexer,\n",
       " 'HtmlFormatter': pygments.formatters.html.HtmlFormatter,\n",
       " 'display': <function IPython.core.display_functions.display(*objs, include=None, exclude=None, metadata=None, transient=None, display_id=None, raw=False, clear=False, **kwargs)>,\n",
       " 'HTML': IPython.core.display.HTML,\n",
       " '_i18': 'with open(\"baby-python.cpp\") as file:\\n    display(HTML(highlight(file.read(), CppLexer(), HtmlFormatter())))',\n",
       " 'file': <_io.TextIOWrapper name='baby-python.cpp' mode='r' encoding='UTF-8'>,\n",
       " '_i19': 'globals()'}"
      ]
     },
     "execution_count": 19,
     "metadata": {},
     "output_type": "execute_result"
    }
   ],
   "source": [
    "globals()"
   ]
  },
  {
   "cell_type": "markdown",
   "id": "605eb8a5-57a9-4d1e-8134-5793a5e60ee3",
   "metadata": {
    "editable": true,
    "slideshow": {
     "slide_type": "slide"
    },
    "tags": []
   },
   "source": [
    "Similarly in Python:\n",
    "\n",
    "* all data share an overloaded struct type (implemented in C, rather than using C++ to generate vtables automatically)\n",
    "\n",
    "```c\n",
    "struct PyObject {\n",
    "    Py_size_t ob_refcnt;    // reference count for garbage collection\n",
    "    PyObject* ob_type;      // the object's type (also a PyObject)\n",
    "                            // more fields that depend on type\n",
    "};\n",
    "```"
   ]
  },
  {
   "cell_type": "code",
   "execution_count": 20,
   "id": "dce8067b-144b-4431-972e-76fdec15e579",
   "metadata": {
    "editable": true,
    "slideshow": {
     "slide_type": "slide"
    },
    "tags": []
   },
   "outputs": [],
   "source": [
    "class PyObject(ctypes.Structure):\n",
    "    pass\n",
    "\n",
    "PyObject._fields_ = [\n",
    "    (\"ob_refcnt\", ctypes.c_size_t),\n",
    "    (\"ob_type\", ctypes.POINTER(PyObject)),\n",
    "]"
   ]
  },
  {
   "cell_type": "markdown",
   "id": "f04bbf73-7d28-46fe-967e-55291aeec170",
   "metadata": {
    "editable": true,
    "slideshow": {
     "slide_type": ""
    },
    "tags": []
   },
   "source": [
    "<br>"
   ]
  },
  {
   "cell_type": "code",
   "execution_count": 21,
   "id": "6918bbfc-6b23-4573-9429-6b4741eb58cf",
   "metadata": {
    "editable": true,
    "slideshow": {
     "slide_type": ""
    },
    "tags": []
   },
   "outputs": [],
   "source": [
    "some_string = \"This is a nice string.\""
   ]
  },
  {
   "cell_type": "markdown",
   "id": "77b75e62-75ea-41a1-b39a-a31555cf606f",
   "metadata": {
    "editable": true,
    "slideshow": {
     "slide_type": ""
    },
    "tags": []
   },
   "source": [
    "<br>"
   ]
  },
  {
   "cell_type": "code",
   "execution_count": 22,
   "id": "9dc4484b-e18c-495c-a5d4-34b5aa842cb6",
   "metadata": {
    "editable": true,
    "slideshow": {
     "slide_type": ""
    },
    "tags": []
   },
   "outputs": [],
   "source": [
    "c_some_string = PyObject.from_address(id(some_string))"
   ]
  },
  {
   "cell_type": "markdown",
   "id": "df0af81d-6578-4101-9855-a9d031940075",
   "metadata": {
    "editable": true,
    "slideshow": {
     "slide_type": ""
    },
    "tags": []
   },
   "source": [
    "<br>"
   ]
  },
  {
   "cell_type": "code",
   "execution_count": 23,
   "id": "3a8f86c8-6879-4036-8fa4-2e07291eceae",
   "metadata": {
    "editable": true,
    "slideshow": {
     "slide_type": ""
    },
    "tags": []
   },
   "outputs": [
    {
     "data": {
      "text/plain": [
       "1"
      ]
     },
     "execution_count": 23,
     "metadata": {},
     "output_type": "execute_result"
    }
   ],
   "source": [
    "c_some_string.ob_refcnt"
   ]
  },
  {
   "cell_type": "markdown",
   "id": "130260b5-7bdd-468f-a635-34b99ecce1f4",
   "metadata": {
    "editable": true,
    "slideshow": {
     "slide_type": ""
    },
    "tags": []
   },
   "source": [
    "<br>"
   ]
  },
  {
   "cell_type": "code",
   "execution_count": 24,
   "id": "6aa5c056-b6b2-4177-a6eb-6bce704c43ef",
   "metadata": {
    "editable": true,
    "slideshow": {
     "slide_type": ""
    },
    "tags": []
   },
   "outputs": [],
   "source": [
    "list_of_string = [some_string] * 100"
   ]
  },
  {
   "cell_type": "markdown",
   "id": "efce99e5-db78-4f3f-9401-0984efaf54b5",
   "metadata": {
    "editable": true,
    "slideshow": {
     "slide_type": ""
    },
    "tags": []
   },
   "source": [
    "<br>"
   ]
  },
  {
   "cell_type": "code",
   "execution_count": 25,
   "id": "20fca921-7b3e-43f0-a017-b18a7c8e805a",
   "metadata": {
    "editable": true,
    "slideshow": {
     "slide_type": ""
    },
    "tags": []
   },
   "outputs": [
    {
     "data": {
      "text/plain": [
       "True"
      ]
     },
     "execution_count": 25,
     "metadata": {},
     "output_type": "execute_result"
    }
   ],
   "source": [
    "ctypes.cast(c_some_string.ob_type, ctypes.c_void_p).value == id(str)"
   ]
  },
  {
   "cell_type": "markdown",
   "id": "57e41c88-e6ab-44f5-bdef-abc7ca101dec",
   "metadata": {
    "editable": true,
    "slideshow": {
     "slide_type": "slide"
    },
    "tags": []
   },
   "source": [
    "Similarly in Python:\n",
    "\n",
    "* instructions are represented by a data structure that must be traversed (an array of bytecodes)"
   ]
  },
  {
   "cell_type": "markdown",
   "id": "9ccdb28f-3ec2-4930-9197-15c3c3b56e3d",
   "metadata": {
    "editable": true,
    "slideshow": {
     "slide_type": ""
    },
    "tags": []
   },
   "source": [
    "<br>"
   ]
  },
  {
   "cell_type": "code",
   "execution_count": 26,
   "id": "0d93b707-7e9a-428d-8d5d-e94f19e15dcf",
   "metadata": {
    "editable": true,
    "slideshow": {
     "slide_type": ""
    },
    "tags": []
   },
   "outputs": [],
   "source": [
    "import dis"
   ]
  },
  {
   "cell_type": "markdown",
   "id": "e24ab31c-5fe5-42a5-9e2a-b726c87ffe40",
   "metadata": {
    "editable": true,
    "slideshow": {
     "slide_type": ""
    },
    "tags": []
   },
   "source": [
    "<br>"
   ]
  },
  {
   "cell_type": "code",
   "execution_count": 27,
   "id": "a0419fae-4d8c-426c-84ae-5424b070bc98",
   "metadata": {
    "editable": true,
    "slideshow": {
     "slide_type": ""
    },
    "tags": []
   },
   "outputs": [
    {
     "name": "stdout",
     "output_type": "stream",
     "text": [
      "  1           0 RESUME                   0\n",
      "\n",
      "  2           2 LOAD_CONST               1 (0)\n",
      "              4 STORE_FAST               1 (out)\n",
      "\n",
      "  3           6 LOAD_FAST                0 (data)\n",
      "              8 GET_ITER\n",
      "        >>   10 FOR_ITER                 7 (to 28)\n",
      "             14 STORE_FAST               2 (x)\n",
      "\n",
      "  4          16 LOAD_FAST                1 (out)\n",
      "             18 LOAD_FAST                2 (x)\n",
      "             20 BINARY_OP               13 (+=)\n",
      "             24 STORE_FAST               1 (out)\n",
      "             26 JUMP_BACKWARD            9 (to 10)\n",
      "\n",
      "  3     >>   28 END_FOR\n",
      "\n",
      "  5          30 LOAD_FAST                1 (out)\n",
      "             32 RETURN_VALUE\n"
     ]
    }
   ],
   "source": [
    "dis.dis(addthem_python)\n",
    "# lineno|offset|opcode_name      |argument|description\n",
    "# ------+------+-----------------+--------+------------"
   ]
  },
  {
   "cell_type": "markdown",
   "id": "78c972d2-6696-4cb2-bc5b-4cbff06d6df0",
   "metadata": {
    "editable": true,
    "slideshow": {
     "slide_type": ""
    },
    "tags": []
   },
   "source": [
    "<br>"
   ]
  },
  {
   "cell_type": "markdown",
   "id": "4a61e3b6-9b5b-406a-8aa0-df92dd377ede",
   "metadata": {
    "editable": true,
    "slideshow": {
     "slide_type": "fragment"
    },
    "tags": []
   },
   "source": [
    "None of the above instructions specify data types. The code that adds (`BINARY_OP 13`) has to determine that `x` is an integer, over and over, for a million values."
   ]
  },
  {
   "cell_type": "markdown",
   "id": "f41023bc-5179-4c9e-aa84-c2c064ac1532",
   "metadata": {
    "editable": true,
    "slideshow": {
     "slide_type": "slide"
    },
    "tags": []
   },
   "source": [
    "By contrast, the instructions generated by a compiler are passed directly to the CPU, and therefore have to be different instructions for different data types."
   ]
  },
  {
   "cell_type": "markdown",
   "id": "1520f061-763c-4ed3-9dbe-8e1d4931cf9f",
   "metadata": {
    "editable": true,
    "slideshow": {
     "slide_type": ""
    },
    "tags": []
   },
   "source": [
    "<br>"
   ]
  },
  {
   "cell_type": "code",
   "execution_count": 28,
   "id": "b6940148-c5ec-4bf9-a0aa-b2727e0952fe",
   "metadata": {
    "editable": true,
    "slideshow": {
     "slide_type": ""
    },
    "tags": []
   },
   "outputs": [],
   "source": [
    "!cc -O0 -c addthem.c"
   ]
  },
  {
   "cell_type": "markdown",
   "id": "b1c45596-f47d-41e4-be7c-09865d437484",
   "metadata": {
    "editable": true,
    "slideshow": {
     "slide_type": ""
    },
    "tags": []
   },
   "source": [
    "<br>"
   ]
  },
  {
   "cell_type": "code",
   "execution_count": 29,
   "id": "8ba2314d-5c5a-448d-8372-4d6d54c1e356",
   "metadata": {
    "editable": true,
    "slideshow": {
     "slide_type": ""
    },
    "tags": []
   },
   "outputs": [
    {
     "name": "stdout",
     "output_type": "stream",
     "text": [
      "\n",
      "addthem.o:     file format elf64-x86-64\n",
      "\n",
      "\n",
      "Disassembly of section .text:\n",
      "\n",
      "0000000000000000 <run>:\n",
      "   0:\t55                   \tpush   %rbp\n",
      "   1:\t48 89 e5             \tmov    %rsp,%rbp\n",
      "   4:\t48 89 7d e8          \tmov    %rdi,-0x18(%rbp)\n",
      "   8:\tc7 45 fc 00 00 00 00 \tmovl   $0x0,-0x4(%rbp)\n",
      "   f:\tc7 45 f8 00 00 00 00 \tmovl   $0x0,-0x8(%rbp)\n",
      "  16:\teb 1d                \tjmp    35 <run+0x35>\n",
      "  18:\t8b 45 f8             \tmov    -0x8(%rbp),%eax\n",
      "  1b:\t48 98                \tcltq\n",
      "  1d:\t48 8d 14 85 00 00 00 \tlea    0x0(,%rax,4),%rdx\n",
      "  24:\t00 \n",
      "  25:\t48 8b 45 e8          \tmov    -0x18(%rbp),%rax\n",
      "  29:\t48 01 d0             \tadd    %rdx,%rax\n",
      "  2c:\t8b 00                \tmov    (%rax),%eax\n",
      "  2e:\t01 45 fc             \tadd    %eax,-0x4(%rbp)\n",
      "  31:\t83 45 f8 01          \taddl   $0x1,-0x8(%rbp)\n",
      "  35:\t81 7d f8 3f 42 0f 00 \tcmpl   $0xf423f,-0x8(%rbp)\n",
      "  3c:\t7e da                \tjle    18 <run+0x18>\n",
      "  3e:\t8b 45 fc             \tmov    -0x4(%rbp),%eax\n",
      "  41:\t5d                   \tpop    %rbp\n",
      "  42:\tc3                   \tret\n"
     ]
    }
   ],
   "source": [
    "!objdump -d addthem.o"
   ]
  },
  {
   "cell_type": "markdown",
   "id": "cbadbd27-7d49-4c73-9ae0-d00386097f97",
   "metadata": {
    "editable": true,
    "slideshow": {
     "slide_type": "slide"
    },
    "tags": []
   },
   "source": [
    "## Python escape hatches: NumPy"
   ]
  },
  {
   "cell_type": "markdown",
   "id": "6f463c70-3ab5-449f-9736-40591e162672",
   "metadata": {
    "editable": true,
    "slideshow": {
     "slide_type": ""
    },
    "tags": []
   },
   "source": [
    "<br>"
   ]
  },
  {
   "cell_type": "markdown",
   "id": "d3b916ff-7b59-45b8-891d-a23688ac65bf",
   "metadata": {
    "editable": true,
    "slideshow": {
     "slide_type": ""
    },
    "tags": []
   },
   "source": [
    "\"Making Python go fast\" usually means \"avoiding Python in hot loops.\"\n",
    "\n",
    "NumPy provides an array type and suite of functions to do that."
   ]
  },
  {
   "cell_type": "markdown",
   "id": "d8658f7b-ca28-44f1-9f22-2a6ee0dbacfe",
   "metadata": {
    "editable": true,
    "slideshow": {
     "slide_type": "slide"
    },
    "tags": []
   },
   "source": [
    "<img src=\"img/python-list-layout.svg\" style=\"width: 80%; margin: 3em auto;\">"
   ]
  },
  {
   "cell_type": "markdown",
   "id": "b0b4c7be-1957-4056-b6b8-13e133bebd1b",
   "metadata": {
    "editable": true,
    "slideshow": {
     "slide_type": "slide"
    },
    "tags": []
   },
   "source": [
    "<img src=\"img/python-array-layout.svg\" style=\"width: 80%; margin: 3em auto;\">"
   ]
  },
  {
   "cell_type": "code",
   "execution_count": 30,
   "id": "c3a8a71c-4a16-4bae-8626-ffe078b2e4df",
   "metadata": {
    "editable": true,
    "slideshow": {
     "slide_type": "slide"
    },
    "tags": []
   },
   "outputs": [
    {
     "name": "stdout",
     "output_type": "stream",
     "text": [
      "50.4 ms ± 1.57 ms per loop (mean ± std. dev. of 7 runs, 10 loops each)\n"
     ]
    }
   ],
   "source": [
    "%%timeit\n",
    "\n",
    "addthem_python(million_integers)"
   ]
  },
  {
   "cell_type": "markdown",
   "id": "91054a19-bd40-4e6b-8777-90a78d1df27f",
   "metadata": {
    "editable": true,
    "slideshow": {
     "slide_type": ""
    },
    "tags": []
   },
   "source": [
    "<br>"
   ]
  },
  {
   "cell_type": "code",
   "execution_count": 31,
   "id": "574a304a-bf94-42fd-a4a6-4ea26605c36d",
   "metadata": {
    "editable": true,
    "slideshow": {
     "slide_type": ""
    },
    "tags": []
   },
   "outputs": [
    {
     "name": "stdout",
     "output_type": "stream",
     "text": [
      "201 μs ± 868 ns per loop (mean ± std. dev. of 7 runs, 1,000 loops each)\n"
     ]
    }
   ],
   "source": [
    "%%timeit\n",
    "\n",
    "np.sum(million_integers)"
   ]
  },
  {
   "cell_type": "markdown",
   "id": "d5ec951f-3df4-4176-b736-a83c9da7a3b2",
   "metadata": {
    "editable": true,
    "slideshow": {
     "slide_type": ""
    },
    "tags": []
   },
   "source": [
    "<br>"
   ]
  },
  {
   "cell_type": "markdown",
   "id": "c0607f82-79cd-4d0f-a91c-67b908626e49",
   "metadata": {
    "editable": true,
    "slideshow": {
     "slide_type": "fragment"
    },
    "tags": []
   },
   "source": [
    "But you know about NumPy (and Pandas, and everything else that uses NumPy)."
   ]
  },
  {
   "cell_type": "markdown",
   "id": "2c5e9a4e-c000-4069-9d4b-ab58fab05e33",
   "metadata": {
    "editable": true,
    "slideshow": {
     "slide_type": "slide"
    },
    "tags": []
   },
   "source": [
    "## Python escape hatches: Awkward Array"
   ]
  },
  {
   "cell_type": "markdown",
   "id": "f57e9cf8-09ad-4839-8b41-745cccb7a8e2",
   "metadata": {
    "editable": true,
    "slideshow": {
     "slide_type": ""
    },
    "tags": []
   },
   "source": [
    "<br>"
   ]
  },
  {
   "cell_type": "markdown",
   "id": "db3b06a3-9b36-4187-9e11-60dd7032408d",
   "metadata": {
    "editable": true,
    "slideshow": {
     "slide_type": ""
    },
    "tags": []
   },
   "source": [
    "Like NumPy, but for irregularly shaped data structures."
   ]
  },
  {
   "cell_type": "markdown",
   "id": "da7fc7bb-5950-411d-8ca4-a1d6ac260edb",
   "metadata": {
    "editable": true,
    "slideshow": {
     "slide_type": ""
    },
    "tags": []
   },
   "source": [
    "<img src=\"img/awkward-motivation-venn-diagram.svg\" style=\"width: 30%; margin: 1em auto;\">"
   ]
  },
  {
   "cell_type": "code",
   "execution_count": 32,
   "id": "7493c7a0-23b7-45f6-a331-3b119a3a4833",
   "metadata": {
    "editable": true,
    "slideshow": {
     "slide_type": "slide"
    },
    "tags": []
   },
   "outputs": [],
   "source": [
    "import awkward as ak"
   ]
  },
  {
   "cell_type": "code",
   "execution_count": 33,
   "id": "40dcd927-151d-4b3a-926a-46f8cc82582e",
   "metadata": {
    "editable": true,
    "slideshow": {
     "slide_type": ""
    },
    "tags": []
   },
   "outputs": [],
   "source": [
    "ragged = ak.Array([\n",
    "    [\n",
    "      [[1.84, 0.324]],\n",
    "      [[-1.609, -0.713, 0.005], [0.953, -0.993, 0.011, 0.718]],\n",
    "      [[0.459, -1.517, 1.545], [0.33, 0.292]],\n",
    "      [[-0.376, -1.46, -0.206], [0.65, 1.278]],\n",
    "      [[], [], [1.617]],\n",
    "      []\n",
    "    ],\n",
    "    [\n",
    "      [[-0.106, 0.611]],\n",
    "      [[0.118, -1.788, 0.794, 0.658], [-0.105]]\n",
    "    ],\n",
    "    [\n",
    "      [[-0.384], [0.697, -0.856]],\n",
    "      [[0.778, 0.023, -1.455, -2.289], [-0.67], [1.153, -1.669, 0.305, 1.517, -0.292]]\n",
    "    ],\n",
    "    [\n",
    "      [[0.205, -0.355], [-0.265], [1.042]],\n",
    "      [[-0.004], [-1.167, -0.054, 0.726, 0.213]],\n",
    "      [[1.741, -0.199, 0.827]]\n",
    "    ]\n",
    "])"
   ]
  },
  {
   "cell_type": "code",
   "execution_count": 34,
   "id": "c58dbb25-c68d-4e78-b316-bd04e05f0478",
   "metadata": {
    "editable": true,
    "slideshow": {
     "slide_type": "slide"
    },
    "tags": []
   },
   "outputs": [
    {
     "name": "stdout",
     "output_type": "stream",
     "text": [
      "0.726\n"
     ]
    }
   ],
   "source": [
    "print(ragged[3, 1, -1, 2])"
   ]
  },
  {
   "cell_type": "markdown",
   "id": "db9f65db-49b6-4681-87d7-8c9e6c0ae7d8",
   "metadata": {
    "editable": true,
    "slideshow": {
     "slide_type": ""
    },
    "tags": []
   },
   "source": [
    "<br>"
   ]
  },
  {
   "cell_type": "code",
   "execution_count": 35,
   "id": "d6d73d40-caa2-4070-8468-25abc63de854",
   "metadata": {
    "editable": true,
    "slideshow": {
     "slide_type": "fragment"
    },
    "tags": []
   },
   "outputs": [
    {
     "name": "stdout",
     "output_type": "stream",
     "text": [
      "[[-0.054, 0.726], [-0.199, 0.827]]\n"
     ]
    }
   ],
   "source": [
    "print(ragged[3, 1:, -1, 1:3])"
   ]
  },
  {
   "cell_type": "markdown",
   "id": "3be269f0-8143-467f-8195-c812bad839fd",
   "metadata": {
    "editable": true,
    "slideshow": {
     "slide_type": ""
    },
    "tags": []
   },
   "source": [
    "<br>"
   ]
  },
  {
   "cell_type": "code",
   "execution_count": 36,
   "id": "84e799a8-61ed-4d91-9350-5baefdefc899",
   "metadata": {
    "editable": true,
    "slideshow": {
     "slide_type": "fragment"
    },
    "tags": []
   },
   "outputs": [
    {
     "name": "stdout",
     "output_type": "stream",
     "text": [
      "[-0.384, 0.827]\n"
     ]
    }
   ],
   "source": [
    "print(ragged[[False, False, True, True], [0, -1, 0, -1], 0, -1])"
   ]
  },
  {
   "cell_type": "markdown",
   "id": "45aad93e-91cf-48e7-87d0-88e9e6c74c04",
   "metadata": {
    "editable": true,
    "slideshow": {
     "slide_type": ""
    },
    "tags": []
   },
   "source": [
    "<br>"
   ]
  },
  {
   "cell_type": "code",
   "execution_count": 37,
   "id": "42d1972f-eda4-4b91-896d-95254a9e2ce3",
   "metadata": {
    "editable": true,
    "slideshow": {
     "slide_type": "fragment"
    },
    "tags": []
   },
   "outputs": [
    {
     "name": "stdout",
     "output_type": "stream",
     "text": [
      "[[[[1.84, 0.324]], [[0.005], [0.953, 0.011, 0.718]], ..., [[], ...], []], ...]\n"
     ]
    }
   ],
   "source": [
    "print(ragged[ragged > 0])"
   ]
  },
  {
   "cell_type": "markdown",
   "id": "66d1dcdc-918c-412b-8adb-bf00bafdf790",
   "metadata": {
    "editable": true,
    "slideshow": {
     "slide_type": ""
    },
    "tags": []
   },
   "source": [
    "<br>"
   ]
  },
  {
   "cell_type": "code",
   "execution_count": 38,
   "id": "e73801af-5e58-4ff4-8a3d-1c0cdebfe493",
   "metadata": {
    "editable": true,
    "slideshow": {
     "slide_type": "fragment"
    },
    "tags": []
   },
   "outputs": [
    {
     "name": "stdout",
     "output_type": "stream",
     "text": [
      "2.8980000000000006\n"
     ]
    }
   ],
   "source": [
    "print(ak.sum(ragged))"
   ]
  },
  {
   "cell_type": "markdown",
   "id": "46e97aac-062e-428f-958a-5f8546e27637",
   "metadata": {
    "editable": true,
    "slideshow": {
     "slide_type": "slide"
    },
    "tags": []
   },
   "source": [
    "<img src=\"img/example-reducer-2d.svg\" style=\"width: 40%; margin: 1em auto;\">"
   ]
  },
  {
   "cell_type": "code",
   "execution_count": 39,
   "id": "949bad4c-dbb8-4a15-95f6-53ff36d167f9",
   "metadata": {
    "editable": true,
    "slideshow": {
     "slide_type": ""
    },
    "tags": []
   },
   "outputs": [],
   "source": [
    "regular = np.array([\n",
    "    [  1,   2,   3,   4],\n",
    "    [ 10,  20,  30,  40],\n",
    "    [100, 200, 300, 400],\n",
    "])"
   ]
  },
  {
   "cell_type": "markdown",
   "id": "276e8a81-cfa3-4a93-b2a4-2f1972edb5e1",
   "metadata": {
    "editable": true,
    "slideshow": {
     "slide_type": ""
    },
    "tags": []
   },
   "source": [
    "<br>"
   ]
  },
  {
   "cell_type": "code",
   "execution_count": 40,
   "id": "64779406-ee6d-4a3c-bcb7-f7957df0f01b",
   "metadata": {
    "editable": true,
    "slideshow": {
     "slide_type": ""
    },
    "tags": []
   },
   "outputs": [
    {
     "data": {
      "text/plain": [
       "array([111, 222, 333, 444])"
      ]
     },
     "execution_count": 40,
     "metadata": {},
     "output_type": "execute_result"
    }
   ],
   "source": [
    "np.sum(regular, axis=0)"
   ]
  },
  {
   "cell_type": "markdown",
   "id": "265d0226-2205-4ea2-9b32-6bd4d66350df",
   "metadata": {
    "editable": true,
    "slideshow": {
     "slide_type": ""
    },
    "tags": []
   },
   "source": [
    "<br>"
   ]
  },
  {
   "cell_type": "code",
   "execution_count": 41,
   "id": "9c5b3ce2-df4d-4270-b204-2039e6b5c40d",
   "metadata": {
    "editable": true,
    "slideshow": {
     "slide_type": ""
    },
    "tags": []
   },
   "outputs": [
    {
     "data": {
      "text/plain": [
       "array([  10,  100, 1000])"
      ]
     },
     "execution_count": 41,
     "metadata": {},
     "output_type": "execute_result"
    }
   ],
   "source": [
    "np.sum(regular, axis=1)"
   ]
  },
  {
   "cell_type": "markdown",
   "id": "182a5ce4-b21a-4a1f-be10-50ea02c5af40",
   "metadata": {
    "editable": true,
    "slideshow": {
     "slide_type": "slide"
    },
    "tags": []
   },
   "source": [
    "<img src=\"img/example-reduction-sum.svg\" style=\"width: 40%; margin: 1em auto;\">"
   ]
  },
  {
   "cell_type": "code",
   "execution_count": 42,
   "id": "ba2f9807-42f6-486f-a070-795080404e53",
   "metadata": {
    "editable": true,
    "slideshow": {
     "slide_type": ""
    },
    "tags": []
   },
   "outputs": [],
   "source": [
    "irregular = ak.Array([\n",
    "    [   1,    2,    4],\n",
    "    [                ],\n",
    "    [None,    8      ],\n",
    "    [  16            ],\n",
    "])"
   ]
  },
  {
   "cell_type": "markdown",
   "id": "041a6113-f7cb-441b-9387-e7b4a6b6fd3e",
   "metadata": {
    "editable": true,
    "slideshow": {
     "slide_type": ""
    },
    "tags": []
   },
   "source": [
    "<br>"
   ]
  },
  {
   "cell_type": "code",
   "execution_count": 43,
   "id": "be4c92bb-cbf4-4ae2-a70c-6ce3502f711d",
   "metadata": {
    "editable": true,
    "slideshow": {
     "slide_type": ""
    },
    "tags": []
   },
   "outputs": [
    {
     "name": "stdout",
     "output_type": "stream",
     "text": [
      "[17, 10, 4]\n"
     ]
    }
   ],
   "source": [
    "print(ak.sum(irregular, axis=0))"
   ]
  },
  {
   "cell_type": "markdown",
   "id": "86a9de81-37b7-4f7f-931f-255e41ee8d8a",
   "metadata": {
    "editable": true,
    "slideshow": {
     "slide_type": ""
    },
    "tags": []
   },
   "source": [
    "<br>"
   ]
  },
  {
   "cell_type": "code",
   "execution_count": 44,
   "id": "f1ccf022-5d05-4a70-a4a6-fffc1ac2d7c5",
   "metadata": {
    "editable": true,
    "slideshow": {
     "slide_type": ""
    },
    "tags": []
   },
   "outputs": [
    {
     "name": "stdout",
     "output_type": "stream",
     "text": [
      "[7, 0, 8, 16]\n"
     ]
    }
   ],
   "source": [
    "print(ak.sum(irregular, axis=1))"
   ]
  },
  {
   "cell_type": "code",
   "execution_count": 45,
   "id": "d982d736-297a-4504-b847-af5996c08b35",
   "metadata": {
    "editable": true,
    "slideshow": {
     "slide_type": "slide"
    },
    "tags": []
   },
   "outputs": [
    {
     "data": {
      "text/plain": [
       "<ListOffsetArray len='4'>\n",
       "    <offsets><Index dtype='int64' len='5'>\n",
       "        [ 0  6  8 10 13]\n",
       "    </Index></offsets>\n",
       "    <content><ListOffsetArray len='13'>\n",
       "        <offsets><Index dtype='int64' len='14'>\n",
       "            [ 0  1  3  5  7 10 10 11 13 15 18 21 23 24]\n",
       "        </Index></offsets>\n",
       "        <content><ListOffsetArray len='24'>\n",
       "            <offsets><Index dtype='int64' len='25'>\n",
       "                [ 0  2  5  9 12 14 17 19 19 19 20 22 26 27 28 30 34 35 40 42 43\n",
       "                 44 45 49 52]\n",
       "            </Index></offsets>\n",
       "            <content><NumpyArray dtype='float64' len='52'>\n",
       "                [ 1.84   0.324 -1.609 -0.713  0.005  0.953 -0.993  0.011  0.718\n",
       "                  0.459 -1.517  1.545  0.33   0.292 -0.376 -1.46  -0.206  0.65\n",
       "                 ...\n",
       "                 -1.669  0.305  1.517 -0.292  0.205 -0.355 -0.265  1.042 -0.004\n",
       "                 -1.167 -0.054  0.726  0.213  1.741 -0.199  0.827]\n",
       "            </NumpyArray></content>\n",
       "        </ListOffsetArray></content>\n",
       "    </ListOffsetArray></content>\n",
       "</ListOffsetArray>"
      ]
     },
     "execution_count": 45,
     "metadata": {},
     "output_type": "execute_result"
    }
   ],
   "source": [
    "ragged.layout"
   ]
  },
  {
   "cell_type": "markdown",
   "id": "da532b5c-71c9-4d73-b4ee-e04f4b66d961",
   "metadata": {
    "editable": true,
    "slideshow": {
     "slide_type": ""
    },
    "tags": []
   },
   "source": [
    "<br>"
   ]
  },
  {
   "cell_type": "markdown",
   "id": "70107b25-b8dd-46d6-8a6e-f8ee40eeb834",
   "metadata": {
    "editable": true,
    "slideshow": {
     "slide_type": "fragment"
    },
    "tags": []
   },
   "source": [
    "All operations are implemented as compiled functions on `<NumpyArray>` and `<Index>` arrays, which don't need to know a node's `<content>` type."
   ]
  },
  {
   "cell_type": "code",
   "execution_count": 46,
   "id": "db1eb744-dd03-456b-b7a6-007ef49a148e",
   "metadata": {
    "editable": true,
    "slideshow": {
     "slide_type": "slide"
    },
    "tags": []
   },
   "outputs": [
    {
     "data": {
      "text/html": [
       "<pre>[[{x: 2.46, y: [5, 2]}, {x: -0.274, y: [...]}, ..., {x: -1.33, y: [6, 8]}],\n",
       " [{x: 1.49, y: [9, 3, 9, 6, 4, 3, 6]}, {x: -0.426, y: [...]}],\n",
       " [{x: -1.73, y: [5, 7, 1, 1, 1, 3]}, {...}, {x: 0.191, y: [4, ...]}],\n",
       " [],\n",
       " [{x: -0.748, y: [3, 8, 0]}, {x: 0.161, ...}, ..., {x: -1.24, y: [6, ..., 7]}],\n",
       " [{x: -1.84, y: [1, 3, 5, 2]}, {x: ..., ...}, {x: -0.59, y: [8, ..., 7]}],\n",
       " [{x: -0.192, y: [2, 1, 0, ..., 9, 4, 9]}, {...}, {x: -0.712, y: [...]}],\n",
       " [{x: 0.0758, y: [3, 8, 6, 7, 3]}, {x: 1.57, y: [5, ...]}],\n",
       " [],\n",
       " [{x: -0.309, y: [8, 3, 8, 4, 9]}, {x: ..., ...}, {x: -0.86, y: [1, ...]}],\n",
       " ...,\n",
       " [{x: -0.508, y: [7]}, {x: -0.806, ...}, ..., {x: -2.06, y: [0, 4, ..., 1]}],\n",
       " [{x: -1.08, y: [8, 3, 6, 0]}, {x: -1.74, ...}, ..., {x: 0.0467, y: [3]}],\n",
       " [{x: -0.795, y: [0, 8, 3, ..., 1, 5, 3]}, {...}, ..., {x: 0.0663, y: [...]}],\n",
       " [{x: 0.461, y: [6, 5, 4]}, {x: -1.26, y: [1]}],\n",
       " [{x: 0.267, y: [0, 0, 8, 6, 6, 6]}],\n",
       " [{x: 1.4, y: [9, 9, 6]}, {x: 2.27, ...}, ..., {x: 1.03, y: [0, 0, ..., 6]}],\n",
       " [],\n",
       " [{x: -0.308, y: [7, 6]}, {x: -1.22, ...}, {x: -1.2, y: [3, 0, 5]}],\n",
       " [{x: -1.32, y: [7, 3, 9, 8, 4]}]]\n",
       "-------------------------------------------------------------------------------\n",
       "backend: cpu\n",
       "nbytes: 176.1 MB\n",
       "type: 1000000 * var * {\n",
       "    x: float64,\n",
       "    y: var * int64\n",
       "}</pre>"
      ],
      "text/plain": [
       "<Array [[{x: 2.46, y: [...]}, ..., {...}], ...] type='1000000 * var * {x: f...'>"
      ]
     },
     "execution_count": 46,
     "metadata": {},
     "output_type": "execute_result"
    }
   ],
   "source": [
    "million_records = ak.from_parquet(\"data/million_records.parquet\")\n",
    "million_records"
   ]
  },
  {
   "cell_type": "code",
   "execution_count": 47,
   "id": "02182590-7900-4fd3-b3d4-2b305449474d",
   "metadata": {
    "editable": true,
    "slideshow": {
     "slide_type": "slide"
    },
    "tags": []
   },
   "outputs": [
    {
     "name": "stdout",
     "output_type": "stream",
     "text": [
      "142 ms ± 896 μs per loop (mean ± std. dev. of 7 runs, 10 loops each)\n"
     ]
    }
   ],
   "source": [
    "%%timeit\n",
    "\n",
    "np.square(million_records[\"y\", ..., 1:])"
   ]
  },
  {
   "cell_type": "markdown",
   "id": "9ee7c7de-bb09-4551-93be-ec9619a2dd20",
   "metadata": {
    "editable": true,
    "slideshow": {
     "slide_type": ""
    },
    "tags": []
   },
   "source": [
    "<br>"
   ]
  },
  {
   "cell_type": "code",
   "execution_count": 52,
   "id": "4f66f22e-2d5a-42b1-80f8-848dd480062d",
   "metadata": {
    "editable": true,
    "slideshow": {
     "slide_type": ""
    },
    "tags": []
   },
   "outputs": [],
   "source": [
    "million_dicts = ak.to_list(million_records)"
   ]
  },
  {
   "cell_type": "markdown",
   "id": "f602330d-7f67-4a1c-8d6f-1377b17c0680",
   "metadata": {
    "editable": true,
    "slideshow": {
     "slide_type": ""
    },
    "tags": []
   },
   "source": [
    "<br>"
   ]
  },
  {
   "cell_type": "code",
   "execution_count": 53,
   "id": "7bbe7d67-8bf8-4401-9469-757ac92a1205",
   "metadata": {
    "editable": true,
    "slideshow": {
     "slide_type": ""
    },
    "tags": []
   },
   "outputs": [
    {
     "name": "stdout",
     "output_type": "stream",
     "text": [
      "8.69 s ± 0 ns per loop (mean ± std. dev. of 1 run, 1 loop each)\n"
     ]
    }
   ],
   "source": [
    "%%timeit -n1 -r1\n",
    "\n",
    "output = []\n",
    "for sublist in million_dicts:\n",
    "    tmp1 = []\n",
    "    for record in sublist:\n",
    "        tmp2 = []\n",
    "        for number in record[\"y\"][1:]:\n",
    "            tmp2.append(np.square(number))\n",
    "        tmp1.append(tmp2)\n",
    "    output.append(tmp1)"
   ]
  },
  {
   "cell_type": "markdown",
   "id": "59fccb4a-0cac-4ad5-bb22-eb8def36af2c",
   "metadata": {
    "editable": true,
    "slideshow": {
     "slide_type": ""
    },
    "tags": []
   },
   "source": [
    "<br>"
   ]
  },
  {
   "cell_type": "markdown",
   "id": "6362e77c-b3c7-492c-99a7-b22cc3a3ff2e",
   "metadata": {
    "editable": true,
    "slideshow": {
     "slide_type": "fragment"
    },
    "tags": []
   },
   "source": [
    "Also, `million_records` uses 10× less memory than `million_dicts`."
   ]
  },
  {
   "cell_type": "markdown",
   "id": "4e2e60fb-fd58-4db5-b7b6-76f37eca4e4b",
   "metadata": {
    "editable": true,
    "slideshow": {
     "slide_type": "slide"
    },
    "tags": []
   },
   "source": [
    "## Python escape hatches: JIT-compilation"
   ]
  },
  {
   "cell_type": "markdown",
   "id": "4ff81263-dab8-4914-a2d5-8621c82c7d93",
   "metadata": {
    "editable": true,
    "slideshow": {
     "slide_type": ""
    },
    "tags": []
   },
   "source": [
    "<br>"
   ]
  },
  {
   "cell_type": "markdown",
   "id": "caf04ad7-c353-41f6-bb9a-7a04a439e9ab",
   "metadata": {
    "editable": true,
    "slideshow": {
     "slide_type": ""
    },
    "tags": []
   },
   "source": [
    "Despite being much faster than pure Python, array-computations are still a few times slower than they could be."
   ]
  },
  {
   "cell_type": "code",
   "execution_count": 59,
   "id": "66c5d6f8-a4de-4324-9e4a-d37fc8fa3887",
   "metadata": {
    "editable": true,
    "slideshow": {
     "slide_type": "slide"
    },
    "tags": []
   },
   "outputs": [],
   "source": [
    "def quadratic_formula(a: np.array, b: np.array, c: np.array) -> np.array:\n",
    "    return (-b + np.sqrt(b**2 - 4*a*c)) / (2*a)"
   ]
  },
  {
   "cell_type": "markdown",
   "id": "57253e00-0b20-4a3d-95ea-496bceb0fb43",
   "metadata": {
    "editable": true,
    "slideshow": {
     "slide_type": ""
    },
    "tags": []
   },
   "source": [
    "<br>"
   ]
  },
  {
   "cell_type": "markdown",
   "id": "7fa8a704-ad86-4acd-9642-7a871d85c976",
   "metadata": {
    "editable": true,
    "slideshow": {
     "slide_type": ""
    },
    "tags": []
   },
   "source": [
    "runs whole arrays through each operation before moving on to the next, like this:"
   ]
  },
  {
   "cell_type": "markdown",
   "id": "7ce7acd8-27a7-4278-b652-6fee62188d78",
   "metadata": {
    "editable": true,
    "slideshow": {
     "slide_type": ""
    },
    "tags": []
   },
   "source": [
    "<br>"
   ]
  },
  {
   "cell_type": "code",
   "execution_count": 60,
   "id": "102e4a94-82be-446d-96dd-261cabe1894e",
   "metadata": {
    "editable": true,
    "slideshow": {
     "slide_type": ""
    },
    "tags": []
   },
   "outputs": [],
   "source": [
    "def pedantic_quadratic_formula(a: np.array, b: np.array, c: np.array) -> np.array:\n",
    "    tmp1 = np.negative(b)            # -b\n",
    "    tmp2 = np.square(b)              # b**2\n",
    "    tmp3 = np.multiply(4, a)         # 4*a\n",
    "    tmp4 = np.multiply(tmp3, c)      # tmp3*c\n",
    "    del tmp3\n",
    "    tmp5 = np.subtract(tmp2, tmp4)   # tmp2 - tmp4\n",
    "    del tmp2, tmp4\n",
    "    tmp6 = np.sqrt(tmp5)             # sqrt(tmp5)\n",
    "    del tmp5\n",
    "    tmp7 = np.add(tmp1, tmp6)        # tmp1 + tmp6\n",
    "    del tmp1, tmp6\n",
    "    tmp8 = np.multiply(2, a)         # 2*a\n",
    "    return np.divide(tmp7, tmp8)     # tmp7 / tmp8"
   ]
  },
  {
   "cell_type": "code",
   "execution_count": 61,
   "id": "27892474-a8bb-4a31-810d-b358fea5f963",
   "metadata": {
    "editable": true,
    "slideshow": {
     "slide_type": "slide"
    },
    "tags": []
   },
   "outputs": [],
   "source": [
    "a = np.random.uniform(5, 10, 5_000_000)\n",
    "b = np.random.uniform(10, 20, 5_000_000)\n",
    "c = np.random.uniform(-0.1, 0.1, 5_000_000)"
   ]
  },
  {
   "cell_type": "markdown",
   "id": "e703d2c8-a5a5-4205-b4e4-ce0658cb21c8",
   "metadata": {
    "editable": true,
    "slideshow": {
     "slide_type": ""
    },
    "tags": []
   },
   "source": [
    "<br>"
   ]
  },
  {
   "cell_type": "code",
   "execution_count": 62,
   "id": "8f300f31-6d03-4070-91c3-2e863ac44020",
   "metadata": {
    "editable": true,
    "slideshow": {
     "slide_type": ""
    },
    "tags": []
   },
   "outputs": [
    {
     "name": "stdout",
     "output_type": "stream",
     "text": [
      "65.1 ms ± 646 μs per loop (mean ± std. dev. of 7 runs, 10 loops each)\n"
     ]
    }
   ],
   "source": [
    "%%timeit\n",
    "\n",
    "quadratic_formula(a, b, c)"
   ]
  },
  {
   "cell_type": "markdown",
   "id": "5808c8eb-796c-4372-aec7-0cc4130799af",
   "metadata": {
    "editable": true,
    "slideshow": {
     "slide_type": ""
    },
    "tags": []
   },
   "source": [
    "<br>"
   ]
  },
  {
   "cell_type": "code",
   "execution_count": 63,
   "id": "453b5429-e6d9-4238-b4b4-bbc85aa71c03",
   "metadata": {
    "editable": true,
    "slideshow": {
     "slide_type": ""
    },
    "tags": []
   },
   "outputs": [
    {
     "name": "stdout",
     "output_type": "stream",
     "text": [
      "64.1 ms ± 630 μs per loop (mean ± std. dev. of 7 runs, 10 loops each)\n"
     ]
    }
   ],
   "source": [
    "%%timeit\n",
    "\n",
    "pedantic_quadratic_formula(a, b, c)"
   ]
  },
  {
   "cell_type": "markdown",
   "id": "3777809e-c1ff-4a9c-83b3-667b06f9b5ba",
   "metadata": {
    "editable": true,
    "slideshow": {
     "slide_type": "slide"
    },
    "tags": []
   },
   "source": [
    "But if we compile the formula, we can make it only one loop over the arrays."
   ]
  },
  {
   "cell_type": "markdown",
   "id": "86798bb1-19c3-49b7-826d-14a1fd7c331c",
   "metadata": {
    "editable": true,
    "slideshow": {
     "slide_type": ""
    },
    "tags": []
   },
   "source": [
    "<br>"
   ]
  },
  {
   "cell_type": "code",
   "execution_count": 64,
   "id": "d68a4e36-70df-4fb7-b0ce-f1118570d187",
   "metadata": {
    "editable": true,
    "slideshow": {
     "slide_type": ""
    },
    "tags": []
   },
   "outputs": [
    {
     "name": "stdout",
     "output_type": "stream",
     "text": [
      "Writing quadratic_formula_pybind11.cpp\n"
     ]
    }
   ],
   "source": [
    "%%writefile quadratic_formula_pybind11.cpp\n",
    "\n",
    "#include <pybind11/pybind11.h>\n",
    "#include <pybind11/numpy.h>\n",
    "namespace py = pybind11;\n",
    "\n",
    "void run(py::array_t<double, py::array::c_style | py::array::forcecast> a_numpy,\n",
    "         py::array_t<double, py::array::c_style | py::array::forcecast> b_numpy,\n",
    "         py::array_t<double, py::array::c_style | py::array::forcecast> c_numpy,\n",
    "         py::array_t<double> output_numpy) {\n",
    "    const double* a = a_numpy.data();\n",
    "    const double* b = b_numpy.data();\n",
    "    const double* c = c_numpy.data();\n",
    "    double* output = output_numpy.mutable_data();\n",
    "    for (int i = 0;  i < output_numpy.size();  i++) {\n",
    "        output[i] = (-b[i] + sqrt(b[i]*b[i] - 4*a[i]*c[i])) / (2*a[i]);\n",
    "    }\n",
    "}\n",
    "\n",
    "PYBIND11_MODULE(quadratic_formula_pybind11, m) {\n",
    "    m.def(\"run\", &run);\n",
    "}"
   ]
  },
  {
   "cell_type": "code",
   "execution_count": 65,
   "id": "cc7db50f-b86e-4177-abdf-9ec8eb6388c6",
   "metadata": {
    "editable": true,
    "slideshow": {
     "slide_type": "slide"
    },
    "tags": []
   },
   "outputs": [],
   "source": [
    "import os\n",
    "import sys\n",
    "from pybind11 import get_include\n",
    "\n",
    "inc = \"-I \" + get_include()\n",
    "plat = \"-undefined dynamic_lookup\" if \"darwin\" in sys.platform else \"-fPIC\"\n",
    "pyinc = !python3-config --cflags"
   ]
  },
  {
   "cell_type": "markdown",
   "id": "62444bdc-a975-41f4-b859-8f414548f5ab",
   "metadata": {
    "editable": true,
    "slideshow": {
     "slide_type": ""
    },
    "tags": []
   },
   "source": [
    "<br>"
   ]
  },
  {
   "cell_type": "code",
   "execution_count": 66,
   "id": "a2b4825b-0d1b-443c-beba-1781aa368450",
   "metadata": {
    "editable": true,
    "slideshow": {
     "slide_type": ""
    },
    "tags": []
   },
   "outputs": [],
   "source": [
    "!c++ -std=c++11 quadratic_formula_pybind11.cpp -shared {inc} {pyinc.s} -o quadratic_formula_pybind11.so {plat}"
   ]
  },
  {
   "cell_type": "markdown",
   "id": "7c6d808e-70c1-4575-a655-98612a314054",
   "metadata": {
    "editable": true,
    "slideshow": {
     "slide_type": ""
    },
    "tags": []
   },
   "source": [
    "<br>"
   ]
  },
  {
   "cell_type": "code",
   "execution_count": 67,
   "id": "b01e630b-6768-4c1c-9e83-57c0ae506da3",
   "metadata": {
    "editable": true,
    "slideshow": {
     "slide_type": "fragment"
    },
    "tags": []
   },
   "outputs": [],
   "source": [
    "import quadratic_formula_pybind11"
   ]
  },
  {
   "cell_type": "markdown",
   "id": "15804f99-1aa0-4381-9f4a-0255ad0765ce",
   "metadata": {
    "editable": true,
    "slideshow": {
     "slide_type": ""
    },
    "tags": []
   },
   "source": [
    "<br>"
   ]
  },
  {
   "cell_type": "code",
   "execution_count": 70,
   "id": "613fa43b-b9ff-4827-929d-a60a9dd96d95",
   "metadata": {
    "editable": true,
    "slideshow": {
     "slide_type": ""
    },
    "tags": []
   },
   "outputs": [
    {
     "data": {
      "text/plain": [
       "array([-0.00608737, -0.00675183, -0.0018753 , ...,  0.0023538 ,\n",
       "        0.00079179, -0.00505813], shape=(5000000,))"
      ]
     },
     "execution_count": 70,
     "metadata": {},
     "output_type": "execute_result"
    }
   ],
   "source": [
    "output = np.zeros(len(a), dtype=np.float64)\n",
    "quadratic_formula_pybind11.run(a, b, c, output)\n",
    "output"
   ]
  },
  {
   "cell_type": "code",
   "execution_count": 69,
   "id": "46f8bbc6-a018-4618-a2a7-fbd05da4a498",
   "metadata": {
    "editable": true,
    "slideshow": {
     "slide_type": "slide"
    },
    "tags": []
   },
   "outputs": [
    {
     "name": "stdout",
     "output_type": "stream",
     "text": [
      "64.7 ms ± 349 μs per loop (mean ± std. dev. of 7 runs, 10 loops each)\n"
     ]
    }
   ],
   "source": [
    "%%timeit\n",
    "\n",
    "quadratic_formula(a, b, c)"
   ]
  },
  {
   "cell_type": "markdown",
   "id": "a540955a-f182-4b1a-a4fc-ad47e901a628",
   "metadata": {
    "editable": true,
    "slideshow": {
     "slide_type": ""
    },
    "tags": []
   },
   "source": [
    "<br>"
   ]
  },
  {
   "cell_type": "code",
   "execution_count": 71,
   "id": "d5536539-9ce2-4128-8cf8-5d1e84dc17e4",
   "metadata": {
    "editable": true,
    "slideshow": {
     "slide_type": ""
    },
    "tags": []
   },
   "outputs": [
    {
     "name": "stdout",
     "output_type": "stream",
     "text": [
      "18.9 ms ± 109 μs per loop (mean ± std. dev. of 7 runs, 100 loops each)\n"
     ]
    }
   ],
   "source": [
    "%%timeit\n",
    "\n",
    "output = np.zeros(len(a), dtype=np.float64)\n",
    "quadratic_formula_pybind11.run(a, b, c, output)"
   ]
  },
  {
   "cell_type": "markdown",
   "id": "77116fbc-da4a-4b9c-ae64-0bcfec8aeba7",
   "metadata": {
    "editable": true,
    "slideshow": {
     "slide_type": ""
    },
    "tags": []
   },
   "source": [
    "<br>"
   ]
  },
  {
   "cell_type": "markdown",
   "id": "b57f48dd-9423-4f17-880a-977affe26f3a",
   "metadata": {
    "editable": true,
    "slideshow": {
     "slide_type": "fragment"
    },
    "tags": []
   },
   "source": [
    "Accessing memory is slower than most mathematical operations, so doing a lot of math in one pass is better than doing a little math in many passes."
   ]
  },
  {
   "cell_type": "markdown",
   "id": "8a4ae775-594f-4a1b-96d9-e2ebe327e501",
   "metadata": {
    "editable": true,
    "slideshow": {
     "slide_type": "slide"
    },
    "tags": []
   },
   "source": [
    "Many, many libraries try to make it easy to integrate compilation into Python workflows."
   ]
  },
  {
   "cell_type": "markdown",
   "id": "bb2e98b7-97fa-4e9f-b619-871f8c202b8d",
   "metadata": {
    "editable": true,
    "slideshow": {
     "slide_type": ""
    },
    "tags": []
   },
   "source": [
    "<img src=\"img/history-of-bindings-2.svg\" style=\"width: 80%; margin: 1em auto;\">"
   ]
  },
  {
   "cell_type": "markdown",
   "id": "e1e919de-6696-410b-847c-b7f6e40b0b2d",
   "metadata": {
    "editable": true,
    "slideshow": {
     "slide_type": "slide"
    },
    "tags": []
   },
   "source": [
    "## Special topics: JIT-compilation for GPUs"
   ]
  },
  {
   "cell_type": "markdown",
   "id": "d7e73cf9-338f-4be7-8631-b7501c2e7427",
   "metadata": {
    "editable": true,
    "slideshow": {
     "slide_type": ""
    },
    "tags": []
   },
   "source": []
  },
  {
   "cell_type": "markdown",
   "id": "6d523a63-631e-4ee2-9361-e0eb53c15b35",
   "metadata": {
    "editable": true,
    "slideshow": {
     "slide_type": "slide"
    },
    "tags": []
   },
   "source": [
    "## Special topics: the Python garbage collector"
   ]
  },
  {
   "cell_type": "markdown",
   "id": "5136d21c-f609-4d51-9f82-f88ce70e6a7f",
   "metadata": {
    "editable": true,
    "slideshow": {
     "slide_type": ""
    },
    "tags": []
   },
   "source": []
  },
  {
   "cell_type": "markdown",
   "id": "aa809cad-7ecc-4ef3-a123-378ea661c744",
   "metadata": {
    "editable": true,
    "slideshow": {
     "slide_type": "slide"
    },
    "tags": []
   },
   "source": [
    "## Special topics: the Python GIL (Global Interpreter Lock)"
   ]
  },
  {
   "cell_type": "markdown",
   "id": "38e196e4-14d3-462c-833d-e35cb85fafc4",
   "metadata": {
    "editable": true,
    "slideshow": {
     "slide_type": ""
    },
    "tags": []
   },
   "source": []
  },
  {
   "cell_type": "markdown",
   "id": "76a719dc-b560-4183-b584-1ff4b4e64b8a",
   "metadata": {
    "editable": true,
    "slideshow": {
     "slide_type": "slide"
    },
    "tags": []
   },
   "source": [
    "## Special topics: memory mapping"
   ]
  },
  {
   "cell_type": "markdown",
   "id": "4d3deba6-70a6-4869-9866-35b06898fa2b",
   "metadata": {
    "editable": true,
    "slideshow": {
     "slide_type": ""
    },
    "tags": []
   },
   "source": []
  }
 ],
 "metadata": {
  "kernelspec": {
   "display_name": "Python 3 (ipykernel)",
   "language": "python",
   "name": "python3"
  },
  "language_info": {
   "codemirror_mode": {
    "name": "ipython",
    "version": 3
   },
   "file_extension": ".py",
   "mimetype": "text/x-python",
   "name": "python",
   "nbconvert_exporter": "python",
   "pygments_lexer": "ipython3",
   "version": "3.12.11"
  }
 },
 "nbformat": 4,
 "nbformat_minor": 5
}
